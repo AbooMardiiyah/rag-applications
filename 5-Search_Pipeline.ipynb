{
 "cells": [
  {
   "cell_type": "code",
   "execution_count": 190,
   "id": "0d6e574f-7a8e-4152-adc3-c3ffdc69cc56",
   "metadata": {},
   "outputs": [
    {
     "name": "stdout",
     "output_type": "stream",
     "text": [
      "The autoreload extension is already loaded. To reload it, use:\n",
      "  %reload_ext autoreload\n"
     ]
    }
   ],
   "source": [
    "%load_ext autoreload \n",
    "%autoreload 2\n",
    "\n",
    "from preprocessing import FileIO, Vectorizor\n",
    "from opensearch_interface import OpenSearchClient\n",
    "from reranker import ReRanker\n",
    "from index_templates import youtube_body\n",
    "\n",
    "import os\n",
    "import time\n",
    "from rich import print\n",
    "from dotenv import load_dotenv\n",
    "load_env=load_dotenv('./.env', override=True)\n",
    "from typing import Literal, List\n",
    "from tiktoken_functions import Tokenizer\n",
    "from openai_interface import GPT_Turbo\n",
    "from prompt_templates import question_answering_prompt, question_answering_system, test_prompt\n",
    "import tiktoken"
   ]
  },
  {
   "cell_type": "code",
   "execution_count": 191,
   "id": "88f06f16-41b3-454b-bb36-29fa5d739c26",
   "metadata": {},
   "outputs": [
    {
     "data": {
      "text/html": [
       "<pre style=\"white-space:pre;overflow-x:auto;line-height:normal;font-family:Menlo,'DejaVu Sans Mono',consolas,'Courier New',monospace\">\n",
       "Answer the following question by reviewing the blocks of context surrounded by triple back ticks:\n",
       "\n",
       "Question:\n",
       "\n",
       "How can one master the art of life?.\n",
       "\n",
       "```So, if you want to be an incredible musician, one of the things you're going to spend a lot of time on are \n",
       "scales. So, you're going to be, once you master that, you master the instrument and the finger movements, I'm \n",
       "assuming one's playing guitar in this analogy, and you master all of that stuff, then you can express yourself, \n",
       "then you can be creative, then you can, as you're saying, you know, create that art. So, when it comes to the art \n",
       "of living, what are the scales? What are the things that people can practice? Obviously, I've read your book, which\n",
       "is tremendous, Green Lights, for anybody that hasn't read it yet, really amazing. Listen to the audiobook. It is \n",
       "unbelievable.\n",
       "\n",
       "It goes from the intellect down into the body, and that's when it becomes an art. That's an individual practice, I \n",
       "think, for everybody. But what we're going to do on the 24th is dive deeper into the sort of the digits, the actual\n",
       "measurable tools of how to get more satisfaction out of life so you can get into the art of living, which is an \n",
       "art, you know, facts and fates. The facts and the science, that's the science of satisfaction. The fate and what \n",
       "the world's doing without our doing, whether our hand's on the wheel or not, where that road goes and how to \n",
       "navigate it, that becomes the art. But the two are not a contradiction. Now, when I think about the great artists \n",
       "and music, especially for somebody living in Austin, seems like a great example.\n",
       "\n",
       "And what do I care about in life? Yes. I was gonna ask you if you're talking to him about that, because when I \n",
       "think about the event that you have coming up, when I think about green lights, when I just think about the concept\n",
       "of the art of living, it's like, you've got three kids, you're gonna have to teach them the art of living. Like, \n",
       "how do you, what is that foundation that you lay for them? Because social media, man, that's, you wanna talk about \n",
       "something that'll mess up the art of living real fast, make you self-conscious in a way that's not useful, that \n",
       "will shape, at that age, oh my God, that will shape the sense of who you are, which then actually impacts who you \n",
       "become. Ooh. It's scary, man. Scary.\n",
       "\n",
       "I love it. The instilling values, what you're doing, what you did with the book, what you're doing now with the Art\n",
       "of Living, the event, which I think is really exciting. If you want to tell people when and where to go for that, \n",
       "it would be amazing. April 24th at <span style=\"color: #008080; text-decoration-color: #008080; font-weight: bold\">9</span> a.m. Pacific. Artoflivingevent.com. You can go there and reserve a spot now. \n",
       "It's going to be myself. It's going to be Tony Robbins, Dean Graziosi, Trent Shelton, Mary Ferleo. And we're going \n",
       "to get under the hood of Greenlight's approach and get into the process and hopefully share some tools with you \n",
       "individually that you can apply in your own life. To one, get on the road to the science of the satisfaction you're\n",
       "going to have to then get into the art of living.\n",
       "\n",
       "There are going to be hard times. And I've heard you say something that I think is very powerful, which is never \n",
       "see yourself as a victim. And so as we're all going through this life and things are getting difficult and you're \n",
       "trying to hold on to that image of what you could be, of what life could be, and you're getting lashed by, you \n",
       "know, the reaches of the jungle, but that whether it's religion or just what one ought to do, that you have a very \n",
       "clear vision of what it is on the other side to keep you pushing through all that. Now, you have an event coming up\n",
       "called the Art of Living. Is that what you mean? Oh, that's sure part of it. It's not that you have to be a \n",
       "believer in the art to achieve the art of living.```\n",
       "\n",
       "</pre>\n"
      ],
      "text/plain": [
       "\n",
       "Answer the following question by reviewing the blocks of context surrounded by triple back ticks:\n",
       "\n",
       "Question:\n",
       "\n",
       "How can one master the art of life?.\n",
       "\n",
       "```So, if you want to be an incredible musician, one of the things you're going to spend a lot of time on are \n",
       "scales. So, you're going to be, once you master that, you master the instrument and the finger movements, I'm \n",
       "assuming one's playing guitar in this analogy, and you master all of that stuff, then you can express yourself, \n",
       "then you can be creative, then you can, as you're saying, you know, create that art. So, when it comes to the art \n",
       "of living, what are the scales? What are the things that people can practice? Obviously, I've read your book, which\n",
       "is tremendous, Green Lights, for anybody that hasn't read it yet, really amazing. Listen to the audiobook. It is \n",
       "unbelievable.\n",
       "\n",
       "It goes from the intellect down into the body, and that's when it becomes an art. That's an individual practice, I \n",
       "think, for everybody. But what we're going to do on the 24th is dive deeper into the sort of the digits, the actual\n",
       "measurable tools of how to get more satisfaction out of life so you can get into the art of living, which is an \n",
       "art, you know, facts and fates. The facts and the science, that's the science of satisfaction. The fate and what \n",
       "the world's doing without our doing, whether our hand's on the wheel or not, where that road goes and how to \n",
       "navigate it, that becomes the art. But the two are not a contradiction. Now, when I think about the great artists \n",
       "and music, especially for somebody living in Austin, seems like a great example.\n",
       "\n",
       "And what do I care about in life? Yes. I was gonna ask you if you're talking to him about that, because when I \n",
       "think about the event that you have coming up, when I think about green lights, when I just think about the concept\n",
       "of the art of living, it's like, you've got three kids, you're gonna have to teach them the art of living. Like, \n",
       "how do you, what is that foundation that you lay for them? Because social media, man, that's, you wanna talk about \n",
       "something that'll mess up the art of living real fast, make you self-conscious in a way that's not useful, that \n",
       "will shape, at that age, oh my God, that will shape the sense of who you are, which then actually impacts who you \n",
       "become. Ooh. It's scary, man. Scary.\n",
       "\n",
       "I love it. The instilling values, what you're doing, what you did with the book, what you're doing now with the Art\n",
       "of Living, the event, which I think is really exciting. If you want to tell people when and where to go for that, \n",
       "it would be amazing. April 24th at \u001b[1;36m9\u001b[0m a.m. Pacific. Artoflivingevent.com. You can go there and reserve a spot now. \n",
       "It's going to be myself. It's going to be Tony Robbins, Dean Graziosi, Trent Shelton, Mary Ferleo. And we're going \n",
       "to get under the hood of Greenlight's approach and get into the process and hopefully share some tools with you \n",
       "individually that you can apply in your own life. To one, get on the road to the science of the satisfaction you're\n",
       "going to have to then get into the art of living.\n",
       "\n",
       "There are going to be hard times. And I've heard you say something that I think is very powerful, which is never \n",
       "see yourself as a victim. And so as we're all going through this life and things are getting difficult and you're \n",
       "trying to hold on to that image of what you could be, of what life could be, and you're getting lashed by, you \n",
       "know, the reaches of the jungle, but that whether it's religion or just what one ought to do, that you have a very \n",
       "clear vision of what it is on the other side to keep you pushing through all that. Now, you have an event coming up\n",
       "called the Art of Living. Is that what you mean? Oh, that's sure part of it. It's not that you have to be a \n",
       "believer in the art to achieve the art of living.```\n",
       "\n"
      ]
     },
     "metadata": {},
     "output_type": "display_data"
    }
   ],
   "source": [
    "print(test_prompt)"
   ]
  },
  {
   "cell_type": "code",
   "execution_count": 17,
   "id": "7aa3c9cf-a11c-4f6d-9c4d-b9853de4139e",
   "metadata": {},
   "outputs": [
    {
     "name": "stdout",
     "output_type": "stream",
     "text": [
      "health status index                              uuid                   pri rep docs.count docs.deleted store.size pri.store.size\n",
      "yellow open   kw-impact-theory                   2MjMun4bQYOoeUpv5UsJxg   3   1      33164            0     29.4mb         29.4mb\n",
      "yellow open   semantic-impact-theory-196         SY2nXyvmQ9i5LAS4hmn82g   3   1      37007            0    694.6mb        694.6mb\n",
      "yellow open   kw-impact-theory-196               vsuHausxRb6EjysQriOX5w   3   1      37007            0     30.5mb         30.5mb\n",
      "yellow open   paul-graham3                       -74ZPvxoSMmtCPSzAI9o1A   1   1         18            0    768.2kb        768.2kb\n",
      "yellow open   semantic-impact-theory-128         FJKOre3yT9aFxlF-_TvcTA   3   1      60380            0        1gb            1gb\n",
      "green  open   .opendistro_security               _QeSqO4CQN2IU8VpE9hnPw   1   0         10            0     75.6kb         75.6kb\n",
      "yellow open   semantic-impact-theory             5khyvtPQRASCMmhZiQTcVw   3   1      33164            0    331.5mb        331.5mb\n",
      "yellow open   semantic-impact-theory-evalution   OKatncGsSQipgrq3cRIU0g   1   1      17849            0    348.9mb        348.9mb\n",
      "yellow open   .plugins-ml-config                 IEeXrm-DRiOMm2qzo7PbqA   1   1          1            0      3.9kb          3.9kb\n",
      "green  open   .opensearch-observability          nN299E0QS9OvsRh_UcbJVQ   1   0          0            0       208b           208b\n",
      "yellow open   semantic-impact-theory-gte         HOfyQXRmQLaBYooeLgTcMg   3   1      42863            0      799mb          799mb\n",
      "yellow open   semantic-impact-theory-gte-doc-ids PFdAajMqTM2MB7M2dZcWSg   3   1      17849            0    350.5mb        350.5mb\n",
      "yellow open   kw-impact-theory-evalution         l-vdyoRQSbK4OcnK7ni7cg   1   1      17849            0     29.2mb         29.2mb\n",
      "yellow open   kw-impact-theory-128               a7g5VTfxRBSsQi9hcuJ1NQ   3   1      60380            0     32.7mb         32.7mb\n",
      "yellow open   impact-theory-minilm-196           FzbaKMvCT32zi-YVMdaWUw   3   1      37007            0    367.7mb        367.7mb\n",
      "\n"
     ]
    }
   ],
   "source": [
    "osclient=OpenSearchClient()\n",
    "reranker = ReRanker()\n",
    "osclient.show_indexes()"
   ]
  },
  {
   "cell_type": "code",
   "execution_count": 5,
   "id": "7e8561e3-c042-4d62-869a-82097a8df5f3",
   "metadata": {},
   "outputs": [],
   "source": [
    "index_name = 'impact-theory-minilm-196'"
   ]
  },
  {
   "cell_type": "code",
   "execution_count": 170,
   "id": "c7c5a33b-7c96-44d2-84e6-bc0d9f78e6b2",
   "metadata": {},
   "outputs": [],
   "source": [
    "query = 'How can one master the art of life?'"
   ]
  },
  {
   "cell_type": "code",
   "execution_count": 192,
   "id": "3d5eb4c7-661c-4e5a-8e21-10e4b9a33b67",
   "metadata": {},
   "outputs": [
    {
     "data": {
      "text/plain": [
       "<Encoding 'cl100k_base'>"
      ]
     },
     "execution_count": 192,
     "metadata": {},
     "output_type": "execute_result"
    },
    {
     "name": "stderr",
     "output_type": "stream",
     "text": [
      "Bad pipe message: %s [b'\\x93\\xdd\\x8e\\x032M\\xb9C\\xa0\\x85,\\xd3x\\xae\\x1f)c- wZA\\x9fuVY\\xb8\\xf1S\\x00\\xed\\xcf@B\\xe0\\xf3\\x80-\\x88\\x84\\xdb\\xa3T\\xdf\\x07\\xff']\n",
      "Bad pipe message: %s [b\"e\\x8f\\xac\\xd7\\xaaz\\xce\\x07TJL\\x98\\x0c`\\xf3V\\xc5C\\x00\\x00|\\xc0,\\xc00\\x00\\xa3\\x00\\x9f\\xcc\\xa9\\xcc\\xa8\\xcc\\xaa\\xc0\\xaf\\xc0\\xad\\xc0\\xa3\\xc0\\x9f\\xc0]\\xc0a\\xc0W\\xc0S\\xc0+\\xc0/\\x00\\xa2\\x00\\x9e\\xc0\\xae\\xc0\\xac\\xc0\\xa2\\xc0\\x9e\\xc0\\\\\\xc0`\\xc0V\\xc0R\\xc0$\\xc0(\\x00k\\x00j\\xc0#\\xc0'\\x00g\\x00@\\xc0\\n\\xc0\\x14\\x009\\x008\\xc0\\t\\xc0\\x13\\x003\\x002\\x00\\x9d\\xc0\\xa1\\xc0\\x9d\\xc0Q\\x00\\x9c\\xc0\\xa0\\xc0\\x9c\\xc0P\\x00=\\x00<\\x005\\x00/\\x00\\x9a\\x00\\x99\\xc0\\x07\\xc0\\x11\\x00\\x96\\x00\\x05\\x00\\xff\\x01\\x00\\x00j\\x00\\x00\\x00\\x0e\\x00\\x0c\\x00\\x00\\t127.0.0.1\\x00\\x0b\\x00\\x04\\x03\\x00\\x01\\x02\\x00\\n\\x00\\x0c\\x00\\n\\x00\\x1d\\x00\\x17\\x00\\x1e\\x00\\x19\\x00\\x18\\x00#\\x00\\x00\\x00\\x16\\x00\\x00\\x00\\x17\\x00\\x00\\x00\\r\\x000\\x00.\\x04\\x03\\x05\\x03\\x06\\x03\\x08\\x07\\x08\\x08\\x08\\t\\x08\\n\\x08\\x0b\\x08\\x04\\x08\\x05\\x08\\x06\\x04\\x01\\x05\\x01\\x06\\x01\\x03\\x03\\x02\\x03\\x03\\x01\\x02\\x01\\x03\\x02\\x02\\x02\"]\n",
      "Bad pipe message: %s [b'\\x05\\x02\\x06']\n",
      "Bad pipe message: %s [b\"yp\\xa9\\x1f\\x809U%R\\xff\\xc5\\xa1\\x1b\\x1e\\xceINx\\x00\\x00\\xa6\\xc0,\\xc00\\x00\\xa3\\x00\\x9f\\xcc\\xa9\\xcc\\xa8\\xcc\\xaa\\xc0\\xaf\\xc0\\xad\\xc0\\xa3\\xc0\\x9f\\xc0]\\xc0a\\xc0W\\xc0S\\xc0+\\xc0/\\x00\\xa2\\x00\\x9e\\xc0\\xae\\xc0\\xac\\xc0\\xa2\\xc0\\x9e\\xc0\\\\\\xc0`\\xc0V\\xc0R\\xc0$\\xc0(\\x00k\\x00j\\xc0s\\xc0w\\x00\\xc4\\x00\\xc3\\xc0#\\xc0'\\x00g\\x00@\\xc0r\\xc0v\\x00\\xbe\\x00\\xbd\\xc0\\n\\xc0\\x14\\x009\\x008\\x00\\x88\\x00\\x87\\xc0\\t\\xc0\\x13\\x003\\x002\\x00\\x9a\\x00\\x99\\x00E\\x00D\\xc0\\x07\\xc0\\x11\\xc0\\x08\\xc0\\x12\\x00\\x16\\x00\\x13\\x00\\x9d\\xc0\\xa1\\xc0\\x9d\\xc0Q\\x00\\x9c\\xc0\\xa0\\xc0\\x9c\\xc0P\\x00=\\x00\\xc0\\x00<\\x00\\xba\\x005\\x00\\x84\\x00/\\x00\\x96\\x00A\\x00\"]\n",
      "Bad pipe message: %s [b'\\n\\x00\\xff\\x01']\n",
      "Bad pipe message: %s [b'\\x90#l)uy\\xe8\\xcc\\x94\\xdf\\x80K\\x14\\xb4\\xfd\\x0c\\x87j\\x00\\x00\\xa2\\xc0\\x14\\xc0\\n\\x009\\x008\\x007\\x006\\x00\\x88\\x00\\x87\\x00\\x86\\x00\\x85\\xc0\\x19\\x00:\\x00\\x89\\xc0\\x0f\\xc0\\x05\\x005\\x00\\x84\\xc0\\x13\\xc0\\t\\x003\\x002\\x001\\x000\\x00\\x9a\\x00\\x99\\x00\\x98\\x00\\x97\\x00E\\x00D\\x00C\\x00B\\xc0\\x18\\x004\\x00\\x9b\\x00F\\xc0\\x0e\\xc0\\x04\\x00/\\x00\\x96\\x00A\\x00\\x07\\xc0\\x11\\xc0\\x07\\xc0\\x16\\x00\\x18\\xc0\\x0c\\xc0\\x02\\x00\\x05\\x00\\x04\\xc0\\x12\\xc0\\x08\\x00\\x16\\x00\\x13\\x00\\x10\\x00\\r\\xc0\\x17\\x00\\x1b\\xc0\\r\\xc0\\x03\\x00\\n\\x00\\x15\\x00\\x12\\x00\\x0f\\x00\\x0c\\x00\\x1a\\x00\\t\\x00\\x14\\x00\\x11\\x00\\x19\\x00\\x08\\x00\\x06\\x00\\x17\\x00\\x03\\xc0\\x10\\xc0\\x06\\xc0\\x15\\xc0\\x0b\\xc0\\x01\\x00\\x02\\x00\\x01\\x00\\xff\\x02\\x01\\x00\\x00C\\x00\\x00\\x00\\x0e\\x00\\x0c\\x00\\x00\\t127.0.0.1\\x00\\x0b\\x00\\x04\\x03\\x00\\x01\\x02\\x00\\n\\x00\\x1c\\x00\\x1a\\x00\\x17\\x00\\x19\\x00\\x1c\\x00\\x1b\\x00', b'\\x1a\\x00\\x16\\x00\\x0e\\x00\\r\\x00\\x0b\\x00\\x0c\\x00\\t\\x00\\n\\x00#\\x00\\x00\\x00\\x0f\\x00\\x01']\n",
      "Bad pipe message: %s [b'', b'\\x00\\x02']\n",
      "Bad pipe message: %s [b'\\x19b\\xc1\\x11K\\x08C\\xf1\\x97\\xc5\\xc4\\xcax\\xd3\\xaa\\x90>]\\x00\\x00>\\xc0\\x14\\xc0\\n\\x009\\x008\\x007\\x006\\xc0\\x0f\\xc0\\x05\\x005\\xc0\\x13\\xc0\\t\\x003\\x002\\x001\\x000\\xc0\\x0e\\xc0\\x04\\x00/\\x00\\x9a\\x00\\x99\\x00\\x98\\x00\\x97\\x00\\x96\\x00\\x07\\xc0\\x11']\n",
      "Bad pipe message: %s [b'#\\x86B\\xe7\\x1f\\x0648\\xdd\\x8cY#7\\xcc!\\xd7[\\x0e\\x00\\x00\\xa2\\xc0\\x14\\xc0\\n\\x009\\x008\\x007\\x006\\x00\\x88\\x00\\x87\\x00\\x86\\x00\\x85\\xc0\\x19\\x00:\\x00\\x89\\xc0\\x0f\\xc0\\x05\\x005\\x00\\x84\\xc0\\x13\\xc0\\t\\x003\\x002\\x001\\x000\\x00\\x9a\\x00\\x99\\x00\\x98\\x00\\x97\\x00E\\x00D\\x00C\\x00B\\xc0\\x18\\x004\\x00\\x9b\\x00F\\xc0\\x0e\\xc0\\x04\\x00/\\x00\\x96\\x00A\\x00\\x07\\xc0\\x11\\xc0\\x07\\xc0\\x16\\x00\\x18\\xc0\\x0c\\xc0\\x02\\x00\\x05\\x00\\x04\\xc0\\x12\\xc0\\x08\\x00\\x16\\x00\\x13\\x00\\x10\\x00\\r\\xc0\\x17\\x00\\x1b\\xc0\\r\\xc0\\x03\\x00\\n\\x00\\x15\\x00\\x12\\x00\\x0f\\x00\\x0c\\x00\\x1a\\x00\\t\\x00\\x14\\x00\\x11\\x00\\x19\\x00\\x08\\x00\\x06\\x00\\x17\\x00\\x03\\xc0\\x10\\xc0', b'\\x15\\xc0\\x0b\\xc0\\x01']\n",
      "Bad pipe message: %s [b\"EIH\\xbfp\\x90Z\\xb6\\x05\\xa5\\xf7w\\x8b&p\\xf6\\xae\\x07\\x00\\x00\\x86\\xc00\\xc0,\\xc0(\\xc0$\\xc0\\x14\\xc0\\n\\x00\\xa5\\x00\\xa3\\x00\\xa1\\x00\\x9f\\x00k\\x00j\\x00i\\x00h\\x009\\x008\\x007\\x006\\xc02\\xc0.\\xc0*\\xc0&\\xc0\\x0f\\xc0\\x05\\x00\\x9d\\x00=\\x005\\xc0/\\xc0+\\xc0'\\xc0#\\xc0\\x13\\xc0\\t\\x00\\xa4\\x00\\xa2\\x00\\xa0\\x00\\x9e\\x00g\\x00@\\x00?\\x00>\\x003\\x002\\x001\\x000\\xc01\\xc0-\\xc0)\\xc0%\\xc0\\x0e\\xc0\\x04\\x00\\x9c\\x00<\\x00/\\x00\\x9a\\x00\\x99\\x00\\x98\\x00\\x97\\x00\\x96\\x00\\x07\\xc0\\x11\\xc0\\x07\\xc0\\x0c\\xc0\\x02\\x00\\x05\\x00\\x04\\x00\\xff\\x02\\x01\\x00\\x00g\\x00\\x00\\x00\\x0e\\x00\\x0c\\x00\\x00\\t127.0.0\"]\n",
      "Bad pipe message: %s [b'\\x00\\x0b\\x00\\x04\\x03\\x00\\x01\\x02\\x00\\n\\x00\\x1c\\x00\\x1a\\x00\\x17\\x00\\x19\\x00\\x1c\\x00\\x1b\\x00\\x18\\x00\\x1a\\x00\\x16\\x00\\x0e\\x00\\r\\x00\\x0b\\x00\\x0c\\x00\\t\\x00\\n\\x00#\\x00\\x00\\x00', b' \\x00\\x1e\\x06\\x01\\x06\\x02\\x06\\x03\\x05\\x01\\x05']\n",
      "Bad pipe message: %s [b'\\x03', b'\\x04\\x02\\x04', b'\\x01\\x03', b'\\x03', b'\\x02', b'\\x03']\n",
      "Bad pipe message: %s [b\"K1Z!\\x02\\x83\\x9f\\xf6\\x99#/\\x95\\xb0%\\x0bg\\xf4I\\x00\\x00\\xf4\\xc00\\xc0,\\xc0(\\xc0$\\xc0\\x14\\xc0\\n\\x00\\xa5\\x00\\xa3\\x00\\xa1\\x00\\x9f\\x00k\\x00j\\x00i\\x00h\\x009\\x008\\x007\\x006\\x00\\x88\\x00\\x87\\x00\\x86\\x00\\x85\\xc0\\x19\\x00\\xa7\\x00m\\x00:\\x00\\x89\\xc02\\xc0.\\xc0*\\xc0&\\xc0\\x0f\\xc0\\x05\\x00\\x9d\\x00=\\x005\\x00\\x84\\xc0/\\xc0+\\xc0'\\xc0#\\xc0\\x13\\xc0\\t\\x00\\xa4\\x00\\xa2\\x00\\xa0\\x00\\x9e\\x00g\\x00@\\x00?\\x00>\\x003\\x002\\x001\\x000\\x00\\x9a\\x00\\x99\\x00\\x98\\x00\\x97\\x00E\\x00D\\x00C\\x00B\\xc0\\x18\\x00\\xa6\\x00l\\x004\\x00\\x9b\\x00F\\xc01\\xc0-\\xc0)\\xc0%\\xc0\\x0e\\xc0\\x04\\x00\\x9c\\x00<\\x00/\\x00\\x96\\x00A\\x00\\x07\\xc0\\x11\\xc0\\x07\\xc0\\x16\\x00\\x18\\xc0\\x0c\\xc0\\x02\\x00\\x05\\x00\\x04\\xc0\\x12\\xc0\\x08\\x00\\x16\\x00\\x13\\x00\\x10\\x00\\r\\xc0\\x17\"]\n"
     ]
    }
   ],
   "source": [
    "tokenizer"
   ]
  },
  {
   "cell_type": "code",
   "execution_count": 171,
   "id": "140b1c47-47e6-4fc8-a6d4-48c03cd5f8a4",
   "metadata": {},
   "outputs": [],
   "source": [
    "def retrieve_pipeline(query: str, \n",
    "                      index_name: str,\n",
    "                      search_type: Literal['kw', 'vector', 'hybrid'], \n",
    "                      retriever: OpenSearchClient, \n",
    "                      reranker: ReRanker,\n",
    "                      tokenizer: tiktoken.core.Encoding,\n",
    "                      kw_size: int=50,\n",
    "                      vec_size: int=50,\n",
    "                      top_k: int=4,\n",
    "                      rerank_threshold: float=None,\n",
    "                      token_threshold: int=4000,\n",
    "                      return_text: bool=True,\n",
    "                      verbose: bool=True\n",
    "                      ) -> List[dict]:\n",
    "     \n",
    "    if search_type == 'kw':\n",
    "        results = retriever.keyword_search(query=query, index=index_name, size=kw_size)\n",
    "    elif search_type == 'vector':\n",
    "        results = retriever.vector_search(query=query, index=index_name, size=vec_size)\n",
    "    elif search_type == 'hybrid':\n",
    "        results = retriever.hybrid_search(query=query, \n",
    "                                          kw_index=index_name, \n",
    "                                          vec_index=index_name, \n",
    "                                          kw_size=kw_size,\n",
    "                                          vec_size=vec_size)\n",
    "        \n",
    "    reranked = reranker.rerank(results, query, top_k=top_k, threshold=rerank_threshold)\n",
    "    text = ' '.join([r['_source']['content'] for r in reranked])\n",
    "    token_count = len(tokenizer.encode_batch(text))\n",
    "    if verbose:\n",
    "        print(f'Total Initial Token Count: {token_count}')\n",
    "    if token_count > token_threshold:\n",
    "        print('Token count exceeds token count threshold, reducing size of returned results below token threshold')\n",
    "        while token_count > token_threshold:\n",
    "            num_results = len(reranked)\n",
    "            reranked = reranked[:num_results-1]\n",
    "            text = ' '.join([r['_source']['content'] for r in reranked])\n",
    "            token_count = len(tokenizer.encode_batch(text))\n",
    "        if verbose:\n",
    "            print(f'Total Final Token Count: {token_count}')\n",
    "    if return_text:\n",
    "        return text\n",
    "    return reranked"
   ]
  },
  {
   "cell_type": "code",
   "execution_count": 172,
   "id": "11f8f49a-76cd-4815-a1bb-e43425e41c83",
   "metadata": {},
   "outputs": [
    {
     "data": {
      "text/html": [
       "<pre style=\"white-space:pre;overflow-x:auto;line-height:normal;font-family:Menlo,'DejaVu Sans Mono',consolas,'Courier New',monospace\">Total Initial Token Count: <span style=\"color: #008080; text-decoration-color: #008080; font-weight: bold\">3627</span>\n",
       "</pre>\n"
      ],
      "text/plain": [
       "Total Initial Token Count: \u001b[1;36m3627\u001b[0m\n"
      ]
     },
     "metadata": {},
     "output_type": "display_data"
    }
   ],
   "source": [
    "resp = retrieve_pipeline(query, index_name, 'hybrid', osclient, reranker, tokenizer, top_k=5, return_text=False)"
   ]
  },
  {
   "cell_type": "code",
   "execution_count": 178,
   "id": "baf75b58-cad8-4042-b06d-cc69197a8434",
   "metadata": {},
   "outputs": [],
   "source": [
    "gpt = GPT_Turbo()"
   ]
  },
  {
   "cell_type": "code",
   "execution_count": 179,
   "id": "c542f455-64f4-4b80-a0da-0871cf19f580",
   "metadata": {},
   "outputs": [],
   "source": [
    "def generate_prompt(base_prompt: str, query: str, results: List[dict]) -> str:\n",
    "    contexts = '\\n\\n'.join([r['_source']['content'] for r in results])\n",
    "    prompt = base_prompt.format(question=query, context=contexts)\n",
    "    return prompt\n",
    "    \n",
    "    \n"
   ]
  },
  {
   "cell_type": "code",
   "execution_count": 180,
   "id": "322a0675-474e-4305-a20d-a5f7d9df2a15",
   "metadata": {},
   "outputs": [
    {
     "data": {
      "text/html": [
       "<pre style=\"white-space:pre;overflow-x:auto;line-height:normal;font-family:Menlo,'DejaVu Sans Mono',consolas,'Courier New',monospace\">\n",
       "Answer the following question by reviewing the blocks of context surrounded by triple back ticks:\n",
       "\n",
       "Question:\n",
       "\n",
       "How can one master the art of life?.\n",
       "\n",
       "```So, if you want to be an incredible musician, one of the things you're going to spend a lot of time on are \n",
       "scales. So, you're going to be, once you master that, you master the instrument and the finger movements, I'm \n",
       "assuming one's playing guitar in this analogy, and you master all of that stuff, then you can express yourself, \n",
       "then you can be creative, then you can, as you're saying, you know, create that art. So, when it comes to the art \n",
       "of living, what are the scales? What are the things that people can practice? Obviously, I've read your book, which\n",
       "is tremendous, Green Lights, for anybody that hasn't read it yet, really amazing. Listen to the audiobook. It is \n",
       "unbelievable.\n",
       "\n",
       "It goes from the intellect down into the body, and that's when it becomes an art. That's an individual practice, I \n",
       "think, for everybody. But what we're going to do on the 24th is dive deeper into the sort of the digits, the actual\n",
       "measurable tools of how to get more satisfaction out of life so you can get into the art of living, which is an \n",
       "art, you know, facts and fates. The facts and the science, that's the science of satisfaction. The fate and what \n",
       "the world's doing without our doing, whether our hand's on the wheel or not, where that road goes and how to \n",
       "navigate it, that becomes the art. But the two are not a contradiction. Now, when I think about the great artists \n",
       "and music, especially for somebody living in Austin, seems like a great example.\n",
       "\n",
       "And what do I care about in life? Yes. I was gonna ask you if you're talking to him about that, because when I \n",
       "think about the event that you have coming up, when I think about green lights, when I just think about the concept\n",
       "of the art of living, it's like, you've got three kids, you're gonna have to teach them the art of living. Like, \n",
       "how do you, what is that foundation that you lay for them? Because social media, man, that's, you wanna talk about \n",
       "something that'll mess up the art of living real fast, make you self-conscious in a way that's not useful, that \n",
       "will shape, at that age, oh my God, that will shape the sense of who you are, which then actually impacts who you \n",
       "become. Ooh. It's scary, man. Scary.\n",
       "\n",
       "I love it. The instilling values, what you're doing, what you did with the book, what you're doing now with the Art\n",
       "of Living, the event, which I think is really exciting. If you want to tell people when and where to go for that, \n",
       "it would be amazing. April 24th at <span style=\"color: #008080; text-decoration-color: #008080; font-weight: bold\">9</span> a.m. Pacific. Artoflivingevent.com. You can go there and reserve a spot now. \n",
       "It's going to be myself. It's going to be Tony Robbins, Dean Graziosi, Trent Shelton, Mary Ferleo. And we're going \n",
       "to get under the hood of Greenlight's approach and get into the process and hopefully share some tools with you \n",
       "individually that you can apply in your own life. To one, get on the road to the science of the satisfaction you're\n",
       "going to have to then get into the art of living.\n",
       "\n",
       "There are going to be hard times. And I've heard you say something that I think is very powerful, which is never \n",
       "see yourself as a victim. And so as we're all going through this life and things are getting difficult and you're \n",
       "trying to hold on to that image of what you could be, of what life could be, and you're getting lashed by, you \n",
       "know, the reaches of the jungle, but that whether it's religion or just what one ought to do, that you have a very \n",
       "clear vision of what it is on the other side to keep you pushing through all that. Now, you have an event coming up\n",
       "called the Art of Living. Is that what you mean? Oh, that's sure part of it. It's not that you have to be a \n",
       "believer in the art to achieve the art of living.```\n",
       "\n",
       "</pre>\n"
      ],
      "text/plain": [
       "\n",
       "Answer the following question by reviewing the blocks of context surrounded by triple back ticks:\n",
       "\n",
       "Question:\n",
       "\n",
       "How can one master the art of life?.\n",
       "\n",
       "```So, if you want to be an incredible musician, one of the things you're going to spend a lot of time on are \n",
       "scales. So, you're going to be, once you master that, you master the instrument and the finger movements, I'm \n",
       "assuming one's playing guitar in this analogy, and you master all of that stuff, then you can express yourself, \n",
       "then you can be creative, then you can, as you're saying, you know, create that art. So, when it comes to the art \n",
       "of living, what are the scales? What are the things that people can practice? Obviously, I've read your book, which\n",
       "is tremendous, Green Lights, for anybody that hasn't read it yet, really amazing. Listen to the audiobook. It is \n",
       "unbelievable.\n",
       "\n",
       "It goes from the intellect down into the body, and that's when it becomes an art. That's an individual practice, I \n",
       "think, for everybody. But what we're going to do on the 24th is dive deeper into the sort of the digits, the actual\n",
       "measurable tools of how to get more satisfaction out of life so you can get into the art of living, which is an \n",
       "art, you know, facts and fates. The facts and the science, that's the science of satisfaction. The fate and what \n",
       "the world's doing without our doing, whether our hand's on the wheel or not, where that road goes and how to \n",
       "navigate it, that becomes the art. But the two are not a contradiction. Now, when I think about the great artists \n",
       "and music, especially for somebody living in Austin, seems like a great example.\n",
       "\n",
       "And what do I care about in life? Yes. I was gonna ask you if you're talking to him about that, because when I \n",
       "think about the event that you have coming up, when I think about green lights, when I just think about the concept\n",
       "of the art of living, it's like, you've got three kids, you're gonna have to teach them the art of living. Like, \n",
       "how do you, what is that foundation that you lay for them? Because social media, man, that's, you wanna talk about \n",
       "something that'll mess up the art of living real fast, make you self-conscious in a way that's not useful, that \n",
       "will shape, at that age, oh my God, that will shape the sense of who you are, which then actually impacts who you \n",
       "become. Ooh. It's scary, man. Scary.\n",
       "\n",
       "I love it. The instilling values, what you're doing, what you did with the book, what you're doing now with the Art\n",
       "of Living, the event, which I think is really exciting. If you want to tell people when and where to go for that, \n",
       "it would be amazing. April 24th at \u001b[1;36m9\u001b[0m a.m. Pacific. Artoflivingevent.com. You can go there and reserve a spot now. \n",
       "It's going to be myself. It's going to be Tony Robbins, Dean Graziosi, Trent Shelton, Mary Ferleo. And we're going \n",
       "to get under the hood of Greenlight's approach and get into the process and hopefully share some tools with you \n",
       "individually that you can apply in your own life. To one, get on the road to the science of the satisfaction you're\n",
       "going to have to then get into the art of living.\n",
       "\n",
       "There are going to be hard times. And I've heard you say something that I think is very powerful, which is never \n",
       "see yourself as a victim. And so as we're all going through this life and things are getting difficult and you're \n",
       "trying to hold on to that image of what you could be, of what life could be, and you're getting lashed by, you \n",
       "know, the reaches of the jungle, but that whether it's religion or just what one ought to do, that you have a very \n",
       "clear vision of what it is on the other side to keep you pushing through all that. Now, you have an event coming up\n",
       "called the Art of Living. Is that what you mean? Oh, that's sure part of it. It's not that you have to be a \n",
       "believer in the art to achieve the art of living.```\n",
       "\n"
      ]
     },
     "metadata": {},
     "output_type": "display_data"
    }
   ],
   "source": [
    "prompt = generate_prompt(base_prompt=question_answering_prompt, query=query, results=resp)\n",
    "print(prompt)"
   ]
  },
  {
   "cell_type": "code",
   "execution_count": null,
   "id": "a197a4b6-735a-4ca1-b5b1-0e6c7808301c",
   "metadata": {},
   "outputs": [],
   "source": [
    "# report = []\n",
    "\n",
    "# for resp in gpt.get_completion_from_messages(prompt=prompt, \n",
    "#                                             system_message=question_answering_system, \n",
    "#                                             max_tokens=250, \n",
    "#                                             stream=True,\n",
    "#                                             show_response=True):\n",
    "#             # join method to concatenate the elements of the list \n",
    "#             # into a single string, \n",
    "#             # then strip out any empty strings\n",
    "#             report.append(resp.choices[0].delta.content)\n",
    "#             result = \"\".join(report).strip()\n",
    "#             result = result.replace(\"\\n\", \"\")        \n",
    "#             # res_box.markdown(f'*{result}*') \n",
    "#             print(result)"
   ]
  },
  {
   "cell_type": "code",
   "execution_count": null,
   "id": "944b3d90-c0f5-4fc9-8fa4-37b1c16bdbf1",
   "metadata": {},
   "outputs": [],
   "source": []
  },
  {
   "cell_type": "code",
   "execution_count": null,
   "id": "0144a14a-ad37-4227-bbbb-7b242167c625",
   "metadata": {},
   "outputs": [],
   "source": []
  },
  {
   "cell_type": "code",
   "execution_count": null,
   "id": "108bb68d-9762-4695-afe3-07b9cffba282",
   "metadata": {},
   "outputs": [],
   "source": []
  },
  {
   "cell_type": "code",
   "execution_count": 102,
   "id": "992005a3-ef54-4488-aa01-b0510d084ca5",
   "metadata": {},
   "outputs": [
    {
     "data": {
      "text/html": [
       "<pre style=\"white-space:pre;overflow-x:auto;line-height:normal;font-family:Menlo,'DejaVu Sans Mono',consolas,'Courier New',monospace\">\n",
       "Using only the provided context surrounded by triple back ticks, answer the following question <span style=\"font-weight: bold\">{</span>question<span style=\"font-weight: bold\">}</span>.\n",
       "If the answer is not provided in the context then respond with: <span style=\"color: #008000; text-decoration-color: #008000\">\"Answer not found in context.\"</span>\n",
       "```<span style=\"font-weight: bold\">{</span>context<span style=\"font-weight: bold\">}</span>```\n",
       "\n",
       "</pre>\n"
      ],
      "text/plain": [
       "\n",
       "Using only the provided context surrounded by triple back ticks, answer the following question \u001b[1m{\u001b[0mquestion\u001b[1m}\u001b[0m.\n",
       "If the answer is not provided in the context then respond with: \u001b[32m\"Answer not found in context.\"\u001b[0m\n",
       "```\u001b[1m{\u001b[0mcontext\u001b[1m}\u001b[0m```\n",
       "\n"
      ]
     },
     "metadata": {},
     "output_type": "display_data"
    }
   ],
   "source": [
    "print(question_answering_prompt.format(question=query, context="
   ]
  },
  {
   "cell_type": "code",
   "execution_count": null,
   "id": "135f1c9b-fa2f-41e7-b55c-ea81e3d9a0cf",
   "metadata": {},
   "outputs": [],
   "source": []
  }
 ],
 "metadata": {
  "kernelspec": {
   "display_name": "openai",
   "language": "python",
   "name": "openai"
  },
  "language_info": {
   "codemirror_mode": {
    "name": "ipython",
    "version": 3
   },
   "file_extension": ".py",
   "mimetype": "text/x-python",
   "name": "python",
   "nbconvert_exporter": "python",
   "pygments_lexer": "ipython3",
   "version": "3.9.17"
  }
 },
 "nbformat": 4,
 "nbformat_minor": 5
}
