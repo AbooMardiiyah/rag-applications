{
 "cells": [
  {
   "cell_type": "code",
   "execution_count": 35,
   "id": "88728355-dd6c-4c08-8ad8-ac7f85e6af68",
   "metadata": {},
   "outputs": [
    {
     "name": "stdout",
     "output_type": "stream",
     "text": [
      "The autoreload extension is already loaded. To reload it, use:\n",
      "  %reload_ext autoreload\n"
     ]
    }
   ],
   "source": [
    "%load_ext autoreload\n",
    "%autoreload 2"
   ]
  },
  {
   "cell_type": "code",
   "execution_count": 36,
   "id": "68f03b28-68e1-45c5-9ec0-99d9a32d0392",
   "metadata": {},
   "outputs": [],
   "source": [
    "#external files\n",
    "from preprocessing import FileIO\n",
    "from openai_interface import GPT_Turbo\n",
    "from weaviate_interface import WeaviateClient\n",
    "from retrieval_evaluation import run_evaluation, calc_hit_rate_scores\n",
    "from reranker import ReRanker\n",
    "\n",
    "#standard library imports\n",
    "import json\n",
    "import time\n",
    "import os\n",
    "from math import ceil\n",
    "from datetime import datetime\n",
    "from typing import List, Any, Dict, Tuple, Union\n",
    "\n",
    "#misc\n",
    "import numpy as np\n",
    "from tqdm import tqdm\n",
    "from dotenv import load_dotenv\n",
    "env = load_dotenv('./.env', override=True)"
   ]
  },
  {
   "cell_type": "markdown",
   "id": "959bb049-ca24-42ef-9458-72fb687fe27d",
   "metadata": {},
   "source": [
    "### Ingest data"
   ]
  },
  {
   "cell_type": "code",
   "execution_count": 3,
   "id": "3e61a946-f5b2-4a7e-80b6-1dc5bdaa4cb5",
   "metadata": {},
   "outputs": [
    {
     "name": "stdout",
     "output_type": "stream",
     "text": [
      "Shape of data: (26648, 16)\n",
      "Memory Usage: 3.08+ MB\n"
     ]
    }
   ],
   "source": [
    "data_path = './practice_data/impact_theory_minilm_256.parquet'\n",
    "data = FileIO().load_parquet(data_path)"
   ]
  },
  {
   "cell_type": "markdown",
   "id": "88a130cd-03de-4390-9882-3189c2ca9384",
   "metadata": {},
   "source": [
    "### Randomly select 100 chunks for Q/A pairs"
   ]
  },
  {
   "cell_type": "code",
   "execution_count": 4,
   "id": "c379516f-ee58-4445-8d2e-0ec8241bb676",
   "metadata": {},
   "outputs": [],
   "source": [
    "import random"
   ]
  },
  {
   "cell_type": "code",
   "execution_count": 5,
   "id": "13b33379-f58b-45d9-9c72-d31f0537149b",
   "metadata": {},
   "outputs": [],
   "source": [
    "def sample_data(data: List[dict], sample_size: int):\n",
    "    sample = random.sample(data, sample_size)\n",
    "    contents = [(d['doc_id'], d['content']) for d in sample]\n",
    "    return contents"
   ]
  },
  {
   "cell_type": "code",
   "execution_count": 6,
   "id": "a8dc7bf0-8f53-4603-ba22-d05a7a6dd82f",
   "metadata": {},
   "outputs": [],
   "source": [
    "def get_meta(sample: List[dict], key: str=\"doc_id\") -> List[Any]:\n",
    "    return [d[key] for d in sample]"
   ]
  },
  {
   "cell_type": "code",
   "execution_count": 7,
   "id": "a89f27c6-87ca-4481-a74d-b11044a1ece5",
   "metadata": {},
   "outputs": [],
   "source": [
    "def get_sample(doc_id: str, corpus: List[dict], full_dict: bool=False):\n",
    "    result = [d for d in corpus if d['doc_id'] == doc_id][0]\n",
    "    if full_dict: return result\n",
    "    else: return result['content']"
   ]
  },
  {
   "cell_type": "code",
   "execution_count": 8,
   "id": "71526d96-b5d4-4ce0-8e18-5b5c64eea9c8",
   "metadata": {},
   "outputs": [
    {
     "data": {
      "text/plain": [
       "\"So I'll follow up on that in a minute but I Think you're bang on especially with the idea of identity people end up getting tied up in that but I've heard you say that when it comes to Being right when it comes to people trying to get to the truth that some people are saying no no, like truth is just a power game and even even this idea that there is something right or something better than another thing is is just a structure in essence of oppression So when you said that I think everybody wants the truth Is that true? Well, you're talking about I was probably referring to a very specific ideology kind of this postmodern line of thought which says there is no such Thing as objective truth and then everyone that that everyone has their truth So that's that's a very specific kind of very kind of far-left kind of radical line of thought Which I think I think this is sorry finish sex. That sounds very interesting Oh saying I think it's I think it's perfectly interesting the concept that You know when you have when you live a life as person a versus person B You have total different subjective experiences. Yes. I I think that's interesting interesting, but I Fully believe in an objective truth.\""
      ]
     },
     "execution_count": 8,
     "metadata": {},
     "output_type": "execute_result"
    }
   ],
   "source": [
    "get_sample('kE3yryW-FiE_33', data)"
   ]
  },
  {
   "cell_type": "code",
   "execution_count": 9,
   "id": "8bda73ab-2994-4ce6-83c3-9b6aefcd8e6c",
   "metadata": {},
   "outputs": [],
   "source": [
    "def strip_numbers(query: str):\n",
    "    return query[3:].strip()"
   ]
  },
  {
   "cell_type": "code",
   "execution_count": 10,
   "id": "4919dee7-a38d-4c82-9cc6-ed9a58b9bf75",
   "metadata": {},
   "outputs": [],
   "source": [
    "def process_questions(question_tuples: List[tuple]) -> Dict[str, List[str]]:\n",
    "    question_dict = {}\n",
    "    for tup in question_tuples:\n",
    "        doc_id = tup[0]\n",
    "        questions = tup[1].split('\\n')\n",
    "        questions = [strip_numbers(q) for q in questions]\n",
    "        question_dict[doc_id] = questions\n",
    "    return question_dict"
   ]
  },
  {
   "cell_type": "code",
   "execution_count": 11,
   "id": "53289eed-4590-4c30-a840-30c329ecb02a",
   "metadata": {},
   "outputs": [],
   "source": [
    "def generate_dataset(data: List[dict], dir_path: str, num_questions: int=100, batch_size: int=50):\n",
    "    gpt = GPT_Turbo()\n",
    "    if batch_size > 50:\n",
    "        raise ValueError('Due to OpenAI rate limits, batch_size cannot be greater than 50')\n",
    "\n",
    "    time_marker = datetime.now().strftime(\"%Y-%m-%d:%H:%M:%S\")\n",
    "    filepath = os.path.join(dir_path, f\"{num_questions}_questions_{time_marker}.json\")\n",
    "    \n",
    "    sample = sample_data(data, num_questions)\n",
    "    batches = ceil(num_questions/batch_size)\n",
    "    all_questions = []\n",
    "    for n in range(batches):\n",
    "        batch = sample[n*batch_size:(n+1)*batch_size]\n",
    "        questions = gpt.batch_generate_question_context_pairs(batch)\n",
    "        all_questions.append(questions)\n",
    "        if n < batches - 1:\n",
    "            print('Pausing for 60 seconds due to OpenAI rate limits...')\n",
    "            time.sleep(60)\n",
    "    all_questions = [tup for batch in all_questions for tup in batch]\n",
    "    processed_questions = process_questions(all_questions)\n",
    "    with open(filepath, 'w') as f:\n",
    "        json.dump(processed_questions, f, indent=4)\n",
    "    return processed_questions"
   ]
  },
  {
   "cell_type": "code",
   "execution_count": 12,
   "id": "20b797f1-2642-4285-86d1-cb197a9811c1",
   "metadata": {},
   "outputs": [
    {
     "name": "stderr",
     "output_type": "stream",
     "text": [
      "100%|█████████████████████████████████████████████████████████████████████████████████████████████████████████████| 50/50 [00:04<00:00, 11.50Generated Questions/s]\n"
     ]
    }
   ],
   "source": [
    "dataset = generate_dataset(data=data, dir_path='./practice_data/', num_questions=50)"
   ]
  },
  {
   "cell_type": "code",
   "execution_count": 13,
   "id": "a440bd3e-1223-41c4-ad1a-0120273d9b1f",
   "metadata": {},
   "outputs": [],
   "source": [
    "client = WeaviateClient(os.environ['WEAVIATE_API_KEY'], os.environ['WEAVIATE_ENDPOINT'])\n",
    "reranker = ReRanker()\n",
    "# intfloat = ReRanker(model_name='intfloat/simlm-msmarco-reranker')"
   ]
  },
  {
   "cell_type": "code",
   "execution_count": 14,
   "id": "9759ad5f-6e4b-4c33-bcbf-11949dc53158",
   "metadata": {},
   "outputs": [
    {
     "data": {
      "text/plain": [
       "'Impact_theory_minilm_256'"
      ]
     },
     "execution_count": 14,
     "metadata": {},
     "output_type": "execute_result"
    }
   ],
   "source": [
    "client.show_classes()[0]"
   ]
  },
  {
   "cell_type": "code",
   "execution_count": 15,
   "id": "8fd43eef-e71d-4713-8664-6ebd14f076f0",
   "metadata": {},
   "outputs": [],
   "source": [
    "query = \"How did the United States respond to the Soviet Union's advancements in space?\"\n",
    "index = 'Impact_theory_minilm_256'"
   ]
  },
  {
   "cell_type": "code",
   "execution_count": 34,
   "id": "e2772cbd-9283-4661-a74b-929768af8339",
   "metadata": {},
   "outputs": [],
   "source": [
    "from retrieval_evaluation import calc_hit_rate_scores"
   ]
  },
  {
   "cell_type": "code",
   "execution_count": 52,
   "id": "255bdabd-770e-4b12-8bd8-54e5cdc64f77",
   "metadata": {},
   "outputs": [],
   "source": [
    "def execute_evaluation( dataset: Dict[str, List[str]], \n",
    "                        retriever: WeaviateClient,\n",
    "                        reranker: ReRanker,\n",
    "                        class_name: str, \n",
    "                        alpha: float=0.5,\n",
    "                        limit: int=10,\n",
    "                        top_k: int=5,\n",
    "                        chunk_size: int=256,\n",
    "                        rerank_all_responses: bool=False,\n",
    "                        ) -> Tuple[int, int, int, int]:\n",
    "\n",
    "    top_k = top_k if top_k else limit\n",
    "    reranker_name = reranker.model_name if rerank_all_responses else \"None\"\n",
    "    \n",
    "    results_dict = {'n':limit, \n",
    "                    'top_k': top_k, \n",
    "                    'alpha': alpha,\n",
    "                    'Retriever': retriever.model_name_or_path, \n",
    "                    'Ranker': reranker_name,\n",
    "                    'chunk_size': chunk_size,\n",
    "                    'kw_hit_rate': 0,\n",
    "                    'vector_hit_rate': 0,\n",
    "                    'hybrid_hit_rate':0,\n",
    "                    'combined_hit_rate': 0,\n",
    "                    'total_questions':0\n",
    "                    }\n",
    "    for doc_id, questions in tqdm(dataset.items(), 'Questions'):\n",
    "        for q in questions:\n",
    "            results_dict['total_questions'] += 1\n",
    "            \n",
    "            #make calls to Weaviate host: Keyword, Vector, and Hybrid\n",
    "            try:\n",
    "                kw_response = retriever.keyword_search(query=q, class_name=class_name, limit=limit)\n",
    "                vector_response = retriever.vector_search(query=q, class_name=class_name, limit=limit)\n",
    "                weaviate_hybrid_response = retriever.hybrid_search(query=q, class_name=class_name, alpha=alpha, limit=limit)\n",
    "                combined_hybrid_response = kw_response + vector_response                \n",
    "            \n",
    "                #rerank returned responses if rerank_all is True\n",
    "                if rerank_all_responses:\n",
    "                    kw_response = reranker.rerank(kw_response, q, top_k=top_k)\n",
    "                    vector_response = reranker.rerank(vector_response, q, top_k=top_k)\n",
    "                    weaviate_hybrid_response = reranker.rerank(weaviate_hybrid_response, q, top_k=top_k)\n",
    "                    combined_hybrid_response = reranker.rerank(combined_hybrid_response, q, top_k=top_k)\n",
    "                \n",
    "                #collect doc_ids to check for document matches (include only top_k if top_k > 0)\n",
    "                kw_doc_ids = [res['doc_id'] for res in kw_response][:top_k]\n",
    "                vector_doc_ids = [res['doc_id'] for res in vector_response][:top_k]\n",
    "                hybrid_doc_ids = [res['doc_id'] for res in weaviate_hybrid_response][:top_k]\n",
    "                combined_doc_ids = [res['doc_id'] for res in combined_hybrid_response][:top_k]\n",
    "                \n",
    "                #increment hit_rate counters as appropriate\n",
    "                if doc_id in kw_doc_ids:\n",
    "                    results_dict['kw_hit_rate'] += 1\n",
    "                if doc_id in vector_doc_ids:\n",
    "                    results_dict['vector_hit_rate'] += 1\n",
    "                if doc_id in hybrid_doc_ids:\n",
    "                    results_dict['hybrid_hit_rate'] += 1\n",
    "                if doc_id in combined_doc_ids:\n",
    "                    results_dict['combined_hit_rate'] += 1\n",
    "                    \n",
    "            except (UnexpectedStatusCodeException) as e:\n",
    "                print(e)\n",
    "                continue\n",
    "\n",
    "    #use raw counts to calculate final scores\n",
    "    calc_hit_rate_scores(results_dict)\n",
    "    \n",
    "    return results_dict"
   ]
  },
  {
   "cell_type": "code",
   "execution_count": 53,
   "id": "6a528131-cd73-4fa4-95a5-6dd0b2b71ee2",
   "metadata": {},
   "outputs": [
    {
     "name": "stderr",
     "output_type": "stream",
     "text": [
      "Questions: 100%|███████████████████████████████████████████████████████████████████████████████████████████████████████████████████| 50/50 [02:19<00:00,  2.78s/it]\n",
      "Questions: 100%|███████████████████████████████████████████████████████████████████████████████████████████████████████████████████| 50/50 [02:18<00:00,  2.76s/it]\n",
      "Questions: 100%|███████████████████████████████████████████████████████████████████████████████████████████████████████████████████| 50/50 [02:18<00:00,  2.78s/it]"
     ]
    },
    {
     "name": "stdout",
     "output_type": "stream",
     "text": [
      "CPU times: user 4min 16s, sys: 3.32 s, total: 4min 20s\n",
      "Wall time: 6min 55s\n"
     ]
    },
    {
     "name": "stderr",
     "output_type": "stream",
     "text": [
      "\n"
     ]
    }
   ],
   "source": [
    "%%time\n",
    "\n",
    "results = []\n",
    "for alpha in np.linspace(0,0.5,num=3):\n",
    "    result = execute_evaluation(dataset, client, reranker, index, alpha=alpha, limit=100, rerank_all_responses=True)\n",
    "    results.append(result)"
   ]
  },
  {
   "cell_type": "code",
   "execution_count": 54,
   "id": "d7c087ef-6572-4fda-8239-550ca3e4322d",
   "metadata": {},
   "outputs": [],
   "source": [
    "from rich import print"
   ]
  },
  {
   "cell_type": "code",
   "execution_count": 55,
   "id": "ca368ee7-681e-44b6-bc74-d5c3777d663c",
   "metadata": {},
   "outputs": [
    {
     "data": {
      "text/html": [
       "<pre style=\"white-space:pre;overflow-x:auto;line-height:normal;font-family:Menlo,'DejaVu Sans Mono',consolas,'Courier New',monospace\"><span style=\"font-weight: bold\">[</span>\n",
       "    <span style=\"font-weight: bold\">{</span>\n",
       "        <span style=\"color: #008000; text-decoration-color: #008000\">'n'</span>: <span style=\"color: #008080; text-decoration-color: #008080; font-weight: bold\">100</span>,\n",
       "        <span style=\"color: #008000; text-decoration-color: #008000\">'top_k'</span>: <span style=\"color: #008080; text-decoration-color: #008080; font-weight: bold\">5</span>,\n",
       "        <span style=\"color: #008000; text-decoration-color: #008000\">'alpha'</span>: <span style=\"color: #008080; text-decoration-color: #008080; font-weight: bold\">0.0</span>,\n",
       "        <span style=\"color: #008000; text-decoration-color: #008000\">'Retriever'</span>: <span style=\"color: #008000; text-decoration-color: #008000\">'sentence-transformers/all-MiniLM-L6-v2'</span>,\n",
       "        <span style=\"color: #008000; text-decoration-color: #008000\">'Ranker'</span>: <span style=\"color: #008000; text-decoration-color: #008000\">'cross-encoder/ms-marco-MiniLM-L-6-v2'</span>,\n",
       "        <span style=\"color: #008000; text-decoration-color: #008000\">'chunk_size'</span>: <span style=\"color: #008080; text-decoration-color: #008080; font-weight: bold\">256</span>,\n",
       "        <span style=\"color: #008000; text-decoration-color: #008000\">'kw_hit_rate'</span>: <span style=\"color: #008080; text-decoration-color: #008080; font-weight: bold\">73</span>,\n",
       "        <span style=\"color: #008000; text-decoration-color: #008000\">'vector_hit_rate'</span>: <span style=\"color: #008080; text-decoration-color: #008080; font-weight: bold\">61</span>,\n",
       "        <span style=\"color: #008000; text-decoration-color: #008000\">'hybrid_hit_rate'</span>: <span style=\"color: #008080; text-decoration-color: #008080; font-weight: bold\">73</span>,\n",
       "        <span style=\"color: #008000; text-decoration-color: #008000\">'combined_hit_rate'</span>: <span style=\"color: #008080; text-decoration-color: #008080; font-weight: bold\">69</span>,\n",
       "        <span style=\"color: #008000; text-decoration-color: #008000\">'total_questions'</span>: <span style=\"color: #008080; text-decoration-color: #008080; font-weight: bold\">100</span>,\n",
       "        <span style=\"color: #008000; text-decoration-color: #008000\">'kw_score'</span>: <span style=\"color: #008080; text-decoration-color: #008080; font-weight: bold\">0.73</span>,\n",
       "        <span style=\"color: #008000; text-decoration-color: #008000\">'vector_score'</span>: <span style=\"color: #008080; text-decoration-color: #008080; font-weight: bold\">0.61</span>,\n",
       "        <span style=\"color: #008000; text-decoration-color: #008000\">'hybrid_score'</span>: <span style=\"color: #008080; text-decoration-color: #008080; font-weight: bold\">0.73</span>,\n",
       "        <span style=\"color: #008000; text-decoration-color: #008000\">'combined_score'</span>: <span style=\"color: #008080; text-decoration-color: #008080; font-weight: bold\">0.69</span>\n",
       "    <span style=\"font-weight: bold\">}</span>,\n",
       "    <span style=\"font-weight: bold\">{</span>\n",
       "        <span style=\"color: #008000; text-decoration-color: #008000\">'n'</span>: <span style=\"color: #008080; text-decoration-color: #008080; font-weight: bold\">100</span>,\n",
       "        <span style=\"color: #008000; text-decoration-color: #008000\">'top_k'</span>: <span style=\"color: #008080; text-decoration-color: #008080; font-weight: bold\">5</span>,\n",
       "        <span style=\"color: #008000; text-decoration-color: #008000\">'alpha'</span>: <span style=\"color: #008080; text-decoration-color: #008080; font-weight: bold\">0.25</span>,\n",
       "        <span style=\"color: #008000; text-decoration-color: #008000\">'Retriever'</span>: <span style=\"color: #008000; text-decoration-color: #008000\">'sentence-transformers/all-MiniLM-L6-v2'</span>,\n",
       "        <span style=\"color: #008000; text-decoration-color: #008000\">'Ranker'</span>: <span style=\"color: #008000; text-decoration-color: #008000\">'cross-encoder/ms-marco-MiniLM-L-6-v2'</span>,\n",
       "        <span style=\"color: #008000; text-decoration-color: #008000\">'chunk_size'</span>: <span style=\"color: #008080; text-decoration-color: #008080; font-weight: bold\">256</span>,\n",
       "        <span style=\"color: #008000; text-decoration-color: #008000\">'kw_hit_rate'</span>: <span style=\"color: #008080; text-decoration-color: #008080; font-weight: bold\">73</span>,\n",
       "        <span style=\"color: #008000; text-decoration-color: #008000\">'vector_hit_rate'</span>: <span style=\"color: #008080; text-decoration-color: #008080; font-weight: bold\">61</span>,\n",
       "        <span style=\"color: #008000; text-decoration-color: #008000\">'hybrid_hit_rate'</span>: <span style=\"color: #008080; text-decoration-color: #008080; font-weight: bold\">72</span>,\n",
       "        <span style=\"color: #008000; text-decoration-color: #008000\">'combined_hit_rate'</span>: <span style=\"color: #008080; text-decoration-color: #008080; font-weight: bold\">69</span>,\n",
       "        <span style=\"color: #008000; text-decoration-color: #008000\">'total_questions'</span>: <span style=\"color: #008080; text-decoration-color: #008080; font-weight: bold\">100</span>,\n",
       "        <span style=\"color: #008000; text-decoration-color: #008000\">'kw_score'</span>: <span style=\"color: #008080; text-decoration-color: #008080; font-weight: bold\">0.73</span>,\n",
       "        <span style=\"color: #008000; text-decoration-color: #008000\">'vector_score'</span>: <span style=\"color: #008080; text-decoration-color: #008080; font-weight: bold\">0.61</span>,\n",
       "        <span style=\"color: #008000; text-decoration-color: #008000\">'hybrid_score'</span>: <span style=\"color: #008080; text-decoration-color: #008080; font-weight: bold\">0.72</span>,\n",
       "        <span style=\"color: #008000; text-decoration-color: #008000\">'combined_score'</span>: <span style=\"color: #008080; text-decoration-color: #008080; font-weight: bold\">0.69</span>\n",
       "    <span style=\"font-weight: bold\">}</span>,\n",
       "    <span style=\"font-weight: bold\">{</span>\n",
       "        <span style=\"color: #008000; text-decoration-color: #008000\">'n'</span>: <span style=\"color: #008080; text-decoration-color: #008080; font-weight: bold\">100</span>,\n",
       "        <span style=\"color: #008000; text-decoration-color: #008000\">'top_k'</span>: <span style=\"color: #008080; text-decoration-color: #008080; font-weight: bold\">5</span>,\n",
       "        <span style=\"color: #008000; text-decoration-color: #008000\">'alpha'</span>: <span style=\"color: #008080; text-decoration-color: #008080; font-weight: bold\">0.5</span>,\n",
       "        <span style=\"color: #008000; text-decoration-color: #008000\">'Retriever'</span>: <span style=\"color: #008000; text-decoration-color: #008000\">'sentence-transformers/all-MiniLM-L6-v2'</span>,\n",
       "        <span style=\"color: #008000; text-decoration-color: #008000\">'Ranker'</span>: <span style=\"color: #008000; text-decoration-color: #008000\">'cross-encoder/ms-marco-MiniLM-L-6-v2'</span>,\n",
       "        <span style=\"color: #008000; text-decoration-color: #008000\">'chunk_size'</span>: <span style=\"color: #008080; text-decoration-color: #008080; font-weight: bold\">256</span>,\n",
       "        <span style=\"color: #008000; text-decoration-color: #008000\">'kw_hit_rate'</span>: <span style=\"color: #008080; text-decoration-color: #008080; font-weight: bold\">73</span>,\n",
       "        <span style=\"color: #008000; text-decoration-color: #008000\">'vector_hit_rate'</span>: <span style=\"color: #008080; text-decoration-color: #008080; font-weight: bold\">61</span>,\n",
       "        <span style=\"color: #008000; text-decoration-color: #008000\">'hybrid_hit_rate'</span>: <span style=\"color: #008080; text-decoration-color: #008080; font-weight: bold\">72</span>,\n",
       "        <span style=\"color: #008000; text-decoration-color: #008000\">'combined_hit_rate'</span>: <span style=\"color: #008080; text-decoration-color: #008080; font-weight: bold\">69</span>,\n",
       "        <span style=\"color: #008000; text-decoration-color: #008000\">'total_questions'</span>: <span style=\"color: #008080; text-decoration-color: #008080; font-weight: bold\">100</span>,\n",
       "        <span style=\"color: #008000; text-decoration-color: #008000\">'kw_score'</span>: <span style=\"color: #008080; text-decoration-color: #008080; font-weight: bold\">0.73</span>,\n",
       "        <span style=\"color: #008000; text-decoration-color: #008000\">'vector_score'</span>: <span style=\"color: #008080; text-decoration-color: #008080; font-weight: bold\">0.61</span>,\n",
       "        <span style=\"color: #008000; text-decoration-color: #008000\">'hybrid_score'</span>: <span style=\"color: #008080; text-decoration-color: #008080; font-weight: bold\">0.72</span>,\n",
       "        <span style=\"color: #008000; text-decoration-color: #008000\">'combined_score'</span>: <span style=\"color: #008080; text-decoration-color: #008080; font-weight: bold\">0.69</span>\n",
       "    <span style=\"font-weight: bold\">}</span>\n",
       "<span style=\"font-weight: bold\">]</span>\n",
       "</pre>\n"
      ],
      "text/plain": [
       "\u001b[1m[\u001b[0m\n",
       "    \u001b[1m{\u001b[0m\n",
       "        \u001b[32m'n'\u001b[0m: \u001b[1;36m100\u001b[0m,\n",
       "        \u001b[32m'top_k'\u001b[0m: \u001b[1;36m5\u001b[0m,\n",
       "        \u001b[32m'alpha'\u001b[0m: \u001b[1;36m0.0\u001b[0m,\n",
       "        \u001b[32m'Retriever'\u001b[0m: \u001b[32m'sentence-transformers/all-MiniLM-L6-v2'\u001b[0m,\n",
       "        \u001b[32m'Ranker'\u001b[0m: \u001b[32m'cross-encoder/ms-marco-MiniLM-L-6-v2'\u001b[0m,\n",
       "        \u001b[32m'chunk_size'\u001b[0m: \u001b[1;36m256\u001b[0m,\n",
       "        \u001b[32m'kw_hit_rate'\u001b[0m: \u001b[1;36m73\u001b[0m,\n",
       "        \u001b[32m'vector_hit_rate'\u001b[0m: \u001b[1;36m61\u001b[0m,\n",
       "        \u001b[32m'hybrid_hit_rate'\u001b[0m: \u001b[1;36m73\u001b[0m,\n",
       "        \u001b[32m'combined_hit_rate'\u001b[0m: \u001b[1;36m69\u001b[0m,\n",
       "        \u001b[32m'total_questions'\u001b[0m: \u001b[1;36m100\u001b[0m,\n",
       "        \u001b[32m'kw_score'\u001b[0m: \u001b[1;36m0.73\u001b[0m,\n",
       "        \u001b[32m'vector_score'\u001b[0m: \u001b[1;36m0.61\u001b[0m,\n",
       "        \u001b[32m'hybrid_score'\u001b[0m: \u001b[1;36m0.73\u001b[0m,\n",
       "        \u001b[32m'combined_score'\u001b[0m: \u001b[1;36m0.69\u001b[0m\n",
       "    \u001b[1m}\u001b[0m,\n",
       "    \u001b[1m{\u001b[0m\n",
       "        \u001b[32m'n'\u001b[0m: \u001b[1;36m100\u001b[0m,\n",
       "        \u001b[32m'top_k'\u001b[0m: \u001b[1;36m5\u001b[0m,\n",
       "        \u001b[32m'alpha'\u001b[0m: \u001b[1;36m0.25\u001b[0m,\n",
       "        \u001b[32m'Retriever'\u001b[0m: \u001b[32m'sentence-transformers/all-MiniLM-L6-v2'\u001b[0m,\n",
       "        \u001b[32m'Ranker'\u001b[0m: \u001b[32m'cross-encoder/ms-marco-MiniLM-L-6-v2'\u001b[0m,\n",
       "        \u001b[32m'chunk_size'\u001b[0m: \u001b[1;36m256\u001b[0m,\n",
       "        \u001b[32m'kw_hit_rate'\u001b[0m: \u001b[1;36m73\u001b[0m,\n",
       "        \u001b[32m'vector_hit_rate'\u001b[0m: \u001b[1;36m61\u001b[0m,\n",
       "        \u001b[32m'hybrid_hit_rate'\u001b[0m: \u001b[1;36m72\u001b[0m,\n",
       "        \u001b[32m'combined_hit_rate'\u001b[0m: \u001b[1;36m69\u001b[0m,\n",
       "        \u001b[32m'total_questions'\u001b[0m: \u001b[1;36m100\u001b[0m,\n",
       "        \u001b[32m'kw_score'\u001b[0m: \u001b[1;36m0.73\u001b[0m,\n",
       "        \u001b[32m'vector_score'\u001b[0m: \u001b[1;36m0.61\u001b[0m,\n",
       "        \u001b[32m'hybrid_score'\u001b[0m: \u001b[1;36m0.72\u001b[0m,\n",
       "        \u001b[32m'combined_score'\u001b[0m: \u001b[1;36m0.69\u001b[0m\n",
       "    \u001b[1m}\u001b[0m,\n",
       "    \u001b[1m{\u001b[0m\n",
       "        \u001b[32m'n'\u001b[0m: \u001b[1;36m100\u001b[0m,\n",
       "        \u001b[32m'top_k'\u001b[0m: \u001b[1;36m5\u001b[0m,\n",
       "        \u001b[32m'alpha'\u001b[0m: \u001b[1;36m0.5\u001b[0m,\n",
       "        \u001b[32m'Retriever'\u001b[0m: \u001b[32m'sentence-transformers/all-MiniLM-L6-v2'\u001b[0m,\n",
       "        \u001b[32m'Ranker'\u001b[0m: \u001b[32m'cross-encoder/ms-marco-MiniLM-L-6-v2'\u001b[0m,\n",
       "        \u001b[32m'chunk_size'\u001b[0m: \u001b[1;36m256\u001b[0m,\n",
       "        \u001b[32m'kw_hit_rate'\u001b[0m: \u001b[1;36m73\u001b[0m,\n",
       "        \u001b[32m'vector_hit_rate'\u001b[0m: \u001b[1;36m61\u001b[0m,\n",
       "        \u001b[32m'hybrid_hit_rate'\u001b[0m: \u001b[1;36m72\u001b[0m,\n",
       "        \u001b[32m'combined_hit_rate'\u001b[0m: \u001b[1;36m69\u001b[0m,\n",
       "        \u001b[32m'total_questions'\u001b[0m: \u001b[1;36m100\u001b[0m,\n",
       "        \u001b[32m'kw_score'\u001b[0m: \u001b[1;36m0.73\u001b[0m,\n",
       "        \u001b[32m'vector_score'\u001b[0m: \u001b[1;36m0.61\u001b[0m,\n",
       "        \u001b[32m'hybrid_score'\u001b[0m: \u001b[1;36m0.72\u001b[0m,\n",
       "        \u001b[32m'combined_score'\u001b[0m: \u001b[1;36m0.69\u001b[0m\n",
       "    \u001b[1m}\u001b[0m\n",
       "\u001b[1m]\u001b[0m\n"
      ]
     },
     "metadata": {},
     "output_type": "display_data"
    },
    {
     "name": "stderr",
     "output_type": "stream",
     "text": [
      "Bad pipe message: %s [b\"&ec\\xce\\xae\\xc6o\\xc2\\x19\\x11\\xc2\\xc5\\xeb\\xd3\\xf9\\xcb\\xa0D\\x00\\x00|\\xc0,\\xc00\\x00\\xa3\\x00\\x9f\\xcc\\xa9\\xcc\\xa8\\xcc\\xaa\\xc0\\xaf\\xc0\\xad\\xc0\\xa3\\xc0\\x9f\\xc0]\\xc0a\\xc0W\\xc0S\\xc0+\\xc0/\\x00\\xa2\\x00\\x9e\\xc0\\xae\\xc0\\xac\\xc0\\xa2\\xc0\\x9e\\xc0\\\\\\xc0`\\xc0V\\xc0R\\xc0$\\xc0(\\x00k\\x00j\\xc0#\\xc0'\\x00g\\x00@\\xc0\\n\\xc0\\x14\\x009\\x008\\xc0\\t\\xc0\\x13\\x003\\x002\\x00\\x9d\\xc0\\xa1\\xc0\\x9d\\xc0Q\\x00\\x9c\\xc0\\xa0\\xc0\\x9c\\xc0P\\x00=\\x00<\\x005\\x00/\\x00\\x9a\\x00\\x99\\xc0\\x07\\xc0\\x11\\x00\\x96\\x00\\x05\\x00\\xff\\x01\\x00\\x00j\\x00\\x00\\x00\\x0e\\x00\\x0c\\x00\\x00\\t127.0.0.1\\x00\\x0b\\x00\\x04\\x03\\x00\\x01\\x02\\x00\\n\\x00\\x0c\\x00\\n\\x00\\x1d\\x00\\x17\\x00\\x1e\\x00\\x19\\x00\\x18\\x00#\\x00\\x00\\x00\\x16\\x00\\x00\\x00\\x17\\x00\\x00\\x00\\r\\x000\\x00.\\x04\\x03\\x05\\x03\\x06\\x03\\x08\\x07\\x08\\x08\\x08\\t\\x08\\n\\x08\\x0b\\x08\\x04\", b'\\x08\\x06\\x04\\x01\\x05\\x01\\x06', b'', b'\\x03\\x03']\n",
      "Bad pipe message: %s [b'']\n",
      "Bad pipe message: %s [b'', b'\\x02']\n",
      "Bad pipe message: %s [b'\\x05\\x02\\x06']\n",
      "Bad pipe message: %s [b'$\\x86\\x15}<\\xf7bDfn\\xa3\\x1a\\xef\\x0e\\xd7\\xbd\\xca\\t\\x00\\x00\\xa6\\xc0,\\xc00\\x00\\xa3\\x00\\x9f\\xcc\\xa9\\xcc\\xa8\\xcc\\xaa\\xc0\\xaf\\xc0\\xad\\xc0\\xa3\\xc0\\x9f\\xc0]\\xc0a\\xc0W\\xc0S\\xc0+\\xc0/\\x00\\xa2\\x00\\x9e\\xc0\\xae\\xc0', b\"\\xa2\\xc0\\x9e\\xc0\\\\\\xc0`\\xc0V\\xc0R\\xc0$\\xc0(\\x00k\\x00j\\xc0s\\xc0w\\x00\\xc4\\x00\\xc3\\xc0#\\xc0'\\x00g\\x00@\\xc0r\\xc0v\\x00\\xbe\\x00\\xbd\\xc0\\n\\xc0\\x14\\x009\\x008\\x00\\x88\\x00\\x87\\xc0\\t\\xc0\\x13\\x003\\x002\\x00\\x9a\\x00\\x99\\x00E\\x00D\\xc0\\x07\\xc0\\x11\\xc0\\x08\\xc0\\x12\\x00\\x16\\x00\\x13\\x00\\x9d\\xc0\\xa1\\xc0\\x9d\\xc0Q\\x00\\x9c\\xc0\\xa0\\xc0\\x9c\\xc0P\\x00=\\x00\\xc0\\x00<\\x00\\xba\\x005\\x00\\x84\\x00/\\x00\\x96\\x00A\\x00\\x05\\x00\\n\\x00\\xff\\x01\\x00\\x00j\\x00\\x00\\x00\\x0e\\x00\\x0c\\x00\\x00\\t127.0.0.1\\x00\\x0b\\x00\\x04\\x03\\x00\\x01\\x02\\x00\\n\\x00\\x0c\\x00\\n\\x00\\x1d\\x00\\x17\\x00\\x1e\\x00\\x19\\x00\\x18\\x00#\"]\n",
      "Bad pipe message: %s [b'\\xa0\\xc6\\x90\\xa6&T\\x1b\\xc6\\xc6a\\xa7', b'\\xe5\\x94\\x1c\\xc5\\x0c\\x00\\x00>\\xc0\\x14\\xc0\\n\\x009\\x008\\x00', b'6\\xc0\\x0f\\xc0\\x05\\x005\\xc0\\x13\\xc0\\t\\x003\\x002\\x001\\x000\\xc0\\x0e\\xc0\\x04\\x00/\\x00\\x9a\\x00\\x99\\x00\\x98\\x00\\x97\\x00\\x96\\x00\\x07\\xc0\\x11\\xc0\\x07\\xc0\\x0c\\xc0\\x02\\x00\\x05\\x00\\x04\\x00\\xff\\x02\\x01\\x00']\n",
      "Bad pipe message: %s [b'\\x8ck\\xd19\\x93\\xfc\\x8fB\\xa1g:']\n",
      "Bad pipe message: %s [b'Oy3\\xbdh\\xcc\\xd9\\x98\\x8cI\\xc4\\xca,\\xbf', b'\\xc2G\\x00\\x00\\xa2\\xc0\\x14\\xc0\\n\\x009\\x008\\x007\\x006\\x00\\x88\\x00\\x87\\x00\\x86\\x00\\x85\\xc0\\x19\\x00:\\x00\\x89\\xc0\\x0f\\xc0\\x05\\x005\\x00\\x84\\xc0\\x13\\xc0\\t\\x003\\x002\\x001\\x000\\x00\\x9a\\x00\\x99\\x00\\x98\\x00\\x97\\x00E\\x00D\\x00C\\x00B\\xc0\\x18\\x004\\x00\\x9b\\x00F\\xc0\\x0e\\xc0\\x04\\x00/\\x00\\x96\\x00A\\x00\\x07\\xc0\\x11\\xc0\\x07\\xc0\\x16\\x00\\x18\\xc0\\x0c\\xc0\\x02\\x00\\x05\\x00\\x04\\xc0\\x12\\xc0\\x08\\x00\\x16\\x00\\x13\\x00\\x10\\x00\\r\\xc0\\x17\\x00\\x1b\\xc0\\r\\xc0\\x03\\x00\\n\\x00\\x15\\x00\\x12\\x00\\x0f\\x00']\n",
      "Bad pipe message: %s [b'\\x1a\\x00\\t\\x00\\x14\\x00\\x11\\x00\\x19\\x00\\x08']\n",
      "Bad pipe message: %s [b\"(z\\x13\\x96k\\xb7\\xc2?N/(\\xea\\xde\\xb2\\x02R\\xabR\\x00\\x00\\x86\\xc00\\xc0,\\xc0(\\xc0$\\xc0\\x14\\xc0\\n\\x00\\xa5\\x00\\xa3\\x00\\xa1\\x00\\x9f\\x00k\\x00j\\x00i\\x00h\\x009\\x008\\x007\\x006\\xc02\\xc0.\\xc0*\\xc0&\\xc0\\x0f\\xc0\\x05\\x00\\x9d\\x00=\\x005\\xc0/\\xc0+\\xc0'\\xc0#\\xc0\\x13\\xc0\\t\\x00\\xa4\\x00\\xa2\\x00\\xa0\\x00\\x9e\\x00g\\x00@\\x00?\\x00>\\x003\\x002\\x001\\x000\\xc01\\xc0-\\xc0)\\xc0%\\xc0\\x0e\\xc0\\x04\\x00\\x9c\\x00<\\x00/\\x00\\x9a\\x00\\x99\\x00\\x98\\x00\\x97\\x00\\x96\\x00\\x07\\xc0\\x11\\xc0\\x07\\xc0\\x0c\\xc0\\x02\\x00\\x05\\x00\\x04\\x00\\xff\\x02\"]\n",
      "Bad pipe message: %s [b'']\n",
      "Bad pipe message: %s [b'_\\xe4\\x1ab\\xaf\\x8c\\x0c3\\xcc\\x9d&\\x01\\xde\\x98\\xc1\\xae7\\r Y']\n",
      "Bad pipe message: %s [b\"\\n\\xcb\\xf5k\\xa0\\xa6\\xda\\xedO\\x86tsA}\\xd9{2\\x9b\\x00\\x00|\\xc0,\\xc00\\x00\\xa3\\x00\\x9f\\xcc\\xa9\\xcc\\xa8\\xcc\\xaa\\xc0\\xaf\\xc0\\xad\\xc0\\xa3\\xc0\\x9f\\xc0]\\xc0a\\xc0W\\xc0S\\xc0+\\xc0/\\x00\\xa2\\x00\\x9e\\xc0\\xae\\xc0\\xac\\xc0\\xa2\\xc0\\x9e\\xc0\\\\\\xc0`\\xc0V\\xc0R\\xc0$\\xc0(\\x00k\\x00j\\xc0#\\xc0'\\x00g\\x00@\\xc0\\n\\xc0\\x14\\x009\\x008\\xc0\\t\\xc0\\x13\\x003\\x002\\x00\\x9d\\xc0\\xa1\\xc0\\x9d\\xc0Q\\x00\\x9c\\xc0\\xa0\\xc0\\x9c\\xc0P\\x00=\\x00<\\x005\\x00/\\x00\\x9a\\x00\\x99\\xc0\\x07\\xc0\\x11\\x00\\x96\\x00\"]\n",
      "Bad pipe message: %s [b'\\xff\\x01\\x00\\x00']\n",
      "Bad pipe message: %s [b'\\x00\\x00\\x0e\\x00\\x0c\\x00\\x00\\t127.0.0.1\\x00\\x0b\\x00\\x04\\x03\\x00\\x01\\x02\\x00\\n\\x00\\x0c\\x00\\n\\x00\\x1d\\x00\\x17\\x00\\x1e\\x00\\x19\\x00\\x18\\x00#\\x00\\x00\\x00\\x16\\x00\\x00\\x00\\x17\\x00\\x00\\x00\\r\\x000\\x00.\\x04\\x03\\x05\\x03\\x06\\x03\\x08\\x07\\x08\\x08\\x08\\t\\x08\\n\\x08\\x0b\\x08\\x04\\x08\\x05\\x08\\x06\\x04\\x01\\x05\\x01\\x06\\x01\\x03\\x03\\x02\\x03\\x03\\x01\\x02\\x01\\x03\\x02\\x02\\x02\\x04\\x02\\x05\\x02\\x06\\x02']\n",
      "Bad pipe message: %s [b\"O\\xaf\\x07\\x9d\\x0e?Fg\\x05\\xa5\\x80\\xc8&u\\x890d\\xec\\x00\\x00\\xa6\\xc0,\\xc00\\x00\\xa3\\x00\\x9f\\xcc\\xa9\\xcc\\xa8\\xcc\\xaa\\xc0\\xaf\\xc0\\xad\\xc0\\xa3\\xc0\\x9f\\xc0]\\xc0a\\xc0W\\xc0S\\xc0+\\xc0/\\x00\\xa2\\x00\\x9e\\xc0\\xae\\xc0\\xac\\xc0\\xa2\\xc0\\x9e\\xc0\\\\\\xc0`\\xc0V\\xc0R\\xc0$\\xc0(\\x00k\\x00j\\xc0s\\xc0w\\x00\\xc4\\x00\\xc3\\xc0#\\xc0'\\x00g\\x00@\\xc0r\\xc0v\\x00\\xbe\\x00\\xbd\\xc0\\n\\xc0\\x14\\x009\\x008\\x00\\x88\\x00\\x87\\xc0\\t\\xc0\\x13\\x003\\x002\\x00\\x9a\\x00\\x99\\x00E\\x00D\\xc0\\x07\\xc0\\x11\\xc0\\x08\\xc0\\x12\\x00\\x16\\x00\", b'\\x9d\\xc0\\xa1\\xc0\\x9d\\xc0Q\\x00\\x9c\\xc0\\xa0\\xc0\\x9c\\xc0P\\x00=\\x00']\n",
      "Bad pipe message: %s [b'x\\xe0yF\\x80\\\\\\x9a?f\\xf4\\xa5\\xe0\\xb9\\xc1\\xa9\\xa9\\xe1\\x14\\x00\\x00>\\xc0\\x14\\xc0\\n\\x009\\x008\\x007\\x006\\xc0\\x0f\\xc0\\x05\\x005\\xc0\\x13\\xc0\\t\\x003\\x002\\x001\\x000\\xc0\\x0e\\xc0\\x04\\x00/\\x00\\x9a\\x00\\x99\\x00\\x98\\x00\\x97\\x00\\x96\\x00\\x07\\xc0\\x11\\xc0\\x07\\xc0\\x0c\\xc0\\x02\\x00\\x05\\x00\\x04\\x00\\xff\\x02\\x01\\x00\\x00C\\x00\\x00\\x00\\x0e\\x00\\x0c\\x00\\x00\\t127.0.0.1\\x00\\x0b\\x00\\x04\\x03\\x00\\x01\\x02\\x00\\n\\x00\\x1c\\x00\\x1a\\x00\\x17\\x00\\x19\\x00\\x1c\\x00\\x1b\\x00\\x18\\x00\\x1a\\x00\\x16\\x00\\x0e\\x00\\r\\x00\\x0b\\x00\\x0c\\x00\\t\\x00\\n']\n",
      "Bad pipe message: %s [b\"y\\xe2-\\xf9\\xcca\\xbd,{q\\xe9d\\x93\\xe9\\xc1\\x1c\\x89Y\\x00\\x00\\x86\\xc00\\xc0,\\xc0(\\xc0$\\xc0\\x14\\xc0\\n\\x00\\xa5\\x00\\xa3\\x00\\xa1\\x00\\x9f\\x00k\\x00j\\x00i\\x00h\\x009\\x008\\x007\\x006\\xc02\\xc0.\\xc0*\\xc0&\\xc0\\x0f\\xc0\\x05\\x00\\x9d\\x00=\\x005\\xc0/\\xc0+\\xc0'\\xc0#\\xc0\\x13\\xc0\\t\\x00\\xa4\\x00\\xa2\\x00\\xa0\\x00\\x9e\\x00g\\x00@\\x00?\\x00>\\x003\\x002\\x001\\x000\\xc01\\xc0-\\xc0)\\xc0%\\xc0\\x0e\\xc0\\x04\\x00\\x9c\\x00<\\x00/\\x00\\x9a\\x00\\x99\\x00\\x98\\x00\\x97\\x00\\x96\\x00\\x07\\xc0\\x11\\xc0\\x07\\xc0\\x0c\\xc0\\x02\\x00\\x05\\x00\\x04\\x00\\xff\\x02\\x01\\x00\\x00g\\x00\\x00\\x00\\x0e\\x00\\x0c\\x00\\x00\\t127.0.0.1\\x00\\x0b\\x00\\x04\\x03\\x00\\x01\\x02\\x00\\n\\x00\\x1c\\x00\\x1a\\x00\\x17\\x00\\x19\\x00\\x1c\\x00\"]\n",
      "Bad pipe message: %s [b'\\x18\\x00\\x1a\\x00\\x16\\x00\\x0e\\x00\\r\\x00\\x0b\\x00\\x0c\\x00\\t\\x00\\n\\x00#\\x00\\x00\\x00\\r\\x00 \\x00']\n",
      "Bad pipe message: %s [b'\\x01\\x06\\x02\\x06\\x03\\x05\\x01\\x05\\x02\\x05\\x03\\x04\\x01\\x04\\x02\\x04\\x03\\x03\\x01\\x03\\x02\\x03\\x03\\x02\\x01\\x02\\x02\\x02\\x03']\n",
      "Bad pipe message: %s [b'0\\x94~d2h{g\\xee\\xa1\\t']\n",
      "Bad pipe message: %s [b\"\\x871\\xe9\\x8e\\x08\\x00\\x00\\xf4\\xc00\\xc0,\\xc0(\\xc0$\\xc0\\x14\\xc0\\n\\x00\\xa5\\x00\\xa3\\x00\\xa1\\x00\\x9f\\x00k\\x00j\\x00i\\x00h\\x009\\x008\\x007\\x006\\x00\\x88\\x00\\x87\\x00\\x86\\x00\\x85\\xc0\\x19\\x00\\xa7\\x00m\\x00:\\x00\\x89\\xc02\\xc0.\\xc0*\\xc0&\\xc0\\x0f\\xc0\\x05\\x00\\x9d\\x00=\\x005\\x00\\x84\\xc0/\\xc0+\\xc0'\\xc0#\\xc0\\x13\\xc0\\t\\x00\\xa4\\x00\\xa2\\x00\\xa0\\x00\\x9e\\x00g\\x00@\\x00?\\x00>\\x003\\x002\\x001\\x000\\x00\\x9a\\x00\\x99\\x00\\x98\\x00\\x97\\x00E\\x00D\\x00C\\x00B\\xc0\\x18\\x00\\xa6\\x00l\\x004\\x00\\x9b\\x00F\\xc01\\xc0-\\xc0)\\xc0%\\xc0\\x0e\\xc0\\x04\\x00\\x9c\\x00<\\x00/\\x00\\x96\\x00\"]\n",
      "Bad pipe message: %s [b'\\x07\\xc0\\x11\\xc0\\x07\\xc0\\x16\\x00\\x18\\xc0\\x0c\\xc0\\x02\\x00\\x05\\x00\\x04\\xc0\\x12\\xc0\\x08\\x00\\x16\\x00\\x13\\x00\\x10\\x00\\r\\xc0\\x17\\x00\\x1b\\xc0\\r\\xc0\\x03\\x00\\n\\x00\\x15\\x00\\x12\\x00\\x0f\\x00\\x0c\\x00\\x1a\\x00\\t\\x00\\x14\\x00\\x11\\x00\\x19\\x00\\x08\\x00\\x06\\x00\\x17\\x00']\n",
      "Bad pipe message: %s [b'\\x10\\xc0']\n",
      "Bad pipe message: %s [b'\\x15\\xc0\\x0b\\xc0\\x01']\n",
      "Bad pipe message: %s [b'd\\xf6d\\x14\\x1b\\xd7\\xcf\\x8b\\x95\\xbbM\\x88\\xeaP\\xa67uj \\x96x\\xb4\\x19\\xa1\\xf7\\xc9\\xa2 ;\\xa70\\xcf\\x0e\\x1e5oL\\x19\\xa72\\xc2;3UN\\xb4\\xf5\\xff\\xfb\\x8b\\xb7\\x00\\x08\\x13\\x02\\x13\\x03\\x13\\x01\\x00\\xff\\x01\\x00\\x00\\x8f\\x00\\x00\\x00\\x0e\\x00\\x0c\\x00\\x00\\t127.0.0.1\\x00\\x0b\\x00\\x04\\x03\\x00\\x01\\x02\\x00\\n\\x00\\x0c\\x00\\n\\x00\\x1d\\x00\\x17\\x00\\x1e\\x00\\x19\\x00\\x18\\x00#\\x00\\x00\\x00\\x16\\x00\\x00\\x00\\x17\\x00\\x00\\x00\\r\\x00\\x1e\\x00\\x1c\\x04\\x03\\x05\\x03\\x06\\x03\\x08\\x07\\x08\\x08\\x08\\t\\x08\\n\\x08\\x0b\\x08\\x04']\n",
      "Bad pipe message: %s [b'\\x08\\x06\\x04\\x01\\x05\\x01\\x06', b'']\n",
      "Bad pipe message: %s [b'\\x03\\x02\\x03\\x04\\x00-\\x00\\x02\\x01\\x01\\x003\\x00&\\x00$\\x00\\x1d\\x00 \\xa1\\xd8\\x90\\x9a\\xae\\xa3\\xea\\xaa\\xb7\\xa2\\xcdx\\x05-\\xf2\\xad`NI\\xb1\\xe0R']\n",
      "Bad pipe message: %s [b\"\\x02&\\xd8\\x83\\xf2\\xce\\xc48+\\x1f\\xf4R\\xd3\\x1f-\\x9e\\xe2\\xb5\\x00\\x00|\\xc0,\\xc00\\x00\\xa3\\x00\\x9f\\xcc\\xa9\\xcc\\xa8\\xcc\\xaa\\xc0\\xaf\\xc0\\xad\\xc0\\xa3\\xc0\\x9f\\xc0]\\xc0a\\xc0W\\xc0S\\xc0+\\xc0/\\x00\\xa2\\x00\\x9e\\xc0\\xae\\xc0\\xac\\xc0\\xa2\\xc0\\x9e\\xc0\\\\\\xc0`\\xc0V\\xc0R\\xc0$\\xc0(\\x00k\\x00j\\xc0#\\xc0'\\x00g\\x00@\\xc0\\n\\xc0\\x14\\x009\\x008\\xc0\\t\\xc0\\x13\\x003\\x002\\x00\\x9d\\xc0\\xa1\\xc0\\x9d\\xc0Q\\x00\\x9c\\xc0\\xa0\\xc0\\x9c\\xc0P\\x00=\\x00<\\x005\\x00/\\x00\\x9a\\x00\\x99\\xc0\\x07\\xc0\\x11\\x00\\x96\\x00\\x05\\x00\\xff\\x01\\x00\\x00j\\x00\\x00\\x00\\x0e\\x00\\x0c\\x00\\x00\\t127.0.0.1\\x00\\x0b\\x00\\x04\\x03\\x00\\x01\\x02\\x00\\n\\x00\\x0c\\x00\\n\\x00\\x1d\\x00\\x17\\x00\\x1e\\x00\\x19\\x00\\x18\\x00#\\x00\\x00\\x00\\x16\\x00\\x00\\x00\\x17\\x00\\x00\\x00\\r\"]\n",
      "Bad pipe message: %s [b\"\\xc6E\\xc3S\\x92zL\\xaa\\x7f\\xac\\x1b\\x88\\x1b\\xda\\xf0\\xbb\\xbd \\x00\\x00\\xa6\\xc0,\\xc00\\x00\\xa3\\x00\\x9f\\xcc\\xa9\\xcc\\xa8\\xcc\\xaa\\xc0\\xaf\\xc0\\xad\\xc0\\xa3\\xc0\\x9f\\xc0]\\xc0a\\xc0W\\xc0S\\xc0+\\xc0/\\x00\\xa2\\x00\\x9e\\xc0\\xae\\xc0\\xac\\xc0\\xa2\\xc0\\x9e\\xc0\\\\\\xc0`\\xc0V\\xc0R\\xc0$\\xc0(\\x00k\\x00j\\xc0s\\xc0w\\x00\\xc4\\x00\\xc3\\xc0#\\xc0'\\x00g\\x00@\\xc0r\\xc0v\\x00\\xbe\\x00\\xbd\\xc0\\n\\xc0\\x14\\x009\\x008\\x00\\x88\\x00\\x87\\xc0\\t\\xc0\\x13\\x003\\x002\\x00\\x9a\\x00\\x99\\x00E\\x00D\\xc0\\x07\\xc0\\x11\\xc0\\x08\\xc0\\x12\\x00\\x16\\x00\\x13\\x00\\x9d\\xc0\\xa1\\xc0\\x9d\\xc0Q\\x00\\x9c\\xc0\\xa0\\xc0\\x9c\\xc0P\\x00=\\x00\\xc0\\x00<\\x00\\xba\\x005\\x00\\x84\\x00/\\x00\\x96\\x00A\\x00\\x05\\x00\\n\\x00\\xff\\x01\\x00\\x00j\\x00\\x00\\x00\\x0e\\x00\\x0c\\x00\\x00\\t127.0.0.1\\x00\\x0b\\x00\\x04\"]\n",
      "Bad pipe message: %s [b'\\x01\\x02']\n",
      "Bad pipe message: %s [b'.W \\xd2\\x0bkv\\xdf\\xed\\x84\\xfd\\x92yf\\x07\\xea\\x0c4\\x00\\x00\\xa2\\xc0\\x14\\xc0\\n\\x009\\x008\\x007\\x006\\x00\\x88\\x00\\x87\\x00\\x86\\x00\\x85\\xc0\\x19\\x00:\\x00\\x89\\xc0\\x0f\\xc0\\x05\\x005\\x00\\x84\\xc0\\x13\\xc0\\t\\x003\\x002\\x001\\x000\\x00\\x9a\\x00\\x99\\x00\\x98\\x00\\x97\\x00E\\x00D\\x00C\\x00B\\xc0\\x18\\x004\\x00\\x9b\\x00F\\xc0\\x0e\\xc0\\x04\\x00/\\x00\\x96\\x00A\\x00\\x07\\xc0\\x11\\xc0\\x07\\xc0\\x16\\x00\\x18\\xc0\\x0c\\xc0\\x02\\x00\\x05\\x00\\x04\\xc0\\x12']\n",
      "Bad pipe message: %s [b'\\x18\\xaf\\x1fC\\xae1\\xa6\\x0f{\\x88\\x9aJ', b'=k\\xce\\x85\\x00\\x00\\xa2\\xc0\\x14\\xc0\\n\\x009\\x008\\x007\\x006\\x00\\x88\\x00\\x87\\x00\\x86\\x00\\x85\\xc0\\x19\\x00:\\x00\\x89\\xc0\\x0f\\xc0\\x05\\x005\\x00\\x84\\xc0\\x13\\xc0\\t\\x003\\x002\\x001\\x000\\x00\\x9a\\x00\\x99\\x00\\x98\\x00\\x97\\x00E\\x00D\\x00C\\x00B\\xc0\\x18\\x004\\x00\\x9b\\x00F\\xc0\\x0e\\xc0\\x04\\x00/\\x00\\x96\\x00A\\x00\\x07\\xc0\\x11\\xc0\\x07\\xc0\\x16\\x00\\x18\\xc0\\x0c\\xc0\\x02\\x00\\x05\\x00\\x04\\xc0\\x12\\xc0\\x08\\x00\\x16\\x00\\x13\\x00\\x10\\x00\\r\\xc0\\x17\\x00\\x1b\\xc0\\r\\xc0\\x03\\x00\\n\\x00\\x15\\x00\\x12\\x00\\x0f\\x00\\x0c\\x00\\x1a\\x00\\t\\x00\\x14\\x00\\x11\\x00\\x19\\x00\\x08\\x00\\x06\\x00\\x17\\x00\\x03\\xc0\\x10\\xc0\\x06\\xc0\\x15\\xc0\\x0b\\xc0\\x01\\x00\\x02\\x00\\x01\\x00\\xff\\x02\\x01\\x00\\x00C\\x00\\x00\\x00\\x0e\\x00\\x0c\\x00\\x00\\t127.0.0.', b'\\x0b\\x00\\x04\\x03\\x00\\x01\\x02\\x00\\n\\x00\\x1c\\x00\\x1a\\x00\\x17\\x00\\x19\\x00\\x1c\\x00\\x1b\\x00\\x18\\x00\\x1a\\x00\\x16\\x00\\x0e\\x00\\r\\x00\\x0b\\x00\\x0c\\x00\\t\\x00\\n\\x00#\\x00\\x00\\x00\\x0f\\x00\\x01\\x01']\n",
      "Bad pipe message: %s [b'@\\x95\"U\\x19\\xd3\\x8e\\x87\\xb9\\xf8\\xd5\\xd5?\\x03\\xea+\\x9c\\x12\\x00\\x00\\xa2\\xc0\\x14\\xc0\\n\\x009\\x008\\x007\\x006\\x00\\x88\\x00\\x87\\x00\\x86\\x00\\x85\\xc0\\x19\\x00:\\x00\\x89\\xc0\\x0f\\xc0\\x05\\x005\\x00\\x84\\xc0\\x13\\xc0\\t\\x003\\x002\\x001\\x000\\x00\\x9a\\x00\\x99\\x00']\n",
      "Bad pipe message: %s [b\"\\xb4:\\x918\\x8a+\\x9b\\x10;\\xd7\\x9bt#\\x05\\xbd{x\\xc1\\x00\\x00\\x86\\xc00\\xc0,\\xc0(\\xc0$\\xc0\\x14\\xc0\\n\\x00\\xa5\\x00\\xa3\\x00\\xa1\\x00\\x9f\\x00k\\x00j\\x00i\\x00h\\x009\\x008\\x007\\x006\\xc02\\xc0.\\xc0*\\xc0&\\xc0\\x0f\\xc0\\x05\\x00\\x9d\\x00=\\x005\\xc0/\\xc0+\\xc0'\\xc0#\\xc0\\x13\\xc0\\t\\x00\\xa4\\x00\\xa2\\x00\\xa0\\x00\\x9e\\x00g\\x00@\\x00?\\x00>\\x003\\x002\\x001\\x000\\xc01\\xc0-\\xc0)\\xc0%\\xc0\\x0e\\xc0\\x04\\x00\\x9c\\x00<\\x00/\\x00\\x9a\\x00\\x99\\x00\\x98\\x00\\x97\\x00\\x96\\x00\\x07\\xc0\\x11\\xc0\\x07\\xc0\\x0c\\xc0\\x02\\x00\\x05\\x00\\x04\\x00\\xff\\x02\\x01\\x00\\x00g\\x00\\x00\\x00\\x0e\\x00\\x0c\\x00\\x00\\t127.0.0.1\\x00\\x0b\\x00\\x04\\x03\\x00\\x01\\x02\\x00\\n\\x00\\x1c\\x00\\x1a\\x00\\x17\\x00\\x19\\x00\\x1c\\x00\"]\n",
      "Bad pipe message: %s [b'\\x18\\x00\\x1a\\x00\\x16\\x00\\x0e\\x00\\r\\x00\\x0b\\x00\\x0c\\x00\\t\\x00\\n\\x00#\\x00\\x00\\x00\\r\\x00 \\x00']\n",
      "Bad pipe message: %s [b'\\x01\\x06\\x02\\x06\\x03\\x05\\x01\\x05\\x02\\x05\\x03\\x04\\x01\\x04\\x02\\x04\\x03\\x03\\x01\\x03\\x02\\x03\\x03\\x02\\x01\\x02\\x02\\x02\\x03']\n"
     ]
    }
   ],
   "source": [
    "print(results)"
   ]
  },
  {
   "cell_type": "code",
   "execution_count": null,
   "id": "5cdb20b6-78ba-4fc0-bc9e-09291073c5d3",
   "metadata": {},
   "outputs": [],
   "source": []
  }
 ],
 "metadata": {
  "kernelspec": {
   "display_name": "openai",
   "language": "python",
   "name": "openai"
  },
  "language_info": {
   "codemirror_mode": {
    "name": "ipython",
    "version": 3
   },
   "file_extension": ".py",
   "mimetype": "text/x-python",
   "name": "python",
   "nbconvert_exporter": "python",
   "pygments_lexer": "ipython3",
   "version": "3.9.17"
  }
 },
 "nbformat": 4,
 "nbformat_minor": 5
}
