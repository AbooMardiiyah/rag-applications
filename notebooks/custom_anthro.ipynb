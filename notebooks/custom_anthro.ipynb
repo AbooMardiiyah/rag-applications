{
 "cells": [
  {
   "cell_type": "code",
   "execution_count": 24,
   "id": "4a3eeaba-c1c8-4279-ae63-61ff99c6d119",
   "metadata": {},
   "outputs": [],
   "source": [
    "from deepeval.models.base_model import DeepEvalBaseLLM\n",
    "from deepeval import evaluate\n",
    "from deepeval.metrics import FaithfulnessMetric, AnswerRelevancyMetric\n",
    "from deepeval.test_case import LLMTestCase\n",
    "from deepeval.dataset import EvaluationDataset\n",
    "from anthropic import Anthropic, AsyncAnthropic\n",
    "from typing import Literal\n",
    "\n",
    "import sys\n",
    "sys.path.append('../')\n",
    "\n",
    "from src.llm.llm_interface import LLM\n",
    "from dotenv import load_dotenv, find_dotenv\n",
    "envs = load_dotenv(find_dotenv(), override=True)\n",
    "\n",
    "class CustomAnthropic(DeepEvalBaseLLM):\n",
    "    def __init__(\n",
    "        self,\n",
    "        model: Literal['claude-3-haiku-20240307', 'claude-3-sonnet-2024022', 'claude-3-opus-20240229']\n",
    "    ):\n",
    "        self.accepted_model_types = ['claude-3-haiku-20240307', 'claude-3-sonnet-2024022', 'claude-3-opus-20240229']\n",
    "        if model not in self.accepted_model_types:\n",
    "            raise ValueError(f'{model} is not found in {self.accepted_model_types}. Retry with acceptable model type')\n",
    "        self.model = model\n",
    "\n",
    "    def load_model(self, async_mode: bool=False):\n",
    "        if async_mode:\n",
    "            return AsyncAnthropic(api_key=os.environ['ANTHROPIC_API_KEY'])\n",
    "        return Anthropic(api_key=os.environ['ANTHROPIC_API_KEY'])\n",
    "\n",
    "    def generate(self, prompt: str) -> str:\n",
    "        client = self.load_model()\n",
    "        message = client.messages.create(\n",
    "                                        max_tokens=1024,\n",
    "                                        messages=[\n",
    "                                            {\n",
    "                                                \"role\": \"user\",\n",
    "                                                \"content\": prompt,\n",
    "                                            }\n",
    "                                        ],\n",
    "                                        model=self.model,\n",
    "                                    )\n",
    "        if message:\n",
    "            return message.content[0].text\n",
    "        return \"no message returned\"\n",
    "\n",
    "    async def a_generate(self, prompt: str) -> str:\n",
    "        aclient = self.load_model(async_mode=True)\n",
    "        message = await aclient.messages.create(\n",
    "                                                max_tokens=1024,\n",
    "                                                messages=[\n",
    "                                                    {\n",
    "                                                        \"role\": \"user\",\n",
    "                                                        \"content\": prompt,\n",
    "                                                    }\n",
    "                                                ],\n",
    "                                                model=self.model,\n",
    "                                    )\n",
    "        if message:\n",
    "            return message.content[0].text\n",
    "        return \"no message returned\"\n",
    "\n",
    "    def get_model_name(self):\n",
    "        return \"Custom Anthropic Model\"\n",
    "\n",
    "claude = CustomAnthropic(model='claude-3-haiku-20240307')\n",
    "# print(azure_openai.generate(\"Write me a joke\"))"
   ]
  },
  {
   "cell_type": "code",
   "execution_count": 25,
   "id": "477589b5-dc28-4222-9f2d-466fe9dac195",
   "metadata": {},
   "outputs": [],
   "source": [
    "metric = FaithfulnessMetric(threshold=0.7, model=claude)"
   ]
  },
  {
   "cell_type": "code",
   "execution_count": 26,
   "id": "beb09df0-f978-4d0e-9206-3955f34d7331",
   "metadata": {},
   "outputs": [],
   "source": [
    "atuple = ('Give a brief explanation of how brain neuroplasticity works',\n",
    " ['The noise goes up and the signal goes down. Again, incredibly important set of findings. I should also mention that hyperventilation is one way that in the laboratory anyway, or in neurosurgery units for some time, physicians would evoke seizure in seizure prone patients. The reason that works is exactly the explanation I just gave you. Seizure is a hyper excitability of the brain, not enough inhibition or suppression of the overall circuitry. So you get these waves or these storms of electrical activity.',\n",
    "  'Neuroplasticity is our nervous system, which of course includes the brain, the spinal cord, and all the connections between the brain and spinal cord and the organs and tissues of the body, and then all the neural connections back from the organs and tissues of the body to the brain and spinal cord, so the whole thing in both directions, has the ability to change in response to experience in ways that are adaptive. That is, that allows us to do things that we could not do before.',\n",
    "  \"Neuroplasticity broadly defined is the nervous system's ability to change in response to experience. But at a cellular level, that occurs through a couple of different mechanisms. One of the main mechanisms is something called long-term potentiation. Long-term potentiation involves the strengthening of particular connections between neurons. The connection sites between neurons we call synapses. Actually, technically synapses are the gaps between those connections, but nonetheless, synapses are the point of communication between neurons and those can be strengthened so that certain neurons can talk to other neurons more robustly than they happened to before.\"],\n",
    " \"Neuroplasticity is the nervous system's ability to change in response to experience. At a cellular level, this occurs through mechanisms such as long-term potentiation, which involves strengthening specific connections between neurons at synapses. This strengthening allows certain neurons to communicate more effectively with each other, enabling the nervous system to adapt and learn based on experiences.\")"
   ]
  },
  {
   "cell_type": "code",
   "execution_count": 28,
   "id": "f2718bb1-7699-48e7-8b3b-581e96470a71",
   "metadata": {},
   "outputs": [],
   "source": [
    "test_case = LLMTestCase(input=atuple[0], actual_output=atuple[-1], retrieval_context=atuple[1])"
   ]
  },
  {
   "cell_type": "code",
   "execution_count": 29,
   "id": "3a169240-f124-4f9f-97e1-d73779467433",
   "metadata": {},
   "outputs": [
    {
     "data": {
      "application/vnd.jupyter.widget-view+json": {
       "model_id": "",
       "version_major": 2,
       "version_minor": 0
      },
      "text/plain": [
       "Output()"
      ]
     },
     "metadata": {},
     "output_type": "display_data"
    },
    {
     "data": {
      "text/html": [
       "<pre style=\"white-space:pre;overflow-x:auto;line-height:normal;font-family:Menlo,'DejaVu Sans Mono',consolas,'Courier New',monospace\">Event loop is already running. Applying nest_asyncio patch to allow async execution...\n",
       "</pre>\n"
      ],
      "text/plain": [
       "Event loop is already running. Applying nest_asyncio patch to allow async execution...\n"
      ]
     },
     "metadata": {},
     "output_type": "display_data"
    },
    {
     "data": {
      "text/html": [
       "<pre style=\"white-space:pre;overflow-x:auto;line-height:normal;font-family:Menlo,'DejaVu Sans Mono',consolas,'Courier New',monospace\"></pre>\n"
      ],
      "text/plain": []
     },
     "metadata": {},
     "output_type": "display_data"
    },
    {
     "data": {
      "text/html": [
       "<pre style=\"white-space:pre;overflow-x:auto;line-height:normal;font-family:Menlo,'DejaVu Sans Mono',consolas,'Courier New',monospace\">\n",
       "</pre>\n"
      ],
      "text/plain": [
       "\n"
      ]
     },
     "metadata": {},
     "output_type": "display_data"
    }
   ],
   "source": [
    "metric.measure(test_case)"
   ]
  },
  {
   "cell_type": "code",
   "execution_count": 30,
   "id": "79270624-4569-4577-b13a-44cf91bdc175",
   "metadata": {},
   "outputs": [
    {
     "data": {
      "text/plain": [
       "1.0"
      ]
     },
     "execution_count": 30,
     "metadata": {},
     "output_type": "execute_result"
    }
   ],
   "source": [
    "metric.score"
   ]
  },
  {
   "cell_type": "code",
   "execution_count": 31,
   "id": "6b7d7d68-f648-4c32-b974-5472f2cd8db3",
   "metadata": {},
   "outputs": [
    {
     "data": {
      "text/plain": [
       "\"The faithfulness score is 1.00 because there are no contradictions between the retrieval context and the actual output. The lack of any contradictions indicates that the actual output is fully aligned with the information presented in the retrieval context, demonstrating a high level of faithfulness. This is an excellent result, showcasing the system's ability to generate output that is consistent and true to the provided information.\""
      ]
     },
     "execution_count": 31,
     "metadata": {},
     "output_type": "execute_result"
    }
   ],
   "source": [
    "metric.reason"
   ]
  },
  {
   "cell_type": "code",
   "execution_count": 32,
   "id": "a3e828af-351a-4b28-ac5b-06f59ab746fb",
   "metadata": {},
   "outputs": [
    {
     "data": {
      "text/plain": [
       "[\"Neuroplasticity is the nervous system's ability to change in response to experience.\",\n",
       " 'At a cellular level, neuroplasticity occurs through mechanisms such as long-term potentiation, which involves strengthening specific connections between neurons at synapses.',\n",
       " 'Strengthening of connections between neurons at synapses allows certain neurons to communicate more effectively with each other, enabling the nervous system to adapt and learn based on experiences.']"
      ]
     },
     "execution_count": 32,
     "metadata": {},
     "output_type": "execute_result"
    }
   ],
   "source": [
    "metric.claims"
   ]
  },
  {
   "cell_type": "code",
   "execution_count": 33,
   "id": "f25c2ca1-930b-4618-81ca-0cf201ca2ac8",
   "metadata": {},
   "outputs": [],
   "source": [
    "metric.evaluation_cost"
   ]
  },
  {
   "cell_type": "code",
   "execution_count": 34,
   "id": "3ba849e7-f437-4327-80df-223b2562b011",
   "metadata": {},
   "outputs": [
    {
     "data": {
      "text/plain": [
       "'Custom Anthropic Model'"
      ]
     },
     "execution_count": 34,
     "metadata": {},
     "output_type": "execute_result"
    }
   ],
   "source": [
    "metric.evaluation_model"
   ]
  },
  {
   "cell_type": "code",
   "execution_count": 36,
   "id": "4a629fb1-f815-4747-aca5-1d63d955f0d3",
   "metadata": {},
   "outputs": [
    {
     "data": {
      "text/plain": [
       "['The noise goes up and the signal goes down.',\n",
       " 'Hyperventilation is one way that in the laboratory anyway, or in neurosurgery units for some time, physicians would evoke seizure in seizure prone patients.',\n",
       " 'The reason that hyperventilation works is that seizure is a hyper excitability of the brain, not enough inhibition or suppression of the overall circuitry.',\n",
       " \"Neuroplasticity is the nervous system's ability to change in response to experience in ways that are adaptive.\",\n",
       " 'Neuroplasticity includes the brain, the spinal cord, and all the connections between the brain and spinal cord and the organs and tissues of the body, and then all the neural connections back from the organs and tissues of the body to the brain and spinal cord.',\n",
       " 'One of the main mechanisms of neuroplasticity is long-term potentiation, which involves the strengthening of particular connections between neurons.',\n",
       " 'Synapses are the point of communication between neurons and can be strengthened so that certain neurons can talk to other neurons more robustly than they happened to before.']"
      ]
     },
     "execution_count": 36,
     "metadata": {},
     "output_type": "execute_result"
    },
    {
     "name": "stderr",
     "output_type": "stream",
     "text": [
      "Bad pipe message: %s [b\"\\xe7,\\t5\\xca\\xe8\\xf8\\xfb\\xc4\\xe1\\x11\\x85\\xe9\\xca'v(\\x9c \\x9dc\\x81\"]\n",
      "Bad pipe message: %s [b'\\xe8\\x97\\\\\\xe2h\\xff\\x80\\xb9\\xf2\\x87\\xe4\\xdf\\xa0\\xe2\\x9eP\\xae\\x8f\\x00\\x00\\xa6\\xc0,\\xc00\\x00\\xa3\\x00\\x9f\\xcc\\xa9\\xcc\\xa8\\xcc\\xaa\\xc0\\xaf', b\"\\xc0\\xa3\\xc0\\x9f\\xc0]\\xc0a\\xc0W\\xc0S\\xc0+\\xc0/\\x00\\xa2\\x00\\x9e\\xc0\\xae\\xc0\\xac\\xc0\\xa2\\xc0\\x9e\\xc0\\\\\\xc0`\\xc0V\\xc0R\\xc0$\\xc0(\\x00k\\x00j\\xc0s\\xc0w\\x00\\xc4\\x00\\xc3\\xc0#\\xc0'\\x00g\\x00@\\xc0r\\xc0v\\x00\\xbe\\x00\\xbd\\xc0\\n\\xc0\\x14\\x009\\x008\\x00\\x88\\x00\\x87\\xc0\\t\\xc0\\x13\\x003\\x002\\x00\\x9a\\x00\\x99\\x00E\\x00D\\xc0\\x07\\xc0\\x11\\xc0\\x08\\xc0\\x12\\x00\\x16\\x00\\x13\\x00\\x9d\\xc0\\xa1\\xc0\\x9d\\xc0Q\\x00\\x9c\\xc0\\xa0\\xc0\\x9c\\xc0P\\x00=\\x00\\xc0\\x00<\\x00\\xba\\x005\\x00\\x84\\x00/\\x00\\x96\\x00A\\x00\\x05\\x00\\n\\x00\\xff\\x01\\x00\\x00j\\x00\\x00\\x00\\x0e\\x00\\x0c\\x00\\x00\\t127.0.0.1\\x00\\x0b\\x00\\x04\\x03\\x00\\x01\\x02\\x00\\n\\x00\\x0c\\x00\\n\\x00\\x1d\\x00\\x17\\x00\\x1e\\x00\", b'\\x18\\x00#\\x00\\x00\\x00\\x16\\x00\\x00\\x00\\x17\\x00\\x00\\x00\\r\\x000\\x00.\\x04\\x03\\x05\\x03\\x06']\n",
      "Bad pipe message: %s [b'\\x07\\x08']\n",
      "Bad pipe message: %s [b'\\t\\x08\\n\\x08\\x0b\\x08\\x04']\n",
      "Bad pipe message: %s [b'\\x08\\x06\\x04\\x01\\x05\\x01\\x06', b'', b'\\x03\\x03']\n",
      "Bad pipe message: %s [b'']\n",
      "Bad pipe message: %s [b'Z\\x7f\\xcd\\x0f\\xe7\\x1d\\xe7o\\xea\\xa6X\\x8bK?g/\\xe0\\xfb\\x00\\x00>\\xc0\\x14\\xc0\\n\\x009\\x008\\x007\\x006\\xc0\\x0f\\xc0\\x05\\x005\\xc0\\x13\\xc0\\t\\x003\\x002\\x001\\x000\\xc0\\x0e\\xc0\\x04\\x00/\\x00\\x9a\\x00\\x99\\x00\\x98\\x00\\x97\\x00\\x96\\x00\\x07\\xc0\\x11\\xc0\\x07\\xc0\\x0c\\xc0\\x02\\x00\\x05\\x00\\x04\\x00\\xff\\x02\\x01\\x00\\x00C\\x00\\x00\\x00\\x0e']\n",
      "Bad pipe message: %s [b'', b'\\x02']\n",
      "Bad pipe message: %s [b'\\x05\\x02\\x06']\n",
      "Bad pipe message: %s [b'A\\xb7\\x0eC\\xfe!S\\xd6{\\xf2T\"\\xd4\\\\\\xa5\\xa9\\x0f\\xfd\\x00\\x00\\xa2\\xc0\\x14\\xc0\\n\\x009\\x008\\x007\\x006\\x00\\x88\\x00\\x87\\x00\\x86\\x00\\x85\\xc0\\x19\\x00:\\x00\\x89\\xc0\\x0f\\xc0\\x05\\x005\\x00\\x84\\xc0\\x13\\xc0\\t\\x003\\x002\\x001\\x000\\x00\\x9a\\x00\\x99\\x00\\x98\\x00\\x97\\x00E\\x00D\\x00C\\x00B\\xc0\\x18\\x004\\x00\\x9b\\x00F\\xc0\\x0e\\xc0\\x04\\x00/\\x00\\x96\\x00A\\x00\\x07\\xc0\\x11\\xc0\\x07\\xc0\\x16\\x00\\x18\\xc0\\x0c\\xc0\\x02\\x00\\x05\\x00\\x04\\xc0\\x12\\xc0\\x08\\x00\\x16\\x00\\x13\\x00\\x10\\x00\\r\\xc0\\x17\\x00\\x1b\\xc0\\r\\xc0\\x03\\x00\\n\\x00\\x15\\x00\\x12\\x00\\x0f\\x00\\x0c\\x00\\x1a\\x00\\t\\x00\\x14\\x00\\x11\\x00\\x19\\x00\\x08\\x00\\x06\\x00\\x17\\x00\\x03\\xc0\\x10\\xc0\\x06\\xc0\\x15\\xc0\\x0b\\xc0\\x01\\x00\\x02\\x00\\x01\\x00\\xff\\x02\\x01\\x00\\x00C\\x00\\x00\\x00\\x0e\\x00\\x0c\\x00\\x00\\t127.0.0.1\\x00\\x0b\\x00\\x04\\x03\\x00\\x01\\x02\\x00\\n\\x00\\x1c\\x00\\x1a\\x00\\x17\\x00\\x19\\x00\\x1c\\x00\\x1b\\x00\\x18\\x00\\x1a\\x00\\x16\\x00\\x0e\\x00\\r\\x00\\x0b\\x00', b'\\t\\x00\\n\\x00#\\x00\\x00\\x00\\x0f\\x00\\x01']\n",
      "Bad pipe message: %s [b'', b'\\x00\\x02']\n",
      "Bad pipe message: %s [b'Yn\\x1b!\\xc4\\xd4\\xe1ty\\xb6*o\\x89\\xa6\\xcc\\xc0q\\xae\\x00\\x00\\xa2\\xc0\\x14\\xc0\\n\\x009\\x008\\x007\\x006\\x00\\x88\\x00\\x87\\x00\\x86\\x00\\x85\\xc0\\x19\\x00:\\x00\\x89\\xc0\\x0f\\xc0\\x05\\x005\\x00\\x84\\xc0\\x13\\xc0\\t\\x003\\x002\\x001\\x000\\x00\\x9a\\x00\\x99\\x00\\x98\\x00\\x97\\x00E\\x00D\\x00C\\x00B\\xc0\\x18\\x004\\x00\\x9b\\x00F\\xc0\\x0e\\xc0\\x04\\x00/\\x00\\x96\\x00A\\x00\\x07\\xc0\\x11\\xc0\\x07\\xc0\\x16\\x00\\x18\\xc0\\x0c\\xc0\\x02\\x00\\x05\\x00\\x04\\xc0\\x12\\xc0\\x08\\x00\\x16\\x00\\x13\\x00\\x10\\x00\\r\\xc0\\x17\\x00\\x1b\\xc0\\r\\xc0\\x03\\x00\\n\\x00\\x15\\x00\\x12\\x00\\x0f\\x00\\x0c\\x00\\x1a\\x00\\t\\x00\\x14\\x00\\x11\\x00\\x19\\x00\\x08\\x00\\x06\\x00\\x17\\x00\\x03\\xc0\\x10\\xc0\\x06\\xc0\\x15\\xc0\\x0b\\xc0\\x01\\x00\\x02\\x00\\x01\\x00\\xff\\x02\\x01\\x00\\x00C\\x00\\x00\\x00\\x0e\\x00\\x0c\\x00\\x00\\t127.0.0.1\\x00\\x0b\\x00\\x04\\x03\\x00\\x01\\x02\\x00\\n\\x00\\x1c\\x00', b'\\x17\\x00\\x19\\x00\\x1c\\x00\\x1b\\x00\\x18\\x00\\x1a\\x00\\x16\\x00\\x0e\\x00\\r\\x00\\x0b\\x00\\x0c\\x00\\t\\x00\\n']\n",
      "Bad pipe message: %s [b'\\xb3[#\\x02\\xc8ky\\x12Y5&\\x8ag/L\\xf1\\xc9\\xf5\\x00\\x00>\\xc0\\x14\\xc0\\n\\x009\\x008\\x007\\x006\\xc0\\x0f\\xc0\\x05\\x005\\xc0\\x13\\xc0\\t\\x003\\x002\\x001\\x000\\xc0\\x0e\\xc0\\x04\\x00/']\n",
      "Bad pipe message: %s [b';!\\xdd\\xd6\\x89\\x1a\\x8f\\xfb /\\xf9\\xa6ceD\\xfd\\xd6\\xeb\\x00\\x00\\x86\\xc00\\xc0,\\xc0(\\xc0$\\xc0\\x14\\xc0\\n\\x00\\xa5\\x00\\xa3\\x00\\xa1\\x00\\x9f']\n"
     ]
    }
   ],
   "source": [
    "metric.truths"
   ]
  },
  {
   "cell_type": "code",
   "execution_count": null,
   "id": "9bed6d61-4847-4739-8f16-982546b18b11",
   "metadata": {},
   "outputs": [],
   "source": []
  }
 ],
 "metadata": {
  "kernelspec": {
   "display_name": "openai",
   "language": "python",
   "name": "openai"
  },
  "language_info": {
   "codemirror_mode": {
    "name": "ipython",
    "version": 3
   },
   "file_extension": ".py",
   "mimetype": "text/x-python",
   "name": "python",
   "nbconvert_exporter": "python",
   "pygments_lexer": "ipython3",
   "version": "3.10.13"
  }
 },
 "nbformat": 4,
 "nbformat_minor": 5
}
