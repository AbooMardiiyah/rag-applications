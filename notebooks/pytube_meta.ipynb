{
 "cells": [
  {
   "cell_type": "code",
   "execution_count": 42,
   "id": "89bc8a48-ce4c-4c16-a6f8-3b4c3251e11d",
   "metadata": {},
   "outputs": [],
   "source": [
    "from pytube import YouTube, Playlist, extract\n",
    "from bs4 import BeautifulSoup\n",
    "import pandas as pd\n",
    "import requests\n",
    "import json\n",
    "from preprocessing import Utilities\n",
    "from tqdm.notebook import tqdm\n",
    "import os"
   ]
  },
  {
   "cell_type": "code",
   "execution_count": 43,
   "id": "4e90dd3a-d747-4d2c-b23a-93f417953157",
   "metadata": {},
   "outputs": [],
   "source": [
    "ji = 'https://www.youtube.com/playlist?list=PLrFazGK5nFPwlVrpZkJMJa6wYDWgOg2xe'\n",
    "huberman = 'https://www.youtube.com/playlist?list=PLPNW_gerXa4Pc8S2qoUQc5e8Ir97RLuVW'"
   ]
  },
  {
   "cell_type": "code",
   "execution_count": 93,
   "id": "a6f61806-d344-4457-af7e-b6e465da03f8",
   "metadata": {},
   "outputs": [],
   "source": [
    "playlist = Playlist(url=huberman)"
   ]
  },
  {
   "cell_type": "code",
   "execution_count": 89,
   "id": "fb632d3e-6aca-4257-81f1-dcb1ecc8c305",
   "metadata": {},
   "outputs": [
    {
     "data": {
      "text/plain": [
       "'https://www.youtube.com/watch?v=Sit1reDPBcY'"
      ]
     },
     "execution_count": 89,
     "metadata": {},
     "output_type": "execute_result"
    }
   ],
   "source": [
    "playlist[0]"
   ]
  },
  {
   "cell_type": "code",
   "execution_count": 94,
   "id": "6966db9e-7ac1-402d-bd8d-7716a7655e34",
   "metadata": {},
   "outputs": [],
   "source": [
    "huberman_dir = './data/videos/huberman/'"
   ]
  },
  {
   "cell_type": "code",
   "execution_count": 87,
   "id": "fd4b99f9-8c17-4aea-9e89-4f3ed502810e",
   "metadata": {},
   "outputs": [],
   "source": [
    "def download_audio(video_url: str, out_dir: str):\n",
    "  \"\"\"Download youtube video and return videoDetails\"\"\"\n",
    "  if not os.path.exists(out_dir):\n",
    "      os.makedirs(out_dir)\n",
    "  yt = YouTube(video_url)\n",
    "  (yt.streams\n",
    "    .filter(only_audio=True, file_extension = \"mp4\")\n",
    "    .desc()\n",
    "    .first()\n",
    "    .download(filename = f\"{os.path.join(out_dir, yt.video_id)}.mp4\"))\n",
    "  metadata = yt.vid_info['videoDetails']\n",
    "  metadata['show_url'] = video_url\n",
    "  return metadata"
   ]
  },
  {
   "cell_type": "code",
   "execution_count": 90,
   "id": "dfab01f0-2ac8-47a5-be41-d7550d68470a",
   "metadata": {},
   "outputs": [],
   "source": [
    "info = download_audio(playlist[0], huberman_dir)"
   ]
  },
  {
   "cell_type": "code",
   "execution_count": 95,
   "id": "6a81c27c-1b7e-4bab-9b6c-f76d80296399",
   "metadata": {},
   "outputs": [],
   "source": [
    "meta_list= []\n",
    "\n",
    "for num in range(3):\n",
    "    meta = download_audio(playlist[num], out_dir=huberman_dir)\n",
    "    meta_list.append(meta)"
   ]
  },
  {
   "cell_type": "code",
   "execution_count": 97,
   "id": "1347e5ed-6e6c-4668-887f-123eb55e742b",
   "metadata": {},
   "outputs": [],
   "source": [
    "with open('./data/huberman_meta.json', 'w') as f:\n",
    "    json.dump(meta_list, f)"
   ]
  },
  {
   "cell_type": "code",
   "execution_count": null,
   "id": "72aadcc4-dc71-441e-ad34-dc68d5bbd042",
   "metadata": {},
   "outputs": [],
   "source": []
  },
  {
   "cell_type": "code",
   "execution_count": null,
   "id": "80c87a12-07de-4734-b255-86e2dbf31931",
   "metadata": {},
   "outputs": [],
   "source": []
  },
  {
   "cell_type": "code",
   "execution_count": null,
   "id": "fe47e29e-5b5d-4bd9-a8be-e8622a3d5d7f",
   "metadata": {},
   "outputs": [],
   "source": []
  },
  {
   "cell_type": "code",
   "execution_count": null,
   "id": "0a7e1fc1-255b-43a5-84c0-c4e93b9ede63",
   "metadata": {},
   "outputs": [],
   "source": []
  },
  {
   "cell_type": "code",
   "execution_count": null,
   "id": "8d0ec7c9-ca33-4b30-b3d9-6c0c3a557a74",
   "metadata": {},
   "outputs": [],
   "source": []
  },
  {
   "cell_type": "code",
   "execution_count": null,
   "id": "d06183f1-0218-43c4-9572-b32c40e81cb5",
   "metadata": {},
   "outputs": [],
   "source": []
  },
  {
   "cell_type": "code",
   "execution_count": null,
   "id": "f29332c6-6834-4204-8d37-9df9924f1bbb",
   "metadata": {},
   "outputs": [],
   "source": []
  },
  {
   "cell_type": "code",
   "execution_count": null,
   "id": "a9a977cd-c247-4ab5-8404-59575515fff7",
   "metadata": {},
   "outputs": [],
   "source": []
  },
  {
   "cell_type": "code",
   "execution_count": null,
   "id": "784e9da5-7fed-46d7-b870-5a68c153cda0",
   "metadata": {},
   "outputs": [],
   "source": []
  },
  {
   "cell_type": "code",
   "execution_count": null,
   "id": "6dc5643a-2614-4113-bbd3-e966d0b9ac5c",
   "metadata": {},
   "outputs": [],
   "source": []
  },
  {
   "cell_type": "code",
   "execution_count": null,
   "id": "1c89bb68-557c-49d1-8a08-5f44b65435a9",
   "metadata": {},
   "outputs": [],
   "source": []
  },
  {
   "cell_type": "code",
   "execution_count": null,
   "id": "f56f2a2b-1b4f-4a82-9748-99186b88f773",
   "metadata": {},
   "outputs": [],
   "source": []
  },
  {
   "cell_type": "code",
   "execution_count": null,
   "id": "c84ce4d8-7669-4a53-a535-121f990064f9",
   "metadata": {},
   "outputs": [],
   "source": []
  },
  {
   "cell_type": "code",
   "execution_count": null,
   "id": "59981744-76ff-447c-8b44-7d347cf3ef01",
   "metadata": {},
   "outputs": [],
   "source": []
  },
  {
   "cell_type": "code",
   "execution_count": null,
   "id": "b84ec1e2-bd65-4319-9125-89944750851a",
   "metadata": {},
   "outputs": [],
   "source": [
    "def create_video_url(video_id: str, playlist_id: str):\n",
    "    return f'https://www.youtube.com/watch?v={video_id}&list={playlist_id}'"
   ]
  },
  {
   "cell_type": "code",
   "execution_count": 10,
   "id": "01ef653b-d4ba-4396-9cfd-3f121a83b6ed",
   "metadata": {},
   "outputs": [],
   "source": [
    "def get_meta_download_audio(link: str, download_audio: bool=False, audio_dest: str='./'):\n",
    "    try:\n",
    "        video = YouTube(link)\n",
    "        meta = build_metadata_dict(video)\n",
    "        if download_audio:\n",
    "            audio = video.streams.filter(only_audio=True, file_extension='mp4').first()\n",
    "            audio.download(audio_dest, skip_existing=False)\n",
    "        return meta\n",
    "    except Exception as e:\n",
    "        print(e)"
   ]
  },
  {
   "cell_type": "code",
   "execution_count": 11,
   "id": "5a58a338-4f5f-4a0c-927e-70a31bf02426",
   "metadata": {},
   "outputs": [],
   "source": [
    "test = [get_meta_download_audio(link) for link in links]"
   ]
  },
  {
   "cell_type": "code",
   "execution_count": 12,
   "id": "bb30274a-37fa-4fbb-8303-09f830144c68",
   "metadata": {},
   "outputs": [
    {
     "data": {
      "text/plain": [
       "5"
      ]
     },
     "execution_count": 12,
     "metadata": {},
     "output_type": "execute_result"
    }
   ],
   "source": [
    "len(test)"
   ]
  },
  {
   "cell_type": "code",
   "execution_count": null,
   "id": "3751592a-3aae-4e59-8a3b-b29e267361b6",
   "metadata": {},
   "outputs": [],
   "source": [
    "def build_metadata_dict(ytobject: YouTube):\n",
    "    meta = {}\n",
    "    meta['video_id'] = ytobject.video_id\n",
    "    meta['description'] = ytobject.description if ytobject.description else \"No description provided\" \n",
    "    meta['keywords'] = ytobject.keywords\n",
    "    meta['length'] = ytobject.length\n",
    "    meta['publish_date'] = ytobject.publish_date\n",
    "    meta['thumbnail_url'] = ytobject.thumbnail_url\n",
    "    meta['title'] = ytobject.title.strip()\n",
    "    meta['views'] = ytobject.views\n",
    "    return meta"
   ]
  }
 ],
 "metadata": {
  "kernelspec": {
   "display_name": "vsa",
   "language": "python",
   "name": "vsa"
  },
  "language_info": {
   "codemirror_mode": {
    "name": "ipython",
    "version": 3
   },
   "file_extension": ".py",
   "mimetype": "text/x-python",
   "name": "python",
   "nbconvert_exporter": "python",
   "pygments_lexer": "ipython3",
   "version": "3.10.13"
  }
 },
 "nbformat": 4,
 "nbformat_minor": 5
}
