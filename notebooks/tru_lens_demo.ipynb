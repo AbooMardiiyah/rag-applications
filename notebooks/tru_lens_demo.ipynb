{
 "cells": [
  {
   "cell_type": "code",
   "execution_count": 7,
   "id": "a35eb1a6-3af0-4c83-b271-9b81dca982ff",
   "metadata": {},
   "outputs": [],
   "source": [
    "import sys\n",
    "sys.path.append('../')\n",
    "\n",
    "from src.llm.llm_interface import LLM\n",
    "import os\n",
    "from openai import OpenAI\n",
    "import chromadb\n",
    "from chromadb.utils.embedding_functions import OpenAIEmbeddingFunction\n",
    "from trulens_eval import Tru\n",
    "from dotenv import load_dotenv, find_dotenv\n",
    "envs = load_dotenv(find_dotenv(), override=True)"
   ]
  },
  {
   "cell_type": "code",
   "execution_count": 8,
   "id": "0193f27d-3a28-458b-bfa2-7eb7368b099e",
   "metadata": {},
   "outputs": [],
   "source": [
    "tru = Tru()"
   ]
  },
  {
   "cell_type": "code",
   "execution_count": 20,
   "id": "1a376754-1720-432e-ba0b-6e23fcd84d11",
   "metadata": {},
   "outputs": [],
   "source": [
    "from trulens_eval.tru_custom_app import instrument\n",
    "from trulens_eval import TruCustomApp, Feedback\n",
    "from trulens_eval.feedback import Groundedness, GroundTruthAgreement"
   ]
  },
  {
   "cell_type": "code",
   "execution_count": 12,
   "id": "6e4d9fe7-c670-48e1-8692-676a3e77094a",
   "metadata": {},
   "outputs": [],
   "source": [
    "client = OpenAI()\n",
    "\n",
    "class APP:\n",
    "    def __init__(self, aoai_client: OpenAI):\n",
    "        self.client = aoai_client\n",
    "        \n",
    "    @instrument\n",
    "    def completion(self, prompt):\n",
    "        completion = self.client.chat.completions.create(\n",
    "                model=\"gpt-3.5-turbo\",\n",
    "                temperature=0,\n",
    "                messages=\n",
    "                [\n",
    "                    {\"role\": \"user\",\n",
    "                    \"content\": \n",
    "                    f\"Please answer the question: {prompt}\"\n",
    "                    }\n",
    "                ]\n",
    "                ).choices[0].message.content\n",
    "        return completion"
   ]
  },
  {
   "cell_type": "code",
   "execution_count": 30,
   "id": "ed9d70f7-af55-4d82-8759-11e6466bd6f3",
   "metadata": {},
   "outputs": [],
   "source": [
    "llm = APP(client)"
   ]
  },
  {
   "cell_type": "code",
   "execution_count": 31,
   "id": "dc18d3d7-7c87-48cd-86e5-f1fef7e94006",
   "metadata": {},
   "outputs": [
    {
     "name": "stdout",
     "output_type": "stream",
     "text": [
      "✅ In Ground Truth, input prompt will be set to __record__.main_input or `Select.RecordInput` .\n",
      "✅ In Ground Truth, input response will be set to __record__.main_output or `Select.RecordOutput` .\n"
     ]
    }
   ],
   "source": [
    "golden_set = [\n",
    "    {\"query\": \"who authored the Black Sun Rising?\", \"response\": \"Kazuo Ishiguro\"},\n",
    "    {\"query\": \"Where did Alexander the Great originate from?\", \"response\": \"Macedonia\"}\n",
    "]\n",
    "\n",
    "f_groundtruth = Feedback(GroundTruthAgreement(golden_set).agreement_measure, name = \"Ground Truth\").on_input_output()"
   ]
  },
  {
   "cell_type": "code",
   "execution_count": 32,
   "id": "15f89a2c-eedc-4e0a-b259-e8d834912948",
   "metadata": {},
   "outputs": [],
   "source": [
    "tru_app = TruCustomApp(llm, app_id='LLM App v1', feedbacks=[f_groundtruth])"
   ]
  },
  {
   "cell_type": "code",
   "execution_count": 35,
   "id": "863a24e3-0657-44bc-8132-8881ac698afb",
   "metadata": {},
   "outputs": [],
   "source": [
    "with tru_app as recording:\n",
    "    llm.completion(\"who authored the Black Sun Rising?\")\n",
    "    llm.completion('Where did Alexander the Great originate from?')"
   ]
  },
  {
   "cell_type": "code",
   "execution_count": 36,
   "id": "c5b6d1a5-22ad-416f-a424-9ed8bc00481b",
   "metadata": {},
   "outputs": [
    {
     "data": {
      "text/html": [
       "<div>\n",
       "<style scoped>\n",
       "    .dataframe tbody tr th:only-of-type {\n",
       "        vertical-align: middle;\n",
       "    }\n",
       "\n",
       "    .dataframe tbody tr th {\n",
       "        vertical-align: top;\n",
       "    }\n",
       "\n",
       "    .dataframe thead th {\n",
       "        text-align: right;\n",
       "    }\n",
       "</style>\n",
       "<table border=\"1\" class=\"dataframe\">\n",
       "  <thead>\n",
       "    <tr style=\"text-align: right;\">\n",
       "      <th></th>\n",
       "      <th>Ground Truth</th>\n",
       "      <th>latency</th>\n",
       "      <th>total_cost</th>\n",
       "    </tr>\n",
       "    <tr>\n",
       "      <th>app_id</th>\n",
       "      <th></th>\n",
       "      <th></th>\n",
       "      <th></th>\n",
       "    </tr>\n",
       "  </thead>\n",
       "  <tbody>\n",
       "    <tr>\n",
       "      <th>LLM App v1</th>\n",
       "      <td>0.716667</td>\n",
       "      <td>0.125</td>\n",
       "      <td>0.000063</td>\n",
       "    </tr>\n",
       "  </tbody>\n",
       "</table>\n",
       "</div>"
      ],
      "text/plain": [
       "            Ground Truth  latency  total_cost\n",
       "app_id                                       \n",
       "LLM App v1      0.716667    0.125    0.000063"
      ]
     },
     "execution_count": 36,
     "metadata": {},
     "output_type": "execute_result"
    }
   ],
   "source": [
    "tru.get_leaderboard(app_ids=[tru_app.app_id])"
   ]
  },
  {
   "cell_type": "code",
   "execution_count": 44,
   "id": "b4116eb9-0e49-4779-aa0a-03c10a002b1e",
   "metadata": {},
   "outputs": [
    {
     "data": {
      "text/plain": [
       "{'record_id': 'record_hash_8e863437a37a633eaaf98df15beb8f77',\n",
       " 'app_id': 'LLM App v1',\n",
       " 'cost': Cost(n_requests=1, n_successful_requests=1, n_classes=0, n_tokens=31, n_stream_chunks=0, n_prompt_tokens=19, n_completion_tokens=12, cost=5.25e-05),\n",
       " 'perf': Perf(start_time=datetime.datetime(2024, 4, 6, 2, 36, 36, 857865), end_time=datetime.datetime(2024, 4, 6, 2, 36, 37, 459770)),\n",
       " 'ts': datetime.datetime(2024, 4, 6, 2, 36, 37, 459976),\n",
       " 'tags': '-',\n",
       " 'meta': None,\n",
       " 'main_input': 'who authored the Black Sun Rising?',\n",
       " 'main_output': 'The Black Sun Rising was authored by C.S. Friedman.',\n",
       " 'main_error': None,\n",
       " 'calls': [RecordAppCall(stack=[RecordAppCallMethod(path=Lens().app, method=Method(obj=Obj(cls=__main__.APP, id=140379979779328, init_bindings=None), name='completion'))], args={'prompt': 'who authored the Black Sun Rising?'}, rets='The Black Sun Rising was authored by C.S. Friedman.', error=None, perf=Perf(start_time=datetime.datetime(2024, 4, 6, 2, 36, 36, 857865), end_time=datetime.datetime(2024, 4, 6, 2, 36, 37, 459770)), pid=1197327, tid=1197327)],\n",
       " 'feedback_and_future_results': [(FeedbackDefinition(Ground Truth,\n",
       "   \tselectors={'prompt': Lens().__record__.main_input, 'response': Lens().__record__.main_output},\n",
       "   \tif_exists=None\n",
       "   ),\n",
       "   <Future at 0x7facc2d6efe0 state=finished returned FeedbackResult>)],\n",
       " 'feedback_results': [<Future at 0x7facc2d6efe0 state=finished returned FeedbackResult>]}"
      ]
     },
     "execution_count": 44,
     "metadata": {},
     "output_type": "execute_result"
    }
   ],
   "source": [
    "recording[0].__dict__"
   ]
  },
  {
   "cell_type": "code",
   "execution_count": null,
   "id": "f3a745db-21b8-4768-b6c3-123d0744a3b0",
   "metadata": {},
   "outputs": [],
   "source": []
  },
  {
   "cell_type": "code",
   "execution_count": null,
   "id": "38469508-d2f4-45c5-890b-89c78be8e64d",
   "metadata": {},
   "outputs": [],
   "source": []
  },
  {
   "cell_type": "code",
   "execution_count": null,
   "id": "279e17d1-f356-43e3-b425-064cad4e4bde",
   "metadata": {},
   "outputs": [],
   "source": []
  },
  {
   "cell_type": "code",
   "execution_count": null,
   "id": "7113877e-71eb-4975-a0d1-6c1c9a76fb23",
   "metadata": {},
   "outputs": [],
   "source": []
  },
  {
   "cell_type": "code",
   "execution_count": null,
   "id": "15283bb2-be27-49c8-ad00-cc4f5f89162c",
   "metadata": {},
   "outputs": [],
   "source": []
  },
  {
   "cell_type": "code",
   "execution_count": 2,
   "id": "fbd75b5d-15b0-4a51-aa0a-546326bf64e4",
   "metadata": {},
   "outputs": [],
   "source": [
    "university_info = \"\"\"\n",
    "The University of Washington, founded in 1861 in Seattle, is a public research university\n",
    "with over 45,000 students across three campuses in Seattle, Tacoma, and Bothell.\n",
    "As the flagship institution of the six public universities in Washington state,\n",
    "UW encompasses over 500 buildings and 20 million square feet of space,\n",
    "including one of the largest library systems in the world.\n",
    "\"\"\""
   ]
  },
  {
   "cell_type": "code",
   "execution_count": 3,
   "id": "cf358ffc-d36c-4684-a7f7-470b17584099",
   "metadata": {},
   "outputs": [],
   "source": [
    "harvard = \"\"\"\n",
    "Harvard University is a private Ivy League research university in Cambridge, Massachusetts. Founded in 1636 as Harvard College and named for its first benefactor, Puritan clergyman John Harvard, it is the oldest institution of higher learning in the United States. Its influence, wealth, and rankings have made it one of the most prestigious universities in the world.\n",
    "\"\"\""
   ]
  },
  {
   "cell_type": "code",
   "execution_count": 4,
   "id": "b4f22891-764e-4a9b-b0d3-44b683fad762",
   "metadata": {},
   "outputs": [],
   "source": [
    "oai_client = OpenAI()"
   ]
  },
  {
   "cell_type": "code",
   "execution_count": 5,
   "id": "ba827235-03f1-4d08-b2ad-71c11fc95d21",
   "metadata": {},
   "outputs": [],
   "source": [
    "embedding = oai_client.embeddings.create(model='text-embedding-ada-002', input=university_info)"
   ]
  },
  {
   "cell_type": "code",
   "execution_count": 6,
   "id": "7f45defa-dad9-4cc6-89d7-9edafa2aee48",
   "metadata": {},
   "outputs": [],
   "source": [
    "float_array = embedding.data[0].embedding"
   ]
  },
  {
   "cell_type": "code",
   "execution_count": 7,
   "id": "f3bfcd32-8a99-4aee-8ce9-17172f9be410",
   "metadata": {},
   "outputs": [],
   "source": [
    "embedding_function = OpenAIEmbeddingFunction(api_key=os.environ.get('OPENAI_API_KEY'),\n",
    "                                             model_name=\"text-embedding-ada-002\")\n",
    "\n",
    "\n",
    "chroma_client = chromadb.Client()\n",
    "vector_store = chroma_client.get_or_create_collection(name=\"Universities\",\n",
    "                                                      embedding_function=embedding_function)"
   ]
  },
  {
   "cell_type": "code",
   "execution_count": 8,
   "id": "dfb45512-1fe0-44ca-a1ed-db3a4e6e3934",
   "metadata": {},
   "outputs": [],
   "source": [
    "vector_store.add(\"uni_info\", documents=university_info)"
   ]
  },
  {
   "cell_type": "code",
   "execution_count": 9,
   "id": "688a2a1e-233d-4344-a35c-4ec80ef9998f",
   "metadata": {},
   "outputs": [],
   "source": [
    "vector_store.add('harvard', documents=harvard)"
   ]
  },
  {
   "cell_type": "code",
   "execution_count": 11,
   "id": "8a10efd7-2fdd-4b5e-9589-21663d068137",
   "metadata": {},
   "outputs": [],
   "source": [
    "from trulens_eval import Tru\n",
    "from trulens_eval.tru_custom_app import instrument\n",
    "tru = Tru()"
   ]
  },
  {
   "cell_type": "code",
   "execution_count": 12,
   "id": "4e30cbcc-7ffe-40e1-8b6f-b95933b384ee",
   "metadata": {},
   "outputs": [],
   "source": [
    "from trulens_eval import Huggingface"
   ]
  },
  {
   "cell_type": "code",
   "execution_count": 13,
   "id": "102de4e0-6b5d-4f58-987b-08e5d31eba53",
   "metadata": {},
   "outputs": [],
   "source": [
    "hf = Huggingface()"
   ]
  },
  {
   "cell_type": "code",
   "execution_count": null,
   "id": "14571eca-f42e-416e-98de-296ddec1dd03",
   "metadata": {},
   "outputs": [],
   "source": [
    "hf.hallucination_evaluator("
   ]
  },
  {
   "cell_type": "code",
   "execution_count": null,
   "id": "3528cae3-1db9-4e78-8c87-09a5e27a46dd",
   "metadata": {},
   "outputs": [],
   "source": []
  },
  {
   "cell_type": "code",
   "execution_count": null,
   "id": "a7f97455-26eb-4474-b5f8-e53da9c54eac",
   "metadata": {},
   "outputs": [],
   "source": []
  },
  {
   "cell_type": "code",
   "execution_count": null,
   "id": "3e88cee3-f9af-45b4-9ce4-0f5f849c8e4e",
   "metadata": {},
   "outputs": [],
   "source": []
  },
  {
   "cell_type": "code",
   "execution_count": null,
   "id": "5b442d0d-228c-4dd3-8303-d09e8c619bbd",
   "metadata": {},
   "outputs": [],
   "source": []
  },
  {
   "cell_type": "code",
   "execution_count": null,
   "id": "b5276137-710a-4dae-ae01-61e547923894",
   "metadata": {},
   "outputs": [],
   "source": []
  },
  {
   "cell_type": "code",
   "execution_count": null,
   "id": "63ccd435-3ab9-440e-b87c-7bae1d7ce808",
   "metadata": {},
   "outputs": [],
   "source": []
  },
  {
   "cell_type": "code",
   "execution_count": 11,
   "id": "15fefef1-5e98-447b-b85f-d6dfedde8d09",
   "metadata": {},
   "outputs": [],
   "source": [
    "class RAG_from_scratch:\n",
    "    @instrument\n",
    "    def retrieve(self, query: str) -> list:\n",
    "        \"\"\"\n",
    "        Retrieve relevant text from vector store.\n",
    "        \"\"\"\n",
    "        results = vector_store.query(\n",
    "        query_texts=query,\n",
    "        n_results=2\n",
    "    )\n",
    "        return results['documents'][0]\n",
    "\n",
    "    @instrument\n",
    "    def generate_completion(self, query: str, context_str: list) -> str:\n",
    "        \"\"\"\n",
    "        Generate answer from context.\n",
    "        \"\"\"\n",
    "        completion = oai_client.chat.completions.create(\n",
    "        model=\"gpt-3.5-turbo\",\n",
    "        temperature=0,\n",
    "        messages=\n",
    "        [\n",
    "            {\"role\": \"user\",\n",
    "            \"content\": \n",
    "            f\"We have provided context information below. \\n\"\n",
    "            f\"---------------------\\n\"\n",
    "            f\"{context_str}\"\n",
    "            f\"\\n---------------------\\n\"\n",
    "            f\"Given this information, please answer the question: {query}\"\n",
    "            }\n",
    "        ]\n",
    "        ).choices[0].message.content\n",
    "        return completion\n",
    "\n",
    "    @instrument\n",
    "    def query(self, query: str) -> str:\n",
    "        context_str = self.retrieve(query)\n",
    "        completion = self.generate_completion(query, context_str)\n",
    "        return completion\n",
    "\n",
    "rag = RAG_from_scratch()"
   ]
  },
  {
   "cell_type": "code",
   "execution_count": 12,
   "id": "4229d777-98f6-45d8-b433-ba3dd9b3a80d",
   "metadata": {},
   "outputs": [
    {
     "name": "stdout",
     "output_type": "stream",
     "text": [
      "✅ In Groundedness, input source will be set to __record__.app.retrieve.rets.collect() .\n",
      "✅ In Groundedness, input statement will be set to __record__.main_output or `Select.RecordOutput` .\n",
      "✅ In Answer Relevance, input prompt will be set to __record__.app.retrieve.args.query .\n",
      "✅ In Answer Relevance, input response will be set to __record__.main_output or `Select.RecordOutput` .\n",
      "✅ In Context Relevance, input question will be set to __record__.app.retrieve.args.query .\n",
      "✅ In Context Relevance, input context will be set to __record__.app.retrieve.rets.collect() .\n"
     ]
    }
   ],
   "source": [
    "from trulens_eval import Feedback, Select\n",
    "from trulens_eval.feedback import Groundedness\n",
    "from trulens_eval.feedback.provider.openai import OpenAI\n",
    "\n",
    "import numpy as np\n",
    "\n",
    "provider = OpenAI()\n",
    "\n",
    "grounded = Groundedness(groundedness_provider=provider)\n",
    "\n",
    "# Define a groundedness feedback function\n",
    "f_groundedness = (\n",
    "    Feedback(grounded.groundedness_measure_with_cot_reasons, name = \"Groundedness\")\n",
    "    .on(Select.RecordCalls.retrieve.rets.collect())\n",
    "    .on_output()\n",
    "    .aggregate(grounded.grounded_statements_aggregator)\n",
    ")\n",
    "\n",
    "# Question/answer relevance between overall question and answer.\n",
    "f_answer_relevance = (\n",
    "    Feedback(provider.relevance_with_cot_reasons, name = \"Answer Relevance\")\n",
    "    .on(Select.RecordCalls.retrieve.args.query)\n",
    "    .on_output()\n",
    ")\n",
    "\n",
    "# Question/statement relevance between question and each context chunk.\n",
    "f_context_relevance = (\n",
    "    Feedback(provider.context_relevance_with_cot_reasons, name = \"Context Relevance\")\n",
    "    .on(Select.RecordCalls.retrieve.args.query)\n",
    "    .on(Select.RecordCalls.retrieve.rets.collect())\n",
    "    .aggregate(np.mean)\n",
    ")"
   ]
  },
  {
   "cell_type": "code",
   "execution_count": 13,
   "id": "1a587446-ba99-4831-8ee6-b57a3fb25949",
   "metadata": {},
   "outputs": [],
   "source": [
    "from trulens_eval import TruCustomApp\n",
    "tru_rag = TruCustomApp(rag,\n",
    "    app_id = 'RAG v1',\n",
    "    feedbacks = [f_groundedness, f_answer_relevance, f_context_relevance])"
   ]
  },
  {
   "cell_type": "code",
   "execution_count": 14,
   "id": "f98cf9ed-10a1-4ee6-802b-960f6a6e1365",
   "metadata": {},
   "outputs": [
    {
     "data": {
      "application/vnd.jupyter.widget-view+json": {
       "model_id": "e40dc437bdba42b19028b940a9b0ddbd",
       "version_major": 2,
       "version_minor": 0
      },
      "text/plain": [
       "Groundedness per statement in source:   0%|          | 0/1 [00:00<?, ?it/s]"
      ]
     },
     "metadata": {},
     "output_type": "display_data"
    }
   ],
   "source": [
    "with tru_rag as recording:\n",
    "    rag.query(\"When was the University of Washington founded?\")"
   ]
  },
  {
   "cell_type": "code",
   "execution_count": 15,
   "id": "6eaeb367-ecb0-43dc-91db-b92d655840c8",
   "metadata": {},
   "outputs": [
    {
     "data": {
      "text/html": [
       "<div>\n",
       "<style scoped>\n",
       "    .dataframe tbody tr th:only-of-type {\n",
       "        vertical-align: middle;\n",
       "    }\n",
       "\n",
       "    .dataframe tbody tr th {\n",
       "        vertical-align: top;\n",
       "    }\n",
       "\n",
       "    .dataframe thead th {\n",
       "        text-align: right;\n",
       "    }\n",
       "</style>\n",
       "<table border=\"1\" class=\"dataframe\">\n",
       "  <thead>\n",
       "    <tr style=\"text-align: right;\">\n",
       "      <th></th>\n",
       "      <th>Groundedness</th>\n",
       "      <th>Context Relevance</th>\n",
       "      <th>Answer Relevance</th>\n",
       "      <th>latency</th>\n",
       "      <th>total_cost</th>\n",
       "    </tr>\n",
       "    <tr>\n",
       "      <th>app_id</th>\n",
       "      <th></th>\n",
       "      <th></th>\n",
       "      <th></th>\n",
       "      <th></th>\n",
       "      <th></th>\n",
       "    </tr>\n",
       "  </thead>\n",
       "  <tbody>\n",
       "    <tr>\n",
       "      <th>RAG v1</th>\n",
       "      <td>0.0</td>\n",
       "      <td>0.9</td>\n",
       "      <td>1.0</td>\n",
       "      <td>1.0</td>\n",
       "      <td>0.000316</td>\n",
       "    </tr>\n",
       "  </tbody>\n",
       "</table>\n",
       "</div>"
      ],
      "text/plain": [
       "        Groundedness  Context Relevance  Answer Relevance  latency  total_cost\n",
       "app_id                                                                        \n",
       "RAG v1           0.0                0.9               1.0      1.0    0.000316"
      ]
     },
     "execution_count": 15,
     "metadata": {},
     "output_type": "execute_result"
    }
   ],
   "source": [
    "tru.get_leaderboard(app_ids=[\"RAG v1\"])"
   ]
  },
  {
   "cell_type": "code",
   "execution_count": 16,
   "id": "c190a3fd-5c10-4b22-a986-7b4771d779b9",
   "metadata": {
    "collapsed": true,
    "jupyter": {
     "outputs_hidden": true
    }
   },
   "outputs": [
    {
     "name": "stdout",
     "output_type": "stream",
     "text": [
      "Starting dashboard ...\n"
     ]
    },
    {
     "data": {
      "application/vnd.jupyter.widget-view+json": {
       "model_id": "4e015308b73e4b09b81c03bca4620627",
       "version_major": 2,
       "version_minor": 0
      },
      "text/plain": [
       "Accordion(children=(VBox(children=(VBox(children=(Label(value='STDOUT'), Output())), VBox(children=(Label(valu…"
      ]
     },
     "metadata": {},
     "output_type": "display_data"
    },
    {
     "name": "stdout",
     "output_type": "stream",
     "text": [
      "Dashboard started at http://192.168.4.26:8501 .\n"
     ]
    },
    {
     "data": {
      "text/plain": [
       "<Popen: returncode: None args: ['streamlit', 'run', '--server.headless=True'...>"
      ]
     },
     "execution_count": 16,
     "metadata": {},
     "output_type": "execute_result"
    }
   ],
   "source": [
    "tru.run_dashboard()"
   ]
  },
  {
   "cell_type": "code",
   "execution_count": null,
   "id": "6c4c3507-1635-4c66-825e-f0bedb0fe610",
   "metadata": {},
   "outputs": [],
   "source": [
    "Groundedness("
   ]
  }
 ],
 "metadata": {
  "kernelspec": {
   "display_name": "openai",
   "language": "python",
   "name": "openai"
  },
  "language_info": {
   "codemirror_mode": {
    "name": "ipython",
    "version": 3
   },
   "file_extension": ".py",
   "mimetype": "text/x-python",
   "name": "python",
   "nbconvert_exporter": "python",
   "pygments_lexer": "ipython3",
   "version": "3.10.13"
  }
 },
 "nbformat": 4,
 "nbformat_minor": 5
}
