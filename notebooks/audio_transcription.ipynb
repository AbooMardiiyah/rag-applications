{
 "cells": [
  {
   "cell_type": "code",
   "execution_count": 1,
   "id": "aa24bf15-dff0-457c-ae96-c9514bd2cd26",
   "metadata": {},
   "outputs": [],
   "source": [
    "from faster_whisper import WhisperModel\n",
    "from tqdm import tqdm\n",
    "import os\n",
    "import time\n",
    "from typing import List\n",
    "import pandas as pd\n",
    "import json\n",
    "import re"
   ]
  },
  {
   "cell_type": "markdown",
   "id": "2252a899-4483-4c42-a662-f228113b093e",
   "metadata": {},
   "source": [
    "### Load cache of metadata"
   ]
  },
  {
   "cell_type": "code",
   "execution_count": 2,
   "id": "9e69fc7f-b663-4715-88df-8d965a3f6e95",
   "metadata": {},
   "outputs": [],
   "source": [
    "with open('./data/huberman_meta.json') as f:\n",
    "    data = json.loads(f.read())"
   ]
  },
  {
   "cell_type": "code",
   "execution_count": 3,
   "id": "3b3ff355-e676-4ffa-b53e-9d2eedb337d0",
   "metadata": {},
   "outputs": [],
   "source": [
    "cache = {d['videoId'] : d for d in data}"
   ]
  },
  {
   "cell_type": "markdown",
   "id": "cdda35a3-5735-4443-a2ed-9727e0c9072e",
   "metadata": {},
   "source": [
    "### Upload model"
   ]
  },
  {
   "cell_type": "code",
   "execution_count": 4,
   "id": "4b73004f-f0e8-4559-b9d9-8e1362722b6e",
   "metadata": {},
   "outputs": [],
   "source": [
    "model = WhisperModel(model_size_or_path='large-v2', device='cuda', device_index=0, compute_type='float16')"
   ]
  },
  {
   "cell_type": "code",
   "execution_count": 5,
   "id": "f4b9bcca-f7c7-41db-a4fb-646d21fcd8fb",
   "metadata": {},
   "outputs": [
    {
     "data": {
      "text/plain": [
       "['./data/videos/huberman/GpgqXCkRO-w.mp4',\n",
       " './data/videos/huberman/ccrbE0QHy94.mp4',\n",
       " './data/videos/huberman/n28W4AmvMDE.mp4']"
      ]
     },
     "execution_count": 5,
     "metadata": {},
     "output_type": "execute_result"
    }
   ],
   "source": [
    "video_dir = './data/videos/huberman/'\n",
    "files = sorted([os.path.join(video_dir, file) for file in os.listdir(video_dir) if file.endswith('mp4')])\n",
    "transcript_dir = './data/video/huberman/transcripts/'\n",
    "files"
   ]
  },
  {
   "cell_type": "code",
   "execution_count": 7,
   "id": "14118e5b-951e-45f1-83db-8a982f72629e",
   "metadata": {},
   "outputs": [],
   "source": [
    "def transcribe_podcast(whisper_model: WhisperModel, \n",
    "                       file_path: str,\n",
    "                       outpath_dir: str,\n",
    "                       cache: dict,\n",
    "                       combine_metadata: bool=True\n",
    "                       ) -> List[dict]:\n",
    "    '''\n",
    "    Transcribes single podcast given podcast metadata which includes path to \n",
    "    where podcast mp3 file is stored. \n",
    "    '''\n",
    "    \n",
    "    start = time.perf_counter()\n",
    "    video_id = os.path.splitext(os.path.split(file_path)[-1])[0]\n",
    "    metadata = cache[video_id]\n",
    "    title = metadata['title']\n",
    "    print(f'Processing Title: {title}')\n",
    "    segments, _ = whisper_model.transcribe(file_path, beam_size=5, word_timestamps=False)\n",
    "    segments = list(segments)\n",
    "    # transcript = [{'start': seg.start, 'end': seg.end, 'text':seg.text} for seg in segments]\n",
    "    transcript = ' '.join([seg.text.strip() for seg in segments])\n",
    "    end = time.perf_counter() - start\n",
    "    print(f'Transcription completed in {end:0.2f} seconds.')\n",
    "\n",
    "    #create method to write transcript to disk\n",
    "    \n",
    "    if combine_metadata:\n",
    "        metadata.update(text=transcript)\n",
    "        save_path = os.path.join(outpath_dir, video_id) + '.json'\n",
    "        with open(save_path, 'w') as f:\n",
    "            json.dump(metadata, f)\n",
    "        return metadata\n",
    "        \n",
    "    else: return transcript"
   ]
  },
  {
   "cell_type": "code",
   "execution_count": null,
   "id": "a2b4a5d3-2d9e-4106-a5d9-0a6d2d33e2e7",
   "metadata": {},
   "outputs": [
    {
     "name": "stdout",
     "output_type": "stream",
     "text": [
      "Processing Title: Rick Rubin: Protocols to Access Creative Energy and Process\n"
     ]
    }
   ],
   "source": [
    "transcribe_podcast(model, files[0], outpath_dir='./data/videos/huberman/', cache=cache)"
   ]
  }
 ],
 "metadata": {
  "kernelspec": {
   "display_name": "vsa",
   "language": "python",
   "name": "vsa"
  },
  "language_info": {
   "codemirror_mode": {
    "name": "ipython",
    "version": 3
   },
   "file_extension": ".py",
   "mimetype": "text/x-python",
   "name": "python",
   "nbconvert_exporter": "python",
   "pygments_lexer": "ipython3",
   "version": "3.10.13"
  }
 },
 "nbformat": 4,
 "nbformat_minor": 5
}
