{
 "cells": [
  {
   "cell_type": "code",
   "execution_count": 33,
   "id": "ac8de5e9-a624-4d78-8016-f5830b195527",
   "metadata": {},
   "outputs": [],
   "source": [
    "import sys\n",
    "sys.path.append('../')\n",
    "\n",
    "from dotenv import load_dotenv, find_dotenv\n",
    "envs = load_dotenv(find_dotenv(), override=True)\n",
    "import os\n",
    "from tqdm import tqdm\n",
    "from concurrent.futures import ThreadPoolExecutor, as_completed"
   ]
  },
  {
   "cell_type": "code",
   "execution_count": 5,
   "id": "f39fe044-797f-43b7-8c20-799a01c4b756",
   "metadata": {},
   "outputs": [],
   "source": [
    "from archive.weaviate.weaviate_interface import WeaviateClient"
   ]
  },
  {
   "cell_type": "code",
   "execution_count": 7,
   "id": "772e19ab-bd25-4861-a48d-f5f7535f5684",
   "metadata": {},
   "outputs": [],
   "source": [
    "endpoint = os.environ['WEAVIATE_ENDPOINT']\n",
    "api_key = os.environ['WEAVIATE_API_KEY']"
   ]
  },
  {
   "cell_type": "code",
   "execution_count": 8,
   "id": "81f23aab-6139-47b7-8949-1a1ae257056a",
   "metadata": {},
   "outputs": [],
   "source": [
    "client = WeaviateClient(endpoint, api_key)"
   ]
  },
  {
   "cell_type": "code",
   "execution_count": 22,
   "id": "e6a3f989-9922-4c1d-8c1e-19b1d8d394ab",
   "metadata": {},
   "outputs": [],
   "source": [
    "questions = [\n",
    "    \"How can I optimize my sleep to improve cognitive function and overall well-being?\",\n",
    "    \"What are some effective strategies for managing stress and anxiety based on neuroscience?\",\n",
    "    \"Can you explain the science behind meditation and its benefits for mental health?\",\n",
    "    \"How does nutrition impact brain health and cognitive performance?\",\n",
    "    \"What are the best methods for enhancing focus and concentration?\",\n",
    "    \"Can you discuss the relationship between exercise and brain function?\",\n",
    "    \"How does exposure to natural light affect sleep quality and circadian rhythms?\",\n",
    "    \"What are the most effective techniques for improving memory and learning?\",\n",
    "    \"Can you explain the role of neurotransmitters in regulating mood and behavior?\",\n",
    "    \"How does chronic stress impact brain structure and function?\",\n",
    "    \"What are the implications of neuroplasticity for personal growth and development?\",\n",
    "    \"How can we use breathing techniques to modulate our nervous system and reduce stress?\",\n",
    "    \"Can you discuss the science of motivation and goal-setting from a neuroscience perspective?\",\n",
    "    \"What are some effective ways to optimize brain health as we age?\",\n",
    "    \"How does technology use affect brain function and mental well-being?\",\n",
    "    \"Can you explain the effects of different types of music on the brain and mood?\",\n",
    "    \"What are the benefits of exposure to nature for mental health and cognitive function?\",\n",
    "    \"How can we cultivate resilience and adaptability in the face of challenges?\",\n",
    "    \"Can you discuss the relationship between gut health and mental health?\",\n",
    "    \"What are some practical strategies for improving emotional regulation and self-control?\"\n",
    "  ]"
   ]
  },
  {
   "cell_type": "code",
   "execution_count": 23,
   "id": "24d8d0c7-d0a2-4992-910b-92944bd5d20b",
   "metadata": {},
   "outputs": [],
   "source": [
    "def main(query: str, collection_name: str, query_fields: list[str]=['content', 'title']):\n",
    "    return client.hybrid_search(query, collection_name, query_fields, display_properties=['content'])"
   ]
  },
  {
   "cell_type": "markdown",
   "id": "2c8565be-a395-4d8a-8c0b-0ed330f6059c",
   "metadata": {},
   "source": [
    "### Single Query: v3"
   ]
  },
  {
   "cell_type": "code",
   "execution_count": 66,
   "id": "8b3486a7-ce2b-41ef-87be-7549f0e5df0e",
   "metadata": {},
   "outputs": [
    {
     "name": "stdout",
     "output_type": "stream",
     "text": [
      "CPU times: user 1.36 s, sys: 32.2 ms, total: 1.39 s\n",
      "Wall time: 386 ms\n"
     ]
    }
   ],
   "source": [
    "%%time\n",
    "answer_v3 = client.hybrid_search(\"What is serotonin good for\", class_name, display_properties=['content'])"
   ]
  },
  {
   "cell_type": "markdown",
   "id": "b65f636a-b675-458b-bd75-afa951fbaa77",
   "metadata": {},
   "source": [
    "### Multi-Query (n=20) : v3"
   ]
  },
  {
   "cell_type": "code",
   "execution_count": 67,
   "id": "f5c35fd5-a9b1-4ebc-a9a3-a58ed9b523c6",
   "metadata": {},
   "outputs": [
    {
     "name": "stdout",
     "output_type": "stream",
     "text": [
      "CPU times: user 26.6 s, sys: 502 ms, total: 27.1 s\n",
      "Wall time: 4.95 s\n"
     ]
    }
   ],
   "source": [
    "%%time\n",
    "answers_v3 = []\n",
    "for q in questions:\n",
    "    answers_v3.append(client.hybrid_search(qu, class_name, display_properties=['content']))"
   ]
  },
  {
   "cell_type": "markdown",
   "id": "6299cf3b-9f18-43e6-b525-195b8980ac85",
   "metadata": {},
   "source": [
    "### Python Multithreading (n=20) : v3"
   ]
  },
  {
   "cell_type": "code",
   "execution_count": 69,
   "id": "ce4dd211-ed3a-4d40-8a60-10b115f4ea9e",
   "metadata": {},
   "outputs": [
    {
     "name": "stdout",
     "output_type": "stream",
     "text": [
      "CPU times: user 996 ms, sys: 4.59 s, total: 5.59 s\n",
      "Wall time: 1.02 s\n"
     ]
    }
   ],
   "source": [
    "%%time\n",
    "results = []\n",
    "with ThreadPoolExecutor(max_workers=os.cpu_count() * 2) as exec:\n",
    "    futures = [exec.submit(client.hybrid_search, q, class_name, \\\n",
    "                           display_properties=['title', 'content']) for q in questions]\n",
    "    for future in as_completed(futures):\n",
    "        results.append(future.result())"
   ]
  },
  {
   "cell_type": "code",
   "execution_count": null,
   "id": "ca456db8-7ed8-491d-9732-6c77f31ea84b",
   "metadata": {},
   "outputs": [],
   "source": []
  }
 ],
 "metadata": {
  "kernelspec": {
   "display_name": "vsa",
   "language": "python",
   "name": "vsa"
  },
  "language_info": {
   "codemirror_mode": {
    "name": "ipython",
    "version": 3
   },
   "file_extension": ".py",
   "mimetype": "text/x-python",
   "name": "python",
   "nbconvert_exporter": "python",
   "pygments_lexer": "ipython3",
   "version": "3.10.13"
  }
 },
 "nbformat": 4,
 "nbformat_minor": 5
}
