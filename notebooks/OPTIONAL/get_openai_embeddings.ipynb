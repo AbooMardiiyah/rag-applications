{
 "cells": [
  {
   "cell_type": "code",
   "execution_count": 1,
   "id": "82f078ad-9aae-4dee-8edf-9c00f8c061a3",
   "metadata": {},
   "outputs": [],
   "source": [
    "#!pip install llama-index"
   ]
  },
  {
   "cell_type": "markdown",
   "id": "0250aa41-5ac7-4c2b-8a26-2a92d5bb2dc0",
   "metadata": {},
   "source": [
    "<br>  \n",
    "\n",
    "# **OPTIONAL: OpenAI Ada Embeddings\n",
    "***\n",
    "## **WARNING: HIGHLY RECOMMEND THAT YOU RUN THIS EXERCISE LOCALLY.  \n",
    "## THE EMBEDDINGS GENERATED TAKE UP 250MB OF DISK SPACE AND WILL TAKE OVER 30 MINUTES TO DOWNLOAD FROM GOOGLE COLAB\n",
    "\n",
    "This optional section explores the process for creating text embeddings using the powerful OpenAI model `text-embedding-ada-002`.  For additional details about this process see the OpenAI [Embeddings documentation](https://platform.openai.com/docs/guides/embeddings/what-are-embeddings). \n",
    "\n",
    "### Overview\n",
    "\n",
    "Even if you don't plan on using the `text-embedding-ada-002` model for your particular use case, this exercise will, at the very least, provide you with a basis for comparison against one of the most popular (currently) embeddings frameworks on the commercial market.  While there are several ways to approach embeddings creation through the OpenAI API, we will use the code provided by LlamaIndex, as it is one the cleanest implementations that I've seen.  The output from this exercise will be a pandas DataFrame of text/vector pairs similar to what we derived from Assignment 1.2. "
   ]
  },
  {
   "cell_type": "code",
   "execution_count": 2,
   "id": "7ee885c9-7457-4a69-959a-440fafb6d47b",
   "metadata": {},
   "outputs": [],
   "source": [
    "import openai\n",
    "import tiktoken\n",
    "from tiktoken import Encoding\n",
    "from typing import Union, List, Tuple\n",
    "from getpass import getpass"
   ]
  },
  {
   "cell_type": "code",
   "execution_count": null,
   "id": "ead4c730-82d7-44eb-ae53-8c8540c53d82",
   "metadata": {},
   "outputs": [],
   "source": [
    "#set api key\n",
    "openai.api_key = getpass()"
   ]
  },
  {
   "cell_type": "code",
   "execution_count": null,
   "id": "9e535edd-2c9f-4473-acdd-4bbc1cc9607e",
   "metadata": {},
   "outputs": [],
   "source": []
  }
 ],
 "metadata": {
  "kernelspec": {
   "display_name": "openai",
   "language": "python",
   "name": "openai"
  },
  "language_info": {
   "codemirror_mode": {
    "name": "ipython",
    "version": 3
   },
   "file_extension": ".py",
   "mimetype": "text/x-python",
   "name": "python",
   "nbconvert_exporter": "python",
   "pygments_lexer": "ipython3",
   "version": "3.10.13"
  }
 },
 "nbformat": 4,
 "nbformat_minor": 5
}
