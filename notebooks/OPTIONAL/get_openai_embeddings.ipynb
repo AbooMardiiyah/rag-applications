{
 "cells": [
  {
   "cell_type": "markdown",
   "metadata": {},
   "source": [
    "<br>  \n",
    "\n",
    "# **OPTIONAL: OpenAI Ada Embeddings\n",
    "***\n",
    "## **WARNING: HIGHLY RECOMMEND THAT YOU RUN THIS EXERCISE LOCALLY.  \n",
    "## THE EMBEDDINGS GENERATED TAKE UP 250MB OF DISK SPACE AND WILL TAKE OVER 30 MINUTES TO DOWNLOAD FROM GOOGLE COLAB\n",
    "\n",
    "This optional section explores the process for creating text embeddings using the powerful OpenAI model `text-embedding-ada-002`.  For additional details about this process see the OpenAI [Embeddings documentation](https://platform.openai.com/docs/guides/embeddings/what-are-embeddings). \n",
    "\n",
    "### Overview\n",
    "\n",
    "Even if you don't plan on using the `text-embedding-ada-002` model for your particular use case, this exercise will, at the very least, provide you with a basis for comparison against one of the most popular (currently) embeddings frameworks on the commercial market.  While there are several ways to approach embeddings creation through the OpenAI API, we will use the code provided by LlamaIndex, as it is one the cleanest implementations that I've seen.  The output from this exercise will be a pandas DataFrame of text/vector pairs similar to what we derived from Assignment 1.2. "
   ]
  },
  {
   "cell_type": "code",
   "execution_count": 1,
   "metadata": {},
   "outputs": [],
   "source": [
    "#!pip install llama-index"
   ]
  },
  {
   "cell_type": "code",
   "execution_count": 1,
   "metadata": {},
   "outputs": [],
   "source": [
    "import os\n",
    "import json\n",
    "import openai\n",
    "import tiktoken\n",
    "from tiktoken import Encoding\n",
    "from typing import Union, List, Tuple\n",
    "from getpass import getpass\n",
    "from tqdm import tqdm\n",
    "from dotenv import load_dotenv, find_dotenv\n",
    "_ = load_dotenv(find_dotenv(), override=True)"
   ]
  },
  {
   "cell_type": "code",
   "execution_count": 2,
   "metadata": {},
   "outputs": [],
   "source": [
    "#set api key\n",
    "openai.api_key = os.environ['OPENAI_API_KEY']\n",
    "\n",
    "# alternatively use copy/paste\n",
    "# openai.api_key = getpass(prompt='Enter your OpenAI API key')"
   ]
  },
  {
   "cell_type": "markdown",
   "metadata": {},
   "source": [
    "### Instantiate tokenizer/encoder"
   ]
  },
  {
   "cell_type": "code",
   "execution_count": 3,
   "metadata": {},
   "outputs": [],
   "source": [
    "#define the model we want to use for the tokenizer\n",
    "model_type = \"text-embedding-3-small\"\n",
    "encoding = tiktoken.encoding_for_model(model_type)"
   ]
  },
  {
   "cell_type": "markdown",
   "metadata": {},
   "source": [
    "### Load raw data"
   ]
  },
  {
   "cell_type": "code",
   "execution_count": 4,
   "metadata": {},
   "outputs": [],
   "source": [
    "data_path='../../data/huberman_labs.json'\n",
    "with open(data_path) as f:\n",
    "    data = json.load(f)"
   ]
  },
  {
   "cell_type": "markdown",
   "metadata": {},
   "source": [
    "### Extract contents"
   ]
  },
  {
   "cell_type": "code",
   "execution_count": 5,
   "metadata": {},
   "outputs": [],
   "source": [
    "#only need the contents from our data\n",
    "contents = [d['content'] for d in data]"
   ]
  },
  {
   "cell_type": "markdown",
   "metadata": {},
   "source": [
    "### Split contents"
   ]
  },
  {
   "cell_type": "code",
   "execution_count": 6,
   "metadata": {},
   "outputs": [
    {
     "name": "stderr",
     "output_type": "stream",
     "text": [
      "100%|████████████████████████████████████████████████████████████████████████████████████████████████████████████████████████████████████████████| 193/193 [00:14<00:00, 13.13it/s]\n"
     ]
    }
   ],
   "source": [
    "from llama_index.legacy.text_splitter import SentenceSplitter #one of the best on the market\n",
    "\n",
    "# #set chunk size and instantiate your SentenceSplitter\n",
    "chunk_size = 256\n",
    "gpt35_txt_splitter = SentenceSplitter(chunk_size=chunk_size, tokenizer=encoding.encode, chunk_overlap=0)\n",
    "splits = [gpt35_txt_splitter.split_text(episode) for episode in tqdm(contents)]"
   ]
  },
  {
   "cell_type": "markdown",
   "metadata": {},
   "source": [
    "### Estimate cost of job\n",
    "\n",
    "As a best practice, it's always a good idea to estimate the cost of using OpenAI **prior** to kicking off a job.  The `get_cost` function does just that.  It takes an encoder, which we defined previously, and a corpus, and allows the user to set the price per 1M tokens.  The price will change depending on what action you're looking to take, but the default is $0.02 / 1M tokens which is the current (Apr 2024) cost for using the `text-embedding-3-small` endpoint. "
   ]
  },
  {
   "cell_type": "code",
   "execution_count": 7,
   "metadata": {},
   "outputs": [],
   "source": [
    "#should match previously calculated token count for corpus\n",
    "def get_cost(encoder: Encoding, \n",
    "             corpus: Union[str, List[str]], \n",
    "             price: float=0.02, \n",
    "             return_tokens: bool=False\n",
    "             ) -> Union[float, Tuple[float, List[int]]]:\n",
    "    '''\n",
    "    Given a text encoder and a corpus of text, this function will calculate the total \n",
    "    cost, as determined by the price param, of using the OpenAI API. The price is \n",
    "    per 1,000 tokens. \n",
    "    '''\n",
    "    if isinstance(corpus, str):\n",
    "        encoded = encoder.encode(corpus)\n",
    "        token_count = len(encoded)\n",
    "    elif isinstance(corpus, list):\n",
    "        encoded = encoder.encode_batch(corpus)\n",
    "        token_count = sum(list(map(len, encoded)))\n",
    "    print(f'Total Tokens: {token_count}')\n",
    "    cost = token_count//1_000_000 * price\n",
    "    print(f'Total Cost: ${cost:.2f}')\n",
    "    if return_tokens:\n",
    "        return cost, encoded\n",
    "    return cost"
   ]
  },
  {
   "cell_type": "code",
   "execution_count": 8,
   "metadata": {},
   "outputs": [
    {
     "name": "stdout",
     "output_type": "stream",
     "text": [
      "Total Tokens: 5443407\n",
      "Total Cost: $0.10\n"
     ]
    },
    {
     "data": {
      "text/plain": [
       "0.1"
      ]
     },
     "execution_count": 8,
     "metadata": {},
     "output_type": "execute_result"
    }
   ],
   "source": [
    "get_cost(encoding, contents)"
   ]
  },
  {
   "cell_type": "markdown",
   "metadata": {},
   "source": [
    "The Total Tokens should match the same number we derived when capturing analytics on our corpus earlier in the notebook.  At a price of \\\\$0.02 per 1M tokens, we can see that this text embeddings action should cost about \\\\$0.10 (10 cents). In preparation for this course I ran this exercise and can confirm that I was billed exactly 10 cents to embed the entire Huberman Lab corpus. Below is a screenshot of my OpenAI usage page after completing this embeddings exercise. "
   ]
  },
  {
   "cell_type": "markdown",
   "metadata": {},
   "source": [
    "![embeddings usage]( data:image/png;base64,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)"
   ]
  },
  {
   "cell_type": "markdown",
   "metadata": {},
   "source": [
    "<div>\n",
    "    <img src=\"https://d1tlzifd8jdoy4.cloudfront.net/wp-content/uploads/2023/03/eyecatch-llamdaindex.png\" width=\"200\"/>\n",
    "</div>"
   ]
  },
  {
   "cell_type": "markdown",
   "metadata": {},
   "source": [
    "### Get Embeddings (using LlamaIndex)\n",
    "\n",
    "To handle this job without using LlamaIndex is no small feat, you would have to account for the various rate limits that OpenAI has in place, which change depending on your pricing tier and the actions that you want to perform.  There are requests per minute (RPM), requests per day (RPD) and tokens per minute (TPM) rate limits to consider.  If you are at pricing Tier 1, for example, you'd have a TPM limit of 1,000,000 tokens per minute, so this job will take at least six minutes to complete.  See the [OpenAI Rate Limits page](https://platform.openai.com/docs/guides/rate-limits?context=tier-one) for additional detail. Thankfully, LlamaIndex handles all of these considerations under the hood.  I was able to complete this task in 2.5 minutes (your time may vary depending on your pricing tier). "
   ]
  },
  {
   "cell_type": "code",
   "execution_count": 9,
   "metadata": {},
   "outputs": [],
   "source": [
    "from llama_index.embeddings.openai import OpenAIEmbedding"
   ]
  },
  {
   "cell_type": "code",
   "execution_count": 10,
   "metadata": {},
   "outputs": [
    {
     "ename": "ImportError",
     "evalue": "cannot import name 'global_handler' from 'llama_index.core' (unknown location)",
     "output_type": "error",
     "traceback": [
      "\u001b[0;31m---------------------------------------------------------------------------\u001b[0m",
      "\u001b[0;31mImportError\u001b[0m                               Traceback (most recent call last)",
      "Cell \u001b[0;32mIn[10], line 2\u001b[0m\n\u001b[1;32m      1\u001b[0m \u001b[38;5;66;03m# model_type = \"text-embedding-3-small\"\u001b[39;00m\n\u001b[0;32m----> 2\u001b[0m embed_model \u001b[38;5;241m=\u001b[39m \u001b[43mOpenAIEmbedding\u001b[49m\u001b[43m(\u001b[49m\u001b[43membed_batch_size\u001b[49m\u001b[38;5;241;43m=\u001b[39;49m\u001b[38;5;241;43m150\u001b[39;49m\u001b[43m,\u001b[49m\u001b[43m \u001b[49m\u001b[43mapi_key\u001b[49m\u001b[38;5;241;43m=\u001b[39;49m\u001b[43mopenai\u001b[49m\u001b[38;5;241;43m.\u001b[39;49m\u001b[43mapi_key\u001b[49m\u001b[43m)\u001b[49m\n",
      "File \u001b[0;32m/opt/anaconda3/envs/vsa/lib/python3.10/site-packages/llama_index/embeddings/openai/base.py:321\u001b[0m, in \u001b[0;36mOpenAIEmbedding.__init__\u001b[0;34m(self, mode, model, embed_batch_size, dimensions, additional_kwargs, api_key, api_base, api_version, max_retries, timeout, reuse_client, callback_manager, default_headers, http_client, **kwargs)\u001b[0m\n\u001b[1;32m    318\u001b[0m \u001b[38;5;28;01melse\u001b[39;00m:\n\u001b[1;32m    319\u001b[0m     model_name \u001b[38;5;241m=\u001b[39m model\n\u001b[0;32m--> 321\u001b[0m \u001b[38;5;28;43msuper\u001b[39;49m\u001b[43m(\u001b[49m\u001b[43m)\u001b[49m\u001b[38;5;241;43m.\u001b[39;49m\u001b[38;5;21;43m__init__\u001b[39;49m\u001b[43m(\u001b[49m\n\u001b[1;32m    322\u001b[0m \u001b[43m    \u001b[49m\u001b[43membed_batch_size\u001b[49m\u001b[38;5;241;43m=\u001b[39;49m\u001b[43membed_batch_size\u001b[49m\u001b[43m,\u001b[49m\n\u001b[1;32m    323\u001b[0m \u001b[43m    \u001b[49m\u001b[43mdimensions\u001b[49m\u001b[38;5;241;43m=\u001b[39;49m\u001b[43mdimensions\u001b[49m\u001b[43m,\u001b[49m\n\u001b[1;32m    324\u001b[0m \u001b[43m    \u001b[49m\u001b[43mcallback_manager\u001b[49m\u001b[38;5;241;43m=\u001b[39;49m\u001b[43mcallback_manager\u001b[49m\u001b[43m,\u001b[49m\n\u001b[1;32m    325\u001b[0m \u001b[43m    \u001b[49m\u001b[43mmodel_name\u001b[49m\u001b[38;5;241;43m=\u001b[39;49m\u001b[43mmodel_name\u001b[49m\u001b[43m,\u001b[49m\n\u001b[1;32m    326\u001b[0m \u001b[43m    \u001b[49m\u001b[43madditional_kwargs\u001b[49m\u001b[38;5;241;43m=\u001b[39;49m\u001b[43madditional_kwargs\u001b[49m\u001b[43m,\u001b[49m\n\u001b[1;32m    327\u001b[0m \u001b[43m    \u001b[49m\u001b[43mapi_key\u001b[49m\u001b[38;5;241;43m=\u001b[39;49m\u001b[43mapi_key\u001b[49m\u001b[43m,\u001b[49m\n\u001b[1;32m    328\u001b[0m \u001b[43m    \u001b[49m\u001b[43mapi_base\u001b[49m\u001b[38;5;241;43m=\u001b[39;49m\u001b[43mapi_base\u001b[49m\u001b[43m,\u001b[49m\n\u001b[1;32m    329\u001b[0m \u001b[43m    \u001b[49m\u001b[43mapi_version\u001b[49m\u001b[38;5;241;43m=\u001b[39;49m\u001b[43mapi_version\u001b[49m\u001b[43m,\u001b[49m\n\u001b[1;32m    330\u001b[0m \u001b[43m    \u001b[49m\u001b[43mmax_retries\u001b[49m\u001b[38;5;241;43m=\u001b[39;49m\u001b[43mmax_retries\u001b[49m\u001b[43m,\u001b[49m\n\u001b[1;32m    331\u001b[0m \u001b[43m    \u001b[49m\u001b[43mreuse_client\u001b[49m\u001b[38;5;241;43m=\u001b[39;49m\u001b[43mreuse_client\u001b[49m\u001b[43m,\u001b[49m\n\u001b[1;32m    332\u001b[0m \u001b[43m    \u001b[49m\u001b[43mtimeout\u001b[49m\u001b[38;5;241;43m=\u001b[39;49m\u001b[43mtimeout\u001b[49m\u001b[43m,\u001b[49m\n\u001b[1;32m    333\u001b[0m \u001b[43m    \u001b[49m\u001b[43mdefault_headers\u001b[49m\u001b[38;5;241;43m=\u001b[39;49m\u001b[43mdefault_headers\u001b[49m\u001b[43m,\u001b[49m\n\u001b[1;32m    334\u001b[0m \u001b[43m    \u001b[49m\u001b[38;5;241;43m*\u001b[39;49m\u001b[38;5;241;43m*\u001b[39;49m\u001b[43mkwargs\u001b[49m\u001b[43m,\u001b[49m\n\u001b[1;32m    335\u001b[0m \u001b[43m\u001b[49m\u001b[43m)\u001b[49m\n\u001b[1;32m    337\u001b[0m \u001b[38;5;28mself\u001b[39m\u001b[38;5;241m.\u001b[39m_client \u001b[38;5;241m=\u001b[39m \u001b[38;5;28;01mNone\u001b[39;00m\n\u001b[1;32m    338\u001b[0m \u001b[38;5;28mself\u001b[39m\u001b[38;5;241m.\u001b[39m_aclient \u001b[38;5;241m=\u001b[39m \u001b[38;5;28;01mNone\u001b[39;00m\n",
      "File \u001b[0;32m/opt/anaconda3/envs/vsa/lib/python3.10/site-packages/pydantic/v1/main.py:339\u001b[0m, in \u001b[0;36mBaseModel.__init__\u001b[0;34m(__pydantic_self__, **data)\u001b[0m\n\u001b[1;32m    333\u001b[0m \u001b[38;5;250m\u001b[39m\u001b[38;5;124;03m\"\"\"\u001b[39;00m\n\u001b[1;32m    334\u001b[0m \u001b[38;5;124;03mCreate a new model by parsing and validating input data from keyword arguments.\u001b[39;00m\n\u001b[1;32m    335\u001b[0m \n\u001b[1;32m    336\u001b[0m \u001b[38;5;124;03mRaises ValidationError if the input data cannot be parsed to form a valid model.\u001b[39;00m\n\u001b[1;32m    337\u001b[0m \u001b[38;5;124;03m\"\"\"\u001b[39;00m\n\u001b[1;32m    338\u001b[0m \u001b[38;5;66;03m# Uses something other than `self` the first arg to allow \"self\" as a settable attribute\u001b[39;00m\n\u001b[0;32m--> 339\u001b[0m values, fields_set, validation_error \u001b[38;5;241m=\u001b[39m \u001b[43mvalidate_model\u001b[49m\u001b[43m(\u001b[49m\u001b[43m__pydantic_self__\u001b[49m\u001b[38;5;241;43m.\u001b[39;49m\u001b[38;5;18;43m__class__\u001b[39;49m\u001b[43m,\u001b[49m\u001b[43m \u001b[49m\u001b[43mdata\u001b[49m\u001b[43m)\u001b[49m\n\u001b[1;32m    340\u001b[0m \u001b[38;5;28;01mif\u001b[39;00m validation_error:\n\u001b[1;32m    341\u001b[0m     \u001b[38;5;28;01mraise\u001b[39;00m validation_error\n",
      "File \u001b[0;32m/opt/anaconda3/envs/vsa/lib/python3.10/site-packages/pydantic/v1/main.py:1074\u001b[0m, in \u001b[0;36mvalidate_model\u001b[0;34m(model, input_data, cls)\u001b[0m\n\u001b[1;32m   1071\u001b[0m     \u001b[38;5;28;01mif\u001b[39;00m check_extra:\n\u001b[1;32m   1072\u001b[0m         names_used\u001b[38;5;241m.\u001b[39madd(field\u001b[38;5;241m.\u001b[39mname \u001b[38;5;28;01mif\u001b[39;00m using_name \u001b[38;5;28;01melse\u001b[39;00m field\u001b[38;5;241m.\u001b[39malias)\n\u001b[0;32m-> 1074\u001b[0m v_, errors_ \u001b[38;5;241m=\u001b[39m \u001b[43mfield\u001b[49m\u001b[38;5;241;43m.\u001b[39;49m\u001b[43mvalidate\u001b[49m\u001b[43m(\u001b[49m\u001b[43mvalue\u001b[49m\u001b[43m,\u001b[49m\u001b[43m \u001b[49m\u001b[43mvalues\u001b[49m\u001b[43m,\u001b[49m\u001b[43m \u001b[49m\u001b[43mloc\u001b[49m\u001b[38;5;241;43m=\u001b[39;49m\u001b[43mfield\u001b[49m\u001b[38;5;241;43m.\u001b[39;49m\u001b[43malias\u001b[49m\u001b[43m,\u001b[49m\u001b[43m \u001b[49m\u001b[38;5;28;43mcls\u001b[39;49m\u001b[38;5;241;43m=\u001b[39;49m\u001b[43mcls_\u001b[49m\u001b[43m)\u001b[49m\n\u001b[1;32m   1075\u001b[0m \u001b[38;5;28;01mif\u001b[39;00m \u001b[38;5;28misinstance\u001b[39m(errors_, ErrorWrapper):\n\u001b[1;32m   1076\u001b[0m     errors\u001b[38;5;241m.\u001b[39mappend(errors_)\n",
      "File \u001b[0;32m/opt/anaconda3/envs/vsa/lib/python3.10/site-packages/pydantic/v1/fields.py:864\u001b[0m, in \u001b[0;36mModelField.validate\u001b[0;34m(self, v, values, loc, cls)\u001b[0m\n\u001b[1;32m    862\u001b[0m errors: Optional[\u001b[38;5;124m'\u001b[39m\u001b[38;5;124mErrorList\u001b[39m\u001b[38;5;124m'\u001b[39m]\n\u001b[1;32m    863\u001b[0m \u001b[38;5;28;01mif\u001b[39;00m \u001b[38;5;28mself\u001b[39m\u001b[38;5;241m.\u001b[39mpre_validators:\n\u001b[0;32m--> 864\u001b[0m     v, errors \u001b[38;5;241m=\u001b[39m \u001b[38;5;28;43mself\u001b[39;49m\u001b[38;5;241;43m.\u001b[39;49m\u001b[43m_apply_validators\u001b[49m\u001b[43m(\u001b[49m\u001b[43mv\u001b[49m\u001b[43m,\u001b[49m\u001b[43m \u001b[49m\u001b[43mvalues\u001b[49m\u001b[43m,\u001b[49m\u001b[43m \u001b[49m\u001b[43mloc\u001b[49m\u001b[43m,\u001b[49m\u001b[43m \u001b[49m\u001b[38;5;28;43mcls\u001b[39;49m\u001b[43m,\u001b[49m\u001b[43m \u001b[49m\u001b[38;5;28;43mself\u001b[39;49m\u001b[38;5;241;43m.\u001b[39;49m\u001b[43mpre_validators\u001b[49m\u001b[43m)\u001b[49m\n\u001b[1;32m    865\u001b[0m     \u001b[38;5;28;01mif\u001b[39;00m errors:\n\u001b[1;32m    866\u001b[0m         \u001b[38;5;28;01mreturn\u001b[39;00m v, errors\n",
      "File \u001b[0;32m/opt/anaconda3/envs/vsa/lib/python3.10/site-packages/pydantic/v1/fields.py:1154\u001b[0m, in \u001b[0;36mModelField._apply_validators\u001b[0;34m(self, v, values, loc, cls, validators)\u001b[0m\n\u001b[1;32m   1152\u001b[0m \u001b[38;5;28;01mfor\u001b[39;00m validator \u001b[38;5;129;01min\u001b[39;00m validators:\n\u001b[1;32m   1153\u001b[0m     \u001b[38;5;28;01mtry\u001b[39;00m:\n\u001b[0;32m-> 1154\u001b[0m         v \u001b[38;5;241m=\u001b[39m \u001b[43mvalidator\u001b[49m\u001b[43m(\u001b[49m\u001b[38;5;28;43mcls\u001b[39;49m\u001b[43m,\u001b[49m\u001b[43m \u001b[49m\u001b[43mv\u001b[49m\u001b[43m,\u001b[49m\u001b[43m \u001b[49m\u001b[43mvalues\u001b[49m\u001b[43m,\u001b[49m\u001b[43m \u001b[49m\u001b[38;5;28;43mself\u001b[39;49m\u001b[43m,\u001b[49m\u001b[43m \u001b[49m\u001b[38;5;28;43mself\u001b[39;49m\u001b[38;5;241;43m.\u001b[39;49m\u001b[43mmodel_config\u001b[49m\u001b[43m)\u001b[49m\n\u001b[1;32m   1155\u001b[0m     \u001b[38;5;28;01mexcept\u001b[39;00m (\u001b[38;5;167;01mValueError\u001b[39;00m, \u001b[38;5;167;01mTypeError\u001b[39;00m, \u001b[38;5;167;01mAssertionError\u001b[39;00m) \u001b[38;5;28;01mas\u001b[39;00m exc:\n\u001b[1;32m   1156\u001b[0m         \u001b[38;5;28;01mreturn\u001b[39;00m v, ErrorWrapper(exc, loc)\n",
      "File \u001b[0;32m/opt/anaconda3/envs/vsa/lib/python3.10/site-packages/pydantic/v1/class_validators.py:304\u001b[0m, in \u001b[0;36m_generic_validator_cls.<locals>.<lambda>\u001b[0;34m(cls, v, values, field, config)\u001b[0m\n\u001b[1;32m    302\u001b[0m     \u001b[38;5;28;01mreturn\u001b[39;00m \u001b[38;5;28;01mlambda\u001b[39;00m \u001b[38;5;28mcls\u001b[39m, v, values, field, config: validator(\u001b[38;5;28mcls\u001b[39m, v, values\u001b[38;5;241m=\u001b[39mvalues, field\u001b[38;5;241m=\u001b[39mfield, config\u001b[38;5;241m=\u001b[39mconfig)\n\u001b[1;32m    303\u001b[0m \u001b[38;5;28;01melif\u001b[39;00m args \u001b[38;5;241m==\u001b[39m \u001b[38;5;28mset\u001b[39m():\n\u001b[0;32m--> 304\u001b[0m     \u001b[38;5;28;01mreturn\u001b[39;00m \u001b[38;5;28;01mlambda\u001b[39;00m \u001b[38;5;28mcls\u001b[39m, v, values, field, config: \u001b[43mvalidator\u001b[49m\u001b[43m(\u001b[49m\u001b[38;5;28;43mcls\u001b[39;49m\u001b[43m,\u001b[49m\u001b[43m \u001b[49m\u001b[43mv\u001b[49m\u001b[43m)\u001b[49m\n\u001b[1;32m    305\u001b[0m \u001b[38;5;28;01melif\u001b[39;00m args \u001b[38;5;241m==\u001b[39m {\u001b[38;5;124m'\u001b[39m\u001b[38;5;124mvalues\u001b[39m\u001b[38;5;124m'\u001b[39m}:\n\u001b[1;32m    306\u001b[0m     \u001b[38;5;28;01mreturn\u001b[39;00m \u001b[38;5;28;01mlambda\u001b[39;00m \u001b[38;5;28mcls\u001b[39m, v, values, field, config: validator(\u001b[38;5;28mcls\u001b[39m, v, values\u001b[38;5;241m=\u001b[39mvalues)\n",
      "File \u001b[0;32m/opt/anaconda3/envs/vsa/lib/python3.10/site-packages/llama_index/core/base/embeddings/base.py:85\u001b[0m, in \u001b[0;36mBaseEmbedding._validate_callback_manager\u001b[0;34m(cls, v)\u001b[0m\n\u001b[1;32m     80\u001b[0m \u001b[38;5;129m@validator\u001b[39m(\u001b[38;5;124m\"\u001b[39m\u001b[38;5;124mcallback_manager\u001b[39m\u001b[38;5;124m\"\u001b[39m, pre\u001b[38;5;241m=\u001b[39m\u001b[38;5;28;01mTrue\u001b[39;00m)\n\u001b[1;32m     81\u001b[0m \u001b[38;5;28;01mdef\u001b[39;00m \u001b[38;5;21m_validate_callback_manager\u001b[39m(\n\u001b[1;32m     82\u001b[0m     \u001b[38;5;28mcls\u001b[39m, v: Optional[CallbackManager]\n\u001b[1;32m     83\u001b[0m ) \u001b[38;5;241m-\u001b[39m\u001b[38;5;241m>\u001b[39m CallbackManager:\n\u001b[1;32m     84\u001b[0m     \u001b[38;5;28;01mif\u001b[39;00m v \u001b[38;5;129;01mis\u001b[39;00m \u001b[38;5;28;01mNone\u001b[39;00m:\n\u001b[0;32m---> 85\u001b[0m         \u001b[38;5;28;01mreturn\u001b[39;00m \u001b[43mCallbackManager\u001b[49m\u001b[43m(\u001b[49m\u001b[43m[\u001b[49m\u001b[43m]\u001b[49m\u001b[43m)\u001b[49m\n\u001b[1;32m     86\u001b[0m     \u001b[38;5;28;01mreturn\u001b[39;00m v\n",
      "File \u001b[0;32m/opt/anaconda3/envs/vsa/lib/python3.10/site-packages/llama_index/core/callbacks/base.py:54\u001b[0m, in \u001b[0;36mCallbackManager.__init__\u001b[0;34m(self, handlers)\u001b[0m\n\u001b[1;32m     52\u001b[0m \u001b[38;5;28;01mdef\u001b[39;00m \u001b[38;5;21m__init__\u001b[39m(\u001b[38;5;28mself\u001b[39m, handlers: Optional[List[BaseCallbackHandler]] \u001b[38;5;241m=\u001b[39m \u001b[38;5;28;01mNone\u001b[39;00m):\n\u001b[1;32m     53\u001b[0m \u001b[38;5;250m    \u001b[39m\u001b[38;5;124;03m\"\"\"Initialize the manager with a list of handlers.\"\"\"\u001b[39;00m\n\u001b[0;32m---> 54\u001b[0m     \u001b[38;5;28;01mfrom\u001b[39;00m \u001b[38;5;21;01mllama_index\u001b[39;00m\u001b[38;5;21;01m.\u001b[39;00m\u001b[38;5;21;01mcore\u001b[39;00m \u001b[38;5;28;01mimport\u001b[39;00m global_handler\n\u001b[1;32m     56\u001b[0m     handlers \u001b[38;5;241m=\u001b[39m handlers \u001b[38;5;129;01mor\u001b[39;00m []\n\u001b[1;32m     58\u001b[0m     \u001b[38;5;66;03m# add eval handlers based on global defaults\u001b[39;00m\n",
      "\u001b[0;31mImportError\u001b[0m: cannot import name 'global_handler' from 'llama_index.core' (unknown location)"
     ]
    }
   ],
   "source": [
    "# model_type = \"text-embedding-3-small\"\n",
    "embed_model = OpenAIEmbedding(embed_batch_size=150, api_key=openai.api_key)"
   ]
  },
  {
   "cell_type": "markdown",
   "metadata": {},
   "source": [
    "### Flatten Content \n",
    "This part is very important because the `get_text_embedding_batch` method only accepts a list of strings as an arg.  This batch feature is very convenient though because it allows the user to dump their entire corpus into the function at one go and allow the code to perform all the heavy lifting. "
   ]
  },
  {
   "cell_type": "code",
   "execution_count": 30,
   "metadata": {},
   "outputs": [],
   "source": [
    "#converts list of lists of text (strings) into a single list of text (strings)\n",
    "flattened_content = [chunk for alist in splits for chunk in alist]"
   ]
  },
  {
   "cell_type": "code",
   "execution_count": 31,
   "metadata": {},
   "outputs": [
    {
     "data": {
      "application/vnd.jupyter.widget-view+json": {
       "model_id": "2c1bc3fdfbc0423eb9ccd69fd6346c5c",
       "version_major": 2,
       "version_minor": 0
      },
      "text/plain": [
       "Generating embeddings:   0%|          | 0/23905 [00:00<?, ?it/s]"
      ]
     },
     "metadata": {},
     "output_type": "display_data"
    },
    {
     "name": "stdout",
     "output_type": "stream",
     "text": [
      "CPU times: user 6.09 s, sys: 848 ms, total: 6.94 s\n",
      "Wall time: 1min 53s\n"
     ]
    }
   ],
   "source": [
    "%%time\n",
    "#get ada embeddings   ---> The show_progress bar does not work!\n",
    "ada_embs = embed_model.get_text_embedding_batch(flattened_content, show_progress=True)"
   ]
  },
  {
   "cell_type": "code",
   "execution_count": 34,
   "metadata": {},
   "outputs": [
    {
     "data": {
      "text/plain": [
       "(1536, 23905)"
      ]
     },
     "execution_count": 34,
     "metadata": {},
     "output_type": "execute_result"
    }
   ],
   "source": [
    "len(ada_embs[0]), len(ada_embs)"
   ]
  },
  {
   "cell_type": "code",
   "execution_count": 35,
   "metadata": {},
   "outputs": [],
   "source": [
    "#convert output to DataFrame to visualize and then save results as parquet\n",
    "llama_df = pd.DataFrame({'text': flattened_content, 'embeddings': ada_embs})"
   ]
  },
  {
   "cell_type": "code",
   "execution_count": 36,
   "metadata": {},
   "outputs": [
    {
     "data": {
      "text/html": [
       "<div>\n",
       "<style scoped>\n",
       "    .dataframe tbody tr th:only-of-type {\n",
       "        vertical-align: middle;\n",
       "    }\n",
       "\n",
       "    .dataframe tbody tr th {\n",
       "        vertical-align: top;\n",
       "    }\n",
       "\n",
       "    .dataframe thead th {\n",
       "        text-align: right;\n",
       "    }\n",
       "</style>\n",
       "<table border=\"1\" class=\"dataframe\">\n",
       "  <thead>\n",
       "    <tr style=\"text-align: right;\">\n",
       "      <th></th>\n",
       "      <th>text</th>\n",
       "      <th>embeddings</th>\n",
       "    </tr>\n",
       "  </thead>\n",
       "  <tbody>\n",
       "    <tr>\n",
       "      <th>0</th>\n",
       "      <td>Welcome to the Huberman Lab guest series, wher...</td>\n",
       "      <td>[0.029238032177090645, 0.018185269087553024, 0...</td>\n",
       "    </tr>\n",
       "    <tr>\n",
       "      <th>1</th>\n",
       "      <td>Everything from how to time lighting, temperat...</td>\n",
       "      <td>[0.038538552820682526, 0.013730175793170929, 0...</td>\n",
       "    </tr>\n",
       "    <tr>\n",
       "      <th>2</th>\n",
       "      <td>Walker and I are very excited to share the mat...</td>\n",
       "      <td>[0.03437370806932449, 0.007441236171871424, 0....</td>\n",
       "    </tr>\n",
       "    <tr>\n",
       "      <th>3</th>\n",
       "      <td>Eight Sleep makes it very easy to control the ...</td>\n",
       "      <td>[0.031218120828270912, 0.008673896081745625, 0...</td>\n",
       "    </tr>\n",
       "    <tr>\n",
       "      <th>4</th>\n",
       "      <td>Initially, I had to do therapy against my will...</td>\n",
       "      <td>[-0.002630895236507058, 0.0017472612671554089,...</td>\n",
       "    </tr>\n",
       "    <tr>\n",
       "      <th>...</th>\n",
       "      <td>...</td>\n",
       "      <td>...</td>\n",
       "    </tr>\n",
       "    <tr>\n",
       "      <th>23900</th>\n",
       "      <td>We're also going to talk about the data that s...</td>\n",
       "      <td>[0.006510106381028891, -0.004767164122313261, ...</td>\n",
       "    </tr>\n",
       "    <tr>\n",
       "      <th>23901</th>\n",
       "      <td>Welcome to the Huberman Lab Podcast, where we ...</td>\n",
       "      <td>[0.012734472751617432, 0.011004531756043434, 0...</td>\n",
       "    </tr>\n",
       "    <tr>\n",
       "      <th>23902</th>\n",
       "      <td>So for instance, we might take an entire month...</td>\n",
       "      <td>[-0.010496060363948345, -0.01148151233792305, ...</td>\n",
       "    </tr>\n",
       "    <tr>\n",
       "      <th>23903</th>\n",
       "      <td>So the comment section is a place for you to g...</td>\n",
       "      <td>[-0.013747996650636196, 0.027308398857712746, ...</td>\n",
       "    </tr>\n",
       "    <tr>\n",
       "      <th>23904</th>\n",
       "      <td>Still other tools relate to things like nutrit...</td>\n",
       "      <td>[-0.009567980654537678, -0.0014155106619000435...</td>\n",
       "    </tr>\n",
       "  </tbody>\n",
       "</table>\n",
       "<p>23905 rows × 2 columns</p>\n",
       "</div>"
      ],
      "text/plain": [
       "                                                    text  \\\n",
       "0      Welcome to the Huberman Lab guest series, wher...   \n",
       "1      Everything from how to time lighting, temperat...   \n",
       "2      Walker and I are very excited to share the mat...   \n",
       "3      Eight Sleep makes it very easy to control the ...   \n",
       "4      Initially, I had to do therapy against my will...   \n",
       "...                                                  ...   \n",
       "23900  We're also going to talk about the data that s...   \n",
       "23901  Welcome to the Huberman Lab Podcast, where we ...   \n",
       "23902  So for instance, we might take an entire month...   \n",
       "23903  So the comment section is a place for you to g...   \n",
       "23904  Still other tools relate to things like nutrit...   \n",
       "\n",
       "                                              embeddings  \n",
       "0      [0.029238032177090645, 0.018185269087553024, 0...  \n",
       "1      [0.038538552820682526, 0.013730175793170929, 0...  \n",
       "2      [0.03437370806932449, 0.007441236171871424, 0....  \n",
       "3      [0.031218120828270912, 0.008673896081745625, 0...  \n",
       "4      [-0.002630895236507058, 0.0017472612671554089,...  \n",
       "...                                                  ...  \n",
       "23900  [0.006510106381028891, -0.004767164122313261, ...  \n",
       "23901  [0.012734472751617432, 0.011004531756043434, 0...  \n",
       "23902  [-0.010496060363948345, -0.01148151233792305, ...  \n",
       "23903  [-0.013747996650636196, 0.027308398857712746, ...  \n",
       "23904  [-0.009567980654537678, -0.0014155106619000435...  \n",
       "\n",
       "[23905 rows x 2 columns]"
      ]
     },
     "execution_count": 36,
     "metadata": {},
     "output_type": "execute_result"
    }
   ],
   "source": [
    "llama_df"
   ]
  },
  {
   "cell_type": "code",
   "execution_count": null,
   "metadata": {},
   "outputs": [],
   "source": [
    "#save as parquet for later use\n",
    "# llama_df.to_parquet('./impact_theory_ada_embs.parquet', index=False)"
   ]
  },
  {
   "cell_type": "markdown",
   "metadata": {},
   "source": [
    "The remaining part of joining the text/vector pairs with the episode metadata is left as an exercise to the user.  Something to keep in mind is that the pairs are no longer chunked as episodes, so keep that in mind when joining back with episode metadata.  Also, **very important** if you want to compare the effectiveness of these embeddings against other embedding methods (`all-MiniLM-L6-v2`) make sure that you use the same `doc_ids` that you created when completing Assignment 1.3.  The `doc_ids` will be used as our term of measurement when doing Retrieval Evaluation in Notebook 3 of the course. "
   ]
  },
  {
   "cell_type": "code",
   "execution_count": null,
   "metadata": {},
   "outputs": [],
   "source": []
  }
 ],
 "metadata": {
  "kernelspec": {
   "display_name": "vsa",
   "language": "python",
   "name": "vsa"
  },
  "language_info": {
   "codemirror_mode": {
    "name": "ipython",
    "version": 3
   },
   "file_extension": ".py",
   "mimetype": "text/x-python",
   "name": "python",
   "nbconvert_exporter": "python",
   "pygments_lexer": "ipython3",
   "version": "3.10.13"
  }
 },
 "nbformat": 4,
 "nbformat_minor": 5
}
