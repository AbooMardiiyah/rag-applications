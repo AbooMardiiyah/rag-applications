{
 "cells": [
  {
   "cell_type": "code",
   "execution_count": 43,
   "id": "b9b8d452-7f4e-41ff-ab7e-9697a7cf15fc",
   "metadata": {},
   "outputs": [
    {
     "name": "stdout",
     "output_type": "stream",
     "text": [
      "The autoreload extension is already loaded. To reload it, use:\n",
      "  %reload_ext autoreload\n"
     ]
    }
   ],
   "source": [
    "%load_ext autoreload\n",
    "%autoreload 2\n",
    "\n",
    "#load from local .env file\n",
    "from dotenv import load_dotenv, find_dotenv\n",
    "load_dotenv(find_dotenv(), override=True)\n",
    "\n",
    "import sys\n",
    "sys.path.append('..')\n",
    "\n",
    "#standard libraries\n",
    "import json\n",
    "import os\n",
    "import time\n",
    "from rich import print\n",
    "from typing import Any\n",
    "from src.preprocessor.preprocessing import FileIO\n",
    "from tqdm import tqdm\n",
    "from sentence_transformers import SentenceTransformer"
   ]
  },
  {
   "cell_type": "code",
   "execution_count": 44,
   "id": "b1b76786-3ff9-434a-897f-00b9d8c3f7be",
   "metadata": {},
   "outputs": [],
   "source": [
    "from weaviate.auth import AuthApiKey\n",
    "from weaviate import connect_to_wcs\n",
    "from src.database.weaviate_v4 import WeaviateWCS\n",
    "api_key = os.environ['WEAVIATE_API_KEY']\n",
    "url = os.environ['WEAVIATE_ENDPOINT']\n",
    "collection_name = 'HubermanLabs_minilm_256'"
   ]
  },
  {
   "cell_type": "code",
   "execution_count": 45,
   "id": "17be2edc-4cad-463a-b159-77b39fa6e38b",
   "metadata": {},
   "outputs": [
    {
     "name": "stderr",
     "output_type": "stream",
     "text": [
      "/var/folders/bn/cbq1dkw10_b1lphn2wml9k4m0000gn/T/ipykernel_42961/57164186.py:1: ResourceWarning: unclosed <ssl.SSLSocket fd=77, family=AddressFamily.AF_INET, type=SocketKind.SOCK_STREAM, proto=0, laddr=('192.168.4.26', 59613), raddr=('34.149.137.116', 443)>\n",
      "  client = WeaviateWCS(url, api_key)\n",
      "ResourceWarning: Enable tracemalloc to get the object allocation traceback\n"
     ]
    }
   ],
   "source": [
    "client = WeaviateWCS(url, api_key)"
   ]
  },
  {
   "cell_type": "code",
   "execution_count": 25,
   "id": "1de1f77c-bfca-41c7-80b1-6f2bff6498ee",
   "metadata": {},
   "outputs": [],
   "source": [
    "response = client.vector_search('what is Tongkat Ali', collection_name, limit=5)"
   ]
  },
  {
   "cell_type": "code",
   "execution_count": 50,
   "id": "8b3a509c-cc92-415d-b563-1dbba2ee7927",
   "metadata": {},
   "outputs": [],
   "source": [
    "bm25 = client.keyword_search('what is the gut brain axis', collection_name, query_properties=['content'], limit=5)"
   ]
  },
  {
   "cell_type": "code",
   "execution_count": 49,
   "id": "28819b75-2ae2-4167-bd4d-9842920e2780",
   "metadata": {},
   "outputs": [
    {
     "data": {
      "text/plain": [
       "[{'content': \"Every brain area is operating in the context of neural circuits, other brain areas that it receives inputs from and gives inputs to and so on. But this one particular brain area really does seem to underlie what we call tenacity and willpower. And we know that through several lines of evidence. First of all, I'll tell you the name of the brain area, although the name itself isn't going to tell you much unless you're a neuroscientist or anatomist. So I'll give a little bit of background about it. The name of the brain area is the anterior mid cingulate cortex. The anterior mid cingulate cortex is part of a larger brain area called the cingulate cortex. And in humans versus animals, it goes by slightly different names, unfortunately. It's just one of the consequences of different researchers in different labs calling the same thing different things. It'd be really frustrating, but we'll make it very simple because today we will refer to this area as the anterior mid-singulate cortex, which is a subdivision of a larger brain area simply called the singulate cortex. The anterior mid-singulate cortex resides in the frontal lobes.\",\n",
       "  'title': 'How to Increase Your Willpower & Tenacity | Huberman Lab Podcast',\n",
       "  'videoId': 'cwakOgHIT0E',\n",
       "  'score': 1.0},\n",
       " {'content': \"In addition to that, they were recording various autonomic parameters from those people, so heart rate, breathing, in addition to brainwave activity. So what the subjects report when their anterior mid cingulate cortex was stimulated is that in their words, something was about to happen. They felt as if there was some sort of pressure upon them from the outside, not physical pressure, but that something was about to happen. In fact, one of the subjects described the sensation as it's as if there's a storm off in the distance, but I know I need to go into the storm and I know I can make it through the storm. Okay. Another subject described the experience of having their anterior mid cingulate cortex stimulated as, okay, something not necessarily good is going to happen, but I know that I need to marshal resources and resist, and I'm confident that I can push through. Now, because Parvizi and colleagues are excellent scientists, they of course did control experiments where they would tell the person, okay, we're stimulating that same brain area that a moment ago you told me created this feeling of some pressure upon you that you have to resist, some sense of fight or urgency to push back.\",\n",
       "  'title': 'How to Increase Your Willpower & Tenacity | Huberman Lab Podcast',\n",
       "  'videoId': 'cwakOgHIT0E',\n",
       "  'score': 0.6984469890594482},\n",
       " {'content': \"The anterior mid cingulate cortex is chock-a-block full of the expression of molecules such as chem kinase two, receptors to various neurotrophins, particular types of NMDA, N-methyl-D-aspartate receptors, all of which, if none of those names mean anything to you, just know that all of them refer to different aspects of, and a capacity for synaptic plasticity, which is the ability for connections in the brain to change. They can get stronger. You can actually grow new connections. In other words, the anterior mid-singulate cortex can be built up as a structure to engage tenacity and willpower by activating it through one or a limited number of different types of behaviors, meaning engagement in behaviors that frankly we would rather not engage in, as well as not engaging in behaviors that reflexively we really want to, that we're sort of drawn to engage in. Both of those contexts, the I absolutely will, even though frankly I don't want to, or you're telling me I can't, as well as the I absolutely won't, even though you're tempting me to do that, or that's tempting me to do that, or even I'm tempted to do that.\",\n",
       "  'title': 'How to Increase Your Willpower & Tenacity | Huberman Lab Podcast',\n",
       "  'videoId': 'cwakOgHIT0E',\n",
       "  'score': 0.6764651536941528},\n",
       " {'content': \"And you go from one minute to 10 minutes, guess what? Your anterior mid-cingulate cortex did not grow. But if you hate the cold water, if you're afraid of drowning and you get into water and put your head under, then your anterior mid- and survive, then the anterior mid-cingulate cortex gets bigger. But if you don't do it the next day, or if you do it the next day and you enjoy it, because, hey, I did it yesterday. Woo-hoo. Happy me. Merry Christmas, as you would say. Right, Merry Christmas. Guess what? The anterior mid-singlet cortex shrinks again. Yep. To me, this is one of the most important discoveries that neuroscience has ever made because it's that I don't want to do something, but do it anyway. That's right. That grows this area. And it's almost like I have a friend, he's been sober 30 years from alcohol. And he always says, you know, the amazing thing about addiction is there's a cure. The problem is it only works one day at a time.\",\n",
       "  'title': 'David Goggins: How to Build Immense Inner Strength',\n",
       "  'videoId': 'nDLb8_wgX50',\n",
       "  'score': 0.6755579113960266},\n",
       " {'content': \"Along those lines, one of the most incredible and important studies about the anterior mid-singulate cortex and its capacity to generate feelings of tenacity and willpower comes from one of my colleagues at Stanford, Joe Parvizzi, who essentially went into human beings who needed brain surgery for other reasons and stimulated particular brain areas with a very high degree of precision. The title of the paper that I'm referring to was published in 2013 in the journal Neuron, Cell Press Journal, excellent journal. And it's entitled, The Will to Persevere Induced by Electrical Stimulation of the Human Cingulate Gyrus. Now you'll notice the title said human cingulate gyrus, not anterior mid cingulate gyrus, but because they had electrodes and a stimulation technique that would allow them to stimulate in very small regions, extending as little as five millimeters, but no more away from the stimulation site. They were able to march their stimulation around different sub-regions of the cingulate gyrus of humans while those people were awake, and then ask those people, how do you feel? What are you experiencing in this moment?\",\n",
       "  'title': 'How to Increase Your Willpower & Tenacity | Huberman Lab Podcast',\n",
       "  'videoId': 'cwakOgHIT0E',\n",
       "  'score': 0.6269704103469849},\n",
       " {'content': \"And so you have to renew it every day. So the anterior mid-cingulate cortex, to me, when I learned about it, two things went off in my head. Whoa, this is super interesting. And two, I got to tell David Goggins about this. And I waited until now to tell you because I felt like, well, for obvious reasons, I wanted to tell you and I wanted to tell you here. Well, I love that because that's how I've lived my entire life. I didn't know anything about that. But people go, man, you have such a strong will. It's something that you build. Like, I never forgot, I was on a podcast one time, and this dude goes, you were blessed with a strong mind. Like, what the hell are you talking about? I was blessed with a strong mind. That's something that you have to develop. You develop that over years, decades of suffering and going back into the suffer.\",\n",
       "  'title': 'David Goggins: How to Build Immense Inner Strength',\n",
       "  'videoId': 'nDLb8_wgX50',\n",
       "  'score': 0.6134823560714722},\n",
       " {'content': \"I didn't spell that out before just to spell it out for fun. Although that is the sort of thing that I would probably do. Those white matter tracts are the communication routes by which different brain areas communicate. And this anterior white matter tract that maintained size in the people that did cardiovascular training as compared to those that simply did the calisthenics training and stretching is the very white matter tracks that connects the two sides of the brain, the frontal lobes that allows the anterior mid cingulate cortex on one side of the brain and the anterior mid cingulate cortex on the other side of the brain, as well as other brain structures to communicate with one another. So this is really spectacular. I mean, the authors of the study didn't embark on the study to find or even look for increases or maintenance in the volume of the anterior mid-singulate cortex and the communication routes in and out of the anterior mid-singulate cortex. It just so happened that cardiovascular training done three times per week for an hour at a time at moderate intensity increased the size of the anterior mid-singulate cortex.\",\n",
       "  'title': 'How to Increase Your Willpower & Tenacity | Huberman Lab Podcast',\n",
       "  'videoId': 'cwakOgHIT0E',\n",
       "  'score': 0.6127219796180725},\n",
       " {'title': 'How to Increase Your Willpower & Tenacity | Huberman Lab Podcast',\n",
       "  'content': \"And on a previous episode of the Huberman Lab Podcast with Robert Sapolsky as my guest, we talked about, for instance, the role of testosterone and many people think, oh, testosterone is all about aggression. Testosterone is all about attack. Testosterone is all about mating. That is completely false. While it can be involved in those different processes, what Dr. Sapolsky and I discussed is that one of the major functions of testosterone in the brain is to make effort feel good. And you can see, and we'll talk a little bit more about how that links up very directly with this concept of tenacity and willpower. So the first point is that the anterior mid-singulate cortex is in direct communication with all of the areas of the brain and through a couple of other stations, the body that modulate our sense of tenacity and willpower, which we talked about earlier, the need for sleep, the need for pain or lack of pain or emotional comfort or discomfort to modulate our level of tenacity and willpower. The anterior mid-singulate cortex is also directly linked up with premotor centers.\",\n",
       "  'videoId': 'cwakOgHIT0E',\n",
       "  'score': 0.6000605225563049},\n",
       " {'content': \"So it's behind your forehead, although that doesn't tell you anything because all of your brain is behind your forehead if you think about it. And it's about a third of the way back toward the back of your head. And you actually have two of these structures, two anterior mid cingulate cortices, one on each side of the brain. And they receive a lot of inputs from a lot of different areas. And we'll talk about what those areas are because this is extremely important when thinking about the different psychological and physiological resources that you can draw upon to engage tenacity and willpower. But for the time being, let me just go through the evidence in kind of list format of why we feel so confident that the anterior mid cingulate cortex is such a vital hub for engaging tenacity and willpower. For each of these points that I'm about to make, there is indeed at least one, if not several quality peer-reviewed studies in humans. So there's a lot of data from animals, both rodents and primate models, et cetera, that we're not talking about today, but I should mention all of which supports the human data and vice versa.\",\n",
       "  'title': 'How to Increase Your Willpower & Tenacity | Huberman Lab Podcast',\n",
       "  'videoId': 'cwakOgHIT0E',\n",
       "  'score': 0.5969430208206177},\n",
       " {'content': \"In many ways, scientists are starting to think of the anterior mid-singulate cortex not just as one of the seats of willpower, but perhaps actually the seat of the will to live. Now we're talking. And when I learned about the anterior mid-singulate cortex, I was like almost out of my seat. And I've been in the neuroscience game since I was 20. We're the same age. And I was so pumped because I've heard of the amygdala, fear, prefrontal cortex, it's planning and action. I could tell you every brain area and every, I teach neuroanatomy to magical students. But when I started seeing the data on the anterior mid-singulate cortex, I was like, whoa, this is interesting. And all the data point to the fact that we can build this area up, but that as quickly as we build it up, if we don't continue to invest in things that are hard for us, that we don't want to do, that's the part that feels so Gogginsque to me that we don't want to do. Like if you love the ice bath, yeah, I love the ice bath.\",\n",
       "  'title': 'David Goggins: How to Build Immense Inner Strength',\n",
       "  'videoId': 'nDLb8_wgX50',\n",
       "  'score': 0.589684247970581}]"
      ]
     },
     "execution_count": 49,
     "metadata": {},
     "output_type": "execute_result"
    }
   ],
   "source": [
    "client.hybrid_search('what is the role of the mid cingulate cortex', \n",
    "                     collection_name, \n",
    "                     query_properties=['content', 'title']\n",
    "                    )"
   ]
  },
  {
   "cell_type": "code",
   "execution_count": null,
   "id": "21da4139-5ae5-4024-bb0f-4773fdeb870a",
   "metadata": {},
   "outputs": [],
   "source": []
  },
  {
   "cell_type": "code",
   "execution_count": null,
   "id": "fa02f0af-f213-4c81-84c7-b9ba8593119a",
   "metadata": {},
   "outputs": [],
   "source": []
  },
  {
   "cell_type": "code",
   "execution_count": null,
   "id": "96a44ca9-d295-4e09-b9b8-435047a8765b",
   "metadata": {},
   "outputs": [],
   "source": []
  },
  {
   "cell_type": "code",
   "execution_count": null,
   "id": "ff968020-f242-4e9a-8d42-e4f4a5f1dfa0",
   "metadata": {},
   "outputs": [],
   "source": []
  },
  {
   "cell_type": "code",
   "execution_count": 8,
   "id": "ebdfc97c-824f-4e8e-b2a3-999dbe804683",
   "metadata": {},
   "outputs": [
    {
     "name": "stdout",
     "output_type": "stream",
     "text": [
      "Shape of data: (4614, 19)\n",
      "Memory Usage: 0.48+ MB\n"
     ]
    }
   ],
   "source": [
    "docs = FileIO().load_parquet('../data/huberman_subset_minilm-256.parquet')"
   ]
  },
  {
   "cell_type": "code",
   "execution_count": 9,
   "id": "1e30450d-eee8-4dc0-977b-e40e93456647",
   "metadata": {},
   "outputs": [],
   "source": [
    "drops = ['channelId', 'isOwnerViewing', 'isCrawlable', 'allowRatings', 'author', 'isPrivate', 'isUnpluggedCorpus', 'isLiveContent']"
   ]
  },
  {
   "cell_type": "code",
   "execution_count": 10,
   "id": "b1bdee72-c3d2-4cf0-b043-5f36b2a46ac2",
   "metadata": {},
   "outputs": [],
   "source": [
    "for d in docs:\n",
    "    for field in drops:\n",
    "        del d[field]"
   ]
  },
  {
   "cell_type": "code",
   "execution_count": 11,
   "id": "8c5a7efc-fd65-4601-bd61-20e2a89c876c",
   "metadata": {},
   "outputs": [
    {
     "data": {
      "text/plain": [
       "'https://i.ytimg.com/vi/oL3SkPV1_Ik/mqdefault.jpg'"
      ]
     },
     "execution_count": 11,
     "metadata": {},
     "output_type": "execute_result"
    }
   ],
   "source": [
    "docs[0]['thumbnail']['thumbnails'][1]['url']"
   ]
  },
  {
   "cell_type": "code",
   "execution_count": 12,
   "id": "de34ac7c-16d8-4614-8f14-be4468f16b14",
   "metadata": {},
   "outputs": [],
   "source": [
    "for d in docs:\n",
    "    # assert d['thumbnail']['thumbnails'][1].get('url') != None\n",
    "    d['thumbnail_url'] = d['thumbnail']['thumbnails'][1].get('url')\n",
    "    d['lengthSeconds'] = int(d['lengthSeconds'])\n",
    "    d['viewCount'] = int(d['viewCount'])\n",
    "    del d['thumbnail']"
   ]
  },
  {
   "cell_type": "code",
   "execution_count": 13,
   "id": "132ff367-e7df-4b9e-b19e-5625f343d5b3",
   "metadata": {},
   "outputs": [
    {
     "name": "stdout",
     "output_type": "stream",
     "text": [
      "(videoId --> <class 'str'>)\n",
      "(title --> <class 'str'>)\n",
      "(lengthSeconds --> <class 'int'>)\n",
      "(keywords --> <class 'list'>)\n",
      "(shortDescription --> <class 'str'>)\n",
      "(viewCount --> <class 'int'>)\n",
      "(episode_num --> <class 'int'>)\n",
      "(doc_id --> <class 'str'>)\n",
      "(content --> <class 'str'>)\n",
      "(content_embedding --> <class 'list'>)\n",
      "(thumbnail_url --> <class 'str'>)\n"
     ]
    }
   ],
   "source": [
    "for k in docs[0]:\n",
    "    print(f'({k} --> {type(docs[0][k])})')"
   ]
  },
  {
   "cell_type": "markdown",
   "id": "fb9a97e3-cb13-4ea9-9690-9047ed1a0fe3",
   "metadata": {},
   "source": [
    "### Create Properties"
   ]
  },
  {
   "cell_type": "code",
   "execution_count": 14,
   "id": "a3cab67f-3c67-4cf9-9c20-ae3addc12c80",
   "metadata": {},
   "outputs": [],
   "source": [
    "from src.database.huberman_properties import properties_template\n",
    "# from weaviate.classes.config import Tokenization, Property"
   ]
  },
  {
   "cell_type": "code",
   "execution_count": 37,
   "id": "251338cb-1225-49b3-95e4-bd9c06a2e1c7",
   "metadata": {
    "jupyter": {
     "source_hidden": true
    }
   },
   "outputs": [],
   "source": [
    "def assign_DataType(dict_value: Any):\n",
    "    if isinstance(dict_value, str):\n",
    "        return DataType.TEXT\n",
    "    elif isinstance(dict_value, int):\n",
    "        return DataType.INT\n",
    "    elif isinstance(dict_value, float):\n",
    "        return DataType.NUMBER\n",
    "    elif isinstance(dict_value, bool):\n",
    "        return DataType.BOOL\n",
    "    elif isinstance(dict_value, list):\n",
    "        if isinstance(dict_value[0], str):\n",
    "            return DataType.TEXT_ARRAY\n",
    "        elif isinstance(dict_value[0], float):\n",
    "            return DataType.NUMBER_ARRAY\n",
    "    else:\n",
    "        raise TypeError(f'Type <{type(dict_value)}> is not an acceptable data type')"
   ]
  },
  {
   "cell_type": "code",
   "execution_count": 16,
   "id": "f7f46ccb-4337-45b2-9962-9f88d7af4071",
   "metadata": {},
   "outputs": [],
   "source": [
    "client.collections.create(\n",
    "    name='HubermanLabs_minilm_256',\n",
    "    description='Collection of 189 episodes of the Huberman Labs podcast',\n",
    "    properties=properties_template)\n",
    "client.close()"
   ]
  },
  {
   "cell_type": "code",
   "execution_count": 22,
   "id": "0a0c3f2b-9ca8-4e7f-8f0a-5704c822aa4d",
   "metadata": {
    "collapsed": true,
    "jupyter": {
     "outputs_hidden": true
    }
   },
   "outputs": [
    {
     "data": {
      "text/html": [
       "<pre style=\"white-space:pre;overflow-x:auto;line-height:normal;font-family:Menlo,'DejaVu Sans Mono',consolas,'Courier New',monospace\"><span style=\"font-weight: bold\">{</span>\n",
       "    <span style=\"color: #008000; text-decoration-color: #008000\">'HubermanLabs_minilm_256'</span>: <span style=\"color: #800080; text-decoration-color: #800080; font-weight: bold\">_CollectionConfigSimple</span><span style=\"font-weight: bold\">(</span>\n",
       "        <span style=\"color: #808000; text-decoration-color: #808000\">name</span>=<span style=\"color: #008000; text-decoration-color: #008000\">'HubermanLabs_minilm_256'</span>,\n",
       "        <span style=\"color: #808000; text-decoration-color: #808000\">description</span>=<span style=\"color: #008000; text-decoration-color: #008000\">'Collection of 189 episodes of the Huberman Labs podcast'</span>,\n",
       "        <span style=\"color: #808000; text-decoration-color: #808000\">generative_config</span>=<span style=\"color: #800080; text-decoration-color: #800080; font-style: italic\">None</span>,\n",
       "        <span style=\"color: #808000; text-decoration-color: #808000\">properties</span>=<span style=\"font-weight: bold\">[</span>\n",
       "            <span style=\"color: #800080; text-decoration-color: #800080; font-weight: bold\">_Property</span><span style=\"font-weight: bold\">(</span>\n",
       "                <span style=\"color: #808000; text-decoration-color: #808000\">name</span>=<span style=\"color: #008000; text-decoration-color: #008000\">'videoId'</span>,\n",
       "                <span style=\"color: #808000; text-decoration-color: #808000\">description</span>=<span style=\"color: #800080; text-decoration-color: #800080; font-style: italic\">None</span>,\n",
       "                <span style=\"color: #808000; text-decoration-color: #808000\">data_type</span>=<span style=\"font-weight: bold\">&lt;</span><span style=\"color: #ff00ff; text-decoration-color: #ff00ff; font-weight: bold\">DataType.TEXT:</span><span style=\"color: #000000; text-decoration-color: #000000\"> </span><span style=\"color: #008000; text-decoration-color: #008000\">'text'</span><span style=\"color: #000000; text-decoration-color: #000000\">&gt;,</span>\n",
       "<span style=\"color: #000000; text-decoration-color: #000000\">                </span><span style=\"color: #808000; text-decoration-color: #808000\">index_filterable</span><span style=\"color: #000000; text-decoration-color: #000000\">=</span><span style=\"color: #00ff00; text-decoration-color: #00ff00; font-style: italic\">True</span><span style=\"color: #000000; text-decoration-color: #000000\">,</span>\n",
       "<span style=\"color: #000000; text-decoration-color: #000000\">                </span><span style=\"color: #808000; text-decoration-color: #808000\">index_searchable</span><span style=\"color: #000000; text-decoration-color: #000000\">=</span><span style=\"color: #ff0000; text-decoration-color: #ff0000; font-style: italic\">False</span><span style=\"color: #000000; text-decoration-color: #000000\">,</span>\n",
       "<span style=\"color: #000000; text-decoration-color: #000000\">                </span><span style=\"color: #808000; text-decoration-color: #808000\">nested_properties</span><span style=\"color: #000000; text-decoration-color: #000000\">=</span><span style=\"color: #800080; text-decoration-color: #800080; font-style: italic\">None</span><span style=\"color: #000000; text-decoration-color: #000000\">,</span>\n",
       "<span style=\"color: #000000; text-decoration-color: #000000\">                </span><span style=\"color: #808000; text-decoration-color: #808000\">tokenization</span><span style=\"color: #000000; text-decoration-color: #000000\">=&lt;Tokenization.WORD: </span><span style=\"color: #008000; text-decoration-color: #008000\">'word'</span><span style=\"color: #000000; text-decoration-color: #000000\">&gt;,</span>\n",
       "<span style=\"color: #000000; text-decoration-color: #000000\">                </span><span style=\"color: #808000; text-decoration-color: #808000\">vectorizer_config</span><span style=\"color: #000000; text-decoration-color: #000000\">=</span><span style=\"color: #800080; text-decoration-color: #800080; font-style: italic\">None</span><span style=\"color: #000000; text-decoration-color: #000000\">,</span>\n",
       "<span style=\"color: #000000; text-decoration-color: #000000\">                </span><span style=\"color: #808000; text-decoration-color: #808000\">vectorizer</span><span style=\"color: #000000; text-decoration-color: #000000\">=</span><span style=\"color: #008000; text-decoration-color: #008000\">'none'</span>\n",
       "<span style=\"color: #000000; text-decoration-color: #000000\">            </span><span style=\"color: #000000; text-decoration-color: #000000; font-weight: bold\">)</span><span style=\"color: #000000; text-decoration-color: #000000\">,</span>\n",
       "<span style=\"color: #000000; text-decoration-color: #000000\">            </span><span style=\"color: #800080; text-decoration-color: #800080; font-weight: bold\">_Property</span><span style=\"color: #000000; text-decoration-color: #000000; font-weight: bold\">(</span>\n",
       "<span style=\"color: #000000; text-decoration-color: #000000\">                </span><span style=\"color: #808000; text-decoration-color: #808000\">name</span><span style=\"color: #000000; text-decoration-color: #000000\">=</span><span style=\"color: #008000; text-decoration-color: #008000\">'title'</span><span style=\"color: #000000; text-decoration-color: #000000\">,</span>\n",
       "<span style=\"color: #000000; text-decoration-color: #000000\">                </span><span style=\"color: #808000; text-decoration-color: #808000\">description</span><span style=\"color: #000000; text-decoration-color: #000000\">=</span><span style=\"color: #800080; text-decoration-color: #800080; font-style: italic\">None</span><span style=\"color: #000000; text-decoration-color: #000000\">,</span>\n",
       "<span style=\"color: #000000; text-decoration-color: #000000\">                </span><span style=\"color: #808000; text-decoration-color: #808000\">data_type</span><span style=\"color: #000000; text-decoration-color: #000000\">=&lt;DataType.TEXT: </span><span style=\"color: #008000; text-decoration-color: #008000\">'text'</span><span style=\"color: #000000; text-decoration-color: #000000\">&gt;,</span>\n",
       "<span style=\"color: #000000; text-decoration-color: #000000\">                </span><span style=\"color: #808000; text-decoration-color: #808000\">index_filterable</span><span style=\"color: #000000; text-decoration-color: #000000\">=</span><span style=\"color: #00ff00; text-decoration-color: #00ff00; font-style: italic\">True</span><span style=\"color: #000000; text-decoration-color: #000000\">,</span>\n",
       "<span style=\"color: #000000; text-decoration-color: #000000\">                </span><span style=\"color: #808000; text-decoration-color: #808000\">index_searchable</span><span style=\"color: #000000; text-decoration-color: #000000\">=</span><span style=\"color: #00ff00; text-decoration-color: #00ff00; font-style: italic\">True</span><span style=\"color: #000000; text-decoration-color: #000000\">,</span>\n",
       "<span style=\"color: #000000; text-decoration-color: #000000\">                </span><span style=\"color: #808000; text-decoration-color: #808000\">nested_properties</span><span style=\"color: #000000; text-decoration-color: #000000\">=</span><span style=\"color: #800080; text-decoration-color: #800080; font-style: italic\">None</span><span style=\"color: #000000; text-decoration-color: #000000\">,</span>\n",
       "<span style=\"color: #000000; text-decoration-color: #000000\">                </span><span style=\"color: #808000; text-decoration-color: #808000\">tokenization</span><span style=\"color: #000000; text-decoration-color: #000000\">=&lt;Tokenization.WORD: </span><span style=\"color: #008000; text-decoration-color: #008000\">'word'</span><span style=\"color: #000000; text-decoration-color: #000000\">&gt;,</span>\n",
       "<span style=\"color: #000000; text-decoration-color: #000000\">                </span><span style=\"color: #808000; text-decoration-color: #808000\">vectorizer_config</span><span style=\"color: #000000; text-decoration-color: #000000\">=</span><span style=\"color: #800080; text-decoration-color: #800080; font-style: italic\">None</span><span style=\"color: #000000; text-decoration-color: #000000\">,</span>\n",
       "<span style=\"color: #000000; text-decoration-color: #000000\">                </span><span style=\"color: #808000; text-decoration-color: #808000\">vectorizer</span><span style=\"color: #000000; text-decoration-color: #000000\">=</span><span style=\"color: #008000; text-decoration-color: #008000\">'none'</span>\n",
       "<span style=\"color: #000000; text-decoration-color: #000000\">            </span><span style=\"color: #000000; text-decoration-color: #000000; font-weight: bold\">)</span><span style=\"color: #000000; text-decoration-color: #000000\">,</span>\n",
       "<span style=\"color: #000000; text-decoration-color: #000000\">            </span><span style=\"color: #800080; text-decoration-color: #800080; font-weight: bold\">_Property</span><span style=\"color: #000000; text-decoration-color: #000000; font-weight: bold\">(</span>\n",
       "<span style=\"color: #000000; text-decoration-color: #000000\">                </span><span style=\"color: #808000; text-decoration-color: #808000\">name</span><span style=\"color: #000000; text-decoration-color: #000000\">=</span><span style=\"color: #008000; text-decoration-color: #008000\">'lengthSeconds'</span><span style=\"color: #000000; text-decoration-color: #000000\">,</span>\n",
       "<span style=\"color: #000000; text-decoration-color: #000000\">                </span><span style=\"color: #808000; text-decoration-color: #808000\">description</span><span style=\"color: #000000; text-decoration-color: #000000\">=</span><span style=\"color: #800080; text-decoration-color: #800080; font-style: italic\">None</span><span style=\"color: #000000; text-decoration-color: #000000\">,</span>\n",
       "<span style=\"color: #000000; text-decoration-color: #000000\">                </span><span style=\"color: #808000; text-decoration-color: #808000\">data_type</span><span style=\"color: #000000; text-decoration-color: #000000\">=&lt;DataType.INT: </span><span style=\"color: #008000; text-decoration-color: #008000\">'int'</span><span style=\"color: #000000; text-decoration-color: #000000\">&gt;,</span>\n",
       "<span style=\"color: #000000; text-decoration-color: #000000\">                </span><span style=\"color: #808000; text-decoration-color: #808000\">index_filterable</span><span style=\"color: #000000; text-decoration-color: #000000\">=</span><span style=\"color: #00ff00; text-decoration-color: #00ff00; font-style: italic\">True</span><span style=\"color: #000000; text-decoration-color: #000000\">,</span>\n",
       "<span style=\"color: #000000; text-decoration-color: #000000\">                </span><span style=\"color: #808000; text-decoration-color: #808000\">index_searchable</span><span style=\"color: #000000; text-decoration-color: #000000\">=</span><span style=\"color: #ff0000; text-decoration-color: #ff0000; font-style: italic\">False</span><span style=\"color: #000000; text-decoration-color: #000000\">,</span>\n",
       "<span style=\"color: #000000; text-decoration-color: #000000\">                </span><span style=\"color: #808000; text-decoration-color: #808000\">nested_properties</span><span style=\"color: #000000; text-decoration-color: #000000\">=</span><span style=\"color: #800080; text-decoration-color: #800080; font-style: italic\">None</span><span style=\"color: #000000; text-decoration-color: #000000\">,</span>\n",
       "<span style=\"color: #000000; text-decoration-color: #000000\">                </span><span style=\"color: #808000; text-decoration-color: #808000\">tokenization</span><span style=\"color: #000000; text-decoration-color: #000000\">=</span><span style=\"color: #800080; text-decoration-color: #800080; font-style: italic\">None</span><span style=\"color: #000000; text-decoration-color: #000000\">,</span>\n",
       "<span style=\"color: #000000; text-decoration-color: #000000\">                </span><span style=\"color: #808000; text-decoration-color: #808000\">vectorizer_config</span><span style=\"color: #000000; text-decoration-color: #000000\">=</span><span style=\"color: #800080; text-decoration-color: #800080; font-style: italic\">None</span><span style=\"color: #000000; text-decoration-color: #000000\">,</span>\n",
       "<span style=\"color: #000000; text-decoration-color: #000000\">                </span><span style=\"color: #808000; text-decoration-color: #808000\">vectorizer</span><span style=\"color: #000000; text-decoration-color: #000000\">=</span><span style=\"color: #008000; text-decoration-color: #008000\">'none'</span>\n",
       "<span style=\"color: #000000; text-decoration-color: #000000\">            </span><span style=\"color: #000000; text-decoration-color: #000000; font-weight: bold\">)</span><span style=\"color: #000000; text-decoration-color: #000000\">,</span>\n",
       "<span style=\"color: #000000; text-decoration-color: #000000\">            </span><span style=\"color: #800080; text-decoration-color: #800080; font-weight: bold\">_Property</span><span style=\"color: #000000; text-decoration-color: #000000; font-weight: bold\">(</span>\n",
       "<span style=\"color: #000000; text-decoration-color: #000000\">                </span><span style=\"color: #808000; text-decoration-color: #808000\">name</span><span style=\"color: #000000; text-decoration-color: #000000\">=</span><span style=\"color: #008000; text-decoration-color: #008000\">'thumbnail_url'</span><span style=\"color: #000000; text-decoration-color: #000000\">,</span>\n",
       "<span style=\"color: #000000; text-decoration-color: #000000\">                </span><span style=\"color: #808000; text-decoration-color: #808000\">description</span><span style=\"color: #000000; text-decoration-color: #000000\">=</span><span style=\"color: #800080; text-decoration-color: #800080; font-style: italic\">None</span><span style=\"color: #000000; text-decoration-color: #000000\">,</span>\n",
       "<span style=\"color: #000000; text-decoration-color: #000000\">                </span><span style=\"color: #808000; text-decoration-color: #808000\">data_type</span><span style=\"color: #000000; text-decoration-color: #000000\">=&lt;DataType.TEXT: </span><span style=\"color: #008000; text-decoration-color: #008000\">'text'</span><span style=\"color: #000000; text-decoration-color: #000000\">&gt;,</span>\n",
       "<span style=\"color: #000000; text-decoration-color: #000000\">                </span><span style=\"color: #808000; text-decoration-color: #808000\">index_filterable</span><span style=\"color: #000000; text-decoration-color: #000000\">=</span><span style=\"color: #ff0000; text-decoration-color: #ff0000; font-style: italic\">False</span><span style=\"color: #000000; text-decoration-color: #000000\">,</span>\n",
       "<span style=\"color: #000000; text-decoration-color: #000000\">                </span><span style=\"color: #808000; text-decoration-color: #808000\">index_searchable</span><span style=\"color: #000000; text-decoration-color: #000000\">=</span><span style=\"color: #ff0000; text-decoration-color: #ff0000; font-style: italic\">False</span><span style=\"color: #000000; text-decoration-color: #000000\">,</span>\n",
       "<span style=\"color: #000000; text-decoration-color: #000000\">                </span><span style=\"color: #808000; text-decoration-color: #808000\">nested_properties</span><span style=\"color: #000000; text-decoration-color: #000000\">=</span><span style=\"color: #800080; text-decoration-color: #800080; font-style: italic\">None</span><span style=\"color: #000000; text-decoration-color: #000000\">,</span>\n",
       "<span style=\"color: #000000; text-decoration-color: #000000\">                </span><span style=\"color: #808000; text-decoration-color: #808000\">tokenization</span><span style=\"color: #000000; text-decoration-color: #000000\">=&lt;Tokenization.WORD: </span><span style=\"color: #008000; text-decoration-color: #008000\">'word'</span><span style=\"color: #000000; text-decoration-color: #000000\">&gt;,</span>\n",
       "<span style=\"color: #000000; text-decoration-color: #000000\">                </span><span style=\"color: #808000; text-decoration-color: #808000\">vectorizer_config</span><span style=\"color: #000000; text-decoration-color: #000000\">=</span><span style=\"color: #800080; text-decoration-color: #800080; font-style: italic\">None</span><span style=\"color: #000000; text-decoration-color: #000000\">,</span>\n",
       "<span style=\"color: #000000; text-decoration-color: #000000\">                </span><span style=\"color: #808000; text-decoration-color: #808000\">vectorizer</span><span style=\"color: #000000; text-decoration-color: #000000\">=</span><span style=\"color: #008000; text-decoration-color: #008000\">'none'</span>\n",
       "<span style=\"color: #000000; text-decoration-color: #000000\">            </span><span style=\"color: #000000; text-decoration-color: #000000; font-weight: bold\">)</span><span style=\"color: #000000; text-decoration-color: #000000\">,</span>\n",
       "<span style=\"color: #000000; text-decoration-color: #000000\">            </span><span style=\"color: #800080; text-decoration-color: #800080; font-weight: bold\">_Property</span><span style=\"color: #000000; text-decoration-color: #000000; font-weight: bold\">(</span>\n",
       "<span style=\"color: #000000; text-decoration-color: #000000\">                </span><span style=\"color: #808000; text-decoration-color: #808000\">name</span><span style=\"color: #000000; text-decoration-color: #000000\">=</span><span style=\"color: #008000; text-decoration-color: #008000\">'keywords'</span><span style=\"color: #000000; text-decoration-color: #000000\">,</span>\n",
       "<span style=\"color: #000000; text-decoration-color: #000000\">                </span><span style=\"color: #808000; text-decoration-color: #808000\">description</span><span style=\"color: #000000; text-decoration-color: #000000\">=</span><span style=\"color: #800080; text-decoration-color: #800080; font-style: italic\">None</span><span style=\"color: #000000; text-decoration-color: #000000\">,</span>\n",
       "<span style=\"color: #000000; text-decoration-color: #000000\">                </span><span style=\"color: #808000; text-decoration-color: #808000\">data_type</span><span style=\"color: #000000; text-decoration-color: #000000\">=&lt;DataType.TEXT_ARRAY: </span><span style=\"color: #008000; text-decoration-color: #008000\">'text[]'</span><span style=\"color: #000000; text-decoration-color: #000000\">&gt;,</span>\n",
       "<span style=\"color: #000000; text-decoration-color: #000000\">                </span><span style=\"color: #808000; text-decoration-color: #808000\">index_filterable</span><span style=\"color: #000000; text-decoration-color: #000000\">=</span><span style=\"color: #00ff00; text-decoration-color: #00ff00; font-style: italic\">True</span><span style=\"color: #000000; text-decoration-color: #000000\">,</span>\n",
       "<span style=\"color: #000000; text-decoration-color: #000000\">                </span><span style=\"color: #808000; text-decoration-color: #808000\">index_searchable</span><span style=\"color: #000000; text-decoration-color: #000000\">=</span><span style=\"color: #00ff00; text-decoration-color: #00ff00; font-style: italic\">True</span><span style=\"color: #000000; text-decoration-color: #000000\">,</span>\n",
       "<span style=\"color: #000000; text-decoration-color: #000000\">                </span><span style=\"color: #808000; text-decoration-color: #808000\">nested_properties</span><span style=\"color: #000000; text-decoration-color: #000000\">=</span><span style=\"color: #800080; text-decoration-color: #800080; font-style: italic\">None</span><span style=\"color: #000000; text-decoration-color: #000000\">,</span>\n",
       "<span style=\"color: #000000; text-decoration-color: #000000\">                </span><span style=\"color: #808000; text-decoration-color: #808000\">tokenization</span><span style=\"color: #000000; text-decoration-color: #000000\">=&lt;Tokenization.WORD: </span><span style=\"color: #008000; text-decoration-color: #008000\">'word'</span><span style=\"color: #000000; text-decoration-color: #000000\">&gt;,</span>\n",
       "<span style=\"color: #000000; text-decoration-color: #000000\">                </span><span style=\"color: #808000; text-decoration-color: #808000\">vectorizer_config</span><span style=\"color: #000000; text-decoration-color: #000000\">=</span><span style=\"color: #800080; text-decoration-color: #800080; font-style: italic\">None</span><span style=\"color: #000000; text-decoration-color: #000000\">,</span>\n",
       "<span style=\"color: #000000; text-decoration-color: #000000\">                </span><span style=\"color: #808000; text-decoration-color: #808000\">vectorizer</span><span style=\"color: #000000; text-decoration-color: #000000\">=</span><span style=\"color: #008000; text-decoration-color: #008000\">'none'</span>\n",
       "<span style=\"color: #000000; text-decoration-color: #000000\">            </span><span style=\"color: #000000; text-decoration-color: #000000; font-weight: bold\">)</span><span style=\"color: #000000; text-decoration-color: #000000\">,</span>\n",
       "<span style=\"color: #000000; text-decoration-color: #000000\">            </span><span style=\"color: #800080; text-decoration-color: #800080; font-weight: bold\">_Property</span><span style=\"color: #000000; text-decoration-color: #000000; font-weight: bold\">(</span>\n",
       "<span style=\"color: #000000; text-decoration-color: #000000\">                </span><span style=\"color: #808000; text-decoration-color: #808000\">name</span><span style=\"color: #000000; text-decoration-color: #000000\">=</span><span style=\"color: #008000; text-decoration-color: #008000\">'shortDescription'</span><span style=\"color: #000000; text-decoration-color: #000000\">,</span>\n",
       "<span style=\"color: #000000; text-decoration-color: #000000\">                </span><span style=\"color: #808000; text-decoration-color: #808000\">description</span><span style=\"color: #000000; text-decoration-color: #000000\">=</span><span style=\"color: #800080; text-decoration-color: #800080; font-style: italic\">None</span><span style=\"color: #000000; text-decoration-color: #000000\">,</span>\n",
       "<span style=\"color: #000000; text-decoration-color: #000000\">                </span><span style=\"color: #808000; text-decoration-color: #808000\">data_type</span><span style=\"color: #000000; text-decoration-color: #000000\">=&lt;DataType.TEXT: </span><span style=\"color: #008000; text-decoration-color: #008000\">'text'</span><span style=\"color: #000000; text-decoration-color: #000000\">&gt;,</span>\n",
       "<span style=\"color: #000000; text-decoration-color: #000000\">                </span><span style=\"color: #808000; text-decoration-color: #808000\">index_filterable</span><span style=\"color: #000000; text-decoration-color: #000000\">=</span><span style=\"color: #ff0000; text-decoration-color: #ff0000; font-style: italic\">False</span><span style=\"color: #000000; text-decoration-color: #000000\">,</span>\n",
       "<span style=\"color: #000000; text-decoration-color: #000000\">                </span><span style=\"color: #808000; text-decoration-color: #808000\">index_searchable</span><span style=\"color: #000000; text-decoration-color: #000000\">=</span><span style=\"color: #00ff00; text-decoration-color: #00ff00; font-style: italic\">True</span><span style=\"color: #000000; text-decoration-color: #000000\">,</span>\n",
       "<span style=\"color: #000000; text-decoration-color: #000000\">                </span><span style=\"color: #808000; text-decoration-color: #808000\">nested_properties</span><span style=\"color: #000000; text-decoration-color: #000000\">=</span><span style=\"color: #800080; text-decoration-color: #800080; font-style: italic\">None</span><span style=\"color: #000000; text-decoration-color: #000000\">,</span>\n",
       "<span style=\"color: #000000; text-decoration-color: #000000\">                </span><span style=\"color: #808000; text-decoration-color: #808000\">tokenization</span><span style=\"color: #000000; text-decoration-color: #000000\">=&lt;Tokenization.WORD: </span><span style=\"color: #008000; text-decoration-color: #008000\">'word'</span><span style=\"color: #000000; text-decoration-color: #000000\">&gt;,</span>\n",
       "<span style=\"color: #000000; text-decoration-color: #000000\">                </span><span style=\"color: #808000; text-decoration-color: #808000\">vectorizer_config</span><span style=\"color: #000000; text-decoration-color: #000000\">=</span><span style=\"color: #800080; text-decoration-color: #800080; font-style: italic\">None</span><span style=\"color: #000000; text-decoration-color: #000000\">,</span>\n",
       "<span style=\"color: #000000; text-decoration-color: #000000\">                </span><span style=\"color: #808000; text-decoration-color: #808000\">vectorizer</span><span style=\"color: #000000; text-decoration-color: #000000\">=</span><span style=\"color: #008000; text-decoration-color: #008000\">'none'</span>\n",
       "<span style=\"color: #000000; text-decoration-color: #000000\">            </span><span style=\"color: #000000; text-decoration-color: #000000; font-weight: bold\">)</span><span style=\"color: #000000; text-decoration-color: #000000\">,</span>\n",
       "<span style=\"color: #000000; text-decoration-color: #000000\">            </span><span style=\"color: #800080; text-decoration-color: #800080; font-weight: bold\">_Property</span><span style=\"color: #000000; text-decoration-color: #000000; font-weight: bold\">(</span>\n",
       "<span style=\"color: #000000; text-decoration-color: #000000\">                </span><span style=\"color: #808000; text-decoration-color: #808000\">name</span><span style=\"color: #000000; text-decoration-color: #000000\">=</span><span style=\"color: #008000; text-decoration-color: #008000\">'viewCount'</span><span style=\"color: #000000; text-decoration-color: #000000\">,</span>\n",
       "<span style=\"color: #000000; text-decoration-color: #000000\">                </span><span style=\"color: #808000; text-decoration-color: #808000\">description</span><span style=\"color: #000000; text-decoration-color: #000000\">=</span><span style=\"color: #800080; text-decoration-color: #800080; font-style: italic\">None</span><span style=\"color: #000000; text-decoration-color: #000000\">,</span>\n",
       "<span style=\"color: #000000; text-decoration-color: #000000\">                </span><span style=\"color: #808000; text-decoration-color: #808000\">data_type</span><span style=\"color: #000000; text-decoration-color: #000000\">=&lt;DataType.INT: </span><span style=\"color: #008000; text-decoration-color: #008000\">'int'</span><span style=\"color: #000000; text-decoration-color: #000000\">&gt;,</span>\n",
       "<span style=\"color: #000000; text-decoration-color: #000000\">                </span><span style=\"color: #808000; text-decoration-color: #808000\">index_filterable</span><span style=\"color: #000000; text-decoration-color: #000000\">=</span><span style=\"color: #00ff00; text-decoration-color: #00ff00; font-style: italic\">True</span><span style=\"color: #000000; text-decoration-color: #000000\">,</span>\n",
       "<span style=\"color: #000000; text-decoration-color: #000000\">                </span><span style=\"color: #808000; text-decoration-color: #808000\">index_searchable</span><span style=\"color: #000000; text-decoration-color: #000000\">=</span><span style=\"color: #ff0000; text-decoration-color: #ff0000; font-style: italic\">False</span><span style=\"color: #000000; text-decoration-color: #000000\">,</span>\n",
       "<span style=\"color: #000000; text-decoration-color: #000000\">                </span><span style=\"color: #808000; text-decoration-color: #808000\">nested_properties</span><span style=\"color: #000000; text-decoration-color: #000000\">=</span><span style=\"color: #800080; text-decoration-color: #800080; font-style: italic\">None</span><span style=\"color: #000000; text-decoration-color: #000000\">,</span>\n",
       "<span style=\"color: #000000; text-decoration-color: #000000\">                </span><span style=\"color: #808000; text-decoration-color: #808000\">tokenization</span><span style=\"color: #000000; text-decoration-color: #000000\">=</span><span style=\"color: #800080; text-decoration-color: #800080; font-style: italic\">None</span><span style=\"color: #000000; text-decoration-color: #000000\">,</span>\n",
       "<span style=\"color: #000000; text-decoration-color: #000000\">                </span><span style=\"color: #808000; text-decoration-color: #808000\">vectorizer_config</span><span style=\"color: #000000; text-decoration-color: #000000\">=</span><span style=\"color: #800080; text-decoration-color: #800080; font-style: italic\">None</span><span style=\"color: #000000; text-decoration-color: #000000\">,</span>\n",
       "<span style=\"color: #000000; text-decoration-color: #000000\">                </span><span style=\"color: #808000; text-decoration-color: #808000\">vectorizer</span><span style=\"color: #000000; text-decoration-color: #000000\">=</span><span style=\"color: #008000; text-decoration-color: #008000\">'none'</span>\n",
       "<span style=\"color: #000000; text-decoration-color: #000000\">            </span><span style=\"color: #000000; text-decoration-color: #000000; font-weight: bold\">)</span><span style=\"color: #000000; text-decoration-color: #000000\">,</span>\n",
       "<span style=\"color: #000000; text-decoration-color: #000000\">            </span><span style=\"color: #800080; text-decoration-color: #800080; font-weight: bold\">_Property</span><span style=\"color: #000000; text-decoration-color: #000000; font-weight: bold\">(</span>\n",
       "<span style=\"color: #000000; text-decoration-color: #000000\">                </span><span style=\"color: #808000; text-decoration-color: #808000\">name</span><span style=\"color: #000000; text-decoration-color: #000000\">=</span><span style=\"color: #008000; text-decoration-color: #008000\">'episode_num'</span><span style=\"color: #000000; text-decoration-color: #000000\">,</span>\n",
       "<span style=\"color: #000000; text-decoration-color: #000000\">                </span><span style=\"color: #808000; text-decoration-color: #808000\">description</span><span style=\"color: #000000; text-decoration-color: #000000\">=</span><span style=\"color: #800080; text-decoration-color: #800080; font-style: italic\">None</span><span style=\"color: #000000; text-decoration-color: #000000\">,</span>\n",
       "<span style=\"color: #000000; text-decoration-color: #000000\">                </span><span style=\"color: #808000; text-decoration-color: #808000\">data_type</span><span style=\"color: #000000; text-decoration-color: #000000\">=&lt;DataType.INT: </span><span style=\"color: #008000; text-decoration-color: #008000\">'int'</span><span style=\"color: #000000; text-decoration-color: #000000\">&gt;,</span>\n",
       "<span style=\"color: #000000; text-decoration-color: #000000\">                </span><span style=\"color: #808000; text-decoration-color: #808000\">index_filterable</span><span style=\"color: #000000; text-decoration-color: #000000\">=</span><span style=\"color: #00ff00; text-decoration-color: #00ff00; font-style: italic\">True</span><span style=\"color: #000000; text-decoration-color: #000000\">,</span>\n",
       "<span style=\"color: #000000; text-decoration-color: #000000\">                </span><span style=\"color: #808000; text-decoration-color: #808000\">index_searchable</span><span style=\"color: #000000; text-decoration-color: #000000\">=</span><span style=\"color: #ff0000; text-decoration-color: #ff0000; font-style: italic\">False</span><span style=\"color: #000000; text-decoration-color: #000000\">,</span>\n",
       "<span style=\"color: #000000; text-decoration-color: #000000\">                </span><span style=\"color: #808000; text-decoration-color: #808000\">nested_properties</span><span style=\"color: #000000; text-decoration-color: #000000\">=</span><span style=\"color: #800080; text-decoration-color: #800080; font-style: italic\">None</span><span style=\"color: #000000; text-decoration-color: #000000\">,</span>\n",
       "<span style=\"color: #000000; text-decoration-color: #000000\">                </span><span style=\"color: #808000; text-decoration-color: #808000\">tokenization</span><span style=\"color: #000000; text-decoration-color: #000000\">=</span><span style=\"color: #800080; text-decoration-color: #800080; font-style: italic\">None</span><span style=\"color: #000000; text-decoration-color: #000000\">,</span>\n",
       "<span style=\"color: #000000; text-decoration-color: #000000\">                </span><span style=\"color: #808000; text-decoration-color: #808000\">vectorizer_config</span><span style=\"color: #000000; text-decoration-color: #000000\">=</span><span style=\"color: #800080; text-decoration-color: #800080; font-style: italic\">None</span><span style=\"color: #000000; text-decoration-color: #000000\">,</span>\n",
       "<span style=\"color: #000000; text-decoration-color: #000000\">                </span><span style=\"color: #808000; text-decoration-color: #808000\">vectorizer</span><span style=\"color: #000000; text-decoration-color: #000000\">=</span><span style=\"color: #008000; text-decoration-color: #008000\">'none'</span>\n",
       "<span style=\"color: #000000; text-decoration-color: #000000\">            </span><span style=\"color: #000000; text-decoration-color: #000000; font-weight: bold\">)</span><span style=\"color: #000000; text-decoration-color: #000000\">,</span>\n",
       "<span style=\"color: #000000; text-decoration-color: #000000\">            </span><span style=\"color: #800080; text-decoration-color: #800080; font-weight: bold\">_Property</span><span style=\"color: #000000; text-decoration-color: #000000; font-weight: bold\">(</span>\n",
       "<span style=\"color: #000000; text-decoration-color: #000000\">                </span><span style=\"color: #808000; text-decoration-color: #808000\">name</span><span style=\"color: #000000; text-decoration-color: #000000\">=</span><span style=\"color: #008000; text-decoration-color: #008000\">'doc_id'</span><span style=\"color: #000000; text-decoration-color: #000000\">,</span>\n",
       "<span style=\"color: #000000; text-decoration-color: #000000\">                </span><span style=\"color: #808000; text-decoration-color: #808000\">description</span><span style=\"color: #000000; text-decoration-color: #000000\">=</span><span style=\"color: #800080; text-decoration-color: #800080; font-style: italic\">None</span><span style=\"color: #000000; text-decoration-color: #000000\">,</span>\n",
       "<span style=\"color: #000000; text-decoration-color: #000000\">                </span><span style=\"color: #808000; text-decoration-color: #808000\">data_type</span><span style=\"color: #000000; text-decoration-color: #000000\">=&lt;DataType.TEXT: </span><span style=\"color: #008000; text-decoration-color: #008000\">'text'</span><span style=\"color: #000000; text-decoration-color: #000000\">&gt;,</span>\n",
       "<span style=\"color: #000000; text-decoration-color: #000000\">                </span><span style=\"color: #808000; text-decoration-color: #808000\">index_filterable</span><span style=\"color: #000000; text-decoration-color: #000000\">=</span><span style=\"color: #00ff00; text-decoration-color: #00ff00; font-style: italic\">True</span><span style=\"color: #000000; text-decoration-color: #000000\">,</span>\n",
       "<span style=\"color: #000000; text-decoration-color: #000000\">                </span><span style=\"color: #808000; text-decoration-color: #808000\">index_searchable</span><span style=\"color: #000000; text-decoration-color: #000000\">=</span><span style=\"color: #ff0000; text-decoration-color: #ff0000; font-style: italic\">False</span><span style=\"color: #000000; text-decoration-color: #000000\">,</span>\n",
       "<span style=\"color: #000000; text-decoration-color: #000000\">                </span><span style=\"color: #808000; text-decoration-color: #808000\">nested_properties</span><span style=\"color: #000000; text-decoration-color: #000000\">=</span><span style=\"color: #800080; text-decoration-color: #800080; font-style: italic\">None</span><span style=\"color: #000000; text-decoration-color: #000000\">,</span>\n",
       "<span style=\"color: #000000; text-decoration-color: #000000\">                </span><span style=\"color: #808000; text-decoration-color: #808000\">tokenization</span><span style=\"color: #000000; text-decoration-color: #000000\">=&lt;Tokenization.WORD: </span><span style=\"color: #008000; text-decoration-color: #008000\">'word'</span><span style=\"color: #000000; text-decoration-color: #000000\">&gt;,</span>\n",
       "<span style=\"color: #000000; text-decoration-color: #000000\">                </span><span style=\"color: #808000; text-decoration-color: #808000\">vectorizer_config</span><span style=\"color: #000000; text-decoration-color: #000000\">=</span><span style=\"color: #800080; text-decoration-color: #800080; font-style: italic\">None</span><span style=\"color: #000000; text-decoration-color: #000000\">,</span>\n",
       "<span style=\"color: #000000; text-decoration-color: #000000\">                </span><span style=\"color: #808000; text-decoration-color: #808000\">vectorizer</span><span style=\"color: #000000; text-decoration-color: #000000\">=</span><span style=\"color: #008000; text-decoration-color: #008000\">'none'</span>\n",
       "<span style=\"color: #000000; text-decoration-color: #000000\">            </span><span style=\"color: #000000; text-decoration-color: #000000; font-weight: bold\">)</span><span style=\"color: #000000; text-decoration-color: #000000\">,</span>\n",
       "<span style=\"color: #000000; text-decoration-color: #000000\">            </span><span style=\"color: #800080; text-decoration-color: #800080; font-weight: bold\">_Property</span><span style=\"color: #000000; text-decoration-color: #000000; font-weight: bold\">(</span>\n",
       "<span style=\"color: #000000; text-decoration-color: #000000\">                </span><span style=\"color: #808000; text-decoration-color: #808000\">name</span><span style=\"color: #000000; text-decoration-color: #000000\">=</span><span style=\"color: #008000; text-decoration-color: #008000\">'content'</span><span style=\"color: #000000; text-decoration-color: #000000\">,</span>\n",
       "<span style=\"color: #000000; text-decoration-color: #000000\">                </span><span style=\"color: #808000; text-decoration-color: #808000\">description</span><span style=\"color: #000000; text-decoration-color: #000000\">=</span><span style=\"color: #800080; text-decoration-color: #800080; font-style: italic\">None</span><span style=\"color: #000000; text-decoration-color: #000000\">,</span>\n",
       "<span style=\"color: #000000; text-decoration-color: #000000\">                </span><span style=\"color: #808000; text-decoration-color: #808000\">data_type</span><span style=\"color: #000000; text-decoration-color: #000000\">=&lt;DataType.TEXT: </span><span style=\"color: #008000; text-decoration-color: #008000\">'text'</span><span style=\"color: #000000; text-decoration-color: #000000\">&gt;,</span>\n",
       "<span style=\"color: #000000; text-decoration-color: #000000\">                </span><span style=\"color: #808000; text-decoration-color: #808000\">index_filterable</span><span style=\"color: #000000; text-decoration-color: #000000\">=</span><span style=\"color: #ff0000; text-decoration-color: #ff0000; font-style: italic\">False</span><span style=\"color: #000000; text-decoration-color: #000000\">,</span>\n",
       "<span style=\"color: #000000; text-decoration-color: #000000\">                </span><span style=\"color: #808000; text-decoration-color: #808000\">index_searchable</span><span style=\"color: #000000; text-decoration-color: #000000\">=</span><span style=\"color: #00ff00; text-decoration-color: #00ff00; font-style: italic\">True</span><span style=\"color: #000000; text-decoration-color: #000000\">,</span>\n",
       "<span style=\"color: #000000; text-decoration-color: #000000\">                </span><span style=\"color: #808000; text-decoration-color: #808000\">nested_properties</span><span style=\"color: #000000; text-decoration-color: #000000\">=</span><span style=\"color: #800080; text-decoration-color: #800080; font-style: italic\">None</span><span style=\"color: #000000; text-decoration-color: #000000\">,</span>\n",
       "<span style=\"color: #000000; text-decoration-color: #000000\">                </span><span style=\"color: #808000; text-decoration-color: #808000\">tokenization</span><span style=\"color: #000000; text-decoration-color: #000000\">=&lt;Tokenization.WORD: </span><span style=\"color: #008000; text-decoration-color: #008000\">'word'</span><span style=\"color: #000000; text-decoration-color: #000000\">&gt;,</span>\n",
       "<span style=\"color: #000000; text-decoration-color: #000000\">                </span><span style=\"color: #808000; text-decoration-color: #808000\">vectorizer_config</span><span style=\"color: #000000; text-decoration-color: #000000\">=</span><span style=\"color: #800080; text-decoration-color: #800080; font-style: italic\">None</span><span style=\"color: #000000; text-decoration-color: #000000\">,</span>\n",
       "<span style=\"color: #000000; text-decoration-color: #000000\">                </span><span style=\"color: #808000; text-decoration-color: #808000\">vectorizer</span><span style=\"color: #000000; text-decoration-color: #000000\">=</span><span style=\"color: #008000; text-decoration-color: #008000\">'none'</span>\n",
       "<span style=\"color: #000000; text-decoration-color: #000000\">            </span><span style=\"color: #000000; text-decoration-color: #000000; font-weight: bold\">)</span>\n",
       "<span style=\"color: #000000; text-decoration-color: #000000\">        </span><span style=\"color: #000000; text-decoration-color: #000000; font-weight: bold\">]</span><span style=\"color: #000000; text-decoration-color: #000000\">,</span>\n",
       "<span style=\"color: #000000; text-decoration-color: #000000\">        </span><span style=\"color: #808000; text-decoration-color: #808000\">references</span><span style=\"color: #000000; text-decoration-color: #000000\">=</span><span style=\"color: #000000; text-decoration-color: #000000; font-weight: bold\">[]</span><span style=\"color: #000000; text-decoration-color: #000000\">,</span>\n",
       "<span style=\"color: #000000; text-decoration-color: #000000\">        </span><span style=\"color: #808000; text-decoration-color: #808000\">reranker_config</span><span style=\"color: #000000; text-decoration-color: #000000\">=</span><span style=\"color: #800080; text-decoration-color: #800080; font-style: italic\">None</span><span style=\"color: #000000; text-decoration-color: #000000\">,</span>\n",
       "<span style=\"color: #000000; text-decoration-color: #000000\">        </span><span style=\"color: #808000; text-decoration-color: #808000\">vectorizer_config</span><span style=\"color: #000000; text-decoration-color: #000000\">=</span><span style=\"color: #800080; text-decoration-color: #800080; font-style: italic\">None</span><span style=\"color: #000000; text-decoration-color: #000000\">,</span>\n",
       "<span style=\"color: #000000; text-decoration-color: #000000\">        </span><span style=\"color: #808000; text-decoration-color: #808000\">vectorizer</span><span style=\"color: #000000; text-decoration-color: #000000\">=&lt;Vectorizers.NONE: </span><span style=\"color: #008000; text-decoration-color: #008000\">'none'</span><span style=\"font-weight: bold\">&gt;</span>,\n",
       "        <span style=\"color: #808000; text-decoration-color: #808000\">vector_config</span>=<span style=\"color: #800080; text-decoration-color: #800080; font-style: italic\">None</span>\n",
       "    <span style=\"font-weight: bold\">)</span>\n",
       "<span style=\"font-weight: bold\">}</span>\n",
       "</pre>\n"
      ],
      "text/plain": [
       "\u001b[1m{\u001b[0m\n",
       "    \u001b[32m'HubermanLabs_minilm_256'\u001b[0m: \u001b[1;35m_CollectionConfigSimple\u001b[0m\u001b[1m(\u001b[0m\n",
       "        \u001b[33mname\u001b[0m=\u001b[32m'HubermanLabs_minilm_256'\u001b[0m,\n",
       "        \u001b[33mdescription\u001b[0m=\u001b[32m'Collection of 189 episodes of the Huberman Labs podcast'\u001b[0m,\n",
       "        \u001b[33mgenerative_config\u001b[0m=\u001b[3;35mNone\u001b[0m,\n",
       "        \u001b[33mproperties\u001b[0m=\u001b[1m[\u001b[0m\n",
       "            \u001b[1;35m_Property\u001b[0m\u001b[1m(\u001b[0m\n",
       "                \u001b[33mname\u001b[0m=\u001b[32m'videoId'\u001b[0m,\n",
       "                \u001b[33mdescription\u001b[0m=\u001b[3;35mNone\u001b[0m,\n",
       "                \u001b[33mdata_type\u001b[0m=\u001b[1m<\u001b[0m\u001b[1;95mDataType.TEXT:\u001b[0m\u001b[39m \u001b[0m\u001b[32m'text'\u001b[0m\u001b[39m>,\u001b[0m\n",
       "\u001b[39m                \u001b[0m\u001b[33mindex_filterable\u001b[0m\u001b[39m=\u001b[0m\u001b[3;92mTrue\u001b[0m\u001b[39m,\u001b[0m\n",
       "\u001b[39m                \u001b[0m\u001b[33mindex_searchable\u001b[0m\u001b[39m=\u001b[0m\u001b[3;91mFalse\u001b[0m\u001b[39m,\u001b[0m\n",
       "\u001b[39m                \u001b[0m\u001b[33mnested_properties\u001b[0m\u001b[39m=\u001b[0m\u001b[3;35mNone\u001b[0m\u001b[39m,\u001b[0m\n",
       "\u001b[39m                \u001b[0m\u001b[33mtokenization\u001b[0m\u001b[39m=<Tokenization.WORD: \u001b[0m\u001b[32m'word'\u001b[0m\u001b[39m>,\u001b[0m\n",
       "\u001b[39m                \u001b[0m\u001b[33mvectorizer_config\u001b[0m\u001b[39m=\u001b[0m\u001b[3;35mNone\u001b[0m\u001b[39m,\u001b[0m\n",
       "\u001b[39m                \u001b[0m\u001b[33mvectorizer\u001b[0m\u001b[39m=\u001b[0m\u001b[32m'none'\u001b[0m\n",
       "\u001b[39m            \u001b[0m\u001b[1;39m)\u001b[0m\u001b[39m,\u001b[0m\n",
       "\u001b[39m            \u001b[0m\u001b[1;35m_Property\u001b[0m\u001b[1;39m(\u001b[0m\n",
       "\u001b[39m                \u001b[0m\u001b[33mname\u001b[0m\u001b[39m=\u001b[0m\u001b[32m'title'\u001b[0m\u001b[39m,\u001b[0m\n",
       "\u001b[39m                \u001b[0m\u001b[33mdescription\u001b[0m\u001b[39m=\u001b[0m\u001b[3;35mNone\u001b[0m\u001b[39m,\u001b[0m\n",
       "\u001b[39m                \u001b[0m\u001b[33mdata_type\u001b[0m\u001b[39m=<DataType.TEXT: \u001b[0m\u001b[32m'text'\u001b[0m\u001b[39m>,\u001b[0m\n",
       "\u001b[39m                \u001b[0m\u001b[33mindex_filterable\u001b[0m\u001b[39m=\u001b[0m\u001b[3;92mTrue\u001b[0m\u001b[39m,\u001b[0m\n",
       "\u001b[39m                \u001b[0m\u001b[33mindex_searchable\u001b[0m\u001b[39m=\u001b[0m\u001b[3;92mTrue\u001b[0m\u001b[39m,\u001b[0m\n",
       "\u001b[39m                \u001b[0m\u001b[33mnested_properties\u001b[0m\u001b[39m=\u001b[0m\u001b[3;35mNone\u001b[0m\u001b[39m,\u001b[0m\n",
       "\u001b[39m                \u001b[0m\u001b[33mtokenization\u001b[0m\u001b[39m=<Tokenization.WORD: \u001b[0m\u001b[32m'word'\u001b[0m\u001b[39m>,\u001b[0m\n",
       "\u001b[39m                \u001b[0m\u001b[33mvectorizer_config\u001b[0m\u001b[39m=\u001b[0m\u001b[3;35mNone\u001b[0m\u001b[39m,\u001b[0m\n",
       "\u001b[39m                \u001b[0m\u001b[33mvectorizer\u001b[0m\u001b[39m=\u001b[0m\u001b[32m'none'\u001b[0m\n",
       "\u001b[39m            \u001b[0m\u001b[1;39m)\u001b[0m\u001b[39m,\u001b[0m\n",
       "\u001b[39m            \u001b[0m\u001b[1;35m_Property\u001b[0m\u001b[1;39m(\u001b[0m\n",
       "\u001b[39m                \u001b[0m\u001b[33mname\u001b[0m\u001b[39m=\u001b[0m\u001b[32m'lengthSeconds'\u001b[0m\u001b[39m,\u001b[0m\n",
       "\u001b[39m                \u001b[0m\u001b[33mdescription\u001b[0m\u001b[39m=\u001b[0m\u001b[3;35mNone\u001b[0m\u001b[39m,\u001b[0m\n",
       "\u001b[39m                \u001b[0m\u001b[33mdata_type\u001b[0m\u001b[39m=<DataType.INT: \u001b[0m\u001b[32m'int'\u001b[0m\u001b[39m>,\u001b[0m\n",
       "\u001b[39m                \u001b[0m\u001b[33mindex_filterable\u001b[0m\u001b[39m=\u001b[0m\u001b[3;92mTrue\u001b[0m\u001b[39m,\u001b[0m\n",
       "\u001b[39m                \u001b[0m\u001b[33mindex_searchable\u001b[0m\u001b[39m=\u001b[0m\u001b[3;91mFalse\u001b[0m\u001b[39m,\u001b[0m\n",
       "\u001b[39m                \u001b[0m\u001b[33mnested_properties\u001b[0m\u001b[39m=\u001b[0m\u001b[3;35mNone\u001b[0m\u001b[39m,\u001b[0m\n",
       "\u001b[39m                \u001b[0m\u001b[33mtokenization\u001b[0m\u001b[39m=\u001b[0m\u001b[3;35mNone\u001b[0m\u001b[39m,\u001b[0m\n",
       "\u001b[39m                \u001b[0m\u001b[33mvectorizer_config\u001b[0m\u001b[39m=\u001b[0m\u001b[3;35mNone\u001b[0m\u001b[39m,\u001b[0m\n",
       "\u001b[39m                \u001b[0m\u001b[33mvectorizer\u001b[0m\u001b[39m=\u001b[0m\u001b[32m'none'\u001b[0m\n",
       "\u001b[39m            \u001b[0m\u001b[1;39m)\u001b[0m\u001b[39m,\u001b[0m\n",
       "\u001b[39m            \u001b[0m\u001b[1;35m_Property\u001b[0m\u001b[1;39m(\u001b[0m\n",
       "\u001b[39m                \u001b[0m\u001b[33mname\u001b[0m\u001b[39m=\u001b[0m\u001b[32m'thumbnail_url'\u001b[0m\u001b[39m,\u001b[0m\n",
       "\u001b[39m                \u001b[0m\u001b[33mdescription\u001b[0m\u001b[39m=\u001b[0m\u001b[3;35mNone\u001b[0m\u001b[39m,\u001b[0m\n",
       "\u001b[39m                \u001b[0m\u001b[33mdata_type\u001b[0m\u001b[39m=<DataType.TEXT: \u001b[0m\u001b[32m'text'\u001b[0m\u001b[39m>,\u001b[0m\n",
       "\u001b[39m                \u001b[0m\u001b[33mindex_filterable\u001b[0m\u001b[39m=\u001b[0m\u001b[3;91mFalse\u001b[0m\u001b[39m,\u001b[0m\n",
       "\u001b[39m                \u001b[0m\u001b[33mindex_searchable\u001b[0m\u001b[39m=\u001b[0m\u001b[3;91mFalse\u001b[0m\u001b[39m,\u001b[0m\n",
       "\u001b[39m                \u001b[0m\u001b[33mnested_properties\u001b[0m\u001b[39m=\u001b[0m\u001b[3;35mNone\u001b[0m\u001b[39m,\u001b[0m\n",
       "\u001b[39m                \u001b[0m\u001b[33mtokenization\u001b[0m\u001b[39m=<Tokenization.WORD: \u001b[0m\u001b[32m'word'\u001b[0m\u001b[39m>,\u001b[0m\n",
       "\u001b[39m                \u001b[0m\u001b[33mvectorizer_config\u001b[0m\u001b[39m=\u001b[0m\u001b[3;35mNone\u001b[0m\u001b[39m,\u001b[0m\n",
       "\u001b[39m                \u001b[0m\u001b[33mvectorizer\u001b[0m\u001b[39m=\u001b[0m\u001b[32m'none'\u001b[0m\n",
       "\u001b[39m            \u001b[0m\u001b[1;39m)\u001b[0m\u001b[39m,\u001b[0m\n",
       "\u001b[39m            \u001b[0m\u001b[1;35m_Property\u001b[0m\u001b[1;39m(\u001b[0m\n",
       "\u001b[39m                \u001b[0m\u001b[33mname\u001b[0m\u001b[39m=\u001b[0m\u001b[32m'keywords'\u001b[0m\u001b[39m,\u001b[0m\n",
       "\u001b[39m                \u001b[0m\u001b[33mdescription\u001b[0m\u001b[39m=\u001b[0m\u001b[3;35mNone\u001b[0m\u001b[39m,\u001b[0m\n",
       "\u001b[39m                \u001b[0m\u001b[33mdata_type\u001b[0m\u001b[39m=<DataType.TEXT_ARRAY: \u001b[0m\u001b[32m'text\u001b[0m\u001b[32m[\u001b[0m\u001b[32m]\u001b[0m\u001b[32m'\u001b[0m\u001b[39m>,\u001b[0m\n",
       "\u001b[39m                \u001b[0m\u001b[33mindex_filterable\u001b[0m\u001b[39m=\u001b[0m\u001b[3;92mTrue\u001b[0m\u001b[39m,\u001b[0m\n",
       "\u001b[39m                \u001b[0m\u001b[33mindex_searchable\u001b[0m\u001b[39m=\u001b[0m\u001b[3;92mTrue\u001b[0m\u001b[39m,\u001b[0m\n",
       "\u001b[39m                \u001b[0m\u001b[33mnested_properties\u001b[0m\u001b[39m=\u001b[0m\u001b[3;35mNone\u001b[0m\u001b[39m,\u001b[0m\n",
       "\u001b[39m                \u001b[0m\u001b[33mtokenization\u001b[0m\u001b[39m=<Tokenization.WORD: \u001b[0m\u001b[32m'word'\u001b[0m\u001b[39m>,\u001b[0m\n",
       "\u001b[39m                \u001b[0m\u001b[33mvectorizer_config\u001b[0m\u001b[39m=\u001b[0m\u001b[3;35mNone\u001b[0m\u001b[39m,\u001b[0m\n",
       "\u001b[39m                \u001b[0m\u001b[33mvectorizer\u001b[0m\u001b[39m=\u001b[0m\u001b[32m'none'\u001b[0m\n",
       "\u001b[39m            \u001b[0m\u001b[1;39m)\u001b[0m\u001b[39m,\u001b[0m\n",
       "\u001b[39m            \u001b[0m\u001b[1;35m_Property\u001b[0m\u001b[1;39m(\u001b[0m\n",
       "\u001b[39m                \u001b[0m\u001b[33mname\u001b[0m\u001b[39m=\u001b[0m\u001b[32m'shortDescription'\u001b[0m\u001b[39m,\u001b[0m\n",
       "\u001b[39m                \u001b[0m\u001b[33mdescription\u001b[0m\u001b[39m=\u001b[0m\u001b[3;35mNone\u001b[0m\u001b[39m,\u001b[0m\n",
       "\u001b[39m                \u001b[0m\u001b[33mdata_type\u001b[0m\u001b[39m=<DataType.TEXT: \u001b[0m\u001b[32m'text'\u001b[0m\u001b[39m>,\u001b[0m\n",
       "\u001b[39m                \u001b[0m\u001b[33mindex_filterable\u001b[0m\u001b[39m=\u001b[0m\u001b[3;91mFalse\u001b[0m\u001b[39m,\u001b[0m\n",
       "\u001b[39m                \u001b[0m\u001b[33mindex_searchable\u001b[0m\u001b[39m=\u001b[0m\u001b[3;92mTrue\u001b[0m\u001b[39m,\u001b[0m\n",
       "\u001b[39m                \u001b[0m\u001b[33mnested_properties\u001b[0m\u001b[39m=\u001b[0m\u001b[3;35mNone\u001b[0m\u001b[39m,\u001b[0m\n",
       "\u001b[39m                \u001b[0m\u001b[33mtokenization\u001b[0m\u001b[39m=<Tokenization.WORD: \u001b[0m\u001b[32m'word'\u001b[0m\u001b[39m>,\u001b[0m\n",
       "\u001b[39m                \u001b[0m\u001b[33mvectorizer_config\u001b[0m\u001b[39m=\u001b[0m\u001b[3;35mNone\u001b[0m\u001b[39m,\u001b[0m\n",
       "\u001b[39m                \u001b[0m\u001b[33mvectorizer\u001b[0m\u001b[39m=\u001b[0m\u001b[32m'none'\u001b[0m\n",
       "\u001b[39m            \u001b[0m\u001b[1;39m)\u001b[0m\u001b[39m,\u001b[0m\n",
       "\u001b[39m            \u001b[0m\u001b[1;35m_Property\u001b[0m\u001b[1;39m(\u001b[0m\n",
       "\u001b[39m                \u001b[0m\u001b[33mname\u001b[0m\u001b[39m=\u001b[0m\u001b[32m'viewCount'\u001b[0m\u001b[39m,\u001b[0m\n",
       "\u001b[39m                \u001b[0m\u001b[33mdescription\u001b[0m\u001b[39m=\u001b[0m\u001b[3;35mNone\u001b[0m\u001b[39m,\u001b[0m\n",
       "\u001b[39m                \u001b[0m\u001b[33mdata_type\u001b[0m\u001b[39m=<DataType.INT: \u001b[0m\u001b[32m'int'\u001b[0m\u001b[39m>,\u001b[0m\n",
       "\u001b[39m                \u001b[0m\u001b[33mindex_filterable\u001b[0m\u001b[39m=\u001b[0m\u001b[3;92mTrue\u001b[0m\u001b[39m,\u001b[0m\n",
       "\u001b[39m                \u001b[0m\u001b[33mindex_searchable\u001b[0m\u001b[39m=\u001b[0m\u001b[3;91mFalse\u001b[0m\u001b[39m,\u001b[0m\n",
       "\u001b[39m                \u001b[0m\u001b[33mnested_properties\u001b[0m\u001b[39m=\u001b[0m\u001b[3;35mNone\u001b[0m\u001b[39m,\u001b[0m\n",
       "\u001b[39m                \u001b[0m\u001b[33mtokenization\u001b[0m\u001b[39m=\u001b[0m\u001b[3;35mNone\u001b[0m\u001b[39m,\u001b[0m\n",
       "\u001b[39m                \u001b[0m\u001b[33mvectorizer_config\u001b[0m\u001b[39m=\u001b[0m\u001b[3;35mNone\u001b[0m\u001b[39m,\u001b[0m\n",
       "\u001b[39m                \u001b[0m\u001b[33mvectorizer\u001b[0m\u001b[39m=\u001b[0m\u001b[32m'none'\u001b[0m\n",
       "\u001b[39m            \u001b[0m\u001b[1;39m)\u001b[0m\u001b[39m,\u001b[0m\n",
       "\u001b[39m            \u001b[0m\u001b[1;35m_Property\u001b[0m\u001b[1;39m(\u001b[0m\n",
       "\u001b[39m                \u001b[0m\u001b[33mname\u001b[0m\u001b[39m=\u001b[0m\u001b[32m'episode_num'\u001b[0m\u001b[39m,\u001b[0m\n",
       "\u001b[39m                \u001b[0m\u001b[33mdescription\u001b[0m\u001b[39m=\u001b[0m\u001b[3;35mNone\u001b[0m\u001b[39m,\u001b[0m\n",
       "\u001b[39m                \u001b[0m\u001b[33mdata_type\u001b[0m\u001b[39m=<DataType.INT: \u001b[0m\u001b[32m'int'\u001b[0m\u001b[39m>,\u001b[0m\n",
       "\u001b[39m                \u001b[0m\u001b[33mindex_filterable\u001b[0m\u001b[39m=\u001b[0m\u001b[3;92mTrue\u001b[0m\u001b[39m,\u001b[0m\n",
       "\u001b[39m                \u001b[0m\u001b[33mindex_searchable\u001b[0m\u001b[39m=\u001b[0m\u001b[3;91mFalse\u001b[0m\u001b[39m,\u001b[0m\n",
       "\u001b[39m                \u001b[0m\u001b[33mnested_properties\u001b[0m\u001b[39m=\u001b[0m\u001b[3;35mNone\u001b[0m\u001b[39m,\u001b[0m\n",
       "\u001b[39m                \u001b[0m\u001b[33mtokenization\u001b[0m\u001b[39m=\u001b[0m\u001b[3;35mNone\u001b[0m\u001b[39m,\u001b[0m\n",
       "\u001b[39m                \u001b[0m\u001b[33mvectorizer_config\u001b[0m\u001b[39m=\u001b[0m\u001b[3;35mNone\u001b[0m\u001b[39m,\u001b[0m\n",
       "\u001b[39m                \u001b[0m\u001b[33mvectorizer\u001b[0m\u001b[39m=\u001b[0m\u001b[32m'none'\u001b[0m\n",
       "\u001b[39m            \u001b[0m\u001b[1;39m)\u001b[0m\u001b[39m,\u001b[0m\n",
       "\u001b[39m            \u001b[0m\u001b[1;35m_Property\u001b[0m\u001b[1;39m(\u001b[0m\n",
       "\u001b[39m                \u001b[0m\u001b[33mname\u001b[0m\u001b[39m=\u001b[0m\u001b[32m'doc_id'\u001b[0m\u001b[39m,\u001b[0m\n",
       "\u001b[39m                \u001b[0m\u001b[33mdescription\u001b[0m\u001b[39m=\u001b[0m\u001b[3;35mNone\u001b[0m\u001b[39m,\u001b[0m\n",
       "\u001b[39m                \u001b[0m\u001b[33mdata_type\u001b[0m\u001b[39m=<DataType.TEXT: \u001b[0m\u001b[32m'text'\u001b[0m\u001b[39m>,\u001b[0m\n",
       "\u001b[39m                \u001b[0m\u001b[33mindex_filterable\u001b[0m\u001b[39m=\u001b[0m\u001b[3;92mTrue\u001b[0m\u001b[39m,\u001b[0m\n",
       "\u001b[39m                \u001b[0m\u001b[33mindex_searchable\u001b[0m\u001b[39m=\u001b[0m\u001b[3;91mFalse\u001b[0m\u001b[39m,\u001b[0m\n",
       "\u001b[39m                \u001b[0m\u001b[33mnested_properties\u001b[0m\u001b[39m=\u001b[0m\u001b[3;35mNone\u001b[0m\u001b[39m,\u001b[0m\n",
       "\u001b[39m                \u001b[0m\u001b[33mtokenization\u001b[0m\u001b[39m=<Tokenization.WORD: \u001b[0m\u001b[32m'word'\u001b[0m\u001b[39m>,\u001b[0m\n",
       "\u001b[39m                \u001b[0m\u001b[33mvectorizer_config\u001b[0m\u001b[39m=\u001b[0m\u001b[3;35mNone\u001b[0m\u001b[39m,\u001b[0m\n",
       "\u001b[39m                \u001b[0m\u001b[33mvectorizer\u001b[0m\u001b[39m=\u001b[0m\u001b[32m'none'\u001b[0m\n",
       "\u001b[39m            \u001b[0m\u001b[1;39m)\u001b[0m\u001b[39m,\u001b[0m\n",
       "\u001b[39m            \u001b[0m\u001b[1;35m_Property\u001b[0m\u001b[1;39m(\u001b[0m\n",
       "\u001b[39m                \u001b[0m\u001b[33mname\u001b[0m\u001b[39m=\u001b[0m\u001b[32m'content'\u001b[0m\u001b[39m,\u001b[0m\n",
       "\u001b[39m                \u001b[0m\u001b[33mdescription\u001b[0m\u001b[39m=\u001b[0m\u001b[3;35mNone\u001b[0m\u001b[39m,\u001b[0m\n",
       "\u001b[39m                \u001b[0m\u001b[33mdata_type\u001b[0m\u001b[39m=<DataType.TEXT: \u001b[0m\u001b[32m'text'\u001b[0m\u001b[39m>,\u001b[0m\n",
       "\u001b[39m                \u001b[0m\u001b[33mindex_filterable\u001b[0m\u001b[39m=\u001b[0m\u001b[3;91mFalse\u001b[0m\u001b[39m,\u001b[0m\n",
       "\u001b[39m                \u001b[0m\u001b[33mindex_searchable\u001b[0m\u001b[39m=\u001b[0m\u001b[3;92mTrue\u001b[0m\u001b[39m,\u001b[0m\n",
       "\u001b[39m                \u001b[0m\u001b[33mnested_properties\u001b[0m\u001b[39m=\u001b[0m\u001b[3;35mNone\u001b[0m\u001b[39m,\u001b[0m\n",
       "\u001b[39m                \u001b[0m\u001b[33mtokenization\u001b[0m\u001b[39m=<Tokenization.WORD: \u001b[0m\u001b[32m'word'\u001b[0m\u001b[39m>,\u001b[0m\n",
       "\u001b[39m                \u001b[0m\u001b[33mvectorizer_config\u001b[0m\u001b[39m=\u001b[0m\u001b[3;35mNone\u001b[0m\u001b[39m,\u001b[0m\n",
       "\u001b[39m                \u001b[0m\u001b[33mvectorizer\u001b[0m\u001b[39m=\u001b[0m\u001b[32m'none'\u001b[0m\n",
       "\u001b[39m            \u001b[0m\u001b[1;39m)\u001b[0m\n",
       "\u001b[39m        \u001b[0m\u001b[1;39m]\u001b[0m\u001b[39m,\u001b[0m\n",
       "\u001b[39m        \u001b[0m\u001b[33mreferences\u001b[0m\u001b[39m=\u001b[0m\u001b[1;39m[\u001b[0m\u001b[1;39m]\u001b[0m\u001b[39m,\u001b[0m\n",
       "\u001b[39m        \u001b[0m\u001b[33mreranker_config\u001b[0m\u001b[39m=\u001b[0m\u001b[3;35mNone\u001b[0m\u001b[39m,\u001b[0m\n",
       "\u001b[39m        \u001b[0m\u001b[33mvectorizer_config\u001b[0m\u001b[39m=\u001b[0m\u001b[3;35mNone\u001b[0m\u001b[39m,\u001b[0m\n",
       "\u001b[39m        \u001b[0m\u001b[33mvectorizer\u001b[0m\u001b[39m=<Vectorizers.NONE: \u001b[0m\u001b[32m'none'\u001b[0m\u001b[1m>\u001b[0m,\n",
       "        \u001b[33mvector_config\u001b[0m=\u001b[3;35mNone\u001b[0m\n",
       "    \u001b[1m)\u001b[0m\n",
       "\u001b[1m}\u001b[0m\n"
      ]
     },
     "metadata": {},
     "output_type": "display_data"
    }
   ],
   "source": []
  },
  {
   "cell_type": "code",
   "execution_count": 32,
   "id": "3d30f22c-defa-4658-9e74-7f5b34795ee2",
   "metadata": {},
   "outputs": [],
   "source": [
    "collection = client.collections.get(collection_name)"
   ]
  },
  {
   "cell_type": "code",
   "execution_count": 33,
   "id": "bb341434-83a9-4ee3-ac59-4216e9d23cb4",
   "metadata": {},
   "outputs": [
    {
     "name": "stderr",
     "output_type": "stream",
     "text": [
      "4614it [00:08, 576.46it/s] \n"
     ]
    }
   ],
   "source": [
    "with collection.batch.dynamic() as batch:\n",
    "    for i, doc in tqdm(enumerate(docs)):\n",
    "        batch.add_object(properties={k:v for k,v in doc.items() if not k.endswith('embedding')},\n",
    "                         vector=doc['content_embedding'])"
   ]
  },
  {
   "cell_type": "code",
   "execution_count": 35,
   "id": "bb57bba9-8e6c-42a3-8166-02d04011dce7",
   "metadata": {},
   "outputs": [],
   "source": [
    "client.connect()"
   ]
  },
  {
   "cell_type": "code",
   "execution_count": 37,
   "id": "4ef8eec0-9a14-43b7-b6e9-7699ab49af28",
   "metadata": {},
   "outputs": [],
   "source": [
    "huberman = client.collections.get(collection_name)"
   ]
  },
  {
   "cell_type": "code",
   "execution_count": 51,
   "id": "fa1f2663-ae38-4271-a771-0041b70854aa",
   "metadata": {},
   "outputs": [],
   "source": [
    "response = huberman.query.bm25(query='Who is Huberman', limit=5, return_metadata=['creation_time', 'last_update_time', 'distance', 'certainty', 'score', 'explain_score', 'is_consistent'],return_properties=['content'])"
   ]
  },
  {
   "cell_type": "code",
   "execution_count": 55,
   "id": "d541d03f-0ca9-4a74-b0f0-aba077aad737",
   "metadata": {},
   "outputs": [
    {
     "data": {
      "text/plain": [
       "SentenceTransformer(\n",
       "  (0): Transformer({'max_seq_length': 256, 'do_lower_case': False}) with Transformer model: BertModel \n",
       "  (1): Pooling({'word_embedding_dimension': 384, 'pooling_mode_cls_token': False, 'pooling_mode_mean_tokens': True, 'pooling_mode_max_tokens': False, 'pooling_mode_mean_sqrt_len_tokens': False})\n",
       "  (2): Normalize()\n",
       ")"
      ]
     },
     "execution_count": 55,
     "metadata": {},
     "output_type": "execute_result"
    }
   ],
   "source": [
    "model = SentenceTransformer('sentence-transformers/all-miniLM-L6-v2')\n",
    "model"
   ]
  },
  {
   "cell_type": "code",
   "execution_count": 64,
   "id": "55fd985f-81a5-4b25-81b8-5466fae2e8f3",
   "metadata": {},
   "outputs": [],
   "source": [
    "query = 'interplay of microbes in the gut'\n",
    "query_vector = model.encode(query).tolist()"
   ]
  },
  {
   "cell_type": "code",
   "execution_count": 73,
   "id": "ddd2728e-76d8-47cd-937b-342208a07c7c",
   "metadata": {},
   "outputs": [],
   "source": [
    "from weaviate.classes.query import MetadataQuery\n",
    "from weaviate.classes.data import DataObject"
   ]
  },
  {
   "cell_type": "code",
   "execution_count": 83,
   "id": "2292ec5d-a9bf-4d14-a5ab-8ff595e0f798",
   "metadata": {},
   "outputs": [],
   "source": [
    "semantic = huberman.query.near_vector(near_vector=query_vector,\n",
    "                                      limit=3,\n",
    "                                      return_metadata=MetadataQuery(distance=True, \n",
    "                                                                    explain_score=True,\n",
    "                                                                    certainty=True),\n",
    "                                      return_properties=['content', 'title'])"
   ]
  },
  {
   "cell_type": "code",
   "execution_count": 88,
   "id": "11b18212-70a9-4c8d-9b5f-7367990a4abb",
   "metadata": {},
   "outputs": [
    {
     "data": {
      "text/plain": [
       "weaviate.collections.classes.internal.QueryReturn"
      ]
     },
     "execution_count": 88,
     "metadata": {},
     "output_type": "execute_result"
    }
   ],
   "source": [
    "from weaviate.collections.classes.internal import MetadataReturn, QueryReturn"
   ]
  },
  {
   "cell_type": "code",
   "execution_count": 84,
   "id": "1edc4a12-7936-46ae-acc5-9cf93680bf1d",
   "metadata": {},
   "outputs": [],
   "source": [
    "def _get_meta(metadata: MetadataQuery):\n",
    "    temp_dict = metadata.__dict__\n",
    "    return {k:v for k,v in temp_dict.items() if v}"
   ]
  },
  {
   "cell_type": "code",
   "execution_count": 93,
   "id": "415542db-b440-4370-995a-b37cc80975d8",
   "metadata": {},
   "outputs": [
    {
     "data": {
      "text/plain": [
       "Object(uuid=_WeaviateUUIDInt('68939d5c-34d3-48a8-8043-5895eccef6aa'), metadata=MetadataReturn(creation_time=None, last_update_time=None, distance=0.378218412399292, certainty=0.810890793800354, score=None, explain_score='', is_consistent=None, rerank_score=None), properties={'content': \"We've done episodes on stress and how to combat stress. And we've done episodes on the so-called gut microbiome. But right now, I just want to mention that the gut microbiome, which are the trillions of little micro bacteria that interact heavily with the immune system and help support the immune system, you want to keep the gut microbiome healthy. So you'll notice that we include some tools related to the gut microbiome here in a moment. And, and this is very important, keep in mind that the microbiome doesn't just exist in the gut. So often these days we hear about the gut microbiome and I'm oh so happy that the gut microbiome is getting the attention that it deserves in the context of mental health, physical health and performance. But we can't forget that the microbiome also exists on the surface of the eyes and in the nasal passages. And indeed the microbiome that's specific to the nasal passages, as I mentioned before, is very different from the microbiome that exists within the mouth. And the microbiome that exists within the mucosa of the nasal passages seems to be the most effective at combating any viruses that we encounter, especially cold and flu viruses.\", 'title': 'How to Prevent & Treat Colds & Flu'}, references=None, vector={}, collection='HubermanLabs_minilm_256')"
      ]
     },
     "execution_count": 93,
     "metadata": {},
     "output_type": "execute_result"
    }
   ],
   "source": [
    "semantic.objects[0]"
   ]
  },
  {
   "cell_type": "code",
   "execution_count": 87,
   "id": "46d0d94a-9b80-4a14-a42d-296c35bd00f5",
   "metadata": {},
   "outputs": [
    {
     "data": {
      "text/html": [
       "<pre style=\"white-space:pre;overflow-x:auto;line-height:normal;font-family:Menlo,'DejaVu Sans Mono',consolas,'Courier New',monospace\"><span style=\"font-weight: bold\">{</span>\n",
       "    <span style=\"color: #008000; text-decoration-color: #008000\">'content'</span>: <span style=\"color: #008000; text-decoration-color: #008000\">\"We've done episodes on stress and how to combat stress. And we've done episodes on the so-called </span>\n",
       "<span style=\"color: #008000; text-decoration-color: #008000\">gut microbiome. But right now, I just want to mention that the gut microbiome, which are the trillions of little </span>\n",
       "<span style=\"color: #008000; text-decoration-color: #008000\">micro bacteria that interact heavily with the immune system and help support the immune system, you want to keep </span>\n",
       "<span style=\"color: #008000; text-decoration-color: #008000\">the gut microbiome healthy. So you'll notice that we include some tools related to the gut microbiome here in a </span>\n",
       "<span style=\"color: #008000; text-decoration-color: #008000\">moment. And, and this is very important, keep in mind that the microbiome doesn't just exist in the gut. So often </span>\n",
       "<span style=\"color: #008000; text-decoration-color: #008000\">these days we hear about the gut microbiome and I'm oh so happy that the gut microbiome is getting the attention </span>\n",
       "<span style=\"color: #008000; text-decoration-color: #008000\">that it deserves in the context of mental health, physical health and performance. But we can't forget that the </span>\n",
       "<span style=\"color: #008000; text-decoration-color: #008000\">microbiome also exists on the surface of the eyes and in the nasal passages. And indeed the microbiome that's </span>\n",
       "<span style=\"color: #008000; text-decoration-color: #008000\">specific to the nasal passages, as I mentioned before, is very different from the microbiome that exists within the</span>\n",
       "<span style=\"color: #008000; text-decoration-color: #008000\">mouth. And the microbiome that exists within the mucosa of the nasal passages seems to be the most effective at </span>\n",
       "<span style=\"color: #008000; text-decoration-color: #008000\">combating any viruses that we encounter, especially cold and flu viruses.\"</span>,\n",
       "    <span style=\"color: #008000; text-decoration-color: #008000\">'title'</span>: <span style=\"color: #008000; text-decoration-color: #008000\">'How to Prevent &amp; Treat Colds &amp; Flu'</span>\n",
       "<span style=\"font-weight: bold\">}</span>\n",
       "</pre>\n"
      ],
      "text/plain": [
       "\u001b[1m{\u001b[0m\n",
       "    \u001b[32m'content'\u001b[0m: \u001b[32m\"We've done episodes on stress and how to combat stress. And we've done episodes on the so-called \u001b[0m\n",
       "\u001b[32mgut microbiome. But right now, I just want to mention that the gut microbiome, which are the trillions of little \u001b[0m\n",
       "\u001b[32mmicro bacteria that interact heavily with the immune system and help support the immune system, you want to keep \u001b[0m\n",
       "\u001b[32mthe gut microbiome healthy. So you'll notice that we include some tools related to the gut microbiome here in a \u001b[0m\n",
       "\u001b[32mmoment. And, and this is very important, keep in mind that the microbiome doesn't just exist in the gut. So often \u001b[0m\n",
       "\u001b[32mthese days we hear about the gut microbiome and I'm oh so happy that the gut microbiome is getting the attention \u001b[0m\n",
       "\u001b[32mthat it deserves in the context of mental health, physical health and performance. But we can't forget that the \u001b[0m\n",
       "\u001b[32mmicrobiome also exists on the surface of the eyes and in the nasal passages. And indeed the microbiome that's \u001b[0m\n",
       "\u001b[32mspecific to the nasal passages, as I mentioned before, is very different from the microbiome that exists within the\u001b[0m\n",
       "\u001b[32mmouth. And the microbiome that exists within the mucosa of the nasal passages seems to be the most effective at \u001b[0m\n",
       "\u001b[32mcombating any viruses that we encounter, especially cold and flu viruses.\"\u001b[0m,\n",
       "    \u001b[32m'title'\u001b[0m: \u001b[32m'How to Prevent & Treat Colds & Flu'\u001b[0m\n",
       "\u001b[1m}\u001b[0m\n"
      ]
     },
     "metadata": {},
     "output_type": "display_data"
    },
    {
     "data": {
      "text/html": [
       "<pre style=\"white-space:pre;overflow-x:auto;line-height:normal;font-family:Menlo,'DejaVu Sans Mono',consolas,'Courier New',monospace\"><span style=\"font-weight: bold\">{</span><span style=\"color: #008000; text-decoration-color: #008000\">'distance'</span>: <span style=\"color: #008080; text-decoration-color: #008080; font-weight: bold\">0.378218412399292</span>, <span style=\"color: #008000; text-decoration-color: #008000\">'certainty'</span>: <span style=\"color: #008080; text-decoration-color: #008080; font-weight: bold\">0.810890793800354</span><span style=\"font-weight: bold\">}</span>\n",
       "</pre>\n"
      ],
      "text/plain": [
       "\u001b[1m{\u001b[0m\u001b[32m'distance'\u001b[0m: \u001b[1;36m0.378218412399292\u001b[0m, \u001b[32m'certainty'\u001b[0m: \u001b[1;36m0.810890793800354\u001b[0m\u001b[1m}\u001b[0m\n"
      ]
     },
     "metadata": {},
     "output_type": "display_data"
    },
    {
     "data": {
      "text/html": [
       "<pre style=\"white-space:pre;overflow-x:auto;line-height:normal;font-family:Menlo,'DejaVu Sans Mono',consolas,'Courier New',monospace\">--------------------------------------------------------------------------------\n",
       "</pre>\n"
      ],
      "text/plain": [
       "--------------------------------------------------------------------------------\n"
      ]
     },
     "metadata": {},
     "output_type": "display_data"
    },
    {
     "data": {
      "text/html": [
       "<pre style=\"white-space:pre;overflow-x:auto;line-height:normal;font-family:Menlo,'DejaVu Sans Mono',consolas,'Courier New',monospace\"><span style=\"color: #ffff00; text-decoration-color: #ffff00\">68939d5c-34d3-48a8-8043-5895eccef6aa</span>\n",
       "</pre>\n"
      ],
      "text/plain": [
       "\u001b[93m68939d5c-34d3-48a8-8043-5895eccef6aa\u001b[0m\n"
      ]
     },
     "metadata": {},
     "output_type": "display_data"
    },
    {
     "data": {
      "text/html": [
       "<pre style=\"white-space:pre;overflow-x:auto;line-height:normal;font-family:Menlo,'DejaVu Sans Mono',consolas,'Courier New',monospace\"><span style=\"font-weight: bold\">{</span>\n",
       "    <span style=\"color: #008000; text-decoration-color: #008000\">'content'</span>: <span style=\"color: #008000; text-decoration-color: #008000\">\"So in other words, if I interpret this correctly, and I'll go look up the paper and provide a link </span>\n",
       "<span style=\"color: #008000; text-decoration-color: #008000\">to it, by increasing the diversity of gut microbiota, because that's really what a probiotic does, sort of across </span>\n",
       "<span style=\"color: #008000; text-decoration-color: #008000\">the board increases the diversity of gut microbiota. No one specific illus, as I always say, because they all seem </span>\n",
       "<span style=\"color: #008000; text-decoration-color: #008000\">to end in illus. You know, multiple illuses. Illuses, illuses. Here we go again. You upregulate gene expression and</span>\n",
       "<span style=\"color: #008000; text-decoration-color: #008000\">thereby action of oxytocin and vasopressin in the hypothalamus. But that's a neural mediated thing. It's not as if </span>\n",
       "<span style=\"color: #008000; text-decoration-color: #008000\">the microbiota travel to the brain. Something changes in the gut, which activates the vagal pathway from gut to the</span>\n",
       "<span style=\"color: #008000; text-decoration-color: #008000\">specific nucleus in the brain. And we know that the vagal pathway is involved because it seems at least partially </span>\n",
       "<span style=\"color: #008000; text-decoration-color: #008000\">necessary. If you sever that, you give a vagotomy, then this effect is blunted or eliminated. That's very </span>\n",
       "<span style=\"color: #008000; text-decoration-color: #008000\">interesting and ties the microbiome to oxytocin-vasopressin production in a neural and somewhat causal way and </span>\n",
       "<span style=\"color: #008000; text-decoration-color: #008000\">makes the data on fecal transplants make a lot of more sense.\"</span>,\n",
       "    <span style=\"color: #008000; text-decoration-color: #008000\">'title'</span>: <span style=\"color: #008000; text-decoration-color: #008000\">'Dr. Karen Parker: The Causes &amp; Treatments for Autism'</span>\n",
       "<span style=\"font-weight: bold\">}</span>\n",
       "</pre>\n"
      ],
      "text/plain": [
       "\u001b[1m{\u001b[0m\n",
       "    \u001b[32m'content'\u001b[0m: \u001b[32m\"So in other words, if I interpret this correctly, and I'll go look up the paper and provide a link \u001b[0m\n",
       "\u001b[32mto it, by increasing the diversity of gut microbiota, because that's really what a probiotic does, sort of across \u001b[0m\n",
       "\u001b[32mthe board increases the diversity of gut microbiota. No one specific illus, as I always say, because they all seem \u001b[0m\n",
       "\u001b[32mto end in illus. You know, multiple illuses. Illuses, illuses. Here we go again. You upregulate gene expression and\u001b[0m\n",
       "\u001b[32mthereby action of oxytocin and vasopressin in the hypothalamus. But that's a neural mediated thing. It's not as if \u001b[0m\n",
       "\u001b[32mthe microbiota travel to the brain. Something changes in the gut, which activates the vagal pathway from gut to the\u001b[0m\n",
       "\u001b[32mspecific nucleus in the brain. And we know that the vagal pathway is involved because it seems at least partially \u001b[0m\n",
       "\u001b[32mnecessary. If you sever that, you give a vagotomy, then this effect is blunted or eliminated. That's very \u001b[0m\n",
       "\u001b[32minteresting and ties the microbiome to oxytocin-vasopressin production in a neural and somewhat causal way and \u001b[0m\n",
       "\u001b[32mmakes the data on fecal transplants make a lot of more sense.\"\u001b[0m,\n",
       "    \u001b[32m'title'\u001b[0m: \u001b[32m'Dr. Karen Parker: The Causes & Treatments for Autism'\u001b[0m\n",
       "\u001b[1m}\u001b[0m\n"
      ]
     },
     "metadata": {},
     "output_type": "display_data"
    },
    {
     "data": {
      "text/html": [
       "<pre style=\"white-space:pre;overflow-x:auto;line-height:normal;font-family:Menlo,'DejaVu Sans Mono',consolas,'Courier New',monospace\"><span style=\"font-weight: bold\">{</span><span style=\"color: #008000; text-decoration-color: #008000\">'distance'</span>: <span style=\"color: #008080; text-decoration-color: #008080; font-weight: bold\">0.39148271083831787</span>, <span style=\"color: #008000; text-decoration-color: #008000\">'certainty'</span>: <span style=\"color: #008080; text-decoration-color: #008080; font-weight: bold\">0.8042586445808411</span><span style=\"font-weight: bold\">}</span>\n",
       "</pre>\n"
      ],
      "text/plain": [
       "\u001b[1m{\u001b[0m\u001b[32m'distance'\u001b[0m: \u001b[1;36m0.39148271083831787\u001b[0m, \u001b[32m'certainty'\u001b[0m: \u001b[1;36m0.8042586445808411\u001b[0m\u001b[1m}\u001b[0m\n"
      ]
     },
     "metadata": {},
     "output_type": "display_data"
    },
    {
     "data": {
      "text/html": [
       "<pre style=\"white-space:pre;overflow-x:auto;line-height:normal;font-family:Menlo,'DejaVu Sans Mono',consolas,'Courier New',monospace\">--------------------------------------------------------------------------------\n",
       "</pre>\n"
      ],
      "text/plain": [
       "--------------------------------------------------------------------------------\n"
      ]
     },
     "metadata": {},
     "output_type": "display_data"
    },
    {
     "data": {
      "text/html": [
       "<pre style=\"white-space:pre;overflow-x:auto;line-height:normal;font-family:Menlo,'DejaVu Sans Mono',consolas,'Courier New',monospace\"><span style=\"color: #ffff00; text-decoration-color: #ffff00\">1a854b76-21a2-48a3-8e0e-d66ec3af6d28</span>\n",
       "</pre>\n"
      ],
      "text/plain": [
       "\u001b[93m1a854b76-21a2-48a3-8e0e-d66ec3af6d28\u001b[0m\n"
      ]
     },
     "metadata": {},
     "output_type": "display_data"
    },
    {
     "data": {
      "text/html": [
       "<pre style=\"white-space:pre;overflow-x:auto;line-height:normal;font-family:Menlo,'DejaVu Sans Mono',consolas,'Courier New',monospace\"><span style=\"font-weight: bold\">{</span>\n",
       "    <span style=\"color: #008000; text-decoration-color: #008000\">'content'</span>: <span style=\"color: #008000; text-decoration-color: #008000\">\"Every day, I see this all the time. And I said, this isn't unusual. She's like, no, I see this </span>\n",
       "<span style=\"color: #008000; text-decoration-color: #008000\">thing all the time. This in meaning sensitivity to onions? is whether this is representing more of a public health </span>\n",
       "<span style=\"color: #008000; text-decoration-color: #008000\">issue. Because I'm seeing, I, Dr. Watford, am seeing increasing amounts of this as we go forward. How interesting. </span>\n",
       "<span style=\"color: #008000; text-decoration-color: #008000\">Well, this is not a time to plug the philanthropic arm of our premium podcast, but I'm very involved in science </span>\n",
       "<span style=\"color: #008000; text-decoration-color: #008000\">philanthropy. This sounds like an area to devote some funding to to explore how foods are impacting the local and </span>\n",
       "<span style=\"color: #008000; text-decoration-color: #008000\">systemic pain response. Yeah, I got in, you know, so I'm running a large biomarker study to characterize people </span>\n",
       "<span style=\"color: #008000; text-decoration-color: #008000\">deeply. And one of the things that I wanted to put in there is microbiome characterization. Now, to be clear, </span>\n",
       "<span style=\"color: #008000; text-decoration-color: #008000\">that's out of my wheelhouse. But the beauty of being at Stanford and other major institutions is you can go make </span>\n",
       "<span style=\"color: #008000; text-decoration-color: #008000\">friends. Yeah, Justin Sonnenberg, who's been a guest on this podcast, is one of the world experts on the gut </span>\n",
       "<span style=\"color: #008000; text-decoration-color: #008000\">microbiome. We have a few others too.\"</span>,\n",
       "    <span style=\"color: #008000; text-decoration-color: #008000\">'title'</span>: <span style=\"color: #008000; text-decoration-color: #008000\">'Dr. Sean Mackey: Tools to Reduce &amp; Manage Pain'</span>\n",
       "<span style=\"font-weight: bold\">}</span>\n",
       "</pre>\n"
      ],
      "text/plain": [
       "\u001b[1m{\u001b[0m\n",
       "    \u001b[32m'content'\u001b[0m: \u001b[32m\"Every day, I see this all the time. And I said, this isn't unusual. She's like, no, I see this \u001b[0m\n",
       "\u001b[32mthing all the time. This in meaning sensitivity to onions? is whether this is representing more of a public health \u001b[0m\n",
       "\u001b[32missue. Because I'm seeing, I, Dr. Watford, am seeing increasing amounts of this as we go forward. How interesting. \u001b[0m\n",
       "\u001b[32mWell, this is not a time to plug the philanthropic arm of our premium podcast, but I'm very involved in science \u001b[0m\n",
       "\u001b[32mphilanthropy. This sounds like an area to devote some funding to to explore how foods are impacting the local and \u001b[0m\n",
       "\u001b[32msystemic pain response. Yeah, I got in, you know, so I'm running a large biomarker study to characterize people \u001b[0m\n",
       "\u001b[32mdeeply. And one of the things that I wanted to put in there is microbiome characterization. Now, to be clear, \u001b[0m\n",
       "\u001b[32mthat's out of my wheelhouse. But the beauty of being at Stanford and other major institutions is you can go make \u001b[0m\n",
       "\u001b[32mfriends. Yeah, Justin Sonnenberg, who's been a guest on this podcast, is one of the world experts on the gut \u001b[0m\n",
       "\u001b[32mmicrobiome. We have a few others too.\"\u001b[0m,\n",
       "    \u001b[32m'title'\u001b[0m: \u001b[32m'Dr. Sean Mackey: Tools to Reduce & Manage Pain'\u001b[0m\n",
       "\u001b[1m}\u001b[0m\n"
      ]
     },
     "metadata": {},
     "output_type": "display_data"
    },
    {
     "data": {
      "text/html": [
       "<pre style=\"white-space:pre;overflow-x:auto;line-height:normal;font-family:Menlo,'DejaVu Sans Mono',consolas,'Courier New',monospace\"><span style=\"font-weight: bold\">{</span><span style=\"color: #008000; text-decoration-color: #008000\">'distance'</span>: <span style=\"color: #008080; text-decoration-color: #008080; font-weight: bold\">0.41179609298706055</span>, <span style=\"color: #008000; text-decoration-color: #008000\">'certainty'</span>: <span style=\"color: #008080; text-decoration-color: #008080; font-weight: bold\">0.7941019535064697</span><span style=\"font-weight: bold\">}</span>\n",
       "</pre>\n"
      ],
      "text/plain": [
       "\u001b[1m{\u001b[0m\u001b[32m'distance'\u001b[0m: \u001b[1;36m0.41179609298706055\u001b[0m, \u001b[32m'certainty'\u001b[0m: \u001b[1;36m0.7941019535064697\u001b[0m\u001b[1m}\u001b[0m\n"
      ]
     },
     "metadata": {},
     "output_type": "display_data"
    },
    {
     "data": {
      "text/html": [
       "<pre style=\"white-space:pre;overflow-x:auto;line-height:normal;font-family:Menlo,'DejaVu Sans Mono',consolas,'Courier New',monospace\">--------------------------------------------------------------------------------\n",
       "</pre>\n"
      ],
      "text/plain": [
       "--------------------------------------------------------------------------------\n"
      ]
     },
     "metadata": {},
     "output_type": "display_data"
    },
    {
     "data": {
      "text/html": [
       "<pre style=\"white-space:pre;overflow-x:auto;line-height:normal;font-family:Menlo,'DejaVu Sans Mono',consolas,'Courier New',monospace\"><span style=\"color: #ffff00; text-decoration-color: #ffff00\">e0338281-9551-4977-a789-91abb30d121e</span>\n",
       "</pre>\n"
      ],
      "text/plain": [
       "\u001b[93me0338281-9551-4977-a789-91abb30d121e\u001b[0m\n"
      ]
     },
     "metadata": {},
     "output_type": "display_data"
    }
   ],
   "source": [
    "for o in semantic.objects:\n",
    "    print(o.properties)\n",
    "    print(_get_meta(o.metadata))\n",
    "    print('-'*80)\n",
    "    print(o.uuid)"
   ]
  },
  {
   "cell_type": "code",
   "execution_count": null,
   "id": "884e4317-035e-4edf-93ee-677f993fda5f",
   "metadata": {},
   "outputs": [],
   "source": []
  }
 ],
 "metadata": {
  "kernelspec": {
   "display_name": "vsa",
   "language": "python",
   "name": "vsa"
  },
  "language_info": {
   "codemirror_mode": {
    "name": "ipython",
    "version": 3
   },
   "file_extension": ".py",
   "mimetype": "text/x-python",
   "name": "python",
   "nbconvert_exporter": "python",
   "pygments_lexer": "ipython3",
   "version": "3.10.13"
  }
 },
 "nbformat": 4,
 "nbformat_minor": 5
}
