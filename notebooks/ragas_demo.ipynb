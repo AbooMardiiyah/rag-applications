{
 "cells": [
  {
   "cell_type": "code",
   "execution_count": 1,
   "id": "85a8977f-258c-4478-b604-273afbed2b57",
   "metadata": {},
   "outputs": [],
   "source": [
    "%load_ext autoreload\n",
    "%autoreload 2\n",
    "\n",
    "from dotenv import load_dotenv\n",
    "envs = load_dotenv('.env', override=True)\n",
    "\n",
    "import os\n",
    "from rich import print\n",
    "from pathlib import Path\n",
    "from langchain.document_loaders import DirectoryLoader\n",
    "from langchain_openai import ChatOpenAI, OpenAIEmbeddings\n",
    "from ragas.testset.generator import TestsetGenerator\n",
    "from ragas.testset.evolutions import simple, reasoning, multi_context, multi_context_question_prompt\n",
    "from ragas.metrics import (\n",
    "answer_correctness,\n",
    "answer_relevancy,\n",
    "faithfulness,\n",
    "context_recall,\n",
    "context_precision)\n",
    "from ragas import evaluate"
   ]
  },
  {
   "cell_type": "code",
   "execution_count": 2,
   "id": "ce30d7f7-839c-4f9e-8d39-cb6d27cbc1b3",
   "metadata": {},
   "outputs": [],
   "source": [
    "api_key = os.environ['OPENAI_API_KEY']"
   ]
  },
  {
   "cell_type": "code",
   "execution_count": 3,
   "id": "8e9ee60a-0834-415e-b8a2-3bafbbe5beaf",
   "metadata": {},
   "outputs": [
    {
     "data": {
      "text/plain": [
       "'/Users/americanthinker/Downloads/Data/acled_reports/'"
      ]
     },
     "execution_count": 3,
     "metadata": {},
     "output_type": "execute_result"
    }
   ],
   "source": [
    "data_dir = '/Users/americanthinker/Downloads/Data/acled_reports/'\n",
    "data_dir"
   ]
  },
  {
   "cell_type": "code",
   "execution_count": 4,
   "id": "4a6dea57-3f8a-4bbc-93c2-5a8defcc3e42",
   "metadata": {},
   "outputs": [],
   "source": [
    "bad_files = [path for path in Path(data_dir).iterdir() if not path.name.endswith('txt')]"
   ]
  },
  {
   "cell_type": "code",
   "execution_count": 6,
   "id": "53a2e04a-9641-489a-a232-5b8ce62facee",
   "metadata": {},
   "outputs": [],
   "source": [
    "loader = DirectoryLoader(data_dir)"
   ]
  },
  {
   "cell_type": "code",
   "execution_count": 7,
   "id": "b2b6ba8e-b3eb-4145-bf5d-0d3ee5749d62",
   "metadata": {},
   "outputs": [],
   "source": [
    "documents = loader.load()"
   ]
  },
  {
   "cell_type": "code",
   "execution_count": 9,
   "id": "3ff5459d-2113-450e-b67e-bb15d99d00a5",
   "metadata": {},
   "outputs": [],
   "source": [
    "len(documents)\n",
    "for doc in documents:\n",
    "    doc.metadata['filename'] = doc.metadata['source']"
   ]
  },
  {
   "cell_type": "code",
   "execution_count": 11,
   "id": "8d649264-0788-45ea-8c8f-e911b2d21da7",
   "metadata": {},
   "outputs": [],
   "source": [
    "gen_llm = ChatOpenAI(api_key=api_key, model='gpt-3.5-turbo')"
   ]
  },
  {
   "cell_type": "code",
   "execution_count": 12,
   "id": "7edc02b3-0610-43ee-bc83-c135c31f07f4",
   "metadata": {},
   "outputs": [],
   "source": [
    "critic_llm = ChatOpenAI(api_key=api_key, model='gpt-4')"
   ]
  },
  {
   "cell_type": "code",
   "execution_count": 13,
   "id": "000313c5-355a-48fb-b554-a53233885de1",
   "metadata": {},
   "outputs": [],
   "source": [
    "embeddings =OpenAIEmbeddings(api_key=api_key)"
   ]
  },
  {
   "cell_type": "code",
   "execution_count": 14,
   "id": "1ef2698f-3f5e-4c5a-b6cd-187ff06a7684",
   "metadata": {},
   "outputs": [],
   "source": [
    "generator = TestsetGenerator.from_langchain(gen_llm, critic_llm, embeddings, chunk_size=350)"
   ]
  },
  {
   "cell_type": "code",
   "execution_count": 5,
   "id": "ce5812cd-a5b7-4f36-b73e-2bc18779ec85",
   "metadata": {},
   "outputs": [
    {
     "name": "stderr",
     "output_type": "stream",
     "text": [
      "/opt/anaconda3/envs/vsa/lib/python3.10/site-packages/datasets/load.py:1461: FutureWarning: The repository for explodinggradients/amnesty_qa contains custom code which must be executed to correctly load the dataset. You can inspect the repository content at https://hf.co/datasets/explodinggradients/amnesty_qa\n",
      "You can avoid this message in future by passing the argument `trust_remote_code=True`.\n",
      "Passing `trust_remote_code=True` will be mandatory to load this dataset from the next major release of `datasets`.\n",
      "  warnings.warn(\n",
      "Repo card metadata block was not found. Setting CardData to empty.\n"
     ]
    }
   ],
   "source": [
    "import json\n",
    "from datasets import load_dataset\n",
    "\n",
    "amnesty_qa = load_dataset(\"explodinggradients/amnesty_qa\", \"english_v2\")\n",
    "with open('/Users/americanthinker/Downloads/english.json') as f:\n",
    "    data = json.loads(f.read())"
   ]
  },
  {
   "cell_type": "code",
   "execution_count": 11,
   "id": "cb062cbc-c2be-49db-b352-b822800380c1",
   "metadata": {},
   "outputs": [
    {
     "data": {
      "text/plain": [
       "DatasetDict({\n",
       "    eval: Dataset({\n",
       "        features: ['question', 'ground_truth', 'answer', 'contexts'],\n",
       "        num_rows: 20\n",
       "    })\n",
       "})"
      ]
     },
     "execution_count": 11,
     "metadata": {},
     "output_type": "execute_result"
    }
   ],
   "source": [
    "amnesty_qa"
   ]
  },
  {
   "cell_type": "code",
   "execution_count": 31,
   "id": "3d9fce05-8c9e-4fdf-98a3-bf44ee6f399b",
   "metadata": {},
   "outputs": [
    {
     "data": {
      "application/vnd.jupyter.widget-view+json": {
       "model_id": "1db4939a828f46d1ba6d3b26320bd1c5",
       "version_major": 2,
       "version_minor": 0
      },
      "text/plain": [
       "Evaluating:   0%|          | 0/100 [00:00<?, ?it/s]"
      ]
     },
     "metadata": {},
     "output_type": "display_data"
    }
   ],
   "source": [
    "result = evaluate(amnesty_qa['eval'], metrics=[context_precision, \n",
    "                                 faithfulness,\n",
    "                                 answer_relevancy,\n",
    "                                 context_recall,\n",
    "                                 answer_correctness\n",
    "                                ],\n",
    "                 )"
   ]
  },
  {
   "cell_type": "code",
   "execution_count": 14,
   "id": "bf1092e3-464b-4d97-9adc-3c610960145a",
   "metadata": {},
   "outputs": [
    {
     "data": {
      "text/plain": [
       "ragas.evaluation.Result"
      ]
     },
     "execution_count": 14,
     "metadata": {},
     "output_type": "execute_result"
    }
   ],
   "source": [
    "type(result)"
   ]
  },
  {
   "cell_type": "code",
   "execution_count": 32,
   "id": "de06c85a-907a-4064-bdde-b2ea279cbc05",
   "metadata": {},
   "outputs": [],
   "source": [
    "df = result.to_pandas()"
   ]
  },
  {
   "cell_type": "code",
   "execution_count": 33,
   "id": "5fe134e8-3aba-4bb4-8234-f47d3077cc45",
   "metadata": {},
   "outputs": [
    {
     "data": {
      "text/html": [
       "<div>\n",
       "<style scoped>\n",
       "    .dataframe tbody tr th:only-of-type {\n",
       "        vertical-align: middle;\n",
       "    }\n",
       "\n",
       "    .dataframe tbody tr th {\n",
       "        vertical-align: top;\n",
       "    }\n",
       "\n",
       "    .dataframe thead th {\n",
       "        text-align: right;\n",
       "    }\n",
       "</style>\n",
       "<table border=\"1\" class=\"dataframe\">\n",
       "  <thead>\n",
       "    <tr style=\"text-align: right;\">\n",
       "      <th></th>\n",
       "      <th>question</th>\n",
       "      <th>ground_truth</th>\n",
       "      <th>answer</th>\n",
       "      <th>contexts</th>\n",
       "      <th>context_precision</th>\n",
       "      <th>faithfulness</th>\n",
       "      <th>answer_relevancy</th>\n",
       "      <th>context_recall</th>\n",
       "      <th>answer_correctness</th>\n",
       "    </tr>\n",
       "  </thead>\n",
       "  <tbody>\n",
       "    <tr>\n",
       "      <th>0</th>\n",
       "      <td>What are the global implications of the USA Su...</td>\n",
       "      <td>The global implications of the USA Supreme Cou...</td>\n",
       "      <td>The global implications of the USA Supreme Cou...</td>\n",
       "      <td>[- In 2022, the USA Supreme Court handed down ...</td>\n",
       "      <td>1.0</td>\n",
       "      <td>NaN</td>\n",
       "      <td>0.987989</td>\n",
       "      <td>1.0</td>\n",
       "      <td>0.333333</td>\n",
       "    </tr>\n",
       "    <tr>\n",
       "      <th>1</th>\n",
       "      <td>Which companies are the main contributors to G...</td>\n",
       "      <td>According to the Carbon Majors database, the m...</td>\n",
       "      <td>According to the Carbon Majors database, the m...</td>\n",
       "      <td>[- Fossil fuel companies, whether state or pri...</td>\n",
       "      <td>1.0</td>\n",
       "      <td>0.416667</td>\n",
       "      <td>0.959061</td>\n",
       "      <td>1.0</td>\n",
       "      <td>0.450000</td>\n",
       "    </tr>\n",
       "    <tr>\n",
       "      <th>2</th>\n",
       "      <td>Which private companies in the Americas are th...</td>\n",
       "      <td>The largest private companies in the Americas ...</td>\n",
       "      <td>According to the Carbon Majors database, the l...</td>\n",
       "      <td>[The private companies responsible for the mos...</td>\n",
       "      <td>1.0</td>\n",
       "      <td>1.000000</td>\n",
       "      <td>0.987002</td>\n",
       "      <td>1.0</td>\n",
       "      <td>0.461538</td>\n",
       "    </tr>\n",
       "    <tr>\n",
       "      <th>3</th>\n",
       "      <td>What action did Amnesty International urge its...</td>\n",
       "      <td>Amnesty International urged its supporters to ...</td>\n",
       "      <td>Amnesty International urged its supporters to ...</td>\n",
       "      <td>[Amnesty International called on its vast netw...</td>\n",
       "      <td>1.0</td>\n",
       "      <td>0.200000</td>\n",
       "      <td>0.932881</td>\n",
       "      <td>1.0</td>\n",
       "      <td>0.800000</td>\n",
       "    </tr>\n",
       "    <tr>\n",
       "      <th>4</th>\n",
       "      <td>What are the recommendations made by Amnesty I...</td>\n",
       "      <td>The recommendations made by Amnesty Internatio...</td>\n",
       "      <td>Amnesty International made several recommendat...</td>\n",
       "      <td>[Amnesty International recommends that the Spe...</td>\n",
       "      <td>1.0</td>\n",
       "      <td>0.100000</td>\n",
       "      <td>0.993736</td>\n",
       "      <td>1.0</td>\n",
       "      <td>0.333333</td>\n",
       "    </tr>\n",
       "    <tr>\n",
       "      <th>5</th>\n",
       "      <td>Who are the target audience of the two books c...</td>\n",
       "      <td>The target audience of the two books created b...</td>\n",
       "      <td>The target audience of the two books created b...</td>\n",
       "      <td>[Amnesty International has therefore created t...</td>\n",
       "      <td>1.0</td>\n",
       "      <td>1.000000</td>\n",
       "      <td>0.999208</td>\n",
       "      <td>1.0</td>\n",
       "      <td>1.000000</td>\n",
       "    </tr>\n",
       "    <tr>\n",
       "      <th>6</th>\n",
       "      <td>Which right guarantees access to comprehensive...</td>\n",
       "      <td>The right that guarantees access to comprehens...</td>\n",
       "      <td>The right that guarantees access to comprehens...</td>\n",
       "      <td>[26. The Act raises serious questions about it...</td>\n",
       "      <td>1.0</td>\n",
       "      <td>1.000000</td>\n",
       "      <td>0.972157</td>\n",
       "      <td>1.0</td>\n",
       "      <td>1.000000</td>\n",
       "    </tr>\n",
       "    <tr>\n",
       "      <th>7</th>\n",
       "      <td>Who has the right to be fully informed about h...</td>\n",
       "      <td>The victims of gross human rights violations a...</td>\n",
       "      <td>Everyone has the right to be fully informed ab...</td>\n",
       "      <td>[- The victims of gross human rights violation...</td>\n",
       "      <td>1.0</td>\n",
       "      <td>1.000000</td>\n",
       "      <td>0.972391</td>\n",
       "      <td>1.0</td>\n",
       "      <td>0.666667</td>\n",
       "    </tr>\n",
       "    <tr>\n",
       "      <th>8</th>\n",
       "      <td>When can individuals be found guilty under Art...</td>\n",
       "      <td>Individuals can be found guilty under Article ...</td>\n",
       "      <td>Under Article 207.3 of the Russian Criminal Co...</td>\n",
       "      <td>[- As long as their statements are contrary to...</td>\n",
       "      <td>1.0</td>\n",
       "      <td>0.000000</td>\n",
       "      <td>0.907087</td>\n",
       "      <td>1.0</td>\n",
       "      <td>0.000000</td>\n",
       "    </tr>\n",
       "    <tr>\n",
       "      <th>9</th>\n",
       "      <td>When does the prosecution consider statements ...</td>\n",
       "      <td>The prosecution considers statements contrary ...</td>\n",
       "      <td>Under Article 207.3 of the Russian Criminal Co...</td>\n",
       "      <td>[- As long as their statements are contrary to...</td>\n",
       "      <td>1.0</td>\n",
       "      <td>1.000000</td>\n",
       "      <td>0.929678</td>\n",
       "      <td>1.0</td>\n",
       "      <td>0.500000</td>\n",
       "    </tr>\n",
       "    <tr>\n",
       "      <th>10</th>\n",
       "      <td>What factors have contributed to the decline o...</td>\n",
       "      <td>The factors that have contributed to the decli...</td>\n",
       "      <td>There are several factors that have contribute...</td>\n",
       "      <td>[- \"arrests and harassment of human rights def...</td>\n",
       "      <td>1.0</td>\n",
       "      <td>1.000000</td>\n",
       "      <td>1.000000</td>\n",
       "      <td>1.0</td>\n",
       "      <td>0.476190</td>\n",
       "    </tr>\n",
       "    <tr>\n",
       "      <th>11</th>\n",
       "      <td>What conditions designate wetlands as Ramsar s...</td>\n",
       "      <td>The conditions that designate wetlands as Rams...</td>\n",
       "      <td>Wetlands are designated as Ramsar sites based ...</td>\n",
       "      <td>[- \"Ramsar sites are designated when they fulf...</td>\n",
       "      <td>1.0</td>\n",
       "      <td>1.000000</td>\n",
       "      <td>0.982853</td>\n",
       "      <td>1.0</td>\n",
       "      <td>0.200000</td>\n",
       "    </tr>\n",
       "    <tr>\n",
       "      <th>12</th>\n",
       "      <td>Where was COP15 held in 2022?</td>\n",
       "      <td>COP15 was held in Montreal, Canada in 2022.</td>\n",
       "      <td>COP15 was held in Kunming, China in 2022.</td>\n",
       "      <td>[- These include the agreement known as 30x30,...</td>\n",
       "      <td>1.0</td>\n",
       "      <td>0.000000</td>\n",
       "      <td>1.000000</td>\n",
       "      <td>1.0</td>\n",
       "      <td>0.000000</td>\n",
       "    </tr>\n",
       "    <tr>\n",
       "      <th>13</th>\n",
       "      <td>What is the purpose of the agreement known as ...</td>\n",
       "      <td>The purpose of the agreement known as 30x30 is...</td>\n",
       "      <td>The purpose of the agreement known as 30x30 is...</td>\n",
       "      <td>[- These include the agreement known as 30x30,...</td>\n",
       "      <td>1.0</td>\n",
       "      <td>1.000000</td>\n",
       "      <td>0.999999</td>\n",
       "      <td>1.0</td>\n",
       "      <td>0.857143</td>\n",
       "    </tr>\n",
       "    <tr>\n",
       "      <th>14</th>\n",
       "      <td>Who failed to explicitly recognize Indigenous ...</td>\n",
       "      <td>The States failed to explicitly recognize Indi...</td>\n",
       "      <td>At COP15, the United Nations Climate Change Co...</td>\n",
       "      <td>[Unfortunately, at COP15, States failed to exp...</td>\n",
       "      <td>1.0</td>\n",
       "      <td>NaN</td>\n",
       "      <td>0.933016</td>\n",
       "      <td>1.0</td>\n",
       "      <td>0.400000</td>\n",
       "    </tr>\n",
       "    <tr>\n",
       "      <th>15</th>\n",
       "      <td>What are the consequences of criminalizing abo...</td>\n",
       "      <td>The consequences of criminalizing abortion for...</td>\n",
       "      <td>Criminalizing abortion can have severe consequ...</td>\n",
       "      <td>[- Abortion criminalization contributes to sti...</td>\n",
       "      <td>1.0</td>\n",
       "      <td>1.000000</td>\n",
       "      <td>0.961019</td>\n",
       "      <td>1.0</td>\n",
       "      <td>0.821429</td>\n",
       "    </tr>\n",
       "    <tr>\n",
       "      <th>16</th>\n",
       "      <td>What responsibilities should social media comp...</td>\n",
       "      <td>Social media companies should have the respons...</td>\n",
       "      <td>Social media companies have a responsibility t...</td>\n",
       "      <td>[Social media companies involved in facilitati...</td>\n",
       "      <td>1.0</td>\n",
       "      <td>1.000000</td>\n",
       "      <td>0.996258</td>\n",
       "      <td>1.0</td>\n",
       "      <td>0.500000</td>\n",
       "    </tr>\n",
       "    <tr>\n",
       "      <th>17</th>\n",
       "      <td>What role do social media companies play in pr...</td>\n",
       "      <td>Social media companies play a role in protecti...</td>\n",
       "      <td>Social media companies play a crucial role in ...</td>\n",
       "      <td>[Companies, including social media companies, ...</td>\n",
       "      <td>1.0</td>\n",
       "      <td>0.777778</td>\n",
       "      <td>0.966062</td>\n",
       "      <td>1.0</td>\n",
       "      <td>0.090909</td>\n",
       "    </tr>\n",
       "    <tr>\n",
       "      <th>18</th>\n",
       "      <td>What labor abuses were documented by Amnesty I...</td>\n",
       "      <td>Amnesty International documented labor abuses ...</td>\n",
       "      <td>Amnesty International has documented several l...</td>\n",
       "      <td>[During the tournament, Amnesty International ...</td>\n",
       "      <td>1.0</td>\n",
       "      <td>1.000000</td>\n",
       "      <td>0.942426</td>\n",
       "      <td>1.0</td>\n",
       "      <td>0.558140</td>\n",
       "    </tr>\n",
       "    <tr>\n",
       "      <th>19</th>\n",
       "      <td>When did the government of Qatar start repeali...</td>\n",
       "      <td>The government of Qatar started repealing rest...</td>\n",
       "      <td>The government of Qatar started repealing rest...</td>\n",
       "      <td>[Between 2018 and 2020, the government took im...</td>\n",
       "      <td>1.0</td>\n",
       "      <td>0.000000</td>\n",
       "      <td>1.000000</td>\n",
       "      <td>1.0</td>\n",
       "      <td>0.000000</td>\n",
       "    </tr>\n",
       "  </tbody>\n",
       "</table>\n",
       "</div>"
      ],
      "text/plain": [
       "                                             question  \\\n",
       "0   What are the global implications of the USA Su...   \n",
       "1   Which companies are the main contributors to G...   \n",
       "2   Which private companies in the Americas are th...   \n",
       "3   What action did Amnesty International urge its...   \n",
       "4   What are the recommendations made by Amnesty I...   \n",
       "5   Who are the target audience of the two books c...   \n",
       "6   Which right guarantees access to comprehensive...   \n",
       "7   Who has the right to be fully informed about h...   \n",
       "8   When can individuals be found guilty under Art...   \n",
       "9   When does the prosecution consider statements ...   \n",
       "10  What factors have contributed to the decline o...   \n",
       "11  What conditions designate wetlands as Ramsar s...   \n",
       "12                      Where was COP15 held in 2022?   \n",
       "13  What is the purpose of the agreement known as ...   \n",
       "14  Who failed to explicitly recognize Indigenous ...   \n",
       "15  What are the consequences of criminalizing abo...   \n",
       "16  What responsibilities should social media comp...   \n",
       "17  What role do social media companies play in pr...   \n",
       "18  What labor abuses were documented by Amnesty I...   \n",
       "19  When did the government of Qatar start repeali...   \n",
       "\n",
       "                                         ground_truth  \\\n",
       "0   The global implications of the USA Supreme Cou...   \n",
       "1   According to the Carbon Majors database, the m...   \n",
       "2   The largest private companies in the Americas ...   \n",
       "3   Amnesty International urged its supporters to ...   \n",
       "4   The recommendations made by Amnesty Internatio...   \n",
       "5   The target audience of the two books created b...   \n",
       "6   The right that guarantees access to comprehens...   \n",
       "7   The victims of gross human rights violations a...   \n",
       "8   Individuals can be found guilty under Article ...   \n",
       "9   The prosecution considers statements contrary ...   \n",
       "10  The factors that have contributed to the decli...   \n",
       "11  The conditions that designate wetlands as Rams...   \n",
       "12        COP15 was held in Montreal, Canada in 2022.   \n",
       "13  The purpose of the agreement known as 30x30 is...   \n",
       "14  The States failed to explicitly recognize Indi...   \n",
       "15  The consequences of criminalizing abortion for...   \n",
       "16  Social media companies should have the respons...   \n",
       "17  Social media companies play a role in protecti...   \n",
       "18  Amnesty International documented labor abuses ...   \n",
       "19  The government of Qatar started repealing rest...   \n",
       "\n",
       "                                               answer  \\\n",
       "0   The global implications of the USA Supreme Cou...   \n",
       "1   According to the Carbon Majors database, the m...   \n",
       "2   According to the Carbon Majors database, the l...   \n",
       "3   Amnesty International urged its supporters to ...   \n",
       "4   Amnesty International made several recommendat...   \n",
       "5   The target audience of the two books created b...   \n",
       "6   The right that guarantees access to comprehens...   \n",
       "7   Everyone has the right to be fully informed ab...   \n",
       "8   Under Article 207.3 of the Russian Criminal Co...   \n",
       "9   Under Article 207.3 of the Russian Criminal Co...   \n",
       "10  There are several factors that have contribute...   \n",
       "11  Wetlands are designated as Ramsar sites based ...   \n",
       "12          COP15 was held in Kunming, China in 2022.   \n",
       "13  The purpose of the agreement known as 30x30 is...   \n",
       "14  At COP15, the United Nations Climate Change Co...   \n",
       "15  Criminalizing abortion can have severe consequ...   \n",
       "16  Social media companies have a responsibility t...   \n",
       "17  Social media companies play a crucial role in ...   \n",
       "18  Amnesty International has documented several l...   \n",
       "19  The government of Qatar started repealing rest...   \n",
       "\n",
       "                                             contexts  context_precision  \\\n",
       "0   [- In 2022, the USA Supreme Court handed down ...                1.0   \n",
       "1   [- Fossil fuel companies, whether state or pri...                1.0   \n",
       "2   [The private companies responsible for the mos...                1.0   \n",
       "3   [Amnesty International called on its vast netw...                1.0   \n",
       "4   [Amnesty International recommends that the Spe...                1.0   \n",
       "5   [Amnesty International has therefore created t...                1.0   \n",
       "6   [26. The Act raises serious questions about it...                1.0   \n",
       "7   [- The victims of gross human rights violation...                1.0   \n",
       "8   [- As long as their statements are contrary to...                1.0   \n",
       "9   [- As long as their statements are contrary to...                1.0   \n",
       "10  [- \"arrests and harassment of human rights def...                1.0   \n",
       "11  [- \"Ramsar sites are designated when they fulf...                1.0   \n",
       "12  [- These include the agreement known as 30x30,...                1.0   \n",
       "13  [- These include the agreement known as 30x30,...                1.0   \n",
       "14  [Unfortunately, at COP15, States failed to exp...                1.0   \n",
       "15  [- Abortion criminalization contributes to sti...                1.0   \n",
       "16  [Social media companies involved in facilitati...                1.0   \n",
       "17  [Companies, including social media companies, ...                1.0   \n",
       "18  [During the tournament, Amnesty International ...                1.0   \n",
       "19  [Between 2018 and 2020, the government took im...                1.0   \n",
       "\n",
       "    faithfulness  answer_relevancy  context_recall  answer_correctness  \n",
       "0            NaN          0.987989             1.0            0.333333  \n",
       "1       0.416667          0.959061             1.0            0.450000  \n",
       "2       1.000000          0.987002             1.0            0.461538  \n",
       "3       0.200000          0.932881             1.0            0.800000  \n",
       "4       0.100000          0.993736             1.0            0.333333  \n",
       "5       1.000000          0.999208             1.0            1.000000  \n",
       "6       1.000000          0.972157             1.0            1.000000  \n",
       "7       1.000000          0.972391             1.0            0.666667  \n",
       "8       0.000000          0.907087             1.0            0.000000  \n",
       "9       1.000000          0.929678             1.0            0.500000  \n",
       "10      1.000000          1.000000             1.0            0.476190  \n",
       "11      1.000000          0.982853             1.0            0.200000  \n",
       "12      0.000000          1.000000             1.0            0.000000  \n",
       "13      1.000000          0.999999             1.0            0.857143  \n",
       "14           NaN          0.933016             1.0            0.400000  \n",
       "15      1.000000          0.961019             1.0            0.821429  \n",
       "16      1.000000          0.996258             1.0            0.500000  \n",
       "17      0.777778          0.966062             1.0            0.090909  \n",
       "18      1.000000          0.942426             1.0            0.558140  \n",
       "19      0.000000          1.000000             1.0            0.000000  "
      ]
     },
     "execution_count": 33,
     "metadata": {},
     "output_type": "execute_result"
    }
   ],
   "source": [
    "df"
   ]
  },
  {
   "cell_type": "code",
   "execution_count": 34,
   "id": "5350ce47-c929-4f35-9dfc-ed71c8e83c1d",
   "metadata": {},
   "outputs": [
    {
     "data": {
      "text/plain": [
       "array(['When did the government of Qatar start repealing restrictions on migrant workers?',\n",
       "       'The government of Qatar started repealing restrictions on migrant workers between 2018 and 2020.',\n",
       "       'The government of Qatar started repealing restrictions on migrant workers in 2017.',\n",
       "       array([\"Between 2018 and 2020, the government took important steps towards tackling two central pillars of this system by repealing for most migrant workers the requirement to obtain from their employer an 'exit permit’ to leave the country, and a ‘no -objection certificate’ (NOC) to change jobs.\\nOther barriers to workers changing jobs freely have emerged over the last few years, limiting the impact of the reforms and maintaining the status quo.\\nThese include the unwritten – but often spoken – need for workers to secure “release papers”, a resignation letter, or any equivalent of an NOC, from their current employers in order to successfully move jobs.\"],\n",
       "             dtype=object)                                                                                                                                                                                                                                                                                                                                                                                                                                                                                                                                                                                                                                                                     ,\n",
       "       0.9999999999, 0.0, 1.0000000000000004, 1.0, 0.0], dtype=object)"
      ]
     },
     "execution_count": 34,
     "metadata": {},
     "output_type": "execute_result"
    }
   ],
   "source": [
    "df.loc[19].values"
   ]
  },
  {
   "cell_type": "code",
   "execution_count": 30,
   "id": "5dd5bbc3-dc30-4a9f-8116-c675fb38447b",
   "metadata": {},
   "outputs": [
    {
     "data": {
      "text/plain": [
       "[1.0, 0]"
      ]
     },
     "execution_count": 30,
     "metadata": {},
     "output_type": "execute_result"
    }
   ],
   "source": [
    "answer_correctness.weights"
   ]
  },
  {
   "cell_type": "code",
   "execution_count": null,
   "id": "74c58d90-39fb-4fd9-9967-a771fff5c7dd",
   "metadata": {},
   "outputs": [],
   "source": []
  }
 ],
 "metadata": {
  "kernelspec": {
   "display_name": "vsa",
   "language": "python",
   "name": "vsa"
  },
  "language_info": {
   "codemirror_mode": {
    "name": "ipython",
    "version": 3
   },
   "file_extension": ".py",
   "mimetype": "text/x-python",
   "name": "python",
   "nbconvert_exporter": "python",
   "pygments_lexer": "ipython3",
   "version": "3.10.13"
  }
 },
 "nbformat": 4,
 "nbformat_minor": 5
}
