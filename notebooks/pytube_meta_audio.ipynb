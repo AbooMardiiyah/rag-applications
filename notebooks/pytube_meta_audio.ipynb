{
 "cells": [
  {
   "cell_type": "code",
   "execution_count": 1,
   "id": "89bc8a48-ce4c-4c16-a6f8-3b4c3251e11d",
   "metadata": {},
   "outputs": [],
   "source": [
    "from pytube import YouTube, Playlist, extract\n",
    "from bs4 import BeautifulSoup\n",
    "import pandas as pd\n",
    "import requests\n",
    "import json\n",
    "from preprocessing import Utilities\n",
    "from tqdm.notebook import tqdm\n",
    "import os"
   ]
  },
  {
   "cell_type": "code",
   "execution_count": 2,
   "id": "4e90dd3a-d747-4d2c-b23a-93f417953157",
   "metadata": {},
   "outputs": [],
   "source": [
    "ji = 'https://www.youtube.com/playlist?list=PLrFazGK5nFPwlVrpZkJMJa6wYDWgOg2xe'\n",
    "huberman = 'https://www.youtube.com/playlist?list=PLPNW_gerXa4Pc8S2qoUQc5e8Ir97RLuVW'"
   ]
  },
  {
   "cell_type": "code",
   "execution_count": 3,
   "id": "a6f61806-d344-4457-af7e-b6e465da03f8",
   "metadata": {},
   "outputs": [],
   "source": [
    "playlist = Playlist(url=huberman)"
   ]
  },
  {
   "cell_type": "code",
   "execution_count": 4,
   "id": "fb632d3e-6aca-4257-81f1-dcb1ecc8c305",
   "metadata": {},
   "outputs": [
    {
     "data": {
      "text/plain": [
       "'https://www.youtube.com/watch?v=GpgqXCkRO-w'"
      ]
     },
     "execution_count": 4,
     "metadata": {},
     "output_type": "execute_result"
    }
   ],
   "source": [
    "playlist[0]"
   ]
  },
  {
   "cell_type": "code",
   "execution_count": 5,
   "id": "6966db9e-7ac1-402d-bd8d-7716a7655e34",
   "metadata": {},
   "outputs": [],
   "source": [
    "huberman_dir = './data/videos/huberman/'"
   ]
  },
  {
   "cell_type": "code",
   "execution_count": 87,
   "id": "fd4b99f9-8c17-4aea-9e89-4f3ed502810e",
   "metadata": {},
   "outputs": [],
   "source": [
    "def download_audio(video_url: str, out_dir: str):\n",
    "  \"\"\"Download youtube video and return videoDetails\"\"\"\n",
    "  if not os.path.exists(out_dir):\n",
    "      os.makedirs(out_dir)\n",
    "  yt = YouTube(video_url)\n",
    "  (yt.streams\n",
    "    .filter(only_audio=True, file_extension = \"mp4\")\n",
    "    .desc()\n",
    "    .first()\n",
    "    .download(filename = f\"{os.path.join(out_dir, yt.video_id)}.mp4\"))\n",
    "  metadata = yt.vid_info['videoDetails']\n",
    "  metadata['show_url'] = video_url\n",
    "  return metadata"
   ]
  },
  {
   "cell_type": "code",
   "execution_count": 90,
   "id": "dfab01f0-2ac8-47a5-be41-d7550d68470a",
   "metadata": {},
   "outputs": [],
   "source": [
    "info = download_audio(playlist[0], huberman_dir)"
   ]
  },
  {
   "cell_type": "code",
   "execution_count": 95,
   "id": "6a81c27c-1b7e-4bab-9b6c-f76d80296399",
   "metadata": {},
   "outputs": [],
   "source": [
    "meta_list= []\n",
    "\n",
    "for num in range(3):\n",
    "    meta = download_audio(playlist[num], out_dir=huberman_dir)\n",
    "    meta_list.append(meta)"
   ]
  },
  {
   "cell_type": "code",
   "execution_count": 97,
   "id": "1347e5ed-6e6c-4668-887f-123eb55e742b",
   "metadata": {},
   "outputs": [],
   "source": [
    "with open('./data/huberman_meta.json', 'w') as f:\n",
    "    json.dump(meta_list, f)"
   ]
  }
 ],
 "metadata": {
  "kernelspec": {
   "display_name": "openai",
   "language": "python",
   "name": "openai"
  },
  "language_info": {
   "codemirror_mode": {
    "name": "ipython",
    "version": 3
   },
   "file_extension": ".py",
   "mimetype": "text/x-python",
   "name": "python",
   "nbconvert_exporter": "python",
   "pygments_lexer": "ipython3",
   "version": "3.10.13"
  }
 },
 "nbformat": 4,
 "nbformat_minor": 5
}
