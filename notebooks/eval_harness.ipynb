{
 "cells": [
  {
   "cell_type": "code",
   "execution_count": 1,
   "id": "00d7caf1-454d-4df6-a561-8169397fe6c5",
   "metadata": {},
   "outputs": [
    {
     "name": "stdout",
     "output_type": "stream",
     "text": [
      "The autoreload extension is already loaded. To reload it, use:\n",
      "  %reload_ext autoreload\n"
     ]
    }
   ],
   "source": [
    "%load_ext autoreload \n",
    "%autoreload 2\n",
    "\n",
    "import sys\n",
    "sys.path.append('../')\n",
    "\n",
    "from dotenv import load_dotenv, find_dotenv\n",
    "_ = load_dotenv(find_dotenv(), override=True)"
   ]
  },
  {
   "cell_type": "code",
   "execution_count": 3,
   "id": "d44c3272-54d4-4b6e-be25-1f8f76ac7034",
   "metadata": {},
   "outputs": [],
   "source": [
    "from deepeval.metrics import FaithfulnessMetric\n",
    "from deepeval.test_case import LLMTestCase\n",
    "from deepeval import evaluate\n",
    "from evaluation.custom_eval_models import (CustomAzureOpenAI, AnswerCorrectnessMetric, \n",
    "                                            EvalResponse, TestCaseBundle)\n",
    "from src.database.weaviate_interface_v4 import WeaviateWCS\n",
    "from src.database.database_utils import get_weaviate_client\n",
    "from src.preprocessor.preprocessing import FileIO\n",
    "from src.reranker import ReRanker\n",
    "from src.llm.prompt_templates import context_block\n",
    "from src.llm.llm_interface import LLM\n",
    "from src.llm.llm_utils import load_azure_openai\n",
    "from src.llm.prompt_templates import huberman_system_message, question_answering_prompt_series\n",
    "from app_features import generate_prompt_series\n",
    "\n",
    "from random import sample\n",
    "from tqdm import tqdm\n",
    "import asyncio\n",
    "import nest_asyncio\n",
    "nest_asyncio.apply()"
   ]
  },
  {
   "cell_type": "markdown",
   "id": "0cda2020-5a6b-4514-86a6-880afa9cd8b4",
   "metadata": {},
   "source": [
    "### Load Data"
   ]
  },
  {
   "cell_type": "code",
   "execution_count": 4,
   "id": "131066a0-9471-4199-a683-954fd4a773f6",
   "metadata": {},
   "outputs": [],
   "source": [
    "data_path = '../data/golden_datasets/golden_256.json'\n",
    "data = FileIO().load_json(data_path)\n",
    "queries = list(data['queries'].values())\n",
    "\n",
    "#get random set of questions for eavl\n",
    "random_questions = sample(queries, k=25)\n",
    "assert len(random_questions) == len(set(random_questions))"
   ]
  },
  {
   "cell_type": "markdown",
   "id": "e8ef34f1-e110-40ea-8789-b77859f5ea1c",
   "metadata": {},
   "source": [
    "### Set System Components"
   ]
  },
  {
   "cell_type": "code",
   "execution_count": 5,
   "id": "bc46f6f8-4413-40f5-934d-a7564a64b422",
   "metadata": {},
   "outputs": [
    {
     "name": "stderr",
     "output_type": "stream",
     "text": [
      "/anaconda/envs/openai/lib/python3.10/site-packages/torch/_utils.py:776: UserWarning: TypedStorage is deprecated. It will be removed in the future and UntypedStorage will be the only storage class. This should only matter to you if you are using storages directly.  To access UntypedStorage directly, use tensor.untyped_storage() instead of tensor.storage()\n",
      "  return self.fget.__get__(instance, owner)()\n"
     ]
    }
   ],
   "source": [
    "client = get_weaviate_client()\n",
    "collection_name = 'Huberman_minilm_256'\n",
    "reranker= ReRanker()\n",
    "llm = load_azure_openai()"
   ]
  },
  {
   "cell_type": "markdown",
   "id": "ac21e181-8d66-4351-99cd-d50bc62ea2e2",
   "metadata": {},
   "source": [
    "### Create Retrieval Contexts"
   ]
  },
  {
   "cell_type": "code",
   "execution_count": 6,
   "id": "d0f2c45d-029a-41a9-9a38-3757fa035b91",
   "metadata": {},
   "outputs": [],
   "source": [
    "def create_context_blocks(results: list[dict],\n",
    "                          summary_key: str='summary',\n",
    "                          guest_key: str='guest',\n",
    "                          content_key: str='content'):\n",
    "    context_series = [context_block.format(summary=res[summary_key],\n",
    "                                          guest=res[guest_key],\n",
    "                                          transcript=res[content_key]) \n",
    "                      for res in results]\n",
    "    return context_series"
   ]
  },
  {
   "cell_type": "markdown",
   "id": "a6b6ba4a-899b-4676-817a-17395664ab6c",
   "metadata": {},
   "source": [
    "### Set Eval Model and Metrics"
   ]
  },
  {
   "cell_type": "code",
   "execution_count": 7,
   "id": "fbc5bb67-fd2c-4530-9ba1-109023fac080",
   "metadata": {},
   "outputs": [],
   "source": [
    "azure_eval_model = CustomAzureOpenAI('gpt-4')\n",
    "acm = AnswerCorrectnessMetric(model=azure_eval_model, strict=False).get_metric()\n",
    "# metrics = [AnswerCorrectnessMetric(model=azure_eval_model, strict=False).get_metric(), FaithfulnessMetric(threshold=0.7, model=azure_eval_model)]"
   ]
  },
  {
   "cell_type": "markdown",
   "id": "ddc7fc61-cca4-4a55-ab4d-836f634444c4",
   "metadata": {},
   "source": [
    "### Create Test Case(s)"
   ]
  },
  {
   "cell_type": "code",
   "execution_count": 14,
   "id": "bc4d1ffe-b3f7-4e2e-a63d-3900276a64cb",
   "metadata": {},
   "outputs": [],
   "source": [
    "def system_evaluation(queries: list[str],\n",
    "                      client: WeaviateWCS,\n",
    "                      collection_name: str,\n",
    "                      llm: LLM,\n",
    "                      metric: AnswerCorrectnessMetric\n",
    "                      ) -> list[dict]:\n",
    "    '''\n",
    "    LLM Evaluation harness that given a list of queries does the following:\n",
    "       1. Retrieves relevant context and reranks\n",
    "       2. Generates evaluated LLM actual output\n",
    "       3. Creates retrieval context for test case\n",
    "       4. Creates a text case on the fly\n",
    "       5. Given a metric execute metric evaluation\n",
    "       6. Returns list of metric evaluations\n",
    "    '''\n",
    "\n",
    "    eval_results = []\n",
    "    for query in tqdm(queries):\n",
    "        try:\n",
    "            result = client.hybrid_search(query, collection_name, limit=200)\n",
    "            reranked = reranker.rerank(result, query, top_k=3)\n",
    "            user_message = generate_prompt_series(query, reranked)\n",
    "            actual_output = llm.chat_completion(huberman_system_message, user_message, temperature=1.0)\n",
    "            retrieval_context = create_context_blocks(reranked)\n",
    "            test_case = LLMTestCase(input=input, actual_output=actual_output, retrieval_context=retrieval_context)\n",
    "            metric.measure(test_case)\n",
    "            response = EvalResponse(metric=metric.name,\n",
    "                                    model=azure_eval_model.model,\n",
    "                                    input=test_case.input,\n",
    "                                    actual_output=test_case.actual_output,\n",
    "                                    retrieval_context=test_case.retrieval_context,\n",
    "                                    score=metric.score,\n",
    "                                    reason=metric.reason)\n",
    "            eval_results.append(response)\n",
    "        except Exception as e:\n",
    "            print(e)\n",
    "            continue\n",
    "    return eval_results"
   ]
  },
  {
   "cell_type": "code",
   "execution_count": 114,
   "id": "ded51a28-a5d6-42a4-8545-774ecd77211f",
   "metadata": {},
   "outputs": [],
   "source": [
    "# %%time\n",
    "# eval_results = system_evaluation(random_questions[:3], client, collection_name, llm, acm)"
   ]
  },
  {
   "cell_type": "code",
   "execution_count": 8,
   "id": "02563862-1e64-45f2-a980-663a6b08265f",
   "metadata": {},
   "outputs": [],
   "source": [
    "def create_test_cases(queries: list[str],\n",
    "                      client: WeaviateWCS,\n",
    "                      collection_name: str,\n",
    "                      llm: LLM,\n",
    "                      ) -> list[LLMTestCase]:\n",
    "    '''\n",
    "    Creates a list of LLM Test Cases and returns test cases along with all \n",
    "    associated context data i.e. inputs, actual_outputs, retrieval_contexts\n",
    "    '''\n",
    "    results = [client.hybrid_search(query, collection_name, limit=200) for query in tqdm(queries, 'QUERIES')]\n",
    "    reranked = [reranker.rerank(result, queries[i], top_k=3) for i, result in enumerate(tqdm(results, 'RERANKING'))]\n",
    "    user_messages = [generate_prompt_series(queries[i], rerank) for i, rerank in enumerate(reranked)]\n",
    "    actual_outputs = [llm.chat_completion(huberman_system_message, user_message, temperature=1.0) for\n",
    "                      user_message in tqdm(user_messages, 'LLM Calls')]\n",
    "    retrieval_contexts = [create_context_blocks(rerank) for rerank in reranked]\n",
    "    test_cases = [LLMTestCase(input=input, actual_output=output, retrieval_context=context) \\\n",
    "                  for input, output, context in list(zip(queries, actual_outputs, retrieval_contexts))]\n",
    "    return test_cases"
   ]
  },
  {
   "cell_type": "code",
   "execution_count": 9,
   "id": "87fe121b-195c-4ff6-83d1-49694baf14c4",
   "metadata": {},
   "outputs": [
    {
     "name": "stderr",
     "output_type": "stream",
     "text": [
      "QUERIES:   0%|                                                                                                                                                 | 0/25 [00:00<?, ?it/s]/anaconda/envs/openai/lib/python3.10/site-packages/torch/cuda/__init__.py:546: UserWarning: Can't initialize NVML\n",
      "  warnings.warn(\"Can't initialize NVML\")\n",
      "QUERIES: 100%|████████████████████████████████████████████████████████████████████████████████████████████████████████████████████████████████████████| 25/25 [00:05<00:00,  4.45it/s]\n",
      "RERANKING: 100%|██████████████████████████████████████████████████████████████████████████████████████████████████████████████████████████████████████| 25/25 [00:05<00:00,  4.62it/s]\n",
      "LLM Calls: 100%|██████████████████████████████████████████████████████████████████████████████████████████████████████████████████████████████████████| 25/25 [00:35<00:00,  1.42s/it]"
     ]
    },
    {
     "name": "stdout",
     "output_type": "stream",
     "text": [
      "CPU times: user 10.7 s, sys: 949 ms, total: 11.7 s\n",
      "Wall time: 46.4 s\n"
     ]
    },
    {
     "name": "stderr",
     "output_type": "stream",
     "text": [
      "\n"
     ]
    }
   ],
   "source": [
    "%%time\n",
    "questions = sample(queries, k=25)\n",
    "test_cases = create_test_cases(questions, client, collection_name, llm)"
   ]
  },
  {
   "cell_type": "code",
   "execution_count": 10,
   "id": "c9f953b0-083a-4026-a1b4-75d9ea7de765",
   "metadata": {},
   "outputs": [],
   "source": [
    "async def single_eval_call(metric: AnswerCorrectnessMetric,\n",
    "                           test_case: LLMTestCase\n",
    "                           ) -> EvalResponse:\n",
    "    await metric.a_measure(test_case)\n",
    "    response = EvalResponse(metric=metric.name,\n",
    "                            model=azure_eval_model.model,\n",
    "                            input=test_case.input,\n",
    "                            actual_output=test_case.actual_output,\n",
    "                            retrieval_context=test_case.retrieval_context,\n",
    "                            score=metric.score,\n",
    "                            reason=metric.reason)\n",
    "    return response"
   ]
  },
  {
   "cell_type": "code",
   "execution_count": 11,
   "id": "4a8a1275-2c41-405c-bf51-17646fcb68c8",
   "metadata": {},
   "outputs": [],
   "source": [
    "async def asystem_evaluation(metric: AnswerCorrectnessMetric,\n",
    "                             test_cases: list[LLMTestCase]\n",
    "                            ):\n",
    "    tasks = [single_eval_call(metric, case) for case in test_cases]\n",
    "    responses = await asyncio.gather(*tasks)\n",
    "    return responses"
   ]
  },
  {
   "cell_type": "code",
   "execution_count": 15,
   "id": "55f41085-ed36-4ff1-8caf-c11df3190beb",
   "metadata": {},
   "outputs": [
    {
     "data": {
      "application/vnd.jupyter.widget-view+json": {
       "model_id": "",
       "version_major": 2,
       "version_minor": 0
      },
      "text/plain": [
       "Output()"
      ]
     },
     "metadata": {},
     "output_type": "display_data"
    },
    {
     "data": {
      "application/vnd.jupyter.widget-view+json": {
       "model_id": "",
       "version_major": 2,
       "version_minor": 0
      },
      "text/plain": [
       "Output()"
      ]
     },
     "metadata": {},
     "output_type": "display_data"
    },
    {
     "data": {
      "application/vnd.jupyter.widget-view+json": {
       "model_id": "",
       "version_major": 2,
       "version_minor": 0
      },
      "text/plain": [
       "Output()"
      ]
     },
     "metadata": {},
     "output_type": "display_data"
    },
    {
     "data": {
      "application/vnd.jupyter.widget-view+json": {
       "model_id": "",
       "version_major": 2,
       "version_minor": 0
      },
      "text/plain": [
       "Output()"
      ]
     },
     "metadata": {},
     "output_type": "display_data"
    },
    {
     "data": {
      "application/vnd.jupyter.widget-view+json": {
       "model_id": "",
       "version_major": 2,
       "version_minor": 0
      },
      "text/plain": [
       "Output()"
      ]
     },
     "metadata": {},
     "output_type": "display_data"
    },
    {
     "data": {
      "application/vnd.jupyter.widget-view+json": {
       "model_id": "",
       "version_major": 2,
       "version_minor": 0
      },
      "text/plain": [
       "Output()"
      ]
     },
     "metadata": {},
     "output_type": "display_data"
    },
    {
     "data": {
      "application/vnd.jupyter.widget-view+json": {
       "model_id": "",
       "version_major": 2,
       "version_minor": 0
      },
      "text/plain": [
       "Output()"
      ]
     },
     "metadata": {},
     "output_type": "display_data"
    },
    {
     "data": {
      "application/vnd.jupyter.widget-view+json": {
       "model_id": "",
       "version_major": 2,
       "version_minor": 0
      },
      "text/plain": [
       "Output()"
      ]
     },
     "metadata": {},
     "output_type": "display_data"
    },
    {
     "data": {
      "application/vnd.jupyter.widget-view+json": {
       "model_id": "",
       "version_major": 2,
       "version_minor": 0
      },
      "text/plain": [
       "Output()"
      ]
     },
     "metadata": {},
     "output_type": "display_data"
    },
    {
     "data": {
      "application/vnd.jupyter.widget-view+json": {
       "model_id": "",
       "version_major": 2,
       "version_minor": 0
      },
      "text/plain": [
       "Output()"
      ]
     },
     "metadata": {},
     "output_type": "display_data"
    },
    {
     "data": {
      "application/vnd.jupyter.widget-view+json": {
       "model_id": "",
       "version_major": 2,
       "version_minor": 0
      },
      "text/plain": [
       "Output()"
      ]
     },
     "metadata": {},
     "output_type": "display_data"
    },
    {
     "data": {
      "application/vnd.jupyter.widget-view+json": {
       "model_id": "",
       "version_major": 2,
       "version_minor": 0
      },
      "text/plain": [
       "Output()"
      ]
     },
     "metadata": {},
     "output_type": "display_data"
    },
    {
     "data": {
      "application/vnd.jupyter.widget-view+json": {
       "model_id": "",
       "version_major": 2,
       "version_minor": 0
      },
      "text/plain": [
       "Output()"
      ]
     },
     "metadata": {},
     "output_type": "display_data"
    },
    {
     "data": {
      "application/vnd.jupyter.widget-view+json": {
       "model_id": "",
       "version_major": 2,
       "version_minor": 0
      },
      "text/plain": [
       "Output()"
      ]
     },
     "metadata": {},
     "output_type": "display_data"
    },
    {
     "data": {
      "application/vnd.jupyter.widget-view+json": {
       "model_id": "",
       "version_major": 2,
       "version_minor": 0
      },
      "text/plain": [
       "Output()"
      ]
     },
     "metadata": {},
     "output_type": "display_data"
    },
    {
     "data": {
      "application/vnd.jupyter.widget-view+json": {
       "model_id": "",
       "version_major": 2,
       "version_minor": 0
      },
      "text/plain": [
       "Output()"
      ]
     },
     "metadata": {},
     "output_type": "display_data"
    },
    {
     "data": {
      "application/vnd.jupyter.widget-view+json": {
       "model_id": "",
       "version_major": 2,
       "version_minor": 0
      },
      "text/plain": [
       "Output()"
      ]
     },
     "metadata": {},
     "output_type": "display_data"
    },
    {
     "data": {
      "text/html": [
       "<pre style=\"white-space:pre;overflow-x:auto;line-height:normal;font-family:Menlo,'DejaVu Sans Mono',consolas,'Courier New',monospace\"></pre>\n"
      ],
      "text/plain": []
     },
     "metadata": {},
     "output_type": "display_data"
    },
    {
     "data": {
      "text/html": [
       "<pre style=\"white-space:pre;overflow-x:auto;line-height:normal;font-family:Menlo,'DejaVu Sans Mono',consolas,'Courier New',monospace\">\n",
       "</pre>\n"
      ],
      "text/plain": [
       "\n"
      ]
     },
     "metadata": {},
     "output_type": "display_data"
    },
    {
     "data": {
      "text/html": [
       "<pre style=\"white-space:pre;overflow-x:auto;line-height:normal;font-family:Menlo,'DejaVu Sans Mono',consolas,'Courier New',monospace\"></pre>\n"
      ],
      "text/plain": []
     },
     "metadata": {},
     "output_type": "display_data"
    },
    {
     "data": {
      "text/html": [
       "<pre style=\"white-space:pre;overflow-x:auto;line-height:normal;font-family:Menlo,'DejaVu Sans Mono',consolas,'Courier New',monospace\">\n",
       "</pre>\n"
      ],
      "text/plain": [
       "\n"
      ]
     },
     "metadata": {},
     "output_type": "display_data"
    },
    {
     "data": {
      "text/html": [
       "<pre style=\"white-space:pre;overflow-x:auto;line-height:normal;font-family:Menlo,'DejaVu Sans Mono',consolas,'Courier New',monospace\"></pre>\n"
      ],
      "text/plain": []
     },
     "metadata": {},
     "output_type": "display_data"
    },
    {
     "data": {
      "text/html": [
       "<pre style=\"white-space:pre;overflow-x:auto;line-height:normal;font-family:Menlo,'DejaVu Sans Mono',consolas,'Courier New',monospace\">\n",
       "</pre>\n"
      ],
      "text/plain": [
       "\n"
      ]
     },
     "metadata": {},
     "output_type": "display_data"
    },
    {
     "data": {
      "text/html": [
       "<pre style=\"white-space:pre;overflow-x:auto;line-height:normal;font-family:Menlo,'DejaVu Sans Mono',consolas,'Courier New',monospace\"></pre>\n"
      ],
      "text/plain": []
     },
     "metadata": {},
     "output_type": "display_data"
    },
    {
     "data": {
      "text/html": [
       "<pre style=\"white-space:pre;overflow-x:auto;line-height:normal;font-family:Menlo,'DejaVu Sans Mono',consolas,'Courier New',monospace\">\n",
       "</pre>\n"
      ],
      "text/plain": [
       "\n"
      ]
     },
     "metadata": {},
     "output_type": "display_data"
    },
    {
     "data": {
      "text/html": [
       "<pre style=\"white-space:pre;overflow-x:auto;line-height:normal;font-family:Menlo,'DejaVu Sans Mono',consolas,'Courier New',monospace\"></pre>\n"
      ],
      "text/plain": []
     },
     "metadata": {},
     "output_type": "display_data"
    },
    {
     "data": {
      "text/html": [
       "<pre style=\"white-space:pre;overflow-x:auto;line-height:normal;font-family:Menlo,'DejaVu Sans Mono',consolas,'Courier New',monospace\">\n",
       "</pre>\n"
      ],
      "text/plain": [
       "\n"
      ]
     },
     "metadata": {},
     "output_type": "display_data"
    },
    {
     "data": {
      "text/html": [
       "<pre style=\"white-space:pre;overflow-x:auto;line-height:normal;font-family:Menlo,'DejaVu Sans Mono',consolas,'Courier New',monospace\">\n",
       "</pre>\n"
      ],
      "text/plain": [
       "\n"
      ]
     },
     "metadata": {},
     "output_type": "display_data"
    },
    {
     "data": {
      "text/html": [
       "<pre style=\"white-space:pre;overflow-x:auto;line-height:normal;font-family:Menlo,'DejaVu Sans Mono',consolas,'Courier New',monospace\">\n",
       "</pre>\n"
      ],
      "text/plain": [
       "\n"
      ]
     },
     "metadata": {},
     "output_type": "display_data"
    },
    {
     "data": {
      "text/html": [
       "<pre style=\"white-space:pre;overflow-x:auto;line-height:normal;font-family:Menlo,'DejaVu Sans Mono',consolas,'Courier New',monospace\"></pre>\n"
      ],
      "text/plain": []
     },
     "metadata": {},
     "output_type": "display_data"
    },
    {
     "data": {
      "text/html": [
       "<pre style=\"white-space:pre;overflow-x:auto;line-height:normal;font-family:Menlo,'DejaVu Sans Mono',consolas,'Courier New',monospace\">\n",
       "</pre>\n"
      ],
      "text/plain": [
       "\n"
      ]
     },
     "metadata": {},
     "output_type": "display_data"
    },
    {
     "data": {
      "text/html": [
       "<pre style=\"white-space:pre;overflow-x:auto;line-height:normal;font-family:Menlo,'DejaVu Sans Mono',consolas,'Courier New',monospace\"></pre>\n"
      ],
      "text/plain": []
     },
     "metadata": {},
     "output_type": "display_data"
    },
    {
     "data": {
      "text/html": [
       "<pre style=\"white-space:pre;overflow-x:auto;line-height:normal;font-family:Menlo,'DejaVu Sans Mono',consolas,'Courier New',monospace\">\n",
       "</pre>\n"
      ],
      "text/plain": [
       "\n"
      ]
     },
     "metadata": {},
     "output_type": "display_data"
    },
    {
     "data": {
      "text/html": [
       "<pre style=\"white-space:pre;overflow-x:auto;line-height:normal;font-family:Menlo,'DejaVu Sans Mono',consolas,'Courier New',monospace\"></pre>\n"
      ],
      "text/plain": []
     },
     "metadata": {},
     "output_type": "display_data"
    },
    {
     "data": {
      "text/html": [
       "<pre style=\"white-space:pre;overflow-x:auto;line-height:normal;font-family:Menlo,'DejaVu Sans Mono',consolas,'Courier New',monospace\">\n",
       "</pre>\n"
      ],
      "text/plain": [
       "\n"
      ]
     },
     "metadata": {},
     "output_type": "display_data"
    },
    {
     "data": {
      "text/html": [
       "<pre style=\"white-space:pre;overflow-x:auto;line-height:normal;font-family:Menlo,'DejaVu Sans Mono',consolas,'Courier New',monospace\"></pre>\n"
      ],
      "text/plain": []
     },
     "metadata": {},
     "output_type": "display_data"
    },
    {
     "data": {
      "text/html": [
       "<pre style=\"white-space:pre;overflow-x:auto;line-height:normal;font-family:Menlo,'DejaVu Sans Mono',consolas,'Courier New',monospace\">\n",
       "</pre>\n"
      ],
      "text/plain": [
       "\n"
      ]
     },
     "metadata": {},
     "output_type": "display_data"
    },
    {
     "data": {
      "text/html": [
       "<pre style=\"white-space:pre;overflow-x:auto;line-height:normal;font-family:Menlo,'DejaVu Sans Mono',consolas,'Courier New',monospace\">\n",
       "</pre>\n"
      ],
      "text/plain": [
       "\n"
      ]
     },
     "metadata": {},
     "output_type": "display_data"
    },
    {
     "data": {
      "text/html": [
       "<pre style=\"white-space:pre;overflow-x:auto;line-height:normal;font-family:Menlo,'DejaVu Sans Mono',consolas,'Courier New',monospace\"></pre>\n"
      ],
      "text/plain": []
     },
     "metadata": {},
     "output_type": "display_data"
    },
    {
     "data": {
      "text/html": [
       "<pre style=\"white-space:pre;overflow-x:auto;line-height:normal;font-family:Menlo,'DejaVu Sans Mono',consolas,'Courier New',monospace\">\n",
       "</pre>\n"
      ],
      "text/plain": [
       "\n"
      ]
     },
     "metadata": {},
     "output_type": "display_data"
    },
    {
     "data": {
      "text/html": [
       "<pre style=\"white-space:pre;overflow-x:auto;line-height:normal;font-family:Menlo,'DejaVu Sans Mono',consolas,'Courier New',monospace\"></pre>\n"
      ],
      "text/plain": []
     },
     "metadata": {},
     "output_type": "display_data"
    },
    {
     "data": {
      "text/html": [
       "<pre style=\"white-space:pre;overflow-x:auto;line-height:normal;font-family:Menlo,'DejaVu Sans Mono',consolas,'Courier New',monospace\">\n",
       "</pre>\n"
      ],
      "text/plain": [
       "\n"
      ]
     },
     "metadata": {},
     "output_type": "display_data"
    },
    {
     "name": "stdout",
     "output_type": "stream",
     "text": [
      "CPU times: user 23 s, sys: 3.06 s, total: 26.1 s\n",
      "Wall time: 44.3 s\n"
     ]
    }
   ],
   "source": [
    "%%time\n",
    "responses = asyncio.run(asystem_evaluation(acm, test_cases))"
   ]
  },
  {
   "cell_type": "code",
   "execution_count": 16,
   "id": "44f9d041-d51b-40ff-b3c0-4482dbb9b686",
   "metadata": {},
   "outputs": [
    {
     "data": {
      "text/plain": [
       "25"
      ]
     },
     "execution_count": 16,
     "metadata": {},
     "output_type": "execute_result"
    }
   ],
   "source": [
    "len(responses)"
   ]
  },
  {
   "cell_type": "code",
   "execution_count": 17,
   "id": "81a717b4-3f19-40c7-b526-bff359e5ce57",
   "metadata": {},
   "outputs": [],
   "source": [
    "scores = [r.score for r in responses]"
   ]
  },
  {
   "cell_type": "code",
   "execution_count": 18,
   "id": "98a44294-240c-4cee-9d6f-b5a140b67db5",
   "metadata": {},
   "outputs": [
    {
     "data": {
      "text/plain": [
       "0.784"
      ]
     },
     "execution_count": 18,
     "metadata": {},
     "output_type": "execute_result"
    }
   ],
   "source": [
    "sum([r.score for r in responses])/len(responses)"
   ]
  },
  {
   "cell_type": "code",
   "execution_count": 19,
   "id": "e408cdbf-cad3-464d-ae80-1a4cb4b3dea1",
   "metadata": {},
   "outputs": [],
   "source": [
    "reasons = [r.reason for r in responses]"
   ]
  },
  {
   "cell_type": "code",
   "execution_count": 22,
   "id": "9bdd6e8d-950a-4370-bc53-bc80a25797f4",
   "metadata": {},
   "outputs": [
    {
     "data": {
      "text/plain": [
       "\"The actual output provided discusses the melanocortin system's response to sunlight exposure on the skin and mentions effects such as tanning and potential impacts on mood and libido. However, the retrieval context primarily focuses on the discussion of different peptides and their effects on health, with only a brief overlapping mention of how the melanocortin system is stimulated by UV light. Significant parts of the actual output, such as the eye's role in signaling the hypothalamus and pituitary gland, as well as the specific stimuli of mood and libido, are not corroborated by the retrieval context provided. Crucial information from the retrieval context that should inform the answer is missing or ignored, such as the role of peptides like melanotan in mimicking melanocyte-stimulating hormone and their varying effects depending on receptor type. The actual output also fails to address the breadth and specificity of the retrieval context in terms of the peptides discussed, their purposes, and the safety considerations highlighted by Andrew Huberman. There is a mismatch between the retrieval context content and the actual output, indicating that the response does not reliably follow the established criteria for accurate and complete information.\""
      ]
     },
     "execution_count": 22,
     "metadata": {},
     "output_type": "execute_result"
    }
   ],
   "source": [
    "reasons[2]"
   ]
  },
  {
   "cell_type": "code",
   "execution_count": 25,
   "id": "dcac5254-b735-4584-af08-cc4e1d2a4c78",
   "metadata": {},
   "outputs": [
    {
     "data": {
      "text/plain": [
       "'The melanocortin system responds to sunlight on the skin by being stimulated. When sunlight, specifically ultraviolet B light, hits the skin, it triggers the melanocortin system. This stimulation begins with the eyes receiving the sunlight, which then signals the hypothalamus, and subsequently the pituitary gland. As a result, melanocyte-stimulating hormone is released into the bloodstream, leading to the pigmentation of the skin, commonly known as tanning. The melanocortin system also plays a role in various other physiological responses such as mood, libido, and even breeding behaviors in animals. Therefore, the melanocortin system is activated by sunlight exposure to the skin, leading to a cascade of physiological effects.'"
      ]
     },
     "execution_count": 25,
     "metadata": {},
     "output_type": "execute_result"
    }
   ],
   "source": [
    "responses[2].actual_output"
   ]
  },
  {
   "cell_type": "code",
   "execution_count": 26,
   "id": "7da109ef-1649-4163-bd3c-29d9222005ac",
   "metadata": {},
   "outputs": [
    {
     "data": {
      "text/plain": [
       "[\"\\nShow Summary: In this Huberman Lab podcast episode, Andrew Huberman discusses the benefits and risks of peptide therapeutics for physical and mental health. Peptides are small proteins made up of chains of amino acids, and they play various roles in the body. For tissue healing and repair, BPC-157 is a synthetic peptide that promotes angiogenesis and fibroblast migration. It can be used to accelerate the healing of injuries, but caution should be taken as it may promote tumor growth. Another peptide called thymosin beta-4 (TB-500) is also used for tissue rejuvenation and repair. It increases the growth of various cell types and stimulates the growth of new blood vessels to the injury site. However, like BPC-157, TB-500 may raise concerns regarding tumor growth. There are also peptides that stimulate the release of growth hormone, which can enhance metabolism and muscle growth. Category one peptides, such as sermorelin and tesamorelin, are FDA approved and function by mimicking the natural release of growth hormone in the body. They increase growth hormone and IGF-1, providing benefits such as fat loss and increased muscle growth. Category two peptides, like hexarelin and ipamorelin, stimulate growth hormone release by mimicking or stimulating the hormone ghrelin. However, they may also lead to increased hunger and anxiety. These peptides require careful consideration and should be used under the guidance of a physician. Huberman advises against purchasing peptides from dubious sources and emphasizes the importance of working with a board-certified physician to ensure safety and efficacy.\\nShow Guest: Andrew Huberman\\nTranscript: So the peptides, melanotan one, melanotan two, melanotan three, melanotan four, melanotan five, because there are five of them, are different peptides, that is peptides with different amino acid sequences, all of which mimic naturally occurring melanocyte-stimulating hormone, but that act preferentially on one set of melanocyte-stimulating hormone receptors or another in order to get different effects. So let's back up a little bit and talk about the melanocortin system, right? The melanocortin system is a system whereby viewing light or getting light on the skin, typically ultraviolet light of the ultraviolet B type. Okay, there's two different types of ultraviolet light, but basically sunlight is what the system evolved to respond to, shown to the eyes and or to the skin, stimulates the melanocortin system. It goes from the eyes to the hypothalamus, from the hypothalamus to the pituitary, and then the melanocyte-stimulating hormone is then released into the bloodstream, can travel to the melanocytes and cause pigmentation of the skin. This is what is responsible for tanning.\\n------------------------\\n\",\n",
       " \"\\nShow Summary: In this Huberman Lab podcast episode, Andrew Huberman discusses the benefits and risks of peptide therapeutics for physical and mental health. Peptides are small proteins made up of chains of amino acids, and they play various roles in the body. For tissue healing and repair, BPC-157 is a synthetic peptide that promotes angiogenesis and fibroblast migration. It can be used to accelerate the healing of injuries, but caution should be taken as it may promote tumor growth. Another peptide called thymosin beta-4 (TB-500) is also used for tissue rejuvenation and repair. It increases the growth of various cell types and stimulates the growth of new blood vessels to the injury site. However, like BPC-157, TB-500 may raise concerns regarding tumor growth. There are also peptides that stimulate the release of growth hormone, which can enhance metabolism and muscle growth. Category one peptides, such as sermorelin and tesamorelin, are FDA approved and function by mimicking the natural release of growth hormone in the body. They increase growth hormone and IGF-1, providing benefits such as fat loss and increased muscle growth. Category two peptides, like hexarelin and ipamorelin, stimulate growth hormone release by mimicking or stimulating the hormone ghrelin. However, they may also lead to increased hunger and anxiety. These peptides require careful consideration and should be used under the guidance of a physician. Huberman advises against purchasing peptides from dubious sources and emphasizes the importance of working with a board-certified physician to ensure safety and efficacy.\\nShow Guest: Andrew Huberman\\nTranscript: There's also a pathway whereby the light stimulates the melanocyte-stimulating hormone system, and in parallel, it stimulates the release of dopamine. Now, for any of you that have lived in a part of the world in which it's very, very dark with very short days in the winter and longer days and a lot of sunlight during the summer, you're probably familiar with the fact that when the sun comes out, people start feeling better. They have more energy, they're more motivated. A number of different systems related to mood and libido tend to increase. This is the consequence of sunlight activating the melanocorticoid system. And by the way, this system is very active in other animals as well, animals that are white or tend to be of pale color during the winter. Then as spring arrives, the sunlight stimulates this very same system and leads to darkening of the pelage. So their hair goes from white or gray to brown or even dark black or some combination of those. And in combination, dopamine is increased, libido is increased, and the animals start breeding in the spring and summer months.\\n------------------------\\n\",\n",
       " '\\nShow Summary: In \"Using Light (Sunlight, Blue Light & Red Light) to Optimize Health\" on the Huberman Lab podcast, Andrew Huberman discusses the powerful uses of light to optimize health. He explains that light can be translated into electrical signals, hormone signals, and changes in gene expression within cells. Huberman emphasizes that the use of light for health is not pseudoscience, as phototherapy has been supported by quality science for over a century. He discusses a study on red light therapy that showed brief exposures to red light early in the day could offset age-related vision loss. The exposure allowed cells in the eye to replenish their energy stores. Huberman also explains the physics of light, including the range of wavelengths and their ability to penetrate tissues. Different wavelengths of light are best absorbed by specific organelles within cells, which can impact their functioning. Additionally, Huberman describes how light is converted into biological signals by being absorbed by pigments in the eyes, skin, and other organs. He covers the role of melanocytes in the skin, which absorb ultraviolet light to trigger changes in pigmentation. The podcast also discusses the biological pathways involved in the regulation of circadian rhythms and explains the effects of melatonin on various bodily functions. Huberman discourages the use of melatonin supplementation and highlights the importance of proper light exposure in maintaining melatonin levels. He advises getting adequate sunlight exposure, using specific protocols for light therapy, and avoiding excessive artificial light exposure at night to protect melatonin production. Huberman also shares studies showing that UVB light exposure to the skin can increase testosterone and estrogen levels, enhance the perception of attractiveness, and increase the desire to mate in both humans and mice. UVB light exposure to the skin was found to activate the p53 pathway in keratinocytes, which was responsible for the hormonal changes observed. Another function of UVB light exposure to the skin and eyes was increased pain tolerance, mediated through the release of endogenous opioids in the peri-aqueductal gray area of the brain. Huberman recommends getting 20 to 30 minutes of sunlight exposure to the skin two to three times per week to activate these pathways and optimize health.\\nShow Guest: Andrew Huberman\\nTranscript: And it turns out that people who have darker skin actually need more vitamin D3 and or more sunlight exposure in order to activate that D3 pathway than do people with paler skin. And this should make sense to all of you, given what you now understand about melanocytes, that cell type that we discussed earlier, because melanocytes have pigment within them. And if you have darker skin, it means that you have more melanocytes or that you have melanocytes that are more efficient at creating pigment. And as a consequence, the light that lands on your skin will be absorbed by those melanocytes and less of it is able to impact the D3 pathway. Whereas if you have pale skin, more of the light that lands on your skin can trigger the synthesis and assist the actions of vitamin D3. Similarly, in this study, they found that people who had paler skin and or who originated from countries where they had less UVB light exposure across the year had greater, meaning more significant increases in testosterone overall than did people who already were getting a lot of UVB exposure. This led them to explore so-called seasonal changes in testosterone that occurred normally in the absence of any light exposure treatment.\\n------------------------\\n']"
      ]
     },
     "execution_count": 26,
     "metadata": {},
     "output_type": "execute_result"
    }
   ],
   "source": [
    "responses[2].retrieval_context"
   ]
  },
  {
   "cell_type": "code",
   "execution_count": null,
   "id": "ac4ff978-9325-4898-8394-c561ddc3d0ba",
   "metadata": {},
   "outputs": [],
   "source": []
  }
 ],
 "metadata": {
  "kernelspec": {
   "display_name": "openai",
   "language": "python",
   "name": "openai"
  },
  "language_info": {
   "codemirror_mode": {
    "name": "ipython",
    "version": 3
   },
   "file_extension": ".py",
   "mimetype": "text/x-python",
   "name": "python",
   "nbconvert_exporter": "python",
   "pygments_lexer": "ipython3",
   "version": "3.10.13"
  }
 },
 "nbformat": 4,
 "nbformat_minor": 5
}
