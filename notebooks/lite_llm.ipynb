{
 "cells": [
  {
   "cell_type": "code",
   "execution_count": 1,
   "id": "fa0483dc-785e-4286-9870-91567bc1ea14",
   "metadata": {},
   "outputs": [],
   "source": [
    "%load_ext autoreload\n",
    "%autoreload 2"
   ]
  },
  {
   "cell_type": "code",
   "execution_count": 106,
   "id": "caa8105b-32f0-4686-8df5-54542797602a",
   "metadata": {},
   "outputs": [],
   "source": [
    "import sys\n",
    "sys.path.append('../')\n",
    "\n",
    "from dotenv import load_dotenv\n",
    "envs = load_dotenv('../.env', override=True)\n",
    "\n",
    "from src.database.utils import get_weaviate_client\n",
    "from src.llm.llm_interface import LLM\n",
    "from src.llm.prompt_templates import huberman_system_prompt\n",
    "from app_features import generate_prompt_series, demo_gen_prompt_series\n",
    "import os\n",
    "import tiktoken"
   ]
  },
  {
   "cell_type": "markdown",
   "id": "c3103fa2-f5b8-4036-bfef-56994e1e1acb",
   "metadata": {},
   "source": [
    "### Set Constants\n",
    "---\n",
    "\n",
    "### Weaviate"
   ]
  },
  {
   "cell_type": "code",
   "execution_count": 111,
   "id": "e325cb21-c86c-4404-80d8-3b39af8ef9fd",
   "metadata": {},
   "outputs": [
    {
     "name": "stdout",
     "output_type": "stream",
     "text": [
      "Huberman_minilm_256\n"
     ]
    }
   ],
   "source": [
    "#get weaviate client\n",
    "\n",
    "weave_client = get_weaviate_client()\n",
    "collection_name = weave_client.show_all_collections()[0]\n",
    "print(collection_name)"
   ]
  },
  {
   "cell_type": "markdown",
   "id": "4ea2d106-0f96-42fb-a00d-a5a493b3d957",
   "metadata": {},
   "source": [
    "### LLM"
   ]
  },
  {
   "cell_type": "code",
   "execution_count": 116,
   "id": "ad60d040-3e93-41e6-b489-86529617fed3",
   "metadata": {},
   "outputs": [],
   "source": [
    "model_name = \"gpt-3.5-turbo-0125\"\n",
    "claude_model = \"claude-3-haiku-20240307\""
   ]
  },
  {
   "cell_type": "code",
   "execution_count": 117,
   "id": "7218f9fa-f07a-4875-b55f-248cb8e28ba4",
   "metadata": {},
   "outputs": [],
   "source": [
    "claude = LLM(model_name=claude_model, api_key=os.environ['ANTHROPIC_API_KEY'])\n",
    "turbo = LLM()"
   ]
  },
  {
   "cell_type": "code",
   "execution_count": 118,
   "id": "62da9dd4-ae16-4648-a9df-e041788b6918",
   "metadata": {},
   "outputs": [],
   "source": [
    "encoder = tiktoken.get_encoding('cl100k_base')"
   ]
  },
  {
   "cell_type": "markdown",
   "id": "135f4064-5fbf-4e88-adc2-40d9a8696cf8",
   "metadata": {},
   "source": [
    "### Retrieval"
   ]
  },
  {
   "cell_type": "code",
   "execution_count": 112,
   "id": "118b99e7-ebed-49be-bb16-aa32f6238663",
   "metadata": {},
   "outputs": [],
   "source": [
    "query = 'What is Dr. Cal Newport best known for'\n",
    "\n",
    "results = weave_client.hybrid_search(request=query,\n",
    "                                     collection_name=collection_name,\n",
    "                                     return_properties=['content', 'title', 'videoId']\n",
    "                                    )"
   ]
  },
  {
   "cell_type": "markdown",
   "id": "54fd3281-c3c9-4c62-a58b-9d6cff687136",
   "metadata": {},
   "source": [
    "### Prompt Engineering"
   ]
  },
  {
   "cell_type": "code",
   "execution_count": 113,
   "id": "a00be943-efa5-4ae5-a843-305580e54db5",
   "metadata": {},
   "outputs": [],
   "source": [
    "show_summary = '''\n",
    "In this episode, my guest is Dr. Cal Newport, Ph.D., a professor of computer science at Georgetown University and bestselling author of numerous books on focus and productivity and how to access the deepest possible layers of your cognitive abilities in order to do quality work and lead a more balanced life. We discuss how to avoid digital distraction, specific systems to best arrange and update your schedule, and how to curate your work and home environment. We discuss how to engage with smartphones and technology, the significant productivity cost of task-switching, and how to avoid and overcome burnout. This episode provides specific protocols for enhancing focus and productivity, time management, task prioritization, and improving work-life balance that ought to be useful for anyone, young or old, regardless of profession.\n",
    "'''.strip()\n",
    "guest = \"Dr. Cal Newport\""
   ]
  },
  {
   "cell_type": "code",
   "execution_count": 114,
   "id": "fcba9a1b-d11d-4c9a-9b52-558d79f9a92e",
   "metadata": {},
   "outputs": [],
   "source": [
    "assistant_message = demo_gen_prompt_series(query, results[:3], guest, show_summary)"
   ]
  },
  {
   "cell_type": "markdown",
   "id": "889a6d09-7e88-461a-82c3-448f90011d92",
   "metadata": {},
   "source": [
    "### LLM Call"
   ]
  },
  {
   "cell_type": "code",
   "execution_count": 123,
   "id": "44271ee1-99f6-428b-aa22-1059103c9027",
   "metadata": {},
   "outputs": [],
   "source": [
    "completion = turbo.get_chat_completion(system_message=huberman_system_prompt,\n",
    "                                       assistant_message=assistant_message,\n",
    "                                       temperature=1.0,\n",
    "                                       raw_response=False\n",
    "                                       )"
   ]
  },
  {
   "cell_type": "code",
   "execution_count": 125,
   "id": "8fea9cfb-cd2d-4a7e-9471-f8fbe3c57163",
   "metadata": {},
   "outputs": [
    {
     "data": {
      "text/plain": [
       "'Dr. Cal Newport is best known for his work on focus, productivity, and deep work. He has authored books such as \"Deep Work: Rules for Focus Success in a Distracted World\" which provide insights and strategies on how to access deep cognitive abilities, avoid distractions, and enhance productivity. Additionally, he is known for promoting techniques to limit digital distractions and optimize work environments for better cognitive performance.'"
      ]
     },
     "execution_count": 125,
     "metadata": {},
     "output_type": "execute_result"
    }
   ],
   "source": [
    "completion"
   ]
  },
  {
   "cell_type": "code",
   "execution_count": 132,
   "id": "e814ba56-980a-4f2b-b19b-9e70b1caed48",
   "metadata": {},
   "outputs": [],
   "source": [
    "anthro_completion = claude.get_chat_completion(system_message=huberman_system_prompt,\n",
    "                                               assistant_message=assistant_message,\n",
    "                                               temperature=1.0,\n",
    "                                               raw_response=False)"
   ]
  },
  {
   "cell_type": "code",
   "execution_count": 134,
   "id": "4a07243e-3144-4c37-88c3-dd64a6817d63",
   "metadata": {},
   "outputs": [
    {
     "data": {
      "text/html": [
       "<pre style=\"white-space:pre;overflow-x:auto;line-height:normal;font-family:Menlo,'DejaVu Sans Mono',consolas,'Courier New',monospace\">Based on the provided context, Dr. Cal Newport is best known for his work on focus, productivity, and how to access\n",
       "deeper cognitive abilities to do quality work and lead a more balanced life. The transcripts mention that he is the\n",
       "author of numerous bestselling books on these topics, including <span style=\"color: #008000; text-decoration-color: #008000\">\"Deep Work: Rules for Focused Success in a </span>\n",
       "<span style=\"color: #008000; text-decoration-color: #008000\">Distracted World\"</span>. The transcripts also highlight how his ideas and books have had a positive influence on the \n",
       "host's <span style=\"font-weight: bold\">(</span>Andrew Huberman's<span style=\"font-weight: bold\">)</span> work and life. Therefore, the key things Dr. Cal Newport is known for are his expertise \n",
       "and writings on focus, productivity, and accessing deeper cognitive states.\n",
       "</pre>\n"
      ],
      "text/plain": [
       "Based on the provided context, Dr. Cal Newport is best known for his work on focus, productivity, and how to access\n",
       "deeper cognitive abilities to do quality work and lead a more balanced life. The transcripts mention that he is the\n",
       "author of numerous bestselling books on these topics, including \u001b[32m\"Deep Work: Rules for Focused Success in a \u001b[0m\n",
       "\u001b[32mDistracted World\"\u001b[0m. The transcripts also highlight how his ideas and books have had a positive influence on the \n",
       "host's \u001b[1m(\u001b[0mAndrew Huberman's\u001b[1m)\u001b[0m work and life. Therefore, the key things Dr. Cal Newport is known for are his expertise \n",
       "and writings on focus, productivity, and accessing deeper cognitive states.\n"
      ]
     },
     "metadata": {},
     "output_type": "display_data"
    }
   ],
   "source": [
    "from rich import print\n",
    "print(anthro_completion.strip())"
   ]
  },
  {
   "cell_type": "code",
   "execution_count": 100,
   "id": "7ffb7c38-a79b-45d8-83be-ae1baa014fd3",
   "metadata": {},
   "outputs": [],
   "source": []
  },
  {
   "cell_type": "code",
   "execution_count": null,
   "id": "45d706d4-9331-4874-856a-93fa0addb6b8",
   "metadata": {},
   "outputs": [],
   "source": []
  },
  {
   "cell_type": "code",
   "execution_count": null,
   "id": "9d7fd112-67a6-4c23-bc53-db9dae1f61b8",
   "metadata": {},
   "outputs": [],
   "source": []
  },
  {
   "cell_type": "code",
   "execution_count": null,
   "id": "12273573-0c35-47cf-ba36-2f53afe63b74",
   "metadata": {},
   "outputs": [],
   "source": []
  },
  {
   "cell_type": "code",
   "execution_count": null,
   "id": "7c50d668-7dc7-4f0e-b20e-f09fedd42839",
   "metadata": {},
   "outputs": [],
   "source": []
  },
  {
   "cell_type": "code",
   "execution_count": 46,
   "id": "66897f6f-2cb5-4dea-8b54-5f51c9f6df05",
   "metadata": {},
   "outputs": [],
   "source": [
    "context1 = '''\n",
    "Another benefit of gRPC is its enhanced type safety, achieved through the explicit definition of data structures and types in protobufs. This approach significantly reduces common challenges encountered when working with GraphQL and JSON, such as ambiguity in data types and difficulties in ensuring readability.\n",
    "In the context of JSON and GraphQL, determining the correct data type for numbers (e.g., distinguishing between integers and floating-point numbers) or interpreting empty properties can be problematic. In Weaviate, this can lead to AutoSchema inferring inappropriate data types, potentially leading to data integrity issues.\n",
    "Moreover, parsing complex and deeply nested JSON responses, or crafting intricate GraphQL queries, can degrade the developer experience and elevate the risk of errors. This is also partly due to having to conform to the structure of the GraphQL schema. This has been a challenge for certain tasks, such as implementing GroupBy queries and responses in Weaviate.\n",
    "gRPC addresses these issues head-on by facilitating the customization of data structures for both requests and responses. Its reliance on strictly defined data types streamlines parsing processes and boosts reliability.\n",
    "'''\n",
    "\n",
    "context2 = '''\n",
    "Vectors are a great way to represent meaning. Vectors are arrays of elements that can capture meaning from different data types, such as texts, images, videos, and other content. The elements are called dimensions. High dimension vectors capture more information, but they are harder to work with.\n",
    "Vector databases make it easier to work with high dimensional vectors. Consider search; Vector databases efficiently measure semantic similarity between data objects. When you run a similarity search, a vector database like Weaviate uses a vectorized version of the query to find objects in the database that have vectors similar to the query vector.\n",
    "Vectors are like coordinates in a multi-dimensional space. A very simple vector might represent objects, words in this case, in a 2-dimensional space.\n",
    "In the graph below, the words Apple and Banana are shown close to each other. Newspaper and Magazine are also close to each other, but they are far away from Apple and Banana in the same vector space.\n",
    "Within each pair, the distance between words is small because the objects have similar vector representations. The distance between the pairs is larger because the difference between the vectors is larger. Intuitively, fruits are similar to each other, but fruits are not similar to reading material.\n",
    "'''"
   ]
  },
  {
   "cell_type": "code",
   "execution_count": 48,
   "id": "1acda5a8-2af8-4ec8-b9a3-ef32364047e6",
   "metadata": {},
   "outputs": [],
   "source": [
    "prompts = [context1, context2]\n",
    "messages = [{\"role\": \"system\", \"content\": \"You are a highly experienced data annotator.  Your job is to create two questions that can be answered from the provided context.\"},\n",
    "            {\"role\": \"assistant\", \"content\": context}]"
   ]
  },
  {
   "cell_type": "code",
   "execution_count": 49,
   "id": "b7c33819-6da0-4026-953d-500fd51a8312",
   "metadata": {},
   "outputs": [],
   "source": [
    "# cage = []\n",
    "# for chunk in completion(model='claude-3-haiku-20240307', messages=messages, temperature=1.0, stream=True):\n",
    "#     cage.append(chunk['choices'][0]['delta']['content'].strip())\n",
    "#     if any(cage):\n",
    "#         print(' '.join(cage))\n",
    "#         sleep(0.05)"
   ]
  },
  {
   "cell_type": "code",
   "execution_count": 56,
   "id": "c9af68ab-58ca-462e-9cc3-5ae0fb1748e7",
   "metadata": {},
   "outputs": [],
   "source": [
    "async def async_task(message: list[dict]):\n",
    "    response = await acompletion(model=\"gpt-3.5-turbo-1106\", messages=message, temperature=1.0)\n",
    "    return response"
   ]
  },
  {
   "cell_type": "code",
   "execution_count": 64,
   "id": "aaa73ef4-d58d-45d8-bd9f-3802a7b284c4",
   "metadata": {},
   "outputs": [
    {
     "name": "stdout",
     "output_type": "stream",
     "text": [
      "CPU times: user 5 µs, sys: 1 µs, total: 6 µs\n",
      "Wall time: 6.91 µs\n"
     ]
    }
   ],
   "source": [
    "%%time\n",
    "async def gather(prompts: list[str]):\n",
    "    tasks = []\n",
    "    for p in prompts:\n",
    "        messages = [{\"role\": \"system\", \"content\": \"You are a highly experienced data annotator.  Your job is to create two questions that can be answered from the provided context.\"},\n",
    "                    {\"role\": \"assistant\", \"content\": prompt.format(context=p)}]\n",
    "        tasks.append(async_task(messages))\n",
    "    asyncio.gather(*tasks)"
   ]
  },
  {
   "cell_type": "code",
   "execution_count": 65,
   "id": "8bb1ff5e-be9f-4dfc-9433-3e95c7e3400c",
   "metadata": {},
   "outputs": [
    {
     "name": "stdout",
     "output_type": "stream",
     "text": [
      "CPU times: user 328 µs, sys: 109 µs, total: 437 µs\n",
      "Wall time: 416 µs\n"
     ]
    }
   ],
   "source": [
    "%%time\n",
    "responses = asyncio.run(gather(prompts))"
   ]
  },
  {
   "cell_type": "code",
   "execution_count": 63,
   "id": "08509474-ba0b-4c53-bc1e-6ab466a8949a",
   "metadata": {},
   "outputs": [],
   "source": [
    "responses"
   ]
  },
  {
   "cell_type": "code",
   "execution_count": null,
   "id": "1f3ac28e-0773-400e-8192-74f7d471da6a",
   "metadata": {},
   "outputs": [],
   "source": []
  }
 ],
 "metadata": {
  "kernelspec": {
   "display_name": "vsa",
   "language": "python",
   "name": "vsa"
  },
  "language_info": {
   "codemirror_mode": {
    "name": "ipython",
    "version": 3
   },
   "file_extension": ".py",
   "mimetype": "text/x-python",
   "name": "python",
   "nbconvert_exporter": "python",
   "pygments_lexer": "ipython3",
   "version": "3.10.13"
  }
 },
 "nbformat": 4,
 "nbformat_minor": 5
}
