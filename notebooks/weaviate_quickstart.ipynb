{
 "cells": [
  {
   "cell_type": "code",
   "execution_count": 40,
   "id": "ce463dc1-6cca-48af-b179-ffc98f9a0a3b",
   "metadata": {},
   "outputs": [],
   "source": [
    "import sys\n",
    "sys.path.append('../')\n",
    "\n",
    "from dotenv import load_dotenv, find_dotenv\n",
    "_ = load_dotenv(find_dotenv(), override=True)\n",
    "\n",
    "from sentence_transformers import SentenceTransformer\n",
    "from src.database.database_utils import get_weaviate_client\n",
    "import requests\n",
    "import pandas as pd"
   ]
  },
  {
   "cell_type": "code",
   "execution_count": 6,
   "id": "1118473a-445f-441d-80af-588a9631c4b8",
   "metadata": {},
   "outputs": [],
   "source": [
    "client = get_weaviate_client()\n",
    "import weaviate.classes as wvc"
   ]
  },
  {
   "cell_type": "code",
   "execution_count": 7,
   "id": "dfbb4e10-6325-495e-9077-94e01b8cffb7",
   "metadata": {},
   "outputs": [
    {
     "data": {
      "text/plain": [
       "<weaviate.collections.collection.Collection at 0x7f1e9dbebee0>"
      ]
     },
     "execution_count": 7,
     "metadata": {},
     "output_type": "execute_result"
    }
   ],
   "source": [
    "client._client.collections.create(\n",
    "        \"Question\",\n",
    "        vectorizer_config=wvc.config.Configure.Vectorizer.none(),\n",
    "        vector_index_config=wvc.config.Configure.VectorIndex.hnsw(\n",
    "            distance_metric=wvc.config.VectorDistances.COSINE # select prefered distance metric\n",
    "        ),\n",
    "    )"
   ]
  },
  {
   "cell_type": "code",
   "execution_count": 8,
   "id": "c2121b54-f846-4b94-bee8-9a9682fcdc3f",
   "metadata": {},
   "outputs": [
    {
     "data": {
      "text/plain": [
       "True"
      ]
     },
     "execution_count": 8,
     "metadata": {},
     "output_type": "execute_result"
    }
   ],
   "source": [
    "client._client.is_live()"
   ]
  },
  {
   "cell_type": "code",
   "execution_count": 9,
   "id": "baf7f599-557d-4ee0-afbb-779cb9dd3081",
   "metadata": {},
   "outputs": [],
   "source": [
    "import json\n",
    "metainfo = client._client.get_meta()"
   ]
  },
  {
   "cell_type": "code",
   "execution_count": 39,
   "id": "d29e888e-2020-4e24-8851-2790942cd781",
   "metadata": {},
   "outputs": [],
   "source": [
    "from rich import print\n",
    "# print(json.dumps(metainfo, indent=4))"
   ]
  },
  {
   "cell_type": "code",
   "execution_count": 12,
   "id": "2f3cb3c0-c7d3-44b8-920d-5f012b58e01d",
   "metadata": {},
   "outputs": [],
   "source": [
    "client._client.close()"
   ]
  },
  {
   "cell_type": "code",
   "execution_count": 16,
   "id": "0e482ae3-0c0f-451b-b041-4b8dd079b886",
   "metadata": {},
   "outputs": [
    {
     "data": {
      "text/plain": [
       "<weaviate.collections.collection.Collection at 0x7f1e9d11b520>"
      ]
     },
     "execution_count": 16,
     "metadata": {},
     "output_type": "execute_result"
    }
   ],
   "source": [
    "import weaviate\n",
    "\n",
    "import weaviate.classes.config as wc\n",
    "import os\n",
    "\n",
    "\n",
    "# Instantiate your client (not shown). e.g.:\n",
    "# client = weaviate.connect_to_wcs(..., headers=headers) or\n",
    "# client = weaviate.connect_to_local(..., headers=headers)\n",
    "client._client.connect()\n",
    "client._client.collections.create(\n",
    "    name=\"Movies\",\n",
    "    properties=[\n",
    "        wc.Property(name=\"title\", data_type=wc.DataType.TEXT),\n",
    "        wc.Property(name=\"overview\", data_type=wc.DataType.TEXT),\n",
    "        wc.Property(name=\"vote_average\", data_type=wc.DataType.NUMBER),\n",
    "        wc.Property(name=\"genre_ids\", data_type=wc.DataType.INT_ARRAY),\n",
    "        wc.Property(name=\"release_date\", data_type=wc.DataType.DATE),\n",
    "        wc.Property(name=\"tmdb_id\", data_type=wc.DataType.INT),\n",
    "    ],\n",
    "    # Define the vectorizer module (none, as we will add our own vectors)\n",
    "    vectorizer_config=wc.Configure.Vectorizer.none(),\n",
    "    # Define the generative module\n",
    "    generative_config=wc.Configure.Generative.openai()\n",
    ")\n",
    "\n",
    "# client.close()"
   ]
  },
  {
   "cell_type": "code",
   "execution_count": 17,
   "id": "242cc1ac-6266-4515-96e1-676cde0c7c34",
   "metadata": {},
   "outputs": [],
   "source": [
    "client._client.close()"
   ]
  },
  {
   "cell_type": "code",
   "execution_count": 20,
   "id": "903a2b7e-61b9-4d54-b6f0-77bb77ee007c",
   "metadata": {},
   "outputs": [],
   "source": [
    "data_url = \"https://raw.githubusercontent.com/weaviate-tutorials/edu-datasets/main/movies_data_1990_2024.json\"\n",
    "resp = requests.get(data_url)\n",
    "df = pd.DataFrame(resp.json())"
   ]
  },
  {
   "cell_type": "code",
   "execution_count": 24,
   "id": "b487ae69-bb05-454d-95db-75b67627238c",
   "metadata": {},
   "outputs": [],
   "source": [
    "def query(texts):\n",
    "    import requests\n",
    "    import os\n",
    "\n",
    "    model_id = \"sentence-transformers/all-MiniLM-L6-v2\"\n",
    "    hf_token = os.getenv(\"HF_TOKEN\")\n",
    "\n",
    "    api_url = f\"https://api-inference.huggingface.co/pipeline/feature-extraction/{model_id}\"\n",
    "    headers = {\"Authorization\": f\"Bearer {hf_token}\"}\n",
    "\n",
    "    response = requests.post(\n",
    "        api_url,\n",
    "        headers=headers,\n",
    "        json={\"inputs\": texts, \"options\": {\"wait_for_model\": True}},\n",
    "    )\n",
    "    return response.json()"
   ]
  },
  {
   "cell_type": "code",
   "execution_count": 29,
   "id": "b26add0c-11f2-4366-9722-190c42262a30",
   "metadata": {},
   "outputs": [],
   "source": [
    "sample = df.overview.values.tolist()[:50]"
   ]
  },
  {
   "cell_type": "code",
   "execution_count": 41,
   "id": "40cf80f6-2d31-489b-a4e3-653f0f87b00a",
   "metadata": {},
   "outputs": [],
   "source": [
    "model_id = \"sentence-transformers/all-MiniLM-L6-v2\"\n",
    "model = SentenceTransformer(model_id)"
   ]
  },
  {
   "cell_type": "code",
   "execution_count": 43,
   "id": "a541ab89-399e-4806-a1bc-0317f35fd025",
   "metadata": {},
   "outputs": [
    {
     "name": "stderr",
     "output_type": "stream",
     "text": [
      "/anaconda/envs/openai/lib/python3.10/site-packages/ipywidgets/widgets/widget.py:528: DeprecationWarning: The `ipykernel.comm.Comm` class has been deprecated. Please use the `comm` module instead.For creating comms, use the function `from comm import create_comm`.\n",
      "  self.comm = Comm(**args)\n"
     ]
    },
    {
     "data": {
      "application/vnd.jupyter.widget-view+json": {
       "model_id": "b05597a42353411a8b89ee5b7924c6b3",
       "version_major": 2,
       "version_minor": 0
      },
      "text/plain": [
       "Batches:   0%|          | 0/2 [00:00<?, ?it/s]"
      ]
     },
     "metadata": {},
     "output_type": "display_data"
    },
    {
     "data": {
      "application/vnd.jupyter.widget-view+json": {
       "model_id": "ea34191ccfd149e387536ac4ab04bbd0",
       "version_major": 2,
       "version_minor": 0
      },
      "text/plain": [
       "Batches:   0%|          | 0/2 [00:00<?, ?it/s]"
      ]
     },
     "metadata": {},
     "output_type": "display_data"
    },
    {
     "data": {
      "application/vnd.jupyter.widget-view+json": {
       "model_id": "a9d0f1bbdebb48acace054f46e3ea71c",
       "version_major": 2,
       "version_minor": 0
      },
      "text/plain": [
       "Batches:   0%|          | 0/2 [00:00<?, ?it/s]"
      ]
     },
     "metadata": {},
     "output_type": "display_data"
    },
    {
     "data": {
      "application/vnd.jupyter.widget-view+json": {
       "model_id": "ddb6011a80904780b38d51c0c8dfa164",
       "version_major": 2,
       "version_minor": 0
      },
      "text/plain": [
       "Batches:   0%|          | 0/2 [00:00<?, ?it/s]"
      ]
     },
     "metadata": {},
     "output_type": "display_data"
    },
    {
     "data": {
      "application/vnd.jupyter.widget-view+json": {
       "model_id": "9c90d9627766496dbf29aaa672cf9f3d",
       "version_major": 2,
       "version_minor": 0
      },
      "text/plain": [
       "Batches:   0%|          | 0/2 [00:00<?, ?it/s]"
      ]
     },
     "metadata": {},
     "output_type": "display_data"
    },
    {
     "data": {
      "application/vnd.jupyter.widget-view+json": {
       "model_id": "b9216d752b144dc39f2f9d947f7725fd",
       "version_major": 2,
       "version_minor": 0
      },
      "text/plain": [
       "Batches:   0%|          | 0/2 [00:00<?, ?it/s]"
      ]
     },
     "metadata": {},
     "output_type": "display_data"
    },
    {
     "data": {
      "application/vnd.jupyter.widget-view+json": {
       "model_id": "8539005def7d436e9982efc939ccb6b5",
       "version_major": 2,
       "version_minor": 0
      },
      "text/plain": [
       "Batches:   0%|          | 0/2 [00:00<?, ?it/s]"
      ]
     },
     "metadata": {},
     "output_type": "display_data"
    },
    {
     "data": {
      "application/vnd.jupyter.widget-view+json": {
       "model_id": "54d1a0e7c021412ea32563e7be6f10f1",
       "version_major": 2,
       "version_minor": 0
      },
      "text/plain": [
       "Batches:   0%|          | 0/2 [00:00<?, ?it/s]"
      ]
     },
     "metadata": {},
     "output_type": "display_data"
    },
    {
     "data": {
      "application/vnd.jupyter.widget-view+json": {
       "model_id": "da385be3d52d47f9a8deef3ed66a7639",
       "version_major": 2,
       "version_minor": 0
      },
      "text/plain": [
       "Batches:   0%|          | 0/2 [00:00<?, ?it/s]"
      ]
     },
     "metadata": {},
     "output_type": "display_data"
    },
    {
     "data": {
      "application/vnd.jupyter.widget-view+json": {
       "model_id": "e8731e1f3eb94831bf68275e9d653336",
       "version_major": 2,
       "version_minor": 0
      },
      "text/plain": [
       "Batches:   0%|          | 0/2 [00:00<?, ?it/s]"
      ]
     },
     "metadata": {},
     "output_type": "display_data"
    },
    {
     "data": {
      "application/vnd.jupyter.widget-view+json": {
       "model_id": "9096667753024ccca88d8906b1ddae8a",
       "version_major": 2,
       "version_minor": 0
      },
      "text/plain": [
       "Batches:   0%|          | 0/2 [00:00<?, ?it/s]"
      ]
     },
     "metadata": {},
     "output_type": "display_data"
    },
    {
     "data": {
      "application/vnd.jupyter.widget-view+json": {
       "model_id": "d183aa99ba6744149d95f5e3008273c4",
       "version_major": 2,
       "version_minor": 0
      },
      "text/plain": [
       "Batches:   0%|          | 0/2 [00:00<?, ?it/s]"
      ]
     },
     "metadata": {},
     "output_type": "display_data"
    },
    {
     "data": {
      "application/vnd.jupyter.widget-view+json": {
       "model_id": "5ab82d258a06401884ca824ef3065de2",
       "version_major": 2,
       "version_minor": 0
      },
      "text/plain": [
       "Batches:   0%|          | 0/2 [00:00<?, ?it/s]"
      ]
     },
     "metadata": {},
     "output_type": "display_data"
    },
    {
     "data": {
      "application/vnd.jupyter.widget-view+json": {
       "model_id": "1b73ca1f340942c2b5f16d9bc0aa2ba7",
       "version_major": 2,
       "version_minor": 0
      },
      "text/plain": [
       "Batches:   0%|          | 0/1 [00:00<?, ?it/s]"
      ]
     },
     "metadata": {},
     "output_type": "display_data"
    }
   ],
   "source": [
    "emb_dfs = list()\n",
    "src_texts = list()\n",
    "for i, row in enumerate(df.itertuples(index=False)):\n",
    "    # Concatenate text to create a source string\n",
    "    src_text = \"Title: \" + row.title + \"; Overview: \" + row.overview\n",
    "    # Add to the buffer\n",
    "    src_texts.append(src_text)\n",
    "    if (len(src_texts) == 50) or (i + 1 == len(df)):  # Get embeddings in batches of 50\n",
    "        # Get a batch of embeddings\n",
    "        output = model.encode(src_texts, show_progress_bar=True).tolist()\n",
    "        emb_df = pd.DataFrame(output)\n",
    "        # Add the batch of embeddings to a list\n",
    "        emb_dfs.append(emb_df)\n",
    "        # Reset the buffer\n",
    "        src_texts = list()\n",
    "\n",
    "\n",
    "emb_df = pd.concat(emb_dfs)  # Create a combined dataset\n",
    "\n",
    "# Save the data as a CSV\n",
    "emb_df.to_csv(\n",
    "    f\"/tmp/movies_data_1990_2024_embeddings.csv\",\n",
    "    index=False,\n",
    ")"
   ]
  },
  {
   "cell_type": "code",
   "execution_count": 45,
   "id": "333ff99c-5f94-41bf-b319-42f645b2e5e9",
   "metadata": {},
   "outputs": [
    {
     "name": "stderr",
     "output_type": "stream",
     "text": [
      "/anaconda/envs/openai/lib/python3.10/site-packages/weaviate/warnings.py:219: UserWarning: Bat003: The dynamic batch-size could not be refreshed successfully with error RemoteProtocolError('Server disconnected without sending a response.')\n",
      "  warnings.warn(\n"
     ]
    }
   ],
   "source": [
    "import weaviate\n",
    "import pandas as pd\n",
    "import requests\n",
    "from datetime import datetime, timezone\n",
    "import json\n",
    "from weaviate.util import generate_uuid5\n",
    "from tqdm import tqdm\n",
    "import os\n",
    "\n",
    "# Instantiate your client (not shown). e.g.:\n",
    "# client = weaviate.connect_to_wcs(...) or\n",
    "# client = weaviate.connect_to_local(...)\n",
    "\n",
    "data_url = \"https://raw.githubusercontent.com/weaviate-tutorials/edu-datasets/main/movies_data_1990_2024.json\"\n",
    "data_resp = requests.get(data_url)\n",
    "df = pd.DataFrame(data_resp.json())\n",
    "\n",
    "# embs_url = \"https://raw.githubusercontent.com/weaviate-tutorials/edu-datasets/main/movies_data_1990_2024_embeddings.csv\"\n",
    "embs_path = \"/tmp/movies_data_1990_2024_embeddings.csv\"\n",
    "emb_df = pd.read_csv(embs_path)\n",
    "\n",
    "client._client.connect()\n",
    "# Get the collection\n",
    "movies = client._client.collections.get(\"Movies\")\n",
    "\n",
    "# Enter context manager\n",
    "with movies.batch.dynamic() as batch:\n",
    "    # Loop through the data\n",
    "    for i, movie in enumerate(df.itertuples(index=False)):\n",
    "        # Convert data types\n",
    "        # Convert a JSON date to `datetime` and add time zone information\n",
    "        release_date = datetime.strptime(movie.release_date, \"%Y-%m-%d\").replace(\n",
    "            tzinfo=timezone.utc\n",
    "        )\n",
    "        # Convert a JSON array to a list of integers\n",
    "        genre_ids = json.loads(movie.genre_ids)\n",
    "\n",
    "        # Build the object payload\n",
    "        movie_obj = {\n",
    "            \"title\": movie.title,\n",
    "            \"overview\": movie.overview,\n",
    "            \"vote_average\": movie.vote_average,\n",
    "            \"genre_ids\": genre_ids,\n",
    "            \"release_date\": release_date,\n",
    "            \"tmdb_id\": movie.id,\n",
    "        }\n",
    "\n",
    "        # Get the vector\n",
    "        vector = emb_df.iloc[i].to_list()\n",
    "\n",
    "        # Add object (including vector) to batch queue\n",
    "        batch.add_object(\n",
    "            properties=movie_obj,\n",
    "            uuid=generate_uuid5(movie.id),\n",
    "            vector=vector  # Add the custom vector\n",
    "            # references=reference_obj  # You can add references here\n",
    "        )\n",
    "        # Batcher automatically sends batches\n",
    "\n",
    "# Check for failed objects\n",
    "if len(movies.batch.failed_objects) > 0:\n",
    "    print(f\"Failed to import {len(movies.batch.failed_objects)} objects\")\n",
    "\n",
    "client._client.close()"
   ]
  },
  {
   "cell_type": "code",
   "execution_count": 46,
   "id": "d4ba22f8-2e70-4911-a00e-3e40094cec8a",
   "metadata": {},
   "outputs": [
    {
     "data": {
      "text/plain": [
       "['Huberman_minilm_256',\n",
       " 'Huberman_minilm_128',\n",
       " 'Huberman_minilm_512',\n",
       " 'Question',\n",
       " 'Movie',\n",
       " 'Movies']"
      ]
     },
     "execution_count": 46,
     "metadata": {},
     "output_type": "execute_result"
    }
   ],
   "source": [
    "client.show_all_collections()"
   ]
  },
  {
   "cell_type": "code",
   "execution_count": 57,
   "id": "310976d7-ef20-426c-a65a-0383859990fd",
   "metadata": {},
   "outputs": [],
   "source": [
    "movies = client._client.collections.get(\"Movies\")\n",
    "query_vector = model.encode(\"history\").tolist()\n",
    "import weaviate.classes.query as wq"
   ]
  },
  {
   "cell_type": "code",
   "execution_count": 54,
   "id": "63351039-6056-4e05-86ad-be484819162e",
   "metadata": {},
   "outputs": [],
   "source": [
    "client._client.connect()\n",
    "response = movies.query.near_vector(near_vector=query_vector, limit=5, return_metadata=wq.MetadataQuery(distance=True))"
   ]
  },
  {
   "cell_type": "code",
   "execution_count": 56,
   "id": "1af8e407-382b-49c8-aaf1-02650aa8ef95",
   "metadata": {},
   "outputs": [
    {
     "data": {
      "text/html": [
       "<pre style=\"white-space:pre;overflow-x:auto;line-height:normal;font-family:Menlo,'DejaVu Sans Mono',consolas,'Courier New',monospace\">In Time <span style=\"color: #008080; text-decoration-color: #008080; font-weight: bold\">2011</span>\n",
       "</pre>\n"
      ],
      "text/plain": [
       "In Time \u001b[1;36m2011\u001b[0m\n"
      ]
     },
     "metadata": {},
     "output_type": "display_data"
    },
    {
     "data": {
      "text/html": [
       "<pre style=\"white-space:pre;overflow-x:auto;line-height:normal;font-family:Menlo,'DejaVu Sans Mono',consolas,'Courier New',monospace\">Distance to query: <span style=\"color: #008080; text-decoration-color: #008080; font-weight: bold\">0.511</span>\n",
       "\n",
       "</pre>\n"
      ],
      "text/plain": [
       "Distance to query: \u001b[1;36m0.511\u001b[0m\n",
       "\n"
      ]
     },
     "metadata": {},
     "output_type": "display_data"
    },
    {
     "data": {
      "text/html": [
       "<pre style=\"white-space:pre;overflow-x:auto;line-height:normal;font-family:Menlo,'DejaVu Sans Mono',consolas,'Courier New',monospace\">Looper <span style=\"color: #008080; text-decoration-color: #008080; font-weight: bold\">2012</span>\n",
       "</pre>\n"
      ],
      "text/plain": [
       "Looper \u001b[1;36m2012\u001b[0m\n"
      ]
     },
     "metadata": {},
     "output_type": "display_data"
    },
    {
     "data": {
      "text/html": [
       "<pre style=\"white-space:pre;overflow-x:auto;line-height:normal;font-family:Menlo,'DejaVu Sans Mono',consolas,'Courier New',monospace\">Distance to query: <span style=\"color: #008080; text-decoration-color: #008080; font-weight: bold\">0.572</span>\n",
       "\n",
       "</pre>\n"
      ],
      "text/plain": [
       "Distance to query: \u001b[1;36m0.572\u001b[0m\n",
       "\n"
      ]
     },
     "metadata": {},
     "output_type": "display_data"
    },
    {
     "data": {
      "text/html": [
       "<pre style=\"white-space:pre;overflow-x:auto;line-height:normal;font-family:Menlo,'DejaVu Sans Mono',consolas,'Courier New',monospace\">Children of Men <span style=\"color: #008080; text-decoration-color: #008080; font-weight: bold\">2006</span>\n",
       "</pre>\n"
      ],
      "text/plain": [
       "Children of Men \u001b[1;36m2006\u001b[0m\n"
      ]
     },
     "metadata": {},
     "output_type": "display_data"
    },
    {
     "data": {
      "text/html": [
       "<pre style=\"white-space:pre;overflow-x:auto;line-height:normal;font-family:Menlo,'DejaVu Sans Mono',consolas,'Courier New',monospace\">Distance to query: <span style=\"color: #008080; text-decoration-color: #008080; font-weight: bold\">0.574</span>\n",
       "\n",
       "</pre>\n"
      ],
      "text/plain": [
       "Distance to query: \u001b[1;36m0.574\u001b[0m\n",
       "\n"
      ]
     },
     "metadata": {},
     "output_type": "display_data"
    },
    {
     "data": {
      "text/html": [
       "<pre style=\"white-space:pre;overflow-x:auto;line-height:normal;font-family:Menlo,'DejaVu Sans Mono',consolas,'Courier New',monospace\">I, Robot <span style=\"color: #008080; text-decoration-color: #008080; font-weight: bold\">2004</span>\n",
       "</pre>\n"
      ],
      "text/plain": [
       "I, Robot \u001b[1;36m2004\u001b[0m\n"
      ]
     },
     "metadata": {},
     "output_type": "display_data"
    },
    {
     "data": {
      "text/html": [
       "<pre style=\"white-space:pre;overflow-x:auto;line-height:normal;font-family:Menlo,'DejaVu Sans Mono',consolas,'Courier New',monospace\">Distance to query: <span style=\"color: #008080; text-decoration-color: #008080; font-weight: bold\">0.579</span>\n",
       "\n",
       "</pre>\n"
      ],
      "text/plain": [
       "Distance to query: \u001b[1;36m0.579\u001b[0m\n",
       "\n"
      ]
     },
     "metadata": {},
     "output_type": "display_data"
    },
    {
     "data": {
      "text/html": [
       "<pre style=\"white-space:pre;overflow-x:auto;line-height:normal;font-family:Menlo,'DejaVu Sans Mono',consolas,'Courier New',monospace\">The Matrix <span style=\"color: #008080; text-decoration-color: #008080; font-weight: bold\">1999</span>\n",
       "</pre>\n"
      ],
      "text/plain": [
       "The Matrix \u001b[1;36m1999\u001b[0m\n"
      ]
     },
     "metadata": {},
     "output_type": "display_data"
    },
    {
     "data": {
      "text/html": [
       "<pre style=\"white-space:pre;overflow-x:auto;line-height:normal;font-family:Menlo,'DejaVu Sans Mono',consolas,'Courier New',monospace\">Distance to query: <span style=\"color: #008080; text-decoration-color: #008080; font-weight: bold\">0.584</span>\n",
       "\n",
       "</pre>\n"
      ],
      "text/plain": [
       "Distance to query: \u001b[1;36m0.584\u001b[0m\n",
       "\n"
      ]
     },
     "metadata": {},
     "output_type": "display_data"
    }
   ],
   "source": [
    "for o in response.objects:\n",
    "    print(\n",
    "        o.properties['title'], o.properties['release_date'].year\n",
    "    )\n",
    "    print(\n",
    "        f\"Distance to query: {o.metadata.distance:.3f}\\n\"\n",
    "    )"
   ]
  },
  {
   "cell_type": "code",
   "execution_count": 64,
   "id": "89c08351-356f-4574-8bce-1608029fa845",
   "metadata": {},
   "outputs": [
    {
     "data": {
      "text/html": [
       "<pre style=\"white-space:pre;overflow-x:auto;line-height:normal;font-family:Menlo,'DejaVu Sans Mono',consolas,'Courier New',monospace\">Oppenheimer <span style=\"color: #008080; text-decoration-color: #008080; font-weight: bold\">2023</span>\n",
       "</pre>\n"
      ],
      "text/plain": [
       "Oppenheimer \u001b[1;36m2023\u001b[0m\n"
      ]
     },
     "metadata": {},
     "output_type": "display_data"
    },
    {
     "data": {
      "text/html": [
       "<pre style=\"white-space:pre;overflow-x:auto;line-height:normal;font-family:Menlo,'DejaVu Sans Mono',consolas,'Courier New',monospace\">Distance to query: <span style=\"color: #008080; text-decoration-color: #008080; font-weight: bold\">0.764</span>\n",
       "\n",
       "</pre>\n"
      ],
      "text/plain": [
       "Distance to query: \u001b[1;36m0.764\u001b[0m\n",
       "\n"
      ]
     },
     "metadata": {},
     "output_type": "display_data"
    },
    {
     "data": {
      "text/html": [
       "<pre style=\"white-space:pre;overflow-x:auto;line-height:normal;font-family:Menlo,'DejaVu Sans Mono',consolas,'Courier New',monospace\">Eternals <span style=\"color: #008080; text-decoration-color: #008080; font-weight: bold\">2021</span>\n",
       "</pre>\n"
      ],
      "text/plain": [
       "Eternals \u001b[1;36m2021\u001b[0m\n"
      ]
     },
     "metadata": {},
     "output_type": "display_data"
    },
    {
     "data": {
      "text/html": [
       "<pre style=\"white-space:pre;overflow-x:auto;line-height:normal;font-family:Menlo,'DejaVu Sans Mono',consolas,'Courier New',monospace\">Distance to query: <span style=\"color: #008080; text-decoration-color: #008080; font-weight: bold\">0.773</span>\n",
       "\n",
       "</pre>\n"
      ],
      "text/plain": [
       "Distance to query: \u001b[1;36m0.773\u001b[0m\n",
       "\n"
      ]
     },
     "metadata": {},
     "output_type": "display_data"
    },
    {
     "data": {
      "text/html": [
       "<pre style=\"white-space:pre;overflow-x:auto;line-height:normal;font-family:Menlo,'DejaVu Sans Mono',consolas,'Courier New',monospace\">John Wick: Chapter <span style=\"color: #008080; text-decoration-color: #008080; font-weight: bold\">4</span> <span style=\"color: #008080; text-decoration-color: #008080; font-weight: bold\">2023</span>\n",
       "</pre>\n"
      ],
      "text/plain": [
       "John Wick: Chapter \u001b[1;36m4\u001b[0m \u001b[1;36m2023\u001b[0m\n"
      ]
     },
     "metadata": {},
     "output_type": "display_data"
    },
    {
     "data": {
      "text/html": [
       "<pre style=\"white-space:pre;overflow-x:auto;line-height:normal;font-family:Menlo,'DejaVu Sans Mono',consolas,'Courier New',monospace\">Distance to query: <span style=\"color: #008080; text-decoration-color: #008080; font-weight: bold\">0.785</span>\n",
       "\n",
       "</pre>\n"
      ],
      "text/plain": [
       "Distance to query: \u001b[1;36m0.785\u001b[0m\n",
       "\n"
      ]
     },
     "metadata": {},
     "output_type": "display_data"
    },
    {
     "data": {
      "text/html": [
       "<pre style=\"white-space:pre;overflow-x:auto;line-height:normal;font-family:Menlo,'DejaVu Sans Mono',consolas,'Courier New',monospace\">The Old Guard <span style=\"color: #008080; text-decoration-color: #008080; font-weight: bold\">2020</span>\n",
       "</pre>\n"
      ],
      "text/plain": [
       "The Old Guard \u001b[1;36m2020\u001b[0m\n"
      ]
     },
     "metadata": {},
     "output_type": "display_data"
    },
    {
     "data": {
      "text/html": [
       "<pre style=\"white-space:pre;overflow-x:auto;line-height:normal;font-family:Menlo,'DejaVu Sans Mono',consolas,'Courier New',monospace\">Distance to query: <span style=\"color: #008080; text-decoration-color: #008080; font-weight: bold\">0.799</span>\n",
       "\n",
       "</pre>\n"
      ],
      "text/plain": [
       "Distance to query: \u001b[1;36m0.799\u001b[0m\n",
       "\n"
      ]
     },
     "metadata": {},
     "output_type": "display_data"
    },
    {
     "data": {
      "text/html": [
       "<pre style=\"white-space:pre;overflow-x:auto;line-height:normal;font-family:Menlo,'DejaVu Sans Mono',consolas,'Courier New',monospace\">Everything Everywhere All at Once <span style=\"color: #008080; text-decoration-color: #008080; font-weight: bold\">2022</span>\n",
       "</pre>\n"
      ],
      "text/plain": [
       "Everything Everywhere All at Once \u001b[1;36m2022\u001b[0m\n"
      ]
     },
     "metadata": {},
     "output_type": "display_data"
    },
    {
     "data": {
      "text/html": [
       "<pre style=\"white-space:pre;overflow-x:auto;line-height:normal;font-family:Menlo,'DejaVu Sans Mono',consolas,'Courier New',monospace\">Distance to query: <span style=\"color: #008080; text-decoration-color: #008080; font-weight: bold\">0.813</span>\n",
       "\n",
       "</pre>\n"
      ],
      "text/plain": [
       "Distance to query: \u001b[1;36m0.813\u001b[0m\n",
       "\n"
      ]
     },
     "metadata": {},
     "output_type": "display_data"
    }
   ],
   "source": [
    "client._client.connect()\n",
    "movies = client._client.collections.get(\"Movies\")\n",
    "\n",
    "from datetime import datetime\n",
    "\n",
    "# Perform query\n",
    "response = movies.query.near_vector(\n",
    "    near_vector=query_vector,\n",
    "    limit=5,\n",
    "    return_metadata=wq.MetadataQuery(distance=True),\n",
    "    filters=wq.Filter.by_property(\"release_date\").greater_than(datetime(2020, 1, 1))\n",
    ")\n",
    "\n",
    "# Inspect the response\n",
    "for o in response.objects:\n",
    "    print(\n",
    "        o.properties[\"title\"], o.properties[\"release_date\"].year\n",
    "    )  # Print the title and release year (note the release date is a datetime object)\n",
    "    print(\n",
    "        f\"Distance to query: {o.metadata.distance:.3f}\\n\"\n",
    "    )  # Print the distance of the object from the query\n",
    "client._client.close()"
   ]
  },
  {
   "cell_type": "code",
   "execution_count": 61,
   "id": "575268ee-ba6f-43da-8d2c-b0874e1c7b73",
   "metadata": {},
   "outputs": [
    {
     "data": {
      "text/plain": [
       "QueryReturn(objects=[])"
      ]
     },
     "execution_count": 61,
     "metadata": {},
     "output_type": "execute_result"
    }
   ],
   "source": [
    "response"
   ]
  },
  {
   "cell_type": "code",
   "execution_count": null,
   "id": "417b7b4c-780c-4616-a749-03f54ad161cb",
   "metadata": {},
   "outputs": [],
   "source": []
  }
 ],
 "metadata": {
  "kernelspec": {
   "display_name": "openai",
   "language": "python",
   "name": "openai"
  },
  "language_info": {
   "codemirror_mode": {
    "name": "ipython",
    "version": 3
   },
   "file_extension": ".py",
   "mimetype": "text/x-python",
   "name": "python",
   "nbconvert_exporter": "python",
   "pygments_lexer": "ipython3",
   "version": "3.10.13"
  }
 },
 "nbformat": 4,
 "nbformat_minor": 5
}
