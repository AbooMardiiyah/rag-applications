{
 "cells": [
  {
   "cell_type": "code",
   "execution_count": 32,
   "id": "452d04b2-5f7a-4165-8ebf-62124058fcdd",
   "metadata": {},
   "outputs": [
    {
     "name": "stdout",
     "output_type": "stream",
     "text": [
      "The autoreload extension is already loaded. To reload it, use:\n",
      "  %reload_ext autoreload\n"
     ]
    }
   ],
   "source": [
    "%load_ext autoreload\n",
    "%autoreload 2"
   ]
  },
  {
   "cell_type": "code",
   "execution_count": 33,
   "id": "a50f0af1-af44-4a4d-a8c7-649f111b6f0e",
   "metadata": {},
   "outputs": [],
   "source": [
    "import sys\n",
    "sys.path.append('../')"
   ]
  },
  {
   "cell_type": "code",
   "execution_count": 98,
   "id": "8a284fd8-6451-42e6-afdb-246ccc2690f1",
   "metadata": {},
   "outputs": [],
   "source": [
    "from src.preprocessor.preprocessing import FileIO, Utilities\n",
    "from src.llm.llm_interface import LLM\n",
    "from tqdm import tqdm\n",
    "import asyncio\n",
    "import nest_asyncio\n",
    "nest_asyncio.apply()"
   ]
  },
  {
   "cell_type": "code",
   "execution_count": 90,
   "id": "3ce322f6-ecc6-47e5-b8de-f0cbd7c21022",
   "metadata": {},
   "outputs": [],
   "source": [
    "data_path = '../data/guests.json'\n",
    "guests = FileIO().load_json(data_path)"
   ]
  },
  {
   "cell_type": "code",
   "execution_count": 37,
   "id": "764bf891-9358-49da-8cd2-38b9d4cfe255",
   "metadata": {},
   "outputs": [],
   "source": [
    "guest_extraction_system = '''\n",
    "Your primary role is to extract information from any given text.  Specifically you are an expert at extracting guest names from podcast shows\n",
    "'''"
   ]
  },
  {
   "cell_type": "code",
   "execution_count": 62,
   "id": "052498fc-0047-4c53-abc2-9e82a7191e5c",
   "metadata": {},
   "outputs": [],
   "source": [
    "assistant = '''\n",
    "You will be given the title of a podcast from the Huberman Labs podcast.  Usually the guest name will be found within the title.  If the guest name is present, return the guest name.  Do not provide any other information or explanation, simply return the extracted guests name. \n",
    "If there is no guest name in the title, or if the title starts with the word AMA (which stands for Ask Me Anything), then return the name \"Andrew Huberman\".\n",
    "Again if no guest is found in the title, then return the name \"Andrew Huberman\"\n",
    "```\n",
    "{title}\n",
    "```\n",
    "'''"
   ]
  },
  {
   "cell_type": "code",
   "execution_count": 63,
   "id": "55aa6dfe-4090-4a53-b28e-9b4d342d92b4",
   "metadata": {},
   "outputs": [],
   "source": [
    "llm = LLM()"
   ]
  },
  {
   "cell_type": "code",
   "execution_count": 64,
   "id": "9e9d5bcb-80f1-4058-bbee-8201897d065f",
   "metadata": {},
   "outputs": [],
   "source": [
    "async def get_guest(title: str):\n",
    "    guest = await llm.achat_completion(guest_extraction_system, assistant.format(title=title), max_tokens=25, raw_response=True)\n",
    "    return guest"
   ]
  },
  {
   "cell_type": "code",
   "execution_count": 65,
   "id": "7e5f4120-2776-4ba7-9466-1e91ca16585b",
   "metadata": {},
   "outputs": [],
   "source": [
    "async def guest_tasks(titles: list[str]):\n",
    "    tasks = await asyncio.gather(*[get_guest(title) for title in titles])\n",
    "    return tasks"
   ]
  },
  {
   "cell_type": "code",
   "execution_count": 66,
   "id": "c0ec1226-4ba5-41ca-8da8-8f828918bfe3",
   "metadata": {},
   "outputs": [
    {
     "name": "stdout",
     "output_type": "stream",
     "text": [
      "CPU times: user 8.38 s, sys: 369 ms, total: 8.75 s\n",
      "Wall time: 10.1 s\n"
     ]
    }
   ],
   "source": [
    "%%time\n",
    "output = asyncio.run(guest_tasks(titles))"
   ]
  },
  {
   "cell_type": "code",
   "execution_count": 67,
   "id": "6a3ff1db-ace4-491a-b70c-239b3dacbbc7",
   "metadata": {},
   "outputs": [
    {
     "data": {
      "text/plain": [
       "189"
      ]
     },
     "execution_count": 67,
     "metadata": {},
     "output_type": "execute_result"
    }
   ],
   "source": [
    "len(output)"
   ]
  },
  {
   "cell_type": "code",
   "execution_count": 69,
   "id": "01ceda8c-0ba7-4f12-9080-98e3c50e169c",
   "metadata": {},
   "outputs": [],
   "source": [
    "guests = [response.choices[0].message.content for response in output]"
   ]
  },
  {
   "cell_type": "code",
   "execution_count": 74,
   "id": "6c9bd26b-685f-48c2-a354-a127ca846149",
   "metadata": {},
   "outputs": [],
   "source": [
    "import json\n",
    "with open('../data/guests.json', 'w') as f:\n",
    "    f.write(json.dumps(guests, indent=4))"
   ]
  },
  {
   "cell_type": "markdown",
   "id": "3827f65e-f62b-4e0d-b040-4acf027db9e9",
   "metadata": {},
   "source": [
    "### Combine Metadata"
   ]
  },
  {
   "cell_type": "code",
   "execution_count": 100,
   "id": "9e49a95d-1d53-4cd5-9e8a-60857f64b79d",
   "metadata": {},
   "outputs": [],
   "source": [
    "raw_data = FileIO().load_json('../data/hubermanlabs.json')\n",
    "utils = Utilities()"
   ]
  },
  {
   "cell_type": "code",
   "execution_count": 101,
   "id": "5f4961b7-8c0a-4451-a67e-84ce403d33dd",
   "metadata": {},
   "outputs": [],
   "source": [
    "data = utils.convert_raw_data(raw_data)"
   ]
  },
  {
   "cell_type": "code",
   "execution_count": 103,
   "id": "da1e5f7f-4ff7-4813-b993-b0374019a380",
   "metadata": {},
   "outputs": [],
   "source": [
    "for i, d in enumerate(data):\n",
    "    d['guest'] = guests[i]"
   ]
  },
  {
   "cell_type": "code",
   "execution_count": 110,
   "id": "0bd32410-8b1c-4bb1-beb0-db287d0bce0b",
   "metadata": {},
   "outputs": [],
   "source": [
    "with open('../data/huberman_labs.json', 'w') as f:\n",
    "    f.write(json.dumps(data, indent=2))"
   ]
  },
  {
   "cell_type": "code",
   "execution_count": null,
   "id": "c54ba695-89e8-4f35-ae9e-dc79816494cb",
   "metadata": {},
   "outputs": [],
   "source": []
  }
 ],
 "metadata": {
  "kernelspec": {
   "display_name": "openai",
   "language": "python",
   "name": "openai"
  },
  "language_info": {
   "codemirror_mode": {
    "name": "ipython",
    "version": 3
   },
   "file_extension": ".py",
   "mimetype": "text/x-python",
   "name": "python",
   "nbconvert_exporter": "python",
   "pygments_lexer": "ipython3",
   "version": "3.10.13"
  }
 },
 "nbformat": 4,
 "nbformat_minor": 5
}
