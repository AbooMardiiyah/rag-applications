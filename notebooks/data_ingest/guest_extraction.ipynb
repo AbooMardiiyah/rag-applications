{
 "cells": [
  {
   "cell_type": "code",
   "execution_count": 1,
   "id": "452d04b2-5f7a-4165-8ebf-62124058fcdd",
   "metadata": {},
   "outputs": [
    {
     "name": "stdout",
     "output_type": "stream",
     "text": [
      "The autoreload extension is already loaded. To reload it, use:\n",
      "  %reload_ext autoreload\n"
     ]
    }
   ],
   "source": [
    "%load_ext autoreload\n",
    "%autoreload 2"
   ]
  },
  {
   "cell_type": "code",
   "execution_count": 4,
   "id": "a50f0af1-af44-4a4d-a8c7-649f111b6f0e",
   "metadata": {},
   "outputs": [],
   "source": [
    "import sys\n",
    "sys.path.append('../../')"
   ]
  },
  {
   "cell_type": "code",
   "execution_count": 96,
   "id": "8a284fd8-6451-42e6-afdb-246ccc2690f1",
   "metadata": {},
   "outputs": [],
   "source": [
    "from src.preprocessor.preprocessing import FileIO, Utilities\n",
    "from src.llm.llm_interface import LLM\n",
    "from src.llm.llm_utils import get_token_count\n",
    "from tqdm import tqdm\n",
    "\n",
    "import os\n",
    "import asyncio\n",
    "import nest_asyncio\n",
    "nest_asyncio.apply()"
   ]
  },
  {
   "cell_type": "code",
   "execution_count": 28,
   "id": "3ce322f6-ecc6-47e5-b8de-f0cbd7c21022",
   "metadata": {},
   "outputs": [],
   "source": [
    "data_path = '../../data/huberman_labs.json'\n",
    "data = FileIO().load_json(data_path)"
   ]
  },
  {
   "cell_type": "code",
   "execution_count": 29,
   "id": "48725ec3-c34a-4838-aebf-b19f05a311b8",
   "metadata": {},
   "outputs": [],
   "source": [
    "def extract_fields(data: list[dict], \n",
    "                   extract_keys: list[str]=['title','short_description', 'content'], \n",
    "                   content_len: int=2500\n",
    "                  ) -> list[dict]:\n",
    "    extracted_fields = []\n",
    "    for d in data:\n",
    "        extracted_fields.append({k:v[:content_len] for k,v in d.items() if k in extract_keys})\n",
    "    return extracted_fields"
   ]
  },
  {
   "cell_type": "code",
   "execution_count": 36,
   "id": "9ec77f0b-aa2a-4312-bcd1-b2892fe87bef",
   "metadata": {},
   "outputs": [],
   "source": [
    "episodes = extract_fields(data)"
   ]
  },
  {
   "cell_type": "code",
   "execution_count": 20,
   "id": "764bf891-9358-49da-8cd2-38b9d4cfe255",
   "metadata": {},
   "outputs": [],
   "source": [
    "guest_extraction_system = '''\n",
    "Your primary goal is to extract guest information from pieces of text.  \n",
    "Specifically you are an expert at extracting guest names from podcast shows.\n",
    "'''"
   ]
  },
  {
   "cell_type": "code",
   "execution_count": 34,
   "id": "052498fc-0047-4c53-abc2-9e82a7191e5c",
   "metadata": {},
   "outputs": [],
   "source": [
    "assistant_prompt = '''\n",
    "You will be given the title, a summary, and an initial snippet of text from a podcast transcript from the Huberman Labs podcast.  \n",
    "Using the title, summary, and context text, extract the guest of the show.  If the guest is present simply return the guest name. \n",
    "Do not provide any other information or explanation, simply return the extracted guests name. \n",
    "If there is no guest name given the information provided or if the title starts with the word AMA (which stands for Ask Me Anything), \n",
    "then return the name \"Andrew Huberman\". Again if no guest information is found, then return the name \"Andrew Huberman\". Do not reply\n",
    "with any other information other than either the guest name or the name \"Andrew Huberman\". \n",
    "```\n",
    "Title:\\n\n",
    "{title}\n",
    "---------\n",
    "Summary:\\n\n",
    "{summary}\n",
    "---------\n",
    "Transcript:\\n\n",
    "{transcript}\n",
    "---------\n",
    "\n",
    "Guest:\n",
    "```\n",
    "'''"
   ]
  },
  {
   "cell_type": "code",
   "execution_count": 106,
   "id": "55aa6dfe-4090-4a53-b28e-9b4d342d92b4",
   "metadata": {},
   "outputs": [],
   "source": [
    "llm = LLM(model_name='gpt-3.5-turbo-0125')"
   ]
  },
  {
   "cell_type": "code",
   "execution_count": 107,
   "id": "718748ae-c340-4bd0-94a6-d0837f8d5cc3",
   "metadata": {},
   "outputs": [
    {
     "data": {
      "text/plain": [
       "1327"
      ]
     },
     "execution_count": 107,
     "metadata": {},
     "output_type": "execute_result"
    }
   ],
   "source": [
    "get_token_count([guest_extraction_system, assistant_prompt, episodes[0]['content'], episodes[0]['short_description']])"
   ]
  },
  {
   "cell_type": "code",
   "execution_count": 108,
   "id": "9e9d5bcb-80f1-4058-bbee-8201897d065f",
   "metadata": {},
   "outputs": [],
   "source": [
    "async def get_guest(episode: dict, assistant_base: str):\n",
    "    title = episode['title']\n",
    "    summary = episode['short_description']\n",
    "    transcript = episode['content']\n",
    "    assistant_message = assistant_base.format(title=title, summary=summary, transcript=transcript)\n",
    "    guest = await llm.achat_completion(guest_extraction_system, assistant_message, max_tokens=25, temperature=0.0, raw_response=False)\n",
    "    return guest"
   ]
  },
  {
   "cell_type": "code",
   "execution_count": 109,
   "id": "7e5f4120-2776-4ba7-9466-1e91ca16585b",
   "metadata": {},
   "outputs": [],
   "source": [
    "async def guest_tasks(episodes: list[dict], assistant_base: str):\n",
    "    tasks = await asyncio.gather(*[get_guest(episode, assistant_base) for episode in episodes])\n",
    "    return tasks"
   ]
  },
  {
   "cell_type": "code",
   "execution_count": 110,
   "id": "c0ec1226-4ba5-41ca-8da8-8f828918bfe3",
   "metadata": {},
   "outputs": [
    {
     "name": "stdout",
     "output_type": "stream",
     "text": [
      "CPU times: user 3.89 s, sys: 220 ms, total: 4.11 s\n",
      "Wall time: 1min 6s\n"
     ]
    }
   ],
   "source": [
    "%%time\n",
    "import time\n",
    "time.sleep(60)\n",
    "last_100 = asyncio.run(guest_tasks(episodes[100:], assistant_prompt))"
   ]
  },
  {
   "cell_type": "code",
   "execution_count": 111,
   "id": "6a3ff1db-ace4-491a-b70c-239b3dacbbc7",
   "metadata": {},
   "outputs": [
    {
     "data": {
      "text/plain": [
       "93"
      ]
     },
     "execution_count": 111,
     "metadata": {},
     "output_type": "execute_result"
    }
   ],
   "source": [
    "len(last_100)"
   ]
  },
  {
   "cell_type": "code",
   "execution_count": 114,
   "id": "9e3f4a75-a348-4bed-a7c6-2be38e223e82",
   "metadata": {},
   "outputs": [
    {
     "data": {
      "text/plain": [
       "193"
      ]
     },
     "execution_count": 114,
     "metadata": {},
     "output_type": "execute_result"
    }
   ],
   "source": [
    "len(first_100 + last_100)"
   ]
  },
  {
   "cell_type": "code",
   "execution_count": 116,
   "id": "4aab71dc-9b16-4ec8-be84-2032a783abe3",
   "metadata": {},
   "outputs": [],
   "source": [
    "guests = first_100 + last_100"
   ]
  },
  {
   "cell_type": "code",
   "execution_count": 117,
   "id": "6c9bd26b-685f-48c2-a354-a127ca846149",
   "metadata": {},
   "outputs": [],
   "source": [
    "import json\n",
    "with open('../../data/guests.json', 'w') as f:\n",
    "    f.write(json.dumps(guests, indent=4))"
   ]
  },
  {
   "cell_type": "markdown",
   "id": "3827f65e-f62b-4e0d-b040-4acf027db9e9",
   "metadata": {},
   "source": [
    "### Combine Metadata"
   ]
  },
  {
   "cell_type": "code",
   "execution_count": 118,
   "id": "9e49a95d-1d53-4cd5-9e8a-60857f64b79d",
   "metadata": {},
   "outputs": [],
   "source": [
    "raw_data = FileIO().load_json('../../data/huberman_labs.json')\n",
    "utils = Utilities()"
   ]
  },
  {
   "cell_type": "code",
   "execution_count": 124,
   "id": "da1e5f7f-4ff7-4813-b993-b0374019a380",
   "metadata": {},
   "outputs": [],
   "source": [
    "for i, d in enumerate(raw_data):\n",
    "    d['guest'] = guests[i]"
   ]
  },
  {
   "cell_type": "code",
   "execution_count": 125,
   "id": "0bd32410-8b1c-4bb1-beb0-db287d0bce0b",
   "metadata": {},
   "outputs": [],
   "source": [
    "with open('../../data/huberman_labs.json', 'w') as f:\n",
    "    f.write(json.dumps(raw_data, indent=2))"
   ]
  },
  {
   "cell_type": "code",
   "execution_count": 123,
   "id": "c54ba695-89e8-4f35-ae9e-dc79816494cb",
   "metadata": {},
   "outputs": [
    {
     "data": {
      "text/plain": [
       "'Dr. Susanna Søberg'"
      ]
     },
     "execution_count": 123,
     "metadata": {},
     "output_type": "execute_result"
    }
   ],
   "source": [
    "guests[62]"
   ]
  },
  {
   "cell_type": "code",
   "execution_count": null,
   "id": "302bd9d3-96ba-4f36-b4ad-8a6f4bbc6a5c",
   "metadata": {},
   "outputs": [],
   "source": []
  }
 ],
 "metadata": {
  "kernelspec": {
   "display_name": "openai",
   "language": "python",
   "name": "openai"
  },
  "language_info": {
   "codemirror_mode": {
    "name": "ipython",
    "version": 3
   },
   "file_extension": ".py",
   "mimetype": "text/x-python",
   "name": "python",
   "nbconvert_exporter": "python",
   "pygments_lexer": "ipython3",
   "version": "3.10.13"
  }
 },
 "nbformat": 4,
 "nbformat_minor": 5
}
