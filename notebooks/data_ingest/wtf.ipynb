{
 "cells": [
  {
   "cell_type": "code",
   "execution_count": 1,
   "id": "96040d85-fb91-4644-9e42-fa215dfbdd69",
   "metadata": {},
   "outputs": [],
   "source": [
    "#Import Modules\n",
    "from data_ingest import DataIngest\n",
    "from tqdm.notebook import tqdm\n",
    "from rich.pretty import pprint\n",
    "import pandas as pd\n",
    "import os\n",
    "import json"
   ]
  },
  {
   "cell_type": "code",
   "execution_count": 2,
   "id": "2f3aad5f-2078-4c73-a39f-5f8f3ce29211",
   "metadata": {},
   "outputs": [],
   "source": [
    "huberman = \"https://www.youtube.com/playlist?list=PLPNW_gerXa4Pc8S2qoUQc5e8Ir97RLuVW\"\n",
    "ingest = DataIngest(huberman)\n",
    "playlist = ingest.get_playlist()"
   ]
  },
  {
   "cell_type": "code",
   "execution_count": 4,
   "id": "deb4a87c-33f8-43ce-b30d-98722dbc8f68",
   "metadata": {},
   "outputs": [
    {
     "data": {
      "application/vnd.jupyter.widget-view+json": {
       "model_id": "f7cf349f2a164c6f89314f69b2e266f3",
       "version_major": 2,
       "version_minor": 0
      },
      "text/plain": [
       "  0%|          | 0/193 [00:00<?, ?it/s]"
      ]
     },
     "metadata": {},
     "output_type": "display_data"
    }
   ],
   "source": [
    "meta = [ingest.download_audio(url, i) for i, url in enumerate(tqdm(playlist))]"
   ]
  },
  {
   "cell_type": "code",
   "execution_count": 15,
   "id": "4be7593a-7679-43a8-a949-7e91f1411b9b",
   "metadata": {},
   "outputs": [],
   "source": [
    "for i, x in enumerate(range(193,0,-1)):\n",
    "    meta[i]['episode_num'] = x"
   ]
  },
  {
   "cell_type": "code",
   "execution_count": 16,
   "id": "ff6d1cf5-0b40-4d8f-ab91-c4905869c42a",
   "metadata": {},
   "outputs": [
    {
     "data": {
      "text/plain": [
       "{'video_id': '-OBCwiPPfEU',\n",
       " 'title': 'Dr. Matthew Walker: The Biology of Sleep & Your Unique Sleep Needs | Huberman Lab Guest Series',\n",
       " 'length_seconds': '10773',\n",
       " 'keywords': ['andrew huberman',\n",
       "  'huberman lab podcast',\n",
       "  'huberman podcast',\n",
       "  'dr. andrew huberman',\n",
       "  'neuroscience',\n",
       "  'huberman lab',\n",
       "  'andrew huberman podcast',\n",
       "  'the huberman lab podcast',\n",
       "  'science podcast'],\n",
       " 'channel_id': 'UC2D2CMWXMOVWx7giW1n3LIg',\n",
       " 'is_owner_viewing': False,\n",
       " 'short_description': 'In this episode 1 of a 6-part special series on sleep with Dr. Matthew Walker, Ph.D., professor of neuroscience and psychology and founder of the Center for Human Sleep Science at the University of California, Berkeley, and the author of the book “Why We Sleep” discusses the essential role that sleep plays in our health. We cover how sleep affects our hormones, immune system, learning and memory, mood, appetite, and weight regulation.\\n\\nWe also discuss what causes the urge to sleep, how sleep is structured throughout the night, and the biology of the different phases of sleep. We also teach you how to determine your individualized sleep needs, including your chronotype (best waking and to-bed time), tips for combat snoring and insomnia, and your QQRT (Quality, Quantity, Regularity, and Timing)—a key framework for optimizing your sleep and therefore daytime energy and focus, and overall health.\\n\\nThe next episode in this special series explores how to improve one’s sleep.\\n\\nThank you to our sponsors\\nAG1: https://drinkag1.com/huberman\\nEight Sleep: https://eightsleep.com/huberman \\nBetterHelp: https://betterhelp.com/huberman \\nLMNT: https://drinklmnt.com/huberman \\nInsideTracker: https://insidetracker.com/huberman \\nMomentous: https://livemomentous.com/huberman\\n\\nSocial & Website\\nInstagram: https://www.instagram.com/hubermanlab \\nThreads: https://www.threads.net/@hubermanlab\\nTwitter: https://twitter.com/hubermanlab \\nFacebook: https://www.facebook.com/hubermanlab \\nTikTok: https://www.tiktok.com/@hubermanlab \\nLinkedIn: https://www.linkedin.com/in/andrew-huberman\\nWebsite: https://www.hubermanlab.com \\nNewsletter: https://www.hubermanlab.com/newsletter\\n\\nDr. Matthew Walker\\nWebsite: https://www.sleepdiplomat.com \\nPodcast: https://www.sleepdiplomat.com/podcast \\n\"Why We Sleep\": https://amzn.to/4a9Tyyl \\nAcademic profile: https://psychology.berkeley.edu/people/matthew-p-walker \\nX: https://twitter.com/sleepdiplomat \\nInstagram: https://instagram.com/drmattwalker \\nLinkedIn: https://www.linkedin.com/in/sleepdiplomat \\nMasterClass: https://www.masterclass.com/classes/matthew-walker-teaches-the-science-of-better-sleep \\n\\nJournal Articles\\nCoordinated human sleeping brainwaves map peripheral body glucose homeostasis: https://bit.ly/4agGuHn\\nPartial sleep deprivation reduces natural killer cell activity in humans: https://bit.ly/43HpnMC\\nDaylight Saving Time and Acute Myocardial Infarction: A Meta-Analysis: https://bit.ly/49kVmDs\\nSleepy Punishers Are Harsh Punishers: Daylight Saving Time and Legal Sentences: https://bit.ly/4agG83F\\nEffects of insufficient sleep on circadian rhythmicity and expression amplitude of the human blood transcriptome: https://bit.ly/3xlbHed\\nA systematic review and meta-analysis to assess the relationship between sleep duration/quality, mental toughness and resilience amongst healthy individuals: https://bit.ly/3TLsiz4\\nNegative effects of restricted sleep on facial appearance and social appeal: https://bit.ly/3xnbGGB\\nSleep regularity is a stronger predictor of mortality risk than sleep duration: A prospective cohort study: https://bit.ly/4cz6bEG\\n\\nOther Resources\\nTED Talk: https://bit.ly/43Lk66B \\nChronotype Calculator: https://bit.ly/43MFlFk\\n\\nPeople Mentioned\\nAllan Rechtschaffen: sleep research pioneer: https://bit.ly/3U1nQxu\\n\\nTimestamps\\n00:00:00 Importance of Sleep\\n00:02:24 Sponsors: Eight Sleep, BetterHelp & LMNT\\n00:06:00 Sleep; Non-REM & REM Sleep\\n00:11:40 Sleep Cycles, Individuality, Women vs. Men\\n00:14:49 Tool: Wakefulness in Bed, Insomnia\\n00:19:08 Non-REM Stages of Sleep\\n00:27:05 Role of Deep Sleep\\n00:34:02 Sponsor: AG1\\n00:35:15 Light Sleep Stages, Hypnogogic Jerks\\n00:42:00 REM Sleep, Paralysis & Bizarre Dreams; “Falling” Asleep\\n00:49:09 Tools: Body Position & Sleep; Snoring & Sleep Apnea\\n00:57:43 Yawning & Theories, Contagion\\n01:04:03 Nodding Off, Afternoon & Postprandial Dip\\n01:08:46 Sponsor: InsideTracker\\n01:09:51 Sleep, Animals & Evolution \\n01:14:09 Poor Sleep & Health Consequences, Sleep Deprivation\\n01:27:13 Positive Effects of Good Sleep, Health Improvements\\n01:31:56 Sleep & Mood; Appetite & Weight Management\\n01:42:55 Sleep Deprivation & Looking Tired, “Beauty Sleep”\\n01:47:57 Tool: Getting Good Sleep, QQRT Macros, Quantity & Quality\\n01:56:45 Tool: Sleep Regularity, Mortality Risk\\n02:03:15 Tool: Sleep Timing, Chronotypes\\n02:14:21 Chronotypes & Insomnia, Circadian Rhythm, Shift Work\\n02:20:31 Tool: Sleep Tests, Alarm Clock, Micro-Sleeps\\n02:27:27 Sleep Inertia & Waking; Afternoon Dip, Optimum Performance\\n02:34:19 Causes of Sleep: Circadian Rhythm, Sleep Pressure\\n02:43:02 Adenosine & Sleepiness\\n02:46:13 Tool: Growth Hormone & Deep Sleep\\n02:50:47 Cortisol & Circadian Rhythm, “Tired But Wired”\\n02:57:24 Zero-Cost Support, Spotify & Apple Reviews, Sponsors, YouTube Feedback, Momentous, Social Media, Neural Network Newsletter\\n\\n#HubermanLab #Science #Sleep\\n\\nTitle Card Photo Credit: Mike Blabac - https://www.blabacphoto.com\\n\\nDisclaimer: https://www.hubermanlab.com/disclaimer',\n",
       " 'is_crawlable': True,\n",
       " 'thumbnail': {'thumbnails': [{'url': 'https://i.ytimg.com/vi/-OBCwiPPfEU/default.jpg',\n",
       "    'width': 120,\n",
       "    'height': 90},\n",
       "   {'url': 'https://i.ytimg.com/vi/-OBCwiPPfEU/mqdefault.jpg',\n",
       "    'width': 320,\n",
       "    'height': 180},\n",
       "   {'url': 'https://i.ytimg.com/vi/-OBCwiPPfEU/hqdefault.jpg',\n",
       "    'width': 480,\n",
       "    'height': 360},\n",
       "   {'url': 'https://i.ytimg.com/vi/-OBCwiPPfEU/sddefault.jpg',\n",
       "    'width': 640,\n",
       "    'height': 480}]},\n",
       " 'allow_ratings': True,\n",
       " 'view_count': '162689',\n",
       " 'author': 'Andrew Huberman',\n",
       " 'is_private': False,\n",
       " 'is_unplugged_corpus': False,\n",
       " 'is_live_content': False,\n",
       " 'episode_num': 193,\n",
       " 'episode_url': 'https://www.youtube.com/watch?v=-OBCwiPPfEU'}"
      ]
     },
     "execution_count": 16,
     "metadata": {},
     "output_type": "execute_result"
    }
   ],
   "source": [
    "with open('../../data/huberman_meta.json', 'w') as f:\n",
    "    f.write(json.dumps(meta, indent=4))"
   ]
  },
  {
   "cell_type": "code",
   "execution_count": null,
   "id": "c9387bb6-ea50-4b90-9456-b297fd2567a4",
   "metadata": {},
   "outputs": [],
   "source": []
  }
 ],
 "metadata": {
  "kernelspec": {
   "display_name": "openai",
   "language": "python",
   "name": "openai"
  },
  "language_info": {
   "codemirror_mode": {
    "name": "ipython",
    "version": 3
   },
   "file_extension": ".py",
   "mimetype": "text/x-python",
   "name": "python",
   "nbconvert_exporter": "python",
   "pygments_lexer": "ipython3",
   "version": "3.10.13"
  }
 },
 "nbformat": 4,
 "nbformat_minor": 5
}
