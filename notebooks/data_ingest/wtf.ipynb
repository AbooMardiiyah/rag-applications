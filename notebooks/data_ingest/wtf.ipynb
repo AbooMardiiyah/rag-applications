{
 "cells": [
  {
   "cell_type": "code",
   "execution_count": 1,
   "id": "96040d85-fb91-4644-9e42-fa215dfbdd69",
   "metadata": {},
   "outputs": [],
   "source": [
    "#Import Modules\n",
    "from data_ingest import DataIngest\n",
    "from tqdm.notebook import tqdm\n",
    "from rich.pretty import pprint\n",
    "import pandas as pd\n",
    "import os\n",
    "import json"
   ]
  },
  {
   "cell_type": "code",
   "execution_count": 2,
   "id": "2f3aad5f-2078-4c73-a39f-5f8f3ce29211",
   "metadata": {},
   "outputs": [],
   "source": [
    "huberman = \"https://www.youtube.com/playlist?list=PLPNW_gerXa4Pc8S2qoUQc5e8Ir97RLuVW\"\n",
    "ingest = DataIngest(huberman)\n",
    "playlist = ingest.get_playlist()"
   ]
  },
  {
   "cell_type": "code",
   "execution_count": null,
   "id": "deb4a87c-33f8-43ce-b30d-98722dbc8f68",
   "metadata": {},
   "outputs": [
    {
     "data": {
      "application/vnd.jupyter.widget-view+json": {
       "model_id": "f7cf349f2a164c6f89314f69b2e266f3",
       "version_major": 2,
       "version_minor": 0
      },
      "text/plain": [
       "  0%|          | 0/193 [00:00<?, ?it/s]"
      ]
     },
     "metadata": {},
     "output_type": "display_data"
    }
   ],
   "source": [
    "meta = [ingest.download_audio(url, i) for i, url in enumerate(tqdm(playlist))]"
   ]
  },
  {
   "cell_type": "code",
   "execution_count": null,
   "id": "9a588a4c-e1d3-4d5f-a452-26c310b37c12",
   "metadata": {},
   "outputs": [],
   "source": []
  }
 ],
 "metadata": {
  "kernelspec": {
   "display_name": "openai",
   "language": "python",
   "name": "openai"
  },
  "language_info": {
   "codemirror_mode": {
    "name": "ipython",
    "version": 3
   },
   "file_extension": ".py",
   "mimetype": "text/x-python",
   "name": "python",
   "nbconvert_exporter": "python",
   "pygments_lexer": "ipython3",
   "version": "3.10.13"
  }
 },
 "nbformat": 4,
 "nbformat_minor": 5
}
