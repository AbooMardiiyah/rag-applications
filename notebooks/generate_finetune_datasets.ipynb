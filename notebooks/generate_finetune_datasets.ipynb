{
 "cells": [
  {
   "attachments": {},
   "cell_type": "markdown",
   "id": "9fd6de0a-8c4a-4a09-8c47-2af452e95cd4",
   "metadata": {},
   "source": [
    "# Query/Context Dataset Generation\n",
    "***\n",
    "\n",
    "This notebook walks students through the process of generating datasets of query/context pairs which can be used for two primary purposes:\n",
    "- Fine-tuning an embedding model\n",
    "- Serve as ground truth for retrieval evaluation"
   ]
  },
  {
   "cell_type": "code",
   "execution_count": 17,
   "id": "1e7a0b9a-0f63-465f-b238-286433923925",
   "metadata": {},
   "outputs": [
    {
     "name": "stdout",
     "output_type": "stream",
     "text": [
      "The autoreload extension is already loaded. To reload it, use:\n",
      "  %reload_ext autoreload\n"
     ]
    }
   ],
   "source": [
    "%load_ext autoreload \n",
    "%autoreload 2\n",
    "\n",
    "import sys\n",
    "sys.path.append('../')\n",
    "\n",
    "from src.evaluation.retrieval_evaluation import QueryContextGenerator\n",
    "from src.preprocessor.preprocessing import FileIO\n",
    "from src.llm.prompt_templates import qa_generation_prompt\n",
    "from src.llm.llm_interface import LLM\n",
    "from tqdm import tqdm\n",
    "from rich import print\n",
    "import random\n",
    "import pandas as pd\n",
    "import uuid\n",
    "import re\n",
    "import os\n",
    "\n",
    "from dotenv import load_dotenv\n",
    "env = load_dotenv('.env', override=True)"
   ]
  },
  {
   "cell_type": "code",
   "execution_count": 13,
   "id": "446de940-08c0-469c-865f-704edc091669",
   "metadata": {},
   "outputs": [
    {
     "name": "stdout",
     "output_type": "stream",
     "text": [
      "Shape of data: (51128, 13)\n",
      "Memory Usage: 5.07+ MB\n"
     ]
    }
   ],
   "source": [
    "data_path = '../data/huberman_minilm-128.parquet'\n",
    "data = FileIO().load_parquet(data_path)"
   ]
  },
  {
   "cell_type": "code",
   "execution_count": 14,
   "id": "f0e71d80-87e2-4fe2-b98b-90ecf863385b",
   "metadata": {},
   "outputs": [],
   "source": [
    "llm = LLM(model_name='azure/gpt-35-turbo', \n",
    "          api_key=os.environ['AZURE_OPENAI_API_KEY'],\n",
    "          api_version=os.environ['AZURE_OPENAI_API_VERSION'],\n",
    "          api_base=os.environ['AZURE_OPENAI_ENDPOINT'])"
   ]
  },
  {
   "cell_type": "code",
   "execution_count": 21,
   "id": "6b8b80be-5f90-45a3-810a-34df4e184a19",
   "metadata": {},
   "outputs": [],
   "source": [
    "generator = QueryContextGenerator(llm)"
   ]
  },
  {
   "cell_type": "code",
   "execution_count": 22,
   "id": "ccf10c7b-364f-4f9e-a5f9-b8747c3ddb9b",
   "metadata": {},
   "outputs": [
    {
     "data": {
      "text/html": [
       "<pre style=\"white-space:pre;overflow-x:auto;line-height:normal;font-family:Menlo,'DejaVu Sans Mono',consolas,'Courier New',monospace\">Using a total_chars length of <span style=\"color: #008080; text-decoration-color: #008080; font-weight: bold\">502</span>\n",
       "</pre>\n"
      ],
      "text/plain": [
       "Using a total_chars length of \u001b[1;36m502\u001b[0m\n"
      ]
     },
     "metadata": {},
     "output_type": "display_data"
    },
    {
     "data": {
      "text/html": [
       "<pre style=\"white-space:pre;overflow-x:auto;line-height:normal;font-family:Menlo,'DejaVu Sans Mono',consolas,'Courier New',monospace\"><span style=\"color: #008080; text-decoration-color: #008080; font-weight: bold\">5</span> questions generated\n",
       "</pre>\n"
      ],
      "text/plain": [
       "\u001b[1;36m5\u001b[0m questions generated\n"
      ]
     },
     "metadata": {},
     "output_type": "display_data"
    },
    {
     "data": {
      "text/html": [
       "<pre style=\"white-space:pre;overflow-x:auto;line-height:normal;font-family:Menlo,'DejaVu Sans Mono',consolas,'Courier New',monospace\"><span style=\"color: #008080; text-decoration-color: #008080; font-weight: bold\">10</span> questions generated\n",
       "</pre>\n"
      ],
      "text/plain": [
       "\u001b[1;36m10\u001b[0m questions generated\n"
      ]
     },
     "metadata": {},
     "output_type": "display_data"
    },
    {
     "data": {
      "text/html": [
       "<pre style=\"white-space:pre;overflow-x:auto;line-height:normal;font-family:Menlo,'DejaVu Sans Mono',consolas,'Courier New',monospace\">No questions retrieved for this chunk\n",
       "</pre>\n"
      ],
      "text/plain": [
       "No questions retrieved for this chunk\n"
      ]
     },
     "metadata": {},
     "output_type": "display_data"
    },
    {
     "data": {
      "text/html": [
       "<pre style=\"white-space:pre;overflow-x:auto;line-height:normal;font-family:Menlo,'DejaVu Sans Mono',consolas,'Courier New',monospace\"><span style=\"color: #008080; text-decoration-color: #008080; font-weight: bold\">20</span> questions generated\n",
       "</pre>\n"
      ],
      "text/plain": [
       "\u001b[1;36m20\u001b[0m questions generated\n"
      ]
     },
     "metadata": {},
     "output_type": "display_data"
    },
    {
     "data": {
      "text/html": [
       "<pre style=\"white-space:pre;overflow-x:auto;line-height:normal;font-family:Menlo,'DejaVu Sans Mono',consolas,'Courier New',monospace\"><span style=\"color: #008080; text-decoration-color: #008080; font-weight: bold\">25</span> questions generated\n",
       "</pre>\n"
      ],
      "text/plain": [
       "\u001b[1;36m25\u001b[0m questions generated\n"
      ]
     },
     "metadata": {},
     "output_type": "display_data"
    },
    {
     "data": {
      "text/html": [
       "<pre style=\"white-space:pre;overflow-x:auto;line-height:normal;font-family:Menlo,'DejaVu Sans Mono',consolas,'Courier New',monospace\"><span style=\"color: #008080; text-decoration-color: #008080; font-weight: bold\">30</span> questions generated\n",
       "</pre>\n"
      ],
      "text/plain": [
       "\u001b[1;36m30\u001b[0m questions generated\n"
      ]
     },
     "metadata": {},
     "output_type": "display_data"
    },
    {
     "data": {
      "text/html": [
       "<pre style=\"white-space:pre;overflow-x:auto;line-height:normal;font-family:Menlo,'DejaVu Sans Mono',consolas,'Courier New',monospace\"><span style=\"color: #008080; text-decoration-color: #008080; font-weight: bold\">35</span> questions generated\n",
       "</pre>\n"
      ],
      "text/plain": [
       "\u001b[1;36m35\u001b[0m questions generated\n"
      ]
     },
     "metadata": {},
     "output_type": "display_data"
    },
    {
     "data": {
      "text/html": [
       "<pre style=\"white-space:pre;overflow-x:auto;line-height:normal;font-family:Menlo,'DejaVu Sans Mono',consolas,'Courier New',monospace\"><span style=\"color: #008080; text-decoration-color: #008080; font-weight: bold\">40</span> questions generated\n",
       "</pre>\n"
      ],
      "text/plain": [
       "\u001b[1;36m40\u001b[0m questions generated\n"
      ]
     },
     "metadata": {},
     "output_type": "display_data"
    },
    {
     "data": {
      "text/html": [
       "<pre style=\"white-space:pre;overflow-x:auto;line-height:normal;font-family:Menlo,'DejaVu Sans Mono',consolas,'Courier New',monospace\">No questions retrieved for this chunk\n",
       "</pre>\n"
      ],
      "text/plain": [
       "No questions retrieved for this chunk\n"
      ]
     },
     "metadata": {},
     "output_type": "display_data"
    },
    {
     "data": {
      "text/html": [
       "<pre style=\"white-space:pre;overflow-x:auto;line-height:normal;font-family:Menlo,'DejaVu Sans Mono',consolas,'Courier New',monospace\"><span style=\"color: #008080; text-decoration-color: #008080; font-weight: bold\">50</span> questions generated\n",
       "</pre>\n"
      ],
      "text/plain": [
       "\u001b[1;36m50\u001b[0m questions generated\n"
      ]
     },
     "metadata": {},
     "output_type": "display_data"
    }
   ],
   "source": [
    "testrun = generator.generate_qa_embedding_pairs(data, qa_generation_prompt, num_total_questions=50, num_questions_per_chunk=2, threshold=0.80)"
   ]
  },
  {
   "cell_type": "code",
   "execution_count": 26,
   "id": "1dd93f46-292b-42fe-bca7-ac2224acf1b1",
   "metadata": {},
   "outputs": [
    {
     "data": {
      "text/plain": [
       "{'queries': {'5465e49d-3211-49d0-bd5e-33170bf33e2b': 'How can diabetic retinopathy be treated, and what are some common methods used for treatment?',\n",
       "  'ee449ded-2335-49a5-8545-9100e23679de': 'Why does the guest believe that the current approach to evaluating learning outcomes in schools needs to shift?',\n",
       "  'bc97bc9c-58c5-46f2-be20-4669da901deb': 'How long did protein synthesis peak after the infusion of essential amino acids in the study mentioned in the transcript?',\n",
       "  '2c083076-3576-4ace-b54b-d5bf38c460f9': \"What study out of Wolf's lab suggested the duration for which protein synthesis peaked after the infusion of essential amino acids?\",\n",
       "  'f521d0f4-dd2a-432d-9738-90da3364de9b': 'What determines whether getting into cold water feels good or stressful based on your current temperature?',\n",
       "  'b5d9b580-25b2-4aab-9ef1-024c64987401': 'How thin should the rim of the glasses be to avoid looking like goggles?',\n",
       "  'efd268fa-0d0b-4ee0-a08e-ed35577f82e5': 'How do researchers typically determine the dosage of MDMA used in clinical and research studies?',\n",
       "  'c9fb8885-bfda-4976-9098-bddb6ba939aa': 'How does the guest achieve strength and hypertrophy goals for different muscle groups?',\n",
       "  '80d0e991-38c4-44a3-a444-fba17340f317': 'What kind of work has Helene Langevin conducted, and what viewpoint has she taken in her approach?',\n",
       "  '82f5844c-30ed-4d08-acca-f7a89893b8b0': 'How do fecal transplants from individuals with healthy weight contribute to weight loss in people unable to lose weight through other methods?',\n",
       "  'dc4359f1-c66c-4d98-8146-e10f6ab7a4a7': 'How do endogenous cannabinoids affect the probability of neurotransmitter release in neurons?',\n",
       "  'df94b935-9d54-4ba6-af39-e6b01623d778': 'What is the role of endogenous cannabinoids in regulating the release of neurotransmitters in neurons?',\n",
       "  '0e935ab9-629f-4296-ace7-b2030ff4daf3': 'How do white blood cells actually kill invading bacteria, virus, or parasites?',\n",
       "  '9c3b6c6d-3f44-46a4-a3be-11c5444002a4': 'What is the significance of pus and the white part in the context of infection and the immune system?',\n",
       "  'd019e87c-bb45-424f-969a-93ab9cc564f1': 'How does the mode of childbirth affect the initial colonization of gut microbiota in infants?',\n",
       "  '82264a06-dacc-4203-a4af-116c75496047': \"Why do infants born by C-section have gut microbiota that resembles human skin rather than the birth canal or mother's stool microbiota?\",\n",
       "  'ec1861d0-8e7b-45fa-b112-ba947b1ef9c8': 'How has the inadequate reimbursement for mental health care by insurance companies impacted people in the United States?',\n",
       "  'dfe49d9e-09da-40ca-9a72-a48e86d019ba': 'How does getting a viral infection during pregnancy impact egg and sperm analysis?',\n",
       "  'dc6d759f-5ada-4031-98cc-98a12d09f324': 'What should pregnant women do if they experience a viral infection during the first trimester?',\n",
       "  '9e049bb6-6d1c-4b37-8f7f-0db1ed98c639': \"What did Dr. Adam Grant's coach Eric find to be the most meaningful about his accomplishments as a diver?\",\n",
       "  '04c31091-6712-46dc-b3b7-7ed3ef940ccf': 'How do you feel when watching wrestling and anticipating a dopamine hit?',\n",
       "  'bbfcdf9d-199d-4d2b-b013-16e690d5faa9': 'What makes watching wrestling relaxing for you?',\n",
       "  '6e8793cd-3b46-4d50-9f73-fba78eaf2437': 'How has the increase in sugar and hidden sugars contributed to the rise in obesity and diabetes?',\n",
       "  '6e3eb7b4-29e6-4beb-923b-efc9bb50f655': 'How does turning on the lights in the room of a teen before they wake up help them get more sleep the subsequent night?',\n",
       "  '8712d4ff-8160-46a2-a814-ac7d3a58feef': 'What data from Stanford supports the idea of starting classes later for adolescents and teens?',\n",
       "  '28d696c0-987d-46e7-a578-6a369a44b896': 'How can different patterns of sound evoke movement of different body parts in babies and adults?',\n",
       "  '05c90b05-4012-4e99-931e-0c0a73643792': 'How did the idea of using a continual glucose monitor for paying attention to glucose levels in a professional race car driving setting lead to potential applications for healthy individuals?',\n",
       "  '45fb0ec0-73fd-47e2-bd5e-7fa81e4cb014': 'How common is the use of cannabis among pregnant mothers in the United States according to the most recent survey?',\n",
       "  '5f58a502-13a2-42cb-9d8e-1e973208c253': \"What is the concern related to the ingestion of cannabis edibles during pregnancy from a developmental neurobiologist's perspective?\",\n",
       "  '111b61a3-84c8-46df-a2d9-7c1f1a5ea821': 'How do many students approach assignments with a midnight deadline?',\n",
       "  '65fae953-b654-4bfd-80a0-d8df43eca00c': 'How did the study recreate headache in human subjects?',\n",
       "  '0221fc74-405c-4d3b-a176-2bbabe5f8720': 'Why did the study focus on understanding the neurophysiology of headache?',\n",
       "  '1d455efa-4a09-46f6-b7bd-bde906315982': 'How did the researchers plan to approach human dietary interventions and the monitoring of the immune system and microbiome?',\n",
       "  'bdc1ea11-e90e-4aa9-a0d0-fd0e3ac5dbdc': 'How does classic psychedelic therapy differ from MDMA therapy in terms of addressing pain and trauma?',\n",
       "  '16397e9b-48d9-4b87-b5a6-b2ca65e02ec1': 'What distinguishes MDMA therapy from classic psychedelic therapy in terms of the approach to addressing pain and trauma?',\n",
       "  'd8598143-0112-401c-bc37-e4db546da3aa': 'How did Duncan French and his colleagues find the ideal training protocols for stimulating testosterone release?',\n",
       "  'f33e8da6-87b6-427f-b3f0-7ade0bcb5ec3': 'How did the negotiation in the Philippines involving Jeff Schilling and the terrorist group Abu Sayyaf eventually end?',\n",
       "  '594898b3-c60d-4654-a00d-0419cbe396e4': 'What important outcome resulted from slowing down the negotiation process in the case involving Jeff Schilling and the terrorist group Abu Sayyaf in the Philippines?',\n",
       "  '8b401d5e-45bd-4452-8dbb-3f5e73876a8c': 'How was the potential impact of the gut microbiome on health initially discovered?',\n",
       "  'b2c17b77-00a2-410b-9a25-37567fd3c1e4': 'Why did the early discovery of the gut microbiome focus on colitis rather than the gut to brain pathway?',\n",
       "  '52b9ecb3-02d0-4f69-9cd1-e9daabbded79': 'How can one adjust their personal play identity to benefit themselves in work, relationships, and overall happiness according to the episode guest?',\n",
       "  '3354cd3b-eb10-42a8-b15c-b4fd8c020c43': 'How can one incorporate both bilateral and unilateral exercises into their training routine?',\n",
       "  '0a5fffd4-512b-4db0-9e71-f2b91d08768e': 'What does bilateral and unilateral exercises refer to in the context of a workout?',\n",
       "  'e20b1c07-6035-40bb-812f-7fb31552a59b': 'How can artificial overhead lights trigger the neurons in the retina to activate the circadian clock?',\n",
       "  '7ca13c32-7373-46a4-b6d1-563961d96ffa': 'How does Dr. Eddie Chang use brain machine interface to help paralyzed people communicate?',\n",
       "  'f363d2b6-0e93-4b06-ae9e-c43fa3517a5a': 'What recognition has Dr. Eddie Chang achieved for his work in bringing language out of paralyzed people?',\n",
       "  'bc042cab-e621-44d6-957b-331dc6e84daf': \"How can recognizing different attachment styles help us navigate healthier romantic relationships, according to the guest's explanation in the transcript?\",\n",
       "  'c982d2e7-a92b-4770-9025-e6508792fbd2': 'How can meditation help improve interoception?',\n",
       "  'e825ed03-9c55-4f5d-b12b-3e85b7579101': 'What is one of the reasons why meditation is powerful according to the guest?',\n",
       "  'a69451dd-0a9a-4b32-8f2c-f2abba23d101': 'How does alcohol and THC affect the quality of sleep?'},\n",
       " 'corpus': {'_ltcLEM-5HU_262': 'And with the growth in diabetes, unfortunately, comes a growth of the complications of diabetes. And one of the major complications of diabetes is damage to the retina inside the eye, and we call that diabetic retinopathy. And there again, some of the same damage that occurs, especially when in diabetes, again, some new blood vessels are growing or blood vessels are leaky. Some of that can be treated with, it used to be lasers and now more commonly is often being treated with some of the same injectable drugs that are treating macular degeneration.',\n",
       "  'S8jWFcDGz4Y_131': \"That is just not what school is about. And it needs to be. We need to shift. So right now, the way in which we think about school is basically judged by quote-unquote learning outcomes, right? What have you learned? And how do we know that? We make you demonstrate it by yourself under time pressure in a particular setting, right? Or you're going to come back and I'm going to give you a question and you're going to give me the answer I had in mind. And if you do that in time, then I'll say you learned it.\",\n",
       "  'K4Ze-Sp6aUE_196': \"So basically, like once you trigger the system, kind of runs for a defined period of time, and then it takes time to essentially like reset for lack of a better term. It's also been referred to as the muscle full effect. But so I looked at that and said, why am I eating every two hours then? And there was even a study out of Wolf's lab, like back in 99, I think, where they infused essential amino acids for six hours. Protein synthesis went up, peaked at 60 minutes, came back down at 120 and never went back up again.\",\n",
       "  'x3MgDtZovks_26': \"But you raise a really important point, which is something I get asked about a lot for people that are curious about using deliberate cold exposure, which is how cold should the water be? And I know it's very hard to give a straight prescription for that because I think it boils down to what you just said, which is it's really the difference between your current temperature and really the temperature of the surface of your skin and the temperature of the water. So if you're very warm, getting into cold feels good. If you're already cold, getting into more cold feels stressful.\",\n",
       "  '1Wo6SqLNmLk_239': \"So it's like, where are the eye tracking sensors going to be? It's like, well, you want to make sure that the rim of the glasses is actually quite thin because there's a kind of variance of how thick can glasses be before they look more like goggles than glasses. There's this whole space, and I think people are going to end up choosing what product makes sense for them. Maybe they want something that's more powerful, that has more of the sensors, but it's going to be a little more expensive, maybe slightly thicker.\",\n",
       "  'slUCmZJDXrk_90': \"We hear about frequency of use, but rarely do we hear about the specific dosages that are taken in any one particular session. So when we talk about the subjective effects or the brain networks that are activated when people take MDMA. In general, we're talking about dosages somewhere between 0.75 milligrams per kilogram of body weight and 1.5 milligrams per kilogram of body weight. Although typically you're going to see studies, both clinical and more research explorative, using anywhere from one to 1.5 milligrams of MDMA per kilogram of body weight.\",\n",
       "  'q1Ss8sTbFBY_96': \"But I can say that for me, I've been able to achieve the strength and hypertrophy goals that I've been seeking doing things like leg extensions and hack squats, or for hamstrings doing things like leg curls and glute ham raises, or for calves doing standing and seated calf raises and so on. I think a key principle that everyone should pay attention to is one that was taught to me by an excellent strength coach years ago, and I still use this, and at least it works for me. For each muscle group, try and find an exercise in which you get that muscle into a weighted stretch position.\",\n",
       "  'tkH2-_jMCSk_211': \"And this was the work of Helene Langevin, who's a medical doctor, has done really important work on the mechanisms underlying things like acupuncture and has approached all that from a very mechanistic viewpoint, right? So not looking just at the effects of acupuncture, but really trying to understand what sorts of cytokines, inflammatory molecules and pathways are activated. What sorts of neural mechanisms get engaged by things like acupuncture that impinges on the fascial tissues and so forth? And Dr. Langevin is currently a director of the National Institutes of Complementary Health and Medicine at the National Institutes of Health.\",\n",
       "  '15R2pMqU2ok_135': \"These are somewhat rare disorders, but these are people that would either do, get gastric bypass surgery. Some people are now getting these fecal transplants from people that have healthy weight, and they take the stool from them, they put it into lower digestive tract and they can see substantial improvement in weight loss in people that were otherwise unable to do that. In some cases, actually, they can start eating relatively normal levels of food and still lose weight. So pretty remarkable. And that tells us there's something in these microbiota that's really powerful. Now, how those effects are generated isn't clear.\",\n",
       "  'gXvuJu1kt48_94': 'So what happens is neurotransmitter goes from presynaptic neuron to postsynaptic neuron, but under certain conditions, the postsynaptic neuron itself releases a chemical, and that chemical goes backward, what we call retrogradely to the presynaptic neuron, binds to receptors there, and changes the probability that the presynaptic neuron will release neurotransmitter. Put simply, endogenous cannabinoids tend to decrease the probability that a neuron will release neurotransmitter. They are sort of a break on the system.',\n",
       "  'poOf8b2WE2g_38': \"And I'm using the analogy of the body bag, but in a sense it is one, it's the right one rather, because these cells that come in and kill things, the way they do that is actually to engulf the invading bacteria, virus, or parasite. So they actually surround it. And when you see pus or you see infection in maybe a cut on the skin or something like that, or even in an ingrown hair that gets some bacteria in it, that pus and that the white part, I know it's kind of gross to talk about, but those are the white blood cells.\",\n",
       "  'ouCWNRvPk20_36': \"So an example is whether an infant is born by C-section or born vaginally. We know from beautiful work that's been done in the field that infants that are born by C-section actually have a gut microbiota that looks more like human skin than it does like either the birth canal, the vagina microbiota, or the mother's stool microbiota. Babies that are born through the birth canal have initial colonization of vaginal microbes and of stool microbes from their mother. And so just these first days, whether you're born by C-section or through natural childbirth, your gut microbiota looks very different.\",\n",
       "  'qNzl12g0Dd8_214': \"An industry that should be delivering care often is doing good things, but too often I think is allowing barriers to be put up to the care that's needed. And this is particularly true with mental health. I know we're going to talk about that, but mental health care has just been such a difficult thing for people to get in our country. And part of the reason, there are many reasons, but one of them is that insurance companies historically did not reimburse adequately or in the same level for mental health care as they did for physical health care.\",\n",
       "  'O1YRwWmue4Y_347': \"So if you did get an influenza or a cold or other kind of viral infection during the first trimester or any trimester of pregnancy, I don't want to cause alarm, but you should talk to your OBGYN about this. The goal of course is to avoid viral illness at any time when you're trying to conceive or have a healthy pregnancy. But of course, sometimes people will get ill and the children can turn out to be perfectly normal and fine, but it is something that you want to avoid and it will impact your egg analysis and it will impact sperm analysis.\",\n",
       "  '3gtvNYa3Nd8_284': \"I did not have the talent to be that good, but I got way better than I ever expected. And Eric said to me, he said, looking back, he said, you got further with less talent than any diver I've ever coached. That was so meaningful to me. What it reminded me was, my proudest accomplishments were not in the areas where I started out with the most talent. They were in the areas where I had overcome the most obstacles. I think that, to me, is really what drives people around potential. It's not performance that's motivating.\",\n",
       "  'ycOBZZeVeAc_228': \"I know that if I watch wrestling before I go to sleep it's going to be a good night's sleep do you dream about wrestling no never but it's it's just relaxing it's uh it's just relaxing do you anticipate when you watch it like here comes the dopamine dopamine hit. Sometimes. Sometimes when it happens, it's exciting. He's going up for the three-pointer. Yeah, sometimes it's exciting. But do you enjoy it? But even then, it's like the stakes are low. It's like I don't really care what happens, which feels good.\",\n",
       "  'n28W4AmvMDE_169': \"I was wondering this earlier. 20 years ago, there was a lot more margarine in refrigerators, but people were thinner and there was less diabetes. Everything you told us about margarine and trans fats is that it's bad, bad, bad. Now butter is back, as Time Magazine and you said. So clearly can't be the transition away from trans fats that's increased obesity. Well, no. So it's going to be the increase in sugar and these hidden sugars. Exactly. That's right. The key, though, is Pakistan and India and China.\",\n",
       "  'NAATB55oxeQ_181': 'So their circadian dead zone is later, et cetera. So I think with adolescents and teens, it makes sense to kind of give them a little bit more rope in terms of allowing them some leeway to adjust their own schedule. Some schools are even starting classes later on the basis of some very good biology to support this late shifted rhythm and this extended sleep phase. There are data from Dr. Jamie Zeitzer, Department of Psychiatry and Behavioral Sciences and others at Stanford showing that turning on the lights in the room of a teen before they wake up helps them get more sleep the subsequent night.',\n",
       "  'gveDhZW-rUk_35': \"Whereas other patterns of sound, different frequencies in different arrangements, evoked movement of their limbs more than their torso and still other patterns of sounds evoked movement of their torso, limbs, and head. In other words, babies dancing. And if you've ever been to a wedding or a party or been out dancing, you will see people who include more torso versus limb versus limb and torso movement when they dance. And yes, of course, some of this relates to proficiency in dancing, comfort on the dance floor, et cetera.\",\n",
       "  'doupx8SAs5Y_25': \"And I remember attending the very first gathering at Kevin Kelly's house in Pacifica, California. This was around 2009, 12 people, 13 people to discuss quantifying health. But the example of a professional race car driver, I can't remember the form factor, whether it was F1 or NASCAR or other, who was using this continual glucose monitor for paying attention to glucose levels while driving. And I thought to myself, would that not be useful for healthy normals? Would that not have other applications?\",\n",
       "  'gXvuJu1kt48_267': \"The most recent survey of pregnant mothers in the United States show that 15%, one five, 15% of pregnant mothers report using cannabis in some form or another, either smoking it or more likely ingestion of an edible because they are aware of the negative effects of smoking on the developing fetus, ingestion of an edible to increase THC and or CBD during pregnancy, which to me, I have to say as a developmental neurobiologist is frankly, it's scary. It's absolutely scary because that CB1 receptor is not just a minor player in neural development.\",\n",
       "  '7R3-3HR6-u4_192': \"So then now what is happening is, I don't know about Stanford, maybe when you are giving assignment, when is the deadline? Midnight, typically. Midnight. So then most of us, most students, they will try to cram as much as possible, try to solve as much as possible and submit at midnight. And it'll be really cool to go back to your system administrator to see is there so many frequency plot of frequency distribution of what time people are submitting their assignment. Because we know, when we submit our grant.\",\n",
       "  'CGjdgy0cwGk_247': 'Well, this is an interesting study because rather than look at the effectiveness of peppermint and eucalyptus oil and other oils on headache, what they did is because they want to look at the mechanisms underlying headache, which I confess I love the fact that they want to understand the neurophysiology and not just get subjective ratings of headache, although they did that too, but they really want to understand how these oils can impact things like muscular tension or perception of pain. What they did is they recreated headache in human subjects by using tightening cuffs of the head.',\n",
       "  'ouCWNRvPk20_152': \"We could just start doing human dietary interventions, longitudinally monitoring the immune system and the microbiome and starting to put the pieces together of what is it in diet that can change our microbiome in a healthy way, help us define what a healthy microbiome is, and monitor the immune system in great detail. And so there were really two critical components of this in addition to our microbiome expertise. One was Christopher Gardner's group. We wanted to do these human studies, but we're absolutely terrified of humans. We work with mice. Humans are terrifying in many ways. But they house themselves.\",\n",
       "  'fcxjwA4C4Cw_162': \"Unlike some of the PTSD work, you aren't encouraging them to focus on the index trauma and then work through it and try and digest it. We don't do that with the pain. So the pain's there, but there isn't an invitation to focus on it. And that's probably one of the differences with classic psychedelic therapy versus MDMA therapy. Arguably, MDMA therapy is more like, it's a bit closer to traditional talk therapy, where there is more dialogue. People are able to talk on MDMA. In the MDMA trials, do you know whether or not they used eye masks?\",\n",
       "  'XLr2RKoD-oY_146': \"Duncan French, who's one of the directors of the UFC Performance Center, when he was a graduate student at University of Connecticut Storrs, did some beautiful work. He and his colleagues found the ideal training protocols for stimulating testosterone release, which is something that many people want to do for a variety of reasons. And that involved doing six sets of 10 repetitions, even if it requires lightening the weight on one set to the next, with about two minutes, 120 seconds rest in between sets, which if you think about it is pretty short rest and is pretty darn hard work.\",\n",
       "  'q8CHXefn7B4_65': 'And the second negotiation I had in the Philippines, the first one, a young man named Jeff Schilling was grabbed by terrorist group Abu Sayyaf. And he ended up walking away because we stole the bad guys long enough that we just, you know, sometimes if you can slow it down, you wait for something good to fall out of the sky. And it will. And that ended up happening in that case. And the bad guy ends up calling the negotiator that I coached on the phone after it was over to basically tell him that they still had a good relationship. It was nuts.',\n",
       "  '15R2pMqU2ok_131': \"So we have to take those with the appropriate grain of salt, but they're really exciting. And they come to us in parallel with other studies that are being done, taking the microbiomes of people who have one condition or lack of condition and putting it into people who have one condition or another condition. Let me explain what I mean by that. The early discovery of the gut microbiome and its potential to impact health was not in the context of the gut to brain pathway, but rather it was in the context of colitis.\",\n",
       "  'BwyZIWeBpRw_48': 'All of us have what we call a personal play identity. This personal play identity was laid down during development, and it is the identity that you assume in playful scenarios development and it is the identity that you assume in playful scenarios and it is the identity that you adopt in non-playful scenarios. The great news is that your personal play identity is plastic throughout your entire lifespan. You can adjust your personal play identity in ways that will benefit you in work and relationships and your overall level of happiness. We will discuss protocols and ways to do that.',\n",
       "  'CyDLbrZK75U_377': \"Personal preference, as long as the total amount of volume on the working muscle is equated throughout the week, which we'll get to those numbers in a second, then you're going to be in the exact same spot, no problem. I would actually generally encourage people to choose exercises in a variety of fashions. I actually think that it's important that you do some number of combination of what we call bilateral and unilateral exercises. So bilateral being, think about it like a squat, where bi meaning two, lateral, you have two feet on the ground moving in sequence here. Unilateral is one.\",\n",
       "  'NAATB55oxeQ_19': \"Well, when it's painful to look at, when you have to blink or close your eyes in order to bear it. So please don't look at very bright lights so painful that they're likely going to damage your eyes. However, if you get up in the morning and it's still dark out and you want to be awake, you would be wise to turn on artificial lights, in particular overhead lights for reasons I've discussed previously, but those overhead lights will optimally trigger the neurons, these melanopsin cells in the retina that will activate your circadian clock.\",\n",
       "  'Z7MU6zrAXsM_188': 'Speaking of storage of an ability to speak, you are doing some amazing work and have achieved some pretty incredible, well-deserved recognition for your work in bringing language out of paralyzed people, essentially allowing people who are locked in to a paralyzed state or otherwise unable to articulate speech using brain machine interface, essentially translating the neural activity of areas of the brain that would produce speech into hardware, wires and things of that sort, artificial non-biological tools in order to allow paralyzed people to communicate. We will provide a link to some of the popular press coverage of that work in the original papers.',\n",
       "  'gMRph_BvHB4_185': 'And that through a recognition that these categorizations exist, similar to the recognition that the type A, B, C, and D infant and toddler type attachments exist, that we can gain better self-awareness of who we are and how we tend to show up in romantic attachments and thereby navigate healthier mate seeking, healthier breakups, if the case dictates it, and in some cases, healthy long-term relationships by understanding that the other person can either be similar or complimentary to us. One is neither better than the other.',\n",
       "  'rW9QKc-iFoY_221': 'I encourage you to look it up. There are things you can do to improve your hearing and your taste and your smell. We talked about all those. But with interoception, you can get very good at this very fast. And I think this is one of the reasons why meditation is powerful. I think there are a lot of reasons why meditation is powerful. But one of the reasons is when you stop taking in exteroceptive information, information from the outside world, by closing your eyes and focusing inward, as they say, you start paying attention to your breathing cadence.',\n",
       "  'h2aWYjSA1Jc_159': \"One of the reasons I don't enjoy it is if I drink alcohol, I simply fall asleep. So that doesn't really accomplish any of the things that I really want to accomplish because the sleep that one gets after drinking alcohol is greatly disrupted sleep. Hate to break it to you, but that's the truth. And when Dr. Matt Walker came on this podcast, he said exactly the same thing. While THC and alcohol do help some people fall asleep and maybe even stay asleep, the architecture of that sleep is suboptimal compared to the sleep they would get without alcohol or THC in their system.\"},\n",
       " 'relevant_docs': {'5465e49d-3211-49d0-bd5e-33170bf33e2b': '_ltcLEM-5HU_262',\n",
       "  'ee449ded-2335-49a5-8545-9100e23679de': 'S8jWFcDGz4Y_131',\n",
       "  'bc97bc9c-58c5-46f2-be20-4669da901deb': 'K4Ze-Sp6aUE_196',\n",
       "  '2c083076-3576-4ace-b54b-d5bf38c460f9': 'K4Ze-Sp6aUE_196',\n",
       "  'f521d0f4-dd2a-432d-9738-90da3364de9b': 'x3MgDtZovks_26',\n",
       "  'b5d9b580-25b2-4aab-9ef1-024c64987401': '1Wo6SqLNmLk_239',\n",
       "  'efd268fa-0d0b-4ee0-a08e-ed35577f82e5': 'slUCmZJDXrk_90',\n",
       "  'c9fb8885-bfda-4976-9098-bddb6ba939aa': 'q1Ss8sTbFBY_96',\n",
       "  '80d0e991-38c4-44a3-a444-fba17340f317': 'tkH2-_jMCSk_211',\n",
       "  '82f5844c-30ed-4d08-acca-f7a89893b8b0': '15R2pMqU2ok_135',\n",
       "  'dc4359f1-c66c-4d98-8146-e10f6ab7a4a7': 'gXvuJu1kt48_94',\n",
       "  'df94b935-9d54-4ba6-af39-e6b01623d778': 'gXvuJu1kt48_94',\n",
       "  '0e935ab9-629f-4296-ace7-b2030ff4daf3': 'poOf8b2WE2g_38',\n",
       "  '9c3b6c6d-3f44-46a4-a3be-11c5444002a4': 'poOf8b2WE2g_38',\n",
       "  'd019e87c-bb45-424f-969a-93ab9cc564f1': 'ouCWNRvPk20_36',\n",
       "  '82264a06-dacc-4203-a4af-116c75496047': 'ouCWNRvPk20_36',\n",
       "  'ec1861d0-8e7b-45fa-b112-ba947b1ef9c8': 'qNzl12g0Dd8_214',\n",
       "  'dfe49d9e-09da-40ca-9a72-a48e86d019ba': 'O1YRwWmue4Y_347',\n",
       "  'dc6d759f-5ada-4031-98cc-98a12d09f324': 'O1YRwWmue4Y_347',\n",
       "  '9e049bb6-6d1c-4b37-8f7f-0db1ed98c639': '3gtvNYa3Nd8_284',\n",
       "  '04c31091-6712-46dc-b3b7-7ed3ef940ccf': 'ycOBZZeVeAc_228',\n",
       "  'bbfcdf9d-199d-4d2b-b013-16e690d5faa9': 'ycOBZZeVeAc_228',\n",
       "  '6e8793cd-3b46-4d50-9f73-fba78eaf2437': 'n28W4AmvMDE_169',\n",
       "  '6e3eb7b4-29e6-4beb-923b-efc9bb50f655': 'NAATB55oxeQ_181',\n",
       "  '8712d4ff-8160-46a2-a814-ac7d3a58feef': 'NAATB55oxeQ_181',\n",
       "  '28d696c0-987d-46e7-a578-6a369a44b896': 'gveDhZW-rUk_35',\n",
       "  '05c90b05-4012-4e99-931e-0c0a73643792': 'doupx8SAs5Y_25',\n",
       "  '45fb0ec0-73fd-47e2-bd5e-7fa81e4cb014': 'gXvuJu1kt48_267',\n",
       "  '5f58a502-13a2-42cb-9d8e-1e973208c253': 'gXvuJu1kt48_267',\n",
       "  '111b61a3-84c8-46df-a2d9-7c1f1a5ea821': '7R3-3HR6-u4_192',\n",
       "  '65fae953-b654-4bfd-80a0-d8df43eca00c': 'CGjdgy0cwGk_247',\n",
       "  '0221fc74-405c-4d3b-a176-2bbabe5f8720': 'CGjdgy0cwGk_247',\n",
       "  '1d455efa-4a09-46f6-b7bd-bde906315982': 'ouCWNRvPk20_152',\n",
       "  'bdc1ea11-e90e-4aa9-a0d0-fd0e3ac5dbdc': 'fcxjwA4C4Cw_162',\n",
       "  '16397e9b-48d9-4b87-b5a6-b2ca65e02ec1': 'fcxjwA4C4Cw_162',\n",
       "  'd8598143-0112-401c-bc37-e4db546da3aa': 'XLr2RKoD-oY_146',\n",
       "  'f33e8da6-87b6-427f-b3f0-7ade0bcb5ec3': 'q8CHXefn7B4_65',\n",
       "  '594898b3-c60d-4654-a00d-0419cbe396e4': 'q8CHXefn7B4_65',\n",
       "  '8b401d5e-45bd-4452-8dbb-3f5e73876a8c': '15R2pMqU2ok_131',\n",
       "  'b2c17b77-00a2-410b-9a25-37567fd3c1e4': '15R2pMqU2ok_131',\n",
       "  '52b9ecb3-02d0-4f69-9cd1-e9daabbded79': 'BwyZIWeBpRw_48',\n",
       "  '3354cd3b-eb10-42a8-b15c-b4fd8c020c43': 'CyDLbrZK75U_377',\n",
       "  '0a5fffd4-512b-4db0-9e71-f2b91d08768e': 'CyDLbrZK75U_377',\n",
       "  'e20b1c07-6035-40bb-812f-7fb31552a59b': 'NAATB55oxeQ_19',\n",
       "  '7ca13c32-7373-46a4-b6d1-563961d96ffa': 'Z7MU6zrAXsM_188',\n",
       "  'f363d2b6-0e93-4b06-ae9e-c43fa3517a5a': 'Z7MU6zrAXsM_188',\n",
       "  'bc042cab-e621-44d6-957b-331dc6e84daf': 'gMRph_BvHB4_185',\n",
       "  'c982d2e7-a92b-4770-9025-e6508792fbd2': 'rW9QKc-iFoY_221',\n",
       "  'e825ed03-9c55-4f5d-b12b-3e85b7579101': 'rW9QKc-iFoY_221',\n",
       "  'a69451dd-0a9a-4b32-8f2c-f2abba23d101': 'h2aWYjSA1Jc_159'}}"
      ]
     },
     "execution_count": 26,
     "metadata": {},
     "output_type": "execute_result"
    }
   ],
   "source": [
    "testrun"
   ]
  },
  {
   "cell_type": "code",
   "execution_count": 319,
   "id": "71f293bc-71d8-4a0b-9057-50cf9c91d790",
   "metadata": {},
   "outputs": [],
   "source": [
    "def combine_datasets(dataset_1: dict, dataset_2: dict, final_total: int=100) -> dict:\n",
    "    queries = {'queries':{**dataset_1['queries'], **dataset_2['queries']}}\n",
    "    corpus = {'corpus':{**dataset_1['corpus'], **dataset_2['corpus']}}\n",
    "    relevant_docs = {'relevant_docs':{**dataset_1['relevant_docs'], **dataset_2['relevant_docs']}}\n",
    "    combined = {**queries, **corpus, **relevant_docs}"
   ]
  },
  {
   "cell_type": "code",
   "execution_count": 114,
   "id": "71c27953-153d-483f-9e07-cef7891210ee",
   "metadata": {
    "collapsed": true,
    "jupyter": {
     "outputs_hidden": true
    }
   },
   "outputs": [
    {
     "data": {
      "text/html": [
       "<pre style=\"white-space:pre;overflow-x:auto;line-height:normal;font-family:Menlo,'DejaVu Sans Mono',consolas,'Courier New',monospace\">QUERY: How can listeners residing outside of the United States access the supplements discussed on the Huberman Lab\n",
       "podcast?\n",
       "</pre>\n"
      ],
      "text/plain": [
       "QUERY: How can listeners residing outside of the United States access the supplements discussed on the Huberman Lab\n",
       "podcast?\n"
      ]
     },
     "metadata": {},
     "output_type": "display_data"
    },
    {
     "data": {
      "text/html": [
       "<pre style=\"white-space:pre;overflow-x:auto;line-height:normal;font-family:Menlo,'DejaVu Sans Mono',consolas,'Courier New',monospace\">CONTENT: First of all, Momentous Supplements are the very highest quality. Also, they tend to focus on single \n",
       "ingredient formulations, which makes it very straightforward to build the most cost-effective and biologically \n",
       "effective supplement regimen for you. We've also partnered with Momentous because we realized that many listeners \n",
       "of this podcast reside outside of the United States, and fortunately, Momentous ships internationally. If you'd \n",
       "like to learn more about the supplements discussed on the Huberman Lab podcast, you can go to livemomentous, \n",
       "spelled O-U-S, so that's livemomentous.com slash Huberman.\n",
       "</pre>\n"
      ],
      "text/plain": [
       "CONTENT: First of all, Momentous Supplements are the very highest quality. Also, they tend to focus on single \n",
       "ingredient formulations, which makes it very straightforward to build the most cost-effective and biologically \n",
       "effective supplement regimen for you. We've also partnered with Momentous because we realized that many listeners \n",
       "of this podcast reside outside of the United States, and fortunately, Momentous ships internationally. If you'd \n",
       "like to learn more about the supplements discussed on the Huberman Lab podcast, you can go to livemomentous, \n",
       "spelled O-U-S, so that's livemomentous.com slash Huberman.\n"
      ]
     },
     "metadata": {},
     "output_type": "display_data"
    },
    {
     "data": {
      "text/html": [
       "<pre style=\"white-space:pre;overflow-x:auto;line-height:normal;font-family:Menlo,'DejaVu Sans Mono',consolas,'Courier New',monospace\">----------------------------------------------------------------------------------------------------\n",
       "</pre>\n"
      ],
      "text/plain": [
       "----------------------------------------------------------------------------------------------------\n"
      ]
     },
     "metadata": {},
     "output_type": "display_data"
    },
    {
     "data": {
      "text/html": [
       "<pre style=\"white-space:pre;overflow-x:auto;line-height:normal;font-family:Menlo,'DejaVu Sans Mono',consolas,'Courier New',monospace\">QUERY: How is the release of epinephrine and norepinephrine linked to arousal and performance output during a \n",
       "workout?\n",
       "</pre>\n"
      ],
      "text/plain": [
       "QUERY: How is the release of epinephrine and norepinephrine linked to arousal and performance output during a \n",
       "workout?\n"
      ]
     },
     "metadata": {},
     "output_type": "display_data"
    },
    {
     "data": {
      "text/html": [
       "<pre style=\"white-space:pre;overflow-x:auto;line-height:normal;font-family:Menlo,'DejaVu Sans Mono',consolas,'Courier New',monospace\">CONTENT: So that brings you back to exercise preparation, competition for certain preparation, preparation for \n",
       "certain competition, excuse me, pre-workout routines, the use of music, all these different things that we know can\n",
       "now, anecdotally in the gym, we put into place. But the data that I presented showed that it was the first of its \n",
       "kind to show that this link between epinephrine and norepinephrine release and arousal and then consequent \n",
       "performance. So force output throughout the workout was intimately linked. So what was the takeaway there?\n",
       "</pre>\n"
      ],
      "text/plain": [
       "CONTENT: So that brings you back to exercise preparation, competition for certain preparation, preparation for \n",
       "certain competition, excuse me, pre-workout routines, the use of music, all these different things that we know can\n",
       "now, anecdotally in the gym, we put into place. But the data that I presented showed that it was the first of its \n",
       "kind to show that this link between epinephrine and norepinephrine release and arousal and then consequent \n",
       "performance. So force output throughout the workout was intimately linked. So what was the takeaway there?\n"
      ]
     },
     "metadata": {},
     "output_type": "display_data"
    },
    {
     "data": {
      "text/html": [
       "<pre style=\"white-space:pre;overflow-x:auto;line-height:normal;font-family:Menlo,'DejaVu Sans Mono',consolas,'Courier New',monospace\">----------------------------------------------------------------------------------------------------\n",
       "</pre>\n"
      ],
      "text/plain": [
       "----------------------------------------------------------------------------------------------------\n"
      ]
     },
     "metadata": {},
     "output_type": "display_data"
    },
    {
     "data": {
      "text/html": [
       "<pre style=\"white-space:pre;overflow-x:auto;line-height:normal;font-family:Menlo,'DejaVu Sans Mono',consolas,'Courier New',monospace\">QUERY: How do babies' visual acuity develop during their first couple of years?\n",
       "</pre>\n"
      ],
      "text/plain": [
       "QUERY: How do babies' visual acuity develop during their first couple of years?\n"
      ]
     },
     "metadata": {},
     "output_type": "display_data"
    },
    {
     "data": {
      "text/html": [
       "<pre style=\"white-space:pre;overflow-x:auto;line-height:normal;font-family:Menlo,'DejaVu Sans Mono',consolas,'Courier New',monospace\">CONTENT: It's not typical, as long as that's looking good, to worry about getting an eye exam from there kind of \n",
       "through childhood, like maybe early elementary school, unless your baby is presenting with one of a number of \n",
       "features that parents often pick up on. For example, as the baby's aging through those first couple of years, you \n",
       "know, through the first couple of years, babies actually don't have great visual acuity. And so as they're aging \n",
       "over those first couple of years, it's normal for them to have, you know, roving eye movements, for example, be \n",
       "searching their environment.\n",
       "</pre>\n"
      ],
      "text/plain": [
       "CONTENT: It's not typical, as long as that's looking good, to worry about getting an eye exam from there kind of \n",
       "through childhood, like maybe early elementary school, unless your baby is presenting with one of a number of \n",
       "features that parents often pick up on. For example, as the baby's aging through those first couple of years, you \n",
       "know, through the first couple of years, babies actually don't have great visual acuity. And so as they're aging \n",
       "over those first couple of years, it's normal for them to have, you know, roving eye movements, for example, be \n",
       "searching their environment.\n"
      ]
     },
     "metadata": {},
     "output_type": "display_data"
    },
    {
     "data": {
      "text/html": [
       "<pre style=\"white-space:pre;overflow-x:auto;line-height:normal;font-family:Menlo,'DejaVu Sans Mono',consolas,'Courier New',monospace\">----------------------------------------------------------------------------------------------------\n",
       "</pre>\n"
      ],
      "text/plain": [
       "----------------------------------------------------------------------------------------------------\n"
      ]
     },
     "metadata": {},
     "output_type": "display_data"
    },
    {
     "data": {
      "text/html": [
       "<pre style=\"white-space:pre;overflow-x:auto;line-height:normal;font-family:Menlo,'DejaVu Sans Mono',consolas,'Courier New',monospace\">QUERY: What are some normal visual behaviors in babies during their first couple of years?\n",
       "</pre>\n"
      ],
      "text/plain": [
       "QUERY: What are some normal visual behaviors in babies during their first couple of years?\n"
      ]
     },
     "metadata": {},
     "output_type": "display_data"
    },
    {
     "data": {
      "text/html": [
       "<pre style=\"white-space:pre;overflow-x:auto;line-height:normal;font-family:Menlo,'DejaVu Sans Mono',consolas,'Courier New',monospace\">CONTENT: It's not typical, as long as that's looking good, to worry about getting an eye exam from there kind of \n",
       "through childhood, like maybe early elementary school, unless your baby is presenting with one of a number of \n",
       "features that parents often pick up on. For example, as the baby's aging through those first couple of years, you \n",
       "know, through the first couple of years, babies actually don't have great visual acuity. And so as they're aging \n",
       "over those first couple of years, it's normal for them to have, you know, roving eye movements, for example, be \n",
       "searching their environment.\n",
       "</pre>\n"
      ],
      "text/plain": [
       "CONTENT: It's not typical, as long as that's looking good, to worry about getting an eye exam from there kind of \n",
       "through childhood, like maybe early elementary school, unless your baby is presenting with one of a number of \n",
       "features that parents often pick up on. For example, as the baby's aging through those first couple of years, you \n",
       "know, through the first couple of years, babies actually don't have great visual acuity. And so as they're aging \n",
       "over those first couple of years, it's normal for them to have, you know, roving eye movements, for example, be \n",
       "searching their environment.\n"
      ]
     },
     "metadata": {},
     "output_type": "display_data"
    },
    {
     "data": {
      "text/html": [
       "<pre style=\"white-space:pre;overflow-x:auto;line-height:normal;font-family:Menlo,'DejaVu Sans Mono',consolas,'Courier New',monospace\">----------------------------------------------------------------------------------------------------\n",
       "</pre>\n"
      ],
      "text/plain": [
       "----------------------------------------------------------------------------------------------------\n"
      ]
     },
     "metadata": {},
     "output_type": "display_data"
    },
    {
     "data": {
      "text/html": [
       "<pre style=\"white-space:pre;overflow-x:auto;line-height:normal;font-family:Menlo,'DejaVu Sans Mono',consolas,'Courier New',monospace\">QUERY: How does developmental plasticity differ from adult self-directed adaptive plasticity according to the \n",
       "transcript?\n",
       "</pre>\n"
      ],
      "text/plain": [
       "QUERY: How does developmental plasticity differ from adult self-directed adaptive plasticity according to the \n",
       "transcript?\n"
      ]
     },
     "metadata": {},
     "output_type": "display_data"
    },
    {
     "data": {
      "text/html": [
       "<pre style=\"white-space:pre;overflow-x:auto;line-height:normal;font-family:Menlo,'DejaVu Sans Mono',consolas,'Courier New',monospace\">CONTENT: So I don't want to get overly wordy with a number of different terms here, but I do think it's important \n",
       "to understand that we have developmental plasticity, again, in which the brain and nervous system changes simply in\n",
       "response to experiencing specific things for better or worse. And there's adult self-directed adaptive plasticity \n",
       "in which one can direct specific changes in terms of learning things cognitively or learning things in terms of \n",
       "motor function, so sport, dance, et cetera, or a combination of the two.\n",
       "</pre>\n"
      ],
      "text/plain": [
       "CONTENT: So I don't want to get overly wordy with a number of different terms here, but I do think it's important \n",
       "to understand that we have developmental plasticity, again, in which the brain and nervous system changes simply in\n",
       "response to experiencing specific things for better or worse. And there's adult self-directed adaptive plasticity \n",
       "in which one can direct specific changes in terms of learning things cognitively or learning things in terms of \n",
       "motor function, so sport, dance, et cetera, or a combination of the two.\n"
      ]
     },
     "metadata": {},
     "output_type": "display_data"
    },
    {
     "data": {
      "text/html": [
       "<pre style=\"white-space:pre;overflow-x:auto;line-height:normal;font-family:Menlo,'DejaVu Sans Mono',consolas,'Courier New',monospace\">----------------------------------------------------------------------------------------------------\n",
       "</pre>\n"
      ],
      "text/plain": [
       "----------------------------------------------------------------------------------------------------\n"
      ]
     },
     "metadata": {},
     "output_type": "display_data"
    },
    {
     "data": {
      "text/html": [
       "<pre style=\"white-space:pre;overflow-x:auto;line-height:normal;font-family:Menlo,'DejaVu Sans Mono',consolas,'Courier New',monospace\">QUERY: How were the subjects divided in the study mentioned in the transcript?\n",
       "</pre>\n"
      ],
      "text/plain": [
       "QUERY: How were the subjects divided in the study mentioned in the transcript?\n"
      ]
     },
     "metadata": {},
     "output_type": "display_data"
    },
    {
     "data": {
      "text/html": [
       "<pre style=\"white-space:pre;overflow-x:auto;line-height:normal;font-family:Menlo,'DejaVu Sans Mono',consolas,'Courier New',monospace\">CONTENT: Six weeks into the study is after all of the writing, that is the four bouts of writing, have been \n",
       "completed. They also divided subjects in this study into people that were so-called high disclosers. So these are \n",
       "people that revealed a lot about their particular traumatic or stressful episode in their writing and people that \n",
       "were low disclosers. They also included a control group and the control group was essentially as I described \n",
       "before. It consisted of people that also were doing journaling for the equivalent amount of time as people that \n",
       "were in the experimental group, but that were not writing about a traumatic or stressful experience.\n",
       "</pre>\n"
      ],
      "text/plain": [
       "CONTENT: Six weeks into the study is after all of the writing, that is the four bouts of writing, have been \n",
       "completed. They also divided subjects in this study into people that were so-called high disclosers. So these are \n",
       "people that revealed a lot about their particular traumatic or stressful episode in their writing and people that \n",
       "were low disclosers. They also included a control group and the control group was essentially as I described \n",
       "before. It consisted of people that also were doing journaling for the equivalent amount of time as people that \n",
       "were in the experimental group, but that were not writing about a traumatic or stressful experience.\n"
      ]
     },
     "metadata": {},
     "output_type": "display_data"
    },
    {
     "data": {
      "text/html": [
       "<pre style=\"white-space:pre;overflow-x:auto;line-height:normal;font-family:Menlo,'DejaVu Sans Mono',consolas,'Courier New',monospace\">----------------------------------------------------------------------------------------------------\n",
       "</pre>\n"
      ],
      "text/plain": [
       "----------------------------------------------------------------------------------------------------\n"
      ]
     },
     "metadata": {},
     "output_type": "display_data"
    },
    {
     "data": {
      "text/html": [
       "<pre style=\"white-space:pre;overflow-x:auto;line-height:normal;font-family:Menlo,'DejaVu Sans Mono',consolas,'Courier New',monospace\">QUERY: What were the characteristics of the control group in the study discussed in the transcript?\n",
       "</pre>\n"
      ],
      "text/plain": [
       "QUERY: What were the characteristics of the control group in the study discussed in the transcript?\n"
      ]
     },
     "metadata": {},
     "output_type": "display_data"
    },
    {
     "data": {
      "text/html": [
       "<pre style=\"white-space:pre;overflow-x:auto;line-height:normal;font-family:Menlo,'DejaVu Sans Mono',consolas,'Courier New',monospace\">CONTENT: Six weeks into the study is after all of the writing, that is the four bouts of writing, have been \n",
       "completed. They also divided subjects in this study into people that were so-called high disclosers. So these are \n",
       "people that revealed a lot about their particular traumatic or stressful episode in their writing and people that \n",
       "were low disclosers. They also included a control group and the control group was essentially as I described \n",
       "before. It consisted of people that also were doing journaling for the equivalent amount of time as people that \n",
       "were in the experimental group, but that were not writing about a traumatic or stressful experience.\n",
       "</pre>\n"
      ],
      "text/plain": [
       "CONTENT: Six weeks into the study is after all of the writing, that is the four bouts of writing, have been \n",
       "completed. They also divided subjects in this study into people that were so-called high disclosers. So these are \n",
       "people that revealed a lot about their particular traumatic or stressful episode in their writing and people that \n",
       "were low disclosers. They also included a control group and the control group was essentially as I described \n",
       "before. It consisted of people that also were doing journaling for the equivalent amount of time as people that \n",
       "were in the experimental group, but that were not writing about a traumatic or stressful experience.\n"
      ]
     },
     "metadata": {},
     "output_type": "display_data"
    },
    {
     "data": {
      "text/html": [
       "<pre style=\"white-space:pre;overflow-x:auto;line-height:normal;font-family:Menlo,'DejaVu Sans Mono',consolas,'Courier New',monospace\">----------------------------------------------------------------------------------------------------\n",
       "</pre>\n"
      ],
      "text/plain": [
       "----------------------------------------------------------------------------------------------------\n"
      ]
     },
     "metadata": {},
     "output_type": "display_data"
    },
    {
     "data": {
      "text/html": [
       "<pre style=\"white-space:pre;overflow-x:auto;line-height:normal;font-family:Menlo,'DejaVu Sans Mono',consolas,'Courier New',monospace\">QUERY: How can nighttime dark exposure be utilized as a treatment for bipolar disorder?\n",
       "</pre>\n"
      ],
      "text/plain": [
       "QUERY: How can nighttime dark exposure be utilized as a treatment for bipolar disorder?\n"
      ]
     },
     "metadata": {},
     "output_type": "display_data"
    },
    {
     "data": {
      "text/html": [
       "<pre style=\"white-space:pre;overflow-x:auto;line-height:normal;font-family:Menlo,'DejaVu Sans Mono',consolas,'Courier New',monospace\">CONTENT: I mean, getting to this issue of reverse causality, I mean, I think it's very straightforward to imagine \n",
       "that the person who's experiencing a manic episode is going to be up for two weeks at a time, sadly, and getting a \n",
       "lot of nighttime light exposure. Now, nighttime dark exposure as a treatment for bipolar is something that people \n",
       "are starting to talk about. So making sure that even those people are awake, that they're at least blue blocking at\n",
       "night, reducing their online activities. But people with severe manic episodes have a hard time regulating their \n",
       "own behavior, of course.\n",
       "</pre>\n"
      ],
      "text/plain": [
       "CONTENT: I mean, getting to this issue of reverse causality, I mean, I think it's very straightforward to imagine \n",
       "that the person who's experiencing a manic episode is going to be up for two weeks at a time, sadly, and getting a \n",
       "lot of nighttime light exposure. Now, nighttime dark exposure as a treatment for bipolar is something that people \n",
       "are starting to talk about. So making sure that even those people are awake, that they're at least blue blocking at\n",
       "night, reducing their online activities. But people with severe manic episodes have a hard time regulating their \n",
       "own behavior, of course.\n"
      ]
     },
     "metadata": {},
     "output_type": "display_data"
    },
    {
     "data": {
      "text/html": [
       "<pre style=\"white-space:pre;overflow-x:auto;line-height:normal;font-family:Menlo,'DejaVu Sans Mono',consolas,'Courier New',monospace\">----------------------------------------------------------------------------------------------------\n",
       "</pre>\n"
      ],
      "text/plain": [
       "----------------------------------------------------------------------------------------------------\n"
      ]
     },
     "metadata": {},
     "output_type": "display_data"
    },
    {
     "data": {
      "text/html": [
       "<pre style=\"white-space:pre;overflow-x:auto;line-height:normal;font-family:Menlo,'DejaVu Sans Mono',consolas,'Courier New',monospace\">QUERY: Why is reducing online activities and using blue-blocking filters important for individuals experiencing \n",
       "manic episodes?\n",
       "</pre>\n"
      ],
      "text/plain": [
       "QUERY: Why is reducing online activities and using blue-blocking filters important for individuals experiencing \n",
       "manic episodes?\n"
      ]
     },
     "metadata": {},
     "output_type": "display_data"
    },
    {
     "data": {
      "text/html": [
       "<pre style=\"white-space:pre;overflow-x:auto;line-height:normal;font-family:Menlo,'DejaVu Sans Mono',consolas,'Courier New',monospace\">CONTENT: I mean, getting to this issue of reverse causality, I mean, I think it's very straightforward to imagine \n",
       "that the person who's experiencing a manic episode is going to be up for two weeks at a time, sadly, and getting a \n",
       "lot of nighttime light exposure. Now, nighttime dark exposure as a treatment for bipolar is something that people \n",
       "are starting to talk about. So making sure that even those people are awake, that they're at least blue blocking at\n",
       "night, reducing their online activities. But people with severe manic episodes have a hard time regulating their \n",
       "own behavior, of course.\n",
       "</pre>\n"
      ],
      "text/plain": [
       "CONTENT: I mean, getting to this issue of reverse causality, I mean, I think it's very straightforward to imagine \n",
       "that the person who's experiencing a manic episode is going to be up for two weeks at a time, sadly, and getting a \n",
       "lot of nighttime light exposure. Now, nighttime dark exposure as a treatment for bipolar is something that people \n",
       "are starting to talk about. So making sure that even those people are awake, that they're at least blue blocking at\n",
       "night, reducing their online activities. But people with severe manic episodes have a hard time regulating their \n",
       "own behavior, of course.\n"
      ]
     },
     "metadata": {},
     "output_type": "display_data"
    },
    {
     "data": {
      "text/html": [
       "<pre style=\"white-space:pre;overflow-x:auto;line-height:normal;font-family:Menlo,'DejaVu Sans Mono',consolas,'Courier New',monospace\">----------------------------------------------------------------------------------------------------\n",
       "</pre>\n"
      ],
      "text/plain": [
       "----------------------------------------------------------------------------------------------------\n"
      ]
     },
     "metadata": {},
     "output_type": "display_data"
    },
    {
     "data": {
      "text/html": [
       "<pre style=\"white-space:pre;overflow-x:auto;line-height:normal;font-family:Menlo,'DejaVu Sans Mono',consolas,'Courier New',monospace\">QUERY: What is the preferred fuel source for neurons under typical conditions?\n",
       "</pre>\n"
      ],
      "text/plain": [
       "QUERY: What is the preferred fuel source for neurons under typical conditions?\n"
      ]
     },
     "metadata": {},
     "output_type": "display_data"
    },
    {
     "data": {
      "text/html": [
       "<pre style=\"white-space:pre;overflow-x:auto;line-height:normal;font-family:Menlo,'DejaVu Sans Mono',consolas,'Courier New',monospace\">CONTENT: You don't actually use fat as a fuel source for neurons under typical conditions, but there are ways in \n",
       "which proteins and fats and glycogen, et cetera, are converted into fuel that neurons can use. What's interesting \n",
       "about this study is that the study says that when well fed, meaning when blood glucose sugar is at a properly \n",
       "elevated level in the bloodstream, it can be delivered to the brain in a way that allows neurons to work best, \n",
       "which is really all just to underscore the point that I made earlier, which is that your nervous system is \n",
       "extremely metabolically demanding and it loves glucose.\n",
       "</pre>\n"
      ],
      "text/plain": [
       "CONTENT: You don't actually use fat as a fuel source for neurons under typical conditions, but there are ways in \n",
       "which proteins and fats and glycogen, et cetera, are converted into fuel that neurons can use. What's interesting \n",
       "about this study is that the study says that when well fed, meaning when blood glucose sugar is at a properly \n",
       "elevated level in the bloodstream, it can be delivered to the brain in a way that allows neurons to work best, \n",
       "which is really all just to underscore the point that I made earlier, which is that your nervous system is \n",
       "extremely metabolically demanding and it loves glucose.\n"
      ]
     },
     "metadata": {},
     "output_type": "display_data"
    },
    {
     "data": {
      "text/html": [
       "<pre style=\"white-space:pre;overflow-x:auto;line-height:normal;font-family:Menlo,'DejaVu Sans Mono',consolas,'Courier New',monospace\">----------------------------------------------------------------------------------------------------\n",
       "</pre>\n"
      ],
      "text/plain": [
       "----------------------------------------------------------------------------------------------------\n"
      ]
     },
     "metadata": {},
     "output_type": "display_data"
    },
    {
     "data": {
      "text/html": [
       "<pre style=\"white-space:pre;overflow-x:auto;line-height:normal;font-family:Menlo,'DejaVu Sans Mono',consolas,'Courier New',monospace\">QUERY: How does the well-fed state affect the delivery of glucose to the brain for optimal neuron function?\n",
       "</pre>\n"
      ],
      "text/plain": [
       "QUERY: How does the well-fed state affect the delivery of glucose to the brain for optimal neuron function?\n"
      ]
     },
     "metadata": {},
     "output_type": "display_data"
    },
    {
     "data": {
      "text/html": [
       "<pre style=\"white-space:pre;overflow-x:auto;line-height:normal;font-family:Menlo,'DejaVu Sans Mono',consolas,'Courier New',monospace\">CONTENT: You don't actually use fat as a fuel source for neurons under typical conditions, but there are ways in \n",
       "which proteins and fats and glycogen, et cetera, are converted into fuel that neurons can use. What's interesting \n",
       "about this study is that the study says that when well fed, meaning when blood glucose sugar is at a properly \n",
       "elevated level in the bloodstream, it can be delivered to the brain in a way that allows neurons to work best, \n",
       "which is really all just to underscore the point that I made earlier, which is that your nervous system is \n",
       "extremely metabolically demanding and it loves glucose.\n",
       "</pre>\n"
      ],
      "text/plain": [
       "CONTENT: You don't actually use fat as a fuel source for neurons under typical conditions, but there are ways in \n",
       "which proteins and fats and glycogen, et cetera, are converted into fuel that neurons can use. What's interesting \n",
       "about this study is that the study says that when well fed, meaning when blood glucose sugar is at a properly \n",
       "elevated level in the bloodstream, it can be delivered to the brain in a way that allows neurons to work best, \n",
       "which is really all just to underscore the point that I made earlier, which is that your nervous system is \n",
       "extremely metabolically demanding and it loves glucose.\n"
      ]
     },
     "metadata": {},
     "output_type": "display_data"
    },
    {
     "data": {
      "text/html": [
       "<pre style=\"white-space:pre;overflow-x:auto;line-height:normal;font-family:Menlo,'DejaVu Sans Mono',consolas,'Courier New',monospace\">----------------------------------------------------------------------------------------------------\n",
       "</pre>\n"
      ],
      "text/plain": [
       "----------------------------------------------------------------------------------------------------\n"
      ]
     },
     "metadata": {},
     "output_type": "display_data"
    },
    {
     "data": {
      "text/html": [
       "<pre style=\"white-space:pre;overflow-x:auto;line-height:normal;font-family:Menlo,'DejaVu Sans Mono',consolas,'Courier New',monospace\">QUERY: How does the brain structure discussed in the episode integrate information to enhance tenacity and \n",
       "willpower?\n",
       "</pre>\n"
      ],
      "text/plain": [
       "QUERY: How does the brain structure discussed in the episode integrate information to enhance tenacity and \n",
       "willpower?\n"
      ]
     },
     "metadata": {},
     "output_type": "display_data"
    },
    {
     "data": {
      "text/html": [
       "<pre style=\"white-space:pre;overflow-x:auto;line-height:normal;font-family:Menlo,'DejaVu Sans Mono',consolas,'Courier New',monospace\">CONTENT: And yet in researching this episode, I absolutely fell in love with this brain structure because of its \n",
       "incredible ability to integrate the very sorts of information from within and from outside of you to harness and \n",
       "build tenacity and willpower. And indeed, today you will learn research-supported tools for how to enhance your \n",
       "level of tenacity and willpower in any circumstance. Before we begin, I'd like to emphasize that this podcast is \n",
       "separate from my teaching and research roles at Stanford. It is however, part of my desire and effort to bring zero\n",
       "cost to consumer information about science and science related tools to the general public.\n",
       "</pre>\n"
      ],
      "text/plain": [
       "CONTENT: And yet in researching this episode, I absolutely fell in love with this brain structure because of its \n",
       "incredible ability to integrate the very sorts of information from within and from outside of you to harness and \n",
       "build tenacity and willpower. And indeed, today you will learn research-supported tools for how to enhance your \n",
       "level of tenacity and willpower in any circumstance. Before we begin, I'd like to emphasize that this podcast is \n",
       "separate from my teaching and research roles at Stanford. It is however, part of my desire and effort to bring zero\n",
       "cost to consumer information about science and science related tools to the general public.\n"
      ]
     },
     "metadata": {},
     "output_type": "display_data"
    },
    {
     "data": {
      "text/html": [
       "<pre style=\"white-space:pre;overflow-x:auto;line-height:normal;font-family:Menlo,'DejaVu Sans Mono',consolas,'Courier New',monospace\">----------------------------------------------------------------------------------------------------\n",
       "</pre>\n"
      ],
      "text/plain": [
       "----------------------------------------------------------------------------------------------------\n"
      ]
     },
     "metadata": {},
     "output_type": "display_data"
    },
    {
     "data": {
      "text/html": [
       "<pre style=\"white-space:pre;overflow-x:auto;line-height:normal;font-family:Menlo,'DejaVu Sans Mono',consolas,'Courier New',monospace\">QUERY: What will you learn about in today's episode in relation to enhancing tenacity and willpower?\n",
       "</pre>\n"
      ],
      "text/plain": [
       "QUERY: What will you learn about in today's episode in relation to enhancing tenacity and willpower?\n"
      ]
     },
     "metadata": {},
     "output_type": "display_data"
    },
    {
     "data": {
      "text/html": [
       "<pre style=\"white-space:pre;overflow-x:auto;line-height:normal;font-family:Menlo,'DejaVu Sans Mono',consolas,'Courier New',monospace\">CONTENT: And yet in researching this episode, I absolutely fell in love with this brain structure because of its \n",
       "incredible ability to integrate the very sorts of information from within and from outside of you to harness and \n",
       "build tenacity and willpower. And indeed, today you will learn research-supported tools for how to enhance your \n",
       "level of tenacity and willpower in any circumstance. Before we begin, I'd like to emphasize that this podcast is \n",
       "separate from my teaching and research roles at Stanford. It is however, part of my desire and effort to bring zero\n",
       "cost to consumer information about science and science related tools to the general public.\n",
       "</pre>\n"
      ],
      "text/plain": [
       "CONTENT: And yet in researching this episode, I absolutely fell in love with this brain structure because of its \n",
       "incredible ability to integrate the very sorts of information from within and from outside of you to harness and \n",
       "build tenacity and willpower. And indeed, today you will learn research-supported tools for how to enhance your \n",
       "level of tenacity and willpower in any circumstance. Before we begin, I'd like to emphasize that this podcast is \n",
       "separate from my teaching and research roles at Stanford. It is however, part of my desire and effort to bring zero\n",
       "cost to consumer information about science and science related tools to the general public.\n"
      ]
     },
     "metadata": {},
     "output_type": "display_data"
    },
    {
     "data": {
      "text/html": [
       "<pre style=\"white-space:pre;overflow-x:auto;line-height:normal;font-family:Menlo,'DejaVu Sans Mono',consolas,'Courier New',monospace\">----------------------------------------------------------------------------------------------------\n",
       "</pre>\n"
      ],
      "text/plain": [
       "----------------------------------------------------------------------------------------------------\n"
      ]
     },
     "metadata": {},
     "output_type": "display_data"
    },
    {
     "data": {
      "text/html": [
       "<pre style=\"white-space:pre;overflow-x:auto;line-height:normal;font-family:Menlo,'DejaVu Sans Mono',consolas,'Courier New',monospace\">QUERY: How can diffusion tensor imaging be used to examine the flow of information in different brain areas?\n",
       "</pre>\n"
      ],
      "text/plain": [
       "QUERY: How can diffusion tensor imaging be used to examine the flow of information in different brain areas?\n"
      ]
     },
     "metadata": {},
     "output_type": "display_data"
    },
    {
     "data": {
      "text/html": [
       "<pre style=\"white-space:pre;overflow-x:auto;line-height:normal;font-family:Menlo,'DejaVu Sans Mono',consolas,'Courier New',monospace\">CONTENT: both from fixed, that is from dead brain tissue, so post-mortem brain tissue in humans, but also nowadays \n",
       "there are certain types of neuroimaging, particularly something called diffusion tensor imaging that allows one to \n",
       "examine the flow of information in and out of different brain areas through so-called white matter tracks. Tracks \n",
       "meaning T-R-A-C-T-S, tracks. So these are the wires that connect neurons are called axons. And those axons are in \n",
       "sheaths with a fatty substance called myelin. And that in sheathment with myelin allows them to transmit \n",
       "information very quickly.\n",
       "</pre>\n"
      ],
      "text/plain": [
       "CONTENT: both from fixed, that is from dead brain tissue, so post-mortem brain tissue in humans, but also nowadays \n",
       "there are certain types of neuroimaging, particularly something called diffusion tensor imaging that allows one to \n",
       "examine the flow of information in and out of different brain areas through so-called white matter tracks. Tracks \n",
       "meaning T-R-A-C-T-S, tracks. So these are the wires that connect neurons are called axons. And those axons are in \n",
       "sheaths with a fatty substance called myelin. And that in sheathment with myelin allows them to transmit \n",
       "information very quickly.\n"
      ]
     },
     "metadata": {},
     "output_type": "display_data"
    },
    {
     "data": {
      "text/html": [
       "<pre style=\"white-space:pre;overflow-x:auto;line-height:normal;font-family:Menlo,'DejaVu Sans Mono',consolas,'Courier New',monospace\">----------------------------------------------------------------------------------------------------\n",
       "</pre>\n"
      ],
      "text/plain": [
       "----------------------------------------------------------------------------------------------------\n"
      ]
     },
     "metadata": {},
     "output_type": "display_data"
    },
    {
     "data": {
      "text/html": [
       "<pre style=\"white-space:pre;overflow-x:auto;line-height:normal;font-family:Menlo,'DejaVu Sans Mono',consolas,'Courier New',monospace\">QUERY: What is the role of myelin in allowing axons to transmit information quickly in the brain?\n",
       "</pre>\n"
      ],
      "text/plain": [
       "QUERY: What is the role of myelin in allowing axons to transmit information quickly in the brain?\n"
      ]
     },
     "metadata": {},
     "output_type": "display_data"
    },
    {
     "data": {
      "text/html": [
       "<pre style=\"white-space:pre;overflow-x:auto;line-height:normal;font-family:Menlo,'DejaVu Sans Mono',consolas,'Courier New',monospace\">CONTENT: both from fixed, that is from dead brain tissue, so post-mortem brain tissue in humans, but also nowadays \n",
       "there are certain types of neuroimaging, particularly something called diffusion tensor imaging that allows one to \n",
       "examine the flow of information in and out of different brain areas through so-called white matter tracks. Tracks \n",
       "meaning T-R-A-C-T-S, tracks. So these are the wires that connect neurons are called axons. And those axons are in \n",
       "sheaths with a fatty substance called myelin. And that in sheathment with myelin allows them to transmit \n",
       "information very quickly.\n",
       "</pre>\n"
      ],
      "text/plain": [
       "CONTENT: both from fixed, that is from dead brain tissue, so post-mortem brain tissue in humans, but also nowadays \n",
       "there are certain types of neuroimaging, particularly something called diffusion tensor imaging that allows one to \n",
       "examine the flow of information in and out of different brain areas through so-called white matter tracks. Tracks \n",
       "meaning T-R-A-C-T-S, tracks. So these are the wires that connect neurons are called axons. And those axons are in \n",
       "sheaths with a fatty substance called myelin. And that in sheathment with myelin allows them to transmit \n",
       "information very quickly.\n"
      ]
     },
     "metadata": {},
     "output_type": "display_data"
    },
    {
     "data": {
      "text/html": [
       "<pre style=\"white-space:pre;overflow-x:auto;line-height:normal;font-family:Menlo,'DejaVu Sans Mono',consolas,'Courier New',monospace\">----------------------------------------------------------------------------------------------------\n",
       "</pre>\n"
      ],
      "text/plain": [
       "----------------------------------------------------------------------------------------------------\n"
      ]
     },
     "metadata": {},
     "output_type": "display_data"
    },
    {
     "data": {
      "text/html": [
       "<pre style=\"white-space:pre;overflow-x:auto;line-height:normal;font-family:Menlo,'DejaVu Sans Mono',consolas,'Courier New',monospace\">QUERY: How does hypnosis help people manage their anxiety and have more positive experiences?\n",
       "</pre>\n"
      ],
      "text/plain": [
       "QUERY: How does hypnosis help people manage their anxiety and have more positive experiences?\n"
      ]
     },
     "metadata": {},
     "output_type": "display_data"
    },
    {
     "data": {
      "text/html": [
       "<pre style=\"white-space:pre;overflow-x:auto;line-height:normal;font-family:Menlo,'DejaVu Sans Mono',consolas,'Courier New',monospace\">CONTENT: the more the only source of associations and memories is their fear they don't have any good experiences \n",
       "with it because they avoid it you know it's like get back on the horse after you fall off kind of thing and and \n",
       "with hypnosis if you can start people able to manage their anxiety enough that they can have more, a wider array of\n",
       "experiences, they start to have a network of associations that isn't so negative and may even be positive. So it's \n",
       "almost like a, sorry to interrupt, but I have to ask, it's almost like a exposure therapy done in the mind.\n",
       "</pre>\n"
      ],
      "text/plain": [
       "CONTENT: the more the only source of associations and memories is their fear they don't have any good experiences \n",
       "with it because they avoid it you know it's like get back on the horse after you fall off kind of thing and and \n",
       "with hypnosis if you can start people able to manage their anxiety enough that they can have more, a wider array of\n",
       "experiences, they start to have a network of associations that isn't so negative and may even be positive. So it's \n",
       "almost like a, sorry to interrupt, but I have to ask, it's almost like a exposure therapy done in the mind.\n"
      ]
     },
     "metadata": {},
     "output_type": "display_data"
    },
    {
     "data": {
      "text/html": [
       "<pre style=\"white-space:pre;overflow-x:auto;line-height:normal;font-family:Menlo,'DejaVu Sans Mono',consolas,'Courier New',monospace\">----------------------------------------------------------------------------------------------------\n",
       "</pre>\n"
      ],
      "text/plain": [
       "----------------------------------------------------------------------------------------------------\n"
      ]
     },
     "metadata": {},
     "output_type": "display_data"
    }
   ],
   "source": [
    "for i, key in enumerate(unpacked):\n",
    "    print(f'QUERY: {key[0]}')\n",
    "    print(f'CONTENT: {key[1]}')\n",
    "    print('-'*100)"
   ]
  },
  {
   "cell_type": "code",
   "execution_count": 367,
   "id": "d9c94f26-2b9b-4cb4-9be8-8e8c21d0d785",
   "metadata": {},
   "outputs": [],
   "source": [
    "class QueryContextGenerator:\n",
    "    '''\n",
    "    Class designed for the generation of query/context pairs using a\n",
    "    Generative LLM. The LLM is used to generate questions from a given\n",
    "    corpus of text. The query/context pairs can be used to fine-tune \n",
    "    an embedding model using a MultipleNegativesRankingLoss loss function\n",
    "    or can be used to create evaluation datasets for retrieval models.\n",
    "    '''\n",
    "    def __init__(self, \n",
    "                 llm: LLM\n",
    "                 ):\n",
    "        self.llm = llm\n",
    "        self.reranker = ReRanker()\n",
    "\n",
    "    def _clean_validate_data(self,\n",
    "                            data: list[dict], \n",
    "                            valid_fields: list[str]=['content', 'summary', 'guest', 'doc_id'],\n",
    "                            total_chars: int=None\n",
    "                            ) -> list[dict]:\n",
    "        '''\n",
    "        Strip original data chunks so they only contain valid_fields.\n",
    "        Remove any chunks less than total_chars in size. Prevents LLM\n",
    "        from asking questions from sparse content. \n",
    "        '''\n",
    "        if total_chars == None or total_chars < 25:\n",
    "            contents = [d['content'] for d in data]\n",
    "            lengths = list(map(len, contents))\n",
    "            analysis = pd.DataFrame(lengths)\n",
    "            total_chars = int(analysis.describe().loc['50%'][0])\n",
    "            print(f'Using a total_chars length of {total_chars}')\n",
    "        clean_docs = [{k:v for k,v in d.items() if k in valid_fields} for d in data]\n",
    "        valid_docs = [d for d in clean_docs if len(d['content']) > total_chars]\n",
    "        return valid_docs\n",
    "\n",
    "    def train_val_split(self,\n",
    "                        data: list[dict],\n",
    "                        n_train_questions: int, \n",
    "                        n_val_questions: int, \n",
    "                        n_questions_per_chunk: int=2,\n",
    "                        total_chars: int=None):\n",
    "        '''\n",
    "        Splits corpus into training and validation sets.  Training and \n",
    "        validation samples are randomly selected from the corpus. total_chars\n",
    "        parameter is set based on pre-analysis of average doc length in the \n",
    "        training corpus. \n",
    "        '''\n",
    "        clean_data = self._clean_validate_data(data, total_chars=total_chars)\n",
    "        random.shuffle(clean_data)\n",
    "        train_index = n_train_questions//n_questions_per_chunk\n",
    "        valid_index = n_val_questions//n_questions_per_chunk\n",
    "        end_index = valid_index + train_index\n",
    "        if end_index > len(clean_data):\n",
    "            raise ValueError('Cannot create dataset with desired number of questions, try using a larger dataset')\n",
    "        train_data = clean_data[:train_index]\n",
    "        valid_data = clean_data[train_index:end_index]\n",
    "        print(f'Length Training Data: {len(train_data)}')\n",
    "        print(f'Length Validation Data: {len(valid_data)}')\n",
    "        return train_data, valid_data\n",
    "\n",
    "    \n",
    "    def generate_qa_embedding_pairs(self,\n",
    "                                    data: list[dict],\n",
    "                                    generate_prompt_tmpl: str,\n",
    "                                    num_total_questions: int,\n",
    "                                    num_questions_per_chunk: int = 2,\n",
    "                                    system_message: str='You are a helpful assistant.',\n",
    "                                    total_chars: int=None,\n",
    "                                    threshold: float=None\n",
    "                                    ) -> dict:\n",
    "        \"\"\"\n",
    "        Generate query/context pairs from a list of documents. The query/context pairs\n",
    "        can be used for fine-tuning an embedding model using a MultipleNegativesRankingLoss\n",
    "        or can be used to create an evaluation dataset for retrieval models.\n",
    "        \"\"\"\n",
    "\n",
    "        question_bank = []\n",
    "        corpus = {}\n",
    "        queries = {}\n",
    "        relevant_docs = {}\n",
    "        clean_data = self._clean_validate_data(data, total_chars=total_chars)\n",
    "        random.shuffle(clean_data)\n",
    "        counter = 0\n",
    "        \n",
    "        while len(question_bank) < num_total_questions:\n",
    "            chunk = clean_data[counter]\n",
    "            summary = chunk['summary']\n",
    "            guest = chunk['guest']\n",
    "            transcript = chunk['content']\n",
    "            doc_id = chunk['doc_id']\n",
    "            counter += 1\n",
    "            assist_message = generate_prompt_tmpl.format(summary=summary, \n",
    "                                                         guest=guest,\n",
    "                                                         transcript=transcript,\n",
    "                                                         num_questions_per_chunk=num_questions_per_chunk)\n",
    "            try:\n",
    "                response = self.llm.chat_completion(system_message, \n",
    "                                                    assist_message, \n",
    "                                                    temperature=1.0, \n",
    "                                                    max_tokens=num_questions_per_chunk*50,\n",
    "                                                    raw_response=False\n",
    "                                                   )\n",
    "            except Exception as e:\n",
    "                print(e)\n",
    "                continue\n",
    "                \n",
    "            result = response.strip().split(\"\\n\")\n",
    "            questions = [\n",
    "                re.sub(r\"^\\d+[\\).\\s]\", \"\", question).strip() for question in result\n",
    "            ]\n",
    "            questions = [question for question in questions if len(question) > 0]\n",
    "            \n",
    "            if threshold:\n",
    "                pairs = [[question,transcript] for question in questions]\n",
    "                scores = self.reranker.predict(sentences=pairs, activation_fct=self.reranker.activation_fct)\n",
    "                indexes_to_keep = np.argwhere(scores >= threshold)\n",
    "                questions = np.array(questions)[indexes_to_keep]\n",
    "            if any(questions):\n",
    "                if len(question_bank) < num_total_questions:\n",
    "                    corpus[doc_id] = transcript\n",
    "                    for question in questions:\n",
    "                        if len(question_bank) < num_total_questions:\n",
    "                            question_bank.append(question)\n",
    "                            question_id = str(uuid.uuid4())\n",
    "                            queries[question_id] = question[0] if isinstance(question, (np.ndarray, list)) else question\n",
    "                            relevant_docs[question_id] = doc_id\n",
    "            else:\n",
    "                print('No questions retrieved for this chunk')\n",
    "            if len(question_bank) % 5 == 0 and len(question_bank) != 0:\n",
    "                print(f'{len(question_bank)} questions generated')\n",
    "                \n",
    "        # construct dataset\n",
    "        return dict(queries=queries, corpus=corpus, relevant_docs=relevant_docs)"
   ]
  },
  {
   "cell_type": "code",
   "execution_count": null,
   "id": "f70592fd-e2e1-472a-b27d-92b63d01d78f",
   "metadata": {},
   "outputs": [],
   "source": [
    "      \n",
    "    # def get_query_context_pairs(self, dataset: dict) -> list[tuple[str, str, str]]:\n",
    "    #     '''\n",
    "    #     Creates tuples of (query, context, doc_id) from an LLM Q&A pair generated dataset.\n",
    "    #     '''\n",
    "    #     query_context_tuples = []\n",
    "    #     query_keys = list(dataset['queries'].keys())\n",
    "    #     for i, key in enumerate(query_keys):\n",
    "    #         query = dataset['queries'][query_keys[i]]\n",
    "    #         doc_id = dataset['relevant_docs'][key][0]\n",
    "    #         content = dataset['corpus'][doc_id]\n",
    "    #         query_context_tuples.append((query, content, doc_id))\n",
    "    #     return query_context_tuples\n",
    "\n",
    "    # def _create_qa_pairs(self, dataset: dict) -> list[list[str, str]]:\n",
    "    #     '''\n",
    "    #     Creates a list of lists of query/context pairs\n",
    "    #     '''\n",
    "    #     query_context_pairs = self.get_query_context_pairs(dataset)\n",
    "    #     pairs = [[pair[0], pair[1]] for pair in query_context_pairs]\n",
    "    #     return pairs\n",
    "        \n",
    "    # def evaluate_pair_quality(self, dataset: dict):\n",
    "    #     pairs = self._create_qa_pairs(dataset)\n",
    "    #     scores = self.reranker.predict(sentences=pairs, activation_fct=self.reranker.activation_fct)\n",
    "    #     return scores\n",
    "# def execute_evaluation(dataset: dict, \n",
    "#                        class_name: str, \n",
    "#                        retriever: str,\n",
    "#                        reranker: ReRanker=None,\n",
    "#                        alpha: float=0.5,\n",
    "#                        retrieve_limit: int=100,\n",
    "#                        top_k: int=5,\n",
    "#                        chunk_size: int=256,\n",
    "#                        hnsw_config_keys: list[str]=['maxConnections', 'efConstruction', 'ef'],\n",
    "#                        search_type: Literal['hybrid', 'all']='all',\n",
    "#                        search_properties: list[str]=['content'],\n",
    "#                        display_properties: list[str]=['doc_id', 'content'],\n",
    "#                        dir_outpath: str='./eval_results',\n",
    "#                        include_miss_info: bool=False,\n",
    "#                        user_def_params: dict=None\n",
    "#                        ) -> Union[dict, Tuple[dict, list[dict]]]:\n",
    "#     '''\n",
    "#     Given a dataset, a retriever, and a reranker, evaluate the performance of the retriever and reranker. \n",
    "#     Returns a dict of kw, vector, and hybrid hit rates and mrr scores. If inlude_miss_info is True, will\n",
    "#     also return a list of kw and vector responses and their associated queries that did not return a hit.\n",
    "\n",
    "#     Args:\n",
    "#     -----\n",
    "#     dataset: EmbeddingQAFinetuneDataset\n",
    "#         Dataset to be used for evaluation\n",
    "#     class_name: str\n",
    "#         Name of Class on Weaviate host to be used for retrieval\n",
    "#     retriever: WeaviateClient\n",
    "#         WeaviateClient object to be used for retrieval \n",
    "#     reranker: ReRanker\n",
    "#         ReRanker model to be used for results reranking\n",
    "#     alpha: float=0.5\n",
    "#         Weighting factor for BM25 and Vector search.\n",
    "#         alpha can be any number from 0 to 1, defaulting to 0.5:\n",
    "#             alpha = 0 executes a pure keyword search method (BM25)\n",
    "#             alpha = 0.5 weighs the BM25 and vector methods evenly\n",
    "#             alpha = 1 executes a pure vector search method\n",
    "#     retrieve_limit: int=5\n",
    "#         Number of documents to retrieve from Weaviate host\n",
    "#     top_k: int=5\n",
    "#         Number of top results to evaluate\n",
    "#     chunk_size: int=256\n",
    "#         Number of tokens used to chunk text\n",
    "#     hnsw_config_keys: list[str]=['maxConnections', 'efConstruction', 'ef']\n",
    "#         list of keys to be used for retrieving HNSW Index parameters from Weaviate host\n",
    "#     search_type: Literal['kw', 'vector', 'hybrid', 'all']='all'\n",
    "#         Type of search to be evaluated.  Options are 'kw', 'vector', 'hybrid', or 'all'\n",
    "#     search_properties: list[str]=['content']\n",
    "#         list of properties to be used for search\n",
    "#     display_properties: list[str]=['doc_id', 'content']\n",
    "#         list of properties to be returned from Weaviate host for display in response\n",
    "#     dir_outpath: str='./eval_results'\n",
    "#         Directory path for saving results.  Directory will be created if it does not\n",
    "#         already exist. \n",
    "#     include_miss_info: bool=False\n",
    "#         Option to include queries and their associated search response values\n",
    "#         for queries that are \"total misses\"\n",
    "#     user_def_params : dict=None\n",
    "#         Option for user to pass in a dictionary of user-defined parameters and their values.\n",
    "#         Will be automatically added to the results_dict if correct type is passed.\n",
    "#     '''\n",
    "        \n",
    "#     reranker_name = reranker.model_name if reranker else \"None\"\n",
    "    \n",
    "#     results_dict = {'n':retrieve_limit, \n",
    "#                     'top_k': top_k,\n",
    "#                     'alpha': alpha,\n",
    "#                     'Retriever': retriever.model_name_or_path, \n",
    "#                     'Ranker': reranker_name,\n",
    "#                     'chunk_size': chunk_size,\n",
    "#                     'hybrid_hit_rate':0,\n",
    "#                     'hybrid_mrr': 0,\n",
    "#                     }\n",
    "#     #add extra params to results_dict\n",
    "#     kw_vector_metrics = {\n",
    "#                          'kw_hit_rate': 0,\n",
    "#                          'kw_mrr': 0,\n",
    "#                          'vector_hit_rate': 0,\n",
    "#                          'vector_mrr': 0\n",
    "#                          }\n",
    "#     if search_type == 'all':\n",
    "#         results_dict = {**results_dict, **kw_vector_metrics}\n",
    "#     results_dict['total_questions'] = 0\n",
    "#     results_dict['total_misses'] = 0\n",
    "#     results_dict = add_params(retriever, class_name, results_dict, user_def_params, hnsw_config_keys)\n",
    "        \n",
    "#     start = time.perf_counter()\n",
    "#     miss_info_list = []\n",
    "#     for query_id, q in tqdm(dataset.queries.items(), 'Queries'):\n",
    "#         results_dict['total_questions'] += 1\n",
    "#         hit = False\n",
    "#         #make Keyword, Vector, and Hybrid calls to Weaviate host\n",
    "#         try:\n",
    "#             hybrid_response = retriever.hybrid_search(request=q, class_name=class_name, properties=search_properties, alpha=alpha, limit=retrieve_limit, display_properties=display_properties)  \n",
    "#             if search_type == 'all':\n",
    "#                 kw_response = retriever.keyword_search(request=q, class_name=class_name, properties=search_properties, limit=retrieve_limit, display_properties=display_properties)\n",
    "#                 vector_response = retriever.vector_search(request=q, class_name=class_name, limit=retrieve_limit, display_properties=display_properties)         \n",
    "#             #rerank returned responses if reranker is provided\n",
    "#             if reranker:\n",
    "#                 hybrid_response = reranker.rerank(hybrid_response, q, top_k=top_k)\n",
    "#                 if search_type == 'all':\n",
    "#                     kw_response = reranker.rerank(kw_response, q, top_k=top_k)\n",
    "#                     vector_response = reranker.rerank(vector_response, q, top_k=top_k)\n",
    "                \n",
    "            \n",
    "#             #collect doc_ids to check for document matches (include only results_top_k)\n",
    "#             hybrid_doc_ids = {result['doc_id']:i for i, result in enumerate(hybrid_response[:top_k], 1)}\n",
    "#             if search_type == 'all':\n",
    "#                 kw_doc_ids = {result['doc_id']:i for i, result in enumerate(kw_response[:top_k], 1)}\n",
    "#                 vector_doc_ids = {result['doc_id']:i for i, result in enumerate(vector_response[:top_k], 1)}\n",
    "#             #extract doc_id for scoring purposes\n",
    "#             doc_id = dataset.relevant_docs[query_id][0]\n",
    "     \n",
    "#             #increment hit_rate counters and mrr scores\n",
    "#             if doc_id in hybrid_doc_ids:\n",
    "#                 results_dict['hybrid_hit_rate'] += 1\n",
    "#                 results_dict['hybrid_mrr'] += 1/hybrid_doc_ids[doc_id]\n",
    "#                 hit = True\n",
    "#             if search_type == 'all':\n",
    "#                 if doc_id in kw_doc_ids:\n",
    "#                     results_dict['kw_hit_rate'] += 1\n",
    "#                     results_dict['kw_mrr'] += 1/kw_doc_ids[doc_id]\n",
    "#                     hit = True\n",
    "#                 if doc_id in vector_doc_ids:\n",
    "#                     results_dict['vector_hit_rate'] += 1\n",
    "#                     results_dict['vector_mrr'] += 1/vector_doc_ids[doc_id]\n",
    "#                     hit = True\n",
    "#             # if no hits, let's capture that\n",
    "#             if not hit:\n",
    "#                 results_dict['total_misses'] += 1\n",
    "#                 miss_info = {'query': q, \n",
    "#                              'answer': dataset.corpus[doc_id],\n",
    "#                              'doc_id': doc_id,\n",
    "#                              'hybrid_response': hybrid_response}\n",
    "#                 if search_type == 'all':\n",
    "#                     miss_info = {**miss_info, \n",
    "#                                  'kw_response': kw_response,\n",
    "#                                  'vector_response': vector_response}\n",
    "#                 miss_info_list.append(miss_info)\n",
    "\n",
    "#         except Exception as e:\n",
    "#             print(e)\n",
    "#             continue\n",
    "\n",
    "#     #use raw counts to calculate final scores\n",
    "#     calc_hit_rate_scores(results_dict, search_type=search_type)\n",
    "#     calc_mrr_scores(results_dict, search_type=search_type)\n",
    "    \n",
    "#     end = time.perf_counter() - start\n",
    "#     print(f'Total Processing Time: {round(end/60, 2)} minutes')\n",
    "#     record_results(results_dict, chunk_size, dir_outpath=dir_outpath, as_text=True)\n",
    "    \n",
    "#     if include_miss_info:\n",
    "#         return results_dict, miss_info\n",
    "#     return results_dict\n",
    "\n",
    "# def calc_hit_rate_scores(results_dict: Dict[str, Union[str, int]], \n",
    "#                          search_type: Literal['hybrid', 'all']='all'\n",
    "#                          ) -> None:\n",
    "#     '''\n",
    "#     Helper function to calculate hit rate scores\n",
    "#     '''\n",
    "#     search_type = ['kw', 'vector', 'hybrid'] if search_type == 'all' else [search_type]\n",
    "#     for prefix in search_type:\n",
    "#         results_dict[f'{prefix}_hit_rate'] = round(results_dict[f'{prefix}_hit_rate']/results_dict['total_questions'],2)\n",
    "\n",
    "# def calc_mrr_scores(results_dict: Dict[str, Union[str, int]],\n",
    "#                     search_type: Literal['hybrid', 'all']='all'\n",
    "#                     ) -> None:\n",
    "#     '''\n",
    "#     Helper function to calculate mrr scores\n",
    "#     '''\n",
    "#     search_type = ['kw', 'vector', 'hybrid'] if search_type == 'all' else [search_type]\n",
    "#     for prefix in search_type:\n",
    "#         results_dict[f'{prefix}_mrr'] = round(results_dict[f'{prefix}_mrr']/results_dict['total_questions'],2)\n",
    "\n",
    "# def create_dir(dir_path: str) -> None:\n",
    "#     '''\n",
    "#     Checks if directory exists, and creates new directory\n",
    "#     if it does not exist\n",
    "#     '''\n",
    "#     if not os.path.exists(dir_path):\n",
    "#         os.makedirs(dir_path)\n",
    "\n",
    "# def record_results(results_dict: Dict[str, Union[str, int]], \n",
    "#                    chunk_size: int, \n",
    "#                    dir_outpath: str='./eval_results',\n",
    "#                    as_text: bool=False\n",
    "#                    ) -> None:\n",
    "#     '''\n",
    "#     Write results to output file in either txt or json format\n",
    "\n",
    "#     Args:\n",
    "#     -----\n",
    "#     results_dict: Dict[str, Union[str, int]]\n",
    "#         Dictionary containing results of evaluation\n",
    "#     chunk_size: int\n",
    "#         Size of text chunks in tokens\n",
    "#     dir_outpath: str\n",
    "#         Path to output directory.  Directory only, filename is hardcoded\n",
    "#         as part of this function.\n",
    "#     as_text: bool\n",
    "#         If True, write results as text file.  If False, write as json file.\n",
    "#     '''\n",
    "#     create_dir(dir_outpath)\n",
    "#     time_marker = datetime.now().strftime(\"%Y-%m-%d-%H-%M-%S\")\n",
    "#     ext = 'txt' if as_text else 'json'\n",
    "#     path = os.path.join(dir_outpath, f'retrieval_eval_{chunk_size}_{time_marker}.{ext}')\n",
    "#     if as_text:\n",
    "#         with open(path, 'a') as f:\n",
    "#             f.write(f\"{results_dict}\\n\")\n",
    "#     else: \n",
    "#         with open(path, 'w') as f:\n",
    "#             json.dump(results_dict, f, indent=4)\n",
    "\n",
    "# def add_params(client: WeaviateClient, \n",
    "#                class_name: str, \n",
    "#                results_dict: dict, \n",
    "#                param_options: dict, \n",
    "#                hnsw_config_keys: list[str]\n",
    "#               ) -> dict:\n",
    "#     '''\n",
    "#     Helper function that adds parameters to the results_dict:\n",
    "#     - Adds HNSW Index parameters to results_dict\n",
    "#     - Adds optional user-defined parameters to results_dict\n",
    "#     '''\n",
    "#     hnsw_params = {k:v for k,v in client.show_class_config(class_name)['vectorIndexConfig'].items() if k in hnsw_config_keys}\n",
    "#     if hnsw_params:\n",
    "#         results_dict = {**results_dict, **hnsw_params}\n",
    "#     if param_options and isinstance(param_options, dict):\n",
    "#         results_dict = {**results_dict, **param_options}\n",
    "#     return results_dict"
   ]
  },
  {
   "cell_type": "markdown",
   "id": "97c56caf-f0d4-48dc-883f-00955af5ec6f",
   "metadata": {},
   "source": [
    "### Load raw data\n",
    "Load raw data from parquet file.  Raw data should be in the same format as the dataset (corpus) created in [Notebook 1](https://github.com/americanthinker/vectorsearch-applications/blob/main/1-Data_Preprocessing_Week1_COLAB.ipynb). "
   ]
  },
  {
   "cell_type": "code",
   "execution_count": 4,
   "id": "bc3833d7-9f28-439d-893c-f76731a599b3",
   "metadata": {},
   "outputs": [
    {
     "name": "stdout",
     "output_type": "stream",
     "text": [
      "Shape of data: (26448, 12)\n",
      "Memory Usage: 2.42+ MB\n"
     ]
    },
    {
     "data": {
      "text/plain": [
       "26448"
      ]
     },
     "execution_count": 4,
     "metadata": {},
     "output_type": "execute_result"
    }
   ],
   "source": [
    "data_path = './data/impact_theory_minilm_256.parquet'\n",
    "data = FileIO().load_parquet(data_path)\n",
    "len(data)"
   ]
  },
  {
   "cell_type": "markdown",
   "id": "87c8787b-3c0c-4999-942f-9f8362eb945b",
   "metadata": {},
   "source": [
    "### Data Length Analysis\n",
    "Conduct an analysis of the length of the content chunks.  Can use either raw words or tokens to assess length.  The main point here is to get a sense of the mean length of content chunks in the data and to set the `total_chars` param in the `clean_validate_data` method with an appropriate value."
   ]
  },
  {
   "cell_type": "code",
   "execution_count": 5,
   "id": "656fdd2d-9057-4f6c-a767-a8070cec3cda",
   "metadata": {},
   "outputs": [
    {
     "data": {
      "text/html": [
       "<div>\n",
       "<style scoped>\n",
       "    .dataframe tbody tr th:only-of-type {\n",
       "        vertical-align: middle;\n",
       "    }\n",
       "\n",
       "    .dataframe tbody tr th {\n",
       "        vertical-align: top;\n",
       "    }\n",
       "\n",
       "    .dataframe thead th {\n",
       "        text-align: right;\n",
       "    }\n",
       "</style>\n",
       "<table border=\"1\" class=\"dataframe\">\n",
       "  <thead>\n",
       "    <tr style=\"text-align: right;\">\n",
       "      <th></th>\n",
       "      <th>0</th>\n",
       "    </tr>\n",
       "  </thead>\n",
       "  <tbody>\n",
       "    <tr>\n",
       "      <th>count</th>\n",
       "      <td>26448.000000</td>\n",
       "    </tr>\n",
       "    <tr>\n",
       "      <th>mean</th>\n",
       "      <td>991.729053</td>\n",
       "    </tr>\n",
       "    <tr>\n",
       "      <th>std</th>\n",
       "      <td>126.344870</td>\n",
       "    </tr>\n",
       "    <tr>\n",
       "      <th>min</th>\n",
       "      <td>4.000000</td>\n",
       "    </tr>\n",
       "    <tr>\n",
       "      <th>25%</th>\n",
       "      <td>944.000000</td>\n",
       "    </tr>\n",
       "    <tr>\n",
       "      <th>50%</th>\n",
       "      <td>1005.000000</td>\n",
       "    </tr>\n",
       "    <tr>\n",
       "      <th>75%</th>\n",
       "      <td>1060.000000</td>\n",
       "    </tr>\n",
       "    <tr>\n",
       "      <th>max</th>\n",
       "      <td>1974.000000</td>\n",
       "    </tr>\n",
       "  </tbody>\n",
       "</table>\n",
       "</div>"
      ],
      "text/plain": [
       "                  0\n",
       "count  26448.000000\n",
       "mean     991.729053\n",
       "std      126.344870\n",
       "min        4.000000\n",
       "25%      944.000000\n",
       "50%     1005.000000\n",
       "75%     1060.000000\n",
       "max     1974.000000"
      ]
     },
     "execution_count": 5,
     "metadata": {},
     "output_type": "execute_result"
    }
   ],
   "source": [
    "#in this example the mean content length is @ 1,000\n",
    "lengths = [len(d['content']) for d in data]\n",
    "df = pd.DataFrame(lengths)\n",
    "df.describe() "
   ]
  },
  {
   "cell_type": "markdown",
   "id": "202dbfca-0a73-4756-b7e7-58f5ef6f62e0",
   "metadata": {},
   "source": [
    "### Split Data\n",
    "\n",
    "The `train_val_split` function will clean and validate the raw data as a first step and then split into user defined train/val splits.  \n",
    "- Cleaning simply strips the keys from the data that are not needed for the query/content generation process\n",
    "- Validation consists of ensuring that only content chunks of length > `total_chars` are passed to the LLM (this step prevents the LLM from asking questions from sparse context)\n",
    "\n",
    "Users define the number of training samples and validation samples to generate.  Number of questions per content chunk can also be set to more than 1, however a note of caution:\n",
    "- Setting `num_questions_per_chunk` > 1 saves time (and money) by asking more than one question per content chunk, however, the dataset will be less diverse.  There is also the potential for the model to generate lower quality questions if the content chunk isn't large enough or meaningful enough to generate more than one question from the content.\n",
    "- Retrieval evaluation results from fine-tuning an embedding model with 200-300 training samples showed an uptick of 5-10% points.  Upper bound on retrieval improvement as a funtion of training sample size is yet to be determined (have fun pushing the boundaries! 👊)\n",
    "- A validation data set is not required for seeing improvement from fine tuning.  The addition of a validation dataset, however, allows a user to test the results of fine tuning on an unseen dataset. "
   ]
  },
  {
   "cell_type": "code",
   "execution_count": 6,
   "id": "e4380c60-c0e9-4f35-b576-59adb173bec3",
   "metadata": {},
   "outputs": [
    {
     "name": "stdout",
     "output_type": "stream",
     "text": [
      "Length Training Data: 10\n",
      "Length Validation Data: 5\n"
     ]
    }
   ],
   "source": [
    "#split data into train/val sets\n",
    "#in this example we are creating a training set of n=10, val set of n=5, and asking the LLM to only ask 1 question per chunk. \n",
    "train, val = generator.train_val_split(data, 10, 5, 1, total_chars=950)"
   ]
  },
  {
   "cell_type": "markdown",
   "id": "ac2ac9e4-3f6f-4903-88f7-7c397ddf66c6",
   "metadata": {},
   "source": [
    "### Generate QA pairs\n",
    "\n",
    "To generate query/context pairs we need to pass in our cleaned data splits, a question asking generation prompt, and the number of questions per chunk (needs to be same value passed into the `train_val_split` function.\n",
    "The `qa_generation_prompt` is already preconfigured and supplies the LLM with additional context about the Impact Theory show to ensure high quality questions are asked given the additional context.   \n",
    "Print out the prompt to see what is being asked of the model:"
   ]
  },
  {
   "cell_type": "code",
   "execution_count": 7,
   "id": "548ee55b-daa5-4ae3-ae8d-c9d67ac8c859",
   "metadata": {},
   "outputs": [
    {
     "data": {
      "text/html": [
       "<pre style=\"white-space:pre;overflow-x:auto;line-height:normal;font-family:Menlo,'DejaVu Sans Mono',consolas,'Courier New',monospace\">\n",
       "Impact Theory episode summary and episode guest are below:\n",
       "\n",
       "---------------------\n",
       "Summary: <span style=\"font-weight: bold\">{</span>summary<span style=\"font-weight: bold\">}</span>\n",
       "---------------------\n",
       "Guest: <span style=\"font-weight: bold\">{</span>guest<span style=\"font-weight: bold\">}</span>\n",
       "---------------------\n",
       "Given the Summary and Guest of the episode as context use the following randomly selected transcript section \\  \n",
       "of the episode and not prior knowledge, generate questions that can be answered by the transcript section: \n",
       "\n",
       "---------------------\n",
       "Transcript: <span style=\"font-weight: bold\">{</span>transcript<span style=\"font-weight: bold\">}</span>\n",
       "---------------------\n",
       "\n",
       "Your task is to create <span style=\"font-weight: bold\">{</span>num_questions_per_chunk<span style=\"font-weight: bold\">}</span> questions that can only be answered given the previous context and\n",
       "transcript details. The question should randomly start with How, Why, or What.   \n",
       "\n",
       "</pre>\n"
      ],
      "text/plain": [
       "\n",
       "Impact Theory episode summary and episode guest are below:\n",
       "\n",
       "---------------------\n",
       "Summary: \u001b[1m{\u001b[0msummary\u001b[1m}\u001b[0m\n",
       "---------------------\n",
       "Guest: \u001b[1m{\u001b[0mguest\u001b[1m}\u001b[0m\n",
       "---------------------\n",
       "Given the Summary and Guest of the episode as context use the following randomly selected transcript section \\  \n",
       "of the episode and not prior knowledge, generate questions that can be answered by the transcript section: \n",
       "\n",
       "---------------------\n",
       "Transcript: \u001b[1m{\u001b[0mtranscript\u001b[1m}\u001b[0m\n",
       "---------------------\n",
       "\n",
       "Your task is to create \u001b[1m{\u001b[0mnum_questions_per_chunk\u001b[1m}\u001b[0m questions that can only be answered given the previous context and\n",
       "transcript details. The question should randomly start with How, Why, or What.   \n",
       "\n"
      ]
     },
     "metadata": {},
     "output_type": "display_data"
    }
   ],
   "source": [
    "print(qa_generation_prompt)"
   ]
  },
  {
   "cell_type": "markdown",
   "id": "8eb27ebe-15ac-4807-a579-6474dce6d548",
   "metadata": {},
   "source": [
    "The output from this function is a llama_index class `EmbeddingQAFinetuneDataset`, which is a simple wrapper for a series of three dictionaries (`corpus`, `queries`, and `relevant_docs`).  The llama_index class is not absolutely necessary, but it is helpful in making transitions smoother when using the llama_index `SentenceTransformersFinetuneEngine` class for fine-tuning.  It takes roughly 80 seconds to generate 100 query/context pairs so a sample size of 300 takes about 4 minutes (much faster than if you were to do this manually!)."
   ]
  },
  {
   "cell_type": "code",
   "execution_count": 12,
   "id": "72a3fd61-44ea-4642-ba5c-b7acbf800e88",
   "metadata": {},
   "outputs": [
    {
     "name": "stderr",
     "output_type": "stream",
     "text": [
      "100%|████████████████████████████████████████████████████████████████████| 10/10 [00:13<00:00,  1.30s/it]\n"
     ]
    }
   ],
   "source": [
    "training_set = generator.generate_qa_embedding_pairs(train, qa_generation_prompt, 2)\n",
    "# val_set = generator.generate_qa_embedding_pairs(val, qa_generation_prompt, 1)"
   ]
  },
  {
   "cell_type": "code",
   "execution_count": 13,
   "id": "1e6130c7-d4b6-4d75-b63e-acc85ffed3f4",
   "metadata": {},
   "outputs": [
    {
     "data": {
      "text/plain": [
       "(20, 5)"
      ]
     },
     "execution_count": 13,
     "metadata": {},
     "output_type": "execute_result"
    }
   ],
   "source": [
    "#EmbeddingQAFinetuneDataset has no len, so check length of queries instead\n",
    "len(training_set.queries), len(val_set.queries)"
   ]
  },
  {
   "cell_type": "markdown",
   "id": "c7be6432-def2-4dcf-8801-1c56d5f09a86",
   "metadata": {},
   "source": [
    "### Dataset Analysis\n",
    "\n",
    "Always a good idea to check the quality of the pairs generated.  Most pairs will be high quality but some will not be, this is a chance for human intervention to adjust the questions manually to ensure the quality remains high. "
   ]
  },
  {
   "cell_type": "code",
   "execution_count": 14,
   "id": "cda268d4-93b2-4ed4-9700-6819cb7a9af4",
   "metadata": {},
   "outputs": [],
   "source": [
    "def show_qa_pairs(data: EmbeddingQAFinetuneDataset, print_results: bool=True):\n",
    "    pairs = []\n",
    "    for k, v in data.queries.items():\n",
    "        doc_id = data.relevant_docs[k][0]\n",
    "        context = data.corpus[doc_id]\n",
    "        pairs.append((v, context))\n",
    "    if print_results:\n",
    "        for tup in pairs:\n",
    "            print(f'Question: {tup[0]}\\nContext: {tup[1]}\\n\\n')\n",
    "    return pairs    "
   ]
  },
  {
   "cell_type": "code",
   "execution_count": 17,
   "id": "6141be90-7c11-40f7-b635-c82f80ea394b",
   "metadata": {
    "collapsed": true,
    "jupyter": {
     "outputs_hidden": true
    }
   },
   "outputs": [
    {
     "data": {
      "text/html": [
       "<pre style=\"white-space:pre;overflow-x:auto;line-height:normal;font-family:Menlo,'DejaVu Sans Mono',consolas,'Courier New',monospace\">Question: How does Peter Attia approach cancer treatment for his patients?\n",
       "Context: Is it one that responds to immunotherapy? Is there like a protocol that you would walk down? No, it would \n",
       "be entirely dependent on what the cancer was. So that gets to kind of step two of my thinking on cancer, which is \n",
       "the unequivocal, unambiguous understanding that your odds for treating cancer go down the more cancer cells you \n",
       "have in your body. So detecting it sooner. In the book, you talk about you, for your patients, you lower the age of\n",
       "colonoscopy. We do everything much more aggressively. So we're doing colonoscopy much earlier, much more \n",
       "frequently. How often would you do a colonoscopy? Oh, it depends on the individual. I mean, in me, I do it every \n",
       "three years. Really? Yeah, and then I do stool-based testing in between. What do you check for in the stool? You're\n",
       "looking for fecal DNA. So you're looking for DNA of the colon cancer, yeah. Interesting. It has its own DNA? What \n",
       "are we looking for? Yeah, you're looking for the DNA that's shedding from a tumor.\n",
       "\n",
       "\n",
       "</pre>\n"
      ],
      "text/plain": [
       "Question: How does Peter Attia approach cancer treatment for his patients?\n",
       "Context: Is it one that responds to immunotherapy? Is there like a protocol that you would walk down? No, it would \n",
       "be entirely dependent on what the cancer was. So that gets to kind of step two of my thinking on cancer, which is \n",
       "the unequivocal, unambiguous understanding that your odds for treating cancer go down the more cancer cells you \n",
       "have in your body. So detecting it sooner. In the book, you talk about you, for your patients, you lower the age of\n",
       "colonoscopy. We do everything much more aggressively. So we're doing colonoscopy much earlier, much more \n",
       "frequently. How often would you do a colonoscopy? Oh, it depends on the individual. I mean, in me, I do it every \n",
       "three years. Really? Yeah, and then I do stool-based testing in between. What do you check for in the stool? You're\n",
       "looking for fecal DNA. So you're looking for DNA of the colon cancer, yeah. Interesting. It has its own DNA? What \n",
       "are we looking for? Yeah, you're looking for the DNA that's shedding from a tumor.\n",
       "\n",
       "\n"
      ]
     },
     "metadata": {},
     "output_type": "display_data"
    },
    {
     "data": {
      "text/html": [
       "<pre style=\"white-space:pre;overflow-x:auto;line-height:normal;font-family:Menlo,'DejaVu Sans Mono',consolas,'Courier New',monospace\">Question: What does Peter Attia check for in stool-based testing for colon cancer?\n",
       "Context: Is it one that responds to immunotherapy? Is there like a protocol that you would walk down? No, it would \n",
       "be entirely dependent on what the cancer was. So that gets to kind of step two of my thinking on cancer, which is \n",
       "the unequivocal, unambiguous understanding that your odds for treating cancer go down the more cancer cells you \n",
       "have in your body. So detecting it sooner. In the book, you talk about you, for your patients, you lower the age of\n",
       "colonoscopy. We do everything much more aggressively. So we're doing colonoscopy much earlier, much more \n",
       "frequently. How often would you do a colonoscopy? Oh, it depends on the individual. I mean, in me, I do it every \n",
       "three years. Really? Yeah, and then I do stool-based testing in between. What do you check for in the stool? You're\n",
       "looking for fecal DNA. So you're looking for DNA of the colon cancer, yeah. Interesting. It has its own DNA? What \n",
       "are we looking for? Yeah, you're looking for the DNA that's shedding from a tumor.\n",
       "\n",
       "\n",
       "</pre>\n"
      ],
      "text/plain": [
       "Question: What does Peter Attia check for in stool-based testing for colon cancer?\n",
       "Context: Is it one that responds to immunotherapy? Is there like a protocol that you would walk down? No, it would \n",
       "be entirely dependent on what the cancer was. So that gets to kind of step two of my thinking on cancer, which is \n",
       "the unequivocal, unambiguous understanding that your odds for treating cancer go down the more cancer cells you \n",
       "have in your body. So detecting it sooner. In the book, you talk about you, for your patients, you lower the age of\n",
       "colonoscopy. We do everything much more aggressively. So we're doing colonoscopy much earlier, much more \n",
       "frequently. How often would you do a colonoscopy? Oh, it depends on the individual. I mean, in me, I do it every \n",
       "three years. Really? Yeah, and then I do stool-based testing in between. What do you check for in the stool? You're\n",
       "looking for fecal DNA. So you're looking for DNA of the colon cancer, yeah. Interesting. It has its own DNA? What \n",
       "are we looking for? Yeah, you're looking for the DNA that's shedding from a tumor.\n",
       "\n",
       "\n"
      ]
     },
     "metadata": {},
     "output_type": "display_data"
    },
    {
     "data": {
      "text/html": [
       "<pre style=\"white-space:pre;overflow-x:auto;line-height:normal;font-family:Menlo,'DejaVu Sans Mono',consolas,'Courier New',monospace\">Question: How did Jim Kwik's struggles with learning challenges and fear of public speaking ultimately benefit him \n",
       "in his career?\n",
       "Context: Like that's like the master energy control center. So for me, I would always lean into my practices \n",
       "because it forced me to double down. I think there's a gift. I don't know if it's true enough, but it's been my \n",
       "experience where when people go through struggles that there's a gift in this, like whether there's a gift of \n",
       "what's going on right now, true or false, I choose to believe it because then I'll operate from that, from that \n",
       "point of view and that perspective, meaning what's the gift in me having learning challenges and fearful of public \n",
       "speaking while I got really damn good at learning and public speaking because that's all I do now for, for, for a \n",
       "living, right? What was the advantage that came out of this sleep deprivation experiment for <span style=\"color: #008080; text-decoration-color: #008080; font-weight: bold\">10</span> years now without \n",
       "that much better is I could tell you two things immediately. It forced me to double down on everything I teach \n",
       "because I'm just, I'm just documenting and telling people what I do, right? Otherwise I won't be able to perform at\n",
       "the level that I do. And then number two, it's forced me also to be very selective in the things I say yes to.\n",
       "\n",
       "\n",
       "</pre>\n"
      ],
      "text/plain": [
       "Question: How did Jim Kwik's struggles with learning challenges and fear of public speaking ultimately benefit him \n",
       "in his career?\n",
       "Context: Like that's like the master energy control center. So for me, I would always lean into my practices \n",
       "because it forced me to double down. I think there's a gift. I don't know if it's true enough, but it's been my \n",
       "experience where when people go through struggles that there's a gift in this, like whether there's a gift of \n",
       "what's going on right now, true or false, I choose to believe it because then I'll operate from that, from that \n",
       "point of view and that perspective, meaning what's the gift in me having learning challenges and fearful of public \n",
       "speaking while I got really damn good at learning and public speaking because that's all I do now for, for, for a \n",
       "living, right? What was the advantage that came out of this sleep deprivation experiment for \u001b[1;36m10\u001b[0m years now without \n",
       "that much better is I could tell you two things immediately. It forced me to double down on everything I teach \n",
       "because I'm just, I'm just documenting and telling people what I do, right? Otherwise I won't be able to perform at\n",
       "the level that I do. And then number two, it's forced me also to be very selective in the things I say yes to.\n",
       "\n",
       "\n"
      ]
     },
     "metadata": {},
     "output_type": "display_data"
    },
    {
     "data": {
      "text/html": [
       "<pre style=\"white-space:pre;overflow-x:auto;line-height:normal;font-family:Menlo,'DejaVu Sans Mono',consolas,'Courier New',monospace\">Question: What were the two immediate advantages that Jim Kwik gained from his sleep deprivation experiment?\n",
       "Context: Like that's like the master energy control center. So for me, I would always lean into my practices \n",
       "because it forced me to double down. I think there's a gift. I don't know if it's true enough, but it's been my \n",
       "experience where when people go through struggles that there's a gift in this, like whether there's a gift of \n",
       "what's going on right now, true or false, I choose to believe it because then I'll operate from that, from that \n",
       "point of view and that perspective, meaning what's the gift in me having learning challenges and fearful of public \n",
       "speaking while I got really damn good at learning and public speaking because that's all I do now for, for, for a \n",
       "living, right? What was the advantage that came out of this sleep deprivation experiment for <span style=\"color: #008080; text-decoration-color: #008080; font-weight: bold\">10</span> years now without \n",
       "that much better is I could tell you two things immediately. It forced me to double down on everything I teach \n",
       "because I'm just, I'm just documenting and telling people what I do, right? Otherwise I won't be able to perform at\n",
       "the level that I do. And then number two, it's forced me also to be very selective in the things I say yes to.\n",
       "\n",
       "\n",
       "</pre>\n"
      ],
      "text/plain": [
       "Question: What were the two immediate advantages that Jim Kwik gained from his sleep deprivation experiment?\n",
       "Context: Like that's like the master energy control center. So for me, I would always lean into my practices \n",
       "because it forced me to double down. I think there's a gift. I don't know if it's true enough, but it's been my \n",
       "experience where when people go through struggles that there's a gift in this, like whether there's a gift of \n",
       "what's going on right now, true or false, I choose to believe it because then I'll operate from that, from that \n",
       "point of view and that perspective, meaning what's the gift in me having learning challenges and fearful of public \n",
       "speaking while I got really damn good at learning and public speaking because that's all I do now for, for, for a \n",
       "living, right? What was the advantage that came out of this sleep deprivation experiment for \u001b[1;36m10\u001b[0m years now without \n",
       "that much better is I could tell you two things immediately. It forced me to double down on everything I teach \n",
       "because I'm just, I'm just documenting and telling people what I do, right? Otherwise I won't be able to perform at\n",
       "the level that I do. And then number two, it's forced me also to be very selective in the things I say yes to.\n",
       "\n",
       "\n"
      ]
     },
     "metadata": {},
     "output_type": "display_data"
    },
    {
     "data": {
      "text/html": [
       "<pre style=\"white-space:pre;overflow-x:auto;line-height:normal;font-family:Menlo,'DejaVu Sans Mono',consolas,'Courier New',monospace\">Question: How does Kurt Busch describe the balance between professionalism and tenacity in his racing career?\n",
       "Context: There's some team owners or some mechanics or team personnel that are with you, but they have more of a \n",
       "balanced political approach to it, and then there's some that are just like, you know what? Let's let six months go\n",
       "by, and then we'll reevaluate. In racing timelines, that's way too long. You got to move quick, and that's what was\n",
       "a lot of my not balancing the professionalism with my tenacity or talent from behind the wheel. What do you plan to\n",
       "do in the next phase? At some point, I imagine you will say, okay, I'm going to step away from driving. What do you\n",
       "want to see the next phase of your life? Will it be equally competitive? Is there something that you already have \n",
       "on tap that you want to do? I'm sure I'll be competitive. I married a beautiful woman who is competitive in her own\n",
       "rights. My wife, Ashley, plays competitive polo, and she has her horses, her team, and travels, and she has the \n",
       "same thing that I have. It's called helmetitis. You put a helmet on, and you change into a different person.\n",
       "\n",
       "\n",
       "</pre>\n"
      ],
      "text/plain": [
       "Question: How does Kurt Busch describe the balance between professionalism and tenacity in his racing career?\n",
       "Context: There's some team owners or some mechanics or team personnel that are with you, but they have more of a \n",
       "balanced political approach to it, and then there's some that are just like, you know what? Let's let six months go\n",
       "by, and then we'll reevaluate. In racing timelines, that's way too long. You got to move quick, and that's what was\n",
       "a lot of my not balancing the professionalism with my tenacity or talent from behind the wheel. What do you plan to\n",
       "do in the next phase? At some point, I imagine you will say, okay, I'm going to step away from driving. What do you\n",
       "want to see the next phase of your life? Will it be equally competitive? Is there something that you already have \n",
       "on tap that you want to do? I'm sure I'll be competitive. I married a beautiful woman who is competitive in her own\n",
       "rights. My wife, Ashley, plays competitive polo, and she has her horses, her team, and travels, and she has the \n",
       "same thing that I have. It's called helmetitis. You put a helmet on, and you change into a different person.\n",
       "\n",
       "\n"
      ]
     },
     "metadata": {},
     "output_type": "display_data"
    },
    {
     "data": {
      "text/html": [
       "<pre style=\"white-space:pre;overflow-x:auto;line-height:normal;font-family:Menlo,'DejaVu Sans Mono',consolas,'Courier New',monospace\">Question: What does Kurt Busch anticipate for the next phase of his life after stepping away from driving?\n",
       "Context: There's some team owners or some mechanics or team personnel that are with you, but they have more of a \n",
       "balanced political approach to it, and then there's some that are just like, you know what? Let's let six months go\n",
       "by, and then we'll reevaluate. In racing timelines, that's way too long. You got to move quick, and that's what was\n",
       "a lot of my not balancing the professionalism with my tenacity or talent from behind the wheel. What do you plan to\n",
       "do in the next phase? At some point, I imagine you will say, okay, I'm going to step away from driving. What do you\n",
       "want to see the next phase of your life? Will it be equally competitive? Is there something that you already have \n",
       "on tap that you want to do? I'm sure I'll be competitive. I married a beautiful woman who is competitive in her own\n",
       "rights. My wife, Ashley, plays competitive polo, and she has her horses, her team, and travels, and she has the \n",
       "same thing that I have. It's called helmetitis. You put a helmet on, and you change into a different person.\n",
       "\n",
       "\n",
       "</pre>\n"
      ],
      "text/plain": [
       "Question: What does Kurt Busch anticipate for the next phase of his life after stepping away from driving?\n",
       "Context: There's some team owners or some mechanics or team personnel that are with you, but they have more of a \n",
       "balanced political approach to it, and then there's some that are just like, you know what? Let's let six months go\n",
       "by, and then we'll reevaluate. In racing timelines, that's way too long. You got to move quick, and that's what was\n",
       "a lot of my not balancing the professionalism with my tenacity or talent from behind the wheel. What do you plan to\n",
       "do in the next phase? At some point, I imagine you will say, okay, I'm going to step away from driving. What do you\n",
       "want to see the next phase of your life? Will it be equally competitive? Is there something that you already have \n",
       "on tap that you want to do? I'm sure I'll be competitive. I married a beautiful woman who is competitive in her own\n",
       "rights. My wife, Ashley, plays competitive polo, and she has her horses, her team, and travels, and she has the \n",
       "same thing that I have. It's called helmetitis. You put a helmet on, and you change into a different person.\n",
       "\n",
       "\n"
      ]
     },
     "metadata": {},
     "output_type": "display_data"
    },
    {
     "data": {
      "text/html": [
       "<pre style=\"white-space:pre;overflow-x:auto;line-height:normal;font-family:Menlo,'DejaVu Sans Mono',consolas,'Courier New',monospace\">Question: How does the brain optimize itself and prevent memory leaks?\n",
       "Context: So please remember, no matter what, if you put time, energy, and repetition into something, your brain is \n",
       "going to rewire. Now, you rewire based on repetition because your brain is always trying to be efficient. It \n",
       "represents something like two or <span style=\"color: #008080; text-decoration-color: #008080; font-weight: bold\">3</span>% of your body mass and yet takes up <span style=\"color: #008080; text-decoration-color: #008080; font-weight: bold\">25</span>% of the energy requirements of your body.\n",
       "Your brain is a caloric hog. And since evolutionarily speaking, calories were hard to come by, your brain is \n",
       "constantly trying to do things to optimize itself. Think about a computer that's running hot. It's trying to lower \n",
       "the resource requirements. And if you get what they call memory leaks in a computer, the computer crashes. The same\n",
       "is true of the brain. So evolution has made sure that we don't have these memory leaks, that we close those apps \n",
       "that are running in the background of the mind so that you don't need to use as many resources. One of the ways \n",
       "that it does it is a process called myelination. Myelination is what people mean when they talk about rewiring your\n",
       "brain. It's actually two parts.\n",
       "\n",
       "\n",
       "</pre>\n"
      ],
      "text/plain": [
       "Question: How does the brain optimize itself and prevent memory leaks?\n",
       "Context: So please remember, no matter what, if you put time, energy, and repetition into something, your brain is \n",
       "going to rewire. Now, you rewire based on repetition because your brain is always trying to be efficient. It \n",
       "represents something like two or \u001b[1;36m3\u001b[0m% of your body mass and yet takes up \u001b[1;36m25\u001b[0m% of the energy requirements of your body.\n",
       "Your brain is a caloric hog. And since evolutionarily speaking, calories were hard to come by, your brain is \n",
       "constantly trying to do things to optimize itself. Think about a computer that's running hot. It's trying to lower \n",
       "the resource requirements. And if you get what they call memory leaks in a computer, the computer crashes. The same\n",
       "is true of the brain. So evolution has made sure that we don't have these memory leaks, that we close those apps \n",
       "that are running in the background of the mind so that you don't need to use as many resources. One of the ways \n",
       "that it does it is a process called myelination. Myelination is what people mean when they talk about rewiring your\n",
       "brain. It's actually two parts.\n",
       "\n",
       "\n"
      ]
     },
     "metadata": {},
     "output_type": "display_data"
    },
    {
     "data": {
      "text/html": [
       "<pre style=\"white-space:pre;overflow-x:auto;line-height:normal;font-family:Menlo,'DejaVu Sans Mono',consolas,'Courier New',monospace\">Question: What is myelination and how does it contribute to rewiring the brain?\n",
       "Context: So please remember, no matter what, if you put time, energy, and repetition into something, your brain is \n",
       "going to rewire. Now, you rewire based on repetition because your brain is always trying to be efficient. It \n",
       "represents something like two or <span style=\"color: #008080; text-decoration-color: #008080; font-weight: bold\">3</span>% of your body mass and yet takes up <span style=\"color: #008080; text-decoration-color: #008080; font-weight: bold\">25</span>% of the energy requirements of your body.\n",
       "Your brain is a caloric hog. And since evolutionarily speaking, calories were hard to come by, your brain is \n",
       "constantly trying to do things to optimize itself. Think about a computer that's running hot. It's trying to lower \n",
       "the resource requirements. And if you get what they call memory leaks in a computer, the computer crashes. The same\n",
       "is true of the brain. So evolution has made sure that we don't have these memory leaks, that we close those apps \n",
       "that are running in the background of the mind so that you don't need to use as many resources. One of the ways \n",
       "that it does it is a process called myelination. Myelination is what people mean when they talk about rewiring your\n",
       "brain. It's actually two parts.\n",
       "\n",
       "\n",
       "</pre>\n"
      ],
      "text/plain": [
       "Question: What is myelination and how does it contribute to rewiring the brain?\n",
       "Context: So please remember, no matter what, if you put time, energy, and repetition into something, your brain is \n",
       "going to rewire. Now, you rewire based on repetition because your brain is always trying to be efficient. It \n",
       "represents something like two or \u001b[1;36m3\u001b[0m% of your body mass and yet takes up \u001b[1;36m25\u001b[0m% of the energy requirements of your body.\n",
       "Your brain is a caloric hog. And since evolutionarily speaking, calories were hard to come by, your brain is \n",
       "constantly trying to do things to optimize itself. Think about a computer that's running hot. It's trying to lower \n",
       "the resource requirements. And if you get what they call memory leaks in a computer, the computer crashes. The same\n",
       "is true of the brain. So evolution has made sure that we don't have these memory leaks, that we close those apps \n",
       "that are running in the background of the mind so that you don't need to use as many resources. One of the ways \n",
       "that it does it is a process called myelination. Myelination is what people mean when they talk about rewiring your\n",
       "brain. It's actually two parts.\n",
       "\n",
       "\n"
      ]
     },
     "metadata": {},
     "output_type": "display_data"
    },
    {
     "data": {
      "text/html": [
       "<pre style=\"white-space:pre;overflow-x:auto;line-height:normal;font-family:Menlo,'DejaVu Sans Mono',consolas,'Courier New',monospace\">Question: How does Vanessa Van Edwards describe touch as a communication tool?\n",
       "Context: But if you really have someone<span style=\"color: #808000; text-decoration-color: #808000\">...</span> Why least favorite? Because in this world, if we're six feet apart, \n",
       "right? It's really hard to cross that space boundary. And also some people aren't comfortable with touch. So I \n",
       "reserve that one if you're only like, I really need to get their attention. Touch is like the nuclear weapon, or \n",
       "maybe plutonium is the right word. It's the plutonium of communication. It can be used to create nuclear power or \n",
       "an atomic bomb. I don't think we talked about this in the last time they were together, but I went out on a \n",
       "business evening with a woman who touched so much that I was almost laughing to myself. And I<span style=\"color: #808000; text-decoration-color: #808000\">...</span> That's so awkward.\n",
       "No, I know. And it actually wasn't awkward. And what made it so interesting was how hyper aware of it I was and \n",
       "that it still worked. And I was like, how is this possible? Like<span style=\"color: #808000; text-decoration-color: #808000\">...</span> It was working. Yeah. Like forearm, hand. Oh my\n",
       "God. Laughing, shoulder. I was like, what is happening right now? I felt like I was at a magic show.\n",
       "\n",
       "\n",
       "</pre>\n"
      ],
      "text/plain": [
       "Question: How does Vanessa Van Edwards describe touch as a communication tool?\n",
       "Context: But if you really have someone\u001b[33m...\u001b[0m Why least favorite? Because in this world, if we're six feet apart, \n",
       "right? It's really hard to cross that space boundary. And also some people aren't comfortable with touch. So I \n",
       "reserve that one if you're only like, I really need to get their attention. Touch is like the nuclear weapon, or \n",
       "maybe plutonium is the right word. It's the plutonium of communication. It can be used to create nuclear power or \n",
       "an atomic bomb. I don't think we talked about this in the last time they were together, but I went out on a \n",
       "business evening with a woman who touched so much that I was almost laughing to myself. And I\u001b[33m...\u001b[0m That's so awkward.\n",
       "No, I know. And it actually wasn't awkward. And what made it so interesting was how hyper aware of it I was and \n",
       "that it still worked. And I was like, how is this possible? Like\u001b[33m...\u001b[0m It was working. Yeah. Like forearm, hand. Oh my\n",
       "God. Laughing, shoulder. I was like, what is happening right now? I felt like I was at a magic show.\n",
       "\n",
       "\n"
      ]
     },
     "metadata": {},
     "output_type": "display_data"
    },
    {
     "data": {
      "text/html": [
       "<pre style=\"white-space:pre;overflow-x:auto;line-height:normal;font-family:Menlo,'DejaVu Sans Mono',consolas,'Courier New',monospace\">Question: Why did the excessive touching from the woman on the business evening still work despite being hyper \n",
       "aware of it?\n",
       "Context: But if you really have someone<span style=\"color: #808000; text-decoration-color: #808000\">...</span> Why least favorite? Because in this world, if we're six feet apart, \n",
       "right? It's really hard to cross that space boundary. And also some people aren't comfortable with touch. So I \n",
       "reserve that one if you're only like, I really need to get their attention. Touch is like the nuclear weapon, or \n",
       "maybe plutonium is the right word. It's the plutonium of communication. It can be used to create nuclear power or \n",
       "an atomic bomb. I don't think we talked about this in the last time they were together, but I went out on a \n",
       "business evening with a woman who touched so much that I was almost laughing to myself. And I<span style=\"color: #808000; text-decoration-color: #808000\">...</span> That's so awkward.\n",
       "No, I know. And it actually wasn't awkward. And what made it so interesting was how hyper aware of it I was and \n",
       "that it still worked. And I was like, how is this possible? Like<span style=\"color: #808000; text-decoration-color: #808000\">...</span> It was working. Yeah. Like forearm, hand. Oh my\n",
       "God. Laughing, shoulder. I was like, what is happening right now? I felt like I was at a magic show.\n",
       "\n",
       "\n",
       "</pre>\n"
      ],
      "text/plain": [
       "Question: Why did the excessive touching from the woman on the business evening still work despite being hyper \n",
       "aware of it?\n",
       "Context: But if you really have someone\u001b[33m...\u001b[0m Why least favorite? Because in this world, if we're six feet apart, \n",
       "right? It's really hard to cross that space boundary. And also some people aren't comfortable with touch. So I \n",
       "reserve that one if you're only like, I really need to get their attention. Touch is like the nuclear weapon, or \n",
       "maybe plutonium is the right word. It's the plutonium of communication. It can be used to create nuclear power or \n",
       "an atomic bomb. I don't think we talked about this in the last time they were together, but I went out on a \n",
       "business evening with a woman who touched so much that I was almost laughing to myself. And I\u001b[33m...\u001b[0m That's so awkward.\n",
       "No, I know. And it actually wasn't awkward. And what made it so interesting was how hyper aware of it I was and \n",
       "that it still worked. And I was like, how is this possible? Like\u001b[33m...\u001b[0m It was working. Yeah. Like forearm, hand. Oh my\n",
       "God. Laughing, shoulder. I was like, what is happening right now? I felt like I was at a magic show.\n",
       "\n",
       "\n"
      ]
     },
     "metadata": {},
     "output_type": "display_data"
    },
    {
     "data": {
      "text/html": [
       "<pre style=\"white-space:pre;overflow-x:auto;line-height:normal;font-family:Menlo,'DejaVu Sans Mono',consolas,'Courier New',monospace\">Question: How does Susan David explain the role of emotions in our lives and why they are important?\n",
       "Context: This is basically your body doing its job, which is that your emotions evolved to help you to ward off \n",
       "danger, to judge, to criticize, to understand, to pick apart. So when you have these difficult thoughts, emotions, \n",
       "and stories, that's often your body, your psychology doing its job, which is basically trying to help you to be a \n",
       "coherent being in the world. And I'll give you an example of what I mean by this. When I wake up in the morning and\n",
       "I hear my baby cry, my story, which is that is my child that is crying that needs me, is what helps me to tune in \n",
       "that sound relative to the washing machine that's going on in the background. So as human beings, what we do is we \n",
       "take in all these stimuli, we take in all this stuff that's going on in the environment, and we make sense of it. \n",
       "And making sense of these stories, even if they make sense in a way that doesn't serve us, is sense-making. So we \n",
       "all do this. What starts to happen is that we could have grown up with a story that might be I'm unlovable.\n",
       "\n",
       "\n",
       "</pre>\n"
      ],
      "text/plain": [
       "Question: How does Susan David explain the role of emotions in our lives and why they are important?\n",
       "Context: This is basically your body doing its job, which is that your emotions evolved to help you to ward off \n",
       "danger, to judge, to criticize, to understand, to pick apart. So when you have these difficult thoughts, emotions, \n",
       "and stories, that's often your body, your psychology doing its job, which is basically trying to help you to be a \n",
       "coherent being in the world. And I'll give you an example of what I mean by this. When I wake up in the morning and\n",
       "I hear my baby cry, my story, which is that is my child that is crying that needs me, is what helps me to tune in \n",
       "that sound relative to the washing machine that's going on in the background. So as human beings, what we do is we \n",
       "take in all these stimuli, we take in all this stuff that's going on in the environment, and we make sense of it. \n",
       "And making sense of these stories, even if they make sense in a way that doesn't serve us, is sense-making. So we \n",
       "all do this. What starts to happen is that we could have grown up with a story that might be I'm unlovable.\n",
       "\n",
       "\n"
      ]
     },
     "metadata": {},
     "output_type": "display_data"
    },
    {
     "data": {
      "text/html": [
       "<pre style=\"white-space:pre;overflow-x:auto;line-height:normal;font-family:Menlo,'DejaVu Sans Mono',consolas,'Courier New',monospace\">Question: What example does Susan David provide to illustrate how our internal narratives help us make sense of the\n",
       "world around us?\n",
       "Context: This is basically your body doing its job, which is that your emotions evolved to help you to ward off \n",
       "danger, to judge, to criticize, to understand, to pick apart. So when you have these difficult thoughts, emotions, \n",
       "and stories, that's often your body, your psychology doing its job, which is basically trying to help you to be a \n",
       "coherent being in the world. And I'll give you an example of what I mean by this. When I wake up in the morning and\n",
       "I hear my baby cry, my story, which is that is my child that is crying that needs me, is what helps me to tune in \n",
       "that sound relative to the washing machine that's going on in the background. So as human beings, what we do is we \n",
       "take in all these stimuli, we take in all this stuff that's going on in the environment, and we make sense of it. \n",
       "And making sense of these stories, even if they make sense in a way that doesn't serve us, is sense-making. So we \n",
       "all do this. What starts to happen is that we could have grown up with a story that might be I'm unlovable.\n",
       "\n",
       "\n",
       "</pre>\n"
      ],
      "text/plain": [
       "Question: What example does Susan David provide to illustrate how our internal narratives help us make sense of the\n",
       "world around us?\n",
       "Context: This is basically your body doing its job, which is that your emotions evolved to help you to ward off \n",
       "danger, to judge, to criticize, to understand, to pick apart. So when you have these difficult thoughts, emotions, \n",
       "and stories, that's often your body, your psychology doing its job, which is basically trying to help you to be a \n",
       "coherent being in the world. And I'll give you an example of what I mean by this. When I wake up in the morning and\n",
       "I hear my baby cry, my story, which is that is my child that is crying that needs me, is what helps me to tune in \n",
       "that sound relative to the washing machine that's going on in the background. So as human beings, what we do is we \n",
       "take in all these stimuli, we take in all this stuff that's going on in the environment, and we make sense of it. \n",
       "And making sense of these stories, even if they make sense in a way that doesn't serve us, is sense-making. So we \n",
       "all do this. What starts to happen is that we could have grown up with a story that might be I'm unlovable.\n",
       "\n",
       "\n"
      ]
     },
     "metadata": {},
     "output_type": "display_data"
    },
    {
     "data": {
      "text/html": [
       "<pre style=\"white-space:pre;overflow-x:auto;line-height:normal;font-family:Menlo,'DejaVu Sans Mono',consolas,'Courier New',monospace\">Question: How does Taylor Wilson believe that discovering one's passion is different for everyone?\n",
       "Context: But unlike me, he instilled this point I don't think has discovered what he really wants to use that \n",
       "aptitude for. I was lucky. I found what I wanted to do when I was <span style=\"color: #008080; text-decoration-color: #008080; font-weight: bold\">10</span> years old. I don't think most people who are \n",
       "<span style=\"color: #008080; text-decoration-color: #008080; font-weight: bold\">25</span> or even <span style=\"color: #008080; text-decoration-color: #008080; font-weight: bold\">30</span> or <span style=\"color: #008080; text-decoration-color: #008080; font-weight: bold\">35</span> have discovered that yet. But I was just, and I think every day, like I am so lucky to have the\n",
       "parents I had to have the resources I had and to discover that and have that spark when I was <span style=\"color: #008080; text-decoration-color: #008080; font-weight: bold\">10</span> years old. It's \n",
       "just about, you know, finding something that you really enjoy whether you're <span style=\"color: #008080; text-decoration-color: #008080; font-weight: bold\">10</span> or, you know, <span style=\"color: #008080; text-decoration-color: #008080; font-weight: bold\">40</span>, right? It happens\n",
       "at different points for everyone. And what do you, do people ask you about, like, how do I find my passion or how \n",
       "do I develop a passion at all? Yeah, I mean, it's hard to say for me. People ask me, you know, how did I become, \n",
       "you know, interested in nuclear science? And it's hard to pinpoint, you know, one specific thing where it's like, I\n",
       "read that or I talked to that person and I knew.\n",
       "\n",
       "\n",
       "</pre>\n"
      ],
      "text/plain": [
       "Question: How does Taylor Wilson believe that discovering one's passion is different for everyone?\n",
       "Context: But unlike me, he instilled this point I don't think has discovered what he really wants to use that \n",
       "aptitude for. I was lucky. I found what I wanted to do when I was \u001b[1;36m10\u001b[0m years old. I don't think most people who are \n",
       "\u001b[1;36m25\u001b[0m or even \u001b[1;36m30\u001b[0m or \u001b[1;36m35\u001b[0m have discovered that yet. But I was just, and I think every day, like I am so lucky to have the\n",
       "parents I had to have the resources I had and to discover that and have that spark when I was \u001b[1;36m10\u001b[0m years old. It's \n",
       "just about, you know, finding something that you really enjoy whether you're \u001b[1;36m10\u001b[0m or, you know, \u001b[1;36m40\u001b[0m, right? It happens\n",
       "at different points for everyone. And what do you, do people ask you about, like, how do I find my passion or how \n",
       "do I develop a passion at all? Yeah, I mean, it's hard to say for me. People ask me, you know, how did I become, \n",
       "you know, interested in nuclear science? And it's hard to pinpoint, you know, one specific thing where it's like, I\n",
       "read that or I talked to that person and I knew.\n",
       "\n",
       "\n"
      ]
     },
     "metadata": {},
     "output_type": "display_data"
    },
    {
     "data": {
      "text/html": [
       "<pre style=\"white-space:pre;overflow-x:auto;line-height:normal;font-family:Menlo,'DejaVu Sans Mono',consolas,'Courier New',monospace\">Question: What does Taylor Wilson find challenging when people ask him about how he became interested in nuclear \n",
       "science?\n",
       "Context: But unlike me, he instilled this point I don't think has discovered what he really wants to use that \n",
       "aptitude for. I was lucky. I found what I wanted to do when I was <span style=\"color: #008080; text-decoration-color: #008080; font-weight: bold\">10</span> years old. I don't think most people who are \n",
       "<span style=\"color: #008080; text-decoration-color: #008080; font-weight: bold\">25</span> or even <span style=\"color: #008080; text-decoration-color: #008080; font-weight: bold\">30</span> or <span style=\"color: #008080; text-decoration-color: #008080; font-weight: bold\">35</span> have discovered that yet. But I was just, and I think every day, like I am so lucky to have the\n",
       "parents I had to have the resources I had and to discover that and have that spark when I was <span style=\"color: #008080; text-decoration-color: #008080; font-weight: bold\">10</span> years old. It's \n",
       "just about, you know, finding something that you really enjoy whether you're <span style=\"color: #008080; text-decoration-color: #008080; font-weight: bold\">10</span> or, you know, <span style=\"color: #008080; text-decoration-color: #008080; font-weight: bold\">40</span>, right? It happens\n",
       "at different points for everyone. And what do you, do people ask you about, like, how do I find my passion or how \n",
       "do I develop a passion at all? Yeah, I mean, it's hard to say for me. People ask me, you know, how did I become, \n",
       "you know, interested in nuclear science? And it's hard to pinpoint, you know, one specific thing where it's like, I\n",
       "read that or I talked to that person and I knew.\n",
       "\n",
       "\n",
       "</pre>\n"
      ],
      "text/plain": [
       "Question: What does Taylor Wilson find challenging when people ask him about how he became interested in nuclear \n",
       "science?\n",
       "Context: But unlike me, he instilled this point I don't think has discovered what he really wants to use that \n",
       "aptitude for. I was lucky. I found what I wanted to do when I was \u001b[1;36m10\u001b[0m years old. I don't think most people who are \n",
       "\u001b[1;36m25\u001b[0m or even \u001b[1;36m30\u001b[0m or \u001b[1;36m35\u001b[0m have discovered that yet. But I was just, and I think every day, like I am so lucky to have the\n",
       "parents I had to have the resources I had and to discover that and have that spark when I was \u001b[1;36m10\u001b[0m years old. It's \n",
       "just about, you know, finding something that you really enjoy whether you're \u001b[1;36m10\u001b[0m or, you know, \u001b[1;36m40\u001b[0m, right? It happens\n",
       "at different points for everyone. And what do you, do people ask you about, like, how do I find my passion or how \n",
       "do I develop a passion at all? Yeah, I mean, it's hard to say for me. People ask me, you know, how did I become, \n",
       "you know, interested in nuclear science? And it's hard to pinpoint, you know, one specific thing where it's like, I\n",
       "read that or I talked to that person and I knew.\n",
       "\n",
       "\n"
      ]
     },
     "metadata": {},
     "output_type": "display_data"
    },
    {
     "data": {
      "text/html": [
       "<pre style=\"white-space:pre;overflow-x:auto;line-height:normal;font-family:Menlo,'DejaVu Sans Mono',consolas,'Courier New',monospace\">Question: How does Evan Puschak choose the topics for his Nerdwriter videos?\n",
       "Context: You've done such a good job of taking a subject, like Rihanna's work, work, work, work, work song, like \n",
       "you've got a whole fucking show about that song. Tom Bilyeu I love that video. I love making that video. Tom Bilyeu\n",
       "How is this happening? He made a show, he spent a week on this song and it's really interesting. Tom Bilyeu \n",
       "Hardcore week. Tom Bilyeu How did you train yourself to go deep like that? I think when you write a lot, it makes \n",
       "it a little bit easier to compose a story. That part of my brain and mind is still primed for taking information \n",
       "and composing it into something that is persuasive and like a story. Every week or whenever I come up with \n",
       "something for the nerd writer, it's usually a combination of some kind of introspective thought process that I want\n",
       "to talk about and something from the world that I've consumed that I think is interesting and I like to talk about \n",
       "it and it's like, oh there's a good interaction between those two, let's see what I can do there.\n",
       "\n",
       "\n",
       "</pre>\n"
      ],
      "text/plain": [
       "Question: How does Evan Puschak choose the topics for his Nerdwriter videos?\n",
       "Context: You've done such a good job of taking a subject, like Rihanna's work, work, work, work, work song, like \n",
       "you've got a whole fucking show about that song. Tom Bilyeu I love that video. I love making that video. Tom Bilyeu\n",
       "How is this happening? He made a show, he spent a week on this song and it's really interesting. Tom Bilyeu \n",
       "Hardcore week. Tom Bilyeu How did you train yourself to go deep like that? I think when you write a lot, it makes \n",
       "it a little bit easier to compose a story. That part of my brain and mind is still primed for taking information \n",
       "and composing it into something that is persuasive and like a story. Every week or whenever I come up with \n",
       "something for the nerd writer, it's usually a combination of some kind of introspective thought process that I want\n",
       "to talk about and something from the world that I've consumed that I think is interesting and I like to talk about \n",
       "it and it's like, oh there's a good interaction between those two, let's see what I can do there.\n",
       "\n",
       "\n"
      ]
     },
     "metadata": {},
     "output_type": "display_data"
    },
    {
     "data": {
      "text/html": [
       "<pre style=\"white-space:pre;overflow-x:auto;line-height:normal;font-family:Menlo,'DejaVu Sans Mono',consolas,'Courier New',monospace\">Question: Why does Evan Puschak believe that writing a lot makes it easier to compose a persuasive story?\n",
       "Context: You've done such a good job of taking a subject, like Rihanna's work, work, work, work, work song, like \n",
       "you've got a whole fucking show about that song. Tom Bilyeu I love that video. I love making that video. Tom Bilyeu\n",
       "How is this happening? He made a show, he spent a week on this song and it's really interesting. Tom Bilyeu \n",
       "Hardcore week. Tom Bilyeu How did you train yourself to go deep like that? I think when you write a lot, it makes \n",
       "it a little bit easier to compose a story. That part of my brain and mind is still primed for taking information \n",
       "and composing it into something that is persuasive and like a story. Every week or whenever I come up with \n",
       "something for the nerd writer, it's usually a combination of some kind of introspective thought process that I want\n",
       "to talk about and something from the world that I've consumed that I think is interesting and I like to talk about \n",
       "it and it's like, oh there's a good interaction between those two, let's see what I can do there.\n",
       "\n",
       "\n",
       "</pre>\n"
      ],
      "text/plain": [
       "Question: Why does Evan Puschak believe that writing a lot makes it easier to compose a persuasive story?\n",
       "Context: You've done such a good job of taking a subject, like Rihanna's work, work, work, work, work song, like \n",
       "you've got a whole fucking show about that song. Tom Bilyeu I love that video. I love making that video. Tom Bilyeu\n",
       "How is this happening? He made a show, he spent a week on this song and it's really interesting. Tom Bilyeu \n",
       "Hardcore week. Tom Bilyeu How did you train yourself to go deep like that? I think when you write a lot, it makes \n",
       "it a little bit easier to compose a story. That part of my brain and mind is still primed for taking information \n",
       "and composing it into something that is persuasive and like a story. Every week or whenever I come up with \n",
       "something for the nerd writer, it's usually a combination of some kind of introspective thought process that I want\n",
       "to talk about and something from the world that I've consumed that I think is interesting and I like to talk about \n",
       "it and it's like, oh there's a good interaction between those two, let's see what I can do there.\n",
       "\n",
       "\n"
      ]
     },
     "metadata": {},
     "output_type": "display_data"
    },
    {
     "data": {
      "text/html": [
       "<pre style=\"white-space:pre;overflow-x:auto;line-height:normal;font-family:Menlo,'DejaVu Sans Mono',consolas,'Courier New',monospace\">Question: How did the mice in the study gain weight and body fat despite eating the same amount of calories?\n",
       "Context: Those researchers at the Wiseman Institute who understand about what's, you know, the bacteria and mice, \n",
       "they took bacteria samples, fecal samples, which fecal transplantation is like one of the hottest things on the \n",
       "street as well. It's super weird, but it is. But they take they took these fecal samples from folks who had a \n",
       "bacteria cascade associated with obesity and implanted it into lean mice. And they took another set of fecal \n",
       "samples from human subjects who had a bacteria cascade associated with leanness and implanted that into lean mice. \n",
       "Those mice stayed lean. The mice who received the implants from the folks with the bacteria cascade associated with\n",
       "obesity, those mice became insulin resistant. They gained weight and gained body fat, not because of calories, not \n",
       "because they changed what they were eating because of the bacteria. These principles supersede any of the ideas \n",
       "that we carry about just managing calories. If you just get into a caloric deficit because the mice are already \n",
       "eating the same thing, yet they're gaining weight.\n",
       "\n",
       "\n",
       "</pre>\n"
      ],
      "text/plain": [
       "Question: How did the mice in the study gain weight and body fat despite eating the same amount of calories?\n",
       "Context: Those researchers at the Wiseman Institute who understand about what's, you know, the bacteria and mice, \n",
       "they took bacteria samples, fecal samples, which fecal transplantation is like one of the hottest things on the \n",
       "street as well. It's super weird, but it is. But they take they took these fecal samples from folks who had a \n",
       "bacteria cascade associated with obesity and implanted it into lean mice. And they took another set of fecal \n",
       "samples from human subjects who had a bacteria cascade associated with leanness and implanted that into lean mice. \n",
       "Those mice stayed lean. The mice who received the implants from the folks with the bacteria cascade associated with\n",
       "obesity, those mice became insulin resistant. They gained weight and gained body fat, not because of calories, not \n",
       "because they changed what they were eating because of the bacteria. These principles supersede any of the ideas \n",
       "that we carry about just managing calories. If you just get into a caloric deficit because the mice are already \n",
       "eating the same thing, yet they're gaining weight.\n",
       "\n",
       "\n"
      ]
     },
     "metadata": {},
     "output_type": "display_data"
    },
    {
     "data": {
      "text/html": [
       "<pre style=\"white-space:pre;overflow-x:auto;line-height:normal;font-family:Menlo,'DejaVu Sans Mono',consolas,'Courier New',monospace\">Question: What did the researchers find when they implanted fecal samples from individuals with a bacteria cascade \n",
       "associated with obesity into lean mice?\n",
       "Context: Those researchers at the Wiseman Institute who understand about what's, you know, the bacteria and mice, \n",
       "they took bacteria samples, fecal samples, which fecal transplantation is like one of the hottest things on the \n",
       "street as well. It's super weird, but it is. But they take they took these fecal samples from folks who had a \n",
       "bacteria cascade associated with obesity and implanted it into lean mice. And they took another set of fecal \n",
       "samples from human subjects who had a bacteria cascade associated with leanness and implanted that into lean mice. \n",
       "Those mice stayed lean. The mice who received the implants from the folks with the bacteria cascade associated with\n",
       "obesity, those mice became insulin resistant. They gained weight and gained body fat, not because of calories, not \n",
       "because they changed what they were eating because of the bacteria. These principles supersede any of the ideas \n",
       "that we carry about just managing calories. If you just get into a caloric deficit because the mice are already \n",
       "eating the same thing, yet they're gaining weight.\n",
       "\n",
       "\n",
       "</pre>\n"
      ],
      "text/plain": [
       "Question: What did the researchers find when they implanted fecal samples from individuals with a bacteria cascade \n",
       "associated with obesity into lean mice?\n",
       "Context: Those researchers at the Wiseman Institute who understand about what's, you know, the bacteria and mice, \n",
       "they took bacteria samples, fecal samples, which fecal transplantation is like one of the hottest things on the \n",
       "street as well. It's super weird, but it is. But they take they took these fecal samples from folks who had a \n",
       "bacteria cascade associated with obesity and implanted it into lean mice. And they took another set of fecal \n",
       "samples from human subjects who had a bacteria cascade associated with leanness and implanted that into lean mice. \n",
       "Those mice stayed lean. The mice who received the implants from the folks with the bacteria cascade associated with\n",
       "obesity, those mice became insulin resistant. They gained weight and gained body fat, not because of calories, not \n",
       "because they changed what they were eating because of the bacteria. These principles supersede any of the ideas \n",
       "that we carry about just managing calories. If you just get into a caloric deficit because the mice are already \n",
       "eating the same thing, yet they're gaining weight.\n",
       "\n",
       "\n"
      ]
     },
     "metadata": {},
     "output_type": "display_data"
    },
    {
     "data": {
      "text/html": [
       "<pre style=\"white-space:pre;overflow-x:auto;line-height:normal;font-family:Menlo,'DejaVu Sans Mono',consolas,'Courier New',monospace\">Question: How does Bjorn Lomborg emphasize the importance of prioritizing solutions based on cost-effectiveness and\n",
       "impact?\n",
       "Context: We should have good jobs for everyone. And we should have organic apples for everyone and community \n",
       "gardens and the whole thing. And you're sort of like, really? Yes, of course. I would love this world where we had \n",
       "everything to everyone. But clearly if you're promising everything to everyone, you have no priorities. You're \n",
       "literally not giving any direction. You're just saying all good things in apple pie. But why is that bad? So that \n",
       "sounds amazing. And I think part of people's hangup is what's the problem? Like that sounds awesome. Yes, let's do \n",
       "it. And Bjorn, there are so many people in the world. There's so much wealth. Like, come on, come on. Can't Elon \n",
       "Musk solve these problems by himself? So I can put it to you in a way I love, which is just numbers. So if you try \n",
       "to cost how much this is going to cost, it'll probably cost an additional <span style=\"color: #008080; text-decoration-color: #008080; font-weight: bold\">10</span> to $<span style=\"color: #008080; text-decoration-color: #008080; font-weight: bold\">15</span> trillion. To give you a sense \n",
       "of proportion right now, the global tax intake of all governments in the world is $<span style=\"color: #008080; text-decoration-color: #008080; font-weight: bold\">15</span> trillion.\n",
       "\n",
       "\n",
       "</pre>\n"
      ],
      "text/plain": [
       "Question: How does Bjorn Lomborg emphasize the importance of prioritizing solutions based on cost-effectiveness and\n",
       "impact?\n",
       "Context: We should have good jobs for everyone. And we should have organic apples for everyone and community \n",
       "gardens and the whole thing. And you're sort of like, really? Yes, of course. I would love this world where we had \n",
       "everything to everyone. But clearly if you're promising everything to everyone, you have no priorities. You're \n",
       "literally not giving any direction. You're just saying all good things in apple pie. But why is that bad? So that \n",
       "sounds amazing. And I think part of people's hangup is what's the problem? Like that sounds awesome. Yes, let's do \n",
       "it. And Bjorn, there are so many people in the world. There's so much wealth. Like, come on, come on. Can't Elon \n",
       "Musk solve these problems by himself? So I can put it to you in a way I love, which is just numbers. So if you try \n",
       "to cost how much this is going to cost, it'll probably cost an additional \u001b[1;36m10\u001b[0m to $\u001b[1;36m15\u001b[0m trillion. To give you a sense \n",
       "of proportion right now, the global tax intake of all governments in the world is $\u001b[1;36m15\u001b[0m trillion.\n",
       "\n",
       "\n"
      ]
     },
     "metadata": {},
     "output_type": "display_data"
    },
    {
     "data": {
      "text/html": [
       "<pre style=\"white-space:pre;overflow-x:auto;line-height:normal;font-family:Menlo,'DejaVu Sans Mono',consolas,'Courier New',monospace\">Question: What is the estimated additional cost of providing everything to everyone, according to Bjorn Lomborg?\n",
       "Context: We should have good jobs for everyone. And we should have organic apples for everyone and community \n",
       "gardens and the whole thing. And you're sort of like, really? Yes, of course. I would love this world where we had \n",
       "everything to everyone. But clearly if you're promising everything to everyone, you have no priorities. You're \n",
       "literally not giving any direction. You're just saying all good things in apple pie. But why is that bad? So that \n",
       "sounds amazing. And I think part of people's hangup is what's the problem? Like that sounds awesome. Yes, let's do \n",
       "it. And Bjorn, there are so many people in the world. There's so much wealth. Like, come on, come on. Can't Elon \n",
       "Musk solve these problems by himself? So I can put it to you in a way I love, which is just numbers. So if you try \n",
       "to cost how much this is going to cost, it'll probably cost an additional <span style=\"color: #008080; text-decoration-color: #008080; font-weight: bold\">10</span> to $<span style=\"color: #008080; text-decoration-color: #008080; font-weight: bold\">15</span> trillion. To give you a sense \n",
       "of proportion right now, the global tax intake of all governments in the world is $<span style=\"color: #008080; text-decoration-color: #008080; font-weight: bold\">15</span> trillion.\n",
       "\n",
       "\n",
       "</pre>\n"
      ],
      "text/plain": [
       "Question: What is the estimated additional cost of providing everything to everyone, according to Bjorn Lomborg?\n",
       "Context: We should have good jobs for everyone. And we should have organic apples for everyone and community \n",
       "gardens and the whole thing. And you're sort of like, really? Yes, of course. I would love this world where we had \n",
       "everything to everyone. But clearly if you're promising everything to everyone, you have no priorities. You're \n",
       "literally not giving any direction. You're just saying all good things in apple pie. But why is that bad? So that \n",
       "sounds amazing. And I think part of people's hangup is what's the problem? Like that sounds awesome. Yes, let's do \n",
       "it. And Bjorn, there are so many people in the world. There's so much wealth. Like, come on, come on. Can't Elon \n",
       "Musk solve these problems by himself? So I can put it to you in a way I love, which is just numbers. So if you try \n",
       "to cost how much this is going to cost, it'll probably cost an additional \u001b[1;36m10\u001b[0m to $\u001b[1;36m15\u001b[0m trillion. To give you a sense \n",
       "of proportion right now, the global tax intake of all governments in the world is $\u001b[1;36m15\u001b[0m trillion.\n",
       "\n",
       "\n"
      ]
     },
     "metadata": {},
     "output_type": "display_data"
    }
   ],
   "source": [
    "pairs = show_qa_pairs(training_set, print_results=True)"
   ]
  },
  {
   "cell_type": "markdown",
   "id": "62170665-3b89-49ef-a266-ab24a86ab43c",
   "metadata": {},
   "source": [
    "### Save to Disk  \n",
    "Save to disk using your own filepaths, below is an example using the length of the sets as part of the filepath."
   ]
  },
  {
   "cell_type": "code",
   "execution_count": 28,
   "id": "192d9bb8-8535-4d1e-9229-f93cffb368e2",
   "metadata": {},
   "outputs": [],
   "source": [
    "# training_set.save_json('./data/training_data_10.json')\n",
    "# val_set.save_json('./data/validation_data_5.json')"
   ]
  }
 ],
 "metadata": {
  "kernelspec": {
   "display_name": "vsa",
   "language": "python",
   "name": "vsa"
  },
  "language_info": {
   "codemirror_mode": {
    "name": "ipython",
    "version": 3
   },
   "file_extension": ".py",
   "mimetype": "text/x-python",
   "name": "python",
   "nbconvert_exporter": "python",
   "pygments_lexer": "ipython3",
   "version": "3.10.13"
  }
 },
 "nbformat": 4,
 "nbformat_minor": 5
}
