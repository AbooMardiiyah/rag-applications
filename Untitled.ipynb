{
 "cells": [
  {
   "cell_type": "code",
   "execution_count": 1,
   "id": "a7f1ebc4-4a4c-40ce-97a2-fd94cbb3f219",
   "metadata": {},
   "outputs": [],
   "source": [
    "import os\n",
    "from dotenv import load_dotenv\n",
    "load_dotenv('.env', override=True)\n",
    "import pandas as pd"
   ]
  },
  {
   "cell_type": "code",
   "execution_count": 13,
   "id": "ae03ee38-019b-42fd-adc5-c22621a3e9a6",
   "metadata": {},
   "outputs": [],
   "source": [
    "from llama_index.indices.postprocessor.cohere_rerank import CohereRerank\n",
    "from opensearch_interface import OpenSearchClient"
   ]
  },
  {
   "cell_type": "code",
   "execution_count": 5,
   "id": "b5cff877-59f3-4369-a7d1-ca6dcec86bd5",
   "metadata": {},
   "outputs": [],
   "source": [
    "cohere_api_key = os.environ['COHERE_API_KEY']"
   ]
  },
  {
   "cell_type": "code",
   "execution_count": 14,
   "id": "223d542c-6aeb-49b8-a0a5-7c40cd9fca59",
   "metadata": {},
   "outputs": [],
   "source": [
    "cohere_reranker = CohereRerank(api_key=cohere_api_key, top_n=10)\n",
    "osclient = OpenSearchClient(model_name_or_path=os.environ['ST_MODEL_PATH'])"
   ]
  },
  {
   "cell_type": "code",
   "execution_count": 27,
   "id": "0a0f6a1a-41d1-44cb-b521-cbdd0c50ec66",
   "metadata": {},
   "outputs": [],
   "source": [
    "import cohere\n",
    "co = cohere.Client(cohere_api_key)\n",
    "\n",
    "docs = ['Carson City is the capital city of the American state of Nevada.',\n",
    "'The Commonwealth of the Northern Mariana Islands is a group of islands in the Pacific Ocean. Its capital is Saipan.',\n",
    "'Washington, D.C. (also known as simply Washington or D.C., and officially as the District of Columbia) is the capital of the United States. It is a federal district.',\n",
    "'Capital punishment (the death penalty) has existed in the United States since beforethe United States was a country. As of 2017, capital punishment is legal in 30 of the 50 states.']"
   ]
  },
  {
   "cell_type": "code",
   "execution_count": 57,
   "id": "67402528-3920-4f85-b710-6c810075ba30",
   "metadata": {},
   "outputs": [],
   "source": [
    "docs = osclient.keyword_search('how to be the ultimate parent', 'kw-impact-theory', return_raw=False)"
   ]
  },
  {
   "cell_type": "code",
   "execution_count": 58,
   "id": "70bb8955-4f0a-41b3-af26-bdacc2ce829d",
   "metadata": {},
   "outputs": [],
   "source": [
    "for d in docs:\n",
    "    for k,v in d['_source'].items():\n",
    "        d[k] = v\n",
    "    del d['_source']\n",
    "    d.update(text=d['content'])\n",
    "    del d['content']"
   ]
  },
  {
   "cell_type": "code",
   "execution_count": 59,
   "id": "9de6e34b-17a9-470a-8b7e-a3727a7193bb",
   "metadata": {},
   "outputs": [],
   "source": [
    "response = co.rerank(\n",
    "  model = 'rerank-english-v2.0',\n",
    "  query = 'How to be the ultimate parent',\n",
    "  documents = docs,\n",
    "  top_n = 3,\n",
    ")"
   ]
  },
  {
   "cell_type": "code",
   "execution_count": 61,
   "id": "20bbc55f-89a4-4b9f-823f-e8217f47f4c9",
   "metadata": {},
   "outputs": [
    {
     "data": {
      "text/plain": [
       "[RerankResult<document['text']: So when you brought her up the first time, you were talking about she was in a sense that her father wasn't fulfilled as a truck driver, and that the whole idea that somebody would find their fulfillment through work to her seemed crazy. And when you were talking about it, I was like, okay, why would she get mad about that? Well, not crazy, but that everybody should do that work because I was saying that everyone should have that opportunity. To me, the ultimate anti-elitist belief that even her father who drove a truck could have been an artist, could have created something. Through driving or in some other capacity? In some other capacity. Interesting. What about the idea of doing the driving so well that it becomes artistry? I said that if that was what fulfilled him, I have no problem with that. And if what fulfills you is being a great parent, then that is a form of mastery., index: 3, relevance_score: 0.26246357>,\n",
       " RerankResult<document['text']: Don't rush. Why are you having a kid? I would seriously question because why are we having kids, really? We're only having children mostly to fulfill our egoic need to feel complete, to live a fulfilled life for ourselves. When you become conscious, the most conscious parent is a non-parent. You're a conscious parent. Tom Bilyeu Or at least recognizing enough that that would be a true pre-parent. Dr. Shefali You haven't messed any kid up yet. You know how all the parents in this room, we've already messed our kids up. That's okay too., index: 0, relevance_score: 0.17092276>,\n",
       " RerankResult<document['text']: That's what they do. Gorillas carry their kids everywhere they go, spontaneously, number one. Number two, the child wants to emulate you. They want to be like you. That's a natural attachment drive. So if you show up as a loving, nurturing, parental figure, the kid will naturally want to emulate you and copy you. Number three, the child will want to be good for you without any coercion whatsoever. And again, I'm telling you, hunter-gatherer groups have been studied extensively, extensively for how they parent. And there's even books are being written now about trying to learn the lessons that they teach about how to parent. Why?, index: 4, relevance_score: 0.08787644>]"
      ]
     },
     "execution_count": 61,
     "metadata": {},
     "output_type": "execute_result"
    }
   ],
   "source": [
    "response.results"
   ]
  },
  {
   "cell_type": "code",
   "execution_count": 3,
   "id": "54c98590-2caf-40f8-9996-5b1c94fb9b40",
   "metadata": {},
   "outputs": [],
   "source": [
    "df = pd.read_csv('./practice_data/wand_products.csv', delimiter='\\t')"
   ]
  },
  {
   "cell_type": "code",
   "execution_count": 4,
   "id": "847a78a8-4c1d-4f66-ac2d-31d1ebc1a759",
   "metadata": {},
   "outputs": [
    {
     "name": "stdout",
     "output_type": "stream",
     "text": [
      "<class 'pandas.core.frame.DataFrame'>\n",
      "RangeIndex: 42994 entries, 0 to 42993\n",
      "Data columns (total 9 columns):\n",
      " #   Column               Non-Null Count  Dtype  \n",
      "---  ------               --------------  -----  \n",
      " 0   product_id           42994 non-null  int64  \n",
      " 1   product_name         42994 non-null  object \n",
      " 2   product_class        40142 non-null  object \n",
      " 3   category hierarchy   41438 non-null  object \n",
      " 4   product_description  36986 non-null  object \n",
      " 5   product_features     42994 non-null  object \n",
      " 6   rating_count         33542 non-null  float64\n",
      " 7   average_rating       33542 non-null  float64\n",
      " 8   review_count         33542 non-null  float64\n",
      "dtypes: float64(3), int64(1), object(5)\n",
      "memory usage: 3.0+ MB\n"
     ]
    }
   ],
   "source": [
    "df.info()"
   ]
  },
  {
   "cell_type": "code",
   "execution_count": 6,
   "id": "09b0bd36-b9b4-4fc9-b6bf-2170307f4db0",
   "metadata": {},
   "outputs": [
    {
     "data": {
      "text/plain": [
       "product_class\n",
       "Area Rugs                                1316\n",
       "Accent Chairs                            1169\n",
       "Beds                                     1112\n",
       "Coffee & Cocktail Tables                 1085\n",
       "Floor & Wall Tile                         861\n",
       "                                         ... \n",
       "Ironing Boards, Covers & Pads               1\n",
       "Wall Sconces|Commercial Wall Lighting       1\n",
       "Licensed Products|Wall Décor                1\n",
       "Air Purifiers                               1\n",
       "Towel Warmers                               1\n",
       "Name: count, Length: 860, dtype: int64"
      ]
     },
     "execution_count": 6,
     "metadata": {},
     "output_type": "execute_result"
    }
   ],
   "source": [
    "df['product_class'].value_counts()"
   ]
  },
  {
   "cell_type": "code",
   "execution_count": 9,
   "id": "b66b90eb-a0ed-4cac-9da8-eb3443ee191a",
   "metadata": {},
   "outputs": [],
   "source": [
    "df.drop('product_id', axis=1, inplace=True)"
   ]
  },
  {
   "cell_type": "code",
   "execution_count": 27,
   "id": "a5aa6c59-8c13-4af0-9cf5-9cdf71e12716",
   "metadata": {},
   "outputs": [
    {
     "data": {
      "text/plain": [
       "product_class\n",
       "NONE                  17061\n",
       "nan                    2852\n",
       "Area Rugs              1316\n",
       "Accent Chairs          1169\n",
       "Beds                   1112\n",
       "Bar Stools              775\n",
       "Accent Pillows          698\n",
       "End Tables              607\n",
       "Desks                   595\n",
       "Dining Tables           591\n",
       "Wall Art                586\n",
       "Dining Chairs           568\n",
       "Bedding Sets            559\n",
       "Vanities                534\n",
       "Wall Décor              484\n",
       "Recliners               435\n",
       "Office Chairs           393\n",
       "Chandeliers             390\n",
       "Kitchen Mats            352\n",
       "Sectionals              352\n",
       "Decorative Objects      344\n",
       "Sofas                   318\n",
       "Patio Sofas             311\n",
       "Table Lamps             309\n",
       "Doormats                280\n",
       "Furniture Cushions      276\n",
       "Wall Clocks             268\n",
       "Nightstands             266\n",
       "Garden Statues          251\n",
       "Kitchen Islands         250\n",
       "Planters                238\n",
       "Faux Florals            217\n",
       "Ottomans                215\n",
       "Bathroom Storage        214\n",
       "Fountains               209\n",
       "Bookcases               208\n",
       "Vanity Lighting         199\n",
       "Shoe Storage            192\n",
       "Kids Chairs             191\n",
       "Kids Beds               183\n",
       "Light Bulbs             181\n",
       "Wall Plates             180\n",
       "Bath Accessories        179\n",
       "Headboards              167\n",
       "Kitchen Sinks           140\n",
       "Slow Cookers            135\n",
       "Projector Screens       124\n",
       "Wall Sconces            120\n",
       "Shower Curtains         118\n",
       "Furniture Covers        114\n",
       "Name: count, dtype: int64"
      ]
     },
     "execution_count": 27,
     "metadata": {},
     "output_type": "execute_result"
    },
    {
     "name": "stderr",
     "output_type": "stream",
     "text": [
      "Bad pipe message: %s [b\"\\xbf[\\xf1\\x90SI\\x9d\\x97\\xd4\\x12\\xbb\\xda\\xa9`J\\xbb\\xee\\xde \\xfb\\xb8\\xd2\\xb9\\xe2\\xa0#Y\\x12G\\xdf\\xf0\\x00t\\xc91\\x13Q\\xc6\\x12\\xa8\\x7f\\x12`\\xe4\\xb9\\x93\\xd8r\\xd9'P\\x00\\x08\\x13\\x02\\x13\\x03\\x13\\x01\\x00\\xff\\x01\\x00\\x00\\x8f\\x00\\x00\\x00\\x0e\\x00\\x0c\\x00\\x00\\t127.0.0.1\\x00\\x0b\\x00\\x04\\x03\\x00\\x01\\x02\\x00\\n\\x00\\x0c\\x00\\n\\x00\\x1d\\x00\\x17\\x00\\x1e\\x00\\x19\\x00\\x18\\x00#\\x00\\x00\\x00\\x16\\x00\\x00\\x00\\x17\\x00\\x00\\x00\\r\\x00\\x1e\\x00\\x1c\\x04\\x03\\x05\\x03\\x06\\x03\\x08\\x07\\x08\\x08\\x08\\t\\x08\\n\\x08\\x0b\\x08\\x04\\x08\\x05\\x08\\x06\\x04\\x01\\x05\\x01\\x06\\x01\\x00+\\x00\\x03\\x02\\x03\\x04\\x00-\\x00\\x02\\x01\\x01\\x003\\x00&\\x00$\\x00\\x1d\\x00 \\x87\\x99e\\xe9\\x99\"]\n",
      "Bad pipe message: %s [b'\\x87\\xe0\\x96\\xfb\\x90C\\x8f\\x95\\x1d\\xb5\\x03NC\\x9d\\xb0\\xf9sP\\x00\\x00|\\xc0,\\xc00\\x00\\xa3\\x00\\x9f\\xcc\\xa9\\xcc', b\"\\xaa\\xc0\\xaf\\xc0\\xad\\xc0\\xa3\\xc0\\x9f\\xc0]\\xc0a\\xc0W\\xc0S\\xc0+\\xc0/\\x00\\xa2\\x00\\x9e\\xc0\\xae\\xc0\\xac\\xc0\\xa2\\xc0\\x9e\\xc0\\\\\\xc0`\\xc0V\\xc0R\\xc0$\\xc0(\\x00k\\x00j\\xc0#\\xc0'\\x00g\\x00@\\xc0\\n\\xc0\\x14\\x009\\x008\\xc0\\t\\xc0\\x13\\x003\\x002\\x00\\x9d\\xc0\\xa1\\xc0\\x9d\\xc0Q\\x00\\x9c\\xc0\\xa0\\xc0\\x9c\\xc0P\\x00=\\x00<\\x005\\x00/\\x00\\x9a\\x00\\x99\\xc0\\x07\\xc0\\x11\\x00\\x96\\x00\\x05\\x00\\xff\\x01\\x00\\x00j\\x00\\x00\\x00\\x0e\\x00\\x0c\\x00\\x00\\t127.0.0.1\\x00\\x0b\\x00\\x04\\x03\\x00\\x01\\x02\\x00\\n\\x00\\x0c\\x00\\n\\x00\\x1d\\x00\\x17\\x00\\x1e\\x00\\x19\\x00\\x18\\x00#\\x00\\x00\\x00\\x16\\x00\\x00\\x00\\x17\"]\n",
      "Bad pipe message: %s [b'<)\\xea\\xdf\\x000\\xf7\\xb5\\xd7\\x16S', b'\\xd7S\\xb4\\xb29\\x00\\x00\\xa6\\xc0,\\xc00\\x00\\xa3\\x00\\x9f\\xcc\\xa9\\xcc\\xa8\\xcc\\xaa\\xc0\\xaf\\xc0\\xad\\xc0\\xa3\\xc0\\x9f\\xc0]\\xc0a\\xc0W\\xc0S\\xc0+\\xc0/\\x00\\xa2\\x00\\x9e\\xc0\\xae\\xc0\\xac\\xc0\\xa2\\xc0\\x9e\\xc0\\\\\\xc0`\\xc0']\n",
      "Bad pipe message: %s [b\"R\\xc0$\\xc0(\\x00k\\x00j\\xc0s\\xc0w\\x00\\xc4\\x00\\xc3\\xc0#\\xc0'\\x00g\\x00@\\xc0r\\xc0v\\x00\\xbe\\x00\\xbd\\xc0\\n\\xc0\\x14\\x009\\x008\\x00\\x88\\x00\\x87\\xc0\\t\\xc0\\x13\\x003\\x002\\x00\\x9a\\x00\\x99\\x00E\\x00D\\xc0\\x07\\xc0\\x11\\xc0\\x08\\xc0\\x12\\x00\\x16\\x00\\x13\\x00\\x9d\\xc0\\xa1\\xc0\\x9d\\xc0Q\\x00\\x9c\\xc0\\xa0\"]\n",
      "Bad pipe message: %s [b'\\xb1\\xb8\\x03\\x12\\x16\\xce\\xb0\\xb7\\x00\\x7f\\x153\\xc9\\x19\\n\\x1f\\x87k\\x00\\x00>\\xc0\\x14\\xc0\\n\\x009\\x008\\x007\\x006\\xc0\\x0f\\xc0\\x05\\x005\\xc0\\x13\\xc0\\t\\x003\\x002\\x001\\x000\\xc0\\x0e\\xc0\\x04\\x00/\\x00\\x9a\\x00\\x99\\x00\\x98\\x00\\x97\\x00\\x96\\x00\\x07\\xc0\\x11\\xc0\\x07\\xc0\\x0c\\xc0\\x02\\x00\\x05\\x00\\x04\\x00\\xff\\x02\\x01\\x00\\x00C\\x00\\x00\\x00\\x0e\\x00\\x0c\\x00\\x00\\t127.0.0.1\\x00\\x0b']\n",
      "Bad pipe message: %s [b'\\xbd\\x02rC(P\\xe5*H\\xf0\\xdc\\x85f\\xc9x\\xb1\\x1e\\x8a\\x00\\x00\\xa2\\xc0\\x14\\xc0\\n\\x009\\x008\\x007\\x006\\x00\\x88\\x00\\x87\\x00\\x86\\x00\\x85\\xc0\\x19\\x00:\\x00\\x89\\xc0\\x0f\\xc0\\x05\\x005\\x00\\x84\\xc0\\x13\\xc0\\t\\x003\\x002\\x001\\x000\\x00\\x9a\\x00\\x99\\x00\\x98\\x00\\x97\\x00E\\x00D\\x00C\\x00B\\xc0\\x18\\x004\\x00\\x9b\\x00F\\xc0\\x0e\\xc0\\x04\\x00/\\x00\\x96\\x00A\\x00\\x07\\xc0\\x11\\xc0\\x07\\xc0\\x16\\x00\\x18\\xc0\\x0c\\xc0\\x02\\x00\\x05\\x00\\x04\\xc0\\x12\\xc0\\x08\\x00\\x16\\x00\\x13\\x00\\x10\\x00\\r\\xc0\\x17\\x00\\x1b\\xc0\\r\\xc0\\x03\\x00\\n\\x00\\x15\\x00\\x12\\x00\\x0f\\x00\\x0c\\x00\\x1a\\x00\\t\\x00\\x14\\x00\\x11\\x00\\x19\\x00\\x08\\x00\\x06\\x00\\x17\\x00\\x03\\xc0\\x10\\xc0\\x06\\xc0\\x15\\xc0\\x0b\\xc0\\x01\\x00\\x02\\x00\\x01\\x00\\xff\\x02\\x01\\x00\\x00C\\x00\\x00\\x00\\x0e\\x00']\n",
      "Bad pipe message: %s [b'\\x00\\t127.0.0.1']\n",
      "Bad pipe message: %s [b'\\xe5\\xad\\xcb_\\xc5#\\x84\\xd7\\x9c\\t\\x14\\xfe?=\\x87r\\x91\\x94\\x00\\x00>\\xc0\\x14\\xc0\\n\\x009\\x008\\x007\\x006\\xc0\\x0f\\xc0\\x05\\x005\\xc0\\x13\\xc0\\t\\x003\\x002\\x001\\x000\\xc0\\x0e\\xc0\\x04\\x00/\\x00\\x9a\\x00\\x99\\x00\\x98\\x00\\x97\\x00\\x96\\x00\\x07\\xc0\\x11\\xc0\\x07\\xc0\\x0c\\xc0\\x02\\x00\\x05\\x00\\x04\\x00\\xff\\x02\\x01\\x00\\x00C\\x00\\x00\\x00\\x0e\\x00\\x0c\\x00\\x00\\t127.0.0.1\\x00\\x0b\\x00\\x04\\x03\\x00\\x01\\x02\\x00\\n\\x00\\x1c\\x00\\x1a\\x00\\x17\\x00\\x19\\x00\\x1c\\x00\\x1b\\x00\\x18\\x00\\x1a\\x00\\x16\\x00\\x0e\\x00\\r\\x00\\x0b\\x00\\x0c\\x00\\t\\x00\\n\\x00#\\x00\\x00\\x00\\x0f\\x00\\x01\\x01\\x15\\x03\\x01\\x00']\n",
      "Bad pipe message: %s [b'F']\n",
      "Bad pipe message: %s [b\"\\x01\\xbe1\\xdc}9\\x83:\\x18\\xfc\\x9bX\\xd1\\xa3\\xca\\x00\\xce\\x17\\x00\\x00\\x86\\xc00\\xc0,\\xc0(\\xc0$\\xc0\\x14\\xc0\\n\\x00\\xa5\\x00\\xa3\\x00\\xa1\\x00\\x9f\\x00k\\x00j\\x00i\\x00h\\x009\\x008\\x007\\x006\\xc02\\xc0.\\xc0*\\xc0&\\xc0\\x0f\\xc0\\x05\\x00\\x9d\\x00=\\x005\\xc0/\\xc0+\\xc0'\\xc0#\\xc0\\x13\\xc0\\t\\x00\\xa4\\x00\\xa2\\x00\\xa0\\x00\\x9e\\x00g\\x00@\\x00?\\x00>\\x003\\x002\\x001\\x000\\xc01\\xc0-\\xc0)\\xc0%\\xc0\\x0e\\xc0\\x04\\x00\\x9c\\x00<\\x00/\\x00\\x9a\\x00\\x99\\x00\\x98\\x00\\x97\\x00\\x96\\x00\\x07\\xc0\\x11\\xc0\\x07\\xc0\\x0c\\xc0\\x02\\x00\\x05\\x00\\x04\\x00\\xff\\x02\\x01\\x00\\x00\"]\n",
      "Bad pipe message: %s [b'\\x00\\x00\\x0e\\x00\\x0c\\x00\\x00\\t127.0.0.1\\x00\\x0b\\x00\\x04\\x03\\x00\\x01\\x02\\x00\\n\\x00\\x1c\\x00\\x1a\\x00\\x17\\x00\\x19\\x00\\x1c\\x00\\x1b\\x00\\x18\\x00\\x1a\\x00\\x16\\x00\\x0e\\x00\\r\\x00\\x0b\\x00\\x0c\\x00\\t\\x00\\n\\x00#\\x00\\x00\\x00\\r\\x00 \\x00\\x1e\\x06\\x01\\x06\\x02\\x06\\x03\\x05\\x01\\x05\\x02\\x05\\x03\\x04\\x01\\x04\\x02\\x04\\x03\\x03\\x01\\x03\\x02\\x03\\x03\\x02\\x01\\x02\\x02\\x02\\x03\\x00\\x0f\\x00\\x01\\x01']\n",
      "Bad pipe message: %s [b\"\\x90\\xc8H\\x9b\\x1fZ\\xc0Io\\xcd\\x1a\\xdb\\x97\\x86\\xf6VB\\xbb\\x00\\x00\\xf4\\xc00\\xc0,\\xc0(\\xc0$\\xc0\\x14\\xc0\\n\\x00\\xa5\\x00\\xa3\\x00\\xa1\\x00\\x9f\\x00k\\x00j\\x00i\\x00h\\x009\\x008\\x007\\x006\\x00\\x88\\x00\\x87\\x00\\x86\\x00\\x85\\xc0\\x19\\x00\\xa7\\x00m\\x00:\\x00\\x89\\xc02\\xc0.\\xc0*\\xc0&\\xc0\\x0f\\xc0\\x05\\x00\\x9d\\x00=\\x005\\x00\\x84\\xc0/\\xc0+\\xc0'\\xc0#\\xc0\\x13\\xc0\\t\\x00\\xa4\\x00\\xa2\\x00\\xa0\\x00\\x9e\\x00g\\x00@\\x00?\\x00>\\x003\\x002\\x001\\x000\\x00\\x9a\\x00\\x99\\x00\\x98\\x00\\x97\\x00E\\x00D\\x00C\\x00B\\xc0\\x18\\x00\\xa6\\x00l\\x004\\x00\\x9b\\x00F\\xc01\\xc0-\\xc0)\\xc0%\\xc0\\x0e\\xc0\\x04\\x00\\x9c\\x00<\\x00/\\x00\\x96\\x00A\\x00\\x07\\xc0\\x11\\xc0\\x07\\xc0\\x16\\x00\\x18\\xc0\\x0c\\xc0\\x02\"]\n"
     ]
    }
   ],
   "source": [
    "df.product_class.apply(ufunc).value_counts().head(50)"
   ]
  },
  {
   "cell_type": "code",
   "execution_count": 25,
   "id": "04a8db38-f78f-4295-9670-d325e1f0d93f",
   "metadata": {},
   "outputs": [],
   "source": [
    "def ufunc(category: str):\n",
    "    cat = str(category)\n",
    "    if '|' in cat:\n",
    "        return \"NONE\"\n",
    "    length = len(cat.split())\n",
    "    if length <= 2:\n",
    "        return cat\n",
    "    else: return \"NONE\""
   ]
  },
  {
   "cell_type": "code",
   "execution_count": 21,
   "id": "54ec6fe5-f22b-4069-b5fc-60edad4cfb7d",
   "metadata": {},
   "outputs": [
    {
     "data": {
      "text/plain": [
       "0                                       Beds\n",
       "1                               Slow Cookers\n",
       "2                               Slow Cookers\n",
       "3               Slicers, Peelers And Graters\n",
       "4                                 Door Knobs\n",
       "                        ...                 \n",
       "42989                          Shower Panels\n",
       "42990                      Dining Table Sets\n",
       "42991                      Dining Table Sets\n",
       "42992    Teen Lounge Furniture|Accent Chairs\n",
       "42993                             Bar Stools\n",
       "Name: product_class, Length: 42994, dtype: object"
      ]
     },
     "execution_count": 21,
     "metadata": {},
     "output_type": "execute_result"
    }
   ],
   "source": [
    "df.product_class"
   ]
  },
  {
   "cell_type": "code",
   "execution_count": null,
   "id": "1ad61162-588c-4450-b30e-83f117bfdc80",
   "metadata": {},
   "outputs": [],
   "source": []
  }
 ],
 "metadata": {
  "kernelspec": {
   "display_name": "llama",
   "language": "python",
   "name": "llama"
  },
  "language_info": {
   "codemirror_mode": {
    "name": "ipython",
    "version": 3
   },
   "file_extension": ".py",
   "mimetype": "text/x-python",
   "name": "python",
   "nbconvert_exporter": "python",
   "pygments_lexer": "ipython3",
   "version": "3.10.13"
  }
 },
 "nbformat": 4,
 "nbformat_minor": 5
}
