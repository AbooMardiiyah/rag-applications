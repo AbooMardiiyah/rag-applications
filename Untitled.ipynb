{
 "cells": [
  {
   "cell_type": "code",
   "execution_count": 1,
   "id": "a7f1ebc4-4a4c-40ce-97a2-fd94cbb3f219",
   "metadata": {},
   "outputs": [
    {
     "data": {
      "text/plain": [
       "True"
      ]
     },
     "execution_count": 1,
     "metadata": {},
     "output_type": "execute_result"
    }
   ],
   "source": [
    "import os\n",
    "from dotenv import load_dotenv\n",
    "load_dotenv('.env', override=True)"
   ]
  },
  {
   "cell_type": "code",
   "execution_count": 13,
   "id": "ae03ee38-019b-42fd-adc5-c22621a3e9a6",
   "metadata": {},
   "outputs": [],
   "source": [
    "from llama_index.indices.postprocessor.cohere_rerank import CohereRerank\n",
    "from opensearch_interface import OpenSearchClient"
   ]
  },
  {
   "cell_type": "code",
   "execution_count": 5,
   "id": "b5cff877-59f3-4369-a7d1-ca6dcec86bd5",
   "metadata": {},
   "outputs": [],
   "source": [
    "cohere_api_key = os.environ['COHERE_API_KEY']"
   ]
  },
  {
   "cell_type": "code",
   "execution_count": 14,
   "id": "223d542c-6aeb-49b8-a0a5-7c40cd9fca59",
   "metadata": {},
   "outputs": [],
   "source": [
    "cohere_reranker = CohereRerank(api_key=cohere_api_key, top_n=10)\n",
    "osclient = OpenSearchClient(model_name_or_path=os.environ['ST_MODEL_PATH'])"
   ]
  },
  {
   "cell_type": "code",
   "execution_count": 27,
   "id": "0a0f6a1a-41d1-44cb-b521-cbdd0c50ec66",
   "metadata": {},
   "outputs": [],
   "source": [
    "import cohere\n",
    "co = cohere.Client(cohere_api_key)\n",
    "\n",
    "docs = ['Carson City is the capital city of the American state of Nevada.',\n",
    "'The Commonwealth of the Northern Mariana Islands is a group of islands in the Pacific Ocean. Its capital is Saipan.',\n",
    "'Washington, D.C. (also known as simply Washington or D.C., and officially as the District of Columbia) is the capital of the United States. It is a federal district.',\n",
    "'Capital punishment (the death penalty) has existed in the United States since beforethe United States was a country. As of 2017, capital punishment is legal in 30 of the 50 states.']"
   ]
  },
  {
   "cell_type": "code",
   "execution_count": 57,
   "id": "67402528-3920-4f85-b710-6c810075ba30",
   "metadata": {},
   "outputs": [],
   "source": [
    "docs = osclient.keyword_search('how to be the ultimate parent', 'kw-impact-theory', return_raw=False)"
   ]
  },
  {
   "cell_type": "code",
   "execution_count": 58,
   "id": "70bb8955-4f0a-41b3-af26-bdacc2ce829d",
   "metadata": {},
   "outputs": [],
   "source": [
    "for d in docs:\n",
    "    for k,v in d['_source'].items():\n",
    "        d[k] = v\n",
    "    del d['_source']\n",
    "    d.update(text=d['content'])\n",
    "    del d['content']"
   ]
  },
  {
   "cell_type": "code",
   "execution_count": 59,
   "id": "9de6e34b-17a9-470a-8b7e-a3727a7193bb",
   "metadata": {},
   "outputs": [],
   "source": [
    "response = co.rerank(\n",
    "  model = 'rerank-english-v2.0',\n",
    "  query = 'How to be the ultimate parent',\n",
    "  documents = docs,\n",
    "  top_n = 3,\n",
    ")"
   ]
  },
  {
   "cell_type": "code",
   "execution_count": 61,
   "id": "20bbc55f-89a4-4b9f-823f-e8217f47f4c9",
   "metadata": {},
   "outputs": [
    {
     "data": {
      "text/plain": [
       "[RerankResult<document['text']: So when you brought her up the first time, you were talking about she was in a sense that her father wasn't fulfilled as a truck driver, and that the whole idea that somebody would find their fulfillment through work to her seemed crazy. And when you were talking about it, I was like, okay, why would she get mad about that? Well, not crazy, but that everybody should do that work because I was saying that everyone should have that opportunity. To me, the ultimate anti-elitist belief that even her father who drove a truck could have been an artist, could have created something. Through driving or in some other capacity? In some other capacity. Interesting. What about the idea of doing the driving so well that it becomes artistry? I said that if that was what fulfilled him, I have no problem with that. And if what fulfills you is being a great parent, then that is a form of mastery., index: 3, relevance_score: 0.26246357>,\n",
       " RerankResult<document['text']: Don't rush. Why are you having a kid? I would seriously question because why are we having kids, really? We're only having children mostly to fulfill our egoic need to feel complete, to live a fulfilled life for ourselves. When you become conscious, the most conscious parent is a non-parent. You're a conscious parent. Tom Bilyeu Or at least recognizing enough that that would be a true pre-parent. Dr. Shefali You haven't messed any kid up yet. You know how all the parents in this room, we've already messed our kids up. That's okay too., index: 0, relevance_score: 0.17092276>,\n",
       " RerankResult<document['text']: That's what they do. Gorillas carry their kids everywhere they go, spontaneously, number one. Number two, the child wants to emulate you. They want to be like you. That's a natural attachment drive. So if you show up as a loving, nurturing, parental figure, the kid will naturally want to emulate you and copy you. Number three, the child will want to be good for you without any coercion whatsoever. And again, I'm telling you, hunter-gatherer groups have been studied extensively, extensively for how they parent. And there's even books are being written now about trying to learn the lessons that they teach about how to parent. Why?, index: 4, relevance_score: 0.08787644>]"
      ]
     },
     "execution_count": 61,
     "metadata": {},
     "output_type": "execute_result"
    }
   ],
   "source": [
    "response.results"
   ]
  },
  {
   "cell_type": "code",
   "execution_count": 54,
   "id": "54c98590-2caf-40f8-9996-5b1c94fb9b40",
   "metadata": {},
   "outputs": [
    {
     "data": {
      "text/plain": [
       "'e578ab5b-16ab-4f2a-b579-627f8d5624b9'"
      ]
     },
     "execution_count": 54,
     "metadata": {},
     "output_type": "execute_result"
    }
   ],
   "source": [
    "response.id"
   ]
  },
  {
   "cell_type": "code",
   "execution_count": null,
   "id": "847a78a8-4c1d-4f66-ac2d-31d1ebc1a759",
   "metadata": {},
   "outputs": [],
   "source": []
  }
 ],
 "metadata": {
  "kernelspec": {
   "display_name": "llama",
   "language": "python",
   "name": "llama"
  },
  "language_info": {
   "codemirror_mode": {
    "name": "ipython",
    "version": 3
   },
   "file_extension": ".py",
   "mimetype": "text/x-python",
   "name": "python",
   "nbconvert_exporter": "python",
   "pygments_lexer": "ipython3",
   "version": "3.10.13"
  }
 },
 "nbformat": 4,
 "nbformat_minor": 5
}
