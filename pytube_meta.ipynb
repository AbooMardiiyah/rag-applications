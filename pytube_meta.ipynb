{
 "cells": [
  {
   "cell_type": "code",
   "execution_count": 41,
   "id": "89bc8a48-ce4c-4c16-a6f8-3b4c3251e11d",
   "metadata": {},
   "outputs": [],
   "source": [
    "from pytube import YouTube, Playlist, extract\n",
    "from bs4 import BeautifulSoup\n",
    "import pandas as pd\n",
    "import requests\n",
    "import json\n",
    "from preprocessing import Utilities\n",
    "from tqdm.notebook import tqdm"
   ]
  },
  {
   "cell_type": "code",
   "execution_count": 5,
   "id": "10d851d5-f6f5-4413-8b18-20ce7fe49e9b",
   "metadata": {},
   "outputs": [],
   "source": [
    "def create_video_url(video_id: str, playlist_id: str='PL8qcvQ7Byc3OJ02hbWJbHWePh4XEg3cvo'):\n",
    "    return f'https://www.youtube.com/watch?v={video_id}&list={playlist_id}'"
   ]
  },
  {
   "cell_type": "code",
   "execution_count": 3,
   "id": "a6f61806-d344-4457-af7e-b6e465da03f8",
   "metadata": {},
   "outputs": [],
   "source": [
    "playlist = Playlist(url=\"https://www.youtube.com/playlist?list=PLrFazGK5nFPwlVrpZkJMJa6wYDWgOg2xe\")"
   ]
  },
  {
   "cell_type": "code",
   "execution_count": 42,
   "id": "48819d27-78d1-46ad-8305-3b411c1faba7",
   "metadata": {},
   "outputs": [
    {
     "data": {
      "application/vnd.jupyter.widget-view+json": {
       "model_id": "97070cbdd59d4178bc38218f88befa79",
       "version_major": 2,
       "version_minor": 0
      },
      "text/plain": [
       "  0%|          | 0/125 [00:00<?, ?it/s]"
      ]
     },
     "metadata": {},
     "output_type": "display_data"
    }
   ],
   "source": [
    "metadata = [build_metadata_dict(YouTube(video_url)) for video_url in tqdm(playlist)]"
   ]
  },
  {
   "cell_type": "code",
   "execution_count": 53,
   "id": "cd80b510-4035-49c9-8f39-5cdc7e35e505",
   "metadata": {},
   "outputs": [
    {
     "name": "stdout",
     "output_type": "stream",
     "text": [
      "The Order of Healing w/ Juanique Roney: Ep. 1 Just Ingredients Podcast hosted by Karalynne Call\n",
      "Dentistry's Role in Healing with Dr. Michelle Jorgensen | Ep. 2 Just Ingredients | Karalynne Call\n",
      "Healing Your Hormones w/ Dr. Carrie Jones | Ep. 3 Just Ingredients Podcast hosted by Karalynne Call\n",
      "Fighting Cancer, Thriving in Life w/ Natalie Postl | Ep. 4 Just Ingredients Podcast, Karalynne Call\n",
      "A Dietitian's View on our Relationship With Food | Ep. 5 Just Ingredients Podcast w/ Karalynne Call\n",
      "Hashimotos: How to Best Treat It w/ Dr. Josh Redd | Ep. 6 Just Ingredients Podcast, Karalynne Call\n",
      "Anxiety & How to Best Help It w/ Dr. Tyler Jean | Ep. 7 Just Ingredients Podcast, Karalynne Call\n",
      "Finding Peace & Purpose During Cancer and Trials | Ep. 8 Just Ingredients Podcast, Karalynne Call\n",
      "A Pediatrician's Advice w/ Dr. Ana-Maria Temple | Ep. 9 Just Ingredients Podcast, Karalynne Call\n",
      "Food is Medicine w/ CEO Of Jojo's Chocolates | Ep. 10 Just Ingredients Podcast, Karalynne Call\n",
      "Balancing Your Hormones w/ Sarah Grace Meckelberg  | Ep. 11 Just Ingredients Podcast, Karalynne Call\n",
      "Magnesium's Health Benefits w/ Dr. Barb Woegerer | Ep. 12 Just Ingredients Podcast, Karalynne Call\n",
      "Health Benefits of Real Salt w/ Dr. DiNicolantonio | Ep. 13 Just Ingredients Podcast, Karalynne Call\n",
      "Insulin Resistance, Stress, Diabetes, PCOS & More  | Ep. 14 Just Ingredients Podcast, Karalynne Call\n",
      "Health Benefits of CBD Oil w/ Scott Schwab | Ep. 15 Just Ingredients Podcast, Karalynne Call\n",
      "Gut Health w/ Gut Expert, Dr. Will Bulsiewicz | Ep. 16 Just Ingredients Podcast, Karalynne Call\n",
      "Nutrition Advice from Pro Athlete, Jimmer Fredette | Ep. 17 Just Ingredients Podcast Karalynne Call\n",
      "Skincare w/ Budget Dermatologist, Dr. Maren Locke | Ep. 18 Just Ingredients Podcast, Karalynne Call\n",
      "The Immune System & Nutrition w/ Dr. Jen Pfleghaar | Ep. 19 Just Ingredients Podcast, Karalynne Call\n",
      "Empowering Parents to Help Their Kids Heal, Shannon Tripp | Ep. 20 Just Ingredients, Karalynne Call\n",
      "Detoxing & EMFs w/ Dr. Kathy Yeo | Ep. 21 Just Ingredients Podcast, Karalynne Call\n",
      "Ancient Remedies & How They Heal w/ Dr. Josh Axe | Ep. 22 Just Ingredients Podcast, Karalynne Call\n",
      "Children’s Development & Toxins w/ Dr. Natasha Beck | Ep. 23 Just Ingredients Podcast Karalynne Call\n",
      "Parasites, Mold & Health Issues, Dr. Jess Peatross | Ep. 24 Just Ingredients Podcast, Karalynne Call\n",
      "Nontoxic Living Tips for Young Families, Eden Lee | Ep. 25 Just Ingredients Podcast, Karalynne Call\n",
      "Healing Common Child Illnesses, Dr. Shelia Kilbane | Ep. 26 Just Ingredients Podcast, Karalynne Call\n",
      "Intermittent Fasting w/ Health Expert Dr. Amy Shah | Ep. 27 Just Ingredients Podcast Karalynne Call\n",
      "Living Your Best Life Thru Menopause/Peri-Menopause | Ep. 28 Just Ingredients Podcast Karalynne Call\n",
      "Managing Autoimmune & Gut Issues w/ Danielle Walker | Ep. 29 Just Ingredients Podcast Karalynne Call\n",
      "How Food Affects the Brain w/ Dr. Uma Naidoo | Ep. 30 Just Ingredients Podcast, Karalynne Call\n",
      "How Herbs Can Help You w/ Sara-Chana Silverstein | Ep. 31 Just Ingredients Podcast, Karalynne Call\n",
      "Bio Emotional Healing for Trauma, Illness & Pain w/ Ashleigh Di Lello | Ep. 32 Just Ingredients\n",
      "Hormones, PMS, & Gut Health w/ Dr. Tabatha Barber | Ep. 33 Just Ingredients Podcast, Karalynne Call\n",
      "Counting Your Macros w/ Lillie Biesinger | Ep. 34 Just Ingredients Podcast, Karalynne Call\n",
      "Body Image, Weight Loss & Our Brains w/ Jody Moore | Ep. 35 Just Ingredients Podcast, Karalynne Call\n",
      "Healthy Cooking w/ Pro Chefs Marco & Aubrey Niccoli | Ep. 36 Just Ingredients Podcast Karalynne Call\n",
      "How Dental Health Influences Pediatric Health | Ep. 37 Just Ingredients Podcast w/ Karalynne Call\n",
      "Building Good Habits & Breaking Bad Habits | Ep. 38 Just Ingredients Podcast, Karalynne Call\n",
      "Common Childhood Illnesses w/ Dr. Ana Maria Temple | Ep. 39 Just Ingredients Podcast, Karalynne Call\n",
      "What Diabetics Need to Know w/ Dr. Shawn Cazzell | Ep. 40 Just Ingredients Podcast, Karalynne Call\n",
      "The Just Ingredients Podcast Episode 41- Cooking With Whole Nutritious Foods\n",
      "Why You Should Filter Your Water w/ Israel Passwater | Ep 42 Just Ingredients Podcast Karalynne Call\n",
      "Inflammation + Why Most Have It Now w/ Dr. Josh Redd | Ep 43 Just Ingredients Podcast Karalynne Call\n",
      "How Emotional Health Supports Your Overall Health | Ep. 44 Just Ingredients Podcast, Karalynne Call\n",
      "When to Use OR Not Use Pharmaceuticals w/ Meg Kilcup | Ep 45 Just Ingredients Podcast Karalynne Call\n",
      "The Root Causes of Depression w/ Dr. Achina Stein | Ep. 46 Just Ingredients Podcast, Karalynne Call\n",
      "Women's Health + Mental Wellness w/ Dr. Mallorie Cracroft | Ep. 47 Just Ingredients, Karalynne Call\n",
      "Best Nutrients For a Developing Brain w/ Dr. Teresa Purzner | Ep. 48 Just Ingredients Karalynne Call\n",
      "Harmful Chemicals + Their Effects w/ Dr. Jenna Hua | Ep. 49 Just Ingredients Podcast, Karalynne Call\n",
      "Brain Health + Max Lugavere New York Times Best-Selling Author Ep 50 Just Ingredients Karalynne Call\n",
      "Strengthening Your Immune System, Dr. Bradley Campbell | Ep. 51 Just Ingredients, Karalynne Call\n",
      "Glucose w/ The Glucose Goddess aka Jessie Inchauspé | Ep. 52 Just Ingredients Podcast Karalynne Call\n",
      "Birth Control + First Trimester Care Tips | Ep. 53 Just Ingredients Podcast, Karalynne Call\n",
      "DNA Methylation + How It Affects Our Health | Ep. 54 Just Ingredients Podcast, Karalynne Call\n",
      "Children's Vaccines Without Bias, Dr. Ashley Mayer | Ep. 55 Just Ingredients Podcast Karalynne Call\n",
      "What is Homeopathy? w/ Guillaume, Founder of Olloïs | Ep. 56 Just Ingredients Podcast Karalynne Call\n",
      "How Glyphosate and Soil Affect Our Health w/ Dr. Zach Bush | Ep. 57 Just Ingredients, Karalynne Call\n",
      "What to Eat During Pregnancy w/ Lily Nichols | Ep. 59 Just Ingredients Podcast, Karalynne Call\n",
      "Soul Weather + Healing w/ Melissa Taylor | Ep. 59 Just Ingredients Podcast, Karalynne Call\n",
      "Balancing Your Hormones, PMS & More w/ Cody Sanders | Ep. 60 Just Ingredients Podcast Karalynne Call\n",
      "Hair Loss, Adrenals, Depression, + More | Ep. 61Just Ingredients Podcast, Karalynne Call\n",
      "Is Your Bloating Caused by Histamine Foods w/ Dr B. | Ep 62 Just Ingredients Podcast, Karalynne Call\n",
      "Coping + Communicating With Depression | Ep. 63 Just Ingredients Podcast, Karalynne Call\n",
      "SIBO Does What To Our Heart? w/ Dr. William Davis | Ep 64 Just Ingredients Podcast, Karalynne Call\n",
      "Surprising Truths About Food Regulation | Ep. 65 Just Ingredients Podcast, Karalynne Call\n",
      "Are These Foods Contributing to Your Headaches? | Ep. 66 Just Ingredients Podcast, Karalynne Call\n",
      "Why Your Pet's Gut Health Matters w/ Holistic Vet | Ep. 67 Just Ingredients Podcast, Karalynne Call\n",
      "How to Balance Your Hormones w/ Dr. Carrie Jones | Ep. 68 Just Ingredients Podcast, Karalynne Call\n",
      "Managing Your Child's ADHD, Depression + Allergies | Ep. 69 Just Ingredients Podcast, Karalynne Call\n",
      "Busting Myths About Colloidal Silver | Ep. 70 Just Ingredients Podcast, Karalynne Call\n",
      "How Building Muscle Speeds Up Our Metabolism | Ep.71 Just Ingredients Podcast, Karalynne Call\n",
      "FootZoning & Depression, Hormones, Detoxing & More | Ep. 72 Just Ingredients Podcast, Karalynne Call\n",
      "How Carbs Can Be Beneficial For Diabetics | Ep. 73 Just Ingredients Podcast, Karalynne Call\n",
      "Ancient Remedies For The Gut, Hormones, Immunity w/ Dr. Josh Axe | Ep 74 Just Ingredients Podcast\n",
      "What's In Your Child's School Lunch? | Ep. 75 Just Ingredients Podcast, Karalynne Call\n",
      "Supporting Your Mitochondria with Dr. Vivian Chen | Ep. 76 Just Ingredients Podcast, Karalynne Call\n",
      "Do You Have An Undiagnosed Autoimmune Disease? | Ep. 77 Just Ingredients Podcast, Karalynne Call\n",
      "Could Your Diet Be Damaging Your Teeth? | Ep. 78 Just Ingredients Podcast, Karalynne Call\n",
      "Is Your Metabolism Slow Or Is It Just Damaged? | Ep. 79 Just Ingredients Podcast, Karalynne Call\n",
      "How Chris Beat His Cancer w/ Chris Wark | Ep. 80 Just Ingredients Podcast, Karalynne Call\n",
      "5 Nutritional Myths Busted w/ @naturalnursemomma | Ep. 81 Just Ingredients Podcast, Karalynne Call\n",
      "Pursuing Your Dreams, From Juilliard Ballerina to Small Town Farmer | Ep 82 Just Ingredients Podcast\n",
      "What's Your Everest? Ways to Improve Your Mindset | Ep. 83 Just Ingredients Podcast, Karalynne Call\n",
      "Things That Can Improve ADHD Symptoms | Ep. 84 Just Ingredients Podcast, Karalynne Call\n",
      "How to Improve Weight, Sleep, Memory with Algae | Ep. 85 Just Ingredients Podcast, Karalynne Call\n",
      "Struggling with Hormone Imbalances? | Ep. 86 Just Ingredients Podcast, Karalynne Call\n",
      "Improve Physical & Mental Health w/ Breathwork | Ep. 87 Just Ingredients Podcast, Karalynne Call\n",
      "Do You Have a Weak Core After Years of Sit Ups? | Ep 88. Just Ingredients Podcast, Karalynne Call\n",
      "Is Grass Fed Meat Really Better? | Ep. 89 Just Ingredients Podcast, Karalynne Call\n",
      "Struggling with Menopause Symptoms? Tips to Help | Ep. 90 Just Ingredients Podcast, Karalynne Call\n",
      "Just Starting Your Health Journey? Where to Start | Ep. 91 Just Ingredients Podcast, Karalynne Call\n",
      "What You Don't Know About Birth Control & Hormones | Ep. 92 Just Ingredients Podcast, Karalynne Call\n",
      "Herbal Remedies for Cough, Congestion, Sore Throat | Ep. 93 Just Ingredients Podcast, Karalynne Call\n",
      "Why Intermittent Fasting Is Great For Some | Ep. 94 Just Ingredients Podcast, Karalynne Call\n",
      "Could THIS Be The Reason For Your Bloating? Ep. 95 Just Ingredients Podcast, Karalynne Call\n",
      "Are Your Damaged Cells Causing Your Health Issues? | Ep. 96 Just Ingredients Podcast, Karalynne Call\n",
      "Not All Colloidal Silver is Created Equal | Ep. 97 Just Ingredients Podcast, Karalynne Call\n",
      "Was Your Thyroid Condition Misdiagnosed? | Ep. 98 Just Ingredients Podcast, Karalynne Call\n",
      "What You May Not Know About Natural Birth | Ep. 99 Just Ingredients Podcast, Karalynne Call\n",
      "My Journey Healing From Depression | Ep. 100 Just Ingredients Podcast, Karalynne Call\n",
      "Are Your Adrenals the Cause of Your Weight Gain & Exhaustion? | Ep. 101 Just Ingredients Podcast\n",
      "Are Trauma, Emotions, or Ancestral Health Hurting Your Gut? | Ep.102 Just Ingredients Podcast\n",
      "How Functional Medicine Help to Save My Life | Ep. 104 Just Ingredients Podcast, Karalynne Call\n",
      "Is It Your Mindset That's Making You Sick? Ep 103 Just Ingredients Podcast, Karalynne Call\n",
      "Which Foods Help Each Stage of Your Cycle| Ep. 105 Just Ingredients Podcast, Karalynne Call\n",
      "7 Reasons to Choose a Natural Health Approach | Ep 106 Just Ingredients Podcast, Karalynne Call\n",
      "If Trapped Emotions Are Making Us Sick, How Do We Release Them? | Ep. 107 Just Ingredients Podcast\n",
      "Sunscreen vs Sunblock, Melasma Help, & Summer First Aid Tips | Ep. 109 Just Ingredients Podcast\n",
      "Could The Air in Your Home be The Cause of Your Health Issues? | Ep 110 Just Ingredients Podcast, Ka\n",
      "Tips You've Never Heard of For Bites, Burns, Stomachaches, & More | Ep. 111 Just Ingredients Podcast\n",
      "What is Applied Kinesiology & Who Can it Benefit? | Ep. 112 Just Ingredients Podcast, Karalynne Call\n",
      "116 - What is Your Mouth Telling You About Your Health? w/ Dr. Michelle Jorgensen\n",
      "117 - Is It Your Water That’s Making You Sick? w/Trent Spafford\n",
      "118 - Debunking Fitness Myths and Training Smarter, Not Harder w/ Dr. Shannon Ritchey\n",
      "119 - Conquering Your Sleep Struggles w/ Dr. Michael Breus\n",
      "120 - Tips For Clearing Acne Naturally w/ Maria Marlowe\n",
      "121 - Why a Breast Cancer Diagnosis Led to Better Makeup w/ Jaleh Bisharat\n",
      "122 - Unlocking the Secrets of Fat Loss w/ Dr. Ben Bikman\n",
      "123 - The Hidden Dangers of Mold in your Home w/ Brian Karr\n",
      "124 - Are you Treating Back Pain and other Physical Issues Correctly? w/ Dr. Drew Morcos\n",
      "125 - Tips for Choosing Better at Restaurants w/ Michelle Walrath\n",
      "126 - Can Infertility Have Hidden Causes? w/ Dr. Kalea Wattles\n",
      "127 - Managing Stress through Cold Plunge and Breathing w/ Danny Massa\n",
      "128 - Finding Root Causes through your Eyes w/ Jordan Gundersen\n",
      "129 - Building Quality Relationships for Better Health w/ Ben & Fatima Dedrickson\n"
     ]
    },
    {
     "name": "stderr",
     "output_type": "stream",
     "text": [
      "Bad pipe message: %s [b'\\xcf\\xbc\\x8e\\x9a\\xba\\xda\\xa4.\\x0e\\x1e%+\\xc2,\\xd5g]\\xcf \\xfb1\\x98\\xecJ\\xc6\\xe2\\r\\xb0a\\xf8`\\xdf\\x94q\\xbb\\xec\\xf5E\\x04E\\x07', b'\\x08\\xa2I3M\\xacA\\x85\\x00\\x08\\x13\\x02\\x13\\x03\\x13\\x01\\x00\\xff\\x01\\x00\\x00\\x8f\\x00\\x00\\x00\\x0e\\x00\\x0c\\x00\\x00\\t127.0.0.1\\x00\\x0b\\x00\\x04\\x03\\x00\\x01\\x02\\x00\\n\\x00\\x0c\\x00\\n\\x00\\x1d\\x00\\x17\\x00\\x1e\\x00\\x19\\x00\\x18\\x00#\\x00\\x00\\x00\\x16\\x00\\x00\\x00\\x17\\x00\\x00\\x00\\r\\x00\\x1e\\x00\\x1c\\x04\\x03\\x05\\x03\\x06\\x03\\x08\\x07\\x08\\x08\\x08\\t\\x08\\n\\x08\\x0b\\x08\\x04\\x08\\x05\\x08\\x06\\x04\\x01\\x05\\x01\\x06\\x01\\x00+\\x00\\x03\\x02\\x03\\x04\\x00-\\x00\\x02\\x01\\x01\\x003\\x00&\\x00$\\x00\\x1d\\x00 \\x8c<\\xa5c\\x16\\x97\\xe3\\x96=\\xd7r\\x9e\\x0b\\x87\\x16\\xec\\xa9\\xfcz\\xf8X\\xf4\\x1b:d\\xaff\\x84e']\n",
      "Bad pipe message: %s [b'\\xcd\\x16\\xf9\\xa6\\xd3vR\\x12\\xa7?\\xd6\\x87\\xb9Oe\\xde\\xca\\x84 d\\x13\\x1c\\xbe\\xea\\x00\\x18m\\x1b<\\xb3\\xf9Q\\x87nxj\\xe9\\xfd\\x94\\x80\\xbe\\x00}\\x16\\xa9\\xaf\\\\G3*\\xc4\\x00\\x08\\x13\\x02\\x13\\x03\\x13\\x01\\x00\\xff\\x01\\x00\\x00\\x8f\\x00\\x00\\x00\\x0e\\x00\\x0c\\x00\\x00\\t127.0.0.1']\n",
      "Bad pipe message: %s [b\"F\\x05\\xf88\\xee\\x15\\xe8\\xd9r\\x18\\x0b\\xfb'\\xe5\\x1c\\xf8\\x7f\\xf9\\x00\\x00|\\xc0,\\xc00\\x00\\xa3\\x00\\x9f\\xcc\\xa9\\xcc\\xa8\\xcc\\xaa\\xc0\\xaf\\xc0\\xad\\xc0\\xa3\\xc0\\x9f\\xc0]\\xc0a\\xc0W\\xc0S\\xc0+\\xc0/\\x00\\xa2\\x00\\x9e\\xc0\\xae\\xc0\\xac\\xc0\\xa2\\xc0\\x9e\\xc0\\\\\\xc0`\\xc0V\\xc0R\\xc0$\\xc0(\\x00k\\x00j\\xc0#\\xc0'\\x00g\\x00@\\xc0\\n\\xc0\\x14\\x009\\x008\\xc0\\t\\xc0\\x13\\x003\\x002\\x00\\x9d\\xc0\\xa1\\xc0\\x9d\\xc0Q\\x00\\x9c\\xc0\\xa0\\xc0\\x9c\\xc0P\\x00=\\x00<\\x005\\x00/\\x00\\x9a\\x00\\x99\\xc0\\x07\\xc0\\x11\\x00\\x96\\x00\\x05\\x00\\xff\\x01\\x00\\x00j\\x00\\x00\\x00\\x0e\\x00\\x0c\\x00\\x00\\t127.0.0.1\\x00\\x0b\\x00\\x04\\x03\\x00\\x01\\x02\\x00\\n\\x00\\x0c\\x00\\n\\x00\\x1d\\x00\\x17\\x00\\x1e\\x00\\x19\\x00\\x18\\x00#\\x00\\x00\\x00\\x16\\x00\\x00\\x00\\x17\\x00\\x00\\x00\\r\\x000\\x00.\\x04\\x03\\x05\\x03\\x06\\x03\\x08\\x07\\x08\\x08\"]\n",
      "Bad pipe message: %s [b'\\x08\\n\\x08\\x0b\\x08\\x04\\x08', b'\\x06\\x04\\x01\\x05']\n",
      "Bad pipe message: %s [b'']\n",
      "Bad pipe message: %s [b\"\\xc8?j\\xf0\\xee\\n\\xfc\\x8c\\xffk\\x1d\\xa9)\\xc2\\xf0#\\x87\\x07\\x00\\x00\\xa6\\xc0,\\xc00\\x00\\xa3\\x00\\x9f\\xcc\\xa9\\xcc\\xa8\\xcc\\xaa\\xc0\\xaf\\xc0\\xad\\xc0\\xa3\\xc0\\x9f\\xc0]\\xc0a\\xc0W\\xc0S\\xc0+\\xc0/\\x00\\xa2\\x00\\x9e\\xc0\\xae\\xc0\\xac\\xc0\\xa2\\xc0\\x9e\\xc0\\\\\\xc0`\\xc0V\\xc0R\\xc0$\\xc0(\\x00k\\x00j\\xc0s\\xc0w\\x00\\xc4\\x00\\xc3\\xc0#\\xc0'\\x00g\\x00@\\xc0r\\xc0v\\x00\\xbe\\x00\\xbd\\xc0\\n\\xc0\\x14\\x009\\x008\\x00\\x88\\x00\\x87\\xc0\\t\\xc0\\x13\\x003\\x002\\x00\\x9a\\x00\\x99\\x00E\\x00D\\xc0\\x07\\xc0\\x11\\xc0\\x08\\xc0\\x12\\x00\\x16\\x00\\x13\\x00\\x9d\\xc0\\xa1\\xc0\\x9d\\xc0Q\\x00\\x9c\\xc0\\xa0\\xc0\\x9c\\xc0P\\x00=\\x00\\xc0\\x00<\\x00\\xba\\x005\\x00\\x84\\x00/\\x00\\x96\\x00A\\x00\\x05\\x00\\n\\x00\\xff\\x01\\x00\\x00j\\x00\\x00\\x00\\x0e\\x00\\x0c\\x00\\x00\\t127.0.0.1\\x00\\x0b\\x00\\x04\\x03\\x00\\x01\\x02\\x00\\n\\x00\\x0c\\x00\\n\\x00\\x1d\\x00\\x17\\x00\\x1e\\x00\\x19\\x00\\x18\\x00#\\x00\\x00\\x00\\x16\\x00\\x00\\x00\\x17\\x00\\x00\\x00\\r\\x000\\x00.\\x04\"]\n",
      "Bad pipe message: %s [b'', b'\\x03\\x03']\n",
      "Bad pipe message: %s [b'\\x03\\x06', b'\\x07\\x08']\n",
      "Bad pipe message: %s [b'']\n",
      "Bad pipe message: %s [b'\\t\\x08\\n\\x08\\x0b\\x08\\x04']\n",
      "Bad pipe message: %s [b'', b'\\x02']\n",
      "Bad pipe message: %s [b'\\x08\\x06\\x04\\x01\\x05\\x01\\x06', b'', b'\\x03\\x03']\n",
      "Bad pipe message: %s [b'\\x05\\x02\\x06']\n",
      "Bad pipe message: %s [b'']\n",
      "Bad pipe message: %s [b\"V\\x9c\\xf7lf\\x81\\xaa\\xf0q'H\\xd0\\x13kZO\\xd6\\xd2\\x00\\x00\\xa2\\xc0\\x14\\xc0\\n\\x009\\x008\\x007\\x006\\x00\\x88\\x00\\x87\\x00\\x86\\x00\\x85\\xc0\\x19\\x00:\\x00\\x89\\xc0\\x0f\\xc0\\x05\\x005\\x00\\x84\\xc0\\x13\\xc0\\t\\x003\\x002\\x001\\x000\\x00\\x9a\\x00\\x99\\x00\\x98\\x00\\x97\\x00E\\x00D\\x00C\\x00B\\xc0\\x18\\x004\\x00\\x9b\\x00\"]\n",
      "Bad pipe message: %s [b'\\x0e\\xc0\\x04\\x00/\\x00\\x96\\x00A\\x00\\x07\\xc0\\x11\\xc0\\x07\\xc0\\x16\\x00\\x18\\xc0\\x0c\\xc0\\x02\\x00\\x05\\x00\\x04\\xc0\\x12\\xc0\\x08\\x00\\x16\\x00\\x13\\x00\\x10\\x00\\r\\xc0\\x17\\x00\\x1b\\xc0\\r\\xc0\\x03\\x00\\n\\x00\\x15\\x00\\x12\\x00\\x0f\\x00\\x0c\\x00\\x1a\\x00\\t\\x00\\x14\\x00\\x11\\x00\\x19\\x00\\x08']\n",
      "Bad pipe message: %s [b'', b'\\x02']\n",
      "Bad pipe message: %s [b'\\x05\\x02\\x06']\n",
      "Bad pipe message: %s [b'\\xe4\\xd6\\xf3b\\x19R\\x9eB\\xd0\\xf5\\xb8\\\\\\xe5Rd\\x8f8\\x08\\x00\\x00>\\xc0\\x14\\xc0\\n\\x009\\x008\\x007\\x006\\xc0\\x0f\\xc0\\x05\\x005\\xc0\\x13\\xc0\\t\\x003\\x002\\x001\\x000\\xc0\\x0e\\xc0\\x04\\x00/\\x00\\x9a\\x00\\x99\\x00\\x98\\x00\\x97\\x00\\x96\\x00\\x07\\xc0\\x11\\xc0\\x07\\xc0\\x0c\\xc0\\x02\\x00\\x05\\x00\\x04\\x00\\xff\\x02\\x01\\x00\\x00C\\x00\\x00\\x00\\x0e\\x00\\x0c\\x00\\x00\\t127.0.0.1\\x00\\x0b\\x00\\x04\\x03\\x00\\x01\\x02\\x00\\n\\x00\\x1c\\x00\\x1a\\x00\\x17\\x00\\x19\\x00\\x1c\\x00\\x1b\\x00\\x18\\x00\\x1a\\x00\\x16\\x00\\x0e\\x00\\r\\x00\\x0b\\x00\\x0c\\x00\\t\\x00\\n\\x00#\\x00\\x00\\x00\\x0f']\n",
      "Bad pipe message: %s [b'*\\x91\\x0cP\\x9d\\x87y:C\\xc7\\xbeu\\x04\\x90\\xfc\\x1a^Z\\x00\\x00\\xa2\\xc0\\x14\\xc0\\n\\x009\\x008\\x007\\x006\\x00\\x88\\x00\\x87\\x00\\x86\\x00\\x85\\xc0\\x19\\x00:\\x00\\x89\\xc0\\x0f\\xc0\\x05\\x005\\x00\\x84\\xc0\\x13\\xc0\\t\\x00']\n",
      "Bad pipe message: %s [b'2\\x001\\x000\\x00\\x9a\\x00\\x99\\x00\\x98\\x00\\x97\\x00E\\x00D\\x00C\\x00B\\xc0\\x18\\x004\\x00\\x9b\\x00F\\xc0\\x0e\\xc0\\x04\\x00/\\x00\\x96\\x00A\\x00\\x07\\xc0\\x11\\xc0\\x07\\xc0\\x16\\x00\\x18\\xc0']\n",
      "Bad pipe message: %s [b'\\x02\\x00\\x05\\x00\\x04\\xc0\\x12\\xc0\\x08\\x00\\x16']\n",
      "Bad pipe message: %s [b'\\xf1O\\x87i\\xca\\xb6\\x0e\\x96\\xad\\x01\\xa0\\xec\\xae\\xb9\\x83', b\"\\r\\x00\\x00\\x86\\xc00\\xc0,\\xc0(\\xc0$\\xc0\\x14\\xc0\\n\\x00\\xa5\\x00\\xa3\\x00\\xa1\\x00\\x9f\\x00k\\x00j\\x00i\\x00h\\x009\\x008\\x007\\x006\\xc02\\xc0.\\xc0*\\xc0&\\xc0\\x0f\\xc0\\x05\\x00\\x9d\\x00=\\x005\\xc0/\\xc0+\\xc0'\\xc0#\\xc0\\x13\\xc0\\t\\x00\\xa4\\x00\\xa2\\x00\\xa0\\x00\\x9e\\x00g\\x00@\\x00?\\x00>\\x003\\x002\\x001\\x000\\xc01\\xc0-\\xc0)\\xc0%\\xc0\\x0e\\xc0\\x04\\x00\\x9c\\x00<\\x00/\\x00\\x9a\\x00\\x99\\x00\\x98\\x00\\x97\\x00\\x96\\x00\\x07\\xc0\\x11\\xc0\\x07\\xc0\\x0c\\xc0\\x02\\x00\\x05\\x00\\x04\\x00\\xff\\x02\\x01\\x00\\x00g\\x00\\x00\\x00\\x0e\\x00\\x0c\\x00\\x00\\t127.0.0.1\\x00\\x0b\\x00\\x04\\x03\\x00\\x01\\x02\\x00\\n\\x00\\x1c\\x00\\x1a\\x00\\x17\\x00\\x19\\x00\\x1c\\x00\\x1b\\x00\\x18\\x00\\x1a\\x00\\x16\\x00\\x0e\\x00\\r\\x00\\x0b\\x00\\x0c\\x00\\t\\x00\\n\\x00#\\x00\\x00\\x00\\r\\x00 \\x00\\x1e\\x06\\x01\\x06\\x02\\x06\\x03\\x05\\x01\\x05\\x02\\x05\\x03\\x04\\x01\\x04\\x02\\x04\\x03\\x03\", b'', b'\\x03', b'\\x02', b'\\x03']\n"
     ]
    }
   ],
   "source": [
    "for m in metadata:\n",
    "    print(m['title'])"
   ]
  },
  {
   "cell_type": "code",
   "execution_count": 38,
   "id": "dfab01f0-2ac8-47a5-be41-d7550d68470a",
   "metadata": {},
   "outputs": [],
   "source": [
    "def build_metadata_dict(ytobject: YouTube):\n",
    "    meta = {}\n",
    "    meta['video_id'] = ytobject.video_id\n",
    "    meta['description'] = ytobject.description if ytobject.description else \"No description provided\" \n",
    "    meta['keywords'] = ytobject.keywords\n",
    "    meta['length'] = ytobject.length\n",
    "    meta['publish_date'] = ytobject.publish_date\n",
    "    meta['thumbnail_url'] = ytobject.thumbnail_url\n",
    "    meta['title'] = ytobject.title.strip()\n",
    "    meta['views'] = ytobject.views\n",
    "    return meta"
   ]
  },
  {
   "cell_type": "code",
   "execution_count": 10,
   "id": "01ef653b-d4ba-4396-9cfd-3f121a83b6ed",
   "metadata": {},
   "outputs": [],
   "source": [
    "def get_meta_download_audio(link: str, download_audio: bool=False, audio_dest: str='./'):\n",
    "    try:\n",
    "        video = YouTube(link)\n",
    "        meta = build_metadata_dict(video)\n",
    "        if download_audio:\n",
    "            audio = video.streams.filter(only_audio=True, file_extension='mp4').first()\n",
    "            audio.download(audio_dest, skip_existing=False)\n",
    "        return meta\n",
    "    except Exception as e:\n",
    "        print(e)"
   ]
  },
  {
   "cell_type": "code",
   "execution_count": 11,
   "id": "5a58a338-4f5f-4a0c-927e-70a31bf02426",
   "metadata": {},
   "outputs": [],
   "source": [
    "test = [get_meta_download_audio(link) for link in links]"
   ]
  },
  {
   "cell_type": "code",
   "execution_count": 12,
   "id": "bb30274a-37fa-4fbb-8303-09f830144c68",
   "metadata": {},
   "outputs": [
    {
     "data": {
      "text/plain": [
       "5"
      ]
     },
     "execution_count": 12,
     "metadata": {},
     "output_type": "execute_result"
    }
   ],
   "source": [
    "len(test)"
   ]
  },
  {
   "cell_type": "code",
   "execution_count": 13,
   "id": "3aca1b06-c28f-43ef-b00c-e6fbe259d93c",
   "metadata": {},
   "outputs": [
    {
     "data": {
      "text/plain": [
       "['https://i.ytimg.com/vi/Qd5-OBopiCQ/hq720.jpg',\n",
       " 'https://i.ytimg.com/vi/Kqnnvpfqxt0/hq720.jpg',\n",
       " 'https://i.ytimg.com/vi/R6M9djUFJ60/hq720.jpg',\n",
       " 'https://i.ytimg.com/vi/0H9CfT351U0/hq720.jpg',\n",
       " 'https://i.ytimg.com/vi/ShEK9YEZ45Y/hq720.jpg']"
      ]
     },
     "execution_count": 13,
     "metadata": {},
     "output_type": "execute_result"
    }
   ],
   "source": [
    "thumbnails = [d['thumbnail_url'] for d in test]\n",
    "thumbnails"
   ]
  },
  {
   "cell_type": "code",
   "execution_count": 14,
   "id": "e3b53805-ba5b-4d25-a8a4-d08af9212eba",
   "metadata": {},
   "outputs": [
    {
     "data": {
      "text/plain": [
       "[{'channel_id': 'UCXKjhxsfFQUqlNVQzLVnpEA',\n",
       "  'description': 'No description provided',\n",
       "  'keywords': [],\n",
       "  'length': 2812,\n",
       "  'metadata': <pytube.metadata.YouTubeMetadata at 0x7fd1f0578a60>,\n",
       "  'publish_date': datetime.datetime(2023, 8, 24, 0, 0),\n",
       "  'thumbnail_url': 'https://i.ytimg.com/vi/Qd5-OBopiCQ/hq720.jpg',\n",
       "  'title': 'Lessons From A Trump-Less Debate',\n",
       "  'views': 44793},\n",
       " {'channel_id': 'UCXKjhxsfFQUqlNVQzLVnpEA',\n",
       "  'description': 'No description provided',\n",
       "  'keywords': [],\n",
       "  'length': 1715,\n",
       "  'metadata': <pytube.metadata.YouTubeMetadata at 0x7fd1f04ff1c0>,\n",
       "  'publish_date': datetime.datetime(2023, 8, 21, 0, 0),\n",
       "  'thumbnail_url': 'https://i.ytimg.com/vi/Kqnnvpfqxt0/hq720.jpg',\n",
       "  'title': 'What The GOP Primary Looks Like In The Early States',\n",
       "  'views': 21349},\n",
       " {'channel_id': 'UCXKjhxsfFQUqlNVQzLVnpEA',\n",
       "  'description': 'No description provided',\n",
       "  'keywords': [],\n",
       "  'length': 2310,\n",
       "  'metadata': <pytube.metadata.YouTubeMetadata at 0x7fd1f0709e80>,\n",
       "  'publish_date': datetime.datetime(2023, 8, 15, 0, 0),\n",
       "  'thumbnail_url': 'https://i.ytimg.com/vi/R6M9djUFJ60/hq720.jpg',\n",
       "  'title': \"Three Georgia Law Professors Weigh In On Trump's Latest Indictment\",\n",
       "  'views': 690270},\n",
       " {'channel_id': 'UCXKjhxsfFQUqlNVQzLVnpEA',\n",
       "  'description': 'No description provided',\n",
       "  'keywords': [],\n",
       "  'length': 3849,\n",
       "  'metadata': <pytube.metadata.YouTubeMetadata at 0x7fd1f8078e50>,\n",
       "  'publish_date': datetime.datetime(2023, 8, 14, 0, 0),\n",
       "  'thumbnail_url': 'https://i.ytimg.com/vi/0H9CfT351U0/hq720.jpg',\n",
       "  'title': 'Who Is The Likeliest GOP VP Candidate?',\n",
       "  'views': 42965},\n",
       " {'channel_id': 'UCXKjhxsfFQUqlNVQzLVnpEA',\n",
       "  'description': 'No description provided',\n",
       "  'keywords': [],\n",
       "  'length': 3551,\n",
       "  'metadata': <pytube.metadata.YouTubeMetadata at 0x7fd1b17e3fd0>,\n",
       "  'publish_date': datetime.datetime(2023, 8, 7, 0, 0),\n",
       "  'thumbnail_url': 'https://i.ytimg.com/vi/ShEK9YEZ45Y/hq720.jpg',\n",
       "  'title': \"The 2024 Election According To The Country's Best Pollster\",\n",
       "  'views': 75180}]"
      ]
     },
     "execution_count": 14,
     "metadata": {},
     "output_type": "execute_result"
    }
   ],
   "source": [
    "test"
   ]
  },
  {
   "cell_type": "code",
   "execution_count": 112,
   "id": "b4de071c-1f3c-4523-9bcc-0fb41d20e8d8",
   "metadata": {},
   "outputs": [
    {
     "data": {
      "text/plain": [
       "[('https://i.ytimg.com/vi/Qd5-OBopiCQ/hq720.jpg',\n",
       "  'Lessons From A Trump-Less Debate'),\n",
       " ('https://i.ytimg.com/vi/Kqnnvpfqxt0/hq720.jpg',\n",
       "  'What The GOP Primary Looks Like In The Early States'),\n",
       " ('https://i.ytimg.com/vi/R6M9djUFJ60/hq720.jpg',\n",
       "  \"Three Georgia Law Professors Weigh In On Trump's Latest Indictment\"),\n",
       " ('https://i.ytimg.com/vi/0H9CfT351U0/hq720.jpg',\n",
       "  'Who Is The Likeliest GOP VP Candidate?'),\n",
       " ('https://i.ytimg.com/vi/ShEK9YEZ45Y/hq720.jpg',\n",
       "  \"The 2024 Election According To The Country's Best Pollster\")]"
      ]
     },
     "execution_count": 112,
     "metadata": {},
     "output_type": "execute_result"
    }
   ],
   "source": [
    "list(zip(thumbnails, titles))"
   ]
  },
  {
   "cell_type": "code",
   "execution_count": 52,
   "id": "6f9a311e-b5e8-44d2-b412-dc62532b123d",
   "metadata": {},
   "outputs": [],
   "source": [
    "with open('./data/impact_theory_with_vectors.json') as f:\n",
    "    data = json.loads(f.read())"
   ]
  },
  {
   "cell_type": "code",
   "execution_count": 51,
   "id": "fbc19092-1692-4a91-a4c2-1604fe1b8e55",
   "metadata": {},
   "outputs": [],
   "source": [
    "utils = Utilities()"
   ]
  },
  {
   "cell_type": "code",
   "execution_count": 55,
   "id": "6db9c271-611a-41ca-b1d8-b329b60147ce",
   "metadata": {},
   "outputs": [
    {
     "name": "stdout",
     "output_type": "stream",
     "text": [
      "Shape of data: (33164, 18)\n",
      "Memory Usage: 4.33+ MB\n"
     ]
    }
   ],
   "source": [
    "data = utils.load_parquet('./data/impact_theory_with_vectors.parquet')"
   ]
  },
  {
   "cell_type": "code",
   "execution_count": 57,
   "id": "b78c0c89-b845-43a8-b6c0-a6f5f4b909b3",
   "metadata": {},
   "outputs": [],
   "source": [
    "for item in data:\n",
    "    assert len(item['content_embedding']) == 384"
   ]
  },
  {
   "cell_type": "code",
   "execution_count": null,
   "id": "3751592a-3aae-4e59-8a3b-b29e267361b6",
   "metadata": {},
   "outputs": [],
   "source": []
  }
 ],
 "metadata": {
  "kernelspec": {
   "display_name": "openai",
   "language": "python",
   "name": "openai"
  },
  "language_info": {
   "codemirror_mode": {
    "name": "ipython",
    "version": 3
   },
   "file_extension": ".py",
   "mimetype": "text/x-python",
   "name": "python",
   "nbconvert_exporter": "python",
   "pygments_lexer": "ipython3",
   "version": "3.10.13"
  }
 },
 "nbformat": 4,
 "nbformat_minor": 5
}
