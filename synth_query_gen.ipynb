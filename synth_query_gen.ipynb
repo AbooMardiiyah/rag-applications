{
 "cells": [
  {
   "cell_type": "code",
   "execution_count": 22,
   "id": "70f0508e-f3b2-4e32-bc18-8af54d5df026",
   "metadata": {},
   "outputs": [
    {
     "name": "stdout",
     "output_type": "stream",
     "text": [
      "The autoreload extension is already loaded. To reload it, use:\n",
      "  %reload_ext autoreload\n"
     ]
    }
   ],
   "source": [
    "%load_ext autoreload\n",
    "%autoreload 2\n",
    "\n",
    "from datasets import load_dataset\n",
    "import pandas as pd\n",
    "import numpy as np\n",
    "pd.set_option('display.max_columns', None)\n",
    "import urllib.request\n",
    "# urllib.request.urlretrieve(\"https://artifacts.opensearch.org/models/ml-models/amazon/gpt/GPT2_xl_sqg/1.0.0/generate.py\", \"generate.py\")\n",
    "import generate\n",
    "from generate import Synthetic_Query_Generation\n",
    "from opensearch_py_ml.ml_models import SentenceTransformerModel\n",
    "\n",
    "# pd.set_option('display.expand_frame_repr', None)\n",
    "# pd.set_option('max_colwidth', None)"
   ]
  },
  {
   "cell_type": "code",
   "execution_count": null,
   "id": "a2f21949-c577-40be-9350-43290e45f04b",
   "metadata": {},
   "outputs": [],
   "source": [
    "def myselect(x):\n",
    "    if max(x[\"passages\"][\"is_selected\"]) == 1:\n",
    "        return x[\"passages\"][\"passage_text\"][np.argmax(x[\"passages\"][\"is_selected\"])]\n",
    "    return \"-1\""
   ]
  },
  {
   "cell_type": "code",
   "execution_count": 2,
   "id": "729b1842-e976-477c-a96a-771815fbf233",
   "metadata": {},
   "outputs": [],
   "source": [
    "ds = load_dataset(\"ms_marco\", \"v1.1\")"
   ]
  },
  {
   "cell_type": "code",
   "execution_count": 3,
   "id": "cb0da45e-f4bb-4180-a606-36142d254f08",
   "metadata": {},
   "outputs": [],
   "source": [
    "df = pd.DataFrame.from_dict(ds['validation'])"
   ]
  },
  {
   "cell_type": "code",
   "execution_count": 13,
   "id": "680751ed-6597-4d0a-ac7b-e6dde21c4d09",
   "metadata": {},
   "outputs": [],
   "source": [
    "df['passage'] = df.apply(lambda x: myselect(x), axis=1)"
   ]
  },
  {
   "cell_type": "code",
   "execution_count": 15,
   "id": "d92f8012-5916-437d-a766-2ec2f6fe4ec3",
   "metadata": {},
   "outputs": [
    {
     "data": {
      "text/html": [
       "<div>\n",
       "<style scoped>\n",
       "    .dataframe tbody tr th:only-of-type {\n",
       "        vertical-align: middle;\n",
       "    }\n",
       "\n",
       "    .dataframe tbody tr th {\n",
       "        vertical-align: top;\n",
       "    }\n",
       "\n",
       "    .dataframe thead th {\n",
       "        text-align: right;\n",
       "    }\n",
       "</style>\n",
       "<table border=\"1\" class=\"dataframe\">\n",
       "  <thead>\n",
       "    <tr style=\"text-align: right;\">\n",
       "      <th></th>\n",
       "      <th>query</th>\n",
       "      <th>passage</th>\n",
       "    </tr>\n",
       "  </thead>\n",
       "  <tbody>\n",
       "    <tr>\n",
       "      <th>0</th>\n",
       "      <td>walgreens store sales average</td>\n",
       "      <td>The average Walgreens salary ranges from appro...</td>\n",
       "    </tr>\n",
       "    <tr>\n",
       "      <th>1</th>\n",
       "      <td>how much do bartenders make</td>\n",
       "      <td>According to the Bureau of Labor Statistics, t...</td>\n",
       "    </tr>\n",
       "    <tr>\n",
       "      <th>2</th>\n",
       "      <td>what is a furuncle boil</td>\n",
       "      <td>A boil, also called a furuncle, is a deep foll...</td>\n",
       "    </tr>\n",
       "    <tr>\n",
       "      <th>3</th>\n",
       "      <td>what can urinalysis detect</td>\n",
       "      <td>Urinalysis is a test that evaluates a sample o...</td>\n",
       "    </tr>\n",
       "    <tr>\n",
       "      <th>4</th>\n",
       "      <td>what is vitamin a used for</td>\n",
       "      <td>Vitamin A is also used for shigellosis, diseas...</td>\n",
       "    </tr>\n",
       "    <tr>\n",
       "      <th>...</th>\n",
       "      <td>...</td>\n",
       "      <td>...</td>\n",
       "    </tr>\n",
       "    <tr>\n",
       "      <th>10042</th>\n",
       "      <td>what is nmr and mri</td>\n",
       "      <td>Nuclear magnetic resonance (NMR) is a physical...</td>\n",
       "    </tr>\n",
       "    <tr>\n",
       "      <th>10043</th>\n",
       "      <td>where is sandon</td>\n",
       "      <td>Sandon is a ghost town in the Kootenay region ...</td>\n",
       "    </tr>\n",
       "    <tr>\n",
       "      <th>10044</th>\n",
       "      <td>where do you go to apply for a mortgage</td>\n",
       "      <td>Applying for the Mortgage: Information Banks W...</td>\n",
       "    </tr>\n",
       "    <tr>\n",
       "      <th>10045</th>\n",
       "      <td>part of brain the makes us</td>\n",
       "      <td>The biggest part of the brain is the cerebrum....</td>\n",
       "    </tr>\n",
       "    <tr>\n",
       "      <th>10046</th>\n",
       "      <td>how much does a land survey cost</td>\n",
       "      <td>1 For example, Homestead Land Surveying in Cal...</td>\n",
       "    </tr>\n",
       "  </tbody>\n",
       "</table>\n",
       "<p>9706 rows × 2 columns</p>\n",
       "</div>"
      ],
      "text/plain": [
       "                                         query  \\\n",
       "0                walgreens store sales average   \n",
       "1                  how much do bartenders make   \n",
       "2                      what is a furuncle boil   \n",
       "3                   what can urinalysis detect   \n",
       "4                   what is vitamin a used for   \n",
       "...                                        ...   \n",
       "10042                      what is nmr and mri   \n",
       "10043                          where is sandon   \n",
       "10044  where do you go to apply for a mortgage   \n",
       "10045               part of brain the makes us   \n",
       "10046         how much does a land survey cost   \n",
       "\n",
       "                                                 passage  \n",
       "0      The average Walgreens salary ranges from appro...  \n",
       "1      According to the Bureau of Labor Statistics, t...  \n",
       "2      A boil, also called a furuncle, is a deep foll...  \n",
       "3      Urinalysis is a test that evaluates a sample o...  \n",
       "4      Vitamin A is also used for shigellosis, diseas...  \n",
       "...                                                  ...  \n",
       "10042  Nuclear magnetic resonance (NMR) is a physical...  \n",
       "10043  Sandon is a ghost town in the Kootenay region ...  \n",
       "10044  Applying for the Mortgage: Information Banks W...  \n",
       "10045  The biggest part of the brain is the cerebrum....  \n",
       "10046  1 For example, Homestead Land Surveying in Cal...  \n",
       "\n",
       "[9706 rows x 2 columns]"
      ]
     },
     "execution_count": 15,
     "metadata": {},
     "output_type": "execute_result"
    }
   ],
   "source": [
    "df = df[[\"query\", \"passage\"]][df.passage != \"-1\"]\n",
    "df"
   ]
  },
  {
   "cell_type": "code",
   "execution_count": 18,
   "id": "96edf9b2-e226-4533-a557-c314a199fc07",
   "metadata": {},
   "outputs": [
    {
     "data": {
      "text/plain": [
       "9706"
      ]
     },
     "execution_count": 18,
     "metadata": {},
     "output_type": "execute_result"
    }
   ],
   "source": [
    "sample_passages = list(df.passage.values)\n",
    "len(sample_passages)"
   ]
  },
  {
   "cell_type": "code",
   "execution_count": 19,
   "id": "46743ffb-7364-47aa-a00c-6340221c8e2a",
   "metadata": {},
   "outputs": [
    {
     "data": {
      "text/plain": [
       "['The average Walgreens salary ranges from approximately $15,000 per year for Customer Service Associate / Cashier to $179,900 per year for District Manager. Average Walgreens hourly pay ranges from approximately $7.35 per hour for Laboratory Technician to $68.90 per hour for Pharmacy Manager. Salary information comes from 7,810 data points collected directly from employees, users, and jobs on Indeed.',\n",
       " 'According to the Bureau of Labor Statistics, the average hourly wage for a bartender is $10.36, and the average yearly take-home is $21,550. Bartending can be a lot of things. For some it is exciting, for others exhausting. At times there is a lot of fun to be had, at others it is rather dull. But for the most part, bartending is almost always rewarding in the financial sense, as long as you stick with it.',\n",
       " 'A boil, also called a furuncle, is a deep folliculitis, infection of the hair follicle. It is most commonly caused by infection by the bacterium Staphylococcus aureus, resulting in a painful swollen area on the skin caused by an accumulation of pus and dead tissue. Signs and symptoms [edit]. Boils are bumpy, red, pus-filled lumps around a hair follicle that are tender, warm, and very painful. They range from pea-sized to golf ball-sized. A yellow or white point at the center of the lump can be seen when the boil is ready to drain or discharge pus.',\n",
       " 'Urinalysis is a test that evaluates a sample of your urine. Urinalysis is used to detect and assess a wide range of disorders, such as urinary tract infection, kidney disease and diabetes. Urinalysis involves examining the appearance, concentration and content of urine. Abnormal urinalysis results may point to a disease or illness. For example, a urinary tract infection can make urine look cloudy instead of clear. Increased levels of protein in urine can be a sign of kidney disease.',\n",
       " 'Vitamin A is also used for shigellosis, diseases of the nervous system, nose infections, loss of sense of smell, asthma, persistent headaches, kidney stones, overactive thyroid, iron-poor blood (anemia), deafness, ringing in the ears, and precancerous mouth sores (leukoplakia). It can also be made in a laboratory. Vitamin A is used for treating vitamin A deficiency. It is also used to reduce complications of diseases such as malaria, HIV, measles, and diarrhea in children with',\n",
       " 'The initiation of cell transformation is generally associated with genetic alterations in normal cells that lead to the loss of intercellular-and/or extracellular-matrix- (ECM-) mediated cell adhesion. Cancer afflicts an organ or a tissue by inducing abnormal and uncontrolled division of cells that either constitute it or migrate to it. At the cellular level, this is caused by genetic alterations in networks that regulate cell division and cell death.',\n",
       " 'Our free calculator uses recent, trusted data to estimate costs for your Basement Wall Framing project. For a basic 125 square feet project in zip code 47474, the benchmark cost to Frame Basement Walls ranges between $2.51 - $3.17 per square foot* . To estimate costs for your project:',\n",
       " 'The smart ones, the ones value knowledge and logic are Erudite. They know everything. . Erudite is one of the five factions in the world of Divergent, the one and only faction dedicated to knowledge, intelligence, curiosity, and astuteness. It was formed by those who blamed ignorance for the war that had occurred in the past, causing them to split into factions in the first place. They also use Dauntless as their soldiers near the end of Divergent. They have a close relationship with Amity, but Amity are not involved in the war because they are the peace faction. No relationship is stated between Erudite and Candor.']"
      ]
     },
     "execution_count": 19,
     "metadata": {},
     "output_type": "execute_result"
    }
   ],
   "source": [
    "sample_passages[:8]"
   ]
  },
  {
   "cell_type": "code",
   "execution_count": 20,
   "id": "06f6f302-acb4-4a8b-a3e6-3ca681748389",
   "metadata": {},
   "outputs": [
    {
     "name": "stderr",
     "output_type": "stream",
     "text": [
      "Special tokens have been added in the vocabulary, make sure the associated word embeddings are fine-tuned or trained.\n"
     ]
    }
   ],
   "source": [
    "ss = Synthetic_Query_Generation(sentences=sample_passages[:8])"
   ]
  },
  {
   "cell_type": "code",
   "execution_count": 21,
   "id": "96605cee-0423-49ba-9955-94cf95f988c6",
   "metadata": {},
   "outputs": [
    {
     "name": "stdout",
     "output_type": "stream",
     "text": [
      "Tokenizing corpus... This might take a while...\n",
      "Preparing input_ids and attention_mask... \n"
     ]
    },
    {
     "name": "stderr",
     "output_type": "stream",
     "text": [
      "100%|███████████████████████████████████████████████████████████████████████████████████████████████████████████████████████████████████████████████████████████████████████████████████| 8/8 [00:00<00:00, 355.01it/s]"
     ]
    },
    {
     "name": "stdout",
     "output_type": "stream",
     "text": [
      "<class 'str'>\n",
      "The average Walgreens salary ranges from approximately $15,000 per year for Customer Service Associate / Cashier to $179,900 per year for District Manager. Average Walgreens hourly pay ranges from approximately $7.35 per hour for Laboratory Technician to $68.90 per hour for Pharmacy Manager. Salary information comes from 7,810 data points collected directly from employees, users, and jobs on Indeed.\n",
      "<class 'str'>\n",
      "According to the Bureau of Labor Statistics, the average hourly wage for a bartender is $10.36, and the average yearly take-home is $21,550. Bartending can be a lot of things. For some it is exciting, for others exhausting. At times there is a lot of fun to be had, at others it is rather dull. But for the most part, bartending is almost always rewarding in the financial sense, as long as you stick with it.\n",
      "<class 'str'>\n",
      "A boil, also called a furuncle, is a deep folliculitis, infection of the hair follicle. It is most commonly caused by infection by the bacterium Staphylococcus aureus, resulting in a painful swollen area on the skin caused by an accumulation of pus and dead tissue. Signs and symptoms [edit]. Boils are bumpy, red, pus-filled lumps around a hair follicle that are tender, warm, and very painful. They range from pea-sized to golf ball-sized. A yellow or white point at the center of the lump can be seen when the boil is ready to drain or discharge pus.\n",
      "<class 'str'>\n",
      "Urinalysis is a test that evaluates a sample of your urine. Urinalysis is used to detect and assess a wide range of disorders, such as urinary tract infection, kidney disease and diabetes. Urinalysis involves examining the appearance, concentration and content of urine. Abnormal urinalysis results may point to a disease or illness. For example, a urinary tract infection can make urine look cloudy instead of clear. Increased levels of protein in urine can be a sign of kidney disease.\n",
      "<class 'str'>\n",
      "Vitamin A is also used for shigellosis, diseases of the nervous system, nose infections, loss of sense of smell, asthma, persistent headaches, kidney stones, overactive thyroid, iron-poor blood (anemia), deafness, ringing in the ears, and precancerous mouth sores (leukoplakia). It can also be made in a laboratory. Vitamin A is used for treating vitamin A deficiency. It is also used to reduce complications of diseases such as malaria, HIV, measles, and diarrhea in children with\n",
      "<class 'str'>\n",
      "The initiation of cell transformation is generally associated with genetic alterations in normal cells that lead to the loss of intercellular-and/or extracellular-matrix- (ECM-) mediated cell adhesion. Cancer afflicts an organ or a tissue by inducing abnormal and uncontrolled division of cells that either constitute it or migrate to it. At the cellular level, this is caused by genetic alterations in networks that regulate cell division and cell death.\n",
      "<class 'str'>\n",
      "Our free calculator uses recent, trusted data to estimate costs for your Basement Wall Framing project. For a basic 125 square feet project in zip code 47474, the benchmark cost to Frame Basement Walls ranges between $2.51 - $3.17 per square foot* . To estimate costs for your project:\n",
      "<class 'str'>\n",
      "The smart ones, the ones value knowledge and logic are Erudite. They know everything. . Erudite is one of the five factions in the world of Divergent, the one and only faction dedicated to knowledge, intelligence, curiosity, and astuteness. It was formed by those who blamed ignorance for the war that had occurred in the past, causing them to split into factions in the first place. They also use Dauntless as their soldiers near the end of Divergent. They have a close relationship with Amity, but Amity are not involved in the war because they are the peace faction. No relationship is stated between Erudite and Candor.\n",
      "0 number of documents out of 8 are discarded due to length constraints\n"
     ]
    },
    {
     "name": "stderr",
     "output_type": "stream",
     "text": [
      "\n"
     ]
    },
    {
     "name": "stdout",
     "output_type": "stream",
     "text": [
      "The number of steps for creating queries:  8\n",
      "Running on CPU...\n"
     ]
    },
    {
     "name": "stderr",
     "output_type": "stream",
     "text": [
      "100%|████████████████████████████████████████████████████████████████████████████████████████████████████████████████████████████████████████████████████████████████████████████████████| 8/8 [02:53<00:00, 21.67s/it]\n",
      "Downloading: \"https://github.com/unitaryai/detoxify/releases/download/v0.3-alpha/toxic_debiased-c7548aa0.ckpt\" to /home/elastic/.cache/torch/hub/checkpoints/toxic_debiased-c7548aa0.ckpt\n",
      "100%|████████████████████████████████████████████████████████████████████████████████████████████████████████████████████████████████████████████████████████████████████████████████| 476M/476M [00:04<00:00, 121MB/s]\n"
     ]
    },
    {
     "name": "stdout",
     "output_type": "stream",
     "text": [
      "The total number of synthetic queries before detoxify is 80\n",
      "70 good queries are kept after detoxify.\n",
      "File is saved to /home/elastic/notebooks/vector_search_applications/queries_after_detoxify/synthetic_queries_batch_.p file.\n",
      "Zip file is saved to/home/elastic/notebooks/vector_search_applications/clean_synthetic_queries.zip\n"
     ]
    }
   ],
   "source": [
    "step_query = ss.generate_synthetic_queries(num_gpu=1, tokenizer_max_length=300, total_queries=10, numseq=5, toxic_cutoff=0.01, tokens_to_word_ratio=0.6)"
   ]
  },
  {
   "cell_type": "code",
   "execution_count": 31,
   "id": "2d117a65-b0f5-4c03-9a67-16720f3cc01b",
   "metadata": {},
   "outputs": [],
   "source": [
    "custom = SentenceTransformerModel(folder_path='/home/elastic/notebooks/vector_search_applications/models/', overwrite=True)"
   ]
  },
  {
   "cell_type": "code",
   "execution_count": 32,
   "id": "ce7f353d-f3df-40cc-85f1-a8ad27adf92d",
   "metadata": {},
   "outputs": [
    {
     "name": "stdout",
     "output_type": "stream",
     "text": [
      "Reading synthetic query file: /home/elastic/notebooks/vector_search_applications/models/synthetic_queries/synthetic_queries_batch.p\n",
      "\n"
     ]
    }
   ],
   "source": [
    "df = custom.read_queries(read_path='./clean_synthetic_queries.zip', overwrite=True)"
   ]
  },
  {
   "cell_type": "code",
   "execution_count": 33,
   "id": "8e09a4f5-b51a-4266-a303-8f11f21da289",
   "metadata": {},
   "outputs": [
    {
     "data": {
      "text/html": [
       "<div>\n",
       "<style scoped>\n",
       "    .dataframe tbody tr th:only-of-type {\n",
       "        vertical-align: middle;\n",
       "    }\n",
       "\n",
       "    .dataframe tbody tr th {\n",
       "        vertical-align: top;\n",
       "    }\n",
       "\n",
       "    .dataframe thead th {\n",
       "        text-align: right;\n",
       "    }\n",
       "</style>\n",
       "<table border=\"1\" class=\"dataframe\">\n",
       "  <thead>\n",
       "    <tr style=\"text-align: right;\">\n",
       "      <th></th>\n",
       "      <th>prob</th>\n",
       "      <th>query</th>\n",
       "      <th>passages</th>\n",
       "    </tr>\n",
       "  </thead>\n",
       "  <tbody>\n",
       "    <tr>\n",
       "      <th>39</th>\n",
       "      <td>0.167991</td>\n",
       "      <td>how does vitamins work</td>\n",
       "      <td>Vitamin A is also used for shigellosis, disea...</td>\n",
       "    </tr>\n",
       "    <tr>\n",
       "      <th>21</th>\n",
       "      <td>326.843933</td>\n",
       "      <td>what causes boils</td>\n",
       "      <td>A boil, also called a furuncle, is a deep fol...</td>\n",
       "    </tr>\n",
       "    <tr>\n",
       "      <th>18</th>\n",
       "      <td>30.521439</td>\n",
       "      <td>how much money do bartenders make</td>\n",
       "      <td>According to the Bureau of Labor Statistics, ...</td>\n",
       "    </tr>\n",
       "    <tr>\n",
       "      <th>9</th>\n",
       "      <td>10.467592</td>\n",
       "      <td>what is the starting wage at walgreen</td>\n",
       "      <td>The average Walgreens salary ranges from appr...</td>\n",
       "    </tr>\n",
       "    <tr>\n",
       "      <th>30</th>\n",
       "      <td>0.016274</td>\n",
       "      <td>what is urinary culture</td>\n",
       "      <td>Urinalysis is a test that evaluates a sample ...</td>\n",
       "    </tr>\n",
       "    <tr>\n",
       "      <th>...</th>\n",
       "      <td>...</td>\n",
       "      <td>...</td>\n",
       "      <td>...</td>\n",
       "    </tr>\n",
       "    <tr>\n",
       "      <th>44</th>\n",
       "      <td>38.914867</td>\n",
       "      <td>what are vitamins good for</td>\n",
       "      <td>Vitamin A is also used for shigellosis, disea...</td>\n",
       "    </tr>\n",
       "    <tr>\n",
       "      <th>43</th>\n",
       "      <td>0.160010</td>\n",
       "      <td>is vit d good for anemia</td>\n",
       "      <td>Vitamin A is also used for shigellosis, disea...</td>\n",
       "    </tr>\n",
       "    <tr>\n",
       "      <th>57</th>\n",
       "      <td>0.786869</td>\n",
       "      <td>what is average basement wall</td>\n",
       "      <td>Our free calculator uses recent, trusted data...</td>\n",
       "    </tr>\n",
       "    <tr>\n",
       "      <th>59</th>\n",
       "      <td>0.001369</td>\n",
       "      <td>how much does it cost per frame of wall</td>\n",
       "      <td>Our free calculator uses recent, trusted data...</td>\n",
       "    </tr>\n",
       "    <tr>\n",
       "      <th>45</th>\n",
       "      <td>0.001525</td>\n",
       "      <td>why are vitamins needed for health</td>\n",
       "      <td>Vitamin A is also used for shigellosis, disea...</td>\n",
       "    </tr>\n",
       "  </tbody>\n",
       "</table>\n",
       "<p>66 rows × 3 columns</p>\n",
       "</div>"
      ],
      "text/plain": [
       "          prob                                    query  \\\n",
       "39    0.167991                   how does vitamins work   \n",
       "21  326.843933                        what causes boils   \n",
       "18   30.521439        how much money do bartenders make   \n",
       "9    10.467592    what is the starting wage at walgreen   \n",
       "30    0.016274                  what is urinary culture   \n",
       "..         ...                                      ...   \n",
       "44   38.914867               what are vitamins good for   \n",
       "43    0.160010                 is vit d good for anemia   \n",
       "57    0.786869            what is average basement wall   \n",
       "59    0.001369  how much does it cost per frame of wall   \n",
       "45    0.001525       why are vitamins needed for health   \n",
       "\n",
       "                                             passages  \n",
       "39   Vitamin A is also used for shigellosis, disea...  \n",
       "21   A boil, also called a furuncle, is a deep fol...  \n",
       "18   According to the Bureau of Labor Statistics, ...  \n",
       "9    The average Walgreens salary ranges from appr...  \n",
       "30   Urinalysis is a test that evaluates a sample ...  \n",
       "..                                                ...  \n",
       "44   Vitamin A is also used for shigellosis, disea...  \n",
       "43   Vitamin A is also used for shigellosis, disea...  \n",
       "57   Our free calculator uses recent, trusted data...  \n",
       "59   Our free calculator uses recent, trusted data...  \n",
       "45   Vitamin A is also used for shigellosis, disea...  \n",
       "\n",
       "[66 rows x 3 columns]"
      ]
     },
     "execution_count": 33,
     "metadata": {},
     "output_type": "execute_result"
    }
   ],
   "source": [
    "df"
   ]
  },
  {
   "cell_type": "code",
   "execution_count": 28,
   "id": "e4e6d0d4-ad08-431e-abae-bd235bf9bf50",
   "metadata": {},
   "outputs": [],
   "source": [
    "import torch\n",
    "import os\n",
    "torch.cuda.empty_cache()"
   ]
  },
  {
   "cell_type": "code",
   "execution_count": null,
   "id": "b52912a6-8ea5-4d5c-b7e6-17e1b8284d27",
   "metadata": {},
   "outputs": [],
   "source": [
    "os.cpu_count"
   ]
  },
  {
   "cell_type": "code",
   "execution_count": 34,
   "id": "e050794a-ae10-4b82-b3e6-40d0747770b4",
   "metadata": {},
   "outputs": [
    {
     "name": "stdout",
     "output_type": "stream",
     "text": [
      "Reading synthetic query file: /home/elastic/notebooks/vector_search_applications/models/synthetic_queries/synthetic_queries_batch.p\n",
      "\n",
      "Loading training examples... \n",
      "\n"
     ]
    },
    {
     "name": "stderr",
     "output_type": "stream",
     "text": [
      "100%|██████████████████████████████████████████████████████████████████████████████████████████████████████████████████████████████████████████████████████████████████████████████| 66/66 [00:00<00:00, 699050.67it/s]\n",
      "Downloading (…)0cfdf/.gitattributes: 100%|█████████████████████████████████████████████████████████████████████████████████████████████████████████████████████████████████████████████| 690/690 [00:00<00:00, 375kB/s]\n",
      "Downloading (…)_Pooling/config.json: 100%|█████████████████████████████████████████████████████████████████████████████████████████████████████████████████████████████████████████████| 190/190 [00:00<00:00, 154kB/s]\n",
      "Downloading (…)5bdce0cfdf/README.md: 100%|████████████████████████████████████████████████████████████████████████████████████████████████████████████████████████████████████████| 3.99k/3.99k [00:00<00:00, 6.08MB/s]\n",
      "Downloading (…)dce0cfdf/config.json: 100%|█████████████████████████████████████████████████████████████████████████████████████████████████████████████████████████████████████████████| 548/548 [00:00<00:00, 524kB/s]\n",
      "Downloading (…)ce_transformers.json: 100%|█████████████████████████████████████████████████████████████████████████████████████████████████████████████████████████████████████████████| 122/122 [00:00<00:00, 190kB/s]\n",
      "Downloading pytorch_model.bin: 100%|█████████████████████████████████████████████████████████████████████████████████████████████████████████████████████████████████████████████████| 265M/265M [00:00<00:00, 273MB/s]\n",
      "Downloading (…)nce_bert_config.json: 100%|██████████████████████████████████████████████████████████████████████████████████████████████████████████████████████████████████████████| 53.0/53.0 [00:00<00:00, 30.2kB/s]\n",
      "Downloading (…)cial_tokens_map.json: 100%|████████████████████████████████████████████████████████████████████████████████████████████████████████████████████████████████████████████| 112/112 [00:00<00:00, 67.0kB/s]\n",
      "Downloading (…)0cfdf/tokenizer.json: 100%|██████████████████████████████████████████████████████████████████████████████████████████████████████████████████████████████████████████| 466k/466k [00:00<00:00, 19.2MB/s]\n",
      "Downloading (…)okenizer_config.json: 100%|█████████████████████████████████████████████████████████████████████████████████████████████████████████████████████████████████████████████| 547/547 [00:00<00:00, 421kB/s]\n",
      "Downloading (…)5bdce0cfdf/vocab.txt: 100%|██████████████████████████████████████████████████████████████████████████████████████████████████████████████████████████████████████████| 232k/232k [00:00<00:00, 38.1MB/s]\n",
      "Downloading (…)ce0cfdf/modules.json: 100%|█████████████████████████████████████████████████████████████████████████████████████████████████████████████████████████████████████████████| 229/229 [00:00<00:00, 179kB/s]\n"
     ]
    },
    {
     "name": "stdout",
     "output_type": "stream",
     "text": [
      "Start training without accelerator...\n",
      "\n",
      "The number of training epoch are 10\n",
      "\n",
      "The total number of steps per training epoch are 2\n",
      "\n",
      "Training epoch 0...\n",
      "\n"
     ]
    },
    {
     "name": "stderr",
     "output_type": "stream",
     "text": [
      "100%|████████████████████████████████████████████████████████████████████████████████████████████████████████████████████████████████████████████████████████████████████████████████████| 2/2 [00:01<00:00,  1.64it/s]\n"
     ]
    },
    {
     "name": "stdout",
     "output_type": "stream",
     "text": [
      "Training epoch 1...\n",
      "\n"
     ]
    },
    {
     "name": "stderr",
     "output_type": "stream",
     "text": [
      "100%|████████████████████████████████████████████████████████████████████████████████████████████████████████████████████████████████████████████████████████████████████████████████████| 2/2 [00:00<00:00,  7.13it/s]\n"
     ]
    },
    {
     "name": "stdout",
     "output_type": "stream",
     "text": [
      "Training epoch 2...\n",
      "\n"
     ]
    },
    {
     "name": "stderr",
     "output_type": "stream",
     "text": [
      "100%|████████████████████████████████████████████████████████████████████████████████████████████████████████████████████████████████████████████████████████████████████████████████████| 2/2 [00:00<00:00,  7.07it/s]\n"
     ]
    },
    {
     "name": "stdout",
     "output_type": "stream",
     "text": [
      "Training epoch 3...\n",
      "\n"
     ]
    },
    {
     "name": "stderr",
     "output_type": "stream",
     "text": [
      "100%|████████████████████████████████████████████████████████████████████████████████████████████████████████████████████████████████████████████████████████████████████████████████████| 2/2 [00:00<00:00,  7.19it/s]\n"
     ]
    },
    {
     "name": "stdout",
     "output_type": "stream",
     "text": [
      "Training epoch 4...\n",
      "\n"
     ]
    },
    {
     "name": "stderr",
     "output_type": "stream",
     "text": [
      "100%|████████████████████████████████████████████████████████████████████████████████████████████████████████████████████████████████████████████████████████████████████████████████████| 2/2 [00:00<00:00,  7.09it/s]\n"
     ]
    },
    {
     "name": "stdout",
     "output_type": "stream",
     "text": [
      "Training epoch 5...\n",
      "\n"
     ]
    },
    {
     "name": "stderr",
     "output_type": "stream",
     "text": [
      "100%|████████████████████████████████████████████████████████████████████████████████████████████████████████████████████████████████████████████████████████████████████████████████████| 2/2 [00:00<00:00,  7.00it/s]\n"
     ]
    },
    {
     "name": "stdout",
     "output_type": "stream",
     "text": [
      "Training epoch 6...\n",
      "\n"
     ]
    },
    {
     "name": "stderr",
     "output_type": "stream",
     "text": [
      "100%|████████████████████████████████████████████████████████████████████████████████████████████████████████████████████████████████████████████████████████████████████████████████████| 2/2 [00:00<00:00,  7.15it/s]\n"
     ]
    },
    {
     "name": "stdout",
     "output_type": "stream",
     "text": [
      "Training epoch 7...\n",
      "\n"
     ]
    },
    {
     "name": "stderr",
     "output_type": "stream",
     "text": [
      "100%|████████████████████████████████████████████████████████████████████████████████████████████████████████████████████████████████████████████████████████████████████████████████████| 2/2 [00:00<00:00,  7.02it/s]\n"
     ]
    },
    {
     "name": "stdout",
     "output_type": "stream",
     "text": [
      "Training epoch 8...\n",
      "\n"
     ]
    },
    {
     "name": "stderr",
     "output_type": "stream",
     "text": [
      "100%|████████████████████████████████████████████████████████████████████████████████████████████████████████████████████████████████████████████████████████████████████████████████████| 2/2 [00:00<00:00,  7.23it/s]\n"
     ]
    },
    {
     "name": "stdout",
     "output_type": "stream",
     "text": [
      "Training epoch 9...\n",
      "\n"
     ]
    },
    {
     "name": "stderr",
     "output_type": "stream",
     "text": [
      "100%|████████████████████████████████████████████████████████████████████████████████████████████████████████████████████████████████████████████████████████████████████████████████████| 2/2 [00:00<00:00,  7.20it/s]\n"
     ]
    },
    {
     "name": "stdout",
     "output_type": "stream",
     "text": [
      "Total training time: 4.269590616226196\n",
      "\n",
      "Preparing model to save...\n",
      "\n",
      "Model saved to path: /home/elastic/notebooks/vector_search_applications/models/\n",
      "\n",
      "tokenizer_json_path:  /home/elastic/notebooks/vector_search_applications/models/tokenizer.json\n",
      "zip file is saved to /home/elastic/notebooks/vector_search_applications/models/test_model.zip\n",
      "\n"
     ]
    }
   ],
   "source": [
    "training = custom.train(read_path = './clean_synthetic_queries.zip',\n",
    "                        output_model_name = 'test_model.pt',\n",
    "                        zip_file_name= 'test_model.zip',\n",
    "                        overwrite = True,\n",
    "                        num_epochs = 10,\n",
    "                        verbose = True,\n",
    "                        num_gpu=1,\n",
    "                        num_machines=os.cpu_count())"
   ]
  },
  {
   "cell_type": "code",
   "execution_count": 35,
   "id": "251ea8af-a6cc-4011-af8d-2b473f45d7b7",
   "metadata": {},
   "outputs": [
    {
     "data": {
      "text/plain": [
       "NoneType"
      ]
     },
     "execution_count": 35,
     "metadata": {},
     "output_type": "execute_result"
    }
   ],
   "source": [
    "type(training)"
   ]
  },
  {
   "cell_type": "code",
   "execution_count": 36,
   "id": "c04e3788-c15a-42ad-b66b-464ab966d9f9",
   "metadata": {},
   "outputs": [],
   "source": [
    "from opensearch_interface import OpenSearchClient"
   ]
  },
  {
   "cell_type": "code",
   "execution_count": 39,
   "id": "031d7586-b9eb-48ee-8235-82746aec5c97",
   "metadata": {},
   "outputs": [],
   "source": [
    "client = OpenSearchClient()"
   ]
  },
  {
   "cell_type": "code",
   "execution_count": 43,
   "id": "74f73175-8db4-4a35-bc03-a39b83c15065",
   "metadata": {},
   "outputs": [
    {
     "name": "stdout",
     "output_type": "stream",
     "text": [
      "health status index                        uuid                   pri rep docs.count docs.deleted store.size pri.store.size\n",
      "yellow open   semantic-538-testrun         DjBPg6CdQwKbOGhJrI4YIQ   3   1        284            0      2.9mb          2.9mb\n",
      "yellow open   security-auditlog-2023.09.10 q2UCytHxQXOdDxdpwOeqpA   1   1       1704            0      1.5mb          1.5mb\n",
      "yellow open   test-kw-index                6EF4Q2xDT9Gz1wua5a2IpQ   3   1        158            0      5.6mb          5.6mb\n",
      "yellow open   security-auditlog-2023.09.11 u3bVAn9lRReojRlF0t3sYw   1   1       1704            0      3.3mb          3.3mb\n",
      "yellow open   kw-full                      uNhdaqbnRVuyJci_L1Om8Q   3   1       6678            0     12.1mb         12.1mb\n",
      "yellow open   security-auditlog-2023.09.12 wJoWS1RfSBynSDjh3tV7Mw   1   1       1704            0      3.2mb          3.2mb\n",
      "yellow open   semantic-full                ydvbifM0Rcu0DBz-rjCHzQ   3   1       6678            0     74.2mb         74.2mb\n",
      "green  open   .opendistro_security         _QeSqO4CQN2IU8VpE9hnPw   1   0         10            0     75.6kb         75.6kb\n",
      "yellow open   kw-538-testrun               Wam6NsdMR7K5lE8N8ZBTRQ   3   1        284            0    351.4kb        351.4kb\n",
      "yellow open   .plugins-ml-config           IEeXrm-DRiOMm2qzo7PbqA   1   1          1            0      3.9kb          3.9kb\n",
      "green  open   .opensearch-observability    nN299E0QS9OvsRh_UcbJVQ   1   0          0            0       208b           208b\n",
      "yellow open   security-auditlog-2023.09.04 ApPSasK0S7CadlbWroBRYA   1   1        908            0      1.7mb          1.7mb\n",
      "yellow open   security-auditlog-2023.09.05 W9W4NIEZSkGYgLOkM5l_5g   1   1        865            0      1.8mb          1.8mb\n",
      "yellow open   security-auditlog-2023.09.06 EdqJ2NoXS-GBQl-p4UxtkA   1   1       1704            0      3.4mb          3.4mb\n",
      "yellow open   security-auditlog-2023.09.07 xNCCGTZMTzCrRbmRwsrz0g   1   1       1729            0      3.4mb          3.4mb\n",
      "yellow open   security-auditlog-2023.09.08 JG1-ovFFTAiE5n3k40QVYw   1   1       1704            0      3.3mb          3.3mb\n",
      "yellow open   security-auditlog-2023.09.09 2ADFnY0WSs-V3sv17r_Eyg   1   1       1704            0      1.5mb          1.5mb\n",
      "\n"
     ]
    }
   ],
   "source": [
    "client.show_indexes()"
   ]
  },
  {
   "cell_type": "code",
   "execution_count": 42,
   "id": "27950fec-115b-4071-a3dc-ea1b98cc2e45",
   "metadata": {},
   "outputs": [],
   "source": [
    "import opensearch_py_ml as oml"
   ]
  },
  {
   "cell_type": "code",
   "execution_count": null,
   "id": "583547a4-2f5f-437e-b1e0-02c19bbb869e",
   "metadata": {},
   "outputs": [],
   "source": []
  }
 ],
 "metadata": {
  "kernelspec": {
   "display_name": "openai",
   "language": "python",
   "name": "openai"
  },
  "language_info": {
   "codemirror_mode": {
    "name": "ipython",
    "version": 3
   },
   "file_extension": ".py",
   "mimetype": "text/x-python",
   "name": "python",
   "nbconvert_exporter": "python",
   "pygments_lexer": "ipython3",
   "version": "3.9.17"
  }
 },
 "nbformat": 4,
 "nbformat_minor": 5
}
