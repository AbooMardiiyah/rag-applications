{
 "cells": [
  {
   "cell_type": "code",
   "execution_count": 1,
   "id": "88728355-dd6c-4c08-8ad8-ac7f85e6af68",
   "metadata": {},
   "outputs": [
    {
     "name": "stdout",
     "output_type": "stream",
     "text": [
      "The autoreload extension is already loaded. To reload it, use:\n",
      "  %reload_ext autoreload\n"
     ]
    }
   ],
   "source": [
    "%load_ext autoreload\n",
    "%autoreload 2"
   ]
  },
  {
   "cell_type": "code",
   "execution_count": 2,
   "id": "68f03b28-68e1-45c5-9ec0-99d9a32d0392",
   "metadata": {},
   "outputs": [],
   "source": [
    "#external files\n",
    "from preprocessing import FileIO\n",
    "# from weaviate_interface import WeaviateClient\n",
    "from weaviate_interface import WeaviateClient\n",
    "from retrieval_evaluation import calc_hit_rate_scores, calc_mrr_scores\n",
    "from reranker import ReRanker\n",
    "\n",
    "#external libraries\n",
    "from llama_index.finetuning import EmbeddingQAFinetuneDataset\n",
    "import plotly.express as px\n",
    "\n",
    "#standard library imports\n",
    "from typing import List, Any, Dict, Tuple, Union\n",
    "import time\n",
    "import os\n",
    "\n",
    "# utilities\n",
    "from tqdm import tqdm\n",
    "from rich import print\n",
    "from dotenv import load_dotenv\n",
    "env = load_dotenv('./.env', override=True)"
   ]
  },
  {
   "cell_type": "markdown",
   "id": "959bb049-ca24-42ef-9458-72fb687fe27d",
   "metadata": {},
   "source": [
    "### Load QA dataset"
   ]
  },
  {
   "cell_type": "code",
   "execution_count": 3,
   "id": "3e61a946-f5b2-4a7e-80b6-1dc5bdaa4cb5",
   "metadata": {},
   "outputs": [
    {
     "data": {
      "text/plain": [
       "250"
      ]
     },
     "execution_count": 3,
     "metadata": {},
     "output_type": "execute_result"
    }
   ],
   "source": [
    "golden_dataset = EmbeddingQAFinetuneDataset.from_json(\"./data/golden_dataset.json\")\n",
    "len(golden_dataset.queries)"
   ]
  },
  {
   "cell_type": "markdown",
   "id": "30095d52-6b57-4632-8a77-08efbec12c80",
   "metadata": {},
   "source": [
    "### Instantiate Weaviate client and set Class name"
   ]
  },
  {
   "cell_type": "code",
   "execution_count": 16,
   "id": "a440bd3e-1223-41c4-ad1a-0120273d9b1f",
   "metadata": {},
   "outputs": [
    {
     "data": {
      "text/plain": [
       "(True, True)"
      ]
     },
     "execution_count": 16,
     "metadata": {},
     "output_type": "execute_result"
    }
   ],
   "source": [
    "client = WeaviateClient(os.environ['WEAVIATE_API_KEY'], os.environ['WEAVIATE_ENDPOINT'])\n",
    "class_name = 'Impact_theory_minilm_256'\n",
    "\n",
    "#check if WCS instance is live and ready\n",
    "client.is_live(), client.is_ready()"
   ]
  },
  {
   "cell_type": "code",
   "execution_count": 22,
   "id": "8e3a263c-1339-4fa9-b9ea-ddec1c45f3ee",
   "metadata": {},
   "outputs": [],
   "source": [
    "resp = client._hybrid_search('where are the locals at', class_name, limit=20)"
   ]
  },
  {
   "cell_type": "code",
   "execution_count": 23,
   "id": "e88d63a3-c038-4a82-99e3-eada56acf5cc",
   "metadata": {},
   "outputs": [
    {
     "data": {
      "text/plain": [
       "[{'content': \"And what is that spell? Culture? Family pressures? All of the above? Yes. If you look at the world, there you see where it got to. The world is polluting and it doesn't give a shit. The world is on fire. Nobody gives a shit. Only the people, the locals, but the rest of the world is just watching. War is going on. Watching. Refugees are drowning. Little children are drowning. We are watching. The production, that is important. Money, that is important. Competition, that is important. People die in the hospitals because of the COVID. They don't talk about how to strengthen your own immune system. Why? We have shown in 2014, Tom, we have shown how to suppress effectively with a group of people. So the scientific evidence that within a quarter of an hour, using specific breathing techniques to alter the immune system, to make the innate immune system go down, that means the cytokine storm, which is the damaging factor of COVID, of COVID-19 damaging factor, is inflammation.\",\n",
       "  'doc_id': 'n5j4d-OJcsw_19',\n",
       "  'episode_url': 'https://www.youtube.com/watch?v=n5j4d-OJcsw&list=PL8qcvQ7Byc3OJ02hbWJbHWePh4XEg3cvo',\n",
       "  'guest': 'Wim Hof',\n",
       "  'length': 2969,\n",
       "  'thumbnail_url': 'https://i.ytimg.com/vi/n5j4d-OJcsw/hq720.jpg',\n",
       "  'title': 'Wim Hof “The Iceman” on the Resilience and Strength Your Body is Truly Capable of Achieving',\n",
       "  'video_id': 'n5j4d-OJcsw',\n",
       "  'views': 169225,\n",
       "  'explainScore': '(bm25): original score 4.5607424, normalized score: 0.5',\n",
       "  'score': '0.5'},\n",
       " {'content': \"Why make them go so specific? Because when somebody tells me, we were sitting at the restaurant. We go on a date night once a month and the check came and he didn't offer to pick it up or she didn't offer to pick it up. I go, oh, okay. So what does that mean to you? Who normally picks up the check? What kind of restaurant were you at? And when they tell me, oh, you like sushi? I go, you like omakase? What were you guys eating? Sashimi? Oh, that's fancy. What are you guys? A coastal elite? I'm joking. I'm building rapport. I'm showing them that I'm not Mr. Money Guy with a suit and tie. Like I can speak their language, but I'm also trying to understand... I'm trying to meet them where they are. And to meet them where they are, I need to go into their target conversation or their sushi dinner. That's where people live. People do not normally live in a spreadsheet. They certainly don't live talking about money every day.\",\n",
       "  'doc_id': 'Yzvg0pWez2M_91',\n",
       "  'episode_url': 'https://www.youtube.com/watch?v=Yzvg0pWez2M&list=PL8qcvQ7Byc3OJ02hbWJbHWePh4XEg3cvo',\n",
       "  'guest': 'Ramit Sethi',\n",
       "  'length': 6807,\n",
       "  'thumbnail_url': 'https://i.ytimg.com/vi/Yzvg0pWez2M/hq720.jpg',\n",
       "  'title': 'The Common MONEY TRAPS You Need To AVOID To Build Wealth | Ramit Sethi',\n",
       "  'video_id': 'Yzvg0pWez2M',\n",
       "  'views': 172976,\n",
       "  'explainScore': '(vector) [0.13541497 0.03338659 -0.0019899565 0.048069205 0.028292986 0.0010872943 -0.0057838964 -0.083339 -0.036647454 -0.01412428]...  : original score 0.32247633, normalized score: 0.5',\n",
       "  'score': '0.5'},\n",
       " {'content': \"My granddad, your grandfather. OK, my grandfather, there was no tax. Not it was back. Well, they didn't have income taxes. They didn't have Social Security taxes. You know, all the only taxes you had. It was like a tariff. You didn't even see the tariffs. Right. Because they were they were embedded in the products. And the cities, the locals, you know, they did have like sales tax. But that's it. That's all there was. Nobody had to fill out forms. Nobody had any money taking out of their paycheck. I mean, that's that's what America used to be like. And people weren't starving. You know, people were people were dying for lack of medical care. If you didn't have money, doctors worked for nothing. I mean, it was it was we ran great. Government was tiny. You know, 100 years ago, you know, 1900, 1890, 1910. You know that we didn't have as much technology then as we have now.\",\n",
       "  'doc_id': '_I8lzTePXQw_64',\n",
       "  'episode_url': 'https://www.youtube.com/watch?v=_I8lzTePXQw&list=PL8qcvQ7Byc3OJ02hbWJbHWePh4XEg3cvo',\n",
       "  'guest': 'Peter Schiff',\n",
       "  'length': 10219,\n",
       "  'thumbnail_url': 'https://i.ytimg.com/vi/_I8lzTePXQw/hq720.jpg',\n",
       "  'title': 'A Recession Worse Than 2008? - How To Survive & Thrive The Next Economic Crisis | Peter Schiff',\n",
       "  'video_id': '_I8lzTePXQw',\n",
       "  'views': 391908,\n",
       "  'explainScore': '(bm25): original score 4.169473, normalized score: 0.44667935',\n",
       "  'score': '0.44667935'},\n",
       " {'content': \"How are you going to hide your building? Buildings get property taxed. There's a very famous story about a bunch of luxury yachts sitting in Sardinian Port, and the locals decided that it wasn't fair that all these rich people were sitting on their yachts in the port spending all this money, but they weren't paying enough taxes. Now, they were putting millions and millions of euros into the economy, but they came up with the idea that they were going to put a tax on the yacht, on the value of the yacht, and so they passed a yacht tax that would have cost people millions or tens of millions of euros if they stayed in that port, and everything was happy, and all the restaurateurs and the hotelers and the entertainment people in the port, they were all happy making tons of money off the yachts until the day before the tax went into place, and the morning that the tax went into place, the port was empty and the economy died. Everybody left because yachts are floating capital. It just moves. It's floating property, right?\",\n",
       "  'doc_id': 'Ll5EDt13GcQ_85',\n",
       "  'episode_url': 'https://www.youtube.com/watch?v=Ll5EDt13GcQ&list=PL8qcvQ7Byc3OJ02hbWJbHWePh4XEg3cvo',\n",
       "  'guest': 'Michael Saylor',\n",
       "  'length': 10592,\n",
       "  'thumbnail_url': 'https://i.ytimg.com/vi/Ll5EDt13GcQ/hq720.jpg',\n",
       "  'title': '\"PREPARE NOW!\" - This Is Your LAST CHANCE To Become A MILLIONAIRE In 2023 | Michael Saylor',\n",
       "  'video_id': 'Ll5EDt13GcQ',\n",
       "  'views': 457293,\n",
       "  'explainScore': '(bm25): original score 4.037649, normalized score: 0.42871487',\n",
       "  'score': '0.42871487'},\n",
       " {'content': \"Do people just send you a shit ton of music now? Is that how you find people? No. It's a lot of it's like friends, networks of, like, I trust friends and advice from friends. That's probably been my go-to for signing the right artists on Denmark to, like, working and collabing with different artists. And plus, I get to travel the world. That helps me a lot. And I'm also putting myself out there. So when I go to a country, you know, I'm, like, putting out the feelers, like, can you tell, like, the artists in this country? I'm in Brazil, whatever I am. I want to hear, like, who's shaking up the noise. And the thing is, is that sometimes the biggest artists in that country is, like, unknown in my country, which happens a lot because they're singing entirely in Portuguese or Italian or whatnot. And that's what I did actually just recently. I was in Italy and my day-to-day, Dougie, who's in this room right now.\",\n",
       "  'doc_id': 'NHOOgWNaGwM_23',\n",
       "  'episode_url': 'https://www.youtube.com/watch?v=NHOOgWNaGwM&list=PL8qcvQ7Byc3OJ02hbWJbHWePh4XEg3cvo',\n",
       "  'guest': 'Steve Aoki',\n",
       "  'length': 2813,\n",
       "  'thumbnail_url': 'https://i.ytimg.com/vi/NHOOgWNaGwM/hq720.jpg',\n",
       "  'title': \"If You Can't Ditch Social Media Entirely, Try This Instead | Steve Aoki on Impact Theory\",\n",
       "  'video_id': 'NHOOgWNaGwM',\n",
       "  'views': 170621,\n",
       "  'explainScore': '(vector) [0.13541497 0.03338659 -0.0019899565 0.048069205 0.028292986 0.0010872943 -0.0057838964 -0.083339 -0.036647454 -0.01412428]...  : original score 0.29196346, normalized score: 0.40301123',\n",
       "  'score': '0.40301123'},\n",
       " {'content': \"You really want to understand and get outside what's happening in the United States ecosystem. Watch the CBC or Al Jazeera or Deutsche Welle or NHK in Japan. Just watch their English language news once a week for half an hour, an hour. It's not very exciting, but it's like a completely external view of what the hell is going on in the United States and the rest of the world. And that forced you. First of all, it's long form, right? It's not the headlines beating you down. And secondly, it's like you don't actually have your anchor of all of the things that are stirring you up. They're not even playing with that. They're just kind of reporting on the best they can tell what the hell is going on. And then they're occasionally talking to people like that are locals and whatnot, but from every side that that's very valuable. But the thing that worries me about AI, I don't believe that AI is becoming much more like human beings. They're not faking us out by by just being it by being able to replicate me.\",\n",
       "  'doc_id': 'nXJBccSwtB8_28',\n",
       "  'episode_url': 'https://www.youtube.com/watch?v=nXJBccSwtB8&list=PL8qcvQ7Byc3OJ02hbWJbHWePh4XEg3cvo',\n",
       "  'guest': 'Ian Bremmer',\n",
       "  'length': 5410,\n",
       "  'thumbnail_url': 'https://i.ytimg.com/vi/nXJBccSwtB8/hq720.jpg',\n",
       "  'title': \"THE BIG AI RESET: The Next Global SuperPower Isn't Who You Think | Ian Bremmer\",\n",
       "  'video_id': 'nXJBccSwtB8',\n",
       "  'views': 138628,\n",
       "  'explainScore': '(bm25): original score 3.8403447, normalized score: 0.40182698',\n",
       "  'score': '0.40182698'},\n",
       " {'content': \"So I've worked in the inner cities a lot. And one thing I've noticed is that the inner city breaks almost everyone that it touches. But there are a few people that manage to be so transformed by it, whether it's out of I never want to go back, whether it's it just hardened them and they had to be smart to survive, whatever it is, there's a certain set of lessons that some people learn that then propel them so hard, so far, so fast out of the inner cities that they go on to accomplish just truly extraordinary things. Needless to say, put your name among those people. So walk us through, what were some of the key moments that you experienced as a kid? And how did you end up interpreting it in a way that pushed you forward, even if it was just I have to get the hell away from this? Yeah. I feel like there are a lot of moments where it's just like light bulb click. But I feel like one thing that I had that a lot of people don't have is even though I had a lot of experience seeing the stuff that happens in our communities, I also had access to the other side.\",\n",
       "  'doc_id': 'RXo4WSt9lc4_15',\n",
       "  'episode_url': 'https://www.youtube.com/watch?v=RXo4WSt9lc4&list=PL8qcvQ7Byc3OJ02hbWJbHWePh4XEg3cvo',\n",
       "  'guest': 'Tom Bilyeu',\n",
       "  'length': 1708,\n",
       "  'thumbnail_url': 'https://i.ytimg.com/vi/RXo4WSt9lc4/hq720.jpg',\n",
       "  'title': '6 Experts Share Important Lessons on Being Grateful | Impact Theory',\n",
       "  'video_id': 'RXo4WSt9lc4',\n",
       "  'views': 73254,\n",
       "  'explainScore': '(vector) [0.13541497 0.03338659 -0.0019899565 0.048069205 0.028292986 0.0010872943 -0.0057838964 -0.083339 -0.036647454 -0.01412428]...  : original score 0.28782237, normalized score: 0.3898483',\n",
       "  'score': '0.3898483'},\n",
       " {'content': \"But what did you learn in the inner cities? I didn't really learn anything. I just knew I had to get out. When I sat in front of a television, man, I just saw things that I didn't see when I walked out my front door. I lived in a, it was two parents and nine kids living in a one bedroom shotgun house. If you don't know what a shotgun house is, you open the front door and you can shoot a gun out the back door and it doesn't hit anybody. So I know exactly where I grew up and I knew I knew exactly the environment that I saw on TV was not around here. I grew up. I rode a city bus. I didn't see a black person till I got downtown. TV is amazing to me, man, because, you know, information is amazing. I think that if you give people in inner city information, they will get out a lot faster. But what happens is if every one of my friends that I hung out with, if we all stayed in the inner city, I would not be sitting here.\",\n",
       "  'doc_id': '1QdMfSTMYoU_26',\n",
       "  'episode_url': 'https://www.youtube.com/watch?v=1QdMfSTMYoU&list=PL8qcvQ7Byc3OJ02hbWJbHWePh4XEg3cvo',\n",
       "  'guest': 'Rushion McDonald',\n",
       "  'length': 2181,\n",
       "  'thumbnail_url': 'https://i.ytimg.com/vi/1QdMfSTMYoU/hq720.jpg',\n",
       "  'title': 'How to Reinvent Yourself At Any Age | Rushion McDonald on Impact Theory',\n",
       "  'video_id': '1QdMfSTMYoU',\n",
       "  'views': 1072887,\n",
       "  'explainScore': '(vector) [0.13541497 0.03338659 -0.0019899565 0.048069205 0.028292986 0.0010872943 -0.0057838964 -0.083339 -0.036647454 -0.01412428]...  : original score 0.2853554, normalized score: 0.3820067',\n",
       "  'score': '0.3820067'},\n",
       " {'content': \"Needs to bump their knee a little bit and understand that it's not that bad. Tom Bilyeu Yeah. I've heard you say that sometimes it's good to have your back against the wall. I have a theory about the inner cities, so I've worked in the inner cities a lot. One thing I've noticed is that the inner city breaks almost everyone that it touches, but there are a few people that manage to be so transformed by it, whether it's out of I never want to go back, whether it's it just hardened them and they had to be smart to survive, whatever it is, there's a certain set of lessons that some people learn that then propel them so hard, so far, so fast out of the inner cities that they go on to accomplish just truly extraordinary things. Needless to say, put your name among those people. Walk us through, what were some of the key moments that you experienced as a kid, and how did you end up interpreting it in a way that pushed you forward, even if it was just I have to get the hell away from this? Jullien Gordon Yeah.\",\n",
       "  'doc_id': 'ldgWOQvoZs8_14',\n",
       "  'episode_url': 'https://www.youtube.com/watch?v=ldgWOQvoZs8&list=PL8qcvQ7Byc3OJ02hbWJbHWePh4XEg3cvo',\n",
       "  'guest': 'Chamillionaire',\n",
       "  'length': 2730,\n",
       "  'thumbnail_url': 'https://i.ytimg.com/vi/ldgWOQvoZs8/hq720.jpg',\n",
       "  'title': 'How This Famous Rapper Hustled to Become a Successful Investor | Chamillionaire on Impact Theory',\n",
       "  'video_id': 'ldgWOQvoZs8',\n",
       "  'views': 589240,\n",
       "  'explainScore': '(vector) [0.13541497 0.03338659 -0.0019899565 0.048069205 0.028292986 0.0010872943 -0.0057838964 -0.083339 -0.036647454 -0.01412428]...  : original score 0.28011912, normalized score: 0.3653626',\n",
       "  'score': '0.3653626'},\n",
       " {'content': \"The main difference is that it's physically distributed rather than concentrated in one place. So it might have the total land area of Estonia, collectively owned by the people, but just spread all over the world in ranches, and subdivisions, and towns, and cul-de-sacs. Like, imagine a China town was actually collectively owned by the people, and part of a global network of them, okay? And just to see how a network state could build out, do you see this GIF on screen? All right, so I'm just going to play this. It starts from one person in Tokyo, okay? If I play this, you go from one person in Tokyo, they're just making, you know, this is how a founder could go from one to a million, right? One, then 17 people, 172, 1,729, 17,000, 170,000, and so on. This is how the network state builds out, okay? And you essentially recruit people from around the world who have this collective elucidation, and they crowdfund larger and larger things until you start a new country. As crazy as that is, right?\",\n",
       "  'doc_id': 'l4fLax7S2Q0_227',\n",
       "  'episode_url': 'https://www.youtube.com/watch?v=l4fLax7S2Q0&list=PL8qcvQ7Byc3OJ02hbWJbHWePh4XEg3cvo',\n",
       "  'guest': 'Balaji Srinivasan',\n",
       "  'length': 16255,\n",
       "  'thumbnail_url': 'https://i.ytimg.com/vi/l4fLax7S2Q0/hq720.jpg',\n",
       "  'title': 'EMERGENCY EPISODE: Why This Financial Crisis Is WORSE Than 2008 | Balaji Srinivasan',\n",
       "  'video_id': 'l4fLax7S2Q0',\n",
       "  'views': 528422,\n",
       "  'explainScore': '(vector) [0.13541497 0.03338659 -0.0019899565 0.048069205 0.028292986 0.0010872943 -0.0057838964 -0.083339 -0.036647454 -0.01412428]...  : original score 0.27507627, normalized score: 0.34933332',\n",
       "  'score': '0.34933332'},\n",
       " {'content': \"If competition shows up, I have to out-service them, out-work them, out-social media them versus shrivel up and die. So if you met someone who literally they're fresh off the boat here from somewhere, communist country, don't speak the language, you know what's in store for them. And I give you like an hour with them. What are like some key principles that you're going to teach them to endure? Ooh, great question. Thing number one is don't go find where the group of your people are. In other words, if my dad had come to Southern California and instead of living in Santa Ana, Anaheim, Garden Grove, that area, if we had moved to Glendale where there's a whole bunch of Armenians, we would not thrive like this. We would not thrive because it blows me away when immigrants come to this country and then they go to little Italy, little Armenia, little Saigon. Get the fuck out of little Saigon. Go to little white America. Learn the language. Assimilate. Understand the culture. Blend into the fucking fiber of this country because when you do, life becomes increasingly easier.\",\n",
       "  'doc_id': '0z2Kio2xlGI_21',\n",
       "  'episode_url': 'https://www.youtube.com/watch?v=0z2Kio2xlGI&list=PL8qcvQ7Byc3OJ02hbWJbHWePh4XEg3cvo',\n",
       "  'guest': 'Bedros Keuilian',\n",
       "  'length': 2699,\n",
       "  'thumbnail_url': 'https://i.ytimg.com/vi/0z2Kio2xlGI/hq720.jpg',\n",
       "  'title': 'How to Build Success from Nothing | Bedros Keuilian on Impact Theory',\n",
       "  'video_id': '0z2Kio2xlGI',\n",
       "  'views': 579479,\n",
       "  'explainScore': '(vector) [0.13541497 0.03338659 -0.0019899565 0.048069205 0.028292986 0.0010872943 -0.0057838964 -0.083339 -0.036647454 -0.01412428]...  : original score 0.2669134, normalized score: 0.32338673',\n",
       "  'score': '0.32338673'},\n",
       " {'content': \"Tall poppy syndrome, what's that? It is basically a consciousness because Australia was a convict place, it's where England pushed all their convicts, this idea that the tallest poppy is the one that gets chopped down. You keep yourself sort of level with everyone else and nobody wants to be too successful or too boisterous or big because you will be chopped down by everybody in your community. That is actually a thing. It doesn't show up in the US. It's the exact opposite. You can have a Mercedes and live with your mom because you want to pretend like you're better than everyone else. Every place has its own thing. I just got back from London, England and their thing is the stiff upper lip, don't talk to me, I'm taking care of myself right now. All of those things don't work, they don't work. Tanzania, yes, everywhere has a thing. The degree from which they are receiving Western influence has a big part of it for me in my experience. Because they're not being bombarded with imagery that tells them that they're not good enough, community is still probably number one on the list.\",\n",
       "  'doc_id': '7O_yR9WVSFw_29',\n",
       "  'episode_url': 'https://www.youtube.com/watch?v=7O_yR9WVSFw&list=PL8qcvQ7Byc3OJ02hbWJbHWePh4XEg3cvo',\n",
       "  'guest': 'Preston Smiles',\n",
       "  'length': 2447,\n",
       "  'thumbnail_url': 'https://i.ytimg.com/vi/7O_yR9WVSFw/hq720.jpg',\n",
       "  'title': 'How to Love the Process | Preston Smiles on Impact Theory',\n",
       "  'video_id': '7O_yR9WVSFw',\n",
       "  'views': 189840,\n",
       "  'explainScore': '(vector) [0.13541497 0.03338659 -0.0019899565 0.048069205 0.028292986 0.0010872943 -0.0057838964 -0.083339 -0.036647454 -0.01412428]...  : original score 0.25801206, normalized score: 0.2950927',\n",
       "  'score': '0.2950927'},\n",
       " {'content': \"In the context of what you just said, that was jarring for me just to hear you describe it about the human warmth, the human connection, and then to go to a place like Harvard in Western civilization and to feel more distant, more disconnected and ultimately then that becomes the beginning of the emotional distress that you go through. How do we reconcile that? What are your thoughts around the disconnect of the traditional Western lifestyle and the beauties that are in these rural villages that you're trying to really help? You're trying to help them with these Western ideals. It's pretty fascinating. Jessica Flanigan I know. It's such an odd juxtaposition because I find that some of my happiest moments are when I have very little and I'm in a place like rural Ghana or one of the places I love most in the world is rural northern Uganda, which is just stunning. It's pristine. I've had so many amazing experiences of just deep connection with the land but also with people. I think there's a certain vulnerability that comes from not having a lot of stuff. When you're poor, you depend on each other.\",\n",
       "  'doc_id': '4G-YmXS9_bs_44',\n",
       "  'episode_url': 'https://www.youtube.com/watch?v=4G-YmXS9_bs&list=PL8qcvQ7Byc3OJ02hbWJbHWePh4XEg3cvo',\n",
       "  'guest': 'Leila Janah',\n",
       "  'length': 3202,\n",
       "  'thumbnail_url': 'https://i.ytimg.com/vi/4G-YmXS9_bs/hq720.jpg',\n",
       "  'title': 'From Cleaning Toilets to CEO, Leila Janah on How Rejection Is Inevitable & the Key to Success & Grit',\n",
       "  'video_id': '4G-YmXS9_bs',\n",
       "  'views': 186204,\n",
       "  'explainScore': '(vector) [0.13541497 0.03338659 -0.0019899565 0.048069205 0.028292986 0.0010872943 -0.0057838964 -0.083339 -0.036647454 -0.01412428]...  : original score 0.25110006, normalized score: 0.27312213',\n",
       "  'score': '0.27312213'},\n",
       " {'content': \"I'm almost certain that I have the exact quote here I Have molded my life around the fact that work is the best way to move people out of poverty and that work is at the Core of human dignity, but it's not all that there is so in the context of what you just said like That's that was jarring for me just to hear you describe it about the human warmth the human connection and then to go to a place Like Harvard in you know Western civilization and to feel more distant more disconnected and ultimately then sort of that becomes the beginning of The emotional distress that you go through like how do we reconcile that? like what are your thoughts around the the disconnect of The traditional Western lifestyle and the beauties that are in these rural villages that you're trying to to really help You're trying to help them with like these Western ideals. It's pretty fascinating I know and it's such an odd juxtaposition because you know I find that some of my happiest moments are when I have very little and I'm in a place like rural Ghana or one of The places I love most in the world is rural northern Uganda, which is just stunning.\",\n",
       "  'doc_id': '0gVTnivW2lE_50',\n",
       "  'episode_url': 'https://www.youtube.com/watch?v=0gVTnivW2lE&list=PL8qcvQ7Byc3OJ02hbWJbHWePh4XEg3cvo',\n",
       "  'guest': 'Leila Janah',\n",
       "  'length': 3326,\n",
       "  'thumbnail_url': 'https://i.ytimg.com/vi/0gVTnivW2lE/hq720.jpg',\n",
       "  'title': 'The Keys to Building Character | Leila Janah on Impact Theory',\n",
       "  'video_id': '0gVTnivW2lE',\n",
       "  'views': 208730,\n",
       "  'explainScore': '(vector) [0.13541497 0.03338659 -0.0019899565 0.048069205 0.028292986 0.0010872943 -0.0057838964 -0.083339 -0.036647454 -0.01412428]...  : original score 0.24850553, normalized score: 0.2648751',\n",
       "  'score': '0.2648751'},\n",
       " {'content': \"No, this was in a hospital. And so I worked in a hospital in Arctic Alaska. And then I was a hospital in Arctic Alaska. Yeah, more than one, actually. Well, so there's one. So these are towns. These are towns. Yeah, I got it. I also worked on a cruise ship in the Russian Arctic that went to this island called Wrangell Island, which is sort of just northwest of the Bering Strait, has a lot of polar bears there. And it was totally spectacular. And so I was the doctor on that ship for about 50 people. And these boats are very well stocked. I was actually surprised. But every northern summer, there's a lot of cruise ships that are going through the Arctic, visiting places like Iceland and Greenland and Alaska and Svalbard, which is the archipelago above Norway, and Franz Josef Land in the Russian Arctic and Wrangell Island. And then in the southern summer, they're going to the South Pacific Islands and Atlantic Islands like the Falklands and Antarctica. This is a huge industry.\",\n",
       "  'doc_id': 'Dzlg17y0IMM_131',\n",
       "  'episode_url': 'https://www.youtube.com/watch?v=Dzlg17y0IMM&list=PL8qcvQ7Byc3OJ02hbWJbHWePh4XEg3cvo',\n",
       "  'guest': 'Jonathan Reisman',\n",
       "  'length': 8595,\n",
       "  'thumbnail_url': 'https://i.ytimg.com/vi/Dzlg17y0IMM/hq720.jpg',\n",
       "  'title': 'VEGANS VS MEAT EATERS: Who Will Live Longer & Why You Should Care! | Jonathan Reisman',\n",
       "  'video_id': 'Dzlg17y0IMM',\n",
       "  'views': 57838,\n",
       "  'explainScore': '(vector) [0.13541497 0.03338659 -0.0019899565 0.048069205 0.028292986 0.0010872943 -0.0057838964 -0.083339 -0.036647454 -0.01412428]...  : original score 0.24602526, normalized score: 0.25699127',\n",
       "  'score': '0.25699127'},\n",
       " {'content': \"It doesn't necessarily have to mean that it's coming from a negative place or that's why I understand Japanese culture. I don't feel like they mean it maliciously. They literally don't understand. They're so lovely. I consider moving there. But at the same time, I get it. White people tend to have a hard time. Outsiders. They have a real problem with foreigners. Right. Okay. What do they think you're going to do? I have no idea. That I won't speak to. I don't know enough about it. But I know some people that grew up in America that now live there. And they're like, bro, when they had a breakdown of who got the vaccine when, it was like foreigners were in 97th place. It was like every conceivable stack of Japanese person. And then the sickest, oldest foreigner. Then they could finally get it. But it was like your perfectly healthy 19-year-old Japanese kid, 100% was getting the vaccine before you. You know what, there's a weirdness to it.\",\n",
       "  'doc_id': '9I39boHZYjI_205',\n",
       "  'episode_url': 'https://www.youtube.com/watch?v=9I39boHZYjI&list=PL8qcvQ7Byc3OJ02hbWJbHWePh4XEg3cvo',\n",
       "  'guest': 'Sadia Khan',\n",
       "  'length': 12641,\n",
       "  'thumbnail_url': 'https://i.ytimg.com/vi/9I39boHZYjI/hqdefault.jpg?sqp=-oaymwEXCJADEOABSFryq4qpAwkIARUAAIhCGAE=&rs=AOn4CLDMm39lIbI-aBDkCM1MoXAMpAEAkg',\n",
       "  'title': 'Mastering Sex, Power, Gender Roles, & The Secret to Maintaining Relationships That Last | Sadia Khan',\n",
       "  'video_id': '9I39boHZYjI',\n",
       "  'views': 267904,\n",
       "  'explainScore': '(vector) [0.13541497 0.03338659 -0.0019899565 0.048069205 0.028292986 0.0010872943 -0.0057838964 -0.083339 -0.036647454 -0.01412428]...  : original score 0.24354708, normalized score: 0.24911408',\n",
       "  'score': '0.24911408'},\n",
       " {'content': \"I mean, often when you're going to those places, you're doing something physical, let's say hiking or some kind of expedition or mission. And there's a whole bunch of kind of emotionally satisfying and intellectually satisfying and sort of social cohesion things going on when you're in some kind of mission-based plan or on that course of activity. And I think that there's something very satisfying about that. There's very satisfying things about sort of being out in nature where sort of things like geography and climate and weather are important. You know, I'm not in a hospital in the middle of a city where the temperature is controlled. It never rains. I don't even know what the weather's like outside because I haven't looked out a window in some hours. You know, everything smells like disinfectant and all the sounds are beeping and phones ringing and not sort of birds chirping or splashing of animals or whatever. So I think being out in those places is interesting from the natural world standpoint, seeing different ecosystems, different plants and animals.\",\n",
       "  'doc_id': 'Dzlg17y0IMM_110',\n",
       "  'episode_url': 'https://www.youtube.com/watch?v=Dzlg17y0IMM&list=PL8qcvQ7Byc3OJ02hbWJbHWePh4XEg3cvo',\n",
       "  'guest': 'Jonathan Reisman',\n",
       "  'length': 8595,\n",
       "  'thumbnail_url': 'https://i.ytimg.com/vi/Dzlg17y0IMM/hq720.jpg',\n",
       "  'title': 'VEGANS VS MEAT EATERS: Who Will Live Longer & Why You Should Care! | Jonathan Reisman',\n",
       "  'video_id': 'Dzlg17y0IMM',\n",
       "  'views': 57838,\n",
       "  'explainScore': '(vector) [0.13541497 0.03338659 -0.0019899565 0.048069205 0.028292986 0.0010872943 -0.0057838964 -0.083339 -0.036647454 -0.01412428]...  : original score 0.23952556, normalized score: 0.2363312',\n",
       "  'score': '0.2363312'},\n",
       " {'content': \"If you hadn't learned it yet, not gonna learn it. Well, I've just graduated high school. I got 45 bucks in my pocket from a job. I got, I got a four handicap. I've just made two holes in ones, 11 days apart last month. I got the best, I'm taking the best looking girl in my school and across town. I've made straight A's so mom and dad are super happy. I got a car that's paid for and I got no curfew. And right out of that, I decided I'm going to go away to Australia to be an exchange student. It was Australia or Sweden. And I remember writing down my 18 year old mind, sunny beaches, Elle McPherson, English speaking, Australia. So I head off to Australia and I'm told by this family that I'm gonna live with we live here. It's a beautiful place. We live on the outskirts of Sydney. You're going to love it. Well, very quickly after I meet this family and three hour drive out of Sydney, which is a bit of an exaggeration of what the outskirts are.\",\n",
       "  'doc_id': 'WQ5HQ6z9uIk_14',\n",
       "  'episode_url': 'https://www.youtube.com/watch?v=WQ5HQ6z9uIk&list=PL8qcvQ7Byc3OJ02hbWJbHWePh4XEg3cvo',\n",
       "  'guest': 'Matthew McConaughey',\n",
       "  'length': 3773,\n",
       "  'thumbnail_url': 'https://i.ytimg.com/vi/WQ5HQ6z9uIk/hq720.jpg',\n",
       "  'title': 'Matthew McConaughey Shares his Trick for Getting What You Want',\n",
       "  'video_id': 'WQ5HQ6z9uIk',\n",
       "  'views': 685528,\n",
       "  'explainScore': '(vector) [0.13541497 0.03338659 -0.0019899565 0.048069205 0.028292986 0.0010872943 -0.0057838964 -0.083339 -0.036647454 -0.01412428]...  : original score 0.23663318, normalized score: 0.22713743',\n",
       "  'score': '0.22713743'},\n",
       " {'content': \"I'm guessing as you get into these more remote places that that sort of drops away to next to nothing, or maybe I'm wrong about that. What have you found? Yeah, so it's interesting, you know, if you go from the city to a rural area in America, right? You're sort of moving towards wilderness, but the obesity doesn't drop there for sure. In fact, a lot of obesity in rural America. I would guess it actually goes up, right? So there's a lot of socioeconomics that come into play there. But yeah, so, you know, rural parts of America or other developed countries, you don't see less obesity. You know, there's so much has been mechanized about the way of life that not that physical exertion is the only part. I think nutrition is a big part of it, too, of course. And I think probably other things we don't understand have resulted in. But wait, wouldn't people out in rural America work more, not less? Like physically? Yeah. Well, I mean, so much of it has been mechanized.\",\n",
       "  'doc_id': 'Dzlg17y0IMM_115',\n",
       "  'episode_url': 'https://www.youtube.com/watch?v=Dzlg17y0IMM&list=PL8qcvQ7Byc3OJ02hbWJbHWePh4XEg3cvo',\n",
       "  'guest': 'Jonathan Reisman',\n",
       "  'length': 8595,\n",
       "  'thumbnail_url': 'https://i.ytimg.com/vi/Dzlg17y0IMM/hq720.jpg',\n",
       "  'title': 'VEGANS VS MEAT EATERS: Who Will Live Longer & Why You Should Care! | Jonathan Reisman',\n",
       "  'video_id': 'Dzlg17y0IMM',\n",
       "  'views': 57838,\n",
       "  'explainScore': '(vector) [0.13541497 0.03338659 -0.0019899565 0.048069205 0.028292986 0.0010872943 -0.0057838964 -0.083339 -0.036647454 -0.01412428]...  : original score 0.23475385, normalized score: 0.22116375',\n",
       "  'score': '0.22116375'},\n",
       " {'content': \"And several points here, right? The first is that you don't have to disclose, you know, like your membership in this community. For example, when you walk down the street, yeah, some buildings have logos on them, but do you know who's living in what place? Do you have x-ray glasses? Like your augmented reality glasses don't necessarily give you information on who's there, right? People could be Christian, they could be Mormon, whatever, right? All the type of stuff. So number one is these communities don't need to be perceptible or visible to everybody. Not everybody needs to be able to see the map or the full map. Maybe you need to hold an NFT to see some of it. Maybe in some jurisdictions where one node of the network is persecuted, it's invisible, okay? So invisibility is a big part of security, okay? Like stealth, just like a stealth bomber, except it's a stealth, don't get bombed. That's it.\",\n",
       "  'doc_id': 'l4fLax7S2Q0_253',\n",
       "  'episode_url': 'https://www.youtube.com/watch?v=l4fLax7S2Q0&list=PL8qcvQ7Byc3OJ02hbWJbHWePh4XEg3cvo',\n",
       "  'guest': 'Balaji Srinivasan',\n",
       "  'length': 16255,\n",
       "  'thumbnail_url': 'https://i.ytimg.com/vi/l4fLax7S2Q0/hq720.jpg',\n",
       "  'title': 'EMERGENCY EPISODE: Why This Financial Crisis Is WORSE Than 2008 | Balaji Srinivasan',\n",
       "  'video_id': 'l4fLax7S2Q0',\n",
       "  'views': 528422,\n",
       "  'explainScore': '(vector) [0.13541497 0.03338659 -0.0019899565 0.048069205 0.028292986 0.0010872943 -0.0057838964 -0.083339 -0.036647454 -0.01412428]...  : original score 0.2346412, normalized score: 0.22080567',\n",
       "  'score': '0.22080567'}]"
      ]
     },
     "execution_count": 23,
     "metadata": {},
     "output_type": "execute_result"
    },
    {
     "name": "stderr",
     "output_type": "stream",
     "text": [
      "Bad pipe message: %s [b'\\xaa\\xb5\\xf9\\x0c\\xd8k\\xd0\\xb0\\xb7\\xa6\\x95@\\x8c_H\\x93\\x1a\\x9a D3>YWs\\x05&\\x05\\x11\\x8d\\x1a\\xffe\\xd45AO\\x18\\xd6\\xa6\\x17;\\xf9\\xafp3\\x80a\\x10&N\\x00\\x08\\x13\\x02\\x13\\x03\\x13\\x01\\x00\\xff\\x01\\x00\\x00\\x8f\\x00\\x00\\x00\\x0e\\x00\\x0c\\x00\\x00\\t127.0.0.1\\x00\\x0b\\x00\\x04\\x03\\x00\\x01\\x02\\x00\\n\\x00\\x0c\\x00\\n\\x00\\x1d\\x00\\x17\\x00\\x1e\\x00\\x19\\x00\\x18\\x00#\\x00\\x00\\x00\\x16\\x00\\x00\\x00\\x17\\x00\\x00\\x00\\r\\x00\\x1e\\x00\\x1c\\x04\\x03\\x05\\x03\\x06\\x03\\x08\\x07\\x08\\x08\\x08\\t']\n",
      "Bad pipe message: %s [b'\\x08\\x0b\\x08\\x04\\x08\\x05\\x08']\n",
      "Bad pipe message: %s [b'\\x01\\x05\\x01\\x06\\x01']\n",
      "Bad pipe message: %s [b'\\tu \\xb4~\\xe7\\x81\\xbb\\xd9\\x94uj\\x04\\xec\\x01\\x8c\\xc6\\xe7\\x00\\x00\\xa6\\xc0,\\xc00\\x00\\xa3\\x00\\x9f\\xcc\\xa9\\xcc\\xa8\\xcc\\xaa\\xc0\\xaf\\xc0\\xad\\xc0\\xa3\\xc0\\x9f\\xc0]\\xc0a\\xc0W\\xc0S\\xc0+\\xc0/\\x00\\xa2\\x00']\n",
      "Bad pipe message: %s [b\"\\xae\\xc0\\xac\\xc0\\xa2\\xc0\\x9e\\xc0\\\\\\xc0`\\xc0V\\xc0R\\xc0$\\xc0(\\x00k\\x00j\\xc0s\\xc0w\\x00\\xc4\\x00\\xc3\\xc0#\\xc0'\\x00g\\x00@\\xc0r\\xc0v\\x00\\xbe\\x00\\xbd\\xc0\\n\\xc0\\x14\\x009\\x008\\x00\\x88\\x00\\x87\\xc0\\t\\xc0\\x13\\x003\\x002\\x00\\x9a\\x00\\x99\\x00E\\x00D\\xc0\\x07\\xc0\\x11\\xc0\\x08\\xc0\\x12\\x00\\x16\\x00\\x13\\x00\\x9d\\xc0\\xa1\\xc0\\x9d\\xc0Q\\x00\\x9c\\xc0\\xa0\\xc0\\x9c\\xc0P\\x00=\\x00\\xc0\\x00<\\x00\\xba\\x005\\x00\\x84\\x00/\\x00\\x96\\x00A\\x00\\x05\\x00\\n\\x00\\xff\\x01\\x00\\x00j\\x00\\x00\\x00\\x0e\\x00\\x0c\\x00\\x00\\t127.0.0.1\\x00\\x0b\\x00\\x04\\x03\\x00\\x01\\x02\"]\n",
      "Bad pipe message: %s [b'\\xe2\\x1a\"\\tf\\xb3\\x08\\xac\\xbc\\xb5\\xc0s\\x18\\x98\\x1b*J\\x1b\\x00\\x00\\xa2\\xc0\\x14\\xc0\\n\\x009\\x008\\x007\\x006\\x00\\x88\\x00\\x87\\x00\\x86\\x00\\x85\\xc0\\x19\\x00:\\x00\\x89\\xc0\\x0f\\xc0\\x05\\x005\\x00\\x84\\xc0\\x13\\xc0\\t\\x003\\x002\\x001\\x000\\x00\\x9a\\x00\\x99\\x00\\x98\\x00\\x97\\x00E\\x00D\\x00C\\x00B\\xc0\\x18\\x004\\x00\\x9b\\x00F\\xc0\\x0e\\xc0\\x04\\x00/\\x00\\x96\\x00A\\x00\\x07\\xc0\\x11\\xc0\\x07\\xc0\\x16\\x00\\x18\\xc0\\x0c\\xc0\\x02\\x00\\x05\\x00\\x04\\xc0\\x12\\xc0\\x08\\x00\\x16\\x00\\x13\\x00\\x10\\x00\\r\\xc0\\x17\\x00\\x1b\\xc0\\r\\xc0\\x03\\x00\\n\\x00\\x15\\x00\\x12\\x00\\x0f\\x00\\x0c\\x00\\x1a\\x00\\t\\x00\\x14\\x00\\x11\\x00\\x19\\x00\\x08\\x00\\x06\\x00\\x17\\x00\\x03\\xc0\\x10\\xc0\\x06\\xc0\\x15\\xc0\\x0b\\xc0\\x01\\x00\\x02\\x00\\x01\\x00\\xff']\n",
      "Bad pipe message: %s [b':\\xe9\\xc2f\\x9c\\xc7%Q\\xb0\\xe0\\xf2W\\xaf\\xaa\\xbb7\\x9fc\\x00\\x00\\xa2\\xc0\\x14\\xc0\\n\\x009\\x008\\x007\\x006\\x00\\x88\\x00\\x87\\x00\\x86']\n",
      "Bad pipe message: %s [b'\\xa0d\\x86 \\x85\\xfazG\\x88\\xbaM\\xa9+Nm\\x9e\\xc7\\xcf\\x00\\x00\\xa2\\xc0\\x14\\xc0\\n\\x009\\x008\\x007\\x006\\x00\\x88\\x00\\x87\\x00\\x86\\x00\\x85\\xc0\\x19\\x00:\\x00\\x89\\xc0\\x0f\\xc0\\x05\\x005\\x00\\x84\\xc0', b'\\t\\x003\\x002\\x001\\x000\\x00\\x9a\\x00\\x99\\x00\\x98\\x00\\x97\\x00']\n",
      "Bad pipe message: %s [b'D\\x00C\\x00B\\xc0\\x18\\x004\\x00\\x9b\\x00F\\xc0\\x0e\\xc0\\x04\\x00/\\x00\\x96\\x00A\\x00\\x07\\xc0\\x11\\xc0\\x07\\xc0\\x16\\x00\\x18\\xc0\\x0c\\xc0\\x02\\x00\\x05\\x00\\x04\\xc0\\x12\\xc0\\x08\\x00\\x16\\x00\\x13\\x00\\x10\\x00\\r\\xc0\\x17\\x00\\x1b\\xc0\\r\\xc0\\x03\\x00\\n\\x00\\x15\\x00\\x12\\x00']\n",
      "Bad pipe message: %s [b'\\x0c\\x00\\x1a\\x00\\t\\x00\\x14\\x00\\x11\\x00\\x19\\x00\\x08\\x00']\n",
      "Bad pipe message: %s [b'\\x17\\x00\\x03\\xc0\\x10']\n",
      "Bad pipe message: %s [b'\\x0bor\\xfeK\\xac,&\\x08\\xdc\\xd1X\"O\\xf1T:\\x1c\\x00\\x00\\x86\\xc00\\xc0,\\xc0(\\xc0$\\xc0\\x14\\xc0\\n\\x00\\xa5\\x00\\xa3\\x00\\xa1']\n",
      "Bad pipe message: %s [b'\\xb1Q($F\\x86Y\\x96l\\x8d\\x07\\xb5\\x0bF2\\x99sJ \\xa2\\x0e\\xb6\\x84\\xea\\x1d\\x8c\\x8f7\\xff\\xd3\\x1b\\x03\\xb1\\x05\\xeb\\xb6\\xd0\\xdbr\\xce~?\\x11\\xcb\\x96l\\xbb_\\xd0\\xfcn\\x00\\x08\\x13\\x02\\x13\\x03\\x13\\x01\\x00\\xff\\x01\\x00\\x00\\x8f\\x00\\x00\\x00\\x0e\\x00\\x0c\\x00\\x00\\t127.0.0.1\\x00\\x0b\\x00\\x04\\x03\\x00\\x01\\x02\\x00\\n\\x00\\x0c\\x00\\n\\x00\\x1d\\x00\\x17\\x00\\x1e\\x00\\x19\\x00\\x18\\x00#\\x00\\x00\\x00\\x16\\x00\\x00\\x00\\x17\\x00\\x00\\x00\\r\\x00\\x1e\\x00\\x1c\\x04\\x03\\x05\\x03\\x06\\x03\\x08\\x07\\x08\\x08\\x08\\t\\x08\\n\\x08\\x0b\\x08\\x04\\x08\\x05\\x08\\x06\\x04\\x01\\x05\\x01\\x06\\x01\\x00+\\x00\\x03\\x02\\x03\\x04\\x00-\\x00\\x02\\x01\\x01\\x003\\x00&\\x00$\\x00\\x1d\\x00 \\xb6u']\n",
      "Bad pipe message: %s [b\"\\x95 =I\\xe9\\x84\\xfd\\xb0?\\xc1\\xe9\\xdd\\xd9\\x8d\\xf9#\\xcb4\\x00\\x00|\\xc0,\\xc00\\x00\\xa3\\x00\\x9f\\xcc\\xa9\\xcc\\xa8\\xcc\\xaa\\xc0\\xaf\\xc0\\xad\\xc0\\xa3\\xc0\\x9f\\xc0]\\xc0a\\xc0W\\xc0S\\xc0+\\xc0/\\x00\\xa2\\x00\\x9e\\xc0\\xae\\xc0\\xac\\xc0\\xa2\\xc0\\x9e\\xc0\\\\\\xc0`\\xc0V\\xc0R\\xc0$\\xc0(\\x00k\\x00j\\xc0#\\xc0'\\x00g\\x00@\\xc0\\n\\xc0\\x14\\x009\\x008\\xc0\\t\\xc0\\x13\\x003\\x002\\x00\\x9d\\xc0\\xa1\\xc0\\x9d\\xc0Q\\x00\\x9c\\xc0\\xa0\\xc0\\x9c\\xc0P\\x00=\\x00<\\x005\\x00/\\x00\\x9a\\x00\\x99\\xc0\\x07\\xc0\\x11\\x00\\x96\\x00\\x05\\x00\\xff\\x01\\x00\\x00j\\x00\\x00\\x00\\x0e\\x00\\x0c\\x00\\x00\\t127.0.0.1\\x00\\x0b\\x00\\x04\", b'\\x01\\x02']\n",
      "Bad pipe message: %s [b'\\xceT4\\x1b\\x07\\x8eG\\x0cUs\\x08z\\xab\\xee\\\\\\xa5DL\\x00\\x00\\xa6\\xc0,\\xc00\\x00\\xa3\\x00\\x9f\\xcc\\xa9\\xcc\\xa8\\xcc\\xaa\\xc0\\xaf\\xc0\\xad\\xc0\\xa3\\xc0\\x9f']\n",
      "Bad pipe message: %s [b'\\xa4\\x84Z\\x88_\\x90\\xcf\\x1e+\\r[\\xa9\\x7f\\xa3\\x85\\xb5a\\xf2\\x00\\x00>\\xc0\\x14\\xc0\\n\\x009\\x008\\x007\\x006\\xc0\\x0f\\xc0\\x05\\x005\\xc0\\x13\\xc0\\t\\x003\\x002\\x001\\x000\\xc0\\x0e\\xc0\\x04\\x00/\\x00\\x9a\\x00\\x99\\x00\\x98\\x00\\x97\\x00\\x96\\x00\\x07\\xc0\\x11\\xc0\\x07\\xc0\\x0c\\xc0\\x02\\x00\\x05\\x00\\x04\\x00\\xff\\x02\\x01\\x00\\x00C\\x00\\x00\\x00\\x0e\\x00\\x0c\\x00\\x00\\t127.0.0.1\\x00\\x0b\\x00\\x04\\x03\\x00\\x01\\x02\\x00\\n\\x00\\x1c\\x00\\x1a\\x00\\x17\\x00\\x19\\x00\\x1c\\x00\\x1b\\x00\\x18\\x00\\x1a\\x00\\x16\\x00\\x0e\\x00\\r\\x00\\x0b\\x00\\x0c\\x00\\t\\x00\\n\\x00#\\x00\\x00\\x00\\x0f\\x00']\n",
      "Bad pipe message: %s [b'\\xb9\\xdbRh\\xaa}\\x80\\x85\\\\X\\xe2w\\xa2IvCo{\\x00\\x00\\xa2\\xc0\\x14\\xc0\\n\\x009\\x008\\x007\\x006\\x00\\x88\\x00\\x87\\x00\\x86\\x00\\x85\\xc0\\x19\\x00:\\x00\\x89\\xc0\\x0f\\xc0\\x05\\x005\\x00\\x84\\xc0\\x13\\xc0\\t\\x003\\x002\\x001\\x000\\x00\\x9a\\x00\\x99\\x00\\x98\\x00\\x97\\x00E\\x00D\\x00C\\x00B\\xc0\\x18\\x00']\n",
      "Bad pipe message: %s [b'\\x9b\\x00F\\xc0\\x0e\\xc0\\x04\\x00/\\x00\\x96\\x00A\\x00\\x07\\xc0\\x11\\xc0\\x07\\xc0\\x16\\x00\\x18\\xc0\\x0c\\xc0\\x02\\x00\\x05\\x00\\x04\\xc0\\x12\\xc0\\x08\\x00\\x16\\x00\\x13\\x00\\x10\\x00\\r\\xc0\\x17\\x00\\x1b\\xc0\\r\\xc0\\x03']\n",
      "Bad pipe message: %s [b'\\x83\\xd4\\xcd\\xc3\\xce\\x10L\\xd9\\xa1\\xf9z\\x92M\\x90>\\xa6\\xe0\\x7f\\x00\\x00>\\xc0\\x14\\xc0\\n\\x009\\x008\\x007\\x006\\xc0\\x0f\\xc0\\x05\\x005\\xc0\\x13\\xc0\\t\\x003\\x002\\x001\\x000\\xc0\\x0e\\xc0\\x04\\x00/\\x00\\x9a\\x00\\x99\\x00\\x98\\x00\\x97\\x00\\x96\\x00\\x07\\xc0\\x11\\xc0\\x07\\xc0\\x0c\\xc0\\x02\\x00\\x05\\x00\\x04\\x00\\xff\\x02\\x01\\x00\\x00C\\x00\\x00\\x00\\x0e\\x00\\x0c\\x00\\x00\\t127.', b'0.1\\x00\\x0b\\x00\\x04\\x03\\x00\\x01\\x02\\x00\\n\\x00\\x1c\\x00\\x1a\\x00\\x17\\x00\\x19\\x00\\x1c\\x00\\x1b\\x00\\x18\\x00\\x1a\\x00\\x16\\x00\\x0e\\x00\\r\\x00\\x0b\\x00\\x0c\\x00\\t\\x00\\n\\x00#\\x00\\x00']\n",
      "Bad pipe message: %s [b\"\\x16\\xb8\\x9a\\xc1\\x7f\\xf7\\xfd'\\xc56g\\xe5j\\xea@\\xf4\\xda\\xb5\\x00\\x00\\xa2\\xc0\\x14\\xc0\\n\\x009\\x008\\x007\\x006\\x00\\x88\\x00\\x87\\x00\\x86\\x00\\x85\\xc0\\x19\\x00:\\x00\\x89\\xc0\\x0f\\xc0\\x05\\x005\\x00\\x84\\xc0\\x13\\xc0\\t\\x003\\x002\\x001\\x000\\x00\\x9a\\x00\"]\n",
      "Bad pipe message: %s [b'\\x98\\x00\\x97\\x00E\\x00D\\x00C\\x00B\\xc0\\x18\\x004\\x00\\x9b\\x00F\\xc0\\x0e\\xc0\\x04\\x00/\\x00\\x96\\x00A\\x00\\x07\\xc0\\x11\\xc0\\x07\\xc0\\x16\\x00\\x18\\xc0\\x0c\\xc0\\x02\\x00\\x05\\x00\\x04\\xc0\\x12\\xc0\\x08\\x00\\x16\\x00\\x13\\x00\\x10\\x00\\r\\xc0\\x17\\x00\\x1b\\xc0\\r\\xc0\\x03\\x00\\n\\x00\\x15\\x00\\x12\\x00\\x0f\\x00\\x0c\\x00\\x1a\\x00\\t\\x00\\x14\\x00\\x11\\x00\\x19\\x00\\x08\\x00\\x06\\x00\\x17\\x00\\x03\\xc0\\x10\\xc0\\x06\\xc0\\x15\\xc0\\x0b\\xc0\\x01\\x00\\x02\\x00\\x01\\x00\\xff\\x02\\x01\\x00\\x00C\\x00\\x00\\x00\\x0e\\x00\\x0c\\x00\\x00\\t127.0.0.1\\x00\\x0b\\x00\\x04\\x03\\x00\\x01\\x02\\x00\\n\\x00\\x1c\\x00\\x1a\\x00\\x17\\x00\\x19']\n",
      "Bad pipe message: %s [b'\\\\-\\xf2W\\xd5D\\xde\\x95T\\xa0\\xd9l\\x01\\x17\\xd0\\x95\\xd0D\\x00\\x00\\xa2\\xc0\\x14\\xc0\\n\\x009\\x00', b'7\\x006\\x00\\x88\\x00\\x87\\x00\\x86\\x00\\x85\\xc0\\x19\\x00:\\x00\\x89\\xc0\\x0f\\xc0\\x05\\x005\\x00\\x84\\xc0\\x13\\xc0\\t\\x003\\x002\\x001\\x000\\x00\\x9a\\x00\\x99\\x00\\x98\\x00\\x97\\x00E\\x00D\\x00C\\x00B\\xc0\\x18']\n",
      "Bad pipe message: %s [b'\\xb0r\\xeb\\x88\\xc7\\xe5\\xdf\\x95IB\\xd6\\xd9\\xc9X-\\xe7\\xfey\\x00\\x00\\xf4\\xc00\\xc0,\\xc0(\\xc0$\\xc0\\x14\\xc0\\n\\x00\\xa5\\x00\\xa3\\x00\\xa1\\x00\\x9f\\x00k\\x00j\\x00i\\x00h\\x009\\x008\\x007\\x006\\x00\\x88\\x00\\x87\\x00\\x86\\x00\\x85\\xc0\\x19\\x00\\xa7\\x00m\\x00:\\x00\\x89\\xc02\\xc0.\\xc0*\\xc0&\\xc0\\x0f\\xc0\\x05\\x00\\x9d\\x00=\\x00']\n",
      "Bad pipe message: %s [b\"\\x84\\xc0/\\xc0+\\xc0'\\xc0#\\xc0\\x13\\xc0\\t\\x00\\xa4\\x00\\xa2\\x00\\xa0\\x00\\x9e\\x00g\\x00@\\x00?\\x00>\\x003\\x002\\x001\\x000\\x00\\x9a\\x00\\x99\\x00\\x98\\x00\\x97\\x00E\\x00D\\x00C\\x00\"]\n",
      "Bad pipe message: %s [b'\\x18\\x00\\xa6\\x00l\\x004\\x00\\x9b\\x00F\\xc01\\xc0-\\xc0)\\xc0%\\xc0\\x0e\\xc0\\x04\\x00\\x9c\\x00<\\x00/\\x00\\x96\\x00A\\x00\\x07\\xc0\\x11\\xc0\\x07\\xc0\\x16\\x00\\x18\\xc0\\x0c\\xc0\\x02\\x00\\x05\\x00\\x04\\xc0\\x12\\xc0\\x08\\x00\\x16\\x00\\x13\\x00\\x10\\x00\\r\\xc0\\x17']\n"
     ]
    }
   ],
   "source": [
    "resp"
   ]
  },
  {
   "cell_type": "markdown",
   "id": "946e13a3-9350-40d9-8bfe-0cd37f2ade2f",
   "metadata": {},
   "source": [
    "### Evaluate Retrieval methods"
   ]
  },
  {
   "cell_type": "code",
   "execution_count": 5,
   "id": "255bdabd-770e-4b12-8bd8-54e5cdc64f77",
   "metadata": {},
   "outputs": [],
   "source": [
    "def execute_evaluation( dataset: EmbeddingQAFinetuneDataset, \n",
    "                        class_name: str, \n",
    "                        retriever: WeaviateClient,\n",
    "                        reranker: ReRanker=None,\n",
    "                        alpha: float=0.5,\n",
    "                        retrieve_limit: int=5,\n",
    "                        results_top_k: int=5,\n",
    "                        rerank_top_k: int=5,\n",
    "                        chunk_size: int=256,\n",
    "                        display_properties: List[str]=['doc_id', 'content']\n",
    "                        ) -> Tuple[int, int, int]:\n",
    "\n",
    "    if results_top_k > retrieve_limit:  # we don't want to retrieve less results than the top_k that we want to see returned\n",
    "        retrieve_limit = results_top_k\n",
    "        \n",
    "    reranker_name = reranker.model_name if reranker else \"None\"\n",
    "    \n",
    "    results_dict = {'n':retrieve_limit, \n",
    "                    'top_k': results_top_k,\n",
    "                    'alpha': alpha,\n",
    "                    'Retriever': retriever.model_name_or_path, \n",
    "                    'Ranker': reranker_name,\n",
    "                    'chunk_size': chunk_size,\n",
    "                    'kw_hit_rate': 0,\n",
    "                    'kw_mrr': 0,\n",
    "                    'vector_hit_rate': 0,\n",
    "                    'vector_mrr': 0,\n",
    "                    'hybrid_hit_rate':0,\n",
    "                    'hybrid_mrr': 0,\n",
    "                    'total_misses': 0,\n",
    "                    'total_questions':0\n",
    "                    }\n",
    "    if reranker:\n",
    "        results_dict['rerank_top_k'] = rerank_top_k  # have to build the results_dict before we can add this information\n",
    "        \n",
    "    start = time.perf_counter()\n",
    "    for query_id, q in tqdm(dataset.queries.items(), 'Queries'):\n",
    "        results_dict['total_questions'] += 1\n",
    "        \n",
    "        #make Keyword, Vector, and Hybrid calls to Weaviate host\n",
    "        try:\n",
    "            kw_response = retriever.keyword_search(request=q, class_name=class_name, limit=retrieve_limit, display_properties=display_properties)\n",
    "            vector_response = retriever.vector_search(request=q, class_name=class_name, limit=retrieve_limit, display_properties=display_properties)\n",
    "            hybrid_response = retriever._hybrid_search(request=q, class_name=class_name, alpha=alpha, limit=retrieve_limit, display_properties=display_properties)           \n",
    "            #rerank returned responses if reranker is provided\n",
    "            if reranker:\n",
    "                kw_response = reranker.rerank(kw_response, q, top_k=rerank_top_k)\n",
    "                vector_response = reranker.rerank(vector_response, q, top_k=rerank_top_k)\n",
    "                hybrid_response = reranker.rerank(hybrid_response, q, top_k=rerank_top_k)\n",
    "            \n",
    "            #collect doc_ids to check for document matches (include only results_top_k)\n",
    "            kw_doc_ids = {result['doc_id']:i for i, result in enumerate(kw_response[:results_top_k], 1)}\n",
    "            vector_doc_ids = {result['doc_id']:i for i, result in enumerate(vector_response[:results_top_k], 1)}\n",
    "            hybrid_doc_ids = {result['doc_id']:i for i, result in enumerate(hybrid_response[:results_top_k], 1)}\n",
    "            \n",
    "            #extract doc_id for scoring purposes\n",
    "            doc_id = dataset.relevant_docs[query_id][0]\n",
    "     \n",
    "            #increment hit_rate counters and mrr scores\n",
    "            if doc_id in kw_doc_ids:\n",
    "                results_dict['kw_hit_rate'] += 1\n",
    "                results_dict['kw_mrr'] += 1/kw_doc_ids[doc_id]\n",
    "            if doc_id in vector_doc_ids:\n",
    "                results_dict['vector_hit_rate'] += 1\n",
    "                results_dict['vector_mrr'] += 1/vector_doc_ids[doc_id]\n",
    "            if doc_id in hybrid_doc_ids:\n",
    "                results_dict['hybrid_hit_rate'] += 1\n",
    "                results_dict['hybrid_mrr'] += 1/hybrid_doc_ids[doc_id]\n",
    "\n",
    "            # if no hits, let's capture that\n",
    "            else:\n",
    "                results_dict['total_misses'] += 1\n",
    "                \n",
    "        except Exception as e:\n",
    "            print(e)\n",
    "            continue\n",
    "\n",
    "    #use raw counts to calculate final scores\n",
    "    calc_hit_rate_scores(results_dict)\n",
    "    calc_mrr_scores(results_dict)\n",
    "    \n",
    "    end = time.perf_counter() - start\n",
    "    print(f'Total Processing Time: {round(end/60, 2)} minutes')\n",
    "    \n",
    "    return results_dict"
   ]
  },
  {
   "cell_type": "markdown",
   "id": "1cd5ed71-d150-4312-9d41-0b43ae43bd72",
   "metadata": {},
   "source": [
    "### Run evaluation over golden dataset"
   ]
  },
  {
   "cell_type": "code",
   "execution_count": 13,
   "id": "7531ff35-b083-46ac-99f5-c30008a50d52",
   "metadata": {},
   "outputs": [
    {
     "data": {
      "application/vnd.jupyter.widget-view+json": {
       "model_id": "e2e48e5e791e4cc7af2959b2e2fa00b0",
       "version_major": 2,
       "version_minor": 0
      },
      "text/plain": [
       "Downloading config.json:   0%|          | 0.00/799 [00:00<?, ?B/s]"
      ]
     },
     "metadata": {},
     "output_type": "display_data"
    },
    {
     "data": {
      "application/vnd.jupyter.widget-view+json": {
       "model_id": "5d3b0ecb3829450488a735838f71b0b8",
       "version_major": 2,
       "version_minor": 0
      },
      "text/plain": [
       "Downloading model.safetensors:   0%|          | 0.00/1.11G [00:00<?, ?B/s]"
      ]
     },
     "metadata": {},
     "output_type": "display_data"
    },
    {
     "data": {
      "application/vnd.jupyter.widget-view+json": {
       "model_id": "0218844d3f434215958a3bd09f9f2a6f",
       "version_major": 2,
       "version_minor": 0
      },
      "text/plain": [
       "Downloading tokenizer_config.json:   0%|          | 0.00/443 [00:00<?, ?B/s]"
      ]
     },
     "metadata": {},
     "output_type": "display_data"
    },
    {
     "data": {
      "application/vnd.jupyter.widget-view+json": {
       "model_id": "c389204219094aa5b377c53182470972",
       "version_major": 2,
       "version_minor": 0
      },
      "text/plain": [
       "Downloading (…)tencepiece.bpe.model:   0%|          | 0.00/5.07M [00:00<?, ?B/s]"
      ]
     },
     "metadata": {},
     "output_type": "display_data"
    },
    {
     "data": {
      "application/vnd.jupyter.widget-view+json": {
       "model_id": "8923fed92109499396fea831526c8822",
       "version_major": 2,
       "version_minor": 0
      },
      "text/plain": [
       "Downloading (…)cial_tokens_map.json:   0%|          | 0.00/279 [00:00<?, ?B/s]"
      ]
     },
     "metadata": {},
     "output_type": "display_data"
    }
   ],
   "source": [
    "# bge = ReRanker(model_name='BAAI/bge-reranker-base')"
   ]
  },
  {
   "cell_type": "code",
   "execution_count": 15,
   "id": "fa6c2a69-2f17-4b06-b046-4504ea953032",
   "metadata": {},
   "outputs": [
    {
     "name": "stderr",
     "output_type": "stream",
     "text": [
      "Queries: 100%|████████████████████████████████████████████████████████████████████████████████████████████| 250/250 [03:15<00:00,  1.28it/s]\n"
     ]
    },
    {
     "data": {
      "text/html": [
       "<pre style=\"white-space:pre;overflow-x:auto;line-height:normal;font-family:Menlo,'DejaVu Sans Mono',consolas,'Courier New',monospace\">Total Processing Time: <span style=\"color: #008080; text-decoration-color: #008080; font-weight: bold\">3.25</span> minutes\n",
       "</pre>\n"
      ],
      "text/plain": [
       "Total Processing Time: \u001b[1;36m3.25\u001b[0m minutes\n"
      ]
     },
     "metadata": {},
     "output_type": "display_data"
    },
    {
     "data": {
      "text/plain": [
       "{'n': 100,\n",
       " 'top_k': 5,\n",
       " 'alpha': 0.3,\n",
       " 'Retriever': 'sentence-transformers/all-MiniLM-L6-v2',\n",
       " 'Ranker': 'cross-encoder/ms-marco-MiniLM-L-6-v2',\n",
       " 'chunk_size': 256,\n",
       " 'kw_hit_rate': 0.72,\n",
       " 'kw_mrr': 0.57,\n",
       " 'vector_hit_rate': 0.6,\n",
       " 'vector_mrr': 0.5,\n",
       " 'hybrid_hit_rate': 0.74,\n",
       " 'hybrid_mrr': 0.59,\n",
       " 'total_misses': 66,\n",
       " 'total_questions': 250,\n",
       " 'rerank_top_k': 5}"
      ]
     },
     "execution_count": 15,
     "metadata": {},
     "output_type": "execute_result"
    }
   ],
   "source": [
    "execute_evaluation(golden_dataset, class_name, client, reranker=ReRanker(), alpha=0.3, retrieve_limit=100, results_top_k=5)"
   ]
  },
  {
   "cell_type": "markdown",
   "id": "79ed1dca-3cd1-4606-997e-accba0c69c8f",
   "metadata": {},
   "source": [
    "# Evaluation of Reranker Effect on Latency"
   ]
  },
  {
   "cell_type": "code",
   "execution_count": 65,
   "id": "32dca17a-e12e-4d9e-9a77-2f128330c376",
   "metadata": {},
   "outputs": [
    {
     "name": "stderr",
     "output_type": "stream",
     "text": [
      "100%|████████████████████████████████████████████████████████████████████████████████████████████████████████████| 39/39 [00:05<00:00,  7.04it/s]\n",
      "100%|████████████████████████████████████████████████████████████████████████████████████████████████████████████| 39/39 [00:13<00:00,  2.95it/s]\n"
     ]
    },
    {
     "data": {
      "image/png": "[encoded data removed]",
      "text/plain": [
       "<Figure size 640x480 with 1 Axes>"
      ]
     },
     "metadata": {},
     "output_type": "display_data"
    }
   ],
   "source": [
    "def time_search(limit: int, rerank: bool=True):\n",
    "    start = time.perf_counter()\n",
    "    response = client.keyword_search('how do I make a million dollars', 'Impact_theory_minilm_256', limit=limit, display_properties=['content', 'title'], top_k=5, rerank_results=rerank)\n",
    "    end = time.perf_counter() - start\n",
    "    return round(end, 3)\n",
    "\n",
    "false_times = []\n",
    "for x in tqdm(range(10, 400, 10)):\n",
    "    false_times.append((time_search(x, rerank=False), x))\n",
    "    \n",
    "\n",
    "ranked_times = []\n",
    "for x in tqdm(range(10, 400, 10)):\n",
    "    ranked_times.append((time_search(x, rerank=True), x))\n",
    "\n",
    "import pandas as pd\n",
    "\n",
    "false_df = pd.DataFrame(false_times, columns=['time', 'n'])\n",
    "ranked = pd.DataFrame(ranked_times, columns=['time', 'n'])\n",
    "\n",
    "ax = false_df.plot.scatter(x='n', y='time', label='No Reranker')\n",
    "ax2 = ranked.plot.scatter(x='n', y='time', ax=ax, color='orange', ylabel='Latency (ms)', label='With Reranker', xlabel='# of Returned Results')"
   ]
  },
  {
   "cell_type": "code",
   "execution_count": null,
   "id": "1f7bf05c-5ad7-43aa-9452-0d375d8658e4",
   "metadata": {},
   "outputs": [],
   "source": [
    "{'n': 160,\n",
    " 'top_k': 5,\n",
    " 'alpha': 0.3,\n",
    " 'Retriever': 'sentence-transformers/all-MiniLM-L6-v2',\n",
    " 'Ranker': 'cross-encoder/ms-marco-MiniLM-L-6-v2',\n",
    " 'chunk_size': 256,\n",
    " 'kw_hit_rate': 0.72,\n",
    " 'kw_mrr': 0.57,\n",
    " 'vector_hit_rate': 0.62,\n",
    " 'vector_mrr': 0.51,\n",
    " 'hybrid_hit_rate': 0.74,\n",
    " 'hybrid_mrr': 0.58,\n",
    " 'total_misses': 66,\n",
    " 'total_questions': 250,\n",
    " 'rerank_top_k': 5}"
   ]
  }
 ],
 "metadata": {
  "kernelspec": {
   "display_name": "openai",
   "language": "python",
   "name": "openai"
  },
  "language_info": {
   "codemirror_mode": {
    "name": "ipython",
    "version": 3
   },
   "file_extension": ".py",
   "mimetype": "text/x-python",
   "name": "python",
   "nbconvert_exporter": "python",
   "pygments_lexer": "ipython3",
   "version": "3.10.13"
  }
 },
 "nbformat": 4,
 "nbformat_minor": 5
}
