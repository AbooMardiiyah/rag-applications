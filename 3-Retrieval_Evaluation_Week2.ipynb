{
 "cells": [
  {
   "cell_type": "code",
   "execution_count": 1,
   "id": "88728355-dd6c-4c08-8ad8-ac7f85e6af68",
   "metadata": {},
   "outputs": [
    {
     "name": "stdout",
     "output_type": "stream",
     "text": [
      "The autoreload extension is already loaded. To reload it, use:\n",
      "  %reload_ext autoreload\n"
     ]
    }
   ],
   "source": [
    "%load_ext autoreload\n",
    "%autoreload 2"
   ]
  },
  {
   "cell_type": "code",
   "execution_count": 50,
   "id": "68f03b28-68e1-45c5-9ec0-99d9a32d0392",
   "metadata": {},
   "outputs": [],
   "source": [
    "#external files\n",
    "from preprocessing import FileIO\n",
    "# from weaviate_interface import WeaviateClient\n",
    "from weaviate_with_reranking import WeaviateClient\n",
    "from retrieval_evaluation import calc_hit_rate_scores, calc_mrr_scores\n",
    "from reranker import ReRanker\n",
    "\n",
    "#external libraries\n",
    "from llama_index.finetuning import EmbeddingQAFinetuneDataset\n",
    "import plotly.express as px\n",
    "\n",
    "#standard library imports\n",
    "from typing import List, Any, Dict, Tuple, Union\n",
    "import time\n",
    "import os\n",
    "\n",
    "# utilities\n",
    "from tqdm import tqdm\n",
    "from rich import print\n",
    "from dotenv import load_dotenv\n",
    "env = load_dotenv('./.env', override=True)"
   ]
  },
  {
   "cell_type": "markdown",
   "id": "959bb049-ca24-42ef-9458-72fb687fe27d",
   "metadata": {},
   "source": [
    "### Load QA dataset"
   ]
  },
  {
   "cell_type": "code",
   "execution_count": 70,
   "id": "3e61a946-f5b2-4a7e-80b6-1dc5bdaa4cb5",
   "metadata": {},
   "outputs": [],
   "source": [
    "golden_dataset = EmbeddingQAFinetuneDataset.from_json(\"./data/golden_dataset.json\")"
   ]
  },
  {
   "cell_type": "markdown",
   "id": "30095d52-6b57-4632-8a77-08efbec12c80",
   "metadata": {},
   "source": [
    "### Instantiate Weaviate client and set Class name"
   ]
  },
  {
   "cell_type": "code",
   "execution_count": 71,
   "id": "a440bd3e-1223-41c4-ad1a-0120273d9b1f",
   "metadata": {},
   "outputs": [
    {
     "data": {
      "text/plain": [
       "(True, True)"
      ]
     },
     "execution_count": 71,
     "metadata": {},
     "output_type": "execute_result"
    }
   ],
   "source": [
    "client = WeaviateClient(os.environ['WEAVIATE_API_KEY'], os.environ['WEAVIATE_ENDPOINT'])\n",
    "class_name = 'Impact_theory_minilm_256'\n",
    "\n",
    "#check if WCS instance is live and ready\n",
    "client.is_live(), client.is_ready()"
   ]
  },
  {
   "cell_type": "markdown",
   "id": "946e13a3-9350-40d9-8bfe-0cd37f2ade2f",
   "metadata": {},
   "source": [
    "### Evaluate Retrieval methods"
   ]
  },
  {
   "cell_type": "code",
   "execution_count": 72,
   "id": "255bdabd-770e-4b12-8bd8-54e5cdc64f77",
   "metadata": {},
   "outputs": [],
   "source": [
    "def execute_evaluation( dataset: EmbeddingQAFinetuneDataset, \n",
    "                        class_name: str, \n",
    "                        retriever: WeaviateClient,\n",
    "                        reranker: ReRanker=None,\n",
    "                        alpha: float=0.5,\n",
    "                        retrieve_limit: int=5,\n",
    "                        results_top_k: int=5,\n",
    "                        rerank_top_k: int=5,\n",
    "                        chunk_size: int=256,\n",
    "                        display_properties: List[str]=['doc_id', 'content']\n",
    "                        ) -> Tuple[int, int, int]:\n",
    "\n",
    "    if results_top_k > retrieve_limit:  # we don't want to retrieve less results than the top_k that we want to see returned\n",
    "        retrieve_limit = results_top_k\n",
    "        \n",
    "    reranker_name = reranker.model_name if reranker else \"None\"\n",
    "    \n",
    "    results_dict = {'n':retrieve_limit, \n",
    "                    'top_k': results_top_k,\n",
    "                    'alpha': alpha,\n",
    "                    'Retriever': retriever.model_name_or_path, \n",
    "                    'Ranker': reranker_name,\n",
    "                    'chunk_size': chunk_size,\n",
    "                    'kw_hit_rate': 0,\n",
    "                    'kw_mrr': 0,\n",
    "                    'vector_hit_rate': 0,\n",
    "                    'vector_mrr': 0,\n",
    "                    'hybrid_hit_rate':0,\n",
    "                    'hybrid_mrr': 0,\n",
    "                    'total_misses': 0,\n",
    "                    'total_questions':0\n",
    "                    }\n",
    "    if reranker:\n",
    "        results_dict['rerank_top_k'] = rerank_top_k  # have to build the results_dict before we can add this information\n",
    "        \n",
    "    start = time.perf_counter()\n",
    "    for query_id, q in tqdm(dataset.queries.items(), 'Queries'):\n",
    "        results_dict['total_questions'] += 1\n",
    "        \n",
    "        #make Keyword, Vector, and Hybrid calls to Weaviate host\n",
    "        try:\n",
    "            kw_response = retriever.keyword_search(request=q, class_name=class_name, limit=retrieve_limit, display_properties=display_properties)\n",
    "            vector_response = retriever.vector_search(request=q, class_name=class_name, limit=retrieve_limit, display_properties=display_properties)\n",
    "            hybrid_response = retriever._hybrid_search(request=q, class_name=class_name, alpha=alpha, limit=retrieve_limit, display_properties=display_properties)           \n",
    "    \n",
    "            #rerank returned responses if reranker is provided\n",
    "            if reranker:\n",
    "                kw_response = reranker.rerank(kw_response, q, top_k=rerank_top_k)\n",
    "                vector_response = reranker.rerank(vector_response, q, top_k=rerank_top_k)\n",
    "                hybrid_response = reranker.rerank(hybrid_response, q, top_k=rerank_top_k)\n",
    "            \n",
    "            #collect doc_ids to check for document matches (include only results_top_k)\n",
    "            kw_doc_ids = {result['doc_id']:i for i, result in enumerate(kw_response[:results_top_k], 1)}\n",
    "            vector_doc_ids = {result['doc_id']:i for i, result in enumerate(vector_response[:results_top_k], 1)}\n",
    "            hybrid_doc_ids = {result['doc_id']:i for i, result in enumerate(hybrid_response[:results_top_k], 1)}\n",
    "            \n",
    "            #extract doc_id for scoring purposes\n",
    "            doc_id = dataset.relevant_docs[query_id][0]\n",
    "\n",
    "            #increment hit_rate counters and mrr scores\n",
    "            if doc_id in kw_doc_ids:\n",
    "                results_dict['kw_hit_rate'] += 1\n",
    "                results_dict['kw_mrr'] += 1/kw_doc_ids[doc_id]\n",
    "            if doc_id in vector_doc_ids:\n",
    "                results_dict['vector_hit_rate'] += 1\n",
    "                results_dict['vector_mrr'] += 1/vector_doc_ids[doc_id]\n",
    "            if doc_id in hybrid_doc_ids:\n",
    "                results_dict['hybrid_hit_rate'] += 1\n",
    "                results_dict['hybrid_mrr'] += 1/hybrid_doc_ids[doc_id]\n",
    "\n",
    "            # if no hits, let's capture that\n",
    "            else:\n",
    "                results_dict['total_misses'] += 1\n",
    "                \n",
    "        except Exception as e:\n",
    "            print(e)\n",
    "            continue\n",
    "\n",
    "    #use raw counts to calculate final scores\n",
    "    calc_hit_rate_scores(results_dict)\n",
    "    calc_mrr_scores(results_dict)\n",
    "    \n",
    "    end = time.perf_counter() - start\n",
    "    print(f'Total Processing Time: {round(end/60, 2)} minutes')\n",
    "    \n",
    "    return results_dict"
   ]
  },
  {
   "cell_type": "markdown",
   "id": "1cd5ed71-d150-4312-9d41-0b43ae43bd72",
   "metadata": {},
   "source": [
    "### Run evaluation over golden dataset"
   ]
  },
  {
   "cell_type": "code",
   "execution_count": 74,
   "id": "fa6c2a69-2f17-4b06-b046-4504ea953032",
   "metadata": {},
   "outputs": [],
   "source": [
    "execute_evaluation(golden_dataset, class_name, client, alpha=0.3, retrieve_limit=5, results_top_k=5)"
   ]
  },
  {
   "cell_type": "markdown",
   "id": "79ed1dca-3cd1-4606-997e-accba0c69c8f",
   "metadata": {},
   "source": [
    "# Evaluation of Reranker Effect on Latency"
   ]
  },
  {
   "cell_type": "code",
   "execution_count": 65,
   "id": "32dca17a-e12e-4d9e-9a77-2f128330c376",
   "metadata": {},
   "outputs": [
    {
     "name": "stderr",
     "output_type": "stream",
     "text": [
      "100%|████████████████████████████████████████████████████████████████████████████████████████████████████████████| 39/39 [00:05<00:00,  7.04it/s]\n",
      "100%|████████████████████████████████████████████████████████████████████████████████████████████████████████████| 39/39 [00:13<00:00,  2.95it/s]\n"
     ]
    },
    {
     "data": {
      "image/png": "[encoded data removed]",
      "text/plain": [
       "<Figure size 640x480 with 1 Axes>"
      ]
     },
     "metadata": {},
     "output_type": "display_data"
    }
   ],
   "source": [
    "def time_search(limit: int, rerank: bool=True):\n",
    "    start = time.perf_counter()\n",
    "    response = client.keyword_search('how do I make a million dollars', 'Impact_theory_minilm_256', limit=limit, display_properties=['content', 'title'], top_k=5, rerank_results=rerank)\n",
    "    end = time.perf_counter() - start\n",
    "    return round(end, 3)\n",
    "\n",
    "false_times = []\n",
    "for x in tqdm(range(10, 400, 10)):\n",
    "    false_times.append((time_search(x, rerank=False), x))\n",
    "    \n",
    "\n",
    "ranked_times = []\n",
    "for x in tqdm(range(10, 400, 10)):\n",
    "    ranked_times.append((time_search(x, rerank=True), x))\n",
    "\n",
    "import pandas as pd\n",
    "\n",
    "false_df = pd.DataFrame(false_times, columns=['time', 'n'])\n",
    "ranked = pd.DataFrame(ranked_times, columns=['time', 'n'])\n",
    "\n",
    "ax = false_df.plot.scatter(x='n', y='time', label='No Reranker')\n",
    "ax2 = ranked.plot.scatter(x='n', y='time', ax=ax, color='orange', ylabel='Latency (ms)', label='With Reranker', xlabel='# of Returned Results')"
   ]
  },
  {
   "cell_type": "code",
   "execution_count": null,
   "id": "1f7bf05c-5ad7-43aa-9452-0d375d8658e4",
   "metadata": {},
   "outputs": [],
   "source": []
  }
 ],
 "metadata": {
  "kernelspec": {
   "display_name": "openai",
   "language": "python",
   "name": "openai"
  },
  "language_info": {
   "codemirror_mode": {
    "name": "ipython",
    "version": 3
   },
   "file_extension": ".py",
   "mimetype": "text/x-python",
   "name": "python",
   "nbconvert_exporter": "python",
   "pygments_lexer": "ipython3",
   "version": "3.10.13"
  }
 },
 "nbformat": 4,
 "nbformat_minor": 5
}
