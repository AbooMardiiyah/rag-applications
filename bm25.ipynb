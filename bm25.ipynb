{
 "cells": [
  {
   "cell_type": "code",
   "execution_count": 139,
   "id": "cc344f42-c232-43bf-8be6-f3d7f1facde6",
   "metadata": {},
   "outputs": [],
   "source": [
    "import numpy as np\n",
    "from collections import Counter\n",
    "\n",
    "class BM25:\n",
    "    def __init__(self, documents: list[str]):\n",
    "        self.documents = documents\n",
    "        self.bag_of_words = [term for doc in self.documents for term in doc.split()]\n",
    "        self.document_count = len(documents)\n",
    "        self.avg_document_length = sum(len(doc.split()) for doc in documents) / self.document_count\n",
    "        self.term_counts = self.calculate_term_counts()\n",
    "        self.k1 = 1.2\n",
    "        self.b = 0.75\n",
    "        self.alpha = 0.01\n",
    "\n",
    "    def calculate_term_counts(self):\n",
    "        term_counts = Counter()\n",
    "        for document in self.documents:\n",
    "            term_counts.update(document)\n",
    "        return term_counts\n",
    "\n",
    "    def calculate_idf(self, term: str):\n",
    "        document_with_term_count = self.term_counts[term]\n",
    "        return np.log((self.document_count - document_with_term_count + 0.5) / (document_with_term_count + 0.5) + self.alpha)\n",
    "\n",
    "    def calculate_bm25_score(self, query: str, document: list[str]):\n",
    "        score = 0.0\n",
    "        document_length = len(document)\n",
    "        tokens = query.split()\n",
    "        query_terms = Counter(tokens)\n",
    "        for term in query_terms:\n",
    "            if term not in self.bag_of_words:\n",
    "                continue\n",
    "                print(f'{term} not in {self.documents}')\n",
    "            idf = self.calculate_idf(term)\n",
    "            term_frequency = document.count(term)\n",
    "            numerator = term_frequency * (self.k1 + 1)\n",
    "            denominator = term_frequency + self.k1 * (1 - self.b + self.b * (document_length / self.avg_document_length))\n",
    "            score += idf * (numerator / denominator)\n",
    "\n",
    "        return score\n",
    "\n",
    "    def rank_documents(self, query: str):\n",
    "        document_scores = []\n",
    "        for document in self.documents:\n",
    "            score = self.calculate_bm25_score(query, document)\n",
    "            document_scores.append((document, score))\n",
    "        \n",
    "        ranked_documents = sorted(document_scores, key=lambda x: x[1], reverse=True)\n",
    "        return ranked_documents"
   ]
  },
  {
   "cell_type": "code",
   "execution_count": 115,
   "id": "60ebc05b-e877-48ce-a479-980bb9642ce9",
   "metadata": {},
   "outputs": [
    {
     "name": "stdout",
     "output_type": "stream",
     "text": [
      "Shape of data: (26448, 12)\n",
      "Memory Usage: 2.42+ MB\n"
     ]
    }
   ],
   "source": [
    "import json\n",
    "from preprocessing import FileIO\n",
    "path = '../vsa_practice/practice_data/impact-theory-new-ft-model-256.parquet'\n",
    "data = FileIO().load_parquet(path)"
   ]
  },
  {
   "cell_type": "code",
   "execution_count": 140,
   "id": "f9a100c2-a14c-4a65-b028-86ae1bc7b556",
   "metadata": {},
   "outputs": [
    {
     "data": {
      "text/plain": [
       "[\"You said these are dangerous times. The world order is shifting before our eyes. We also both know that with hyper disruptive technologies like AI on the horizon, a good outcome is not guaranteed. Why do you think big tech will become the third superpower and what are the dangers and opportunities if it does? Big tech is essentially sovereign over the digital world. The fact that former President Trump was de-platformed from Facebook and from Twitter when he was president, you know, most powerful political figure on the planet. And he's just taken off of those networks and as a consequence, hundreds of millions of people that would be regularly engaging with him in real time suddenly can't see it. That wasn't a decision that was made by a government. It wasn't a decision made by a judge or by a regulatory authority or even by a multinational organization like, you know, the UN. It was made by individuals that own tech companies. The same thing is true in the decision to help Ukraine in the war. In the early days, the U.S. didn't provide much military support.\",\n",
       " \"But if you're not focusing on it, then patience happens by default. Like sadness, for example, like that was really helped me to find, figure out just even defining the word in terms of operational perspective, helped me get out of those funks faster, which is sadness comes from a lack of options, a perceived lack of options, which is why it feels like hopelessness. But if it comes from a perceived lack of options, then it means that you solve that with knowledge because it's perceived lack of options, which is an ignorance problem, which means it's solvable, which all of a sudden gives me something to do. So then all of a sudden I do have an option and then you can get out of the funk. And like anxiety is the reverse of that, which is I have many options and I don't know which one to pick, which means I don't have priorities. So like you solve sadness through knowledge. You solve anxiety through decisions. And so like helping me just spell those out to myself. I'm like, ah, I feel anxious. Okay. That means that I have lots of paths and I need to make a decision.\",\n",
       " \"I use stainless steel. It doesn't stick? Not if you cook with them the right way. What about ceramic? Ceramic can be good. Do they make ceramic frying pans? They do make ceramic frying pans. Yeah, yeah. Interesting. You just want to be careful with the coated... I'm probably eating the most Teflon ever. You are? I don't use dental tape but I cook in Teflon pans nonstop. There is a product and I have no affiliation with them whatsoever but they're called Green Pan and I've discovered them on my own and I've purchased one or two of their pans with my own money. They claim to not have any of these chemicals in them and I think that they claim that they're free of all related compounds as well. So I think the jury is still out but it may be a better option. I don't know.\",\n",
       " \"It's the same intelligence, I feel, that is functioning the sun and the star and the moons. So I don't believe this intelligence is necessarily separate from us as some higher power thing. I believe it's the very essence of what we are, but we've kind of disconnected and forgotten about. And so when you feel that you get into these flow states and you're channeling something, is it sort of a deep and true wisdom of the nature of being human? Or if it isn't sort of an active projection of some other intelligent being's ideas, do you think that there's something universal that you tap into? I think there's a consciousness that we are all a part of, that we all are connected to, that is intelligence, that has a knowing. And I believe at that deepest level, we know everything. Because at that deepest level, beyond this physical body, we are everything. And so I think when I experienced myself speaking in an audience, when I experienced myself speaking as a kid, the best talks I gave was when I wasn't thinking, I wasn't in my mind. And so I can't tell you what it was exactly.\"]"
      ]
     },
     "execution_count": 140,
     "metadata": {},
     "output_type": "execute_result"
    }
   ],
   "source": [
    "contents = [d['content'] for d in data]\n",
    "docs = [contents[0], contents[1000], contents[10000], contents[20000]]\n",
    "docs"
   ]
  },
  {
   "cell_type": "code",
   "execution_count": 141,
   "id": "f9e190f2-d2b7-4c9d-a6a5-e1e89303d477",
   "metadata": {},
   "outputs": [
    {
     "data": {
      "text/plain": [
       "2.1983350716202463"
      ]
     },
     "execution_count": 141,
     "metadata": {},
     "output_type": "execute_result"
    }
   ],
   "source": [
    "test = BM25(docs)\n",
    "test.calculate_idf('the')"
   ]
  },
  {
   "cell_type": "code",
   "execution_count": 138,
   "id": "2a04a8ad-61ed-462a-b7a0-ee52e6098bc4",
   "metadata": {},
   "outputs": [
    {
     "data": {
      "text/plain": [
       "Counter({'power': 1, 'in': 1, 'war': 1})"
      ]
     },
     "execution_count": 138,
     "metadata": {},
     "output_type": "execute_result"
    }
   ],
   "source": [
    "Counter('power in war'.split())"
   ]
  },
  {
   "cell_type": "code",
   "execution_count": 150,
   "id": "154ff8b4-c9ef-4f05-b699-2b977ffcd138",
   "metadata": {},
   "outputs": [],
   "source": [
    "query = 'sadness melancholy'"
   ]
  },
  {
   "cell_type": "code",
   "execution_count": 151,
   "id": "8736dcc8-6ede-42d3-bf7b-a09c22cebf7f",
   "metadata": {},
   "outputs": [
    {
     "data": {
      "text/plain": [
       "[(\"But if you're not focusing on it, then patience happens by default. Like sadness, for example, like that was really helped me to find, figure out just even defining the word in terms of operational perspective, helped me get out of those funks faster, which is sadness comes from a lack of options, a perceived lack of options, which is why it feels like hopelessness. But if it comes from a perceived lack of options, then it means that you solve that with knowledge because it's perceived lack of options, which is an ignorance problem, which means it's solvable, which all of a sudden gives me something to do. So then all of a sudden I do have an option and then you can get out of the funk. And like anxiety is the reverse of that, which is I have many options and I don't know which one to pick, which means I don't have priorities. So like you solve sadness through knowledge. You solve anxiety through decisions. And so like helping me just spell those out to myself. I'm like, ah, I feel anxious. Okay. That means that I have lots of paths and I need to make a decision.\",\n",
       "  1.6971213470209414),\n",
       " (\"You said these are dangerous times. The world order is shifting before our eyes. We also both know that with hyper disruptive technologies like AI on the horizon, a good outcome is not guaranteed. Why do you think big tech will become the third superpower and what are the dangers and opportunities if it does? Big tech is essentially sovereign over the digital world. The fact that former President Trump was de-platformed from Facebook and from Twitter when he was president, you know, most powerful political figure on the planet. And he's just taken off of those networks and as a consequence, hundreds of millions of people that would be regularly engaging with him in real time suddenly can't see it. That wasn't a decision that was made by a government. It wasn't a decision made by a judge or by a regulatory authority or even by a multinational organization like, you know, the UN. It was made by individuals that own tech companies. The same thing is true in the decision to help Ukraine in the war. In the early days, the U.S. didn't provide much military support.\",\n",
       "  0.0),\n",
       " (\"I use stainless steel. It doesn't stick? Not if you cook with them the right way. What about ceramic? Ceramic can be good. Do they make ceramic frying pans? They do make ceramic frying pans. Yeah, yeah. Interesting. You just want to be careful with the coated... I'm probably eating the most Teflon ever. You are? I don't use dental tape but I cook in Teflon pans nonstop. There is a product and I have no affiliation with them whatsoever but they're called Green Pan and I've discovered them on my own and I've purchased one or two of their pans with my own money. They claim to not have any of these chemicals in them and I think that they claim that they're free of all related compounds as well. So I think the jury is still out but it may be a better option. I don't know.\",\n",
       "  0.0),\n",
       " (\"It's the same intelligence, I feel, that is functioning the sun and the star and the moons. So I don't believe this intelligence is necessarily separate from us as some higher power thing. I believe it's the very essence of what we are, but we've kind of disconnected and forgotten about. And so when you feel that you get into these flow states and you're channeling something, is it sort of a deep and true wisdom of the nature of being human? Or if it isn't sort of an active projection of some other intelligent being's ideas, do you think that there's something universal that you tap into? I think there's a consciousness that we are all a part of, that we all are connected to, that is intelligence, that has a knowing. And I believe at that deepest level, we know everything. Because at that deepest level, beyond this physical body, we are everything. And so I think when I experienced myself speaking in an audience, when I experienced myself speaking as a kid, the best talks I gave was when I wasn't thinking, I wasn't in my mind. And so I can't tell you what it was exactly.\",\n",
       "  0.0)]"
      ]
     },
     "execution_count": 151,
     "metadata": {},
     "output_type": "execute_result"
    }
   ],
   "source": [
    "test.rank_documents(query)"
   ]
  },
  {
   "cell_type": "code",
   "execution_count": 32,
   "id": "a2b24418-c364-41b1-9f79-76dd6d05b201",
   "metadata": {},
   "outputs": [],
   "source": [
    "def calculate_bm25_score(query: str, document: list[str]):\n",
    "    score = 0.0\n",
    "    document_length = len(document)\n",
    "    query_terms = Counter(query)\n",
    "\n",
    "    for term in query_terms:\n",
    "        if term not in self.documents:\n",
    "            continue\n",
    "        idf = self.calculate_idf(term)\n",
    "        term_frequency = document.count(term)\n",
    "        numerator = term_frequency * (self.k1 + 1)\n",
    "        denominator = term_frequency + self.k1 * (1 - self.b + self.b * (document_length / self.avg_document_length))\n",
    "        score += idf * (numerator / denominator)"
   ]
  },
  {
   "cell_type": "code",
   "execution_count": 33,
   "id": "71ff634b-326a-4be1-9eda-b8d59d47b189",
   "metadata": {},
   "outputs": [
    {
     "ename": "NameError",
     "evalue": "name 'self' is not defined",
     "output_type": "error",
     "traceback": [
      "\u001b[0;31m---------------------------------------------------------------------------\u001b[0m",
      "\u001b[0;31mNameError\u001b[0m                                 Traceback (most recent call last)",
      "Cell \u001b[0;32mIn[33], line 1\u001b[0m\n\u001b[0;32m----> 1\u001b[0m \u001b[43mcalculate_bm25_score\u001b[49m\u001b[43m(\u001b[49m\u001b[38;5;124;43m'\u001b[39;49m\u001b[38;5;124;43mapple\u001b[39;49m\u001b[38;5;124;43m'\u001b[39;49m\u001b[43m,\u001b[49m\u001b[43m \u001b[49m\u001b[43mdocuments\u001b[49m\u001b[43m)\u001b[49m\n",
      "Cell \u001b[0;32mIn[32], line 7\u001b[0m, in \u001b[0;36mcalculate_bm25_score\u001b[0;34m(query, document)\u001b[0m\n\u001b[1;32m      4\u001b[0m query_terms \u001b[38;5;241m=\u001b[39m Counter(query)\n\u001b[1;32m      6\u001b[0m \u001b[38;5;28;01mfor\u001b[39;00m term \u001b[38;5;129;01min\u001b[39;00m query_terms:\n\u001b[0;32m----> 7\u001b[0m     \u001b[38;5;28;01mif\u001b[39;00m term \u001b[38;5;129;01mnot\u001b[39;00m \u001b[38;5;129;01min\u001b[39;00m \u001b[38;5;28;43mself\u001b[39;49m\u001b[38;5;241m.\u001b[39mdocuments:\n\u001b[1;32m      8\u001b[0m         \u001b[38;5;28;01mcontinue\u001b[39;00m\n\u001b[1;32m      9\u001b[0m     idf \u001b[38;5;241m=\u001b[39m \u001b[38;5;28mself\u001b[39m\u001b[38;5;241m.\u001b[39mcalculate_idf(term)\n",
      "\u001b[0;31mNameError\u001b[0m: name 'self' is not defined"
     ]
    }
   ],
   "source": [
    "calculate_bm25_score('apple', documents)"
   ]
  },
  {
   "cell_type": "code",
   "execution_count": null,
   "id": "8caf5c44-4a29-47ed-b2fe-0a8b8ca10c24",
   "metadata": {},
   "outputs": [],
   "source": []
  }
 ],
 "metadata": {
  "kernelspec": {
   "display_name": "openai",
   "language": "python",
   "name": "openai"
  },
  "language_info": {
   "codemirror_mode": {
    "name": "ipython",
    "version": 3
   },
   "file_extension": ".py",
   "mimetype": "text/x-python",
   "name": "python",
   "nbconvert_exporter": "python",
   "pygments_lexer": "ipython3",
   "version": "3.10.13"
  }
 },
 "nbformat": 4,
 "nbformat_minor": 5
}
