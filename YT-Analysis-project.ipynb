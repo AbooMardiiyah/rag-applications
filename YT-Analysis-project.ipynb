{
 "cells": [
  {
   "cell_type": "code",
   "execution_count": 1,
   "id": "82c754d4",
   "metadata": {},
   "outputs": [],
   "source": [
    "from googleapiclient.discovery import build\n",
    "from youtube_interface import PyTubeClient\n",
    "import pandas as pd\n",
    "import seaborn as sns\n",
    "import pandas as pd\n",
    "from dotenv import load_dotenv\n",
    "load_dotenv('./.env', override=True)\n",
    "import os\n",
    "import json"
   ]
  },
  {
   "cell_type": "code",
   "execution_count": 2,
   "id": "9043a082-69ff-4ba3-8f9a-e0433ce0c0d4",
   "metadata": {},
   "outputs": [],
   "source": [
    "os.environ[\"OAUTHLIB_INSECURE_TRANSPORT\"] = \"1\"\n",
    "api_service_name = \"youtube\"\n",
    "api_version = \"v3\"\n",
    "api_key = os.environ['YT_API_KEY']\n",
    "channel_id = 'TomBilyeu'"
   ]
  },
  {
   "cell_type": "code",
   "execution_count": 3,
   "id": "34155b7a-e59a-46a7-99b8-7a3456ec8d0f",
   "metadata": {},
   "outputs": [
    {
     "data": {
      "text/plain": [
       "{'kind': 'youtube#channelListResponse',\n",
       " 'etag': 'RuuXzTIr0OoDqI4S0RU6n4FqKEM',\n",
       " 'pageInfo': {'totalResults': 0, 'resultsPerPage': 5}}"
      ]
     },
     "execution_count": 3,
     "metadata": {},
     "output_type": "execute_result"
    }
   ],
   "source": [
    "import os\n",
    "\n",
    "import googleapiclient.discovery\n",
    "import googleapiclient.errors\n",
    "\n",
    "scopes = [\"https://www.googleapis.com/auth/youtube.readonly\"]\n",
    "\n",
    "\n",
    "    # Get credentials and create an API client\n",
    "youtube = build('youtube', 'v3', developerKey=api_key)\n",
    "request = youtube.channels().list(\n",
    "    part=\"snippet,contentDetails,statistics\",\n",
    "    forUsername=channel_id)\n",
    "    # forUsername=\"fivethirtyeight\")\n",
    "\n",
    "response = request.execute()\n",
    "response"
   ]
  },
  {
   "cell_type": "code",
   "execution_count": 12,
   "id": "64a8ce37",
   "metadata": {},
   "outputs": [],
   "source": [
    "\n",
    "# channel_ids = ['UCnz-ZXXER4jOvuED5trXfEA', # techTFQ\n",
    "#                'UCLLw7jmFsvfIVaUFsLs8mlQ', # Luke Barousse \n",
    "#                'UCiT9RITQ9PW6BhXK0y2jaeg', # Ken Jee\n",
    "#                'UC7cs8q-gJRlGwj4A8OmCmXg', # Alex the analyst\n",
    "#                'UC2UXDak6o7rBm23k3Vv5dww' # Tina Huang\n",
    "#               ]"
   ]
  },
  {
   "cell_type": "code",
   "execution_count": 5,
   "id": "ced4db3c-d25d-43aa-a29f-d22a86cb52a3",
   "metadata": {},
   "outputs": [
    {
     "data": {
      "text/plain": [
       "'youtube#channelListResponse'"
      ]
     },
     "execution_count": 5,
     "metadata": {},
     "output_type": "execute_result"
    }
   ],
   "source": [
    "response['kind']"
   ]
  },
  {
   "cell_type": "code",
   "execution_count": 7,
   "id": "662b5aaf-6390-4bd2-9620-78b46d3ba186",
   "metadata": {},
   "outputs": [],
   "source": [
    "channel_id = 'UCnYMOamNKLGVlJgRUbamveA'"
   ]
  },
  {
   "cell_type": "code",
   "execution_count": 28,
   "id": "1c6528d9-269a-4890-b902-ff164ca44c21",
   "metadata": {},
   "outputs": [
    {
     "data": {
      "text/plain": [
       "'UUFTSB49Ut6hNt08IdfS5UbA'"
      ]
     },
     "execution_count": 28,
     "metadata": {},
     "output_type": "execute_result"
    }
   ],
   "source": [
    "response['items'][0]['contentDetails']['relatedPlaylists']['uploads']"
   ]
  },
  {
   "cell_type": "markdown",
   "id": "2d96fcaa",
   "metadata": {},
   "source": [
    "## Function to get channel statistics"
   ]
  },
  {
   "cell_type": "code",
   "execution_count": 8,
   "id": "bacbf3f9",
   "metadata": {},
   "outputs": [],
   "source": [
    "def get_channel_stats(youtube, channel_ids):\n",
    "    all_data = []\n",
    "    request = youtube.channels().list(\n",
    "                part='snippet,contentDetails,statistics',\n",
    "                id=channel_ids) #','.join(channel_ids))\n",
    "    response = request.execute() \n",
    "    \n",
    "    for i in range(len(response['items'])):\n",
    "        data = dict(Channel_name = response['items'][i]['snippet']['title'],\n",
    "                    Subscribers = response['items'][i]['statistics']['subscriberCount'],\n",
    "                    Views = response['items'][i]['statistics']['viewCount'],\n",
    "                    Total_videos = response['items'][i]['statistics']['videoCount'],\n",
    "                    playlist_id = response['items'][i]['contentDetails']['relatedPlaylists']['uploads'])\n",
    "        all_data.append(data)\n",
    "    \n",
    "    return all_data"
   ]
  },
  {
   "cell_type": "code",
   "execution_count": 9,
   "id": "e596dc28",
   "metadata": {},
   "outputs": [],
   "source": [
    "channel_statistics = get_channel_stats(youtube, channel_id)"
   ]
  },
  {
   "cell_type": "code",
   "execution_count": 10,
   "id": "9ee879bd",
   "metadata": {},
   "outputs": [],
   "source": [
    "channel_data = pd.DataFrame(channel_statistics)"
   ]
  },
  {
   "cell_type": "code",
   "execution_count": 19,
   "id": "153d9303",
   "metadata": {},
   "outputs": [
    {
     "data": {
      "text/plain": [
       "[{'Channel_name': 'Tom Bilyeu',\n",
       "  'Subscribers': '3850000',\n",
       "  'Views': '386495450',\n",
       "  'Total_videos': '1049',\n",
       "  'playlist_id': 'UUnYMOamNKLGVlJgRUbamveA'}]"
      ]
     },
     "execution_count": 19,
     "metadata": {},
     "output_type": "execute_result"
    }
   ],
   "source": [
    "channel_statistics"
   ]
  },
  {
   "cell_type": "markdown",
   "id": "0aee6e25",
   "metadata": {},
   "source": [
    "## Function to get video ids"
   ]
  },
  {
   "cell_type": "code",
   "execution_count": 12,
   "id": "82736d10",
   "metadata": {},
   "outputs": [],
   "source": [
    "# playlist_id = channel_data.playlist_id.values.tolist()[0]\n",
    "# playlist_id = \"PLAiITlQWhsRTcIw_C4SHr0y_WqogzR8lR\"\n",
    "impact_playlist_id = \"PL8qcvQ7Byc3OJ02hbWJbHWePh4XEg3cvo\""
   ]
  },
  {
   "cell_type": "code",
   "execution_count": 13,
   "id": "16a7f31d",
   "metadata": {},
   "outputs": [],
   "source": [
    "def get_video_ids(youtube, playlist_id):\n",
    "    \n",
    "    request = youtube.playlistItems().list(\n",
    "                part='contentDetails',\n",
    "                playlistId = playlist_id,\n",
    "                maxResults = 500)\n",
    "    response = request.execute()\n",
    "    video_ids = []\n",
    "    \n",
    "    items = response['items']\n",
    "    for i in range(len(items)):\n",
    "        video_ids.append(items[i]['contentDetails']['videoId'])\n",
    "        \n",
    "    next_page_token = response.get('nextPageToken')\n",
    "    if next_page_token:\n",
    "        more_pages = True\n",
    "        page_count = 1\n",
    "    \n",
    "    while more_pages:\n",
    "        page_count += 1\n",
    "        request = youtube.playlistItems().list(\n",
    "                    part='contentDetails',\n",
    "                    playlistId = playlist_id,\n",
    "                    maxResults = 50,\n",
    "                    pageToken = next_page_token)\n",
    "        page_response = request.execute()\n",
    "        \n",
    "        for i in range(len(page_response['items'])):\n",
    "            video_ids.append(page_response['items'][i]['contentDetails']['videoId'])\n",
    "        print(f'Total pages ripped: {page_count}')\n",
    "        next_page_token = page_response.get('nextPageToken', False)\n",
    "        if not next_page_token:\n",
    "            more_pages = next_page_token\n",
    "        \n",
    "    return video_ids"
   ]
  },
  {
   "cell_type": "code",
   "execution_count": 14,
   "id": "b43d9f6d",
   "metadata": {},
   "outputs": [
    {
     "name": "stdout",
     "output_type": "stream",
     "text": [
      "Total pages ripped: 2\n",
      "Total pages ripped: 3\n",
      "Total pages ripped: 4\n",
      "Total pages ripped: 5\n",
      "Total pages ripped: 6\n",
      "Total pages ripped: 7\n",
      "Total pages ripped: 8\n"
     ]
    }
   ],
   "source": [
    "video_ids = get_video_ids(youtube, impact_playlist_id)"
   ]
  },
  {
   "cell_type": "code",
   "execution_count": 24,
   "id": "8cef0e9e-9acc-4f4d-922b-a3c3200a748b",
   "metadata": {},
   "outputs": [],
   "source": [
    "vid_df = pd.DataFrame(video_ids)\n",
    "vid_df.to_csv('/home/elastic/notebooks/vector_search_applications/practice_data/impact_theory_video_ids.csv', index=False, header=False)"
   ]
  },
  {
   "cell_type": "code",
   "execution_count": 13,
   "id": "b794d9a7-611c-42a4-b0d0-b0c05fc1dc74",
   "metadata": {},
   "outputs": [],
   "source": [
    "with open('./data/impact_theory_metadata.json') as f:\n",
    "    data = json.loads(f.read())"
   ]
  },
  {
   "cell_type": "code",
   "execution_count": 23,
   "id": "8a452d3d-5a0f-4e57-9d0e-008e0747c758",
   "metadata": {},
   "outputs": [],
   "source": [
    "start = 387\n",
    "for i in range(len(video_ids)):\n",
    "    episode = start - i + 1\n",
    "    video_id = video_ids[i]\n",
    "    for d in data:\n",
    "        if d['video_id'] == video_id:\n",
    "            d.update(episode_num=episode)\n",
    "    "
   ]
  },
  {
   "cell_type": "code",
   "execution_count": 28,
   "id": "6e7806b2-f647-4083-9b5f-0e530923e40f",
   "metadata": {},
   "outputs": [
    {
     "name": "stderr",
     "output_type": "stream",
     "text": [
      "\u001b[32m2023-09-13 19:54:25.225\u001b[0m | \u001b[1mINFO    \u001b[0m | \u001b[36myoutube_interface\u001b[0m:\u001b[36msave_meta_toJSON\u001b[0m:\u001b[36m195\u001b[0m - \u001b[1mMetadata saved as: /home/elastic/notebooks/vector_search_applications/data/impact_theory_metadata.json.\u001b[0m\n"
     ]
    }
   ],
   "source": [
    "client = PyTubeClient('fake')\n",
    "client.save_meta_toJSON(data, out_path='/home/elastic/notebooks/vector_search_applications/data/impact_theory_metadata.json')"
   ]
  },
  {
   "cell_type": "markdown",
   "id": "5e4d7269",
   "metadata": {},
   "source": [
    "## Function to get video details"
   ]
  },
  {
   "cell_type": "code",
   "execution_count": 16,
   "id": "6f0678b5",
   "metadata": {},
   "outputs": [],
   "source": [
    "def get_video_details(youtube, video_ids: list):\n",
    "    all_video_stats = []\n",
    "    \n",
    "    for i in range(0, len(video_ids), 50):\n",
    "        request = youtube.videos().list(\n",
    "                    part='snippet,statistics',\n",
    "                    id=','.join(video_ids[i:i+50]))\n",
    "        response = request.execute()\n",
    "        \n",
    "        for video in response['items']:\n",
    "            video_stats = dict(Title = video['snippet']['title'],\n",
    "                               Published_date = video['snippet']['publishedAt'],\n",
    "                               Views = video['statistics']['viewCount'],\n",
    "                               Likes = video['statistics']['likeCount'],\n",
    "                               Comments = video['statistics']['commentCount']\n",
    "                               )\n",
    "            all_video_stats.append(video_stats)\n",
    "    \n",
    "    return response['items']"
   ]
  },
  {
   "cell_type": "code",
   "execution_count": 17,
   "id": "071b1776",
   "metadata": {},
   "outputs": [],
   "source": [
    "video_details = get_video_details(youtube, video_ids)"
   ]
  },
  {
   "cell_type": "code",
   "execution_count": 20,
   "id": "7af2c528-955b-442e-b4de-bd68bea56c3f",
   "metadata": {},
   "outputs": [],
   "source": [
    "# video_details"
   ]
  },
  {
   "cell_type": "code",
   "execution_count": 148,
   "id": "b6cc7a6d",
   "metadata": {},
   "outputs": [],
   "source": [
    "video_data = pd.DataFrame(video_ids, columns=['Video_Ids'])"
   ]
  },
  {
   "cell_type": "code",
   "execution_count": 21,
   "id": "700f29d7-789e-4b59-bb68-1705e13bc17b",
   "metadata": {},
   "outputs": [],
   "source": [
    "# video_data.to_csv('./video_ids_538.csv', index=False)"
   ]
  },
  {
   "cell_type": "code",
   "execution_count": 19,
   "id": "92a7816d",
   "metadata": {},
   "outputs": [
    {
     "data": {
      "text/html": [
       "<div>\n",
       "<style scoped>\n",
       "    .dataframe tbody tr th:only-of-type {\n",
       "        vertical-align: middle;\n",
       "    }\n",
       "\n",
       "    .dataframe tbody tr th {\n",
       "        vertical-align: top;\n",
       "    }\n",
       "\n",
       "    .dataframe thead th {\n",
       "        text-align: right;\n",
       "    }\n",
       "</style>\n",
       "<table border=\"1\" class=\"dataframe\">\n",
       "  <thead>\n",
       "    <tr style=\"text-align: right;\">\n",
       "      <th></th>\n",
       "      <th>Title</th>\n",
       "      <th>Published_date</th>\n",
       "      <th>Views</th>\n",
       "      <th>Likes</th>\n",
       "      <th>Dislikes</th>\n",
       "      <th>Comments</th>\n",
       "    </tr>\n",
       "  </thead>\n",
       "  <tbody>\n",
       "    <tr>\n",
       "      <th>0</th>\n",
       "      <td>#66DaysOfData Round 3 Live Event! (feat. @Stat...</td>\n",
       "      <td>2021-10-12</td>\n",
       "      <td>1222</td>\n",
       "      <td>108</td>\n",
       "      <td>0</td>\n",
       "      <td>3</td>\n",
       "    </tr>\n",
       "    <tr>\n",
       "      <th>1</th>\n",
       "      <td>My First Data Science Project (What Really Hap...</td>\n",
       "      <td>2021-10-08</td>\n",
       "      <td>2123</td>\n",
       "      <td>154</td>\n",
       "      <td>0</td>\n",
       "      <td>56</td>\n",
       "    </tr>\n",
       "    <tr>\n",
       "      <th>2</th>\n",
       "      <td>Is Data Visualization Important for Data Scien...</td>\n",
       "      <td>2021-08-20</td>\n",
       "      <td>9180</td>\n",
       "      <td>444</td>\n",
       "      <td>1</td>\n",
       "      <td>115</td>\n",
       "    </tr>\n",
       "    <tr>\n",
       "      <th>3</th>\n",
       "      <td>Project Presentation - Expectations vs. Realit...</td>\n",
       "      <td>2021-08-07</td>\n",
       "      <td>4421</td>\n",
       "      <td>162</td>\n",
       "      <td>2</td>\n",
       "      <td>36</td>\n",
       "    </tr>\n",
       "    <tr>\n",
       "      <th>4</th>\n",
       "      <td>Data Science Project - Expectations vs Reality...</td>\n",
       "      <td>2021-08-06</td>\n",
       "      <td>5474</td>\n",
       "      <td>198</td>\n",
       "      <td>5</td>\n",
       "      <td>18</td>\n",
       "    </tr>\n",
       "    <tr>\n",
       "      <th>...</th>\n",
       "      <td>...</td>\n",
       "      <td>...</td>\n",
       "      <td>...</td>\n",
       "      <td>...</td>\n",
       "      <td>...</td>\n",
       "      <td>...</td>\n",
       "    </tr>\n",
       "    <tr>\n",
       "      <th>202</th>\n",
       "      <td>How to Simulate NBA Games in Python</td>\n",
       "      <td>2018-11-19</td>\n",
       "      <td>12818</td>\n",
       "      <td>293</td>\n",
       "      <td>1</td>\n",
       "      <td>48</td>\n",
       "    </tr>\n",
       "    <tr>\n",
       "      <th>203</th>\n",
       "      <td>Should You Get A Masters in Data Science?</td>\n",
       "      <td>2018-11-14</td>\n",
       "      <td>17273</td>\n",
       "      <td>263</td>\n",
       "      <td>9</td>\n",
       "      <td>136</td>\n",
       "    </tr>\n",
       "    <tr>\n",
       "      <th>204</th>\n",
       "      <td>How I Became A Data Scientist From a Business ...</td>\n",
       "      <td>2018-11-12</td>\n",
       "      <td>5203</td>\n",
       "      <td>156</td>\n",
       "      <td>3</td>\n",
       "      <td>23</td>\n",
       "    </tr>\n",
       "    <tr>\n",
       "      <th>205</th>\n",
       "      <td>Predicting Season Long NBA Wins Using Multiple...</td>\n",
       "      <td>2018-07-10</td>\n",
       "      <td>6277</td>\n",
       "      <td>144</td>\n",
       "      <td>2</td>\n",
       "      <td>17</td>\n",
       "    </tr>\n",
       "    <tr>\n",
       "      <th>206</th>\n",
       "      <td>Predicting Crypto-Currency Price Using RNN lST...</td>\n",
       "      <td>2017-11-18</td>\n",
       "      <td>15927</td>\n",
       "      <td>241</td>\n",
       "      <td>17</td>\n",
       "      <td>39</td>\n",
       "    </tr>\n",
       "  </tbody>\n",
       "</table>\n",
       "<p>207 rows × 6 columns</p>\n",
       "</div>"
      ],
      "text/plain": [
       "                                                 Title Published_date  Views  \\\n",
       "0    #66DaysOfData Round 3 Live Event! (feat. @Stat...     2021-10-12   1222   \n",
       "1    My First Data Science Project (What Really Hap...     2021-10-08   2123   \n",
       "2    Is Data Visualization Important for Data Scien...     2021-08-20   9180   \n",
       "3    Project Presentation - Expectations vs. Realit...     2021-08-07   4421   \n",
       "4    Data Science Project - Expectations vs Reality...     2021-08-06   5474   \n",
       "..                                                 ...            ...    ...   \n",
       "202                How to Simulate NBA Games in Python     2018-11-19  12818   \n",
       "203          Should You Get A Masters in Data Science?     2018-11-14  17273   \n",
       "204  How I Became A Data Scientist From a Business ...     2018-11-12   5203   \n",
       "205  Predicting Season Long NBA Wins Using Multiple...     2018-07-10   6277   \n",
       "206  Predicting Crypto-Currency Price Using RNN lST...     2017-11-18  15927   \n",
       "\n",
       "     Likes  Dislikes Comments  \n",
       "0      108         0        3  \n",
       "1      154         0       56  \n",
       "2      444         1      115  \n",
       "3      162         2       36  \n",
       "4      198         5       18  \n",
       "..     ...       ...      ...  \n",
       "202    293         1       48  \n",
       "203    263         9      136  \n",
       "204    156         3       23  \n",
       "205    144         2       17  \n",
       "206    241        17       39  \n",
       "\n",
       "[207 rows x 6 columns]"
      ]
     },
     "execution_count": 19,
     "metadata": {},
     "output_type": "execute_result"
    }
   ],
   "source": [
    "video_data['Published_date'] = pd.to_datetime(video_data['Published_date']).dt.date\n",
    "video_data['Views'] = pd.to_numeric(video_data['Views'])\n",
    "video_data['Likes'] = pd.to_numeric(video_data['Likes'])\n",
    "video_data['Dislikes'] = pd.to_numeric(video_data['Dislikes'])\n",
    "video_data['Views'] = pd.to_numeric(video_data['Views'])\n",
    "video_data"
   ]
  },
  {
   "cell_type": "code",
   "execution_count": 20,
   "id": "aefaa638",
   "metadata": {},
   "outputs": [],
   "source": [
    "top10_videos = video_data.sort_values(by='Views', ascending=False).head(10)"
   ]
  },
  {
   "cell_type": "code",
   "execution_count": 21,
   "id": "8ccdc503",
   "metadata": {},
   "outputs": [
    {
     "data": {
      "text/html": [
       "<div>\n",
       "<style scoped>\n",
       "    .dataframe tbody tr th:only-of-type {\n",
       "        vertical-align: middle;\n",
       "    }\n",
       "\n",
       "    .dataframe tbody tr th {\n",
       "        vertical-align: top;\n",
       "    }\n",
       "\n",
       "    .dataframe thead th {\n",
       "        text-align: right;\n",
       "    }\n",
       "</style>\n",
       "<table border=\"1\" class=\"dataframe\">\n",
       "  <thead>\n",
       "    <tr style=\"text-align: right;\">\n",
       "      <th></th>\n",
       "      <th>Title</th>\n",
       "      <th>Published_date</th>\n",
       "      <th>Views</th>\n",
       "      <th>Likes</th>\n",
       "      <th>Dislikes</th>\n",
       "      <th>Comments</th>\n",
       "    </tr>\n",
       "  </thead>\n",
       "  <tbody>\n",
       "    <tr>\n",
       "      <th>109</th>\n",
       "      <td>How I Would Learn Data Science (If I Had to St...</td>\n",
       "      <td>2020-05-08</td>\n",
       "      <td>1149174</td>\n",
       "      <td>41875</td>\n",
       "      <td>784</td>\n",
       "      <td>1865</td>\n",
       "    </tr>\n",
       "    <tr>\n",
       "      <th>130</th>\n",
       "      <td>The Best Free Data Science Courses Nobody is T...</td>\n",
       "      <td>2020-03-09</td>\n",
       "      <td>277707</td>\n",
       "      <td>17798</td>\n",
       "      <td>63</td>\n",
       "      <td>602</td>\n",
       "    </tr>\n",
       "    <tr>\n",
       "      <th>136</th>\n",
       "      <td>3 Proven Data Science Projects for Beginners (...</td>\n",
       "      <td>2020-02-17</td>\n",
       "      <td>209087</td>\n",
       "      <td>12883</td>\n",
       "      <td>50</td>\n",
       "      <td>462</td>\n",
       "    </tr>\n",
       "    <tr>\n",
       "      <th>85</th>\n",
       "      <td>Beginner Kaggle Data Science Project Walk-Thro...</td>\n",
       "      <td>2020-07-17</td>\n",
       "      <td>142278</td>\n",
       "      <td>3752</td>\n",
       "      <td>42</td>\n",
       "      <td>342</td>\n",
       "    </tr>\n",
       "    <tr>\n",
       "      <th>175</th>\n",
       "      <td>The Projects You Should Do To Get A Data Scien...</td>\n",
       "      <td>2019-07-30</td>\n",
       "      <td>126146</td>\n",
       "      <td>4941</td>\n",
       "      <td>78</td>\n",
       "      <td>249</td>\n",
       "    </tr>\n",
       "    <tr>\n",
       "      <th>37</th>\n",
       "      <td>How I Would Learn Data Science in 2021 (What H...</td>\n",
       "      <td>2020-12-19</td>\n",
       "      <td>114565</td>\n",
       "      <td>5440</td>\n",
       "      <td>54</td>\n",
       "      <td>503</td>\n",
       "    </tr>\n",
       "    <tr>\n",
       "      <th>22</th>\n",
       "      <td>Why You Probably Won't Become a Data Scientist</td>\n",
       "      <td>2021-04-09</td>\n",
       "      <td>97938</td>\n",
       "      <td>2873</td>\n",
       "      <td>111</td>\n",
       "      <td>464</td>\n",
       "    </tr>\n",
       "    <tr>\n",
       "      <th>30</th>\n",
       "      <td>Why I Quit Data Science</td>\n",
       "      <td>2021-02-12</td>\n",
       "      <td>94986</td>\n",
       "      <td>2159</td>\n",
       "      <td>148</td>\n",
       "      <td>346</td>\n",
       "    </tr>\n",
       "    <tr>\n",
       "      <th>122</th>\n",
       "      <td>Data Science Project from Scratch - Part 1 (Pr...</td>\n",
       "      <td>2020-04-03</td>\n",
       "      <td>90809</td>\n",
       "      <td>2924</td>\n",
       "      <td>18</td>\n",
       "      <td>147</td>\n",
       "    </tr>\n",
       "    <tr>\n",
       "      <th>153</th>\n",
       "      <td>3 Reasons You Should NOT Become a Data Scientist</td>\n",
       "      <td>2019-12-16</td>\n",
       "      <td>89363</td>\n",
       "      <td>2661</td>\n",
       "      <td>79</td>\n",
       "      <td>206</td>\n",
       "    </tr>\n",
       "  </tbody>\n",
       "</table>\n",
       "</div>"
      ],
      "text/plain": [
       "                                                 Title Published_date  \\\n",
       "109  How I Would Learn Data Science (If I Had to St...     2020-05-08   \n",
       "130  The Best Free Data Science Courses Nobody is T...     2020-03-09   \n",
       "136  3 Proven Data Science Projects for Beginners (...     2020-02-17   \n",
       "85   Beginner Kaggle Data Science Project Walk-Thro...     2020-07-17   \n",
       "175  The Projects You Should Do To Get A Data Scien...     2019-07-30   \n",
       "37   How I Would Learn Data Science in 2021 (What H...     2020-12-19   \n",
       "22      Why You Probably Won't Become a Data Scientist     2021-04-09   \n",
       "30                             Why I Quit Data Science     2021-02-12   \n",
       "122  Data Science Project from Scratch - Part 1 (Pr...     2020-04-03   \n",
       "153   3 Reasons You Should NOT Become a Data Scientist     2019-12-16   \n",
       "\n",
       "       Views  Likes  Dislikes Comments  \n",
       "109  1149174  41875       784     1865  \n",
       "130   277707  17798        63      602  \n",
       "136   209087  12883        50      462  \n",
       "85    142278   3752        42      342  \n",
       "175   126146   4941        78      249  \n",
       "37    114565   5440        54      503  \n",
       "22     97938   2873       111      464  \n",
       "30     94986   2159       148      346  \n",
       "122    90809   2924        18      147  \n",
       "153    89363   2661        79      206  "
      ]
     },
     "execution_count": 21,
     "metadata": {},
     "output_type": "execute_result"
    }
   ],
   "source": [
    "top10_videos"
   ]
  },
  {
   "cell_type": "code",
   "execution_count": 22,
   "id": "56fb165b",
   "metadata": {},
   "outputs": [
    {
     "data": {
      "image/png": "[encoded data removed]",
      "text/plain": [
       "<Figure size 720x576 with 1 Axes>"
      ]
     },
     "metadata": {},
     "output_type": "display_data"
    }
   ],
   "source": [
    "ax1 = sns.barplot(x='Views', y='Title', data=top10_videos)"
   ]
  },
  {
   "cell_type": "code",
   "execution_count": 23,
   "id": "ccacdaf0",
   "metadata": {},
   "outputs": [
    {
     "data": {
      "text/html": [
       "<div>\n",
       "<style scoped>\n",
       "    .dataframe tbody tr th:only-of-type {\n",
       "        vertical-align: middle;\n",
       "    }\n",
       "\n",
       "    .dataframe tbody tr th {\n",
       "        vertical-align: top;\n",
       "    }\n",
       "\n",
       "    .dataframe thead th {\n",
       "        text-align: right;\n",
       "    }\n",
       "</style>\n",
       "<table border=\"1\" class=\"dataframe\">\n",
       "  <thead>\n",
       "    <tr style=\"text-align: right;\">\n",
       "      <th></th>\n",
       "      <th>Title</th>\n",
       "      <th>Published_date</th>\n",
       "      <th>Views</th>\n",
       "      <th>Likes</th>\n",
       "      <th>Dislikes</th>\n",
       "      <th>Comments</th>\n",
       "    </tr>\n",
       "  </thead>\n",
       "  <tbody>\n",
       "    <tr>\n",
       "      <th>0</th>\n",
       "      <td>#66DaysOfData Round 3 Live Event! (feat. @Stat...</td>\n",
       "      <td>2021-10-12</td>\n",
       "      <td>1222</td>\n",
       "      <td>108</td>\n",
       "      <td>0</td>\n",
       "      <td>3</td>\n",
       "    </tr>\n",
       "    <tr>\n",
       "      <th>1</th>\n",
       "      <td>My First Data Science Project (What Really Hap...</td>\n",
       "      <td>2021-10-08</td>\n",
       "      <td>2123</td>\n",
       "      <td>154</td>\n",
       "      <td>0</td>\n",
       "      <td>56</td>\n",
       "    </tr>\n",
       "    <tr>\n",
       "      <th>2</th>\n",
       "      <td>Is Data Visualization Important for Data Scien...</td>\n",
       "      <td>2021-08-20</td>\n",
       "      <td>9180</td>\n",
       "      <td>444</td>\n",
       "      <td>1</td>\n",
       "      <td>115</td>\n",
       "    </tr>\n",
       "    <tr>\n",
       "      <th>3</th>\n",
       "      <td>Project Presentation - Expectations vs. Realit...</td>\n",
       "      <td>2021-08-07</td>\n",
       "      <td>4421</td>\n",
       "      <td>162</td>\n",
       "      <td>2</td>\n",
       "      <td>36</td>\n",
       "    </tr>\n",
       "    <tr>\n",
       "      <th>4</th>\n",
       "      <td>Data Science Project - Expectations vs Reality...</td>\n",
       "      <td>2021-08-06</td>\n",
       "      <td>5474</td>\n",
       "      <td>198</td>\n",
       "      <td>5</td>\n",
       "      <td>18</td>\n",
       "    </tr>\n",
       "    <tr>\n",
       "      <th>...</th>\n",
       "      <td>...</td>\n",
       "      <td>...</td>\n",
       "      <td>...</td>\n",
       "      <td>...</td>\n",
       "      <td>...</td>\n",
       "      <td>...</td>\n",
       "    </tr>\n",
       "    <tr>\n",
       "      <th>202</th>\n",
       "      <td>How to Simulate NBA Games in Python</td>\n",
       "      <td>2018-11-19</td>\n",
       "      <td>12818</td>\n",
       "      <td>293</td>\n",
       "      <td>1</td>\n",
       "      <td>48</td>\n",
       "    </tr>\n",
       "    <tr>\n",
       "      <th>203</th>\n",
       "      <td>Should You Get A Masters in Data Science?</td>\n",
       "      <td>2018-11-14</td>\n",
       "      <td>17273</td>\n",
       "      <td>263</td>\n",
       "      <td>9</td>\n",
       "      <td>136</td>\n",
       "    </tr>\n",
       "    <tr>\n",
       "      <th>204</th>\n",
       "      <td>How I Became A Data Scientist From a Business ...</td>\n",
       "      <td>2018-11-12</td>\n",
       "      <td>5203</td>\n",
       "      <td>156</td>\n",
       "      <td>3</td>\n",
       "      <td>23</td>\n",
       "    </tr>\n",
       "    <tr>\n",
       "      <th>205</th>\n",
       "      <td>Predicting Season Long NBA Wins Using Multiple...</td>\n",
       "      <td>2018-07-10</td>\n",
       "      <td>6277</td>\n",
       "      <td>144</td>\n",
       "      <td>2</td>\n",
       "      <td>17</td>\n",
       "    </tr>\n",
       "    <tr>\n",
       "      <th>206</th>\n",
       "      <td>Predicting Crypto-Currency Price Using RNN lST...</td>\n",
       "      <td>2017-11-18</td>\n",
       "      <td>15927</td>\n",
       "      <td>241</td>\n",
       "      <td>17</td>\n",
       "      <td>39</td>\n",
       "    </tr>\n",
       "  </tbody>\n",
       "</table>\n",
       "<p>207 rows × 6 columns</p>\n",
       "</div>"
      ],
      "text/plain": [
       "                                                 Title Published_date  Views  \\\n",
       "0    #66DaysOfData Round 3 Live Event! (feat. @Stat...     2021-10-12   1222   \n",
       "1    My First Data Science Project (What Really Hap...     2021-10-08   2123   \n",
       "2    Is Data Visualization Important for Data Scien...     2021-08-20   9180   \n",
       "3    Project Presentation - Expectations vs. Realit...     2021-08-07   4421   \n",
       "4    Data Science Project - Expectations vs Reality...     2021-08-06   5474   \n",
       "..                                                 ...            ...    ...   \n",
       "202                How to Simulate NBA Games in Python     2018-11-19  12818   \n",
       "203          Should You Get A Masters in Data Science?     2018-11-14  17273   \n",
       "204  How I Became A Data Scientist From a Business ...     2018-11-12   5203   \n",
       "205  Predicting Season Long NBA Wins Using Multiple...     2018-07-10   6277   \n",
       "206  Predicting Crypto-Currency Price Using RNN lST...     2017-11-18  15927   \n",
       "\n",
       "     Likes  Dislikes Comments  \n",
       "0      108         0        3  \n",
       "1      154         0       56  \n",
       "2      444         1      115  \n",
       "3      162         2       36  \n",
       "4      198         5       18  \n",
       "..     ...       ...      ...  \n",
       "202    293         1       48  \n",
       "203    263         9      136  \n",
       "204    156         3       23  \n",
       "205    144         2       17  \n",
       "206    241        17       39  \n",
       "\n",
       "[207 rows x 6 columns]"
      ]
     },
     "execution_count": 23,
     "metadata": {},
     "output_type": "execute_result"
    }
   ],
   "source": [
    "video_data"
   ]
  },
  {
   "cell_type": "code",
   "execution_count": 24,
   "id": "c84256b0",
   "metadata": {},
   "outputs": [],
   "source": [
    "video_data['Month'] = pd.to_datetime(video_data['Published_date']).dt.strftime('%b')"
   ]
  },
  {
   "cell_type": "code",
   "execution_count": 25,
   "id": "c539398c",
   "metadata": {},
   "outputs": [
    {
     "data": {
      "text/html": [
       "<div>\n",
       "<style scoped>\n",
       "    .dataframe tbody tr th:only-of-type {\n",
       "        vertical-align: middle;\n",
       "    }\n",
       "\n",
       "    .dataframe tbody tr th {\n",
       "        vertical-align: top;\n",
       "    }\n",
       "\n",
       "    .dataframe thead th {\n",
       "        text-align: right;\n",
       "    }\n",
       "</style>\n",
       "<table border=\"1\" class=\"dataframe\">\n",
       "  <thead>\n",
       "    <tr style=\"text-align: right;\">\n",
       "      <th></th>\n",
       "      <th>Title</th>\n",
       "      <th>Published_date</th>\n",
       "      <th>Views</th>\n",
       "      <th>Likes</th>\n",
       "      <th>Dislikes</th>\n",
       "      <th>Comments</th>\n",
       "      <th>Month</th>\n",
       "    </tr>\n",
       "  </thead>\n",
       "  <tbody>\n",
       "    <tr>\n",
       "      <th>0</th>\n",
       "      <td>#66DaysOfData Round 3 Live Event! (feat. @Stat...</td>\n",
       "      <td>2021-10-12</td>\n",
       "      <td>1222</td>\n",
       "      <td>108</td>\n",
       "      <td>0</td>\n",
       "      <td>3</td>\n",
       "      <td>Oct</td>\n",
       "    </tr>\n",
       "    <tr>\n",
       "      <th>1</th>\n",
       "      <td>My First Data Science Project (What Really Hap...</td>\n",
       "      <td>2021-10-08</td>\n",
       "      <td>2123</td>\n",
       "      <td>154</td>\n",
       "      <td>0</td>\n",
       "      <td>56</td>\n",
       "      <td>Oct</td>\n",
       "    </tr>\n",
       "    <tr>\n",
       "      <th>2</th>\n",
       "      <td>Is Data Visualization Important for Data Scien...</td>\n",
       "      <td>2021-08-20</td>\n",
       "      <td>9180</td>\n",
       "      <td>444</td>\n",
       "      <td>1</td>\n",
       "      <td>115</td>\n",
       "      <td>Aug</td>\n",
       "    </tr>\n",
       "    <tr>\n",
       "      <th>3</th>\n",
       "      <td>Project Presentation - Expectations vs. Realit...</td>\n",
       "      <td>2021-08-07</td>\n",
       "      <td>4421</td>\n",
       "      <td>162</td>\n",
       "      <td>2</td>\n",
       "      <td>36</td>\n",
       "      <td>Aug</td>\n",
       "    </tr>\n",
       "    <tr>\n",
       "      <th>4</th>\n",
       "      <td>Data Science Project - Expectations vs Reality...</td>\n",
       "      <td>2021-08-06</td>\n",
       "      <td>5474</td>\n",
       "      <td>198</td>\n",
       "      <td>5</td>\n",
       "      <td>18</td>\n",
       "      <td>Aug</td>\n",
       "    </tr>\n",
       "    <tr>\n",
       "      <th>...</th>\n",
       "      <td>...</td>\n",
       "      <td>...</td>\n",
       "      <td>...</td>\n",
       "      <td>...</td>\n",
       "      <td>...</td>\n",
       "      <td>...</td>\n",
       "      <td>...</td>\n",
       "    </tr>\n",
       "    <tr>\n",
       "      <th>202</th>\n",
       "      <td>How to Simulate NBA Games in Python</td>\n",
       "      <td>2018-11-19</td>\n",
       "      <td>12818</td>\n",
       "      <td>293</td>\n",
       "      <td>1</td>\n",
       "      <td>48</td>\n",
       "      <td>Nov</td>\n",
       "    </tr>\n",
       "    <tr>\n",
       "      <th>203</th>\n",
       "      <td>Should You Get A Masters in Data Science?</td>\n",
       "      <td>2018-11-14</td>\n",
       "      <td>17273</td>\n",
       "      <td>263</td>\n",
       "      <td>9</td>\n",
       "      <td>136</td>\n",
       "      <td>Nov</td>\n",
       "    </tr>\n",
       "    <tr>\n",
       "      <th>204</th>\n",
       "      <td>How I Became A Data Scientist From a Business ...</td>\n",
       "      <td>2018-11-12</td>\n",
       "      <td>5203</td>\n",
       "      <td>156</td>\n",
       "      <td>3</td>\n",
       "      <td>23</td>\n",
       "      <td>Nov</td>\n",
       "    </tr>\n",
       "    <tr>\n",
       "      <th>205</th>\n",
       "      <td>Predicting Season Long NBA Wins Using Multiple...</td>\n",
       "      <td>2018-07-10</td>\n",
       "      <td>6277</td>\n",
       "      <td>144</td>\n",
       "      <td>2</td>\n",
       "      <td>17</td>\n",
       "      <td>Jul</td>\n",
       "    </tr>\n",
       "    <tr>\n",
       "      <th>206</th>\n",
       "      <td>Predicting Crypto-Currency Price Using RNN lST...</td>\n",
       "      <td>2017-11-18</td>\n",
       "      <td>15927</td>\n",
       "      <td>241</td>\n",
       "      <td>17</td>\n",
       "      <td>39</td>\n",
       "      <td>Nov</td>\n",
       "    </tr>\n",
       "  </tbody>\n",
       "</table>\n",
       "<p>207 rows × 7 columns</p>\n",
       "</div>"
      ],
      "text/plain": [
       "                                                 Title Published_date  Views  \\\n",
       "0    #66DaysOfData Round 3 Live Event! (feat. @Stat...     2021-10-12   1222   \n",
       "1    My First Data Science Project (What Really Hap...     2021-10-08   2123   \n",
       "2    Is Data Visualization Important for Data Scien...     2021-08-20   9180   \n",
       "3    Project Presentation - Expectations vs. Realit...     2021-08-07   4421   \n",
       "4    Data Science Project - Expectations vs Reality...     2021-08-06   5474   \n",
       "..                                                 ...            ...    ...   \n",
       "202                How to Simulate NBA Games in Python     2018-11-19  12818   \n",
       "203          Should You Get A Masters in Data Science?     2018-11-14  17273   \n",
       "204  How I Became A Data Scientist From a Business ...     2018-11-12   5203   \n",
       "205  Predicting Season Long NBA Wins Using Multiple...     2018-07-10   6277   \n",
       "206  Predicting Crypto-Currency Price Using RNN lST...     2017-11-18  15927   \n",
       "\n",
       "     Likes  Dislikes Comments Month  \n",
       "0      108         0        3   Oct  \n",
       "1      154         0       56   Oct  \n",
       "2      444         1      115   Aug  \n",
       "3      162         2       36   Aug  \n",
       "4      198         5       18   Aug  \n",
       "..     ...       ...      ...   ...  \n",
       "202    293         1       48   Nov  \n",
       "203    263         9      136   Nov  \n",
       "204    156         3       23   Nov  \n",
       "205    144         2       17   Jul  \n",
       "206    241        17       39   Nov  \n",
       "\n",
       "[207 rows x 7 columns]"
      ]
     },
     "execution_count": 25,
     "metadata": {},
     "output_type": "execute_result"
    }
   ],
   "source": [
    "video_data"
   ]
  },
  {
   "cell_type": "code",
   "execution_count": 26,
   "id": "62b8eed5",
   "metadata": {},
   "outputs": [],
   "source": [
    "videos_per_month = video_data.groupby('Month', as_index=False).size()"
   ]
  },
  {
   "cell_type": "code",
   "execution_count": 27,
   "id": "8fc5f839",
   "metadata": {},
   "outputs": [
    {
     "data": {
      "text/html": [
       "<div>\n",
       "<style scoped>\n",
       "    .dataframe tbody tr th:only-of-type {\n",
       "        vertical-align: middle;\n",
       "    }\n",
       "\n",
       "    .dataframe tbody tr th {\n",
       "        vertical-align: top;\n",
       "    }\n",
       "\n",
       "    .dataframe thead th {\n",
       "        text-align: right;\n",
       "    }\n",
       "</style>\n",
       "<table border=\"1\" class=\"dataframe\">\n",
       "  <thead>\n",
       "    <tr style=\"text-align: right;\">\n",
       "      <th></th>\n",
       "      <th>Month</th>\n",
       "      <th>size</th>\n",
       "    </tr>\n",
       "  </thead>\n",
       "  <tbody>\n",
       "    <tr>\n",
       "      <th>0</th>\n",
       "      <td>Apr</td>\n",
       "      <td>19</td>\n",
       "    </tr>\n",
       "    <tr>\n",
       "      <th>1</th>\n",
       "      <td>Aug</td>\n",
       "      <td>21</td>\n",
       "    </tr>\n",
       "    <tr>\n",
       "      <th>2</th>\n",
       "      <td>Dec</td>\n",
       "      <td>15</td>\n",
       "    </tr>\n",
       "    <tr>\n",
       "      <th>3</th>\n",
       "      <td>Feb</td>\n",
       "      <td>13</td>\n",
       "    </tr>\n",
       "    <tr>\n",
       "      <th>4</th>\n",
       "      <td>Jan</td>\n",
       "      <td>14</td>\n",
       "    </tr>\n",
       "    <tr>\n",
       "      <th>5</th>\n",
       "      <td>Jul</td>\n",
       "      <td>24</td>\n",
       "    </tr>\n",
       "    <tr>\n",
       "      <th>6</th>\n",
       "      <td>Jun</td>\n",
       "      <td>17</td>\n",
       "    </tr>\n",
       "    <tr>\n",
       "      <th>7</th>\n",
       "      <td>Mar</td>\n",
       "      <td>20</td>\n",
       "    </tr>\n",
       "    <tr>\n",
       "      <th>8</th>\n",
       "      <td>May</td>\n",
       "      <td>19</td>\n",
       "    </tr>\n",
       "    <tr>\n",
       "      <th>9</th>\n",
       "      <td>Nov</td>\n",
       "      <td>15</td>\n",
       "    </tr>\n",
       "    <tr>\n",
       "      <th>10</th>\n",
       "      <td>Oct</td>\n",
       "      <td>13</td>\n",
       "    </tr>\n",
       "    <tr>\n",
       "      <th>11</th>\n",
       "      <td>Sep</td>\n",
       "      <td>17</td>\n",
       "    </tr>\n",
       "  </tbody>\n",
       "</table>\n",
       "</div>"
      ],
      "text/plain": [
       "   Month  size\n",
       "0    Apr    19\n",
       "1    Aug    21\n",
       "2    Dec    15\n",
       "3    Feb    13\n",
       "4    Jan    14\n",
       "5    Jul    24\n",
       "6    Jun    17\n",
       "7    Mar    20\n",
       "8    May    19\n",
       "9    Nov    15\n",
       "10   Oct    13\n",
       "11   Sep    17"
      ]
     },
     "execution_count": 27,
     "metadata": {},
     "output_type": "execute_result"
    }
   ],
   "source": [
    "videos_per_month"
   ]
  },
  {
   "cell_type": "code",
   "execution_count": 28,
   "id": "6ba9292d",
   "metadata": {},
   "outputs": [],
   "source": [
    "sort_order = ['Jan', 'Feb', 'Mar', 'Apr', 'May', 'Jun',\n",
    "             'Jul', 'Aug', 'Sep', 'Oct', 'Nov', 'Dec']"
   ]
  },
  {
   "cell_type": "code",
   "execution_count": 29,
   "id": "54e4f291",
   "metadata": {},
   "outputs": [],
   "source": [
    "videos_per_month.index = pd.CategoricalIndex(videos_per_month['Month'], categories=sort_order, ordered=True)"
   ]
  },
  {
   "cell_type": "code",
   "execution_count": 30,
   "id": "006039d6",
   "metadata": {},
   "outputs": [],
   "source": [
    "videos_per_month = videos_per_month.sort_index()"
   ]
  },
  {
   "cell_type": "code",
   "execution_count": 31,
   "id": "d8dec018",
   "metadata": {},
   "outputs": [
    {
     "data": {
      "image/png": "[encoded data removed]",
      "text/plain": [
       "<Figure size 720x576 with 1 Axes>"
      ]
     },
     "metadata": {},
     "output_type": "display_data"
    }
   ],
   "source": [
    "ax2 = sns.barplot(x='Month', y='size', data=videos_per_month)"
   ]
  },
  {
   "cell_type": "code",
   "execution_count": 32,
   "id": "b8338c32",
   "metadata": {},
   "outputs": [],
   "source": [
    "video_data.to_csv('Video_Details(Ken Jee).csv')"
   ]
  },
  {
   "cell_type": "code",
   "execution_count": null,
   "id": "49635897",
   "metadata": {},
   "outputs": [],
   "source": []
  }
 ],
 "metadata": {
  "kernelspec": {
   "display_name": "openai",
   "language": "python",
   "name": "openai"
  },
  "language_info": {
   "codemirror_mode": {
    "name": "ipython",
    "version": 3
   },
   "file_extension": ".py",
   "mimetype": "text/x-python",
   "name": "python",
   "nbconvert_exporter": "python",
   "pygments_lexer": "ipython3",
   "version": "3.9.17"
  }
 },
 "nbformat": 4,
 "nbformat_minor": 5
}
