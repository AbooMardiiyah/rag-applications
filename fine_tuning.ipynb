{
 "cells": [
  {
   "cell_type": "code",
   "execution_count": 3,
   "id": "73082136-afcb-4c6d-bc2c-d601d1e1deef",
   "metadata": {},
   "outputs": [],
   "source": [
    "from llama_index.finetuning import SentenceTransformersFinetuneEngine, EmbeddingQAFinetuneDataset, generate_qa_embedding_pairs"
   ]
  },
  {
   "cell_type": "code",
   "execution_count": 174,
   "id": "c1a65eb4-c035-4fa7-a09a-e97a7ee5437c",
   "metadata": {},
   "outputs": [],
   "source": [
    "import os\n",
    "import json\n",
    "import openai\n",
    "from llama_index import SimpleDirectoryReader\n",
    "from llama_index.node_parser import SimpleNodeParser\n",
    "from llama_index.schema import MetadataMode\n",
    "from dotenv import load_dotenv\n",
    "load_dotenv('./.env', override=True)\n",
    "from preprocessing import FileIO\n",
    "from retrieval_evaluation import generate_dataset\n",
    "from typing import List, Dict, Tuple, Union, Callable"
   ]
  },
  {
   "cell_type": "code",
   "execution_count": 20,
   "id": "cd0cdc23-a432-4746-947b-3d98486b723c",
   "metadata": {},
   "outputs": [],
   "source": [
    "openai.api_key = os.environ['OPENAI_API_KEY']"
   ]
  },
  {
   "cell_type": "code",
   "execution_count": null,
   "id": "17927bae-757e-48ba-88f5-125c11e05abd",
   "metadata": {},
   "outputs": [],
   "source": [
    "EmbeddingQAFinetuneDataset("
   ]
  },
  {
   "cell_type": "code",
   "execution_count": 6,
   "id": "eb11ee65-817c-43d7-8b65-a6d7c8d83cf1",
   "metadata": {},
   "outputs": [],
   "source": [
    "TRAIN_FILES = [\"./practice_data/10k/lyft_2021.pdf\"]\n",
    "VAL_FILES = [\"./practice_data/10k/uber_2021.pdf\"]\n",
    "\n",
    "# TRAIN_CORPUS_FPATH = \"./data/train_corpus.json\"\n",
    "# VAL_CORPUS_FPATH = \"./data/val_corpus.json\""
   ]
  },
  {
   "cell_type": "code",
   "execution_count": 7,
   "id": "fedca894-e36a-4f27-bc7f-56c68340e54c",
   "metadata": {},
   "outputs": [],
   "source": [
    "def load_corpus(files, verbose=False):\n",
    "    if verbose:\n",
    "        print(f\"Loading files {files}\")\n",
    "\n",
    "    reader = SimpleDirectoryReader(input_files=files)\n",
    "    docs = reader.load_data()\n",
    "    if verbose:\n",
    "        print(f\"Loaded {len(docs)} docs\")\n",
    "\n",
    "    parser = SimpleNodeParser.from_defaults()\n",
    "    nodes = parser.get_nodes_from_documents(docs, show_progress=verbose)\n",
    "\n",
    "    if verbose:\n",
    "        print(f\"Parsed {len(nodes)} nodes\")\n",
    "\n",
    "    return nodes\n"
   ]
  },
  {
   "cell_type": "code",
   "execution_count": 8,
   "id": "98d9b5f7-f4dd-46d9-b00b-7b854c2a7ee9",
   "metadata": {},
   "outputs": [
    {
     "name": "stdout",
     "output_type": "stream",
     "text": [
      "Loading files ['./practice_data/10k/lyft_2021.pdf']\n",
      "Loaded 238 docs\n"
     ]
    },
    {
     "data": {
      "application/vnd.jupyter.widget-view+json": {
       "model_id": "fa5dbdb1f04348b380c9bd437a1151e1",
       "version_major": 2,
       "version_minor": 0
      },
      "text/plain": [
       "Parsing documents into nodes:   0%|          | 0/238 [00:00<?, ?it/s]"
      ]
     },
     "metadata": {},
     "output_type": "display_data"
    },
    {
     "name": "stdout",
     "output_type": "stream",
     "text": [
      "Parsed 352 nodes\n",
      "Loading files ['./practice_data/10k/uber_2021.pdf']\n",
      "Loaded 307 docs\n"
     ]
    },
    {
     "data": {
      "application/vnd.jupyter.widget-view+json": {
       "model_id": "58dcb7779c934f9aa13cff3516cd572f",
       "version_major": 2,
       "version_minor": 0
      },
      "text/plain": [
       "Parsing documents into nodes:   0%|          | 0/307 [00:00<?, ?it/s]"
      ]
     },
     "metadata": {},
     "output_type": "display_data"
    },
    {
     "name": "stdout",
     "output_type": "stream",
     "text": [
      "Parsed 427 nodes\n"
     ]
    }
   ],
   "source": [
    "train_nodes = load_corpus(TRAIN_FILES, verbose=True)\n",
    "valid_nodes = load_corpus(VAL_FILES, verbose=True)"
   ]
  },
  {
   "cell_type": "code",
   "execution_count": 21,
   "id": "4e1a0740-8067-4860-a504-508bc82b9f51",
   "metadata": {},
   "outputs": [
    {
     "name": "stderr",
     "output_type": "stream",
     "text": [
      "100%|████████████████████████████████████████████████████████████████████████████████████████████████████████████████████| 10/10 [00:22<00:00,  2.21s/it]\n"
     ]
    }
   ],
   "source": [
    "val_dataset = generate_qa_embedding_pairs(valid_nodes[:10], num_questions_per_chunk=2)"
   ]
  },
  {
   "cell_type": "code",
   "execution_count": 22,
   "id": "d48588e3-f051-4d08-9b13-7fe35aa5ba1d",
   "metadata": {},
   "outputs": [
    {
     "data": {
      "text/plain": [
       "llama_index.finetuning.embeddings.common.EmbeddingQAFinetuneDataset"
      ]
     },
     "execution_count": 22,
     "metadata": {},
     "output_type": "execute_result"
    }
   ],
   "source": [
    "type(val_dataset)"
   ]
  },
  {
   "cell_type": "code",
   "execution_count": 67,
   "id": "e80f2dba-8655-4346-9ca0-dd8ab62e2dd3",
   "metadata": {
    "collapsed": true,
    "jupyter": {
     "outputs_hidden": true
    }
   },
   "outputs": [
    {
     "data": {
      "text/plain": [
       "{'cd620b3f-c1e0-4f60-8d11-95fd77ec852e': 'According to the context information, what is the exact name of the registrant as specified in its charter?',\n",
       " 'fb7e8466-ea63-448f-9ec1-7497a66f8718': 'Based on the context information, has the registrant submitted every Interactive Data File required to be submitted pursuant to Rule 405 of Regulation S-T during the preceding 12 months?',\n",
       " 'd4f29374-2df6-41f0-bdd9-980485e53f6a': 'According to the context information, what is the aggregate market value of the voting and non-voting common equity held by non-affiliates of the registrant as of June 30, 2021?',\n",
       " '4d9c3b9a-d024-4a72-a1d7-0cb9d98a40e2': \"Based on the context information, how many shares of the registrant's common stock were outstanding as of February 22, 2022?\",\n",
       " '06a55fd3-0deb-46b5-8cc2-72e0d8d7f389': \"In the context of Uber Technologies, Inc.'s financial statements, what is the purpose of Item 9A - Controls and Procedures? How does it relate to the company's overall financial disclosure?\",\n",
       " 'c74b8413-9a89-4762-8d6d-1ec0e0e8e3f9': \"Based on the information provided, what are the potential risks and challenges that Uber Technologies, Inc. may face as outlined in Item 1A - Risk Factors? How do these factors impact the company's business operations and financial performance?\",\n",
       " 'db499521-6f0c-4b84-9015-63db1327570c': 'How does the COVID-19 pandemic impact the business operations and financial performance of the company? Discuss the potential challenges and opportunities that arise from this situation.',\n",
       " '144d5047-b5db-4dcf-b2a4-76b84a3ef67a': \"What factors contribute to the company's ability to effectively compete in highly competitive markets? Explain how the company manages its growth, maintains its corporate culture, and stays ahead of its competitors.\",\n",
       " '3d44f57d-8a84-431c-846f-7356ec28eb33': 'What factors should be considered when evaluating the forward-looking statements in this Annual Report on Form 10-K? How might these factors impact the accuracy of the predictions made?',\n",
       " '32d29e00-77ca-465a-a13d-f64ce212bf70': \"How does the highly competitive and rapidly changing environment in which the company operates pose potential risks and uncertainties? Provide examples of how these risks and uncertainties could affect the company's business, financial condition, and operating results.\",\n",
       " 'b812511c-2e98-4e5d-b89b-9ae537ae089c': 'In which regions does Uber operate its technology platform for ride-sharing and delivery services?',\n",
       " '699f755b-f1d3-4a79-83d8-cf80bfb6dbde': \"How does Uber's Delivery offering leverage and increase the supply of drivers on its network?\",\n",
       " '74b02f4b-1cc8-470f-9115-1299b72f2de6': 'How does the acquisition of Cornershop and Drizly benefit the Delivery business? Provide specific examples of how these acquisitions improve margins for Merchants and expand alcohol offerings.',\n",
       " 'fafd1c6e-15a5-431e-926c-7614b17b7384': \"In what ways does Freight revolutionize the logistics industry? Explain the inefficiencies in the current freight industry and how Freight's technology and platform address these challenges.\",\n",
       " '73894ef5-4905-4703-8191-5b0e83124952': 'How does Freight reduce friction in the logistics industry and what benefits does it provide to carriers and shippers?',\n",
       " '5276fae0-7308-49da-aec1-f4ab1e3de44a': \"What are the key elements that power Uber's platform, and how do they contribute to the company's success in enabling movement on-demand?\",\n",
       " '60c8db32-70a3-49cb-a326-b538d49e9361': 'How has the introduction of the \"Super App\" view on iOS and Android benefited the company and its consumers? Provide specific examples of how this feature removes friction for consumers.',\n",
       " 'e3adde34-f1db-487d-a547-6e5fdea959c0': \"In the competitive environment, what challenges does the company face in the mobility, delivery, and logistics industries? Discuss the potential impact of existing alternatives and new market entrants on the company's future competition.\",\n",
       " '784bfb1f-7e43-4fce-ae5b-19df9ae6621f': 'In the context of competition, what are some of the challenges faced by the company in its Mobility offering? Provide examples of competitors and substitutes in this market.',\n",
       " 'c8d1636a-583a-44a3-9b32-1e304f2323e9': \"How does government regulation impact the company's operations, particularly in the Mobility sector? Discuss the complexities and potential risks associated with the evolving legal and regulatory environment.\"}"
      ]
     },
     "execution_count": 67,
     "metadata": {},
     "output_type": "execute_result"
    }
   ],
   "source": [
    "val_dataset.queries"
   ]
  },
  {
   "cell_type": "code",
   "execution_count": 68,
   "id": "c9d26029-a678-4351-ab1b-21f67a2ec8e9",
   "metadata": {
    "collapsed": true,
    "jupyter": {
     "outputs_hidden": true
    }
   },
   "outputs": [
    {
     "data": {
      "text/plain": [
       "{'ec4b14d1-1f05-4054-a62e-bd969e1bb12b': 'UNITED STATESSECURITIES AND EXCHANGE COMMISSION\\nWashington, D.C. 20549\\n____________________________________________ \\nFORM\\n 10-K____________________________________________ \\n(Mark One)\\n☒\\n ANNUAL REPORT PURSUANT TO SECTION 13 OR 15(d) OF THE SECURITIES EXCHANGE ACT OF 1934For the fiscal year ended\\n December 31, 2021OR\\n☐\\n TRANSITION REPORT PURSUANT TO SECTION 13 OR 15(d) OF THE SECURITIES EXCHANGE ACT OF 1934For the transition period from_____ to _____            \\nCommission File Number: 001-38902\\n____________________________________________ \\nUBER TECHNOLOGIES, INC.\\n(Exact name of registrant as specif\\nied in its charter)____________________________________________ \\nDelaware\\n45-2647441 (State or other jurisdiction of inco\\nrporation or organization)(I.R.S. Employer Identification No.) 1515 3rd Street\\nSan Francisco, California 94158\\n(Address of principal executive offic\\nes, including zip code)(415) 612-8582\\n(Registrant’s telephone number, including area code)\\n ____________________________________________\\nSecurities registered pursuant to Sect\\nion 12(b) of the Act:Title of each class\\nTrading Symbol(s) Name of each exchange on which registered Common Stock, par value $0.00001 per share\\nUBER New York Stock Exchange Securities register\\ned pursuant to Section 12(g) of the Act: NoneIndicate by check mark whe\\nther the registrant is a well-known seasoned issuer, as defined in Rule 405 of the Securities Act. Yes  ☒  No ☐Indicate by check mark whe\\nther the registrant is not required to file reports pursuant to Section 13 or Section 15(d) of the Act. Yes  ☐  No  ☒Indicate by\\n check mark whether the registrant (1) has filed all reports required to be filed by Section 13 or 15(d) of the Securities Exchange Act of 1934 during thepreceding\\n 12 months (or for such shorter period that the registrant was required to file such reports), and (2) has been subject to such filing requirements for thepast 90 days. Yes  \\n☒  No ☐Indicate\\n by check mark whether the registrant has submitted electronically every Interactive Data File required to be submitted pursuant to Rule 405 of RegulationS-T (§232.405 of this chapter) during \\nthe preceding 12 months (or for such shorter period that the registrant was required to submit such files). Yes  ☒  No ☐Indicate\\n by check mark whether the registrant is a large accelerated filer, an accelerated filer, a non-accelerated filer, a smaller reporting company, or an emerginggrowth\\n company. See the definitions of “large accelerated filer,” “accelerated filer,” “smaller reporting company,” and “emerging growth company” in Rule 12b-2of the Exchange Act.',\n",
       " '14fa253c-33b5-4a0a-8ca9-fbcc64362770': \"Large accelerated filer☒ Accelerated filer ☐ Non-accelerated filer\\n☐ Smaller reporting company ☐ Emerging growth company\\n☐ If\\n an emerging growth company, indicate by check mark if the registrant has elected not to use the extended transition period for complying with any new orrevised financial a\\nccounting standards provided pursuant to Section 13(a) of the Exchange Act.☐ Indicate\\n by check mark whether the registrant has filed a report on and attestation to its management’s assessment of the effectiveness of its internal controlover financial reporting under\\n Section 404(b) of the Sarbanes-Oxley Act (15 U.S.C. 7262(b)) by the registered public accounting firm that prepared or issuedits audit report.\\n☒ Indicate by check mark whe\\nther the registrant is a shell company (as defined in Rule 12b-2 of the Exchange Act). Yes ☐  No  ☒The\\n aggregate market value of the voting and non-voting common equity held by non-affiliates of the registrant as of June 30, 2021, the last business day of theregistrant's\\n most recently completed second fiscal quarter, was approximately $90.5 billion based upon the closing price reported for such date on the New YorkStock Exchange.\\nThe number of shares of the r\\negistrant's common stock outstanding as of February 22, 2022 was 1,954,464,088.DOCUMENTS INCORPORATED BY\\n REFERENCEPortions of the registrant\\n’s Definitive Proxy Statement relating to the Annual Meeting of Stockholders are incorporated by reference into Part III of this AnnualReport on Form 10-K where indicated. Such Def\\ninitive Proxy Statement will be filed with the Securities and Exchange Commission within 120 days after the endof the registrant’s f\\niscal year ended December 31, 2021.\",\n",
       " '5837f869-92cc-4cf0-b8ea-b2f6270b32a4': 'UBER TECHNOLOGIES, INC.TABLE OF CONTENTS\\nPages\\nSpecial Note Regarding Forward-Looking Sta\\ntements2 PART I\\nItem 1.\\nBusiness 4 Item 1A.\\nRisk Factors 11 Item 1B.\\nUnresolved Staff Comments 46 Item 2.\\nProperties 46 Item 3.\\nLegal Proceedings 46 Item 4.\\nMine Safety Disclosures 47 PART II\\nItem 5.\\nMarket for Registrant’s Com mon Equity, Related Stockholder Matters and Issuer Purchases of Equity Securities47 Item 6.\\n[Reserved] 48 Item 7.\\nManagement’s Discussion and Analysis o f Financial Condition and Results of Operations48 Item 7A.\\nQuantitative and Qualita tive Disclosures About Market Risk69 Item 8.\\nFinancial Statements and Suppl ementary Data70 Item 9.\\nChanges in and Disagreements with Accoun tants on Accounting and Financial Disclosure146 Item 9A.\\nControls and Procedures 147 Item 9B.\\nOther Information 147 Item 9C.\\nDisclosure Regarding Foreign Jurisdi ctions that Prevent Inspections147 PART III\\nItem 10.\\nDirectors, Executive Offi cers and Corporate Governance147 Item 11.\\nExecutive Compensation 147 Item 12.\\nSecurity Ownership of Certain Benef icial Owners and Management and Related Stockholder Matters148 Item 13.\\nCertain Relationships and Rela ted Transactions, and Director Independence148 Item 14.\\nPrincipal Accounting Fees and Servi ces148 PART IV\\nItem 15.\\nExhibits, Financial Statem ent Schedules148 Item 16.\\nForm 10-K Summary 148 Exhibit Index\\n149 Signatures\\n152 1',\n",
       " '1c7977fa-fd4d-4709-8a4b-9dcf9413a71a': 'SPECIAL NOTE REGARDING FORWARD-LOOKING STATEMENTSThis\\n Annual  Report  on  Form  10-K  contains  forward-looking  statements  within  the  meaning  of  the  Private  Securities  Litigation  Reform  Act  of  1995.  Allstatements\\n other than statements of historical facts contained in this Annual Report on Form 10-K, including statements regarding our future results of operationsor\\n financial condition, business strategy and plans, and objectives of management for future operations, are forward-looking statements. In some cases, you canidentify\\n forward-looking statements because they contain words such as “anticipate,” “believe,” “contemplate,” “continue,” “could,” “estimate,” “expect,” “hope,”“intend,” “may,”\\n “might,” “objective,” “ongoing,” “plan,” “potential,” “predict,” “project,” “should,” “target,” “will,” or “would” or the negative of these words orother similar ter\\nms or expressions. These forward-looking statements include, but are not limited to, statements concerning the following:•\\nthe impacts of COVID-19 or other future pandemics on our business, results of operations, financial position and cash flows;•\\nour ability to successfully defend litigation and government proceedings brought against us, including with respect to our relationship with drivers andcouriers, and the potenti\\nal impact on our business operations and financial performance if we are not successful;•\\nour ability to successfully compete in highly competitive markets;•\\nour ability to effectively manage our growth and maintain and improve our corporate culture;•\\nour expectations regarding financial performance, including but not limited to revenue, potential profitability and the timing thereof, ability to generatepositive Adjusted EBITDA, expenses, and other r\\nesults of operations;•\\nour  expectations  regarding  future  operating  performance,  including  but  not  limited  to  our  expectations  regarding  future  Monthly  Active  PlatformConsumers (“MAPCs”), Trips, Gross Bookings, and Take Rate;\\n•\\nour expectations regarding our competitors’ use of incentives and promotions, our competitors’ ability to raise capital, and the effects of such incentivesand promotions on our growth and results o\\nf operations;•\\nour anticipated investments in new products and offerings, and the effect of these investments on our results of operations;•\\nour anticipated capital expenditures and our estimates regarding our capital requirements;•\\nour ability to close and integrate acquisitions into our operations;•\\nanticipated technology trends and developments and our ability to address those trends and developments with our products and offerings;•\\nthe size of our addressable markets, market share, category positions, and market trends, including our ability to grow our business in the countries wehave identified as expans\\nion markets;•\\nthe safety, affordability, and convenience of our platform and our offerings;•\\nour ability to identify, recruit, and retain skilled personnel, including key members of senior management;•\\nour expected growth in the number of platform users, and our ability to promote our brand and attract and retain platform users;•\\nour ability to maintain, protect, and enhance our intellectual property rights;•\\nour ability to introduce new products and offerings and enhance existing products and offerings;•\\nour ability to successfully enter into new geographies, expand our presence in countries in which we are limited by regulatory restrictions, and manageour international expans\\nion;•\\nour ability to successfully renew licenses to operate our business in certain jurisdictions;•\\nthe availability of capital to grow our business;•\\nvolatility in the business or stock price of our minority-owned affiliates;•\\nour ability to meet the requirements of our existing debt and draw on our line of credit;•\\nour ability to prevent and respond to disturbances to our information technology systems;•\\nour ability to comply with existing, modified, or new laws and regulations applying to our business;•\\nour ability to implement, maintain, and improve our internal control over financial reporting; and•\\nour ability to realize our climate change, net zero climate emissions and net zero company commitments and in their contemplated timeframesActual events or results m\\nay differ from those expressed in forward-looking statements. As such, you should not rely on forward-2',\n",
       " '7a1d3f25-ba17-43be-b06b-48778d4ed20e': 'looking statements as predictions of future events. We have based the forward-looking statements contained in this Annual Report on Form 10-K primarily on ourcurrent\\n expectations  and  projections  about  future  events  and  trends  that  we  believe  may  affect  our  business,  financial  condition,  operating  results,  prospects,strategy,\\n and financial needs. The outcome of the events described in these forward-looking statements is subject to risks, uncertainties, assumptions, and otherfactors described\\n in the section titled “Risk Factors” and elsewhere in this Annual Report on Form 10-K. Moreover, we operate in a highly competitive and rapidlychanging\\n environment. New risks and uncertainties emerge from time to time, and it is not possible for us to predict all risks and uncertainties that could have animpact\\n on the forward-looking statements contained in this Annual Report on Form 10-K. The results, events and circumstances reflected in the forward-lookingstatements\\n may  not  be  achieved  or  occur,  and  actual  results,  events  or  circumstances  could  differ  materially  from  those  described  in  the  forward-lookingstatements.\\nIn\\n addition,  statements  that  “we  believe”  and  similar  statements  reflect  our  beliefs  and  opinions  on  the  relevant  subject.  These  statements  are  based  oninformation\\n available to us as of the date of this Annual Report on Form 10-K. While we believe that such information provides a reasonable  basis for thesestatements,\\n such information may be limited or incomplete. Our statements should not be read to indicate that we have conducted an exhaustive inquiry into, orreview of, all relevan\\nt information. These statements are inherently uncertain, and investors are cautioned not to unduly rely on these statements.The\\n forward-looking statements made in this Annual Report on Form 10-K speak only as of the date on which the statements are made. We undertake noobligation\\n to update any forward-looking statements made in this Annual Report on Form 10-K to reflect events or circumstances after the date of this AnnualReport\\n on Form 10-K or to reflect new information, actual results, revised expectations, or the occurrence of unanticipated events, except as required by law. Wemay\\n not  actually  achieve  the  plans,  intentions  or  expectations  disclosed  in  our  forward-looking  statements,  and  you  should  not  place  undue  reliance  on  ourforward-looking statemen\\nts.3',\n",
       " '3cad6b2d-5ee3-402f-bd78-db10c07e21f2': 'PART IITEM 1. BUSINESS\\nOverview\\nUber\\n Technologies, Inc. (“Uber,” “we,” “our,” or “us”) is a technology platform that uses a massive network, leading technology, operational excellence andproduct\\n expertise to power movement from point A to point B. We develop and operate proprietary technology applications supporting a variety of offerings onour\\n platform  (“platform(s)”  or  “Platform(s)”).  We  connect  consumers  (“Rider(s)”)  with  independent  providers  of  ride  services  (“Mobility  Driver(s)”)  forridesharing\\n services,  and  connect  Riders  and  other  consumers  (“Eater(s)”)  with  restaurants,  grocers  and  other  stores  (collectively,  “Merchants”)  with  deliveryservice\\n providers  (“Couriers”)  for  meal  preparation,  grocery  and  other  delivery  services.  Riders  and  Eaters  are  collectively  referred  to  as  “end-user(s)”  or“consumer(s).”\\n Mobility Drivers and Couriers are collectively referred to as “Driver(s).” We also connect consumers with public transportation networks. We usethis same network, technology, ope\\nrational excellence and product expertise to connect shippers with carriers in the freight industry.Our\\n technology is available in approximately 72 countries around the world, principally in the United States (“U.S.”) and Canada, Latin America, Europe, theMiddle East, Africa, and Asia (\\nexcluding China and Southeast Asia).Our Segments\\nAs\\n of December 31, 2021, we had three operating and reportable segments: Mobility, Delivery and Freight. Mobility, Delivery and Freight platform offeringseach address large, fr\\nagmented markets.Mobility\\nMobility\\n refers to products that connect consumers with Mobility Drivers who provide rides in a variety of vehicles, such as cars, auto rickshaws, motorbikes,minibuses, or taxis. Mobility \\nalso includes activity related to our financial partnerships offerings.We\\n believe that our ridesharing category position is a key indicator of our progress towards our massive market opportunity. We calculate our ridesharingcategory\\n position based on the best available data within a given region. For example, in most cases we divide our Mobility Gross Bookings by our estimates oftotal\\n ridesharing Gross Bookings generated by us and other companies with similar ridesharing products. We estimate our total ridesharing Gross Bookings in agiven\\n region by utilizing internal source data, including historical trip, bookings, product mix, and fare information, and external source data provided by publiclyavailable information and marketing analytics\\n firms. Based on these estimates, we believe we have a leading ridesharing category position in every major region ofthe\\n world  where  we  operate.  We  also  participate  in  certain  regions  through  our  minority-owned  affiliates.  At  the  time  of  entering  into  such  transactions,  webelieved\\n based on our internal estimates using the information then available to us that each of Didi, Grab and Yandex.Taxi, on a pro forma basis, had the leadingridesharing category po\\nsition in its respective market.Delivery\\nOur\\n Delivery  offering  allows  consumers  to  search  for  and  discover  local  restaurants,  order  a  meal,  and  either  pick-up  at  the  restaurant  or  have  the  mealdelivered\\n and, in certain markets, Delivery also includes offerings for grocery, alcohol and convenience store delivery as well as select other goods. We launchedour\\n Delivery app over six years ago. We believe that Delivery not only leverages, but also increases, the supply of Drivers on our network. For example, Deliveryenables\\n Mobility Drivers to increase their utilization and earnings by accessing additional demand for trips during non-peak Mobility times. Delivery also expandsthe\\n pool of Drivers by enabling people who are not Mobility Drivers or who do not have access to Mobility-qualified vehicles to provide delivery services on ourplatform.',\n",
       " 'f6012f4f-d5ff-4082-a85e-e703b700e849': 'In addition to b\\nenefiting Drivers and consumers, Delivery provides Merchants with an instant mobile presence and efficient delivery capability, which webelieve\\n generates incremental demand and improves margins for Merchants by enabling them to serve more consumers without increasing their existing front-of-house expenses.\\nDuring\\n 2021, we completed the acquisition of the remaining 45% ownership interest in Cornershop Cayman (“Cornershop”) in an all-stock transaction. Theacquisition\\n was accounted for as an equity transaction, as we previously controlled and consolidated Cornershop. We also completed the acquisition of The DrizlyGroup,\\n Inc. (“Drizly”), allowing us to expand alcohol offerings in our Delivery business with Drizly’s leading platform, technology, scale, and expertise. Theacquisition\\n of Drizly has been accounted for as a business combination. For additional information, see Note 18 – Business Combinations included in Part II, Item8, “Financial Statements \\nand Supplementary Data,” of this Annual Report on Form 10-K.Freight\\nWe believe that Freigh\\nt is revolutionizing the logistics industry. Freight leverages our proprietary technology, brand awareness, and experience revolutionizingindustries\\n to connect carriers with shippers on our platform, and gives carriers upfront, transparent pricing and the ability to book a shipment. The freight industryis\\n highly fragmented and deeply inefficient. It can take several hours, sometimes days, for shippers to find a truck and driver for shipments, with most of theprocess\\n conducted over the phone or by fax. Procurement is highly fragmented, with traditional players relying on local or regional offices to book shipments. It isequally\\n difficult  for carriers  to find and book the shipments  that work for their businesses,  spending hours on the phone negotiating  pricing  and terms.  Theseinefficiencies adv\\nersely impact both shippers and carriers, and contribute to the number of non-revenue or “dead-head” miles,4',\n",
       " '2a00009c-fc53-47af-b68b-9c498a001e59': 'which are miles driven by carriers between shipments. Freight greatly reduces friction in the logistics industry by providing an on-demand platform to automateand\\n accelerate logistics transactions end-to-end. Freight connects carriers with shippers available on our platform, and gives carriers upfront, transparent pricingand the ability to book a shipm\\nent with the touch of a button.We\\n serve shippers ranging from small- and medium-sized businesses to global enterprises by enabling them to create and tender shipments with a few clicks,secure\\n capacity on demand with upfront pricing, and track those shipments in real-time from pickup to delivery. We believe that all of these factors representsignificant efficiency improvement\\ns over traditional freight brokerage providers.During\\n 2021, we completed the acquisition of Tupelo Parent, Inc. (“Transplace”) in an all-cash transaction, allowing us to expand our Uber Freight businessthrough\\n Transplace’s  expertise  in transportation  management.  The acquisition  of Transplace  has been accounted  for as a business combination.  For additionalinformation, see Note\\n 18 – Business Combinations included in Part II, Item 8, “Financial Statements and Supplementary Data,” of this Annual Report on Form 10-K.\\nPlatform Synergies\\nOur Platform\\nThe\\n foundation of our platform is our massive network, leading technology, operational excellence, and product expertise. Together, these elements powermovement from point A to point B.\\nMassive Network\\nOur massive, efficient, and intelligent network consists of tens of millions of Drivers, consumers, Merchants, shippers and carriers,\\n as well as underlying data, technology, and shared infrastructure. Our network becomes smarter with every trip.In\\n approximately 10,500 cities around the world (as of January 1, 2022), our network powers movement at the touch of abutton for millions, and we hope ev\\nentually billions, of people.Leading Technology\\nWe have built proprietary marketplace, routing, and payments technologies. Marketplace technologies are the core of ourdeep\\n technology  advantage  and  include  demand  prediction,  matching  and  dispatching,  and  pricing  technologies.  Ourtechnologies make it ex\\ntremely efficient to launch new businesses and operationalize existing ones.Operational Excellence\\nOur regional on-the-ground operations teams use their extensive market-specific knowledge to rapidly launch and scaleproducts in cities, support Drivers, consumers, Merchants, shippers, and carriers, and build and enhance relationships with\\ncities and regulators.\\nProduct Expertise\\nOur products are built with the expertise that allows us to set the standard for powering movement on-demand, provideplatform\\n users with a contextual, intuitive interface, continually evolve features and functionality, and deliver safety andtrust.\\nWe intend to continue to inv\\nest in new platform offerings that we believe will further strengthen our platform and existing offerings.We\\n believe  that  all  of  these  synergies  serve  the  customer  experience,  enabling  us  to  attract  new  platform  users  and  to  deepen  engagement  with  existingplatform\\n users. Both of these dynamics grow our network scale and liquidity, which further increases the value of our platform to platform users. For example,Delivery\\n attracts new consumers to our network—for the three months ended December 31, 2021, over 60% of first-time Delivery consumers were new to ourplatform.\\n Additionally,  for  the  three  months  ended  December  31,  2021,  consumers  who  used  both  Mobility  and  Delivery  generated  12.6  Trips  per  month  onaverage,\\n compared to 5.0 Trips per month on average for consumers who used a single offering in cities where both Mobility and Delivery were offered. Webelieve that these t\\nrends will improve as we further leverage the power of our platform.With\\n our platform, we are making it even easier for our consumers to unlock convenience. During November 2021, we launched Uber One in the UnitedStates as our single cross-pl\\natform membership program that brings together the best of Uber. Uber One members have access to discounts, special pricing, priorityservice,\\n and exclusive perks across our rides, delivery and grocery offerings. Our Uber Pass and Eats Pass membership programs continue to remain available inselect cities\\n as a subscription offering. Our membership programs are designed to make utilizing our suite of products a seamless and rewarding experience for ourconsumers. We exited\\n 2021 with over 6 million members for our Uber One, Uber Pass, Eats Pass and Rides Pass membership programs.',\n",
       " '8089126a-c188-4197-aad4-d08e93499015': 'In 2020, we rolled out our“Super App” view on iOS and Android, which combines our mul\\ntiple offerings into a single app and is designed to remove friction for our consumers.We\\n are also utilizing our data and scale to offer marketplace-centric advertising to connect merchants and brands with our platform network and unlockingcross-platform adver\\ntising formats. During the fourth quarter of 2021, active advertising merchants grew to over 170,000.Competitive Environment\\nWe\\n compete on a global basis in highly fragmented markets. We face significant competition in each of the mobility and delivery industries globally and inthe\\n logistics industry in the United States and Canada from existing, well-established, and low-cost alternatives, and in the future we expect to face competitionfrom new market entrants \\ngiven the low barriers to entry that characterize5',\n",
       " '2156bf58-c36f-46bb-a3f0-516ba4a37d5c': 'these industries. As we and our competitors introduce new products and offerings, and as existing products evolve, we expect to become subject to additionalcompetition. While\\n we work to expand globally and introduce new products and offerings across a range of industries, many of our competitors remain focused ona\\n limited number of products or on a narrow geographic scope, allowing them to develop specialized expertise and employ resources in a more targeted mannerthan we do. The competition we fa\\nce in each of our offerings includes:•\\nMobility.  Our Mobility offering competes with personal vehicle ownership and usage, which accounts for the majority of passenger miles in the marketsthat\\n we serve, and traditional transportation services, including taxicab companies and taxi-hailing services, livery and other car services. In addition,public\\n transportation can be a superior substitute to our Mobility offering and in many cases, offers a faster and lower-cost travel option in many cities.We\\n also compete with other ridesharing companies, including certain of our minority-owned affiliates, for Drivers and riders, including Lyft, Ola, Didi,Grab, Bolt, and our Yandex.Taxi joint ventu\\nre.•\\nDelivery.  Our  Delivery  offering  competes  with  numerous  companies  in  the  meal,  grocery  and  other  delivery  space  in  various  regions  for  drivers,consumers, and\\n merchants, including DoorDash, Deliveroo, Glovo, Instacart, Gopuff, Rappi, iFood, Delivery Hero, Just Eat Takeaway, and Amazon. OurDelivery offering also c\\nompetes with restaurants, meal kit delivery services, grocery delivery services, and traditional grocers.•\\nFreight.  Our Freight offering competes with global and North American freight brokers such as C.H. Robinson, Total Quality Logistics, XPO Logistics,Convoy, Echo Global Logistics, Coyote, Transfix, DHL, and NEXT Trucking.\\nGovernment Regulation\\nWe operate\\n in a particularly complex legal and regulatory environment. Our business is subject to a variety of U.S. federal, state, local and foreign laws, rules,and\\n regulations,  including  those  related  to  Internet  activities,  privacy,  cybersecurity,  data  protection,  intellectual  property,  competition,  consumer  protection,payments,\\n labor and employment, transportation services, transportation network companies, licensing regulations and taxation. These laws and regulations areconstantly\\n evolving and may be interpreted, applied, created, or amended, in a manner that could harm our business. Examples of certain laws and regulations weare subject to are des\\ncribed below.Mobility\\nOur\\n platform,  and  in  particular  our  Mobility  products,  are  subject  to  differing,  and  sometimes  conflicting,  laws,  rules,  and  regulations  in  the  numerousjurisdictions\\n in  which  we  operate.  A large  number  of  proposals  are  before  various  national,  regional,  and  local  legislative  bodies  and  regulatory  entities,  bothwithin the United States and in fo\\nreign jurisdictions, regarding issues related to our business model.In\\n the United States, many state and local laws, rules, and regulations impose legal restrictions and other requirements on operating our Mobility products,including\\n licensing, insurance, screening, and background check requirements. Outside of the United States, certain jurisdictions have adopted similar laws, rules,and\\n regulations  while  other  jurisdictions  have  not  adopted  any  laws,  rules,  and  regulations  which  govern  our  Mobility  business.  Further,  certain  jurisdictions,including\\n Argentina, Germany, Italy, Japan, South Korea, and Spain, six countries that we have identified as expansion markets, have adopted laws, rules, andregulations\\n banning certain ridesharing products or imposing extensive operational restrictions. This uncertainty and fragmented regulatory environment createssignificant complexi\\nties for our business and operating model.Substantially\\n all states in the United States and numerous municipalities  in the United States and around the world have adopted Transportation NetworkCompany (“TNC”) regulations. These r\\negulations generally focus on companies that operate websites or mobile apps that connect individual drivers with their ownvehicles\\n to passengers willing to pay to be driven to their destinations.'}"
      ]
     },
     "execution_count": 68,
     "metadata": {},
     "output_type": "execute_result"
    }
   ],
   "source": [
    "val_dataset.corpus"
   ]
  },
  {
   "cell_type": "code",
   "execution_count": 35,
   "id": "c656104a-8845-4d7e-a39b-09107b1e4d2b",
   "metadata": {},
   "outputs": [],
   "source": [
    "for node in valid_nodes:\n",
    "    if node.dict()['id_'] == 'cd620b3f-c1e0-4f60-8d11-95fd77ec852e':\n",
    "        print(node)"
   ]
  },
  {
   "cell_type": "code",
   "execution_count": 162,
   "id": "8cfacabd-2a5e-4e21-8af5-9d475e138bf3",
   "metadata": {},
   "outputs": [],
   "source": [
    "val_dataset.save_json('./delme_train.json')"
   ]
  },
  {
   "cell_type": "code",
   "execution_count": 48,
   "id": "d2ff3e43-517e-46d9-b0f2-84d19c55afdb",
   "metadata": {},
   "outputs": [
    {
     "name": "stdout",
     "output_type": "stream",
     "text": [
      "{'id_': 'ec4b14d1-1f05-4054-a62e-bd969e1bb12b', 'embedding': None, 'metadata': {'page_label': '1', 'file_name': 'uber_2021.pdf'}, 'excluded_embed_metadata_keys': [], 'excluded_llm_metadata_keys': [], 'relationships': {<NodeRelationship.SOURCE: '1'>: {'node_id': 'f612fc93-837b-46f2-b63a-36a80afadc95', 'node_type': None, 'metadata': {'page_label': '1', 'file_name': 'uber_2021.pdf'}, 'hash': '8236c7b95b366f678fd506883779c1f7b8349b0d0b466a9da6694959abfab3c6'}}, 'hash': '43981224f0807fa7ad41a8d41ce55a45eea6f8e905ee30fc003295256829d36f', 'text': 'UNITED STATESSECURITIES AND EXCHANGE COMMISSION\\nWashington, D.C. 20549\\n____________________________________________ \\nFORM\\n 10-K____________________________________________ \\n(Mark One)\\n☒\\n ANNUAL REPORT PURSUANT TO SECTION 13 OR 15(d) OF THE SECURITIES EXCHANGE ACT OF 1934For the fiscal year ended\\n December 31, 2021OR\\n☐\\n TRANSITION REPORT PURSUANT TO SECTION 13 OR 15(d) OF THE SECURITIES EXCHANGE ACT OF 1934For the transition period from_____ to _____            \\nCommission File Number: 001-38902\\n____________________________________________ \\nUBER TECHNOLOGIES, INC.\\n(Exact name of registrant as specif\\nied in its charter)____________________________________________ \\nDelaware\\n45-2647441 (State or other jurisdiction of inco\\nrporation or organization)(I.R.S. Employer Identification No.) 1515 3rd Street\\nSan Francisco, California 94158\\n(Address of principal executive offic\\nes, including zip code)(415) 612-8582\\n(Registrant’s telephone number, including area code)\\n ____________________________________________\\nSecurities registered pursuant to Sect\\nion 12(b) of the Act:Title of each class\\nTrading Symbol(s) Name of each exchange on which registered Common Stock, par value $0.00001 per share\\nUBER New York Stock Exchange Securities register\\ned pursuant to Section 12(g) of the Act: NoneIndicate by check mark whe\\nther the registrant is a well-known seasoned issuer, as defined in Rule 405 of the Securities Act. Yes  ☒  No ☐Indicate by check mark whe\\nther the registrant is not required to file reports pursuant to Section 13 or Section 15(d) of the Act. Yes  ☐  No  ☒Indicate by\\n check mark whether the registrant (1) has filed all reports required to be filed by Section 13 or 15(d) of the Securities Exchange Act of 1934 during thepreceding\\n 12 months (or for such shorter period that the registrant was required to file such reports), and (2) has been subject to such filing requirements for thepast 90 days. Yes  \\n☒  No ☐Indicate\\n by check mark whether the registrant has submitted electronically every Interactive Data File required to be submitted pursuant to Rule 405 of RegulationS-T (§232.405 of this chapter) during \\nthe preceding 12 months (or for such shorter period that the registrant was required to submit such files). Yes  ☒  No ☐Indicate\\n by check mark whether the registrant is a large accelerated filer, an accelerated filer, a non-accelerated filer, a smaller reporting company, or an emerginggrowth\\n company. See the definitions of “large accelerated filer,” “accelerated filer,” “smaller reporting company,” and “emerging growth company” in Rule 12b-2of the Exchange Act.', 'start_char_idx': None, 'end_char_idx': None, 'text_template': '{metadata_str}\\n\\n{content}', 'metadata_template': '{key}: {value}', 'metadata_seperator': '\\n'}\n"
     ]
    }
   ],
   "source": [
    "for node in valid_nodes:\n",
    "    if node.dict()['id_'] == 'ec4b14d1-1f05-4054-a62e-bd969e1bb12b':\n",
    "        print(node.dict())"
   ]
  },
  {
   "cell_type": "code",
   "execution_count": 54,
   "id": "f6e50d0e-492c-4b58-b8c9-71d7c8b87662",
   "metadata": {},
   "outputs": [
    {
     "name": "stdout",
     "output_type": "stream",
     "text": [
      "Shape of data: (37007, 17)\n",
      "Memory Usage: 4.55+ MB\n"
     ]
    }
   ],
   "source": [
    "data = FileIO().load_parquet('./practice_data/impact_theory_minilm_196.parquet')"
   ]
  },
  {
   "cell_type": "code",
   "execution_count": 57,
   "id": "bf78d2a5-e2ed-4180-9ea9-4d3db797268b",
   "metadata": {},
   "outputs": [],
   "source": [
    "for d in data:\n",
    "    del d['content_embedding']"
   ]
  },
  {
   "cell_type": "code",
   "execution_count": 59,
   "id": "c4531906-d515-49bf-b8fc-508be8ba0228",
   "metadata": {},
   "outputs": [],
   "source": [
    "corpus = {d['doc_id']:d['content'] for d in data}"
   ]
  },
  {
   "cell_type": "code",
   "execution_count": 88,
   "id": "86d25230-664c-477d-8b9f-18b8ec35ecf5",
   "metadata": {
    "collapsed": true,
    "jupyter": {
     "outputs_hidden": true
    }
   },
   "outputs": [
    {
     "data": {
      "text/plain": [
       "{'cd620b3f-c1e0-4f60-8d11-95fd77ec852e': 'According to the context information, what is the exact name of the registrant as specified in its charter?',\n",
       " 'fb7e8466-ea63-448f-9ec1-7497a66f8718': 'Based on the context information, has the registrant submitted every Interactive Data File required to be submitted pursuant to Rule 405 of Regulation S-T during the preceding 12 months?',\n",
       " 'd4f29374-2df6-41f0-bdd9-980485e53f6a': 'According to the context information, what is the aggregate market value of the voting and non-voting common equity held by non-affiliates of the registrant as of June 30, 2021?',\n",
       " '4d9c3b9a-d024-4a72-a1d7-0cb9d98a40e2': \"Based on the context information, how many shares of the registrant's common stock were outstanding as of February 22, 2022?\",\n",
       " '06a55fd3-0deb-46b5-8cc2-72e0d8d7f389': \"In the context of Uber Technologies, Inc.'s financial statements, what is the purpose of Item 9A - Controls and Procedures? How does it relate to the company's overall financial disclosure?\",\n",
       " 'c74b8413-9a89-4762-8d6d-1ec0e0e8e3f9': \"Based on the information provided, what are the potential risks and challenges that Uber Technologies, Inc. may face as outlined in Item 1A - Risk Factors? How do these factors impact the company's business operations and financial performance?\",\n",
       " 'db499521-6f0c-4b84-9015-63db1327570c': 'How does the COVID-19 pandemic impact the business operations and financial performance of the company? Discuss the potential challenges and opportunities that arise from this situation.',\n",
       " '144d5047-b5db-4dcf-b2a4-76b84a3ef67a': \"What factors contribute to the company's ability to effectively compete in highly competitive markets? Explain how the company manages its growth, maintains its corporate culture, and stays ahead of its competitors.\",\n",
       " '3d44f57d-8a84-431c-846f-7356ec28eb33': 'What factors should be considered when evaluating the forward-looking statements in this Annual Report on Form 10-K? How might these factors impact the accuracy of the predictions made?',\n",
       " '32d29e00-77ca-465a-a13d-f64ce212bf70': \"How does the highly competitive and rapidly changing environment in which the company operates pose potential risks and uncertainties? Provide examples of how these risks and uncertainties could affect the company's business, financial condition, and operating results.\",\n",
       " 'b812511c-2e98-4e5d-b89b-9ae537ae089c': 'In which regions does Uber operate its technology platform for ride-sharing and delivery services?',\n",
       " '699f755b-f1d3-4a79-83d8-cf80bfb6dbde': \"How does Uber's Delivery offering leverage and increase the supply of drivers on its network?\",\n",
       " '74b02f4b-1cc8-470f-9115-1299b72f2de6': 'How does the acquisition of Cornershop and Drizly benefit the Delivery business? Provide specific examples of how these acquisitions improve margins for Merchants and expand alcohol offerings.',\n",
       " 'fafd1c6e-15a5-431e-926c-7614b17b7384': \"In what ways does Freight revolutionize the logistics industry? Explain the inefficiencies in the current freight industry and how Freight's technology and platform address these challenges.\",\n",
       " '73894ef5-4905-4703-8191-5b0e83124952': 'How does Freight reduce friction in the logistics industry and what benefits does it provide to carriers and shippers?',\n",
       " '5276fae0-7308-49da-aec1-f4ab1e3de44a': \"What are the key elements that power Uber's platform, and how do they contribute to the company's success in enabling movement on-demand?\",\n",
       " '60c8db32-70a3-49cb-a326-b538d49e9361': 'How has the introduction of the \"Super App\" view on iOS and Android benefited the company and its consumers? Provide specific examples of how this feature removes friction for consumers.',\n",
       " 'e3adde34-f1db-487d-a547-6e5fdea959c0': \"In the competitive environment, what challenges does the company face in the mobility, delivery, and logistics industries? Discuss the potential impact of existing alternatives and new market entrants on the company's future competition.\",\n",
       " '784bfb1f-7e43-4fce-ae5b-19df9ae6621f': 'In the context of competition, what are some of the challenges faced by the company in its Mobility offering? Provide examples of competitors and substitutes in this market.',\n",
       " 'c8d1636a-583a-44a3-9b32-1e304f2323e9': \"How does government regulation impact the company's operations, particularly in the Mobility sector? Discuss the complexities and potential risks associated with the evolving legal and regulatory environment.\"}"
      ]
     },
     "execution_count": 88,
     "metadata": {},
     "output_type": "execute_result"
    }
   ],
   "source": [
    "val_dataset.queries"
   ]
  },
  {
   "cell_type": "code",
   "execution_count": 92,
   "id": "cf02c02e-f2d5-4edc-bbb7-a3c94f5c8072",
   "metadata": {},
   "outputs": [],
   "source": [
    "dataset = {'queries': {}, 'corpus': corpus, 'relevant_docs': {}}"
   ]
  },
  {
   "cell_type": "code",
   "execution_count": 70,
   "id": "212e8556-48bf-4c5e-acb2-aa03afcef5ff",
   "metadata": {},
   "outputs": [],
   "source": [
    "import uuid"
   ]
  },
  {
   "cell_type": "code",
   "execution_count": 71,
   "id": "be28ffd3-cf46-47f8-9b8e-f2ff31d4a097",
   "metadata": {},
   "outputs": [],
   "source": [
    "random_uuid = uuid.uuid4()"
   ]
  },
  {
   "cell_type": "code",
   "execution_count": 85,
   "id": "f4524aee-aca9-4ced-ad72-cd89f720a178",
   "metadata": {},
   "outputs": [
    {
     "data": {
      "text/plain": [
       "('786bc78b2ee049eda34243bbb365bc3b',\n",
       " b'xk\\xc7\\x8b.\\xe0I\\xed\\xa3BC\\xbb\\xb3e\\xbc;')"
      ]
     },
     "execution_count": 85,
     "metadata": {},
     "output_type": "execute_result"
    }
   ],
   "source": [
    "random_uuid.hex, random_uuid.bytes"
   ]
  },
  {
   "cell_type": "code",
   "execution_count": 86,
   "id": "ddb3b81a-81a5-4983-981b-80142cc8af3a",
   "metadata": {},
   "outputs": [],
   "source": [
    "with open('./practice_data/100_questions_2023-10-24:19:42:33.json') as f:\n",
    "    questions = json.load(f)"
   ]
  },
  {
   "cell_type": "code",
   "execution_count": 87,
   "id": "e915349e-2009-4f3d-8aa6-5ae325ea2120",
   "metadata": {
    "collapsed": true,
    "jupyter": {
     "outputs_hidden": true
    }
   },
   "outputs": [
    {
     "data": {
      "text/plain": [
       "{'LCHPSo79rB4_39': ['What is the hypothesis behind founding Impact Theory?',\n",
       "  'What is the leading cause of death among young men?'],\n",
       " 'Dzlg17y0IMM_100': ['What is one of the powers of modern medicine?',\n",
       "  'What kind of patients does the doctor often see?'],\n",
       " 'J8Gg9twRyJ4_82': ['How does the podcast cater to a diverse range of interests?',\n",
       "  'What kind of topics are covered in the podcast?'],\n",
       " 'rKByaM5asU8_106': ['What is the moral composition of society based on acquiring wealth?',\n",
       "  'Why should one be ashamed of taking value from someone else?'],\n",
       " '0-kvH8Zv8Bs_13': ['How does setting low goals initially affect performance in the high jump?',\n",
       "  'What comparison does the speaker make between setting goals and the high jump?'],\n",
       " 'd2pFo5C5KwE_111': ['Why did people come to the United States in the past?',\n",
       "  \"What was the religious background of the speaker's family?\"],\n",
       " 'J8Gg9twRyJ4_27': ['What was the motivation for the speaker to focus on a specific thing?',\n",
       "  'Is the speaker contemplating becoming the best in the world at something?'],\n",
       " 'Q0tHddpViWM_13': ['How did the person change their reaction to stealing?',\n",
       "  'Who taught the person to meditate when they were 12?'],\n",
       " 'SuZ8lEHtDI8_78': ['What are the five things you should be doing to win a gold medal in the Olympics for swimming?',\n",
       "  'What does your goal make demands of?'],\n",
       " 'yat2kOmJNLQ_3': ['What are the two layers discussed in the conversation?',\n",
       "  'What were the two things that stood out for the person asking the question?'],\n",
       " 'Tigt75AcLLA_106': ['How does the person feel about not being productive in bed?',\n",
       "  \"What does the person do if they don't do the thing they said they would do?\"],\n",
       " 'c1ApIb7_mHY_46': ['What is the main theme of the novella \"Juliette\\'s School of Possibilities\"?',\n",
       "  'Who helps the young consultant in the novella to learn how to choose well?'],\n",
       " 'Gxmq9rWggqw_138': ['What is the importance of self-delusion in romantic success?',\n",
       "  'How does hope relate to the concept of mating intelligence?'],\n",
       " 'ZeER3OZhd4c_8': [\"What is the speaker's approach to stepping out of their comfort zone?\",\n",
       "  'How does the speaker suggest visualizing goals can be helpful?'],\n",
       " 'qRKm2ZIGnU4_135': ['How many people has the speaker interviewed as an employer?',\n",
       "  'How did the speaker meet their wife?'],\n",
       " 'IahmGf_Gulk_50': ['Why is it important to speak up and reach out for connection?',\n",
       "  'Where can these guys find the podcast online?'],\n",
       " 'p0XjlRb1Y_s_40': ['How often do the speaker and their spouse evaluate their values?',\n",
       "  \"What is the purpose of the speaker's practice of evaluating their values?\"],\n",
       " 'gpxKBvq4OiA_111': [\"What is the speaker's opinion on governments creating a safety net?\",\n",
       "  'How does the speaker believe nature treats individuals who are left behind?'],\n",
       " 'M2pL-hQyKds_35': ['Who is using LSD with patients for fMRI studies?',\n",
       "  \"What were the two interesting findings from Karl-Heinz Harris's research?\"],\n",
       " '7MzRwisf3ps_147': ['What is one factor that influences the diversity of our microbiome?',\n",
       "  'What are some examples of prebiotic foods?'],\n",
       " '0oQo5MDdj80_30': [\"What is one of the most important rules in the speaker's life?\",\n",
       "  'How does the speaker celebrate getting out of bed in 10 minutes or less?'],\n",
       " 'Fm29bAYaJoQ_53': ['What is the name of the comprehensive library on integrative studies?',\n",
       "  'What is the desired impact of the person being referred to?'],\n",
       " '9aRy7DZ0Ek4_16': ['What are the two things you need to do to become a better person in one year?',\n",
       "  'What percentage of people choose quitting as an option when setting a goal?'],\n",
       " 'PYzGv6Tfu_0_19': ['How did Jason Silva spend his time at work?',\n",
       "  'Why did Jason Silva quit his job?'],\n",
       " 'YZ9kfXw9H54_73': ['What are the two most important things according to the context?',\n",
       "  'Why is it important to take care of our health?'],\n",
       " 'ZeER3OZhd4c_20': ['How does the speaker handle their struggles and battles?',\n",
       "  'What does the speaker believe is contagious about themselves?'],\n",
       " 'GXoErccq0vw_41': [\"What is the end user's emotional connection to science?\",\n",
       "  \"Have you ever measured the amount of content you've produced?\"],\n",
       " '9I39boHZYjI_241': ['What is the speaker speculating about based on their reading?',\n",
       "  'How do men and women differ in their attitudes towards bisexuality?'],\n",
       " '7O_yR9WVSFw_8': ['How did the speaker discover play and reintroduce it into their life?',\n",
       "  'What circumstances led the speaker to seek approval outside of themselves?'],\n",
       " 'orJa62raA4w_156': ['What is the difficulty in achieving appropriate levels of ApoB for true prevention?',\n",
       "  'How did the person lose 60 pounds?'],\n",
       " 'Ll5EDt13GcQ_162': ['How much did the house in Miami Beach cost in 1930?',\n",
       "  'What is the annualized inflation rate for scarce desirable assets?'],\n",
       " 'Mer5BJzYVG0_35': ['What are some ways that people can have impact in their careers?',\n",
       "  'How does the podcast teach people to differentiate between impact and their career?'],\n",
       " 'Eoh28Thi9C8_111': [\"What is the reason for the person's strong relationship with God?\",\n",
       "  \"How did the person's athletic clock affect their ability to run college track?\"],\n",
       " '60U-wLfB8iU_111': ['How did the Bangladeshi government implement e-procurement?',\n",
       "  'What were the benefits of putting the process online?'],\n",
       " 'kLIE93v2X-E_77': ['What is the example given to illustrate the concept of integrity?',\n",
       "  'How did the person demonstrate integrity in the given situation?'],\n",
       " 'c7LMEdlQIfw_19': [\"What is the speaker's impression of watching Winter Olympics live?\",\n",
       "  \"How does the speaker describe the athletes' outfits and equipment in the sport?\"],\n",
       " 'xyl_LfvWfrE_3': ['Why does the speaker believe it is important to know how to lose?',\n",
       "  'What does the speaker suggest doing after experiencing a loss?'],\n",
       " 'S0DHI0DGOIw_137': ['How can I learn to prepare for a recession?',\n",
       "  'Which cities are becoming more dangerous?'],\n",
       " 'LcskACdYUys_56': [\"What is the speaker's opinion on people who lie?\",\n",
       "  'According to the speaker, what is the impact of not being truthful in relationships?'],\n",
       " '9UzMNewP5pc_127': ['What is the concept of \"make America states again\" in relation to crypto?',\n",
       "  'What is the potential downside of pushing regulation to the state level for crypto?'],\n",
       " 'T9WIWz5PEQk_15': ['What are the five things the speaker does every day?',\n",
       "  'Why does the speaker believe it is important to value people?'],\n",
       " 'OAXi4jcCrWA_100': [\"What is the concept of peak shift in relation to the bird's beak?\",\n",
       "  'How does dopamine habituation relate to people scrolling all day?'],\n",
       " 'gpxKBvq4OiA_61': ['What are the three ways mentioned to deal with oppression?',\n",
       "  'How does the speaker feel about the possibility of healing people and bringing them back together?'],\n",
       " 'JRPChBZ0Rjo_126': ['What led the person to shift from introspection to action?',\n",
       "  'Did the person have a specific definition of what \"works out\" means?'],\n",
       " 'oVpXaD16tVQ_84': ['What are the five properties of money that Bitcoin has perfected?',\n",
       "  'How does Bitcoin compare to gold in terms of its properties as money?'],\n",
       " 'x-i2KPe_-aU_5': [\"What is the actor's perspective on the impact of their work?\",\n",
       "  'How does the actor approach their role in portraying characters?'],\n",
       " 'xftOwi3Hstg_2': ['What is the average improvement rate for people undergoing therapy and drugs?',\n",
       "  'How many people experience a complete cure from depression?'],\n",
       " '7O_yR9WVSFw_44': ['What is the goal of the podcast?',\n",
       "  'How does the speaker define freedom?'],\n",
       " 'v1BwF7XkkuM_32': ['Who does the speaker believe has a responsibility to make a difference?',\n",
       "  'What is the highest cause according to the speaker?'],\n",
       " 'w1vC80R4MuY_92': [\"What is the speaker's attitude towards the cost of gas?\",\n",
       "  'How does the speaker describe their behavior at the gas pump?'],\n",
       " 'uEoXKSrvhBM_53': ['What topics are covered in the podcast?',\n",
       "  'How can I stay updated with the podcast content?'],\n",
       " 'l4fLax7S2Q0_317': ['How has the number of UN members changed over time?',\n",
       "  'What is the relationship between cryptocurrencies and fiat currencies?'],\n",
       " 'WhLdpjZjUrw_269': ['What is the purpose of the psychological immune system?',\n",
       "  'Why is it important to have a growth mindset in the process of progress?'],\n",
       " 'pmWmGVFGrN0_161': [\"What is the speaker's opinion on prescription weight loss drugs?\",\n",
       "  'Where can people follow and connect with the speaker?'],\n",
       " 'gzNLzqI5oTE_10': ['How long did Antoninus rule before Marcus became emperor?',\n",
       "  'What was the first thing Marcus did when he became emperor?'],\n",
       " 'HEQq3Dj0Stw_118': ['What was the common belief about running a Four Minute Mile?',\n",
       "  'Who challenged the belief that running a Four Minute Mile was impossible?'],\n",
       " 'sTS2fd3kE9I_114': ['What are some potential symptoms of metabolic dysfunction?',\n",
       "  'How does the speaker feel about the system being rigged against certain individuals?'],\n",
       " 'fHkGv1HqJYI_15': ['What is the concept that fascinates the speaker about person-to-person interactions?',\n",
       "  'Who is a person that the speaker suggests interviewing?'],\n",
       " 'lbFQ_GCdwgk_47': [\"What is the speaker's aspiration for the future?\",\n",
       "  'How does the speaker plan to expand beyond their current role?'],\n",
       " 'Vpe6gXYv9PA_54': ['How has the growth of GE changed since the seventies?',\n",
       "  'What is the current state of the economy in most parts of the country?'],\n",
       " 'SuZ8lEHtDI8_24': ['What is the story about someone cutting off their own hand with a pocket knife?',\n",
       "  'How should one approach the assumption of burnout versus laziness?'],\n",
       " 'cgU7abzvSQk_42': ['What does the speaker believe about changing others and holding them to their own standard?',\n",
       "  'How does the speaker feel about judging others based on their own standard?'],\n",
       " '_DWIeD65Jq0_24': ['Is staying enthusiastic despite facing repeated rejection something that can be taught?',\n",
       "  \"Have Bill Gates' children adopted the ability to stay enthusiastic despite facing challenges?\"],\n",
       " 'ZrkxvEJhxwQ_86': ['What is slow wave sleep and its purpose?',\n",
       "  'How does the brain decide which moments to keep as memories during sleep?'],\n",
       " 'qRKm2ZIGnU4_77': ['How does Bezos handle decision-making in his business?',\n",
       "  'Why does the person in the context struggle with making decisions?'],\n",
       " 'Ec4N-uV2EB4_21': ['What is the speaker\\'s opinion on the term \"sympathy\"?',\n",
       "  'Can you explain the story about the language without a word for blue?'],\n",
       " 'lbFQ_GCdwgk_29': ['Who is Tim Grover and what is his notion of being relentless?',\n",
       "  \"How has Tim Grover impacted the speaker's life?\"],\n",
       " 'zm0QVutAkYg_85': [\"What is the speaker's motivation for wanting to see how much they can do with their life?\",\n",
       "  'What are the two ways an enlightened monk can choose to live their life?'],\n",
       " 'aea1Bun0kew_160': ['What is the practice described in the context that opens up the heart?',\n",
       "  'Is the practice mentioned in the context related to loving-kindness meditation?'],\n",
       " 'oVpXaD16tVQ_65': ['How does the speaker feel about the need for a legislative body?',\n",
       "  'Why does the speaker believe gold is considered hard money?'],\n",
       " 'X8CD2QEYo6Q_13': ['What is the \"matrix\" that Jessica Flanigan refers to?',\n",
       "  'How does Jessica Flanigan believe the \"matrix\" can be used to understand people?'],\n",
       " 'JSyKVr4rvx0_89': ['What are some things that can be found on Steve Aoki?',\n",
       "  'What was the first acting opportunity the speaker had?'],\n",
       " 'YRWHMuRJ3cw_10': ['What decision did the speaker emphasize making in the morning?',\n",
       "  'Why is it important to make a conscious decision about who you want to be each day?'],\n",
       " '_2ZK9Y7QSmU_27': ['How has the internet potentially affected levels of aggression and violence?',\n",
       "  'What role do screens play in mitigating the negative consequences of economic inequality?'],\n",
       " 'TanQ2mhxAcs_195': ['How did the top stratum of billionaires fare during the COVID pandemic?',\n",
       "  'What are some factors that contribute to stress in globalized capitalism?'],\n",
       " 'Ll5EDt13GcQ_119': ['Why would it be difficult to impose a tax on a floating yacht?',\n",
       "  'What makes Bitcoin a representation of property rights?'],\n",
       " 'Ll5EDt13GcQ_145': ['How long does Warren Buffett own Coca-Cola stock?',\n",
       "  'What is the key to success according to the given context?'],\n",
       " 'QqaU5TQw_i4_70': [\"What is the author's goal in writing and communicating stories?\",\n",
       "  'How does the author define success in terms of impact?'],\n",
       " 'qtc1iWm_KCI_30': ['When was the last time the end user went to a doctor?',\n",
       "  'Why are values important to the end user?'],\n",
       " 'Mj8kr-wZqlM_14': [\"What percentage of a person's traits are determined by their upbringing?\",\n",
       "  'How would you describe the personality of the middle child?'],\n",
       " 'HGY1vf5H1z4_128': ['What is the relationship between language and the underlying truth in business?',\n",
       "  'Why is it important for business to be divided into two things?'],\n",
       " 'Ll5EDt13GcQ_114': ['How can you prevent the inflation of gold by miners?',\n",
       "  'How can you easily move your gold from one location to another?'],\n",
       " 'wYera33br94_79': ['How can autonomous weapon systems be regulated on an international level?',\n",
       "  \"What measures can be taken within a country to protect people's privacy?\"],\n",
       " 'QqaU5TQw_i4_60': [\"What is the author's perspective on getting a technical on purpose?\",\n",
       "  'Who does the author ask about intentionally getting a technical?'],\n",
       " 'lbFQ_GCdwgk_38': ['What does Tim Lasko believe is important in life?',\n",
       "  'How does Tom Bilyeu describe the impact of pressing pause in life?'],\n",
       " '-5YEOCOWktU_49': ['How is common sense linked to empathy?',\n",
       "  'What is one factor contributing to the disappearance of empathy?'],\n",
       " 'OAXi4jcCrWA_15': ['What is the topic that the speaker wants to discuss first?',\n",
       "  'What does the speaker mention as a conflict they experience?'],\n",
       " 'OoGghm0_Q8I_68': ['How do you help people unwind their fears and beliefs?',\n",
       "  'What is the suggested approach for addressing the emotional response of fear?'],\n",
       " '2IYuqfrMkMo_145': ['What is the name of the favorite podcast?',\n",
       "  'What type of information is the end user querying for?'],\n",
       " 'FUU0nvIhf8U_43': ['What is the importance of consistency and persistence in creating happiness?',\n",
       "  'Why is it important to be predictable in terms of emotions and approach towards people?'],\n",
       " 'IQefdkl8PfY_160': ['What is the topic of the film the speaker is part of?',\n",
       "  'What does the speaker speculate happens after death?'],\n",
       " '_I8lzTePXQw_101': ['Can a business owner discriminate against customers and employees?',\n",
       "  \"How do people react when they are offended by someone's words?\"],\n",
       " 'l1BULYFf8qo_226': ['What is the title of the book the speaker wants to write?',\n",
       "  'How does the speaker describe their personality in terms of ambition and laziness?'],\n",
       " '4lih9mwmD24_20': ['Why did the person in the book want to protect someone else?',\n",
       "  \"What was the person's motivation for taking action in Iraq?\"],\n",
       " 'CtoaGaSs7W8_38': ['What is the importance of researching the brain for self-improvement?',\n",
       "  'What is the message the speaker wants to convey about personal growth?'],\n",
       " '0wJA_KHfZ6g_0': ['How has the liquidity being taken out of the system affected crypto?',\n",
       "  'What has been the impact of the FTX saga on the market?'],\n",
       " 'Vs7KtoS0eKI_46': ['What is the concept of \"arigato in, arigato out\" in relation to money?',\n",
       "  'How did practicing \"arigato in, arigato out\" for two months make the person feel?'],\n",
       " 'ZeER3OZhd4c_50': ['What is the importance of managing emotions in behavior?',\n",
       "  'How can understanding self and managing emotions lead to progress?'],\n",
       " '_I8lzTePXQw_133': ['How did Prohibition impact the consumption of alcohol?',\n",
       "  'What are the potential effects of legalizing drugs?'],\n",
       " 'Eoh28Thi9C8_42': ['What are the factors that contribute to a sense of fulfillment?',\n",
       "  'According to the speaker, why is working hard important for fulfillment?']}"
      ]
     },
     "execution_count": 87,
     "metadata": {},
     "output_type": "execute_result"
    }
   ],
   "source": [
    "questions"
   ]
  },
  {
   "cell_type": "code",
   "execution_count": 97,
   "id": "98cbaf9d-db46-4bf7-b2a6-d799d593b80f",
   "metadata": {},
   "outputs": [],
   "source": [
    "for k, value in questions.items():\n",
    "    for q in value:\n",
    "        dataset['relevant_docs'][uuid.uuid4().hex] = [k]"
   ]
  },
  {
   "cell_type": "code",
   "execution_count": 102,
   "id": "48ed9f26-703e-40aa-a69b-24e356d6e29d",
   "metadata": {
    "collapsed": true,
    "jupyter": {
     "outputs_hidden": true
    }
   },
   "outputs": [
    {
     "data": {
      "text/plain": [
       "{'66bf9d0acc1546adab8478b20419b46f': ['LCHPSo79rB4_39'],\n",
       " '34a5b6460e7b44629749ad3acb35d7f4': ['LCHPSo79rB4_39'],\n",
       " '6d673831620944ffaba0bc99497282ed': ['Dzlg17y0IMM_100'],\n",
       " '643021e2bbb74198aad23976355ea46e': ['Dzlg17y0IMM_100'],\n",
       " 'fbb4dae8610242aba391fd047c7de165': ['J8Gg9twRyJ4_82'],\n",
       " 'd688c1b269f14bfaa186cac3dcaccb8e': ['J8Gg9twRyJ4_82'],\n",
       " 'ec26d3d6b03d44b7a86fc33676d2c818': ['rKByaM5asU8_106'],\n",
       " 'b17142e4f6cb4ad2a5b63e7c0e98a6fa': ['rKByaM5asU8_106'],\n",
       " '2c515084c12a4846b477976fadd5fc7b': ['0-kvH8Zv8Bs_13'],\n",
       " 'ab81e73bacac4d87a49d748f109a2043': ['0-kvH8Zv8Bs_13'],\n",
       " '329554db42dc4f7aadb6ea6d15dfe504': ['d2pFo5C5KwE_111'],\n",
       " '70d4e7fc0bde4600b4bff25de1116844': ['d2pFo5C5KwE_111'],\n",
       " 'e01fad57a6cb4f998316176060323a3e': ['J8Gg9twRyJ4_27'],\n",
       " '304b4cb15b08410c9df95fa59c75246b': ['J8Gg9twRyJ4_27'],\n",
       " '2e59316a90754fce954eaa8a8ccf503a': ['Q0tHddpViWM_13'],\n",
       " '73fd7eeea5374bcfbf84f1fc59c96978': ['Q0tHddpViWM_13'],\n",
       " '14af812055c54bedab27d110aa5a978c': ['SuZ8lEHtDI8_78'],\n",
       " 'eb2533f9d2bd4c7cb9001f9eba74e843': ['SuZ8lEHtDI8_78'],\n",
       " 'a3acb66a25f046eda0078dea65a0b038': ['yat2kOmJNLQ_3'],\n",
       " '99bce4a2b7c8476ea1aa84d20a778011': ['yat2kOmJNLQ_3'],\n",
       " '38c4a8738a9747e9b706b9747d39a7ba': ['Tigt75AcLLA_106'],\n",
       " '525eba8a625b4f1d82bc4e0c30fcca3d': ['Tigt75AcLLA_106'],\n",
       " 'a4078a28ec6b40669b1504161b90a241': ['c1ApIb7_mHY_46'],\n",
       " '20de4f377a37478fae7787f588651f06': ['c1ApIb7_mHY_46'],\n",
       " 'b0fd4511eea94f499d44748f2329d7eb': ['Gxmq9rWggqw_138'],\n",
       " '58e345a99af14251956f67c262233178': ['Gxmq9rWggqw_138'],\n",
       " '4d3abaa2dbf64f9da4ca68921153fe20': ['ZeER3OZhd4c_8'],\n",
       " '5f85717851314ba883064b9e8701edcc': ['ZeER3OZhd4c_8'],\n",
       " '18df4e4c65d94c3f81ae78d7a1d15233': ['qRKm2ZIGnU4_135'],\n",
       " '8942a07ba6f040a5acf83771c3d19ea2': ['qRKm2ZIGnU4_135'],\n",
       " '7e68798be5f040779acc4711adc8195c': ['IahmGf_Gulk_50'],\n",
       " 'aa2445e39cd9482d839486b4d023bb47': ['IahmGf_Gulk_50'],\n",
       " '2998b257e5a24436b8a737a7aa996101': ['p0XjlRb1Y_s_40'],\n",
       " '13e55dd488d34440acab88b0cb00286f': ['p0XjlRb1Y_s_40'],\n",
       " '58be889f48884501971837ce536a0ebe': ['gpxKBvq4OiA_111'],\n",
       " '27466796e6ba4ce88c714371fa48bd52': ['gpxKBvq4OiA_111'],\n",
       " 'ebb6c11a542241feab191cedc7190c1a': ['M2pL-hQyKds_35'],\n",
       " 'c21f61d873814fdcb60f9d0a065985c4': ['M2pL-hQyKds_35'],\n",
       " '3a1eb0ecd89141f28627366689ba3647': ['7MzRwisf3ps_147'],\n",
       " 'e933e86245424e93a019049d250d2731': ['7MzRwisf3ps_147'],\n",
       " '023b7974fa994d06b1ceaa2f856a7ef3': ['0oQo5MDdj80_30'],\n",
       " '732921399e2f40fea1a5d2354f14987d': ['0oQo5MDdj80_30'],\n",
       " '1253a87867804d8cbbea945141707c14': ['Fm29bAYaJoQ_53'],\n",
       " '60841021cfad4ef1a452c301fe15e4cc': ['Fm29bAYaJoQ_53'],\n",
       " '6d8e6abf27694002892ae2b3a2edc303': ['9aRy7DZ0Ek4_16'],\n",
       " '6f96329d55674ec8a12e04d4a13b2a85': ['9aRy7DZ0Ek4_16'],\n",
       " '96634d0fefde44a99244f3532d3d6420': ['PYzGv6Tfu_0_19'],\n",
       " '376d414e384a4ff0bff7708ad3af64d3': ['PYzGv6Tfu_0_19'],\n",
       " 'c3e4298eeb5845e699bd7d7ded322021': ['YZ9kfXw9H54_73'],\n",
       " '7e42fcf35d574e158461b273790ce2b0': ['YZ9kfXw9H54_73'],\n",
       " '45ee8ad02b8044a68af32d51f56ce61c': ['ZeER3OZhd4c_20'],\n",
       " 'fe009af543dd4db38ba5ae92251aba1e': ['ZeER3OZhd4c_20'],\n",
       " '48fba58fa7894707b7743eeb0639d766': ['GXoErccq0vw_41'],\n",
       " '9441e7fe24054a648736caf28f0b6a26': ['GXoErccq0vw_41'],\n",
       " '8a7288979a4048d89b02f50edd38eb75': ['9I39boHZYjI_241'],\n",
       " 'f9d1bc9d404046c7956d941c8457e4ef': ['9I39boHZYjI_241'],\n",
       " '5e550758412943aeafec054822788893': ['7O_yR9WVSFw_8'],\n",
       " 'c24310231a3f4bf181956eb4b1eb17eb': ['7O_yR9WVSFw_8'],\n",
       " '4563af86389042a0845ac439fce6fae4': ['orJa62raA4w_156'],\n",
       " '649a5ac3c30b406c9f76017c7002b3ed': ['orJa62raA4w_156'],\n",
       " '28093ce3b72543cc84ec1a2d408f0cc9': ['Ll5EDt13GcQ_162'],\n",
       " '410480bdc989452f8e5aa413cb993191': ['Ll5EDt13GcQ_162'],\n",
       " '1e9b4501f27446cebfd8818e7986c3da': ['Mer5BJzYVG0_35'],\n",
       " 'b030143f2e1a4ecdbe590c5b1381c3b6': ['Mer5BJzYVG0_35'],\n",
       " 'b849f55e25ae4908a9f132e8bf8fd97f': ['Eoh28Thi9C8_111'],\n",
       " '1577fce38c6949f48625a630e591a75b': ['Eoh28Thi9C8_111'],\n",
       " 'b027f4c4b2c5465ea50865e173edabc4': ['60U-wLfB8iU_111'],\n",
       " '66b462ddbc3b4393b536a0caaed4f94f': ['60U-wLfB8iU_111'],\n",
       " 'fc821e906987469f8b9fdf0e9e3a4298': ['kLIE93v2X-E_77'],\n",
       " 'c062905baad84a88bc3201056308fce2': ['kLIE93v2X-E_77'],\n",
       " '450ff6b2152a40dd861f03267a6922a4': ['c7LMEdlQIfw_19'],\n",
       " '8622833f487e4afd818e0e9356bbcd7c': ['c7LMEdlQIfw_19'],\n",
       " '8acfaaaa11bb44c5a1c3085d290e2f44': ['xyl_LfvWfrE_3'],\n",
       " 'd55df46d411f43968c76199c388deffe': ['xyl_LfvWfrE_3'],\n",
       " '4d30664660f44a54a600c418d06f1408': ['S0DHI0DGOIw_137'],\n",
       " 'cc4b44a801ad476593cf8b4c207ca41b': ['S0DHI0DGOIw_137'],\n",
       " '193a9517cb4341789b6e1900d6d689e5': ['LcskACdYUys_56'],\n",
       " '20be9fa1de5441948930cf6b179ab641': ['LcskACdYUys_56'],\n",
       " 'feeca4558cf3481f9a1a97b85016d1e7': ['9UzMNewP5pc_127'],\n",
       " 'e0459b0c6dfe485e970454e8bd54ff51': ['9UzMNewP5pc_127'],\n",
       " '3636d3d203664976b7bd6461c153c773': ['T9WIWz5PEQk_15'],\n",
       " 'c8a5e43115d04f0196ccc814790856be': ['T9WIWz5PEQk_15'],\n",
       " '4283b4bc18484c3785e6201d590f9a38': ['OAXi4jcCrWA_100'],\n",
       " '636fd8c2d0b64bbdaafd097464a7a650': ['OAXi4jcCrWA_100'],\n",
       " '39152fdc59a948afbe2ab0fe6408f713': ['gpxKBvq4OiA_61'],\n",
       " '568399e0a8be4efaa3a1c3dfa890c8b6': ['gpxKBvq4OiA_61'],\n",
       " '0cf272fcd76b418ab9c347edb3251d60': ['JRPChBZ0Rjo_126'],\n",
       " 'e0281062451f41b3b10c1470811c77a1': ['JRPChBZ0Rjo_126'],\n",
       " '80d1aa7b7d354a62b47a50500b367d87': ['oVpXaD16tVQ_84'],\n",
       " 'd32885953c744606ae0d80c28ce2413d': ['oVpXaD16tVQ_84'],\n",
       " 'e6034254dcc54a329272d937a31f3cf3': ['x-i2KPe_-aU_5'],\n",
       " 'bcb37e2887c44d2695887ed23b47aeee': ['x-i2KPe_-aU_5'],\n",
       " '057324e031e34ff19d993fdb8a4110c7': ['xftOwi3Hstg_2'],\n",
       " 'b76f3694bbe7402981fda083814774a7': ['xftOwi3Hstg_2'],\n",
       " '454c6b493a8b4998baad4e5f8c37a109': ['7O_yR9WVSFw_44'],\n",
       " 'f62441fcb3f94d36aedb31888ff99d7a': ['7O_yR9WVSFw_44'],\n",
       " '4540c70cec854309a3b6e55f3749e7ce': ['v1BwF7XkkuM_32'],\n",
       " '12b66ce99a6d4e7fa5ab0bec41bbd276': ['v1BwF7XkkuM_32'],\n",
       " '51ed4979fc204b81954bfc50051106d1': ['w1vC80R4MuY_92'],\n",
       " '47f7e53bfcc34918b7f6b03c7388cc8d': ['w1vC80R4MuY_92'],\n",
       " '6011d65bb47c46a4817b3cd78b2e2b27': ['uEoXKSrvhBM_53'],\n",
       " '9358ca0b54b8438ba2b9a48630396199': ['uEoXKSrvhBM_53'],\n",
       " '442aa6e2e8e14dacbaea4526261279fb': ['l4fLax7S2Q0_317'],\n",
       " '79abad11b12b49bd82ac34afe442a134': ['l4fLax7S2Q0_317'],\n",
       " '2db53d93aa534b15b25b0a0dde8454c5': ['WhLdpjZjUrw_269'],\n",
       " 'e5ca84c025d642f98223aa1f1e3ea865': ['WhLdpjZjUrw_269'],\n",
       " 'e4a98477b7064d279b9579d64ba2674c': ['pmWmGVFGrN0_161'],\n",
       " 'f872a9b7868543beaef7de7a3afff221': ['pmWmGVFGrN0_161'],\n",
       " 'ec8de4825ad947c2953d39abf8b08751': ['gzNLzqI5oTE_10'],\n",
       " '07605a03bb2b4eb08736cecb4cae74bd': ['gzNLzqI5oTE_10'],\n",
       " 'edf42dc331b34684aca5b4f6eacc6f4b': ['HEQq3Dj0Stw_118'],\n",
       " 'f88c4e07094e42eb8612e28ef07aaa26': ['HEQq3Dj0Stw_118'],\n",
       " 'c2aecfacb3bd4778879521b127445373': ['sTS2fd3kE9I_114'],\n",
       " '77385e75237c4fbdad6a28f0ad4a059a': ['sTS2fd3kE9I_114'],\n",
       " 'bab0a0364154400195e05e8551048bb6': ['fHkGv1HqJYI_15'],\n",
       " '0ebef6fc36de4820b592a9e516139244': ['fHkGv1HqJYI_15'],\n",
       " 'f9a282decada45a7b58e0d257e79f9b6': ['lbFQ_GCdwgk_47'],\n",
       " 'c30cce03e25b462f94c28ef3b6fd0e3f': ['lbFQ_GCdwgk_47'],\n",
       " 'f900c70b7fbd4ca297dc0dd893fb2f50': ['Vpe6gXYv9PA_54'],\n",
       " '5e1a9489f54242dcbb7ed2cf3a55f3c9': ['Vpe6gXYv9PA_54'],\n",
       " '341cb7ebbb3346d2899bd9f56850e492': ['SuZ8lEHtDI8_24'],\n",
       " '9ec9cec6bbc6460fb29f1d27b83c122f': ['SuZ8lEHtDI8_24'],\n",
       " '4ebba34a099d4452a2011fb0903638c3': ['cgU7abzvSQk_42'],\n",
       " '491f4847beca4b72ab7faa25d299779e': ['cgU7abzvSQk_42'],\n",
       " '8e173f150411496ea995ee4178e9902f': ['_DWIeD65Jq0_24'],\n",
       " 'e8b172fde5c54f7aa8d7b3fc5e7c808d': ['_DWIeD65Jq0_24'],\n",
       " 'bcddaeea7f4949edbe0dcdb2d8701619': ['ZrkxvEJhxwQ_86'],\n",
       " '7bfac40ac70a4cdfae8c619fe94d0a0e': ['ZrkxvEJhxwQ_86'],\n",
       " '55a75c4ea7424756a396365ac9dd289e': ['qRKm2ZIGnU4_77'],\n",
       " '4fb458752df44dc59114c45767197cd0': ['qRKm2ZIGnU4_77'],\n",
       " '68c0ec04346141348d45b4dec68c0514': ['Ec4N-uV2EB4_21'],\n",
       " '964a24ae67194271a0b421071ad734ac': ['Ec4N-uV2EB4_21'],\n",
       " '7479f0934283476d883af71d382eacf1': ['lbFQ_GCdwgk_29'],\n",
       " 'fda68e3a4a094d899de50f5802b3c611': ['lbFQ_GCdwgk_29'],\n",
       " '91aa7eaf3533431486baed971e750b27': ['zm0QVutAkYg_85'],\n",
       " '61f7223b6253459b8344d23569d78d1e': ['zm0QVutAkYg_85'],\n",
       " '2ae54d3730bd45f986da505b918a0665': ['aea1Bun0kew_160'],\n",
       " '12563b433dff4203a04767491ede77f8': ['aea1Bun0kew_160'],\n",
       " '95df37de6eca4abfaab77e03f0ecefb8': ['oVpXaD16tVQ_65'],\n",
       " '93d44f401cff42f29a490c7ad830a13c': ['oVpXaD16tVQ_65'],\n",
       " '93b5eb9b667c4ef5a3efda565e93144e': ['X8CD2QEYo6Q_13'],\n",
       " '9aedd288bdae465493655b02e55cef62': ['X8CD2QEYo6Q_13'],\n",
       " 'b44dab3dd7c0431980e51d3f7b8a6eac': ['JSyKVr4rvx0_89'],\n",
       " '7ef08bcc6d904e5eb45e8424bfbf104f': ['JSyKVr4rvx0_89'],\n",
       " '6885c51b99a24e709613c690c40b9a11': ['YRWHMuRJ3cw_10'],\n",
       " '39305b14d85e4b49b64417ae8d308db9': ['YRWHMuRJ3cw_10'],\n",
       " '0a81dfe2e9534b629e172b0b0706b3c3': ['_2ZK9Y7QSmU_27'],\n",
       " '5ea87df32f88453eb242c8b047302bf5': ['_2ZK9Y7QSmU_27'],\n",
       " 'b0718b02bc4d4172869e2c5e19144a9c': ['TanQ2mhxAcs_195'],\n",
       " 'e3514acdcf1e4b48a4001958cb12c5f3': ['TanQ2mhxAcs_195'],\n",
       " 'da08333b6ddc43e8944bc97927c5df15': ['Ll5EDt13GcQ_119'],\n",
       " '09b14f273b0b4bc2b2979ed65be0e0a8': ['Ll5EDt13GcQ_119'],\n",
       " 'd2dc857851d045f9badfd3be0b68ef35': ['Ll5EDt13GcQ_145'],\n",
       " '045786b0d0d94802af7dff2942256878': ['Ll5EDt13GcQ_145'],\n",
       " '9c3b5c3aea384b2bbc0236814c563de8': ['QqaU5TQw_i4_70'],\n",
       " '91af7323825a45ad8c34d889a462810c': ['QqaU5TQw_i4_70'],\n",
       " '330763daba3a4b1fb3396a96d26d73cc': ['qtc1iWm_KCI_30'],\n",
       " '45d5d70400e64a64a010a3ca81e856b9': ['qtc1iWm_KCI_30'],\n",
       " 'f9b3a55fbf0a4f3fa7bbf17445aeb6c1': ['Mj8kr-wZqlM_14'],\n",
       " '00b071e07640444183e79b9592c24903': ['Mj8kr-wZqlM_14'],\n",
       " 'cba2da5c7bda4add96953a0c955a24e1': ['HGY1vf5H1z4_128'],\n",
       " '97136c7fefae485889d1aa2874e116c8': ['HGY1vf5H1z4_128'],\n",
       " 'e2373f24dd2f499298fd91f71fd5d2e7': ['Ll5EDt13GcQ_114'],\n",
       " '623fc4cf587e4bed9a06eeb150852047': ['Ll5EDt13GcQ_114'],\n",
       " '5877b4b6b2724487a845ba62bfa8c89e': ['wYera33br94_79'],\n",
       " '3153f40390b1496a8d1043114f409281': ['wYera33br94_79'],\n",
       " 'a0c3782661534fbe82b480b5d9f0fa31': ['QqaU5TQw_i4_60'],\n",
       " '0bd5ba3472ec4784bca7100f3db9c342': ['QqaU5TQw_i4_60'],\n",
       " 'd91eb51c98924fbf974c61a17ef20ec0': ['lbFQ_GCdwgk_38'],\n",
       " 'eff02b9327af4000a09c0b71798afe23': ['lbFQ_GCdwgk_38'],\n",
       " 'd6eb222c36a84a319956fe1bf7570548': ['-5YEOCOWktU_49'],\n",
       " 'e96d9bf85a714c93adf831e75fb693f6': ['-5YEOCOWktU_49'],\n",
       " '06fc61c12b794fa6bfe3e1314c73b36a': ['OAXi4jcCrWA_15'],\n",
       " '7c2c656099c34852a54de8e7ee9ba624': ['OAXi4jcCrWA_15'],\n",
       " '43bf7c2c9b814dccaf4a68bac384bf17': ['OoGghm0_Q8I_68'],\n",
       " 'e3808f07002b483792cb62c550a78cd8': ['OoGghm0_Q8I_68'],\n",
       " '3dff015abaf94e45806e73e365ce8f2d': ['2IYuqfrMkMo_145'],\n",
       " '2694672673ef4b24b6418b25b89d5b46': ['2IYuqfrMkMo_145'],\n",
       " 'f142151142b543a09a1bbe7d1656d3d5': ['FUU0nvIhf8U_43'],\n",
       " 'b56ccee109e94bc3905f1d8126389759': ['FUU0nvIhf8U_43'],\n",
       " 'bab164aaf2e74c57b047e28a4a7d4d8c': ['IQefdkl8PfY_160'],\n",
       " '120f7d53901a4accb653fc3b7ee66859': ['IQefdkl8PfY_160'],\n",
       " 'd84714e2eb2145d7bfb470ea3ae58277': ['_I8lzTePXQw_101'],\n",
       " '10556077ce70435dab796733a9a7d711': ['_I8lzTePXQw_101'],\n",
       " 'aab8d080741a47a28aed07286c2b451a': ['l1BULYFf8qo_226'],\n",
       " '9e5d77ecd4b34ceb9873d28de07fdab3': ['l1BULYFf8qo_226'],\n",
       " '2a59fd8a86a74b14938cc96cba26bf59': ['4lih9mwmD24_20'],\n",
       " '1dadb4cbe88540079724ac5f1caa8045': ['4lih9mwmD24_20'],\n",
       " '2a7a3a986d4246ca914ae0135bec94c6': ['CtoaGaSs7W8_38'],\n",
       " 'f605d558b90d4b46915cfcc667c22f61': ['CtoaGaSs7W8_38'],\n",
       " '38cd291cdd0e4aa8a6caeedc28f4e61a': ['0wJA_KHfZ6g_0'],\n",
       " '8d3e51c5a6464ff4bbe783db5a7829d9': ['0wJA_KHfZ6g_0'],\n",
       " 'd86f0a8e1915424eac6d39a4566bb664': ['Vs7KtoS0eKI_46'],\n",
       " '14e76d8666ff41fe9a6c2324b3e25b8f': ['Vs7KtoS0eKI_46'],\n",
       " '273529a56a95406bb15d4d2265c20700': ['ZeER3OZhd4c_50'],\n",
       " '9ef6b9d3f3514cdb89cedb2fc7867d01': ['ZeER3OZhd4c_50'],\n",
       " '2e83670e35c443a182c26c4833b1d017': ['_I8lzTePXQw_133'],\n",
       " '06298f2292864c5d87777525cf5a74ba': ['_I8lzTePXQw_133'],\n",
       " '7efdab359ac04b0d9a3393ed737f497f': ['Eoh28Thi9C8_42'],\n",
       " '2e7bc7b9fb4249558404237a24ceb3d5': ['Eoh28Thi9C8_42']}"
      ]
     },
     "execution_count": 102,
     "metadata": {},
     "output_type": "execute_result"
    }
   ],
   "source": [
    "dataset['relevant_docs']"
   ]
  },
  {
   "cell_type": "code",
   "execution_count": 104,
   "id": "2b48d8eb-efa8-484d-b097-38fce4f21723",
   "metadata": {},
   "outputs": [
    {
     "data": {
      "text/plain": [
       "{}"
      ]
     },
     "execution_count": 104,
     "metadata": {},
     "output_type": "execute_result"
    }
   ],
   "source": [
    "dataset['queries']"
   ]
  },
  {
   "cell_type": "code",
   "execution_count": 114,
   "id": "00432d76-0d7c-43ee-9445-9ba478f371d8",
   "metadata": {},
   "outputs": [],
   "source": [
    "# for hash_id in dataset['relevant_docs'].keys():\n",
    "#     doc_id = dataset['relevant_docs'][hash_id]\n",
    "#     qs = questions[doc_id[0]]\n",
    "#     print(qs)"
   ]
  },
  {
   "cell_type": "code",
   "execution_count": 115,
   "id": "c32443b2-d19c-46c2-a5fb-8b8f538b3091",
   "metadata": {
    "collapsed": true,
    "jupyter": {
     "outputs_hidden": true
    }
   },
   "outputs": [
    {
     "data": {
      "text/plain": [
       "{'66bf9d0acc1546adab8478b20419b46f': ['LCHPSo79rB4_39'],\n",
       " '34a5b6460e7b44629749ad3acb35d7f4': ['LCHPSo79rB4_39'],\n",
       " '6d673831620944ffaba0bc99497282ed': ['Dzlg17y0IMM_100'],\n",
       " '643021e2bbb74198aad23976355ea46e': ['Dzlg17y0IMM_100'],\n",
       " 'fbb4dae8610242aba391fd047c7de165': ['J8Gg9twRyJ4_82'],\n",
       " 'd688c1b269f14bfaa186cac3dcaccb8e': ['J8Gg9twRyJ4_82'],\n",
       " 'ec26d3d6b03d44b7a86fc33676d2c818': ['rKByaM5asU8_106'],\n",
       " 'b17142e4f6cb4ad2a5b63e7c0e98a6fa': ['rKByaM5asU8_106'],\n",
       " '2c515084c12a4846b477976fadd5fc7b': ['0-kvH8Zv8Bs_13'],\n",
       " 'ab81e73bacac4d87a49d748f109a2043': ['0-kvH8Zv8Bs_13'],\n",
       " '329554db42dc4f7aadb6ea6d15dfe504': ['d2pFo5C5KwE_111'],\n",
       " '70d4e7fc0bde4600b4bff25de1116844': ['d2pFo5C5KwE_111'],\n",
       " 'e01fad57a6cb4f998316176060323a3e': ['J8Gg9twRyJ4_27'],\n",
       " '304b4cb15b08410c9df95fa59c75246b': ['J8Gg9twRyJ4_27'],\n",
       " '2e59316a90754fce954eaa8a8ccf503a': ['Q0tHddpViWM_13'],\n",
       " '73fd7eeea5374bcfbf84f1fc59c96978': ['Q0tHddpViWM_13'],\n",
       " '14af812055c54bedab27d110aa5a978c': ['SuZ8lEHtDI8_78'],\n",
       " 'eb2533f9d2bd4c7cb9001f9eba74e843': ['SuZ8lEHtDI8_78'],\n",
       " 'a3acb66a25f046eda0078dea65a0b038': ['yat2kOmJNLQ_3'],\n",
       " '99bce4a2b7c8476ea1aa84d20a778011': ['yat2kOmJNLQ_3'],\n",
       " '38c4a8738a9747e9b706b9747d39a7ba': ['Tigt75AcLLA_106'],\n",
       " '525eba8a625b4f1d82bc4e0c30fcca3d': ['Tigt75AcLLA_106'],\n",
       " 'a4078a28ec6b40669b1504161b90a241': ['c1ApIb7_mHY_46'],\n",
       " '20de4f377a37478fae7787f588651f06': ['c1ApIb7_mHY_46'],\n",
       " 'b0fd4511eea94f499d44748f2329d7eb': ['Gxmq9rWggqw_138'],\n",
       " '58e345a99af14251956f67c262233178': ['Gxmq9rWggqw_138'],\n",
       " '4d3abaa2dbf64f9da4ca68921153fe20': ['ZeER3OZhd4c_8'],\n",
       " '5f85717851314ba883064b9e8701edcc': ['ZeER3OZhd4c_8'],\n",
       " '18df4e4c65d94c3f81ae78d7a1d15233': ['qRKm2ZIGnU4_135'],\n",
       " '8942a07ba6f040a5acf83771c3d19ea2': ['qRKm2ZIGnU4_135'],\n",
       " '7e68798be5f040779acc4711adc8195c': ['IahmGf_Gulk_50'],\n",
       " 'aa2445e39cd9482d839486b4d023bb47': ['IahmGf_Gulk_50'],\n",
       " '2998b257e5a24436b8a737a7aa996101': ['p0XjlRb1Y_s_40'],\n",
       " '13e55dd488d34440acab88b0cb00286f': ['p0XjlRb1Y_s_40'],\n",
       " '58be889f48884501971837ce536a0ebe': ['gpxKBvq4OiA_111'],\n",
       " '27466796e6ba4ce88c714371fa48bd52': ['gpxKBvq4OiA_111'],\n",
       " 'ebb6c11a542241feab191cedc7190c1a': ['M2pL-hQyKds_35'],\n",
       " 'c21f61d873814fdcb60f9d0a065985c4': ['M2pL-hQyKds_35'],\n",
       " '3a1eb0ecd89141f28627366689ba3647': ['7MzRwisf3ps_147'],\n",
       " 'e933e86245424e93a019049d250d2731': ['7MzRwisf3ps_147'],\n",
       " '023b7974fa994d06b1ceaa2f856a7ef3': ['0oQo5MDdj80_30'],\n",
       " '732921399e2f40fea1a5d2354f14987d': ['0oQo5MDdj80_30'],\n",
       " '1253a87867804d8cbbea945141707c14': ['Fm29bAYaJoQ_53'],\n",
       " '60841021cfad4ef1a452c301fe15e4cc': ['Fm29bAYaJoQ_53'],\n",
       " '6d8e6abf27694002892ae2b3a2edc303': ['9aRy7DZ0Ek4_16'],\n",
       " '6f96329d55674ec8a12e04d4a13b2a85': ['9aRy7DZ0Ek4_16'],\n",
       " '96634d0fefde44a99244f3532d3d6420': ['PYzGv6Tfu_0_19'],\n",
       " '376d414e384a4ff0bff7708ad3af64d3': ['PYzGv6Tfu_0_19'],\n",
       " 'c3e4298eeb5845e699bd7d7ded322021': ['YZ9kfXw9H54_73'],\n",
       " '7e42fcf35d574e158461b273790ce2b0': ['YZ9kfXw9H54_73'],\n",
       " '45ee8ad02b8044a68af32d51f56ce61c': ['ZeER3OZhd4c_20'],\n",
       " 'fe009af543dd4db38ba5ae92251aba1e': ['ZeER3OZhd4c_20'],\n",
       " '48fba58fa7894707b7743eeb0639d766': ['GXoErccq0vw_41'],\n",
       " '9441e7fe24054a648736caf28f0b6a26': ['GXoErccq0vw_41'],\n",
       " '8a7288979a4048d89b02f50edd38eb75': ['9I39boHZYjI_241'],\n",
       " 'f9d1bc9d404046c7956d941c8457e4ef': ['9I39boHZYjI_241'],\n",
       " '5e550758412943aeafec054822788893': ['7O_yR9WVSFw_8'],\n",
       " 'c24310231a3f4bf181956eb4b1eb17eb': ['7O_yR9WVSFw_8'],\n",
       " '4563af86389042a0845ac439fce6fae4': ['orJa62raA4w_156'],\n",
       " '649a5ac3c30b406c9f76017c7002b3ed': ['orJa62raA4w_156'],\n",
       " '28093ce3b72543cc84ec1a2d408f0cc9': ['Ll5EDt13GcQ_162'],\n",
       " '410480bdc989452f8e5aa413cb993191': ['Ll5EDt13GcQ_162'],\n",
       " '1e9b4501f27446cebfd8818e7986c3da': ['Mer5BJzYVG0_35'],\n",
       " 'b030143f2e1a4ecdbe590c5b1381c3b6': ['Mer5BJzYVG0_35'],\n",
       " 'b849f55e25ae4908a9f132e8bf8fd97f': ['Eoh28Thi9C8_111'],\n",
       " '1577fce38c6949f48625a630e591a75b': ['Eoh28Thi9C8_111'],\n",
       " 'b027f4c4b2c5465ea50865e173edabc4': ['60U-wLfB8iU_111'],\n",
       " '66b462ddbc3b4393b536a0caaed4f94f': ['60U-wLfB8iU_111'],\n",
       " 'fc821e906987469f8b9fdf0e9e3a4298': ['kLIE93v2X-E_77'],\n",
       " 'c062905baad84a88bc3201056308fce2': ['kLIE93v2X-E_77'],\n",
       " '450ff6b2152a40dd861f03267a6922a4': ['c7LMEdlQIfw_19'],\n",
       " '8622833f487e4afd818e0e9356bbcd7c': ['c7LMEdlQIfw_19'],\n",
       " '8acfaaaa11bb44c5a1c3085d290e2f44': ['xyl_LfvWfrE_3'],\n",
       " 'd55df46d411f43968c76199c388deffe': ['xyl_LfvWfrE_3'],\n",
       " '4d30664660f44a54a600c418d06f1408': ['S0DHI0DGOIw_137'],\n",
       " 'cc4b44a801ad476593cf8b4c207ca41b': ['S0DHI0DGOIw_137'],\n",
       " '193a9517cb4341789b6e1900d6d689e5': ['LcskACdYUys_56'],\n",
       " '20be9fa1de5441948930cf6b179ab641': ['LcskACdYUys_56'],\n",
       " 'feeca4558cf3481f9a1a97b85016d1e7': ['9UzMNewP5pc_127'],\n",
       " 'e0459b0c6dfe485e970454e8bd54ff51': ['9UzMNewP5pc_127'],\n",
       " '3636d3d203664976b7bd6461c153c773': ['T9WIWz5PEQk_15'],\n",
       " 'c8a5e43115d04f0196ccc814790856be': ['T9WIWz5PEQk_15'],\n",
       " '4283b4bc18484c3785e6201d590f9a38': ['OAXi4jcCrWA_100'],\n",
       " '636fd8c2d0b64bbdaafd097464a7a650': ['OAXi4jcCrWA_100'],\n",
       " '39152fdc59a948afbe2ab0fe6408f713': ['gpxKBvq4OiA_61'],\n",
       " '568399e0a8be4efaa3a1c3dfa890c8b6': ['gpxKBvq4OiA_61'],\n",
       " '0cf272fcd76b418ab9c347edb3251d60': ['JRPChBZ0Rjo_126'],\n",
       " 'e0281062451f41b3b10c1470811c77a1': ['JRPChBZ0Rjo_126'],\n",
       " '80d1aa7b7d354a62b47a50500b367d87': ['oVpXaD16tVQ_84'],\n",
       " 'd32885953c744606ae0d80c28ce2413d': ['oVpXaD16tVQ_84'],\n",
       " 'e6034254dcc54a329272d937a31f3cf3': ['x-i2KPe_-aU_5'],\n",
       " 'bcb37e2887c44d2695887ed23b47aeee': ['x-i2KPe_-aU_5'],\n",
       " '057324e031e34ff19d993fdb8a4110c7': ['xftOwi3Hstg_2'],\n",
       " 'b76f3694bbe7402981fda083814774a7': ['xftOwi3Hstg_2'],\n",
       " '454c6b493a8b4998baad4e5f8c37a109': ['7O_yR9WVSFw_44'],\n",
       " 'f62441fcb3f94d36aedb31888ff99d7a': ['7O_yR9WVSFw_44'],\n",
       " '4540c70cec854309a3b6e55f3749e7ce': ['v1BwF7XkkuM_32'],\n",
       " '12b66ce99a6d4e7fa5ab0bec41bbd276': ['v1BwF7XkkuM_32'],\n",
       " '51ed4979fc204b81954bfc50051106d1': ['w1vC80R4MuY_92'],\n",
       " '47f7e53bfcc34918b7f6b03c7388cc8d': ['w1vC80R4MuY_92'],\n",
       " '6011d65bb47c46a4817b3cd78b2e2b27': ['uEoXKSrvhBM_53'],\n",
       " '9358ca0b54b8438ba2b9a48630396199': ['uEoXKSrvhBM_53'],\n",
       " '442aa6e2e8e14dacbaea4526261279fb': ['l4fLax7S2Q0_317'],\n",
       " '79abad11b12b49bd82ac34afe442a134': ['l4fLax7S2Q0_317'],\n",
       " '2db53d93aa534b15b25b0a0dde8454c5': ['WhLdpjZjUrw_269'],\n",
       " 'e5ca84c025d642f98223aa1f1e3ea865': ['WhLdpjZjUrw_269'],\n",
       " 'e4a98477b7064d279b9579d64ba2674c': ['pmWmGVFGrN0_161'],\n",
       " 'f872a9b7868543beaef7de7a3afff221': ['pmWmGVFGrN0_161'],\n",
       " 'ec8de4825ad947c2953d39abf8b08751': ['gzNLzqI5oTE_10'],\n",
       " '07605a03bb2b4eb08736cecb4cae74bd': ['gzNLzqI5oTE_10'],\n",
       " 'edf42dc331b34684aca5b4f6eacc6f4b': ['HEQq3Dj0Stw_118'],\n",
       " 'f88c4e07094e42eb8612e28ef07aaa26': ['HEQq3Dj0Stw_118'],\n",
       " 'c2aecfacb3bd4778879521b127445373': ['sTS2fd3kE9I_114'],\n",
       " '77385e75237c4fbdad6a28f0ad4a059a': ['sTS2fd3kE9I_114'],\n",
       " 'bab0a0364154400195e05e8551048bb6': ['fHkGv1HqJYI_15'],\n",
       " '0ebef6fc36de4820b592a9e516139244': ['fHkGv1HqJYI_15'],\n",
       " 'f9a282decada45a7b58e0d257e79f9b6': ['lbFQ_GCdwgk_47'],\n",
       " 'c30cce03e25b462f94c28ef3b6fd0e3f': ['lbFQ_GCdwgk_47'],\n",
       " 'f900c70b7fbd4ca297dc0dd893fb2f50': ['Vpe6gXYv9PA_54'],\n",
       " '5e1a9489f54242dcbb7ed2cf3a55f3c9': ['Vpe6gXYv9PA_54'],\n",
       " '341cb7ebbb3346d2899bd9f56850e492': ['SuZ8lEHtDI8_24'],\n",
       " '9ec9cec6bbc6460fb29f1d27b83c122f': ['SuZ8lEHtDI8_24'],\n",
       " '4ebba34a099d4452a2011fb0903638c3': ['cgU7abzvSQk_42'],\n",
       " '491f4847beca4b72ab7faa25d299779e': ['cgU7abzvSQk_42'],\n",
       " '8e173f150411496ea995ee4178e9902f': ['_DWIeD65Jq0_24'],\n",
       " 'e8b172fde5c54f7aa8d7b3fc5e7c808d': ['_DWIeD65Jq0_24'],\n",
       " 'bcddaeea7f4949edbe0dcdb2d8701619': ['ZrkxvEJhxwQ_86'],\n",
       " '7bfac40ac70a4cdfae8c619fe94d0a0e': ['ZrkxvEJhxwQ_86'],\n",
       " '55a75c4ea7424756a396365ac9dd289e': ['qRKm2ZIGnU4_77'],\n",
       " '4fb458752df44dc59114c45767197cd0': ['qRKm2ZIGnU4_77'],\n",
       " '68c0ec04346141348d45b4dec68c0514': ['Ec4N-uV2EB4_21'],\n",
       " '964a24ae67194271a0b421071ad734ac': ['Ec4N-uV2EB4_21'],\n",
       " '7479f0934283476d883af71d382eacf1': ['lbFQ_GCdwgk_29'],\n",
       " 'fda68e3a4a094d899de50f5802b3c611': ['lbFQ_GCdwgk_29'],\n",
       " '91aa7eaf3533431486baed971e750b27': ['zm0QVutAkYg_85'],\n",
       " '61f7223b6253459b8344d23569d78d1e': ['zm0QVutAkYg_85'],\n",
       " '2ae54d3730bd45f986da505b918a0665': ['aea1Bun0kew_160'],\n",
       " '12563b433dff4203a04767491ede77f8': ['aea1Bun0kew_160'],\n",
       " '95df37de6eca4abfaab77e03f0ecefb8': ['oVpXaD16tVQ_65'],\n",
       " '93d44f401cff42f29a490c7ad830a13c': ['oVpXaD16tVQ_65'],\n",
       " '93b5eb9b667c4ef5a3efda565e93144e': ['X8CD2QEYo6Q_13'],\n",
       " '9aedd288bdae465493655b02e55cef62': ['X8CD2QEYo6Q_13'],\n",
       " 'b44dab3dd7c0431980e51d3f7b8a6eac': ['JSyKVr4rvx0_89'],\n",
       " '7ef08bcc6d904e5eb45e8424bfbf104f': ['JSyKVr4rvx0_89'],\n",
       " '6885c51b99a24e709613c690c40b9a11': ['YRWHMuRJ3cw_10'],\n",
       " '39305b14d85e4b49b64417ae8d308db9': ['YRWHMuRJ3cw_10'],\n",
       " '0a81dfe2e9534b629e172b0b0706b3c3': ['_2ZK9Y7QSmU_27'],\n",
       " '5ea87df32f88453eb242c8b047302bf5': ['_2ZK9Y7QSmU_27'],\n",
       " 'b0718b02bc4d4172869e2c5e19144a9c': ['TanQ2mhxAcs_195'],\n",
       " 'e3514acdcf1e4b48a4001958cb12c5f3': ['TanQ2mhxAcs_195'],\n",
       " 'da08333b6ddc43e8944bc97927c5df15': ['Ll5EDt13GcQ_119'],\n",
       " '09b14f273b0b4bc2b2979ed65be0e0a8': ['Ll5EDt13GcQ_119'],\n",
       " 'd2dc857851d045f9badfd3be0b68ef35': ['Ll5EDt13GcQ_145'],\n",
       " '045786b0d0d94802af7dff2942256878': ['Ll5EDt13GcQ_145'],\n",
       " '9c3b5c3aea384b2bbc0236814c563de8': ['QqaU5TQw_i4_70'],\n",
       " '91af7323825a45ad8c34d889a462810c': ['QqaU5TQw_i4_70'],\n",
       " '330763daba3a4b1fb3396a96d26d73cc': ['qtc1iWm_KCI_30'],\n",
       " '45d5d70400e64a64a010a3ca81e856b9': ['qtc1iWm_KCI_30'],\n",
       " 'f9b3a55fbf0a4f3fa7bbf17445aeb6c1': ['Mj8kr-wZqlM_14'],\n",
       " '00b071e07640444183e79b9592c24903': ['Mj8kr-wZqlM_14'],\n",
       " 'cba2da5c7bda4add96953a0c955a24e1': ['HGY1vf5H1z4_128'],\n",
       " '97136c7fefae485889d1aa2874e116c8': ['HGY1vf5H1z4_128'],\n",
       " 'e2373f24dd2f499298fd91f71fd5d2e7': ['Ll5EDt13GcQ_114'],\n",
       " '623fc4cf587e4bed9a06eeb150852047': ['Ll5EDt13GcQ_114'],\n",
       " '5877b4b6b2724487a845ba62bfa8c89e': ['wYera33br94_79'],\n",
       " '3153f40390b1496a8d1043114f409281': ['wYera33br94_79'],\n",
       " 'a0c3782661534fbe82b480b5d9f0fa31': ['QqaU5TQw_i4_60'],\n",
       " '0bd5ba3472ec4784bca7100f3db9c342': ['QqaU5TQw_i4_60'],\n",
       " 'd91eb51c98924fbf974c61a17ef20ec0': ['lbFQ_GCdwgk_38'],\n",
       " 'eff02b9327af4000a09c0b71798afe23': ['lbFQ_GCdwgk_38'],\n",
       " 'd6eb222c36a84a319956fe1bf7570548': ['-5YEOCOWktU_49'],\n",
       " 'e96d9bf85a714c93adf831e75fb693f6': ['-5YEOCOWktU_49'],\n",
       " '06fc61c12b794fa6bfe3e1314c73b36a': ['OAXi4jcCrWA_15'],\n",
       " '7c2c656099c34852a54de8e7ee9ba624': ['OAXi4jcCrWA_15'],\n",
       " '43bf7c2c9b814dccaf4a68bac384bf17': ['OoGghm0_Q8I_68'],\n",
       " 'e3808f07002b483792cb62c550a78cd8': ['OoGghm0_Q8I_68'],\n",
       " '3dff015abaf94e45806e73e365ce8f2d': ['2IYuqfrMkMo_145'],\n",
       " '2694672673ef4b24b6418b25b89d5b46': ['2IYuqfrMkMo_145'],\n",
       " 'f142151142b543a09a1bbe7d1656d3d5': ['FUU0nvIhf8U_43'],\n",
       " 'b56ccee109e94bc3905f1d8126389759': ['FUU0nvIhf8U_43'],\n",
       " 'bab164aaf2e74c57b047e28a4a7d4d8c': ['IQefdkl8PfY_160'],\n",
       " '120f7d53901a4accb653fc3b7ee66859': ['IQefdkl8PfY_160'],\n",
       " 'd84714e2eb2145d7bfb470ea3ae58277': ['_I8lzTePXQw_101'],\n",
       " '10556077ce70435dab796733a9a7d711': ['_I8lzTePXQw_101'],\n",
       " 'aab8d080741a47a28aed07286c2b451a': ['l1BULYFf8qo_226'],\n",
       " '9e5d77ecd4b34ceb9873d28de07fdab3': ['l1BULYFf8qo_226'],\n",
       " '2a59fd8a86a74b14938cc96cba26bf59': ['4lih9mwmD24_20'],\n",
       " '1dadb4cbe88540079724ac5f1caa8045': ['4lih9mwmD24_20'],\n",
       " '2a7a3a986d4246ca914ae0135bec94c6': ['CtoaGaSs7W8_38'],\n",
       " 'f605d558b90d4b46915cfcc667c22f61': ['CtoaGaSs7W8_38'],\n",
       " '38cd291cdd0e4aa8a6caeedc28f4e61a': ['0wJA_KHfZ6g_0'],\n",
       " '8d3e51c5a6464ff4bbe783db5a7829d9': ['0wJA_KHfZ6g_0'],\n",
       " 'd86f0a8e1915424eac6d39a4566bb664': ['Vs7KtoS0eKI_46'],\n",
       " '14e76d8666ff41fe9a6c2324b3e25b8f': ['Vs7KtoS0eKI_46'],\n",
       " '273529a56a95406bb15d4d2265c20700': ['ZeER3OZhd4c_50'],\n",
       " '9ef6b9d3f3514cdb89cedb2fc7867d01': ['ZeER3OZhd4c_50'],\n",
       " '2e83670e35c443a182c26c4833b1d017': ['_I8lzTePXQw_133'],\n",
       " '06298f2292864c5d87777525cf5a74ba': ['_I8lzTePXQw_133'],\n",
       " '7efdab359ac04b0d9a3393ed737f497f': ['Eoh28Thi9C8_42'],\n",
       " '2e7bc7b9fb4249558404237a24ceb3d5': ['Eoh28Thi9C8_42']}"
      ]
     },
     "execution_count": 115,
     "metadata": {},
     "output_type": "execute_result"
    }
   ],
   "source": [
    "dataset['relevant_docs']"
   ]
  },
  {
   "cell_type": "code",
   "execution_count": 116,
   "id": "75f391d7-c2e4-418b-807a-5045e5f0dc40",
   "metadata": {
    "collapsed": true,
    "jupyter": {
     "outputs_hidden": true
    }
   },
   "outputs": [
    {
     "data": {
      "text/plain": [
       "{'LCHPSo79rB4_39': ['What is the hypothesis behind founding Impact Theory?',\n",
       "  'What is the leading cause of death among young men?'],\n",
       " 'Dzlg17y0IMM_100': ['What is one of the powers of modern medicine?',\n",
       "  'What kind of patients does the doctor often see?'],\n",
       " 'J8Gg9twRyJ4_82': ['How does the podcast cater to a diverse range of interests?',\n",
       "  'What kind of topics are covered in the podcast?'],\n",
       " 'rKByaM5asU8_106': ['What is the moral composition of society based on acquiring wealth?',\n",
       "  'Why should one be ashamed of taking value from someone else?'],\n",
       " '0-kvH8Zv8Bs_13': ['How does setting low goals initially affect performance in the high jump?',\n",
       "  'What comparison does the speaker make between setting goals and the high jump?'],\n",
       " 'd2pFo5C5KwE_111': ['Why did people come to the United States in the past?',\n",
       "  \"What was the religious background of the speaker's family?\"],\n",
       " 'J8Gg9twRyJ4_27': ['What was the motivation for the speaker to focus on a specific thing?',\n",
       "  'Is the speaker contemplating becoming the best in the world at something?'],\n",
       " 'Q0tHddpViWM_13': ['How did the person change their reaction to stealing?',\n",
       "  'Who taught the person to meditate when they were 12?'],\n",
       " 'SuZ8lEHtDI8_78': ['What are the five things you should be doing to win a gold medal in the Olympics for swimming?',\n",
       "  'What does your goal make demands of?'],\n",
       " 'yat2kOmJNLQ_3': ['What are the two layers discussed in the conversation?',\n",
       "  'What were the two things that stood out for the person asking the question?'],\n",
       " 'Tigt75AcLLA_106': ['How does the person feel about not being productive in bed?',\n",
       "  \"What does the person do if they don't do the thing they said they would do?\"],\n",
       " 'c1ApIb7_mHY_46': ['What is the main theme of the novella \"Juliette\\'s School of Possibilities\"?',\n",
       "  'Who helps the young consultant in the novella to learn how to choose well?'],\n",
       " 'Gxmq9rWggqw_138': ['What is the importance of self-delusion in romantic success?',\n",
       "  'How does hope relate to the concept of mating intelligence?'],\n",
       " 'ZeER3OZhd4c_8': [\"What is the speaker's approach to stepping out of their comfort zone?\",\n",
       "  'How does the speaker suggest visualizing goals can be helpful?'],\n",
       " 'qRKm2ZIGnU4_135': ['How many people has the speaker interviewed as an employer?',\n",
       "  'How did the speaker meet their wife?'],\n",
       " 'IahmGf_Gulk_50': ['Why is it important to speak up and reach out for connection?',\n",
       "  'Where can these guys find the podcast online?'],\n",
       " 'p0XjlRb1Y_s_40': ['How often do the speaker and their spouse evaluate their values?',\n",
       "  \"What is the purpose of the speaker's practice of evaluating their values?\"],\n",
       " 'gpxKBvq4OiA_111': [\"What is the speaker's opinion on governments creating a safety net?\",\n",
       "  'How does the speaker believe nature treats individuals who are left behind?'],\n",
       " 'M2pL-hQyKds_35': ['Who is using LSD with patients for fMRI studies?',\n",
       "  \"What were the two interesting findings from Karl-Heinz Harris's research?\"],\n",
       " '7MzRwisf3ps_147': ['What is one factor that influences the diversity of our microbiome?',\n",
       "  'What are some examples of prebiotic foods?'],\n",
       " '0oQo5MDdj80_30': [\"What is one of the most important rules in the speaker's life?\",\n",
       "  'How does the speaker celebrate getting out of bed in 10 minutes or less?'],\n",
       " 'Fm29bAYaJoQ_53': ['What is the name of the comprehensive library on integrative studies?',\n",
       "  'What is the desired impact of the person being referred to?'],\n",
       " '9aRy7DZ0Ek4_16': ['What are the two things you need to do to become a better person in one year?',\n",
       "  'What percentage of people choose quitting as an option when setting a goal?'],\n",
       " 'PYzGv6Tfu_0_19': ['How did Jason Silva spend his time at work?',\n",
       "  'Why did Jason Silva quit his job?'],\n",
       " 'YZ9kfXw9H54_73': ['What are the two most important things according to the context?',\n",
       "  'Why is it important to take care of our health?'],\n",
       " 'ZeER3OZhd4c_20': ['How does the speaker handle their struggles and battles?',\n",
       "  'What does the speaker believe is contagious about themselves?'],\n",
       " 'GXoErccq0vw_41': [\"What is the end user's emotional connection to science?\",\n",
       "  \"Have you ever measured the amount of content you've produced?\"],\n",
       " '9I39boHZYjI_241': ['What is the speaker speculating about based on their reading?',\n",
       "  'How do men and women differ in their attitudes towards bisexuality?'],\n",
       " '7O_yR9WVSFw_8': ['How did the speaker discover play and reintroduce it into their life?',\n",
       "  'What circumstances led the speaker to seek approval outside of themselves?'],\n",
       " 'orJa62raA4w_156': ['What is the difficulty in achieving appropriate levels of ApoB for true prevention?',\n",
       "  'How did the person lose 60 pounds?'],\n",
       " 'Ll5EDt13GcQ_162': ['How much did the house in Miami Beach cost in 1930?',\n",
       "  'What is the annualized inflation rate for scarce desirable assets?'],\n",
       " 'Mer5BJzYVG0_35': ['What are some ways that people can have impact in their careers?',\n",
       "  'How does the podcast teach people to differentiate between impact and their career?'],\n",
       " 'Eoh28Thi9C8_111': [\"What is the reason for the person's strong relationship with God?\",\n",
       "  \"How did the person's athletic clock affect their ability to run college track?\"],\n",
       " '60U-wLfB8iU_111': ['How did the Bangladeshi government implement e-procurement?',\n",
       "  'What were the benefits of putting the process online?'],\n",
       " 'kLIE93v2X-E_77': ['What is the example given to illustrate the concept of integrity?',\n",
       "  'How did the person demonstrate integrity in the given situation?'],\n",
       " 'c7LMEdlQIfw_19': [\"What is the speaker's impression of watching Winter Olympics live?\",\n",
       "  \"How does the speaker describe the athletes' outfits and equipment in the sport?\"],\n",
       " 'xyl_LfvWfrE_3': ['Why does the speaker believe it is important to know how to lose?',\n",
       "  'What does the speaker suggest doing after experiencing a loss?'],\n",
       " 'S0DHI0DGOIw_137': ['How can I learn to prepare for a recession?',\n",
       "  'Which cities are becoming more dangerous?'],\n",
       " 'LcskACdYUys_56': [\"What is the speaker's opinion on people who lie?\",\n",
       "  'According to the speaker, what is the impact of not being truthful in relationships?'],\n",
       " '9UzMNewP5pc_127': ['What is the concept of \"make America states again\" in relation to crypto?',\n",
       "  'What is the potential downside of pushing regulation to the state level for crypto?'],\n",
       " 'T9WIWz5PEQk_15': ['What are the five things the speaker does every day?',\n",
       "  'Why does the speaker believe it is important to value people?'],\n",
       " 'OAXi4jcCrWA_100': [\"What is the concept of peak shift in relation to the bird's beak?\",\n",
       "  'How does dopamine habituation relate to people scrolling all day?'],\n",
       " 'gpxKBvq4OiA_61': ['What are the three ways mentioned to deal with oppression?',\n",
       "  'How does the speaker feel about the possibility of healing people and bringing them back together?'],\n",
       " 'JRPChBZ0Rjo_126': ['What led the person to shift from introspection to action?',\n",
       "  'Did the person have a specific definition of what \"works out\" means?'],\n",
       " 'oVpXaD16tVQ_84': ['What are the five properties of money that Bitcoin has perfected?',\n",
       "  'How does Bitcoin compare to gold in terms of its properties as money?'],\n",
       " 'x-i2KPe_-aU_5': [\"What is the actor's perspective on the impact of their work?\",\n",
       "  'How does the actor approach their role in portraying characters?'],\n",
       " 'xftOwi3Hstg_2': ['What is the average improvement rate for people undergoing therapy and drugs?',\n",
       "  'How many people experience a complete cure from depression?'],\n",
       " '7O_yR9WVSFw_44': ['What is the goal of the podcast?',\n",
       "  'How does the speaker define freedom?'],\n",
       " 'v1BwF7XkkuM_32': ['Who does the speaker believe has a responsibility to make a difference?',\n",
       "  'What is the highest cause according to the speaker?'],\n",
       " 'w1vC80R4MuY_92': [\"What is the speaker's attitude towards the cost of gas?\",\n",
       "  'How does the speaker describe their behavior at the gas pump?'],\n",
       " 'uEoXKSrvhBM_53': ['What topics are covered in the podcast?',\n",
       "  'How can I stay updated with the podcast content?'],\n",
       " 'l4fLax7S2Q0_317': ['How has the number of UN members changed over time?',\n",
       "  'What is the relationship between cryptocurrencies and fiat currencies?'],\n",
       " 'WhLdpjZjUrw_269': ['What is the purpose of the psychological immune system?',\n",
       "  'Why is it important to have a growth mindset in the process of progress?'],\n",
       " 'pmWmGVFGrN0_161': [\"What is the speaker's opinion on prescription weight loss drugs?\",\n",
       "  'Where can people follow and connect with the speaker?'],\n",
       " 'gzNLzqI5oTE_10': ['How long did Antoninus rule before Marcus became emperor?',\n",
       "  'What was the first thing Marcus did when he became emperor?'],\n",
       " 'HEQq3Dj0Stw_118': ['What was the common belief about running a Four Minute Mile?',\n",
       "  'Who challenged the belief that running a Four Minute Mile was impossible?'],\n",
       " 'sTS2fd3kE9I_114': ['What are some potential symptoms of metabolic dysfunction?',\n",
       "  'How does the speaker feel about the system being rigged against certain individuals?'],\n",
       " 'fHkGv1HqJYI_15': ['What is the concept that fascinates the speaker about person-to-person interactions?',\n",
       "  'Who is a person that the speaker suggests interviewing?'],\n",
       " 'lbFQ_GCdwgk_47': [\"What is the speaker's aspiration for the future?\",\n",
       "  'How does the speaker plan to expand beyond their current role?'],\n",
       " 'Vpe6gXYv9PA_54': ['How has the growth of GE changed since the seventies?',\n",
       "  'What is the current state of the economy in most parts of the country?'],\n",
       " 'SuZ8lEHtDI8_24': ['What is the story about someone cutting off their own hand with a pocket knife?',\n",
       "  'How should one approach the assumption of burnout versus laziness?'],\n",
       " 'cgU7abzvSQk_42': ['What does the speaker believe about changing others and holding them to their own standard?',\n",
       "  'How does the speaker feel about judging others based on their own standard?'],\n",
       " '_DWIeD65Jq0_24': ['Is staying enthusiastic despite facing repeated rejection something that can be taught?',\n",
       "  \"Have Bill Gates' children adopted the ability to stay enthusiastic despite facing challenges?\"],\n",
       " 'ZrkxvEJhxwQ_86': ['What is slow wave sleep and its purpose?',\n",
       "  'How does the brain decide which moments to keep as memories during sleep?'],\n",
       " 'qRKm2ZIGnU4_77': ['How does Bezos handle decision-making in his business?',\n",
       "  'Why does the person in the context struggle with making decisions?'],\n",
       " 'Ec4N-uV2EB4_21': ['What is the speaker\\'s opinion on the term \"sympathy\"?',\n",
       "  'Can you explain the story about the language without a word for blue?'],\n",
       " 'lbFQ_GCdwgk_29': ['Who is Tim Grover and what is his notion of being relentless?',\n",
       "  \"How has Tim Grover impacted the speaker's life?\"],\n",
       " 'zm0QVutAkYg_85': [\"What is the speaker's motivation for wanting to see how much they can do with their life?\",\n",
       "  'What are the two ways an enlightened monk can choose to live their life?'],\n",
       " 'aea1Bun0kew_160': ['What is the practice described in the context that opens up the heart?',\n",
       "  'Is the practice mentioned in the context related to loving-kindness meditation?'],\n",
       " 'oVpXaD16tVQ_65': ['How does the speaker feel about the need for a legislative body?',\n",
       "  'Why does the speaker believe gold is considered hard money?'],\n",
       " 'X8CD2QEYo6Q_13': ['What is the \"matrix\" that Jessica Flanigan refers to?',\n",
       "  'How does Jessica Flanigan believe the \"matrix\" can be used to understand people?'],\n",
       " 'JSyKVr4rvx0_89': ['What are some things that can be found on Steve Aoki?',\n",
       "  'What was the first acting opportunity the speaker had?'],\n",
       " 'YRWHMuRJ3cw_10': ['What decision did the speaker emphasize making in the morning?',\n",
       "  'Why is it important to make a conscious decision about who you want to be each day?'],\n",
       " '_2ZK9Y7QSmU_27': ['How has the internet potentially affected levels of aggression and violence?',\n",
       "  'What role do screens play in mitigating the negative consequences of economic inequality?'],\n",
       " 'TanQ2mhxAcs_195': ['How did the top stratum of billionaires fare during the COVID pandemic?',\n",
       "  'What are some factors that contribute to stress in globalized capitalism?'],\n",
       " 'Ll5EDt13GcQ_119': ['Why would it be difficult to impose a tax on a floating yacht?',\n",
       "  'What makes Bitcoin a representation of property rights?'],\n",
       " 'Ll5EDt13GcQ_145': ['How long does Warren Buffett own Coca-Cola stock?',\n",
       "  'What is the key to success according to the given context?'],\n",
       " 'QqaU5TQw_i4_70': [\"What is the author's goal in writing and communicating stories?\",\n",
       "  'How does the author define success in terms of impact?'],\n",
       " 'qtc1iWm_KCI_30': ['When was the last time the end user went to a doctor?',\n",
       "  'Why are values important to the end user?'],\n",
       " 'Mj8kr-wZqlM_14': [\"What percentage of a person's traits are determined by their upbringing?\",\n",
       "  'How would you describe the personality of the middle child?'],\n",
       " 'HGY1vf5H1z4_128': ['What is the relationship between language and the underlying truth in business?',\n",
       "  'Why is it important for business to be divided into two things?'],\n",
       " 'Ll5EDt13GcQ_114': ['How can you prevent the inflation of gold by miners?',\n",
       "  'How can you easily move your gold from one location to another?'],\n",
       " 'wYera33br94_79': ['How can autonomous weapon systems be regulated on an international level?',\n",
       "  \"What measures can be taken within a country to protect people's privacy?\"],\n",
       " 'QqaU5TQw_i4_60': [\"What is the author's perspective on getting a technical on purpose?\",\n",
       "  'Who does the author ask about intentionally getting a technical?'],\n",
       " 'lbFQ_GCdwgk_38': ['What does Tim Lasko believe is important in life?',\n",
       "  'How does Tom Bilyeu describe the impact of pressing pause in life?'],\n",
       " '-5YEOCOWktU_49': ['How is common sense linked to empathy?',\n",
       "  'What is one factor contributing to the disappearance of empathy?'],\n",
       " 'OAXi4jcCrWA_15': ['What is the topic that the speaker wants to discuss first?',\n",
       "  'What does the speaker mention as a conflict they experience?'],\n",
       " 'OoGghm0_Q8I_68': ['How do you help people unwind their fears and beliefs?',\n",
       "  'What is the suggested approach for addressing the emotional response of fear?'],\n",
       " '2IYuqfrMkMo_145': ['What is the name of the favorite podcast?',\n",
       "  'What type of information is the end user querying for?'],\n",
       " 'FUU0nvIhf8U_43': ['What is the importance of consistency and persistence in creating happiness?',\n",
       "  'Why is it important to be predictable in terms of emotions and approach towards people?'],\n",
       " 'IQefdkl8PfY_160': ['What is the topic of the film the speaker is part of?',\n",
       "  'What does the speaker speculate happens after death?'],\n",
       " '_I8lzTePXQw_101': ['Can a business owner discriminate against customers and employees?',\n",
       "  \"How do people react when they are offended by someone's words?\"],\n",
       " 'l1BULYFf8qo_226': ['What is the title of the book the speaker wants to write?',\n",
       "  'How does the speaker describe their personality in terms of ambition and laziness?'],\n",
       " '4lih9mwmD24_20': ['Why did the person in the book want to protect someone else?',\n",
       "  \"What was the person's motivation for taking action in Iraq?\"],\n",
       " 'CtoaGaSs7W8_38': ['What is the importance of researching the brain for self-improvement?',\n",
       "  'What is the message the speaker wants to convey about personal growth?'],\n",
       " '0wJA_KHfZ6g_0': ['How has the liquidity being taken out of the system affected crypto?',\n",
       "  'What has been the impact of the FTX saga on the market?'],\n",
       " 'Vs7KtoS0eKI_46': ['What is the concept of \"arigato in, arigato out\" in relation to money?',\n",
       "  'How did practicing \"arigato in, arigato out\" for two months make the person feel?'],\n",
       " 'ZeER3OZhd4c_50': ['What is the importance of managing emotions in behavior?',\n",
       "  'How can understanding self and managing emotions lead to progress?'],\n",
       " '_I8lzTePXQw_133': ['How did Prohibition impact the consumption of alcohol?',\n",
       "  'What are the potential effects of legalizing drugs?'],\n",
       " 'Eoh28Thi9C8_42': ['What are the factors that contribute to a sense of fulfillment?',\n",
       "  'According to the speaker, why is working hard important for fulfillment?']}"
      ]
     },
     "execution_count": 116,
     "metadata": {},
     "output_type": "execute_result"
    }
   ],
   "source": [
    "questions"
   ]
  },
  {
   "cell_type": "code",
   "execution_count": 117,
   "id": "5dd5bfa2-16a2-4b8b-a91f-05d8caae707f",
   "metadata": {},
   "outputs": [],
   "source": [
    "def hash_func():\n",
    "    return uuid.uuid4().hex"
   ]
  },
  {
   "cell_type": "markdown",
   "id": "5bc366dc-fe29-4d17-8bb7-2868d93f864d",
   "metadata": {},
   "source": [
    "## 1.) Create temp list of hash:query pairs with doc_id as key"
   ]
  },
  {
   "cell_type": "code",
   "execution_count": 123,
   "id": "bb814c6b-93b4-4c1a-9ff7-9742ab6536af",
   "metadata": {},
   "outputs": [],
   "source": [
    "temp_list = []\n",
    "for doc_id in questions:\n",
    "    temp_list.append({doc_id: {hash_func():query for query in questions[doc_id]}})"
   ]
  },
  {
   "cell_type": "markdown",
   "id": "9140bce3-094b-4366-a5d3-4f0e48e86d96",
   "metadata": {},
   "source": [
    "## 2.) Build relevant_docs key first"
   ]
  },
  {
   "cell_type": "code",
   "execution_count": 137,
   "id": "29f27e55-a131-4d87-9d6a-41a36341a939",
   "metadata": {},
   "outputs": [],
   "source": [
    "for d in temp_list:\n",
    "    for k,v in d.items():\n",
    "        for el in v:\n",
    "            dataset['relevant_docs'][el] = [k]"
   ]
  },
  {
   "cell_type": "code",
   "execution_count": 144,
   "id": "93d8e9ef-d9f1-4f43-a825-9fbb045e473b",
   "metadata": {
    "collapsed": true,
    "jupyter": {
     "outputs_hidden": true
    }
   },
   "outputs": [
    {
     "data": {
      "text/plain": [
       "{'7551e8cebacb48e39bfe2a3712611c69': {'7551e8cebacb48e39bfe2a3712611c69': 'What is the hypothesis behind founding Impact Theory?',\n",
       "  'b19aa82c9dc84be8915b5d1175f89520': 'What is the leading cause of death among young men?'},\n",
       " 'b19aa82c9dc84be8915b5d1175f89520': {'7551e8cebacb48e39bfe2a3712611c69': 'What is the hypothesis behind founding Impact Theory?',\n",
       "  'b19aa82c9dc84be8915b5d1175f89520': 'What is the leading cause of death among young men?'},\n",
       " 'ecaab4e64d3d4f95ac130ff9e9448d0d': {'ecaab4e64d3d4f95ac130ff9e9448d0d': 'What is one of the powers of modern medicine?',\n",
       "  '6671e362c0e04bdeab65a482c86f9aae': 'What kind of patients does the doctor often see?'},\n",
       " '6671e362c0e04bdeab65a482c86f9aae': {'ecaab4e64d3d4f95ac130ff9e9448d0d': 'What is one of the powers of modern medicine?',\n",
       "  '6671e362c0e04bdeab65a482c86f9aae': 'What kind of patients does the doctor often see?'},\n",
       " '44c0f4550c454097a3eda3a54c98546b': {'44c0f4550c454097a3eda3a54c98546b': 'How does the podcast cater to a diverse range of interests?',\n",
       "  'c1627557e6df432e8ae408414a243434': 'What kind of topics are covered in the podcast?'},\n",
       " 'c1627557e6df432e8ae408414a243434': {'44c0f4550c454097a3eda3a54c98546b': 'How does the podcast cater to a diverse range of interests?',\n",
       "  'c1627557e6df432e8ae408414a243434': 'What kind of topics are covered in the podcast?'},\n",
       " '5687ba70d95644fdacb8cd194e1ba312': {'5687ba70d95644fdacb8cd194e1ba312': 'What is the moral composition of society based on acquiring wealth?',\n",
       "  '6b91632556d246e397975de7d994c642': 'Why should one be ashamed of taking value from someone else?'},\n",
       " '6b91632556d246e397975de7d994c642': {'5687ba70d95644fdacb8cd194e1ba312': 'What is the moral composition of society based on acquiring wealth?',\n",
       "  '6b91632556d246e397975de7d994c642': 'Why should one be ashamed of taking value from someone else?'},\n",
       " '291fdb5573e348c8bcda2128784c2933': {'291fdb5573e348c8bcda2128784c2933': 'How does setting low goals initially affect performance in the high jump?',\n",
       "  '101473647a214c21a4860adc6eb3a8ee': 'What comparison does the speaker make between setting goals and the high jump?'},\n",
       " '101473647a214c21a4860adc6eb3a8ee': {'291fdb5573e348c8bcda2128784c2933': 'How does setting low goals initially affect performance in the high jump?',\n",
       "  '101473647a214c21a4860adc6eb3a8ee': 'What comparison does the speaker make between setting goals and the high jump?'},\n",
       " 'fbdb577af9774a9ba07f938353bffb68': {'fbdb577af9774a9ba07f938353bffb68': 'Why did people come to the United States in the past?',\n",
       "  '949e58f4b08b4e62acae17e0c560f4ae': \"What was the religious background of the speaker's family?\"},\n",
       " '949e58f4b08b4e62acae17e0c560f4ae': {'fbdb577af9774a9ba07f938353bffb68': 'Why did people come to the United States in the past?',\n",
       "  '949e58f4b08b4e62acae17e0c560f4ae': \"What was the religious background of the speaker's family?\"},\n",
       " 'd01481dcfce448cc80a5370b6982ccd7': {'d01481dcfce448cc80a5370b6982ccd7': 'What was the motivation for the speaker to focus on a specific thing?',\n",
       "  'b9f3751f6b01478bb884d0c4ed8c2071': 'Is the speaker contemplating becoming the best in the world at something?'},\n",
       " 'b9f3751f6b01478bb884d0c4ed8c2071': {'d01481dcfce448cc80a5370b6982ccd7': 'What was the motivation for the speaker to focus on a specific thing?',\n",
       "  'b9f3751f6b01478bb884d0c4ed8c2071': 'Is the speaker contemplating becoming the best in the world at something?'},\n",
       " '4a5ad685214042e68ba883be49e74c9a': {'4a5ad685214042e68ba883be49e74c9a': 'How did the person change their reaction to stealing?',\n",
       "  '0cbefd102ee343f8aef04778b75b6905': 'Who taught the person to meditate when they were 12?'},\n",
       " '0cbefd102ee343f8aef04778b75b6905': {'4a5ad685214042e68ba883be49e74c9a': 'How did the person change their reaction to stealing?',\n",
       "  '0cbefd102ee343f8aef04778b75b6905': 'Who taught the person to meditate when they were 12?'},\n",
       " '75474069e5a44639addf948e2b347fd2': {'75474069e5a44639addf948e2b347fd2': 'What are the five things you should be doing to win a gold medal in the Olympics for swimming?',\n",
       "  '429b6468691f43feb92f971ded640a31': 'What does your goal make demands of?'},\n",
       " '429b6468691f43feb92f971ded640a31': {'75474069e5a44639addf948e2b347fd2': 'What are the five things you should be doing to win a gold medal in the Olympics for swimming?',\n",
       "  '429b6468691f43feb92f971ded640a31': 'What does your goal make demands of?'},\n",
       " '501a20e72b6f488ab647ce5f1a5e84ad': {'501a20e72b6f488ab647ce5f1a5e84ad': 'What are the two layers discussed in the conversation?',\n",
       "  '950f0b13fcff4520b01e6c8c32e132ce': 'What were the two things that stood out for the person asking the question?'},\n",
       " '950f0b13fcff4520b01e6c8c32e132ce': {'501a20e72b6f488ab647ce5f1a5e84ad': 'What are the two layers discussed in the conversation?',\n",
       "  '950f0b13fcff4520b01e6c8c32e132ce': 'What were the two things that stood out for the person asking the question?'},\n",
       " 'dc6f4c7a0e564a688fdaf880bd227acb': {'dc6f4c7a0e564a688fdaf880bd227acb': 'How does the person feel about not being productive in bed?',\n",
       "  'e6f17dd2429a4c379cadbbb875776481': \"What does the person do if they don't do the thing they said they would do?\"},\n",
       " 'e6f17dd2429a4c379cadbbb875776481': {'dc6f4c7a0e564a688fdaf880bd227acb': 'How does the person feel about not being productive in bed?',\n",
       "  'e6f17dd2429a4c379cadbbb875776481': \"What does the person do if they don't do the thing they said they would do?\"},\n",
       " 'ac7bf20318724d7890aad7619762ad13': {'ac7bf20318724d7890aad7619762ad13': 'What is the main theme of the novella \"Juliette\\'s School of Possibilities\"?',\n",
       "  'ba8b7a82265e472d83bc5bb4851107d6': 'Who helps the young consultant in the novella to learn how to choose well?'},\n",
       " 'ba8b7a82265e472d83bc5bb4851107d6': {'ac7bf20318724d7890aad7619762ad13': 'What is the main theme of the novella \"Juliette\\'s School of Possibilities\"?',\n",
       "  'ba8b7a82265e472d83bc5bb4851107d6': 'Who helps the young consultant in the novella to learn how to choose well?'},\n",
       " '8075181fc35f48bc986d020f5b191e5a': {'8075181fc35f48bc986d020f5b191e5a': 'What is the importance of self-delusion in romantic success?',\n",
       "  '4becb9f7b36247d1a822b605d508e82d': 'How does hope relate to the concept of mating intelligence?'},\n",
       " '4becb9f7b36247d1a822b605d508e82d': {'8075181fc35f48bc986d020f5b191e5a': 'What is the importance of self-delusion in romantic success?',\n",
       "  '4becb9f7b36247d1a822b605d508e82d': 'How does hope relate to the concept of mating intelligence?'},\n",
       " '9faff9fe76c84bee8b674ca81e3a6da9': {'9faff9fe76c84bee8b674ca81e3a6da9': \"What is the speaker's approach to stepping out of their comfort zone?\",\n",
       "  'f5284cb76a044e72bdd52b19e43e709b': 'How does the speaker suggest visualizing goals can be helpful?'},\n",
       " 'f5284cb76a044e72bdd52b19e43e709b': {'9faff9fe76c84bee8b674ca81e3a6da9': \"What is the speaker's approach to stepping out of their comfort zone?\",\n",
       "  'f5284cb76a044e72bdd52b19e43e709b': 'How does the speaker suggest visualizing goals can be helpful?'},\n",
       " 'e26ae9e20c284939826290b6ef34b838': {'e26ae9e20c284939826290b6ef34b838': 'How many people has the speaker interviewed as an employer?',\n",
       "  '8ff516771cde4e42928e38ef00a28d74': 'How did the speaker meet their wife?'},\n",
       " '8ff516771cde4e42928e38ef00a28d74': {'e26ae9e20c284939826290b6ef34b838': 'How many people has the speaker interviewed as an employer?',\n",
       "  '8ff516771cde4e42928e38ef00a28d74': 'How did the speaker meet their wife?'},\n",
       " 'f723c7a7a63840899f0c2423966f533d': {'f723c7a7a63840899f0c2423966f533d': 'Why is it important to speak up and reach out for connection?',\n",
       "  'cce9d7db36474909ba0709dba040764d': 'Where can these guys find the podcast online?'},\n",
       " 'cce9d7db36474909ba0709dba040764d': {'f723c7a7a63840899f0c2423966f533d': 'Why is it important to speak up and reach out for connection?',\n",
       "  'cce9d7db36474909ba0709dba040764d': 'Where can these guys find the podcast online?'},\n",
       " '67e459a9e1e74dbc98290547683208e2': {'67e459a9e1e74dbc98290547683208e2': 'How often do the speaker and their spouse evaluate their values?',\n",
       "  'c76d2695c92044b9a5f9a37d87897b5d': \"What is the purpose of the speaker's practice of evaluating their values?\"},\n",
       " 'c76d2695c92044b9a5f9a37d87897b5d': {'67e459a9e1e74dbc98290547683208e2': 'How often do the speaker and their spouse evaluate their values?',\n",
       "  'c76d2695c92044b9a5f9a37d87897b5d': \"What is the purpose of the speaker's practice of evaluating their values?\"},\n",
       " 'd6528cfe79cc4dc599fc476729ffb9c5': {'d6528cfe79cc4dc599fc476729ffb9c5': \"What is the speaker's opinion on governments creating a safety net?\",\n",
       "  '7229dabe6a074ae4b0b245c6829c8f18': 'How does the speaker believe nature treats individuals who are left behind?'},\n",
       " '7229dabe6a074ae4b0b245c6829c8f18': {'d6528cfe79cc4dc599fc476729ffb9c5': \"What is the speaker's opinion on governments creating a safety net?\",\n",
       "  '7229dabe6a074ae4b0b245c6829c8f18': 'How does the speaker believe nature treats individuals who are left behind?'},\n",
       " 'bfe55a38f5c449a78775608cd0228358': {'bfe55a38f5c449a78775608cd0228358': 'Who is using LSD with patients for fMRI studies?',\n",
       "  '1116b8cb0f814e2ba7752d27801da207': \"What were the two interesting findings from Karl-Heinz Harris's research?\"},\n",
       " '1116b8cb0f814e2ba7752d27801da207': {'bfe55a38f5c449a78775608cd0228358': 'Who is using LSD with patients for fMRI studies?',\n",
       "  '1116b8cb0f814e2ba7752d27801da207': \"What were the two interesting findings from Karl-Heinz Harris's research?\"},\n",
       " '3079240bc9cb4ed1968d56ce4d4600ed': {'3079240bc9cb4ed1968d56ce4d4600ed': 'What is one factor that influences the diversity of our microbiome?',\n",
       "  'af35aa2127504c4f8ec5c939f241effc': 'What are some examples of prebiotic foods?'},\n",
       " 'af35aa2127504c4f8ec5c939f241effc': {'3079240bc9cb4ed1968d56ce4d4600ed': 'What is one factor that influences the diversity of our microbiome?',\n",
       "  'af35aa2127504c4f8ec5c939f241effc': 'What are some examples of prebiotic foods?'},\n",
       " '6316b87395454d94b93bfe8f7f3e31c7': {'6316b87395454d94b93bfe8f7f3e31c7': \"What is one of the most important rules in the speaker's life?\",\n",
       "  'd87a1de3f02541da9c4b5d5a6e23f2f4': 'How does the speaker celebrate getting out of bed in 10 minutes or less?'},\n",
       " 'd87a1de3f02541da9c4b5d5a6e23f2f4': {'6316b87395454d94b93bfe8f7f3e31c7': \"What is one of the most important rules in the speaker's life?\",\n",
       "  'd87a1de3f02541da9c4b5d5a6e23f2f4': 'How does the speaker celebrate getting out of bed in 10 minutes or less?'},\n",
       " 'e6483e4a1d2048a3a4c856ed3be8a71f': {'e6483e4a1d2048a3a4c856ed3be8a71f': 'What is the name of the comprehensive library on integrative studies?',\n",
       "  '32ba8973687c4575b28a751f3d0d2e16': 'What is the desired impact of the person being referred to?'},\n",
       " '32ba8973687c4575b28a751f3d0d2e16': {'e6483e4a1d2048a3a4c856ed3be8a71f': 'What is the name of the comprehensive library on integrative studies?',\n",
       "  '32ba8973687c4575b28a751f3d0d2e16': 'What is the desired impact of the person being referred to?'},\n",
       " '17e439299c534158b32802730234f307': {'17e439299c534158b32802730234f307': 'What are the two things you need to do to become a better person in one year?',\n",
       "  'bc8f0853912843e0b99d4e62b9e750cf': 'What percentage of people choose quitting as an option when setting a goal?'},\n",
       " 'bc8f0853912843e0b99d4e62b9e750cf': {'17e439299c534158b32802730234f307': 'What are the two things you need to do to become a better person in one year?',\n",
       "  'bc8f0853912843e0b99d4e62b9e750cf': 'What percentage of people choose quitting as an option when setting a goal?'},\n",
       " '35bc8531707c48dcb1f01b8996295218': {'35bc8531707c48dcb1f01b8996295218': 'How did Jason Silva spend his time at work?',\n",
       "  'aa3640eca44c43c3bdbcde4126a2e8f2': 'Why did Jason Silva quit his job?'},\n",
       " 'aa3640eca44c43c3bdbcde4126a2e8f2': {'35bc8531707c48dcb1f01b8996295218': 'How did Jason Silva spend his time at work?',\n",
       "  'aa3640eca44c43c3bdbcde4126a2e8f2': 'Why did Jason Silva quit his job?'},\n",
       " 'baef1fcec5e449ddbfd4f460001f319b': {'baef1fcec5e449ddbfd4f460001f319b': 'What are the two most important things according to the context?',\n",
       "  '02d060b831ee49c890573d3a999010da': 'Why is it important to take care of our health?'},\n",
       " '02d060b831ee49c890573d3a999010da': {'baef1fcec5e449ddbfd4f460001f319b': 'What are the two most important things according to the context?',\n",
       "  '02d060b831ee49c890573d3a999010da': 'Why is it important to take care of our health?'},\n",
       " '54c0f5c956794593819be7a4da941636': {'54c0f5c956794593819be7a4da941636': 'How does the speaker handle their struggles and battles?',\n",
       "  'd4e0a4ecc77f4f2db95a1586ba905b6b': 'What does the speaker believe is contagious about themselves?'},\n",
       " 'd4e0a4ecc77f4f2db95a1586ba905b6b': {'54c0f5c956794593819be7a4da941636': 'How does the speaker handle their struggles and battles?',\n",
       "  'd4e0a4ecc77f4f2db95a1586ba905b6b': 'What does the speaker believe is contagious about themselves?'},\n",
       " '4cdfde399c16458e8d8f2f14db569a3f': {'4cdfde399c16458e8d8f2f14db569a3f': \"What is the end user's emotional connection to science?\",\n",
       "  '20f9238025064eef83dd6c6b3b92fcbc': \"Have you ever measured the amount of content you've produced?\"},\n",
       " '20f9238025064eef83dd6c6b3b92fcbc': {'4cdfde399c16458e8d8f2f14db569a3f': \"What is the end user's emotional connection to science?\",\n",
       "  '20f9238025064eef83dd6c6b3b92fcbc': \"Have you ever measured the amount of content you've produced?\"},\n",
       " '331389319fea43549bbd8b244fdb50b1': {'331389319fea43549bbd8b244fdb50b1': 'What is the speaker speculating about based on their reading?',\n",
       "  '1f433c85996f438882a9566f94a1d19d': 'How do men and women differ in their attitudes towards bisexuality?'},\n",
       " '1f433c85996f438882a9566f94a1d19d': {'331389319fea43549bbd8b244fdb50b1': 'What is the speaker speculating about based on their reading?',\n",
       "  '1f433c85996f438882a9566f94a1d19d': 'How do men and women differ in their attitudes towards bisexuality?'},\n",
       " '16257946d4ae46c4a9a468e6b39344f6': {'16257946d4ae46c4a9a468e6b39344f6': 'How did the speaker discover play and reintroduce it into their life?',\n",
       "  '096d8d9b18ef4c758045b7318e837dc2': 'What circumstances led the speaker to seek approval outside of themselves?'},\n",
       " '096d8d9b18ef4c758045b7318e837dc2': {'16257946d4ae46c4a9a468e6b39344f6': 'How did the speaker discover play and reintroduce it into their life?',\n",
       "  '096d8d9b18ef4c758045b7318e837dc2': 'What circumstances led the speaker to seek approval outside of themselves?'},\n",
       " '1291fb19da6f4052b020aef7169a17a9': {'1291fb19da6f4052b020aef7169a17a9': 'What is the difficulty in achieving appropriate levels of ApoB for true prevention?',\n",
       "  '334116babc8e4311be0b705808683b60': 'How did the person lose 60 pounds?'},\n",
       " '334116babc8e4311be0b705808683b60': {'1291fb19da6f4052b020aef7169a17a9': 'What is the difficulty in achieving appropriate levels of ApoB for true prevention?',\n",
       "  '334116babc8e4311be0b705808683b60': 'How did the person lose 60 pounds?'},\n",
       " '21324b1982b24f5586b84cfdac8d543c': {'21324b1982b24f5586b84cfdac8d543c': 'How much did the house in Miami Beach cost in 1930?',\n",
       "  'fb00664cdf094a72ad1f89eecc419e03': 'What is the annualized inflation rate for scarce desirable assets?'},\n",
       " 'fb00664cdf094a72ad1f89eecc419e03': {'21324b1982b24f5586b84cfdac8d543c': 'How much did the house in Miami Beach cost in 1930?',\n",
       "  'fb00664cdf094a72ad1f89eecc419e03': 'What is the annualized inflation rate for scarce desirable assets?'},\n",
       " 'e20fd04fbd38450f88a8adbd9b7a718c': {'e20fd04fbd38450f88a8adbd9b7a718c': 'What are some ways that people can have impact in their careers?',\n",
       "  '77742ab203e74ce782986f841acccde1': 'How does the podcast teach people to differentiate between impact and their career?'},\n",
       " '77742ab203e74ce782986f841acccde1': {'e20fd04fbd38450f88a8adbd9b7a718c': 'What are some ways that people can have impact in their careers?',\n",
       "  '77742ab203e74ce782986f841acccde1': 'How does the podcast teach people to differentiate between impact and their career?'},\n",
       " 'd304868936cc41d2af3ff55c36cb0125': {'d304868936cc41d2af3ff55c36cb0125': \"What is the reason for the person's strong relationship with God?\",\n",
       "  'd1b2462b3518495f84b6e675933f6608': \"How did the person's athletic clock affect their ability to run college track?\"},\n",
       " 'd1b2462b3518495f84b6e675933f6608': {'d304868936cc41d2af3ff55c36cb0125': \"What is the reason for the person's strong relationship with God?\",\n",
       "  'd1b2462b3518495f84b6e675933f6608': \"How did the person's athletic clock affect their ability to run college track?\"},\n",
       " '20fc31a8a9ac48f593fc6b2de63eb2ef': {'20fc31a8a9ac48f593fc6b2de63eb2ef': 'How did the Bangladeshi government implement e-procurement?',\n",
       "  'd0f0a48ea4f0478796ca57108de1ee9f': 'What were the benefits of putting the process online?'},\n",
       " 'd0f0a48ea4f0478796ca57108de1ee9f': {'20fc31a8a9ac48f593fc6b2de63eb2ef': 'How did the Bangladeshi government implement e-procurement?',\n",
       "  'd0f0a48ea4f0478796ca57108de1ee9f': 'What were the benefits of putting the process online?'},\n",
       " 'f1784fe0de884e39b989c1b6cba2fc74': {'f1784fe0de884e39b989c1b6cba2fc74': 'What is the example given to illustrate the concept of integrity?',\n",
       "  'b0599b23663d4e0999cad9161b46e554': 'How did the person demonstrate integrity in the given situation?'},\n",
       " 'b0599b23663d4e0999cad9161b46e554': {'f1784fe0de884e39b989c1b6cba2fc74': 'What is the example given to illustrate the concept of integrity?',\n",
       "  'b0599b23663d4e0999cad9161b46e554': 'How did the person demonstrate integrity in the given situation?'},\n",
       " '5e4c31eb988b4392869bfed65f2ddb51': {'5e4c31eb988b4392869bfed65f2ddb51': \"What is the speaker's impression of watching Winter Olympics live?\",\n",
       "  'aea4e3c70ad14988b59ebed16fe2a768': \"How does the speaker describe the athletes' outfits and equipment in the sport?\"},\n",
       " 'aea4e3c70ad14988b59ebed16fe2a768': {'5e4c31eb988b4392869bfed65f2ddb51': \"What is the speaker's impression of watching Winter Olympics live?\",\n",
       "  'aea4e3c70ad14988b59ebed16fe2a768': \"How does the speaker describe the athletes' outfits and equipment in the sport?\"},\n",
       " 'b0340474d9494d289d7ce632df5f2483': {'b0340474d9494d289d7ce632df5f2483': 'Why does the speaker believe it is important to know how to lose?',\n",
       "  'e87ea9296aa34a07b4483babf8ea2d29': 'What does the speaker suggest doing after experiencing a loss?'},\n",
       " 'e87ea9296aa34a07b4483babf8ea2d29': {'b0340474d9494d289d7ce632df5f2483': 'Why does the speaker believe it is important to know how to lose?',\n",
       "  'e87ea9296aa34a07b4483babf8ea2d29': 'What does the speaker suggest doing after experiencing a loss?'},\n",
       " 'd73e7c0d08414c68b1e48075306550ac': {'d73e7c0d08414c68b1e48075306550ac': 'How can I learn to prepare for a recession?',\n",
       "  '92ad53edb96444c6b9df892cd2873b17': 'Which cities are becoming more dangerous?'},\n",
       " '92ad53edb96444c6b9df892cd2873b17': {'d73e7c0d08414c68b1e48075306550ac': 'How can I learn to prepare for a recession?',\n",
       "  '92ad53edb96444c6b9df892cd2873b17': 'Which cities are becoming more dangerous?'},\n",
       " '97bd202f668b47cc802eb0a43d174e8b': {'97bd202f668b47cc802eb0a43d174e8b': \"What is the speaker's opinion on people who lie?\",\n",
       "  '7231b3a557a845b8bb219481257980cb': 'According to the speaker, what is the impact of not being truthful in relationships?'},\n",
       " '7231b3a557a845b8bb219481257980cb': {'97bd202f668b47cc802eb0a43d174e8b': \"What is the speaker's opinion on people who lie?\",\n",
       "  '7231b3a557a845b8bb219481257980cb': 'According to the speaker, what is the impact of not being truthful in relationships?'},\n",
       " '6a485b6c44124f6ca68f081d5269551b': {'6a485b6c44124f6ca68f081d5269551b': 'What is the concept of \"make America states again\" in relation to crypto?',\n",
       "  '0d869de479c344049e243be6e2a9775c': 'What is the potential downside of pushing regulation to the state level for crypto?'},\n",
       " '0d869de479c344049e243be6e2a9775c': {'6a485b6c44124f6ca68f081d5269551b': 'What is the concept of \"make America states again\" in relation to crypto?',\n",
       "  '0d869de479c344049e243be6e2a9775c': 'What is the potential downside of pushing regulation to the state level for crypto?'},\n",
       " '792d2a6277c74153b345d5493534784d': {'792d2a6277c74153b345d5493534784d': 'What are the five things the speaker does every day?',\n",
       "  '98db5e7a618d4d39afd8c307f97e7c1d': 'Why does the speaker believe it is important to value people?'},\n",
       " '98db5e7a618d4d39afd8c307f97e7c1d': {'792d2a6277c74153b345d5493534784d': 'What are the five things the speaker does every day?',\n",
       "  '98db5e7a618d4d39afd8c307f97e7c1d': 'Why does the speaker believe it is important to value people?'},\n",
       " '3f887aa94f7d42e38db4dd6191fce5a6': {'3f887aa94f7d42e38db4dd6191fce5a6': \"What is the concept of peak shift in relation to the bird's beak?\",\n",
       "  '7edea32fab8b4ecab4dc218c3c7085d1': 'How does dopamine habituation relate to people scrolling all day?'},\n",
       " '7edea32fab8b4ecab4dc218c3c7085d1': {'3f887aa94f7d42e38db4dd6191fce5a6': \"What is the concept of peak shift in relation to the bird's beak?\",\n",
       "  '7edea32fab8b4ecab4dc218c3c7085d1': 'How does dopamine habituation relate to people scrolling all day?'},\n",
       " '489d0f2087cf44918b00717b2a5355ec': {'489d0f2087cf44918b00717b2a5355ec': 'What are the three ways mentioned to deal with oppression?',\n",
       "  'e93fce3d37924d7a84ed309de5c71829': 'How does the speaker feel about the possibility of healing people and bringing them back together?'},\n",
       " 'e93fce3d37924d7a84ed309de5c71829': {'489d0f2087cf44918b00717b2a5355ec': 'What are the three ways mentioned to deal with oppression?',\n",
       "  'e93fce3d37924d7a84ed309de5c71829': 'How does the speaker feel about the possibility of healing people and bringing them back together?'},\n",
       " '743b7e016bf6408aa48e712e78e71ea1': {'743b7e016bf6408aa48e712e78e71ea1': 'What led the person to shift from introspection to action?',\n",
       "  '14042c917cba464f9ca04750406550f2': 'Did the person have a specific definition of what \"works out\" means?'},\n",
       " '14042c917cba464f9ca04750406550f2': {'743b7e016bf6408aa48e712e78e71ea1': 'What led the person to shift from introspection to action?',\n",
       "  '14042c917cba464f9ca04750406550f2': 'Did the person have a specific definition of what \"works out\" means?'},\n",
       " 'c095f880ddfb44188613a223cbec66b9': {'c095f880ddfb44188613a223cbec66b9': 'What are the five properties of money that Bitcoin has perfected?',\n",
       "  '079f57676b0a4e1aa9d74b081d371ac8': 'How does Bitcoin compare to gold in terms of its properties as money?'},\n",
       " '079f57676b0a4e1aa9d74b081d371ac8': {'c095f880ddfb44188613a223cbec66b9': 'What are the five properties of money that Bitcoin has perfected?',\n",
       "  '079f57676b0a4e1aa9d74b081d371ac8': 'How does Bitcoin compare to gold in terms of its properties as money?'},\n",
       " '11b8bc26a27744c6b9dd69bd041ae8e1': {'11b8bc26a27744c6b9dd69bd041ae8e1': \"What is the actor's perspective on the impact of their work?\",\n",
       "  '40a00cb2f38944fe9600b845c705a883': 'How does the actor approach their role in portraying characters?'},\n",
       " '40a00cb2f38944fe9600b845c705a883': {'11b8bc26a27744c6b9dd69bd041ae8e1': \"What is the actor's perspective on the impact of their work?\",\n",
       "  '40a00cb2f38944fe9600b845c705a883': 'How does the actor approach their role in portraying characters?'},\n",
       " '24891a7a845a4625aa879bfb49365478': {'24891a7a845a4625aa879bfb49365478': 'What is the average improvement rate for people undergoing therapy and drugs?',\n",
       "  '29aa075ee5ca43659838770a91edf783': 'How many people experience a complete cure from depression?'},\n",
       " '29aa075ee5ca43659838770a91edf783': {'24891a7a845a4625aa879bfb49365478': 'What is the average improvement rate for people undergoing therapy and drugs?',\n",
       "  '29aa075ee5ca43659838770a91edf783': 'How many people experience a complete cure from depression?'},\n",
       " '53699a1f1a274f4f9181e077b50530d6': {'53699a1f1a274f4f9181e077b50530d6': 'What is the goal of the podcast?',\n",
       "  '80256397563a4043be4cd3a727e6b555': 'How does the speaker define freedom?'},\n",
       " '80256397563a4043be4cd3a727e6b555': {'53699a1f1a274f4f9181e077b50530d6': 'What is the goal of the podcast?',\n",
       "  '80256397563a4043be4cd3a727e6b555': 'How does the speaker define freedom?'},\n",
       " '6c496a13a3d04d4c963d393c273c4533': {'6c496a13a3d04d4c963d393c273c4533': 'Who does the speaker believe has a responsibility to make a difference?',\n",
       "  '6fd616763a0b4ba9abdfbb3e4228220e': 'What is the highest cause according to the speaker?'},\n",
       " '6fd616763a0b4ba9abdfbb3e4228220e': {'6c496a13a3d04d4c963d393c273c4533': 'Who does the speaker believe has a responsibility to make a difference?',\n",
       "  '6fd616763a0b4ba9abdfbb3e4228220e': 'What is the highest cause according to the speaker?'},\n",
       " 'b53a4ba050164c85ad2c9d5f314e9656': {'b53a4ba050164c85ad2c9d5f314e9656': \"What is the speaker's attitude towards the cost of gas?\",\n",
       "  '52b0c84ee0824ebfa5a4b39c361189b0': 'How does the speaker describe their behavior at the gas pump?'},\n",
       " '52b0c84ee0824ebfa5a4b39c361189b0': {'b53a4ba050164c85ad2c9d5f314e9656': \"What is the speaker's attitude towards the cost of gas?\",\n",
       "  '52b0c84ee0824ebfa5a4b39c361189b0': 'How does the speaker describe their behavior at the gas pump?'},\n",
       " 'f137c617a45942b5ac30631396a40eb4': {'f137c617a45942b5ac30631396a40eb4': 'What topics are covered in the podcast?',\n",
       "  'd505142c0438440e96e816d464f1a068': 'How can I stay updated with the podcast content?'},\n",
       " 'd505142c0438440e96e816d464f1a068': {'f137c617a45942b5ac30631396a40eb4': 'What topics are covered in the podcast?',\n",
       "  'd505142c0438440e96e816d464f1a068': 'How can I stay updated with the podcast content?'},\n",
       " '00926fd1e7bd46ca812ba802511c1f63': {'00926fd1e7bd46ca812ba802511c1f63': 'How has the number of UN members changed over time?',\n",
       "  '07938046fd374fe0b93ccf323f25e6a3': 'What is the relationship between cryptocurrencies and fiat currencies?'},\n",
       " '07938046fd374fe0b93ccf323f25e6a3': {'00926fd1e7bd46ca812ba802511c1f63': 'How has the number of UN members changed over time?',\n",
       "  '07938046fd374fe0b93ccf323f25e6a3': 'What is the relationship between cryptocurrencies and fiat currencies?'},\n",
       " 'bc9ae55681a34441ba5a82efdcfb5227': {'bc9ae55681a34441ba5a82efdcfb5227': 'What is the purpose of the psychological immune system?',\n",
       "  '0666b055b3bf4781abee302ed5e2c320': 'Why is it important to have a growth mindset in the process of progress?'},\n",
       " '0666b055b3bf4781abee302ed5e2c320': {'bc9ae55681a34441ba5a82efdcfb5227': 'What is the purpose of the psychological immune system?',\n",
       "  '0666b055b3bf4781abee302ed5e2c320': 'Why is it important to have a growth mindset in the process of progress?'},\n",
       " '4f9f68787c4b4579a68a97f5c1aa970d': {'4f9f68787c4b4579a68a97f5c1aa970d': \"What is the speaker's opinion on prescription weight loss drugs?\",\n",
       "  'a3f6e6b0eef647c2b84b5fe425b7ecb2': 'Where can people follow and connect with the speaker?'},\n",
       " 'a3f6e6b0eef647c2b84b5fe425b7ecb2': {'4f9f68787c4b4579a68a97f5c1aa970d': \"What is the speaker's opinion on prescription weight loss drugs?\",\n",
       "  'a3f6e6b0eef647c2b84b5fe425b7ecb2': 'Where can people follow and connect with the speaker?'},\n",
       " 'd3ebb9c040e14bfea70001ee2686c107': {'d3ebb9c040e14bfea70001ee2686c107': 'How long did Antoninus rule before Marcus became emperor?',\n",
       "  'f3ed62d2477e49a1996faac6b29a6e7c': 'What was the first thing Marcus did when he became emperor?'},\n",
       " 'f3ed62d2477e49a1996faac6b29a6e7c': {'d3ebb9c040e14bfea70001ee2686c107': 'How long did Antoninus rule before Marcus became emperor?',\n",
       "  'f3ed62d2477e49a1996faac6b29a6e7c': 'What was the first thing Marcus did when he became emperor?'},\n",
       " '7263f3cb021b44e0b2cf92388649b865': {'7263f3cb021b44e0b2cf92388649b865': 'What was the common belief about running a Four Minute Mile?',\n",
       "  '8734e8c154b94d32818c165eace3bdb8': 'Who challenged the belief that running a Four Minute Mile was impossible?'},\n",
       " '8734e8c154b94d32818c165eace3bdb8': {'7263f3cb021b44e0b2cf92388649b865': 'What was the common belief about running a Four Minute Mile?',\n",
       "  '8734e8c154b94d32818c165eace3bdb8': 'Who challenged the belief that running a Four Minute Mile was impossible?'},\n",
       " 'ef576c3c47ac4f9d9adeb4dd6a434836': {'ef576c3c47ac4f9d9adeb4dd6a434836': 'What are some potential symptoms of metabolic dysfunction?',\n",
       "  '21a316d5c873418488ea772fdc98c74a': 'How does the speaker feel about the system being rigged against certain individuals?'},\n",
       " '21a316d5c873418488ea772fdc98c74a': {'ef576c3c47ac4f9d9adeb4dd6a434836': 'What are some potential symptoms of metabolic dysfunction?',\n",
       "  '21a316d5c873418488ea772fdc98c74a': 'How does the speaker feel about the system being rigged against certain individuals?'},\n",
       " '77df39a241704e459d133857971bf259': {'77df39a241704e459d133857971bf259': 'What is the concept that fascinates the speaker about person-to-person interactions?',\n",
       "  '749c749894c346b9a0eb7f47470a6e77': 'Who is a person that the speaker suggests interviewing?'},\n",
       " '749c749894c346b9a0eb7f47470a6e77': {'77df39a241704e459d133857971bf259': 'What is the concept that fascinates the speaker about person-to-person interactions?',\n",
       "  '749c749894c346b9a0eb7f47470a6e77': 'Who is a person that the speaker suggests interviewing?'},\n",
       " '29e757e8286e486b850aaff954f2805a': {'29e757e8286e486b850aaff954f2805a': \"What is the speaker's aspiration for the future?\",\n",
       "  '429be9762bdc437a8280f0a2fbb3c5c0': 'How does the speaker plan to expand beyond their current role?'},\n",
       " '429be9762bdc437a8280f0a2fbb3c5c0': {'29e757e8286e486b850aaff954f2805a': \"What is the speaker's aspiration for the future?\",\n",
       "  '429be9762bdc437a8280f0a2fbb3c5c0': 'How does the speaker plan to expand beyond their current role?'},\n",
       " 'a38a1bb8d312409e80a03d594a196b27': {'a38a1bb8d312409e80a03d594a196b27': 'How has the growth of GE changed since the seventies?',\n",
       "  '73f1d0091c16468b9827491bf9f81e9d': 'What is the current state of the economy in most parts of the country?'},\n",
       " '73f1d0091c16468b9827491bf9f81e9d': {'a38a1bb8d312409e80a03d594a196b27': 'How has the growth of GE changed since the seventies?',\n",
       "  '73f1d0091c16468b9827491bf9f81e9d': 'What is the current state of the economy in most parts of the country?'},\n",
       " '40cbbaee83fa42a4a776d6c50214865e': {'40cbbaee83fa42a4a776d6c50214865e': 'What is the story about someone cutting off their own hand with a pocket knife?',\n",
       "  'f536ea9d00e947859ef47a6c98c8cb55': 'How should one approach the assumption of burnout versus laziness?'},\n",
       " 'f536ea9d00e947859ef47a6c98c8cb55': {'40cbbaee83fa42a4a776d6c50214865e': 'What is the story about someone cutting off their own hand with a pocket knife?',\n",
       "  'f536ea9d00e947859ef47a6c98c8cb55': 'How should one approach the assumption of burnout versus laziness?'},\n",
       " '52d029323d604c3ab69de9989689f952': {'52d029323d604c3ab69de9989689f952': 'What does the speaker believe about changing others and holding them to their own standard?',\n",
       "  'dd386b366a1d43f0bb844cec71d53f27': 'How does the speaker feel about judging others based on their own standard?'},\n",
       " 'dd386b366a1d43f0bb844cec71d53f27': {'52d029323d604c3ab69de9989689f952': 'What does the speaker believe about changing others and holding them to their own standard?',\n",
       "  'dd386b366a1d43f0bb844cec71d53f27': 'How does the speaker feel about judging others based on their own standard?'},\n",
       " '90a08927a3bb4892a6d06fa6b0bc88df': {'90a08927a3bb4892a6d06fa6b0bc88df': 'Is staying enthusiastic despite facing repeated rejection something that can be taught?',\n",
       "  '6786c2101b57406a949477229c0b0595': \"Have Bill Gates' children adopted the ability to stay enthusiastic despite facing challenges?\"},\n",
       " '6786c2101b57406a949477229c0b0595': {'90a08927a3bb4892a6d06fa6b0bc88df': 'Is staying enthusiastic despite facing repeated rejection something that can be taught?',\n",
       "  '6786c2101b57406a949477229c0b0595': \"Have Bill Gates' children adopted the ability to stay enthusiastic despite facing challenges?\"},\n",
       " '065c1e3857924137bdabb52483521129': {'065c1e3857924137bdabb52483521129': 'What is slow wave sleep and its purpose?',\n",
       "  '4e1ffd73c36046f8bb889b2d235401d3': 'How does the brain decide which moments to keep as memories during sleep?'},\n",
       " '4e1ffd73c36046f8bb889b2d235401d3': {'065c1e3857924137bdabb52483521129': 'What is slow wave sleep and its purpose?',\n",
       "  '4e1ffd73c36046f8bb889b2d235401d3': 'How does the brain decide which moments to keep as memories during sleep?'},\n",
       " '6fed431a4c094aa6836958e309303581': {'6fed431a4c094aa6836958e309303581': 'How does Bezos handle decision-making in his business?',\n",
       "  '51bdf846ccc640f1951088ca0db621ae': 'Why does the person in the context struggle with making decisions?'},\n",
       " '51bdf846ccc640f1951088ca0db621ae': {'6fed431a4c094aa6836958e309303581': 'How does Bezos handle decision-making in his business?',\n",
       "  '51bdf846ccc640f1951088ca0db621ae': 'Why does the person in the context struggle with making decisions?'},\n",
       " 'a3101290783f43b1b93f8567eda25356': {'a3101290783f43b1b93f8567eda25356': 'What is the speaker\\'s opinion on the term \"sympathy\"?',\n",
       "  '4b4fe03cdb014aa78d289009a126957a': 'Can you explain the story about the language without a word for blue?'},\n",
       " '4b4fe03cdb014aa78d289009a126957a': {'a3101290783f43b1b93f8567eda25356': 'What is the speaker\\'s opinion on the term \"sympathy\"?',\n",
       "  '4b4fe03cdb014aa78d289009a126957a': 'Can you explain the story about the language without a word for blue?'},\n",
       " '81e998704e9649748997b180a6ca63f5': {'81e998704e9649748997b180a6ca63f5': 'Who is Tim Grover and what is his notion of being relentless?',\n",
       "  '0157965a385f4e63917ba995f736121c': \"How has Tim Grover impacted the speaker's life?\"},\n",
       " '0157965a385f4e63917ba995f736121c': {'81e998704e9649748997b180a6ca63f5': 'Who is Tim Grover and what is his notion of being relentless?',\n",
       "  '0157965a385f4e63917ba995f736121c': \"How has Tim Grover impacted the speaker's life?\"},\n",
       " 'd92f01e696c340f1a2a848cd46d1ba36': {'d92f01e696c340f1a2a848cd46d1ba36': \"What is the speaker's motivation for wanting to see how much they can do with their life?\",\n",
       "  'ab3bbc3e810e496f913a7b98e80b2e0d': 'What are the two ways an enlightened monk can choose to live their life?'},\n",
       " 'ab3bbc3e810e496f913a7b98e80b2e0d': {'d92f01e696c340f1a2a848cd46d1ba36': \"What is the speaker's motivation for wanting to see how much they can do with their life?\",\n",
       "  'ab3bbc3e810e496f913a7b98e80b2e0d': 'What are the two ways an enlightened monk can choose to live their life?'},\n",
       " '55a180a6e90e40949bbccafa9923425a': {'55a180a6e90e40949bbccafa9923425a': 'What is the practice described in the context that opens up the heart?',\n",
       "  'd5512c454a9e4347a9d828d2867e925c': 'Is the practice mentioned in the context related to loving-kindness meditation?'},\n",
       " 'd5512c454a9e4347a9d828d2867e925c': {'55a180a6e90e40949bbccafa9923425a': 'What is the practice described in the context that opens up the heart?',\n",
       "  'd5512c454a9e4347a9d828d2867e925c': 'Is the practice mentioned in the context related to loving-kindness meditation?'},\n",
       " '43e3ca9d83ec48008e32f1ac978b7876': {'43e3ca9d83ec48008e32f1ac978b7876': 'How does the speaker feel about the need for a legislative body?',\n",
       "  '47a13cc98ab544b3976996bbb056aa4d': 'Why does the speaker believe gold is considered hard money?'},\n",
       " '47a13cc98ab544b3976996bbb056aa4d': {'43e3ca9d83ec48008e32f1ac978b7876': 'How does the speaker feel about the need for a legislative body?',\n",
       "  '47a13cc98ab544b3976996bbb056aa4d': 'Why does the speaker believe gold is considered hard money?'},\n",
       " '467a5c5237364bd088c1765a49e411c3': {'467a5c5237364bd088c1765a49e411c3': 'What is the \"matrix\" that Jessica Flanigan refers to?',\n",
       "  'f366c8b79bca40d1923a0c0e6e889ce2': 'How does Jessica Flanigan believe the \"matrix\" can be used to understand people?'},\n",
       " 'f366c8b79bca40d1923a0c0e6e889ce2': {'467a5c5237364bd088c1765a49e411c3': 'What is the \"matrix\" that Jessica Flanigan refers to?',\n",
       "  'f366c8b79bca40d1923a0c0e6e889ce2': 'How does Jessica Flanigan believe the \"matrix\" can be used to understand people?'},\n",
       " '50bc768e11064fdc97f9c9ca4b67672a': {'50bc768e11064fdc97f9c9ca4b67672a': 'What are some things that can be found on Steve Aoki?',\n",
       "  'c4325b9d4eb84c3581f5c9ff63925ec2': 'What was the first acting opportunity the speaker had?'},\n",
       " 'c4325b9d4eb84c3581f5c9ff63925ec2': {'50bc768e11064fdc97f9c9ca4b67672a': 'What are some things that can be found on Steve Aoki?',\n",
       "  'c4325b9d4eb84c3581f5c9ff63925ec2': 'What was the first acting opportunity the speaker had?'},\n",
       " '2f368129a93742c19fc2f6319a1df8d7': {'2f368129a93742c19fc2f6319a1df8d7': 'What decision did the speaker emphasize making in the morning?',\n",
       "  'faa2f614f608458ebccd32cb89d10025': 'Why is it important to make a conscious decision about who you want to be each day?'},\n",
       " 'faa2f614f608458ebccd32cb89d10025': {'2f368129a93742c19fc2f6319a1df8d7': 'What decision did the speaker emphasize making in the morning?',\n",
       "  'faa2f614f608458ebccd32cb89d10025': 'Why is it important to make a conscious decision about who you want to be each day?'},\n",
       " '0415447d95644f62bfff650a56686966': {'0415447d95644f62bfff650a56686966': 'How has the internet potentially affected levels of aggression and violence?',\n",
       "  'ad70c818c20440968bab3d1ade99c97b': 'What role do screens play in mitigating the negative consequences of economic inequality?'},\n",
       " 'ad70c818c20440968bab3d1ade99c97b': {'0415447d95644f62bfff650a56686966': 'How has the internet potentially affected levels of aggression and violence?',\n",
       "  'ad70c818c20440968bab3d1ade99c97b': 'What role do screens play in mitigating the negative consequences of economic inequality?'},\n",
       " 'ecc9856472294796ac1e50d113145d5d': {'ecc9856472294796ac1e50d113145d5d': 'How did the top stratum of billionaires fare during the COVID pandemic?',\n",
       "  '3bb2a987e1514da3af67526b489bb168': 'What are some factors that contribute to stress in globalized capitalism?'},\n",
       " '3bb2a987e1514da3af67526b489bb168': {'ecc9856472294796ac1e50d113145d5d': 'How did the top stratum of billionaires fare during the COVID pandemic?',\n",
       "  '3bb2a987e1514da3af67526b489bb168': 'What are some factors that contribute to stress in globalized capitalism?'},\n",
       " 'f27cc5d0e2bf401e9bcc03256e08f5aa': {'f27cc5d0e2bf401e9bcc03256e08f5aa': 'Why would it be difficult to impose a tax on a floating yacht?',\n",
       "  'c8a6569ee32b405b8b53e759edb03c8c': 'What makes Bitcoin a representation of property rights?'},\n",
       " 'c8a6569ee32b405b8b53e759edb03c8c': {'f27cc5d0e2bf401e9bcc03256e08f5aa': 'Why would it be difficult to impose a tax on a floating yacht?',\n",
       "  'c8a6569ee32b405b8b53e759edb03c8c': 'What makes Bitcoin a representation of property rights?'},\n",
       " '5478990a3eb64ee8b661a07ba3266472': {'5478990a3eb64ee8b661a07ba3266472': 'How long does Warren Buffett own Coca-Cola stock?',\n",
       "  'fddebb828217410391ea1dafe764a25b': 'What is the key to success according to the given context?'},\n",
       " 'fddebb828217410391ea1dafe764a25b': {'5478990a3eb64ee8b661a07ba3266472': 'How long does Warren Buffett own Coca-Cola stock?',\n",
       "  'fddebb828217410391ea1dafe764a25b': 'What is the key to success according to the given context?'},\n",
       " '6e81eacefcf34265b2425468d2a82308': {'6e81eacefcf34265b2425468d2a82308': \"What is the author's goal in writing and communicating stories?\",\n",
       "  '7ef2437abd2d4601b254763d780b041a': 'How does the author define success in terms of impact?'},\n",
       " '7ef2437abd2d4601b254763d780b041a': {'6e81eacefcf34265b2425468d2a82308': \"What is the author's goal in writing and communicating stories?\",\n",
       "  '7ef2437abd2d4601b254763d780b041a': 'How does the author define success in terms of impact?'},\n",
       " 'ed43665e820c45c7a71f0e8fa29efc73': {'ed43665e820c45c7a71f0e8fa29efc73': 'When was the last time the end user went to a doctor?',\n",
       "  'f2793f94dd054f0b8059758ab1d1ba60': 'Why are values important to the end user?'},\n",
       " 'f2793f94dd054f0b8059758ab1d1ba60': {'ed43665e820c45c7a71f0e8fa29efc73': 'When was the last time the end user went to a doctor?',\n",
       "  'f2793f94dd054f0b8059758ab1d1ba60': 'Why are values important to the end user?'},\n",
       " '620e6945f5ac4098ba19c3a8994a8bc4': {'620e6945f5ac4098ba19c3a8994a8bc4': \"What percentage of a person's traits are determined by their upbringing?\",\n",
       "  'ae90bad1634c43e3a8f962a9cf8dd326': 'How would you describe the personality of the middle child?'},\n",
       " 'ae90bad1634c43e3a8f962a9cf8dd326': {'620e6945f5ac4098ba19c3a8994a8bc4': \"What percentage of a person's traits are determined by their upbringing?\",\n",
       "  'ae90bad1634c43e3a8f962a9cf8dd326': 'How would you describe the personality of the middle child?'},\n",
       " '49b8841f87a44f09854a129bdcff7c86': {'49b8841f87a44f09854a129bdcff7c86': 'What is the relationship between language and the underlying truth in business?',\n",
       "  '1fad17c1e58743daa016d6bdfe14284f': 'Why is it important for business to be divided into two things?'},\n",
       " '1fad17c1e58743daa016d6bdfe14284f': {'49b8841f87a44f09854a129bdcff7c86': 'What is the relationship between language and the underlying truth in business?',\n",
       "  '1fad17c1e58743daa016d6bdfe14284f': 'Why is it important for business to be divided into two things?'},\n",
       " '9da77fcdf1614044bf350281e5a1f3dc': {'9da77fcdf1614044bf350281e5a1f3dc': 'How can you prevent the inflation of gold by miners?',\n",
       "  '4f759f36045941ac9381d66bcd1f41bd': 'How can you easily move your gold from one location to another?'},\n",
       " '4f759f36045941ac9381d66bcd1f41bd': {'9da77fcdf1614044bf350281e5a1f3dc': 'How can you prevent the inflation of gold by miners?',\n",
       "  '4f759f36045941ac9381d66bcd1f41bd': 'How can you easily move your gold from one location to another?'},\n",
       " '79a988e8b4f94b5691dca9016eebba59': {'79a988e8b4f94b5691dca9016eebba59': 'How can autonomous weapon systems be regulated on an international level?',\n",
       "  '3cdc7009c83f43eb9958f0c3c5573c3d': \"What measures can be taken within a country to protect people's privacy?\"},\n",
       " '3cdc7009c83f43eb9958f0c3c5573c3d': {'79a988e8b4f94b5691dca9016eebba59': 'How can autonomous weapon systems be regulated on an international level?',\n",
       "  '3cdc7009c83f43eb9958f0c3c5573c3d': \"What measures can be taken within a country to protect people's privacy?\"},\n",
       " '6bdfdb7d91654285a339d00b25e4f8bc': {'6bdfdb7d91654285a339d00b25e4f8bc': \"What is the author's perspective on getting a technical on purpose?\",\n",
       "  '1a600f6b015d48ed82887439274403f3': 'Who does the author ask about intentionally getting a technical?'},\n",
       " '1a600f6b015d48ed82887439274403f3': {'6bdfdb7d91654285a339d00b25e4f8bc': \"What is the author's perspective on getting a technical on purpose?\",\n",
       "  '1a600f6b015d48ed82887439274403f3': 'Who does the author ask about intentionally getting a technical?'},\n",
       " '5f4a43fde2c04bb694fc15e545e0de3e': {'5f4a43fde2c04bb694fc15e545e0de3e': 'What does Tim Lasko believe is important in life?',\n",
       "  '9472f1cf4645406e8866d4a2e4d5687a': 'How does Tom Bilyeu describe the impact of pressing pause in life?'},\n",
       " '9472f1cf4645406e8866d4a2e4d5687a': {'5f4a43fde2c04bb694fc15e545e0de3e': 'What does Tim Lasko believe is important in life?',\n",
       "  '9472f1cf4645406e8866d4a2e4d5687a': 'How does Tom Bilyeu describe the impact of pressing pause in life?'},\n",
       " '45030f4c66234611824ab27515e4b10f': {'45030f4c66234611824ab27515e4b10f': 'How is common sense linked to empathy?',\n",
       "  'ca079bd2597d4174a534624101fd0b1d': 'What is one factor contributing to the disappearance of empathy?'},\n",
       " 'ca079bd2597d4174a534624101fd0b1d': {'45030f4c66234611824ab27515e4b10f': 'How is common sense linked to empathy?',\n",
       "  'ca079bd2597d4174a534624101fd0b1d': 'What is one factor contributing to the disappearance of empathy?'},\n",
       " 'f93d0e6bcc804de891674a3816665b38': {'f93d0e6bcc804de891674a3816665b38': 'What is the topic that the speaker wants to discuss first?',\n",
       "  '2085e72a459b467b990e35ce8948aedb': 'What does the speaker mention as a conflict they experience?'},\n",
       " '2085e72a459b467b990e35ce8948aedb': {'f93d0e6bcc804de891674a3816665b38': 'What is the topic that the speaker wants to discuss first?',\n",
       "  '2085e72a459b467b990e35ce8948aedb': 'What does the speaker mention as a conflict they experience?'},\n",
       " '9e030443bea447c2937ec986ab085cb5': {'9e030443bea447c2937ec986ab085cb5': 'How do you help people unwind their fears and beliefs?',\n",
       "  '2219f6d11d764a3b86fae3122a8c4e6a': 'What is the suggested approach for addressing the emotional response of fear?'},\n",
       " '2219f6d11d764a3b86fae3122a8c4e6a': {'9e030443bea447c2937ec986ab085cb5': 'How do you help people unwind their fears and beliefs?',\n",
       "  '2219f6d11d764a3b86fae3122a8c4e6a': 'What is the suggested approach for addressing the emotional response of fear?'},\n",
       " '88b81c8a4117441ba55df9d7cfac7f60': {'88b81c8a4117441ba55df9d7cfac7f60': 'What is the name of the favorite podcast?',\n",
       "  'f77ddce45b9e469ea6b0bc96076116f6': 'What type of information is the end user querying for?'},\n",
       " 'f77ddce45b9e469ea6b0bc96076116f6': {'88b81c8a4117441ba55df9d7cfac7f60': 'What is the name of the favorite podcast?',\n",
       "  'f77ddce45b9e469ea6b0bc96076116f6': 'What type of information is the end user querying for?'},\n",
       " '0b1e2ddce35f4ddead66f8701573f588': {'0b1e2ddce35f4ddead66f8701573f588': 'What is the importance of consistency and persistence in creating happiness?',\n",
       "  'ecd9e610a6ed4c0c90c2985dc4241805': 'Why is it important to be predictable in terms of emotions and approach towards people?'},\n",
       " 'ecd9e610a6ed4c0c90c2985dc4241805': {'0b1e2ddce35f4ddead66f8701573f588': 'What is the importance of consistency and persistence in creating happiness?',\n",
       "  'ecd9e610a6ed4c0c90c2985dc4241805': 'Why is it important to be predictable in terms of emotions and approach towards people?'},\n",
       " '3fe8c7e6d18d428ea15a0d1aec991154': {'3fe8c7e6d18d428ea15a0d1aec991154': 'What is the topic of the film the speaker is part of?',\n",
       "  '5c001aeecc554271b39835937c533ea7': 'What does the speaker speculate happens after death?'},\n",
       " '5c001aeecc554271b39835937c533ea7': {'3fe8c7e6d18d428ea15a0d1aec991154': 'What is the topic of the film the speaker is part of?',\n",
       "  '5c001aeecc554271b39835937c533ea7': 'What does the speaker speculate happens after death?'},\n",
       " '9d4d1b317da045e8ab705e9e752e88cf': {'9d4d1b317da045e8ab705e9e752e88cf': 'Can a business owner discriminate against customers and employees?',\n",
       "  '25b16d858eea452c99e9506b56c2b60f': \"How do people react when they are offended by someone's words?\"},\n",
       " '25b16d858eea452c99e9506b56c2b60f': {'9d4d1b317da045e8ab705e9e752e88cf': 'Can a business owner discriminate against customers and employees?',\n",
       "  '25b16d858eea452c99e9506b56c2b60f': \"How do people react when they are offended by someone's words?\"},\n",
       " '34163cc94a6c4bccb18ff7d4972a9126': {'34163cc94a6c4bccb18ff7d4972a9126': 'What is the title of the book the speaker wants to write?',\n",
       "  'c18ea3a2bee14501bb07897b2d1c2d15': 'How does the speaker describe their personality in terms of ambition and laziness?'},\n",
       " 'c18ea3a2bee14501bb07897b2d1c2d15': {'34163cc94a6c4bccb18ff7d4972a9126': 'What is the title of the book the speaker wants to write?',\n",
       "  'c18ea3a2bee14501bb07897b2d1c2d15': 'How does the speaker describe their personality in terms of ambition and laziness?'},\n",
       " '0125bae9714f476fa646d8f3262de65a': {'0125bae9714f476fa646d8f3262de65a': 'Why did the person in the book want to protect someone else?',\n",
       "  'afb292abdfdb4218bd824924a5749928': \"What was the person's motivation for taking action in Iraq?\"},\n",
       " 'afb292abdfdb4218bd824924a5749928': {'0125bae9714f476fa646d8f3262de65a': 'Why did the person in the book want to protect someone else?',\n",
       "  'afb292abdfdb4218bd824924a5749928': \"What was the person's motivation for taking action in Iraq?\"},\n",
       " '5dc3ce08fa7b4aebaa2edaa7bb2b9723': {'5dc3ce08fa7b4aebaa2edaa7bb2b9723': 'What is the importance of researching the brain for self-improvement?',\n",
       "  '0bed0fc7272d40e8bbb7fc4c9da7ff23': 'What is the message the speaker wants to convey about personal growth?'},\n",
       " '0bed0fc7272d40e8bbb7fc4c9da7ff23': {'5dc3ce08fa7b4aebaa2edaa7bb2b9723': 'What is the importance of researching the brain for self-improvement?',\n",
       "  '0bed0fc7272d40e8bbb7fc4c9da7ff23': 'What is the message the speaker wants to convey about personal growth?'},\n",
       " '27a6e5b5903e49b9bcaefe9a9fd6364b': {'27a6e5b5903e49b9bcaefe9a9fd6364b': 'How has the liquidity being taken out of the system affected crypto?',\n",
       "  '9c777adc9680409e994fd42cb25a0f8e': 'What has been the impact of the FTX saga on the market?'},\n",
       " '9c777adc9680409e994fd42cb25a0f8e': {'27a6e5b5903e49b9bcaefe9a9fd6364b': 'How has the liquidity being taken out of the system affected crypto?',\n",
       "  '9c777adc9680409e994fd42cb25a0f8e': 'What has been the impact of the FTX saga on the market?'},\n",
       " 'f6b327ec27494e458d8f742566e43d2c': {'f6b327ec27494e458d8f742566e43d2c': 'What is the concept of \"arigato in, arigato out\" in relation to money?',\n",
       "  '99d190dd3e9449f196afc341942a7d31': 'How did practicing \"arigato in, arigato out\" for two months make the person feel?'},\n",
       " '99d190dd3e9449f196afc341942a7d31': {'f6b327ec27494e458d8f742566e43d2c': 'What is the concept of \"arigato in, arigato out\" in relation to money?',\n",
       "  '99d190dd3e9449f196afc341942a7d31': 'How did practicing \"arigato in, arigato out\" for two months make the person feel?'},\n",
       " '7cbb9177fc36474780db5ebead6a7add': {'7cbb9177fc36474780db5ebead6a7add': 'What is the importance of managing emotions in behavior?',\n",
       "  '93fb9606b15f4cc2b2fc0a0bc4cd8787': 'How can understanding self and managing emotions lead to progress?'},\n",
       " '93fb9606b15f4cc2b2fc0a0bc4cd8787': {'7cbb9177fc36474780db5ebead6a7add': 'What is the importance of managing emotions in behavior?',\n",
       "  '93fb9606b15f4cc2b2fc0a0bc4cd8787': 'How can understanding self and managing emotions lead to progress?'},\n",
       " '6c03f953118345b3a17a7c5499b125fc': {'6c03f953118345b3a17a7c5499b125fc': 'How did Prohibition impact the consumption of alcohol?',\n",
       "  '8817915ef1104d85b71ac871c8901e0f': 'What are the potential effects of legalizing drugs?'},\n",
       " '8817915ef1104d85b71ac871c8901e0f': {'6c03f953118345b3a17a7c5499b125fc': 'How did Prohibition impact the consumption of alcohol?',\n",
       "  '8817915ef1104d85b71ac871c8901e0f': 'What are the potential effects of legalizing drugs?'},\n",
       " '51edaef7f3bd462d98696634c09c585c': {'51edaef7f3bd462d98696634c09c585c': 'What are the factors that contribute to a sense of fulfillment?',\n",
       "  '916993972af6413a8561106dbcb43542': 'According to the speaker, why is working hard important for fulfillment?'},\n",
       " '916993972af6413a8561106dbcb43542': {'51edaef7f3bd462d98696634c09c585c': 'What are the factors that contribute to a sense of fulfillment?',\n",
       "  '916993972af6413a8561106dbcb43542': 'According to the speaker, why is working hard important for fulfillment?'}}"
      ]
     },
     "execution_count": 144,
     "metadata": {},
     "output_type": "execute_result"
    }
   ],
   "source": [
    "dataset['queries']"
   ]
  },
  {
   "cell_type": "markdown",
   "id": "cf529f09-6dd2-4401-9d3c-94a7cede7de6",
   "metadata": {},
   "source": [
    "## 3.) Build queries key next"
   ]
  },
  {
   "cell_type": "code",
   "execution_count": 151,
   "id": "216414ce-ad24-42f6-8cd6-4b3e9a0c7411",
   "metadata": {},
   "outputs": [],
   "source": [
    "for d in temp_list:\n",
    "    for k, v in d.items():\n",
    "        for el in v:\n",
    "            dataset['queries'][el] = v[el]"
   ]
  },
  {
   "cell_type": "code",
   "execution_count": 156,
   "id": "75820a2e-3d45-4c2c-99b1-db063645757e",
   "metadata": {},
   "outputs": [
    {
     "data": {
      "text/plain": [
       "'How does the person feel about not being productive in bed?'"
      ]
     },
     "execution_count": 156,
     "metadata": {},
     "output_type": "execute_result"
    }
   ],
   "source": [
    "dataset['queries']['dc6f4c7a0e564a688fdaf880bd227acb']"
   ]
  },
  {
   "cell_type": "code",
   "execution_count": 153,
   "id": "c909849a-637d-42e9-8813-c53c370f635f",
   "metadata": {},
   "outputs": [
    {
     "data": {
      "text/plain": [
       "['Tigt75AcLLA_106']"
      ]
     },
     "execution_count": 153,
     "metadata": {},
     "output_type": "execute_result"
    }
   ],
   "source": [
    "dataset['relevant_docs']['dc6f4c7a0e564a688fdaf880bd227acb']"
   ]
  },
  {
   "cell_type": "code",
   "execution_count": 155,
   "id": "5f14976b-2f2f-4e75-b098-b2df1e52a129",
   "metadata": {},
   "outputs": [
    {
     "data": {
      "text/plain": [
       "\"I can't allow myself to. Immediately as soon as I wake up. Well, if I'm doing something in bed, I suppose I should change it to working. That I have 10 minutes to be productive is probably the right way to think about it. And because there are times where there's something that I can do in bed, like this morning, when I could start researching you, the second I wake up, then I would still call that a win. But if I don't do the thing that I said I was going to do, then I force myself to acknowledge to myself with no, I don't let myself run. So I don't let myself be distracted. I'm just like, you said you were going to do something. You did not do this thing. And therefore you should not feel good about the behaviors that you enacted in this moment.\""
      ]
     },
     "execution_count": 155,
     "metadata": {},
     "output_type": "execute_result"
    }
   ],
   "source": [
    "dataset['corpus']['Tigt75AcLLA_106']"
   ]
  },
  {
   "cell_type": "code",
   "execution_count": 157,
   "id": "f19a550f-75c2-48ef-86f9-320a00020eb8",
   "metadata": {},
   "outputs": [],
   "source": [
    "llama_dataset = EmbeddingQAFinetuneDataset(queries=dataset['queries'], corpus=dataset['corpus'], relevant_docs=dataset['relevant_docs'])"
   ]
  },
  {
   "cell_type": "code",
   "execution_count": 165,
   "id": "395b80d7-59fa-44fc-b5a8-80c20756d299",
   "metadata": {},
   "outputs": [
    {
     "data": {
      "text/plain": [
       "200"
      ]
     },
     "execution_count": 165,
     "metadata": {},
     "output_type": "execute_result"
    }
   ],
   "source": [
    "len(llama_dataset.queries)"
   ]
  },
  {
   "cell_type": "code",
   "execution_count": 167,
   "id": "efb78472-14bc-4a48-b01a-d96fe60ec1c4",
   "metadata": {},
   "outputs": [
    {
     "data": {
      "text/plain": [
       "37007"
      ]
     },
     "execution_count": 167,
     "metadata": {},
     "output_type": "execute_result"
    }
   ],
   "source": [
    "len(data)"
   ]
  },
  {
   "cell_type": "code",
   "execution_count": 169,
   "id": "bc28201c-535f-4690-a7fe-60b39e165b59",
   "metadata": {},
   "outputs": [],
   "source": [
    "# generate_dataset(data, dir_path='./practice_data/', num_questions=25)"
   ]
  },
  {
   "cell_type": "code",
   "execution_count": 172,
   "id": "22e1ab66-b688-4242-9c8f-c1fbb25065df",
   "metadata": {},
   "outputs": [],
   "source": [
    "with open('./practice_data/25_questions_2023-11-07:02:50:58.json') as f:\n",
    "    valid_questions = json.load(f)"
   ]
  },
  {
   "cell_type": "code",
   "execution_count": 185,
   "id": "5c29f19e-4c9e-4eb9-be12-f930a603a61e",
   "metadata": {},
   "outputs": [],
   "source": [
    "def convert_data_to_llama_format(corpus: List[dict], \n",
    "                                 questions: Dict[str, List], \n",
    "                                 hash_fx: Callable,\n",
    "                                 doc_id_field: str='doc_id',\n",
    "                                 content_field: str='content',\n",
    "                                 ) -> EmbeddingQAFinetuneDataset:\n",
    "    corpus = {d[doc_id_field]:d[content_field] for d in corpus}\n",
    "    dataset = {'queries': {}, 'corpus': corpus, 'relevant_docs': {}}\n",
    "    temp_list = []\n",
    "    for doc_id in questions:\n",
    "        temp_list.append({doc_id: {hash_fx():query for query in questions[doc_id]}})\n",
    "    for d in temp_list:\n",
    "        for k,v in d.items():\n",
    "            for el in v:\n",
    "                dataset['relevant_docs'][el] = [k]\n",
    "    for d in temp_list:\n",
    "        for k, v in d.items():\n",
    "            for el in v:\n",
    "                dataset['queries'][el] = v[el]\n",
    "    return EmbeddingQAFinetuneDataset(queries=dataset['queries'], corpus=dataset['corpus'], relevant_docs=dataset['relevant_docs'])"
   ]
  },
  {
   "cell_type": "code",
   "execution_count": 186,
   "id": "61b09a8a-e127-4337-b86f-ada4f5cc3984",
   "metadata": {},
   "outputs": [],
   "source": [
    "valid = convert_data_to_llama_format(data, valid_questions, hash_func)"
   ]
  },
  {
   "cell_type": "markdown",
   "id": "4dec70df-01a3-4b34-b0b3-d76f33156831",
   "metadata": {},
   "source": [
    "### Launch Fine Tuning"
   ]
  },
  {
   "cell_type": "code",
   "execution_count": 189,
   "id": "7ea62363-95db-4c76-8520-62cd3b242113",
   "metadata": {},
   "outputs": [],
   "source": [
    "from llama_index.finetuning import SentenceTransformersFinetuneEngine"
   ]
  },
  {
   "cell_type": "code",
   "execution_count": 190,
   "id": "f0f70898-f2f5-44e2-9917-d7c5bbd8eac4",
   "metadata": {},
   "outputs": [],
   "source": [
    "finetune_engine = SentenceTransformersFinetuneEngine(dataset=llama_dataset, model_id='sentence-transformers/all-MiniLM-L6-v2', model_output_path='./test_model', val_dataset=valid)"
   ]
  },
  {
   "cell_type": "code",
   "execution_count": 195,
   "id": "62b924f8-254c-49b1-b564-891c3811d336",
   "metadata": {},
   "outputs": [
    {
     "data": {
      "application/vnd.jupyter.widget-view+json": {
       "model_id": "3cd9521cd46140d5a7a00140b64f85ed",
       "version_major": 2,
       "version_minor": 0
      },
      "text/plain": [
       "Epoch:   0%|          | 0/2 [00:00<?, ?it/s]"
      ]
     },
     "metadata": {},
     "output_type": "display_data"
    },
    {
     "data": {
      "application/vnd.jupyter.widget-view+json": {
       "model_id": "d9b60e455cc34d4392c3f1812e1ecebf",
       "version_major": 2,
       "version_minor": 0
      },
      "text/plain": [
       "Iteration:   0%|          | 0/20 [00:00<?, ?it/s]"
      ]
     },
     "metadata": {},
     "output_type": "display_data"
    },
    {
     "data": {
      "application/vnd.jupyter.widget-view+json": {
       "model_id": "8853429477074757aa122dc16dff2b83",
       "version_major": 2,
       "version_minor": 0
      },
      "text/plain": [
       "Iteration:   0%|          | 0/20 [00:00<?, ?it/s]"
      ]
     },
     "metadata": {},
     "output_type": "display_data"
    }
   ],
   "source": [
    "finetune_engine.finetune()"
   ]
  },
  {
   "cell_type": "code",
   "execution_count": 196,
   "id": "9c48f322-9e82-48f3-8f4f-85c22795596e",
   "metadata": {},
   "outputs": [],
   "source": [
    "ft_embed_model = finetune_engine.get_finetuned_model()"
   ]
  },
  {
   "cell_type": "code",
   "execution_count": 198,
   "id": "3b03bea4-ace5-4d6a-92c8-1ba23ddd2ac5",
   "metadata": {},
   "outputs": [
    {
     "data": {
      "text/plain": [
       "'./test_model'"
      ]
     },
     "execution_count": 198,
     "metadata": {},
     "output_type": "execute_result"
    }
   ],
   "source": [
    "ft_embed_model.model_name"
   ]
  },
  {
   "cell_type": "code",
   "execution_count": null,
   "id": "3be98ee3-21c4-4864-bf7a-c725cc73b821",
   "metadata": {},
   "outputs": [],
   "source": []
  }
 ],
 "metadata": {
  "kernelspec": {
   "display_name": "openai",
   "language": "python",
   "name": "openai"
  },
  "language_info": {
   "codemirror_mode": {
    "name": "ipython",
    "version": 3
   },
   "file_extension": ".py",
   "mimetype": "text/x-python",
   "name": "python",
   "nbconvert_exporter": "python",
   "pygments_lexer": "ipython3",
   "version": "3.10.13"
  }
 },
 "nbformat": 4,
 "nbformat_minor": 5
}
