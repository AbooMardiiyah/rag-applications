{
 "cells": [
  {
   "cell_type": "code",
   "execution_count": 62,
   "id": "70785ec1-67c6-4b39-b927-0bf4ac33233f",
   "metadata": {},
   "outputs": [
    {
     "name": "stdout",
     "output_type": "stream",
     "text": [
      "The autoreload extension is already loaded. To reload it, use:\n",
      "  %reload_ext autoreload\n"
     ]
    }
   ],
   "source": [
    "%load_ext autoreload \n",
    "%autoreload 2\n",
    "\n",
    "from preprocessing import FileIO, Vectorizor\n",
    "from opensearch_interface import OpenSearchClient\n",
    "from index_templates import youtube_body\n",
    "from opensearchpy.helpers import parallel_bulk"
   ]
  },
  {
   "cell_type": "code",
   "execution_count": 63,
   "id": "04bf3235-e034-45e8-a933-c8ed4e69ccad",
   "metadata": {},
   "outputs": [],
   "source": [
    "model_path = '/home/elastic/notebooks/vector_search_applications/models/gte-base/' \n",
    "osclient = OpenSearchClient(model_name_or_path=model_path)"
   ]
  },
  {
   "cell_type": "code",
   "execution_count": 64,
   "id": "e8501756-453e-4ff9-8051-b3840a9c1590",
   "metadata": {},
   "outputs": [
    {
     "name": "stdout",
     "output_type": "stream",
     "text": [
      "health status index                              uuid                   pri rep docs.count docs.deleted store.size pri.store.size\n",
      "yellow open   semantic-538-testrun               DjBPg6CdQwKbOGhJrI4YIQ   3   1        284            0      2.9mb          2.9mb\n",
      "yellow open   kw-impact-theory                   2MjMun4bQYOoeUpv5UsJxg   3   1      33164            0     29.4mb         29.4mb\n",
      "yellow open   semantic-impact-theory-196         SY2nXyvmQ9i5LAS4hmn82g   3   1      37007            0    694.6mb        694.6mb\n",
      "yellow open   kw-impact-theory-196               vsuHausxRb6EjysQriOX5w   3   1      37007            0     30.5mb         30.5mb\n",
      "yellow open   security-auditlog-2023.10.11       Q2X02yykRwWSdsI1O_8dSw   1   1         19            0    177.9kb        177.9kb\n",
      "yellow open   kw-full                            uNhdaqbnRVuyJci_L1Om8Q   3   1       6678            0     12.1mb         12.1mb\n",
      "yellow open   climate-report                     bqGtrEySTQ-Wc6aCMTe_sw   1   1       1728            0     63.1mb         63.1mb\n",
      "yellow open   paul-graham3                       -74ZPvxoSMmtCPSzAI9o1A   1   1         18            0    768.2kb        768.2kb\n",
      "yellow open   semantic-full                      ydvbifM0Rcu0DBz-rjCHzQ   3   1       6678            0     74.2mb         74.2mb\n",
      "yellow open   security-auditlog-2023.10.12       G7SQ_0PVQOeb6fzq2My0pg   1   1        868            0      1.7mb          1.7mb\n",
      "green  open   .opendistro_security               _QeSqO4CQN2IU8VpE9hnPw   1   0         10            0     75.6kb         75.6kb\n",
      "yellow open   semantic-impact-theory             5khyvtPQRASCMmhZiQTcVw   3   1      33164            0    331.5mb        331.5mb\n",
      "yellow open   semantic-impact-theory-evalution   OKatncGsSQipgrq3cRIU0g   1   1      17849            0    348.9mb        348.9mb\n",
      "yellow open   .plugins-ml-config                 IEeXrm-DRiOMm2qzo7PbqA   1   1          1            0      3.9kb          3.9kb\n",
      "green  open   .opensearch-observability          nN299E0QS9OvsRh_UcbJVQ   1   0          0            0       208b           208b\n",
      "yellow open   semantic-impact-theory-gte         HOfyQXRmQLaBYooeLgTcMg   3   1      42863            0      799mb          799mb\n",
      "yellow open   semantic-impact-theory-gte-doc-ids PFdAajMqTM2MB7M2dZcWSg   3   1      17849            0    350.5mb        350.5mb\n",
      "yellow open   kw-impact-theory-evalution         l-vdyoRQSbK4OcnK7ni7cg   1   1      17849            0     29.2mb         29.2mb\n",
      "\n"
     ]
    }
   ],
   "source": [
    "osclient.show_indexes()"
   ]
  },
  {
   "cell_type": "code",
   "execution_count": 65,
   "id": "1fd4a934-5473-4c23-93c8-e467353f66bc",
   "metadata": {},
   "outputs": [],
   "source": [
    "data_path = '/home/elastic/notebooks/vector_search_applications/data/impact_theory_gte_128.parquet'"
   ]
  },
  {
   "cell_type": "code",
   "execution_count": 66,
   "id": "15b39793-9000-46a8-8288-97643efec4ee",
   "metadata": {},
   "outputs": [
    {
     "name": "stdout",
     "output_type": "stream",
     "text": [
      "Shape of data: (60380, 16)\n",
      "Memory Usage: 6.97+ MB\n"
     ]
    }
   ],
   "source": [
    "data = FileIO().load_parquet(data_path)"
   ]
  },
  {
   "cell_type": "code",
   "execution_count": 67,
   "id": "aa025d98-9ee3-4fd6-addd-8d17a55df51e",
   "metadata": {},
   "outputs": [
    {
     "data": {
      "text/plain": [
       "['age_restricted',\n",
       " 'author',\n",
       " 'channel_id',\n",
       " 'content',\n",
       " 'content_embedding',\n",
       " 'description',\n",
       " 'doc_id',\n",
       " 'episode_num',\n",
       " 'keywords',\n",
       " 'length',\n",
       " 'playlist_id',\n",
       " 'publish_date',\n",
       " 'thumbnail_url',\n",
       " 'title',\n",
       " 'video_id',\n",
       " 'views']"
      ]
     },
     "execution_count": 67,
     "metadata": {},
     "output_type": "execute_result"
    }
   ],
   "source": [
    "sorted(list(data[0].keys()))"
   ]
  },
  {
   "cell_type": "code",
   "execution_count": 69,
   "id": "d32ef0ba-51e4-4c80-ad84-06f050eade7a",
   "metadata": {},
   "outputs": [],
   "source": [
    "# [d for d in data if d['doc_id'] == gold]"
   ]
  },
  {
   "cell_type": "markdown",
   "id": "302db923-940b-4ebc-b6c3-7ecc0b68af6e",
   "metadata": {},
   "source": [
    "### KW Indexing"
   ]
  },
  {
   "cell_type": "code",
   "execution_count": 70,
   "id": "e21c8df4-3f07-48c9-b0bb-8d9296b6625e",
   "metadata": {},
   "outputs": [
    {
     "data": {
      "text/plain": [
       "{'settings': {'number_of_shards': 3,\n",
       "  'refresh_interval': '30s',\n",
       "  'index': {'knn': True}},\n",
       " 'mappings': {'properties': {'title': {'type': 'text', 'index': 'true'},\n",
       "   'unique_id': {'type': 'keyword', 'index': 'false'},\n",
       "   'group_id': {'type': 'short', 'index': 'false'},\n",
       "   'video_id': {'type': 'keyword', 'index': 'false'},\n",
       "   'playlist_id': {'type': 'keyword', 'index': 'false'},\n",
       "   'episode_url': {'type': 'keyword', 'index': 'false'},\n",
       "   'episode_num': {'type': 'short', 'index': 'false'},\n",
       "   'description': {'type': 'text', 'index': 'true'},\n",
       "   'length': {'type': 'long', 'index': 'false'},\n",
       "   'publish_date': {'type': 'keyword', 'index': 'false'},\n",
       "   'views': {'type': 'long', 'index': 'false'},\n",
       "   'thumbnail_url': {'type': 'keyword', 'index': 'false'},\n",
       "   'content': {'type': 'text', 'index': 'true'},\n",
       "   'doc_id': {'type': 'keyword', 'index': 'false'},\n",
       "   'content_embedding': {'type': 'knn_vector', 'dimension': 768}}}}"
      ]
     },
     "execution_count": 70,
     "metadata": {},
     "output_type": "execute_result"
    }
   ],
   "source": [
    "index_name = \"kw-impact-theory-128\"\n",
    "youtube_body"
   ]
  },
  {
   "cell_type": "code",
   "execution_count": 71,
   "id": "8d25730b-e6bb-4709-a79c-c2f7c55b592a",
   "metadata": {},
   "outputs": [
    {
     "name": "stderr",
     "output_type": "stream",
     "text": [
      "\u001b[32m2023-10-12 20:20:31.001\u001b[0m | \u001b[1mINFO    \u001b[0m | \u001b[36mopensearch_interface\u001b[0m:\u001b[36mdocument_indexer\u001b[0m:\u001b[36m212\u001b[0m - \u001b[1mThe ** kw-impact-theory-128 ** index was created\u001b[0m\n",
      "\u001b[32m2023-10-12 20:20:31.002\u001b[0m | \u001b[1mINFO    \u001b[0m | \u001b[36mopensearch_interface\u001b[0m:\u001b[36mdocument_indexer\u001b[0m:\u001b[36m219\u001b[0m - \u001b[1mThe # of documents to be indexed = 60380\u001b[0m\n",
      " 87%|███████████████████████████████████████████████████████████████████████████████████████████████████████████████████████████▏                 | 52762/60380 [00:04<00:00, 16570.61Docs Indexed/s]\u001b[32m2023-10-12 20:20:35.181\u001b[0m | \u001b[1mINFO    \u001b[0m | \u001b[36mopensearch_interface\u001b[0m:\u001b[36mdocument_indexer\u001b[0m:\u001b[36m235\u001b[0m - \u001b[1mNumber of docs indexed: 60380\u001b[0m\n",
      "100%|█████████████████████████████████████████████████████████████████████████████████████████████████████████████████████████████████████████████| 60380/60380 [00:04<00:00, 14451.32Docs Indexed/s]\n"
     ]
    }
   ],
   "source": [
    "osclient.document_indexer(index_name=index_name, data=data, body_template=youtube_body)"
   ]
  },
  {
   "cell_type": "code",
   "execution_count": 44,
   "id": "49eabfba-b5c0-47a2-bed8-36f57cc251b1",
   "metadata": {},
   "outputs": [
    {
     "data": {
      "text/plain": [
       "{'acknowledged': True}"
      ]
     },
     "execution_count": 44,
     "metadata": {},
     "output_type": "execute_result"
    }
   ],
   "source": [
    "osclient.indices.delete(\"security-audit*\")"
   ]
  },
  {
   "cell_type": "code",
   "execution_count": 60,
   "id": "26411860-fcc0-421e-b9da-80a79315aa45",
   "metadata": {},
   "outputs": [
    {
     "data": {
      "text/plain": [
       "{'_shards': {'total': 6, 'successful': 3, 'failed': 0}}"
      ]
     },
     "execution_count": 60,
     "metadata": {},
     "output_type": "execute_result"
    }
   ],
   "source": [
    "osclient.indices.refresh(index=index_name)"
   ]
  },
  {
   "cell_type": "code",
   "execution_count": 80,
   "id": "19268f03-f5f6-45cd-83f6-156e75b2bd4e",
   "metadata": {},
   "outputs": [
    {
     "name": "stdout",
     "output_type": "stream",
     "text": [
      "health status index                              uuid                   pri rep docs.count docs.deleted store.size pri.store.size\n",
      "yellow open   semantic-538-testrun               DjBPg6CdQwKbOGhJrI4YIQ   3   1        284            0      2.9mb          2.9mb\n",
      "yellow open   kw-impact-theory                   2MjMun4bQYOoeUpv5UsJxg   3   1      33164            0     29.4mb         29.4mb\n",
      "yellow open   semantic-impact-theory-196         SY2nXyvmQ9i5LAS4hmn82g   3   1      37007            0    694.6mb        694.6mb\n",
      "yellow open   kw-impact-theory-196               vsuHausxRb6EjysQriOX5w   3   1      37007            0     30.5mb         30.5mb\n",
      "yellow open   security-auditlog-2023.10.11       Q2X02yykRwWSdsI1O_8dSw   1   1         19            0    177.9kb        177.9kb\n",
      "yellow open   kw-full                            uNhdaqbnRVuyJci_L1Om8Q   3   1       6678            0     12.1mb         12.1mb\n",
      "yellow open   climate-report                     bqGtrEySTQ-Wc6aCMTe_sw   1   1       1728            0     63.1mb         63.1mb\n",
      "yellow open   paul-graham3                       -74ZPvxoSMmtCPSzAI9o1A   1   1         18            0    768.2kb        768.2kb\n",
      "yellow open   semantic-full                      ydvbifM0Rcu0DBz-rjCHzQ   3   1       6678            0     74.2mb         74.2mb\n",
      "yellow open   security-auditlog-2023.10.12       G7SQ_0PVQOeb6fzq2My0pg   1   1        876            0      1.9mb          1.9mb\n",
      "yellow open   semantic-impact-theory-128         FJKOre3yT9aFxlF-_TvcTA   3   1      60380            0        1gb            1gb\n",
      "green  open   .opendistro_security               _QeSqO4CQN2IU8VpE9hnPw   1   0         10            0     75.6kb         75.6kb\n",
      "yellow open   semantic-impact-theory             5khyvtPQRASCMmhZiQTcVw   3   1      33164            0    331.5mb        331.5mb\n",
      "yellow open   semantic-impact-theory-evalution   OKatncGsSQipgrq3cRIU0g   1   1      17849            0    348.9mb        348.9mb\n",
      "yellow open   .plugins-ml-config                 IEeXrm-DRiOMm2qzo7PbqA   1   1          1            0      3.9kb          3.9kb\n",
      "green  open   .opensearch-observability          nN299E0QS9OvsRh_UcbJVQ   1   0          0            0       208b           208b\n",
      "yellow open   semantic-impact-theory-gte         HOfyQXRmQLaBYooeLgTcMg   3   1      42863            0      799mb          799mb\n",
      "yellow open   semantic-impact-theory-gte-doc-ids PFdAajMqTM2MB7M2dZcWSg   3   1      17849            0    350.5mb        350.5mb\n",
      "yellow open   kw-impact-theory-evalution         l-vdyoRQSbK4OcnK7ni7cg   1   1      17849            0     29.2mb         29.2mb\n",
      "yellow open   kw-impact-theory-128               a7g5VTfxRBSsQi9hcuJ1NQ   3   1      60380            0     32.7mb         32.7mb\n",
      "\n"
     ]
    }
   ],
   "source": [
    "osclient.show_indexes()"
   ]
  },
  {
   "cell_type": "code",
   "execution_count": 19,
   "id": "604f7ea4-5468-4d29-8082-f9b70220bd81",
   "metadata": {},
   "outputs": [],
   "source": [
    "def keyword_search(query: str, index: str, size: int=10, return_raw: bool=False):\n",
    "    body = {\n",
    "            \"_source\": ['content','group_id','show_link','video_id','length','publish_date','thumbnail_url','title','views'], \n",
    "            \"size\": size,\n",
    "            \"query\": {\n",
    "                \"bool\": {\n",
    "                    \"must\": {\n",
    "                        \"match\": {\"content\": query,}\n",
    "                            },\n",
    "                        \"filter\": {\"bool\": {\"must_not\": {\"match_phrase\": {\"content\": \"Vishal\"}}}},\n",
    "                    },\n",
    "                },            \n",
    "            }\n",
    "    response = osclient.search(body=body, index=index)\n",
    "    if return_raw: \n",
    "        return response \n",
    "    else: return response['hits']['hits']"
   ]
  },
  {
   "cell_type": "code",
   "execution_count": 21,
   "id": "e9fcc682-43e7-45a5-9d16-0b4c415d4432",
   "metadata": {},
   "outputs": [],
   "source": [
    "query = \"Does trump have support in iowa\""
   ]
  },
  {
   "cell_type": "code",
   "execution_count": 23,
   "id": "2041a312-8ce7-408e-9e3c-682acbdbfd0a",
   "metadata": {},
   "outputs": [],
   "source": [
    "# osclient.keyword_search(query, index=index_name)"
   ]
  },
  {
   "cell_type": "code",
   "execution_count": 29,
   "id": "e7ba2ee9-6483-46e2-bd60-4a803cf31ebe",
   "metadata": {},
   "outputs": [
    {
     "data": {
      "text/plain": [
       "{'kw-impact-theory': {'mappings': {'properties': {'age_restricted': {'type': 'boolean'},\n",
       "    'author': {'type': 'text',\n",
       "     'fields': {'keyword': {'type': 'keyword', 'ignore_above': 256}}},\n",
       "    'channel_id': {'type': 'text',\n",
       "     'fields': {'keyword': {'type': 'keyword', 'ignore_above': 256}}},\n",
       "    'content': {'type': 'text'},\n",
       "    'description': {'type': 'text'},\n",
       "    'episode_num': {'type': 'short', 'index': False},\n",
       "    'episode_url': {'type': 'keyword', 'index': False},\n",
       "    'group_id': {'type': 'short', 'index': False},\n",
       "    'length': {'type': 'long', 'index': False},\n",
       "    'playlist_id': {'type': 'keyword', 'index': False},\n",
       "    'publish_date': {'type': 'keyword', 'index': False},\n",
       "    'thumbnail_url': {'type': 'keyword', 'index': False},\n",
       "    'title': {'type': 'text'},\n",
       "    'unique_id': {'type': 'keyword', 'index': False},\n",
       "    'video_id': {'type': 'keyword', 'index': False},\n",
       "    'views': {'type': 'long', 'index': False}}}}}"
      ]
     },
     "execution_count": 29,
     "metadata": {},
     "output_type": "execute_result"
    }
   ],
   "source": [
    "osclient.indices.get_mapping(index=index_name)"
   ]
  },
  {
   "cell_type": "markdown",
   "id": "41749354-0003-41ce-8476-b904ed073c75",
   "metadata": {},
   "source": [
    "### Semantic Indexing"
   ]
  },
  {
   "cell_type": "code",
   "execution_count": 74,
   "id": "0c4fec33-67e1-4860-9182-e78deacfc293",
   "metadata": {},
   "outputs": [],
   "source": [
    "sem_index = 'semantic-impact-theory-128'"
   ]
  },
  {
   "cell_type": "code",
   "execution_count": 20,
   "id": "064e31f9-5525-4539-94ae-d83fd8430e32",
   "metadata": {},
   "outputs": [
    {
     "data": {
      "text/plain": [
       "{'acknowledged': True}"
      ]
     },
     "execution_count": 20,
     "metadata": {},
     "output_type": "execute_result"
    }
   ],
   "source": [
    "osclient.indices.delete(sem_index)"
   ]
  },
  {
   "cell_type": "code",
   "execution_count": 75,
   "id": "896f357e-bc68-4443-9781-51bbd51cc3da",
   "metadata": {},
   "outputs": [
    {
     "name": "stderr",
     "output_type": "stream",
     "text": [
      "\u001b[32m2023-10-12 20:21:23.076\u001b[0m | \u001b[1mINFO    \u001b[0m | \u001b[36mopensearch_interface\u001b[0m:\u001b[36mdocument_indexer\u001b[0m:\u001b[36m212\u001b[0m - \u001b[1mThe ** semantic-impact-theory-128 ** index was created\u001b[0m\n",
      "\u001b[32m2023-10-12 20:21:23.077\u001b[0m | \u001b[1mINFO    \u001b[0m | \u001b[36mopensearch_interface\u001b[0m:\u001b[36mdocument_indexer\u001b[0m:\u001b[36m219\u001b[0m - \u001b[1mThe # of documents to be indexed = 60380\u001b[0m\n",
      " 94%|██████████████████████████████████████████████████████████████████████████████████████████████████████████████████████████████████████        | 57001/60380 [00:39<00:03, 1005.59Docs Indexed/s]\u001b[32m2023-10-12 20:22:02.597\u001b[0m | \u001b[1mINFO    \u001b[0m | \u001b[36mopensearch_interface\u001b[0m:\u001b[36mdocument_indexer\u001b[0m:\u001b[36m235\u001b[0m - \u001b[1mNumber of docs indexed: 60380\u001b[0m\n",
      "100%|██████████████████████████████████████████████████████████████████████████████████████████████████████████████████████████████████████████████| 60380/60380 [00:39<00:00, 1527.87Docs Indexed/s]"
     ]
    },
    {
     "name": "stdout",
     "output_type": "stream",
     "text": [
      "CPU times: user 37.9 s, sys: 1.47 s, total: 39.4 s\n",
      "Wall time: 39.9 s\n"
     ]
    },
    {
     "name": "stderr",
     "output_type": "stream",
     "text": [
      "\n"
     ]
    }
   ],
   "source": [
    "%%time\n",
    "osclient.document_indexer(index_name=sem_index, data=data, chunk_size=1500, body_template=youtube_body, semantic_index=True)"
   ]
  },
  {
   "cell_type": "code",
   "execution_count": 41,
   "id": "e5eb9126-89cd-435f-bd9d-0e9b5dc61d1a",
   "metadata": {},
   "outputs": [
    {
     "data": {
      "text/plain": [
       "{'_shards': {'total': 6, 'successful': 3, 'failed': 0}}"
      ]
     },
     "execution_count": 41,
     "metadata": {},
     "output_type": "execute_result"
    }
   ],
   "source": [
    "osclient.indices.refresh(sem_index)"
   ]
  },
  {
   "cell_type": "code",
   "execution_count": null,
   "id": "67e28de1-e9c3-4690-a925-b3748a4dda1d",
   "metadata": {},
   "outputs": [],
   "source": []
  }
 ],
 "metadata": {
  "kernelspec": {
   "display_name": "openai",
   "language": "python",
   "name": "openai"
  },
  "language_info": {
   "codemirror_mode": {
    "name": "ipython",
    "version": 3
   },
   "file_extension": ".py",
   "mimetype": "text/x-python",
   "name": "python",
   "nbconvert_exporter": "python",
   "pygments_lexer": "ipython3",
   "version": "3.9.17"
  }
 },
 "nbformat": 4,
 "nbformat_minor": 5
}
