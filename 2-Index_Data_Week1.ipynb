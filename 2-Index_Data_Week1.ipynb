{
 "cells": [
  {
   "cell_type": "code",
   "execution_count": 2,
   "id": "70785ec1-67c6-4b39-b927-0bf4ac33233f",
   "metadata": {},
   "outputs": [
    {
     "name": "stdout",
     "output_type": "stream",
     "text": [
      "The autoreload extension is already loaded. To reload it, use:\n",
      "  %reload_ext autoreload\n"
     ]
    }
   ],
   "source": [
    "%load_ext autoreload \n",
    "%autoreload 2\n",
    "\n",
    "from preprocessing import FileIO, Vectorizor\n",
    "from opensearch_interface import OpenSearchClient\n",
    "from index_templates import youtube_body"
   ]
  },
  {
   "cell_type": "code",
   "execution_count": 5,
   "id": "04bf3235-e034-45e8-a933-c8ed4e69ccad",
   "metadata": {},
   "outputs": [
    {
     "name": "stderr",
     "output_type": "stream",
     "text": [
      "Downloading (…)a8668/.gitattributes: 100%|██████████| 1.52k/1.52k [00:00<00:00, 8.16MB/s]\n",
      "Downloading (…)_Pooling/config.json: 100%|██████████| 190/190 [00:00<00:00, 647kB/s]\n",
      "Downloading (…)10cbba8668/README.md: 100%|██████████| 68.1k/68.1k [00:00<00:00, 1.05MB/s]\n",
      "Downloading (…)cbba8668/config.json: 100%|██████████| 618/618 [00:00<00:00, 3.55MB/s]\n",
      "Downloading model.safetensors: 100%|██████████| 219M/219M [00:01<00:00, 125MB/s]  \n",
      "Downloading (…)668/onnx/config.json: 100%|██████████| 630/630 [00:00<00:00, 1.35MB/s]\n",
      "Downloading model.onnx: 100%|██████████| 436M/436M [00:02<00:00, 199MB/s] \n",
      "Downloading (…)cial_tokens_map.json: 100%|██████████| 125/125 [00:00<00:00, 250kB/s]\n",
      "Downloading (…)/onnx/tokenizer.json: 100%|██████████| 712k/712k [00:00<00:00, 9.71MB/s]\n",
      "Downloading (…)okenizer_config.json: 100%|██████████| 314/314 [00:00<00:00, 989kB/s]\n",
      "Downloading (…)a8668/onnx/vocab.txt: 100%|██████████| 232k/232k [00:00<00:00, 2.46MB/s]\n",
      "Downloading pytorch_model.bin: 100%|██████████| 219M/219M [00:04<00:00, 54.1MB/s]\n",
      "Downloading (…)nce_bert_config.json: 100%|██████████| 57.0/57.0 [00:00<00:00, 329kB/s]\n",
      "Downloading (…)cial_tokens_map.json: 100%|██████████| 125/125 [00:00<00:00, 689kB/s]\n",
      "Downloading (…)a8668/tokenizer.json: 100%|██████████| 712k/712k [00:00<00:00, 5.30MB/s]\n",
      "Downloading (…)okenizer_config.json: 100%|██████████| 314/314 [00:00<00:00, 1.57MB/s]\n",
      "Downloading (…)10cbba8668/vocab.txt: 100%|██████████| 232k/232k [00:00<00:00, 2.24MB/s]\n",
      "Downloading (…)bba8668/modules.json: 100%|██████████| 385/385 [00:00<00:00, 2.14MB/s]\n"
     ]
    }
   ],
   "source": [
    "model_path = 'thenlper/gte-base' \n",
    "osclient = OpenSearchClient(model_name_or_path=model_path)"
   ]
  },
  {
   "cell_type": "code",
   "execution_count": 7,
   "id": "b2ad0611",
   "metadata": {},
   "outputs": [
    {
     "data": {
      "text/plain": [
       "{'name': 'aa5a177f3093',\n",
       " 'cluster_name': 'docker-cluster',\n",
       " 'cluster_uuid': '3B8leOuZTg6pKrDUDoaFUQ',\n",
       " 'version': {'distribution': 'opensearch',\n",
       "  'number': '2.10.0',\n",
       "  'build_type': 'tar',\n",
       "  'build_hash': 'eee49cb340edc6c4d489bcd9324dda571fc8dc03',\n",
       "  'build_date': '2023-09-20T23:54:29.889267151Z',\n",
       "  'build_snapshot': False,\n",
       "  'lucene_version': '9.7.0',\n",
       "  'minimum_wire_compatibility_version': '7.10.0',\n",
       "  'minimum_index_compatibility_version': '7.0.0'},\n",
       " 'tagline': 'The OpenSearch Project: https://opensearch.org/'}"
      ]
     },
     "execution_count": 7,
     "metadata": {},
     "output_type": "execute_result"
    }
   ],
   "source": [
    "osclient.info()"
   ]
  },
  {
   "cell_type": "code",
   "execution_count": 8,
   "id": "e8501756-453e-4ff9-8051-b3840a9c1590",
   "metadata": {},
   "outputs": [
    {
     "name": "stdout",
     "output_type": "stream",
     "text": [
      "health status index                     uuid                   pri rep docs.count docs.deleted store.size pri.store.size\n",
      "green  open   .plugins-ml-config        RN1M3CHMQdaLyBA4SyOKrQ   1   0          1            0      3.9kb          3.9kb\n",
      "green  open   .opensearch-observability g7BD1x-TSR27YeCaHl1haQ   1   0          0            0       208b           208b\n",
      "green  open   .opendistro_security      qmiUP8fXRcGM8Q-9b0seEw   1   0         10            0     76.2kb         76.2kb\n",
      "\n"
     ]
    }
   ],
   "source": [
    "osclient.show_indexes()"
   ]
  },
  {
   "cell_type": "code",
   "execution_count": 9,
   "id": "1fd4a934-5473-4c23-93c8-e467353f66bc",
   "metadata": {},
   "outputs": [],
   "source": [
    "data_path = './data/impact_theory_gte_196.parquet'"
   ]
  },
  {
   "cell_type": "code",
   "execution_count": 11,
   "id": "15b39793-9000-46a8-8288-97643efec4ee",
   "metadata": {},
   "outputs": [
    {
     "name": "stdout",
     "output_type": "stream",
     "text": [
      "Shape of data: (9055, 16)\n",
      "Memory Usage: 1.05+ MB\n"
     ]
    }
   ],
   "source": [
    "data = FileIO().load_parquet(data_path)"
   ]
  },
  {
   "cell_type": "code",
   "execution_count": 12,
   "id": "aa025d98-9ee3-4fd6-addd-8d17a55df51e",
   "metadata": {},
   "outputs": [
    {
     "data": {
      "text/plain": [
       "['age_restricted',\n",
       " 'author',\n",
       " 'channel_id',\n",
       " 'content',\n",
       " 'content_embedding',\n",
       " 'description',\n",
       " 'doc_id',\n",
       " 'episode_num',\n",
       " 'keywords',\n",
       " 'length',\n",
       " 'playlist_id',\n",
       " 'publish_date',\n",
       " 'thumbnail_url',\n",
       " 'title',\n",
       " 'video_id',\n",
       " 'views']"
      ]
     },
     "execution_count": 12,
     "metadata": {},
     "output_type": "execute_result"
    }
   ],
   "source": [
    "sorted(list(data[0].keys()))"
   ]
  },
  {
   "cell_type": "markdown",
   "id": "41749354-0003-41ce-8476-b904ed073c75",
   "metadata": {},
   "source": [
    "### Data Indexing"
   ]
  },
  {
   "cell_type": "code",
   "execution_count": 15,
   "id": "0c4fec33-67e1-4860-9182-e78deacfc293",
   "metadata": {},
   "outputs": [],
   "source": [
    "index_name = 'impact-theory-gte-196'"
   ]
  },
  {
   "cell_type": "code",
   "execution_count": 16,
   "id": "c94f9501",
   "metadata": {},
   "outputs": [
    {
     "data": {
      "text/plain": [
       "{'settings': {'number_of_shards': 3,\n",
       "  'refresh_interval': '30s',\n",
       "  'index': {'knn': False}},\n",
       " 'mappings': {'properties': {'title': {'type': 'text', 'index': 'true'},\n",
       "   'unique_id': {'type': 'keyword', 'index': 'false'},\n",
       "   'group_id': {'type': 'short', 'index': 'false'},\n",
       "   'video_id': {'type': 'keyword', 'index': 'false'},\n",
       "   'playlist_id': {'type': 'keyword', 'index': 'false'},\n",
       "   'episode_url': {'type': 'keyword', 'index': 'false'},\n",
       "   'episode_num': {'type': 'short', 'index': 'false'},\n",
       "   'description': {'type': 'text', 'index': 'true'},\n",
       "   'length': {'type': 'long', 'index': 'false'},\n",
       "   'publish_date': {'type': 'keyword', 'index': 'false'},\n",
       "   'views': {'type': 'long', 'index': 'false'},\n",
       "   'thumbnail_url': {'type': 'keyword', 'index': 'false'},\n",
       "   'content': {'type': 'text', 'index': 'true'},\n",
       "   'doc_id': {'type': 'keyword', 'index': 'false'}}}}"
      ]
     },
     "execution_count": 16,
     "metadata": {},
     "output_type": "execute_result"
    }
   ],
   "source": [
    "youtube_body"
   ]
  },
  {
   "cell_type": "code",
   "execution_count": 17,
   "id": "896f357e-bc68-4443-9781-51bbd51cc3da",
   "metadata": {},
   "outputs": [
    {
     "name": "stderr",
     "output_type": "stream",
     "text": [
      "\u001b[32m2023-10-14 20:43:13.786\u001b[0m | \u001b[1mINFO    \u001b[0m | \u001b[36mopensearch_interface\u001b[0m:\u001b[36mdocument_indexer\u001b[0m:\u001b[36m212\u001b[0m - \u001b[1mThe ** impact-theory-gte-196 ** index was created\u001b[0m\n",
      "\u001b[32m2023-10-14 20:43:13.787\u001b[0m | \u001b[1mINFO    \u001b[0m | \u001b[36mopensearch_interface\u001b[0m:\u001b[36mdocument_indexer\u001b[0m:\u001b[36m219\u001b[0m - \u001b[1mThe # of documents to be indexed = 9055\u001b[0m\n",
      " 83%|████████▎ | 7501/9055 [00:17<00:01, 839.68Docs Indexed/s]\u001b[32m2023-10-14 20:43:31.407\u001b[0m | \u001b[1mINFO    \u001b[0m | \u001b[36mopensearch_interface\u001b[0m:\u001b[36mdocument_indexer\u001b[0m:\u001b[36m235\u001b[0m - \u001b[1mNumber of docs indexed: 9055\u001b[0m\n",
      "100%|██████████| 9055/9055 [00:17<00:00, 513.91Docs Indexed/s]"
     ]
    },
    {
     "name": "stdout",
     "output_type": "stream",
     "text": [
      "CPU times: user 6.14 s, sys: 633 ms, total: 6.77 s\n",
      "Wall time: 18.6 s\n"
     ]
    },
    {
     "name": "stderr",
     "output_type": "stream",
     "text": [
      "\n"
     ]
    }
   ],
   "source": [
    "%%time\n",
    "osclient.document_indexer(index_name=index_name, data=data, chunk_size=1500, body_template=youtube_body, semantic_index=True)"
   ]
  },
  {
   "cell_type": "markdown",
   "id": "67e28de1-e9c3-4690-a925-b3748a4dda1d",
   "metadata": {},
   "source": [
    "## Test Search on Index"
   ]
  },
  {
   "cell_type": "code",
   "execution_count": 18,
   "id": "a1c4d1ae",
   "metadata": {},
   "outputs": [],
   "source": [
    "query = 'How do I change my life for the better'"
   ]
  },
  {
   "cell_type": "code",
   "execution_count": 19,
   "id": "71a7fadb",
   "metadata": {},
   "outputs": [
    {
     "data": {
      "text/plain": [
       "[{'_index': 'impact-theory-gte-196',\n",
       "  '_id': 'hVHtL4sBeAHUcbGk8TcU',\n",
       "  '_score': 14.285405,\n",
       "  '_source': {'length': 7266,\n",
       "   'episode_num': 351,\n",
       "   'title': \"Alzheimer's Disease: The EARLY WARNING SIGNS & How To Reverse It | Richard Johnson & Dale Bredesen\",\n",
       "   'thumbnail_url': 'https://i.ytimg.com/vi/Zn4MWA1BESY/hq720.jpg',\n",
       "   'doc_id': 'Zn4MWA1BESY_41',\n",
       "   'publish_date': '05-04-2023',\n",
       "   'content': \"It makes all the difference So for brain health You want a plant-rich? Ketogenic diet with appropriate periods of fasting so you want to get the ketones up you want to have the low-carb diet But you don't want to have just a pure meat diet. Why is that? So I'm ultra high I get most of my calories from meat. So if you're gonna So change my life right now. I want to hear about it. So what what is the difference? How how does it work mechanistically? Let's change your future for the better. Absolutely.\",\n",
       "   'views': 477365,\n",
       "   'video_id': 'Zn4MWA1BESY'}},\n",
       " {'_index': 'impact-theory-gte-196',\n",
       "  '_id': 'ClHtL4sBeAHUcbGkzyAJ',\n",
       "  '_score': 13.1930065,\n",
       "  '_source': {'length': 11232,\n",
       "   'episode_num': 380,\n",
       "   'title': 'Turning Boys Into Men: How To Master Power, Sex, Psychology To Stop Feeling Lost | Justin Waller',\n",
       "   'thumbnail_url': 'https://i.ytimg.com/vi/mrND5lSPEQU/hq720.jpg',\n",
       "   'doc_id': 'mrND5lSPEQU_228',\n",
       "   'publish_date': '07-20-2023',\n",
       "   'content': \"A part of me is sad today that I don't have kids. But it's very easy for me to frame what I'm doing and the choices that I'm making in a way that make me feel very good about my life. What stops you from reframing it for yourself? If you know this is- To have kids? Yeah. I could. Yeah, but why don't you? Because I don't have anything that compels me to make that change. I don't think that my life would be better. I think it would be safer, but not better. You don't think that your kids will add to your life? I think they would. But they will also take something away. Which would be what? There are only trade-offs. Okay, yeah, but- Choices would be one. Freedom. How I spend my time.\",\n",
       "   'views': 1533415,\n",
       "   'video_id': 'mrND5lSPEQU'}},\n",
       " {'_index': 'impact-theory-gte-196',\n",
       "  '_id': 'JVHtL4sBeAHUcbGk-D6f',\n",
       "  '_score': 12.777416,\n",
       "  '_source': {'length': 6791,\n",
       "   'episode_num': 345,\n",
       "   'title': 'DIET MASTERCLASS: What To Eat, When To Eat & How To Eat For LONGEVITY | Sal DiStefano',\n",
       "   'thumbnail_url': 'https://i.ytimg.com/vi/LYf5zPzIqwQ/hq720.jpg',\n",
       "   'doc_id': 'LYf5zPzIqwQ_94',\n",
       "   'publish_date': '04-20-2023',\n",
       "   'content': \"I really was that lazy. I really did not know how to put things together. It is just a series of ancient ideas that have literally been around for thousands of years that if you deploy them, everything in your life will change. But I have a real issue. Remember, this is me thinking out loud. I have a real issue with like, people aren't just saying the real fucking thing. And I think the real thing is you have allowed, I get it, life is hard. Your parents fucked you up in a thousand ways. The bully that picked on you messed you up. But you, going back to your tweet, you have to own that you can change. 100%. It's what I call the only belief that matters. The only belief that matters if you wanna change your life is that if I focus on getting better at something, I will actually get better.\",\n",
       "   'views': 340371,\n",
       "   'video_id': 'LYf5zPzIqwQ'}},\n",
       " {'_index': 'impact-theory-gte-196',\n",
       "  '_id': 'b1HtL4sBeAHUcbGk3ixQ',\n",
       "  '_score': 12.4707365,\n",
       "  '_source': {'length': 12406,\n",
       "   'episode_num': 372,\n",
       "   'title': 'Turning Boys Into Men: How To Stop Being WEAK & Become A 1% Man  | Tom Bilyeu',\n",
       "   'thumbnail_url': 'https://i.ytimg.com/vi/WhLdpjZjUrw/hq720.jpg',\n",
       "   'doc_id': 'WhLdpjZjUrw_35',\n",
       "   'publish_date': '06-29-2023',\n",
       "   'content': \"Now at least you're not taken by surprise. So you can plan around, okay, I better have a career that gives me those things. Thinking through that I think is very important. I know when I get to 80 that I will be very grateful that I thought through how my frame of reference will change and so I will make plans to be able to mentor people. In fact, I'm starting to do that now, even just in the way that I shift my own thinking, thinking about myself more as like a father trying to like, hey, I've suffered in my life, I want other people to learn easily what I have learned through great suffering. Which is, of course, one of the things that makes being a parent cool, it's like, hey, I can help you hopefully make your life a little bit better.\",\n",
       "   'views': 89827,\n",
       "   'video_id': 'WhLdpjZjUrw'}},\n",
       " {'_index': 'impact-theory-gte-196',\n",
       "  '_id': 'AlHtL4sBeAHUcbGk-D6f',\n",
       "  '_score': 12.026027,\n",
       "  '_source': {'length': 6791,\n",
       "   'episode_num': 345,\n",
       "   'title': 'DIET MASTERCLASS: What To Eat, When To Eat & How To Eat For LONGEVITY | Sal DiStefano',\n",
       "   'thumbnail_url': 'https://i.ytimg.com/vi/LYf5zPzIqwQ/hq720.jpg',\n",
       "   'doc_id': 'LYf5zPzIqwQ_59',\n",
       "   'publish_date': '04-20-2023',\n",
       "   'content': \"Then you start to develop this broad, complete picture of what's happening through this process. Then you start to develop this full relationship, this balanced relationship that then stays with you for the rest of your life. I'll tell you what. If you were to take 100 people who have been consistently, appropriately exercising for 10 years, people who are consistent with it, people who've developed a good relationship with it, tell them to list the top five reasons why they continue to do it. And I bet you how they look won't make the top five. I bet you number one has to do with something mental. I feel better, I have better energy, it makes me more positive than depression or anxiety. How they look won't make the top five, trip off that. And yet the number one reason why people approach exercise is to change how they look.\",\n",
       "   'views': 340371,\n",
       "   'video_id': 'LYf5zPzIqwQ'}}]"
      ]
     },
     "execution_count": 19,
     "metadata": {},
     "output_type": "execute_result"
    }
   ],
   "source": [
    "kw_response = osclient.keyword_search(query=query, index=index_name, size=5)\n",
    "kw_response"
   ]
  },
  {
   "cell_type": "code",
   "execution_count": 20,
   "id": "305b6ea2",
   "metadata": {},
   "outputs": [
    {
     "data": {
      "text/plain": [
       "[{'_index': 'impact-theory-gte-196',\n",
       "  '_id': 'olHtL4sBeAHUcbGk3ixQ',\n",
       "  '_score': 0.7880753,\n",
       "  '_source': {'length': 12406,\n",
       "   'episode_num': 372,\n",
       "   'title': 'Turning Boys Into Men: How To Stop Being WEAK & Become A 1% Man  | Tom Bilyeu',\n",
       "   'thumbnail_url': 'https://i.ytimg.com/vi/WhLdpjZjUrw/hq720.jpg',\n",
       "   'doc_id': 'WhLdpjZjUrw_86',\n",
       "   'publish_date': '06-29-2023',\n",
       "   'content': \"Change your habits and define what you mean by better person. So this goes back to the idea that the most important thing anyone can have in their life is clarity. So who is it that you're actually trying to become? The important thing is to make sure that you know what your value system is, you know what you value, then we know what you're actually striving towards. Once you have a goal, that goal makes demands. So if you're trying to be the kind of person that gets up early so that you can see your kids before you send them off to school, then you need to be the kind of person that either deals with fatigue all the time, which I think is a terrible idea and I do not recommend, or you need to be the kind of person that goes to bed early. That's one of the myriad ways that your goal is going to mandate your behavior.\",\n",
       "   'views': 89827,\n",
       "   'video_id': 'WhLdpjZjUrw'}},\n",
       " {'_index': 'impact-theory-gte-196',\n",
       "  '_id': '1VHtL4sBeAHUcbGk3ixQ',\n",
       "  '_score': 0.761947,\n",
       "  '_source': {'length': 12406,\n",
       "   'episode_num': 372,\n",
       "   'title': 'Turning Boys Into Men: How To Stop Being WEAK & Become A 1% Man  | Tom Bilyeu',\n",
       "   'thumbnail_url': 'https://i.ytimg.com/vi/WhLdpjZjUrw/hq720.jpg',\n",
       "   'doc_id': 'WhLdpjZjUrw_137',\n",
       "   'publish_date': '06-29-2023',\n",
       "   'content': \"Go after it in a big way. Set yourself a crazy goal that you really believe in, that you really think life would be better if I do this thing, if I achieve this. And even if I fail, man, I would have spent my life well trying to contribute to that. If you build your life around that and go all out, man, trying to make something that you really believe in come true, to bend the world to your will, to close your eyes and imagine a world that is better than this one, open your eyes and then execute to make that world come true, you will love your life. That's the key, to find something that you really believe in and then go all out after it. Now, to track all of this progress, you really do wanna be journaling, writing things down, checking things off. How many days did you stick to what you said you were gonna do?\",\n",
       "   'views': 89827,\n",
       "   'video_id': 'WhLdpjZjUrw'}},\n",
       " {'_index': 'impact-theory-gte-196',\n",
       "  '_id': 'ZFHtL4sBeAHUcbGk1yhP',\n",
       "  '_score': 0.7588118,\n",
       "  '_source': {'length': 9963,\n",
       "   'episode_num': 379,\n",
       "   'title': 'The 3 Year AI Reset: How To Get Ahead While Others Lose Their Jobs (Prepare Now) | Emad Mostaque',\n",
       "   'thumbnail_url': 'https://i.ytimg.com/vi/Se91Pn3xxSs/hq720.jpg',\n",
       "   'doc_id': 'Se91Pn3xxSs_234',\n",
       "   'publish_date': '07-18-2023',\n",
       "   'content': \"It is the start of the biggest change, I think, that we've ever seen. And again, think about what you're doing when you're typing in and seeing that and think about a million of these things working that are even better. It's unavoidable. So I'd say you just have to get into it. You have to get passionate. You have to think about the bad stuff, but is that really your responsibility, right? I think it is, but focus on the good stuff and focus on the potential of what happens on the scales to make real positive change. It can be to your pocket. It can be to your community. It can be to your life because it does affect everyone that you know. So I'd go with a positive mindset, leave it to boring old guys like us to think about all the doom scenarios. Fair enough. Imad, where can people follow you?\",\n",
       "   'views': 1844891,\n",
       "   'video_id': 'Se91Pn3xxSs'}},\n",
       " {'_index': 'impact-theory-gte-196',\n",
       "  '_id': '2lHtL4sBeAHUcbGk-ECw',\n",
       "  '_score': 0.7517889,\n",
       "  '_source': {'length': 7631,\n",
       "   'episode_num': 338,\n",
       "   'title': 'Manage Your Money & Achieve FINANCIAL FREEDOM | Wallstreet Trapper',\n",
       "   'thumbnail_url': 'https://i.ytimg.com/vi/NxtUBGtLq3k/hq720.jpg',\n",
       "   'doc_id': 'NxtUBGtLq3k_56',\n",
       "   'publish_date': '03-30-2023',\n",
       "   'content': \"You need one person that's disruption. You need one person to do that. And if nobody ever does that, you can look at a whole lineage of a people, of a family and realize, well, nobody has never changed it. And so for me to change was, if I can become financial literate, if I can become financially conscious, if I can increase my financial fortitude, then I can not only change myself and my life, I can lead by example and change my family. And then that can have another effect the people around my friends, you know, so on and so forth. But it was me being able to heal that financial trauma in the beginning, man. That was important. The only one I hear talking about is something that I think is actually really connected, which is values and knowledge to get the outcome that you want.\",\n",
       "   'views': 302009,\n",
       "   'video_id': 'NxtUBGtLq3k'}},\n",
       " {'_index': 'impact-theory-gte-196',\n",
       "  '_id': 'zVHtL4sBeAHUcbGk8TgV',\n",
       "  '_score': 0.7403776,\n",
       "  '_source': {'length': 8265,\n",
       "   'episode_num': 350,\n",
       "   'title': 'This New Treatment Might SAVE YOUR LIFE If You STRUGGLE With Anxiety & Depression| Dr. Dan Engle',\n",
       "   'thumbnail_url': 'https://i.ytimg.com/vi/kXRCwRjV9o0/hq720.jpg',\n",
       "   'doc_id': 'kXRCwRjV9o0_73',\n",
       "   'publish_date': '05-02-2023',\n",
       "   'content': 'That is so interesting to me. You can reboot your life, your health, even your career, anything you want. All you need is discipline. I can teach you the tactics that I learned while growing a billion-dollar business that will allow you to see your goals through. Whether you want better health, stronger relationships, a more successful career, any of that is possible with the mindset and business programs in Impact Theory University. Join the thousands of students who have already accomplished amazing things. Tap now for a free trial and get started today. So you and I share this deep fascination and I really have to try it so I can have any credibility in this conversation whatsoever.',\n",
       "   'views': 36933,\n",
       "   'video_id': 'kXRCwRjV9o0'}}]"
      ]
     },
     "execution_count": 20,
     "metadata": {},
     "output_type": "execute_result"
    }
   ],
   "source": [
    "vec_response = osclient.vector_search(query, index_name, size=5)\n",
    "vec_response"
   ]
  },
  {
   "cell_type": "code",
   "execution_count": null,
   "id": "255591c1",
   "metadata": {},
   "outputs": [],
   "source": []
  }
 ],
 "metadata": {
  "kernelspec": {
   "display_name": "vsearch",
   "language": "python",
   "name": "python3"
  },
  "language_info": {
   "codemirror_mode": {
    "name": "ipython",
    "version": 3
   },
   "file_extension": ".py",
   "mimetype": "text/x-python",
   "name": "python",
   "nbconvert_exporter": "python",
   "pygments_lexer": "ipython3",
   "version": "3.10.13"
  }
 },
 "nbformat": 4,
 "nbformat_minor": 5
}
