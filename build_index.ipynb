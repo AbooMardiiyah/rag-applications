{
 "cells": [
  {
   "cell_type": "code",
   "execution_count": 6,
   "id": "3d6e65a9-15a3-4028-b26a-e2cdc6d37195",
   "metadata": {},
   "outputs": [
    {
     "data": {
      "text/plain": [
       "True"
      ]
     },
     "execution_count": 6,
     "metadata": {},
     "output_type": "execute_result"
    }
   ],
   "source": [
    "#external files\n",
    "from preprocessing import FileIO\n",
    "from weaviate_interface import WeaviateClient, WeaviateIndexer\n",
    "from class_templates import impact_theory_class_properties\n",
    "\n",
    "#standards\n",
    "import os\n",
    "import time\n",
    "import json\n",
    "from typing import List\n",
    "from tqdm.notebook import tqdm\n",
    "\n",
    "from rich import print  # nice library that provides improved printing output (overrides default print function)\n",
    "\n",
    "#load from local .env file\n",
    "from dotenv import load_dotenv, find_dotenv\n",
    "load_dotenv(find_dotenv(), override=True)"
   ]
  },
  {
   "cell_type": "code",
   "execution_count": 2,
   "id": "97e922ed-0e34-44a8-9d3b-b820411ee7cb",
   "metadata": {},
   "outputs": [
    {
     "data": {
      "text/plain": [
       "(True, True)"
      ]
     },
     "execution_count": 2,
     "metadata": {},
     "output_type": "execute_result"
    }
   ],
   "source": [
    "#read env vars from local .env file\n",
    "api_key = os.environ['WEAVIATE_API_KEY']\n",
    "url = os.environ['WEAVIATE_ENDPOINT']\n",
    "\n",
    "#instantiate client\n",
    "client = WeaviateClient(api_key, url)\n",
    "\n",
    "#check if WCS instance is live and ready\n",
    "client.is_live(), client.is_ready()"
   ]
  },
  {
   "cell_type": "code",
   "execution_count": 3,
   "id": "f8560afa-75fe-4a27-b75b-bdd420d1f288",
   "metadata": {},
   "outputs": [
    {
     "name": "stdout",
     "output_type": "stream",
     "text": [
      "Shape of data: (26448, 12)\n",
      "Memory Usage: 2.42+ MB\n"
     ]
    }
   ],
   "source": [
    "data_path = '../impact-theory-newft-256.parquet'\n",
    "\n",
    "data = FileIO().load_parquet(data_path)"
   ]
  },
  {
   "cell_type": "code",
   "execution_count": 7,
   "id": "d63eea0d-bfde-465b-8637-8a74dc32850a",
   "metadata": {},
   "outputs": [],
   "source": [
    "class_name = 'NEW_FT_INDEX'"
   ]
  },
  {
   "cell_type": "code",
   "execution_count": 8,
   "id": "92b4d8ea-116b-42c0-b1de-cb7e87d1acd9",
   "metadata": {},
   "outputs": [],
   "source": [
    "class_config = {'classes': [\n",
    "\n",
    "                      {\"class\": class_name,        \n",
    "                       \n",
    "                       \"description\": \"Episodes of Impact Theory up to Nov 2023\", \n",
    "                       \n",
    "                       \"vectorIndexType\": \"hnsw\", \n",
    "                       \n",
    "                       # Vector index specific settings\n",
    "                       \"vectorIndexConfig\": {                   \n",
    "                          \n",
    "                        \"ef\": 400,\n",
    "                        \"efConstruction\": 128, \n",
    "                        \"maxConnections\": 32,  \n",
    "                        \"dynamicEfMin\": 100,   \n",
    "                        \"dynamicEfMax\": 400,    \n",
    "                                            },\n",
    "                       \n",
    "                       \"vectorizer\": \"none\",            \n",
    "                       \n",
    "                       # pre-defined property mappings\n",
    "                       \"properties\": impact_theory_class_properties }         \n",
    "                      ]\n",
    "               }"
   ]
  },
  {
   "cell_type": "code",
   "execution_count": 21,
   "id": "e016ce25-0568-4436-9d95-df96115c768c",
   "metadata": {},
   "outputs": [
    {
     "data": {
      "text/plain": [
       "{'maxConnections': 32, 'efConstruction': 128, 'ef': 400}"
      ]
     },
     "execution_count": 21,
     "metadata": {},
     "output_type": "execute_result"
    },
    {
     "name": "stderr",
     "output_type": "stream",
     "text": [
      "Bad pipe message: %s [b\"(\\xe0\\xa5\\x9dT\\xb2\\x9b\\xe8\\xe8\\xd2\\x9f(\\x89\\xccA\\x8co\\xb8\\x00\\x00|\\xc0,\\xc00\\x00\\xa3\\x00\\x9f\\xcc\\xa9\\xcc\\xa8\\xcc\\xaa\\xc0\\xaf\\xc0\\xad\\xc0\\xa3\\xc0\\x9f\\xc0]\\xc0a\\xc0W\\xc0S\\xc0+\\xc0/\\x00\\xa2\\x00\\x9e\\xc0\\xae\\xc0\\xac\\xc0\\xa2\\xc0\\x9e\\xc0\\\\\\xc0`\\xc0V\\xc0R\\xc0$\\xc0(\\x00k\\x00j\\xc0#\\xc0'\\x00g\\x00@\\xc0\\n\\xc0\\x14\\x009\\x008\\xc0\\t\\xc0\\x13\\x003\\x002\\x00\\x9d\\xc0\\xa1\\xc0\\x9d\"]\n",
      "Bad pipe message: %s [b'O\\xe8J\\xe0S{u\\x1a\\xbe\\x18%\\xff\\x16\\xb8#(\\x8a\\xb7\\x00\\x00\\xa2\\xc0\\x14\\xc0\\n\\x009\\x008\\x007\\x006\\x00', b'\\x87\\x00\\x86\\x00\\x85\\xc0\\x19\\x00:\\x00\\x89\\xc0\\x0f\\xc0\\x05\\x005\\x00\\x84\\xc0\\x13\\xc0\\t\\x003\\x002\\x001\\x000\\x00\\x9a\\x00\\x99\\x00\\x98\\x00\\x97\\x00E\\x00D\\x00C\\x00B\\xc0\\x18\\x004\\x00\\x9b\\x00F\\xc0\\x0e\\xc0\\x04\\x00/\\x00\\x96\\x00A\\x00\\x07\\xc0\\x11\\xc0\\x07\\xc0\\x16\\x00\\x18\\xc0\\x0c\\xc0\\x02\\x00\\x05\\x00\\x04\\xc0\\x12\\xc0\\x08\\x00\\x16\\x00\\x13\\x00\\x10\\x00\\r\\xc0\\x17\\x00\\x1b\\xc0\\r\\xc0\\x03\\x00\\n\\x00\\x15\\x00\\x12\\x00\\x0f\\x00\\x0c\\x00\\x1a\\x00\\t\\x00\\x14\\x00\\x11\\x00\\x19\\x00\\x08\\x00\\x06\\x00\\x17\\x00\\x03\\xc0\\x10\\xc0\\x06']\n",
      "Bad pipe message: %s [b's\\xb8*Q\\xebeJ\\x13\\xdaN\\xa1Dvb\\x93\"\\x90U\\x00\\x00>\\xc0']\n",
      "Bad pipe message: %s [b'\\n\\x009\\x008\\x007\\x006\\xc0\\x0f\\xc0\\x05\\x005\\xc0\\x13\\xc0\\t']\n",
      "Bad pipe message: %s [b'p\\xe8\\xaa\\xe2\\xbd.0\\xf1\\xce\\xa7\\xc3\\xa1\\xa4>m;\\xc3\\x8b\\x00\\x00\\xa2\\xc0\\x14\\xc0\\n\\x009\\x008\\x007\\x006\\x00\\x88\\x00\\x87\\x00\\x86\\x00\\x85\\xc0\\x19\\x00:\\x00\\x89\\xc0\\x0f\\xc0\\x05\\x005\\x00\\x84\\xc0\\x13\\xc0\\t\\x003\\x002\\x001\\x000\\x00\\x9a\\x00\\x99\\x00\\x98\\x00\\x97\\x00E\\x00D\\x00C\\x00B\\xc0\\x18\\x004\\x00\\x9b\\x00F\\xc0\\x0e\\xc0\\x04\\x00/\\x00\\x96\\x00A\\x00\\x07\\xc0\\x11\\xc0\\x07\\xc0\\x16\\x00\\x18\\xc0\\x0c\\xc0\\x02\\x00\\x05\\x00\\x04\\xc0\\x12\\xc0\\x08\\x00\\x16\\x00\\x13\\x00\\x10\\x00\\r\\xc0\\x17\\x00\\x1b\\xc0\\r\\xc0\\x03\\x00\\n\\x00\\x15\\x00\\x12\\x00\\x0f\\x00\\x0c\\x00\\x1a\\x00\\t\\x00\\x14\\x00\\x11\\x00\\x19\\x00\\x08\\x00\\x06\\x00\\x17\\x00\\x03\\xc0\\x10\\xc0\\x06\\xc0\\x15\\xc0\\x0b\\xc0\\x01\\x00\\x02\\x00\\x01\\x00\\xff\\x02\\x01\\x00\\x00C\\x00\\x00\\x00\\x0e\\x00\\x0c\\x00\\x00\\t127.0.0.1\\x00\\x0b\\x00\\x04\\x03\\x00\\x01\\x02\\x00\\n\\x00\\x1c\\x00\\x1a\\x00\\x17\\x00\\x19\\x00\\x1c\\x00\\x1b\\x00\\x18\\x00']\n",
      "Bad pipe message: %s [b'\\x16\\x00\\x0e\\x00\\r\\x00\\x0b\\x00\\x0c\\x00\\t\\x00\\n\\x00#\\x00\\x00\\x00\\x0f\\x00\\x01\\x01\\x15\\x03\\x01']\n",
      "Bad pipe message: %s [b\"\\xe6\\x83\\xccb\\xcf\\xe6\\xe9~\\x1c z\\x11v\\x8d\\x87\\x88'\\x1b\\x00\\x00\\xa2\\xc0\\x14\\xc0\\n\\x009\\x008\\x007\\x006\\x00\\x88\\x00\\x87\\x00\\x86\\x00\\x85\\xc0\\x19\\x00:\\x00\\x89\\xc0\\x0f\\xc0\\x05\\x005\\x00\\x84\\xc0\\x13\\xc0\\t\\x003\\x002\\x001\\x000\\x00\\x9a\\x00\\x99\\x00\\x98\\x00\\x97\\x00E\\x00D\\x00C\\x00B\\xc0\\x18\\x004\\x00\\x9b\\x00F\\xc0\\x0e\\xc0\\x04\\x00/\\x00\\x96\\x00A\\x00\\x07\\xc0\\x11\\xc0\\x07\\xc0\\x16\\x00\\x18\\xc0\\x0c\\xc0\\x02\\x00\\x05\\x00\\x04\\xc0\\x12\\xc0\\x08\\x00\\x16\\x00\\x13\\x00\\x10\\x00\\r\\xc0\\x17\\x00\\x1b\\xc0\\r\\xc0\\x03\\x00\\n\\x00\\x15\\x00\\x12\\x00\\x0f\\x00\\x0c\\x00\\x1a\\x00\", b'\\x14\\x00\\x11\\x00\\x19\\x00\\x08\\x00']\n",
      "Bad pipe message: %s [b'\\x17\\x00\\x03\\xc0\\x10']\n",
      "Bad pipe message: %s [b\"E\\xa8C\\x96Z\\x83\\xd0\\xa5\\xf2\\x93*,5\\xcd\\x92\\xee\\x11\\xd0\\x00\\x00\\x86\\xc00\\xc0,\\xc0(\\xc0$\\xc0\\x14\\xc0\\n\\x00\\xa5\\x00\\xa3\\x00\\xa1\\x00\\x9f\\x00k\\x00j\\x00i\\x00h\\x009\\x008\\x007\\x006\\xc02\\xc0.\\xc0*\\xc0&\\xc0\\x0f\\xc0\\x05\\x00\\x9d\\x00=\\x005\\xc0/\\xc0+\\xc0'\\xc0#\\xc0\\x13\\xc0\\t\\x00\\xa4\\x00\\xa2\\x00\\xa0\\x00\\x9e\\x00g\\x00@\\x00?\\x00>\\x003\\x002\\x001\\x000\\xc01\\xc0-\\xc0)\\xc0%\\xc0\\x0e\\xc0\\x04\\x00\\x9c\\x00<\\x00/\\x00\\x9a\\x00\\x99\\x00\\x98\\x00\\x97\\x00\\x96\\x00\\x07\\xc0\\x11\\xc0\\x07\\xc0\\x0c\\xc0\\x02\\x00\\x05\\x00\\x04\\x00\\xff\\x02\\x01\\x00\\x00g\\x00\\x00\\x00\\x0e\\x00\\x0c\\x00\\x00\\t\", b'7.0.0.1\\x00\\x0b\\x00\\x04\\x03\\x00\\x01\\x02\\x00\\n\\x00\\x1c\\x00\\x1a\\x00\\x17\\x00\\x19\\x00\\x1c\\x00\\x1b\\x00\\x18\\x00\\x1a\\x00\\x16\\x00\\x0e\\x00\\r\\x00\\x0b\\x00\\x0c\\x00\\t\\x00\\n\\x00']\n",
      "Bad pipe message: %s [b'\\x00\\x00\\r\\x00 \\x00\\x1e\\x06\\x01\\x06\\x02\\x06\\x03\\x05\\x01\\x05\\x02\\x05\\x03\\x04\\x01\\x04\\x02\\x04\\x03\\x03\\x01\\x03\\x02\\x03\\x03\\x02\\x01\\x02']\n",
      "Bad pipe message: %s [b'\\x03']\n"
     ]
    }
   ],
   "source": [
    "hnsw_configs = ['maxConnections', 'efConstruction', 'ef']\n",
    "{k:v for k,v in client.show_class_config(class_name)['vectorIndexConfig'].items() if k in hnsw_configs}"
   ]
  },
  {
   "cell_type": "code",
   "execution_count": 9,
   "id": "803fb04a-9ea0-4478-a07a-8fba7a0bdb4d",
   "metadata": {},
   "outputs": [],
   "source": [
    "client.schema.create(class_config)"
   ]
  },
  {
   "cell_type": "code",
   "execution_count": 10,
   "id": "45577fab-0176-4823-a4f7-2e1a7660e12d",
   "metadata": {},
   "outputs": [],
   "source": [
    "indexer = WeaviateIndexer(client, batch_size=200, num_workers=4)"
   ]
  },
  {
   "cell_type": "code",
   "execution_count": 11,
   "id": "67a5b7a8-fde1-4404-98ac-f562b2b4106c",
   "metadata": {},
   "outputs": [
    {
     "name": "stderr",
     "output_type": "stream",
     "text": [
      "100%|█████████████████████████████████████████████████████████████████████████████████████████████████████████| 26448/26448 [01:30<00:00, 291.10it/s]\n"
     ]
    },
    {
     "name": "stdout",
     "output_type": "stream",
     "text": [
      "Batch job completed in 1.57 minutes.\n",
      "{'class': 'NEW_FT_INDEX', 'name': 'Vfnhci7XhOpE', 'objectCount': 26448, 'vectorIndexingStatus': 'READY', 'vectorQueueLength': 0}\n"
     ]
    }
   ],
   "source": [
    "indexer.batch_index_data(data, class_name)"
   ]
  },
  {
   "cell_type": "code",
   "execution_count": null,
   "id": "d6dbca2e-d0c1-4e5a-8eb0-a98f39ed08a3",
   "metadata": {},
   "outputs": [],
   "source": []
  }
 ],
 "metadata": {
  "kernelspec": {
   "display_name": "openai",
   "language": "python",
   "name": "openai"
  },
  "language_info": {
   "codemirror_mode": {
    "name": "ipython",
    "version": 3
   },
   "file_extension": ".py",
   "mimetype": "text/x-python",
   "name": "python",
   "nbconvert_exporter": "python",
   "pygments_lexer": "ipython3",
   "version": "3.10.13"
  }
 },
 "nbformat": 4,
 "nbformat_minor": 5
}
