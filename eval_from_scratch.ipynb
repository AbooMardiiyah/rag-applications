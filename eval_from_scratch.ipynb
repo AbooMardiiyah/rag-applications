{
 "cells": [
  {
   "cell_type": "code",
   "execution_count": 148,
   "id": "68f03b28-68e1-45c5-9ec0-99d9a32d0392",
   "metadata": {},
   "outputs": [],
   "source": [
    "from preprocessing import FileIO\n",
    "from typing import List, Any, Dict, Tuple\n",
    "from llama_index.evaluation import generate_question_context_pairs, generate_qa_embedding_pairs\n",
    "from openai_interface import GPT_Turbo\n",
    "import openai\n",
    "from opensearch_interface import OpenSearchClient\n",
    "from reranker import ReRanker\n",
    "from index_templates import youtube_body\n",
    "import json\n",
    "from math import ceil\n",
    "import time\n",
    "from tqdm import tqdm"
   ]
  },
  {
   "cell_type": "markdown",
   "id": "959bb049-ca24-42ef-9458-72fb687fe27d",
   "metadata": {},
   "source": [
    "### Ingest data"
   ]
  },
  {
   "cell_type": "code",
   "execution_count": 102,
   "id": "3e61a946-f5b2-4a7e-80b6-1dc5bdaa4cb5",
   "metadata": {},
   "outputs": [
    {
     "name": "stdout",
     "output_type": "stream",
     "text": [
      "Shape of data: (37007, 16)\n",
      "Memory Usage: 4.27+ MB\n"
     ]
    }
   ],
   "source": [
    "data_path = './data/impact_theory_gte_196.parquet'\n",
    "data = FileIO().load_parquet(data_path)"
   ]
  },
  {
   "cell_type": "markdown",
   "id": "88a130cd-03de-4390-9882-3189c2ca9384",
   "metadata": {},
   "source": [
    "### Randomly select 100 chunks for Q/A pairs"
   ]
  },
  {
   "cell_type": "code",
   "execution_count": 103,
   "id": "c379516f-ee58-4445-8d2e-0ec8241bb676",
   "metadata": {},
   "outputs": [],
   "source": [
    "import random"
   ]
  },
  {
   "cell_type": "code",
   "execution_count": 104,
   "id": "13b33379-f58b-45d9-9c72-d31f0537149b",
   "metadata": {},
   "outputs": [],
   "source": [
    "def sample_data(data: List[dict], sample_size: int):\n",
    "    sample = random.sample(data, sample_size)\n",
    "    contents = [(d['doc_id'], d['content']) for d in sample]\n",
    "    return contents"
   ]
  },
  {
   "cell_type": "code",
   "execution_count": 105,
   "id": "a8dc7bf0-8f53-4603-ba22-d05a7a6dd82f",
   "metadata": {},
   "outputs": [],
   "source": [
    "def get_meta(sample: List[dict], key: str=\"doc_id\") -> List[Any]:\n",
    "    return [d[key] for d in sample]"
   ]
  },
  {
   "cell_type": "code",
   "execution_count": 106,
   "id": "a89f27c6-87ca-4481-a74d-b11044a1ece5",
   "metadata": {},
   "outputs": [],
   "source": [
    "def get_sample(doc_id: str, corpus: List[dict], full_dict: bool=False):\n",
    "    result = [d for d in corpus if d['doc_id'] == doc_id][0]\n",
    "    if full_dict: return result\n",
    "    else: return result['content']"
   ]
  },
  {
   "cell_type": "code",
   "execution_count": 107,
   "id": "71526d96-b5d4-4ce0-8e18-5b5c64eea9c8",
   "metadata": {},
   "outputs": [
    {
     "data": {
      "text/plain": [
       "\"that would be nice if we all thought that way But of course, there's this primitive mind that we talked about which is this part of your brain that is not wired for truth it's wired for survival in 50,000 BC and what that often meant was agreeing with The sacred beliefs of your tribe and believing them and the people who could believe what the tribe believed With full conviction they survived. Well, they were you know, they were on the in-group they fit in and that's what was needed What's up, guys?\""
      ]
     },
     "execution_count": 107,
     "metadata": {},
     "output_type": "execute_result"
    }
   ],
   "source": [
    "get_sample('kE3yryW-FiE_33', data)"
   ]
  },
  {
   "cell_type": "code",
   "execution_count": 108,
   "id": "8bda73ab-2994-4ce6-83c3-9b6aefcd8e6c",
   "metadata": {},
   "outputs": [],
   "source": [
    "def strip_numbers(query: str):\n",
    "    return query[3:].strip()"
   ]
  },
  {
   "cell_type": "code",
   "execution_count": 109,
   "id": "4919dee7-a38d-4c82-9cc6-ed9a58b9bf75",
   "metadata": {},
   "outputs": [],
   "source": [
    "def process_questions(question_tuples: List[tuple]) -> List[tuple]:\n",
    "    question_dict = {}\n",
    "    for tup in question_tuples:\n",
    "        doc_id = tup[0]\n",
    "        questions = tup[1].split('\\n')\n",
    "        questions = [strip_numbers(q) for q in questions]\n",
    "        question_dict[doc_id] = questions\n",
    "    return question_dict"
   ]
  },
  {
   "cell_type": "code",
   "execution_count": 112,
   "id": "53289eed-4590-4c30-a840-30c329ecb02a",
   "metadata": {},
   "outputs": [],
   "source": [
    "def generate_dataset(data: List[dict], num_questions: int=100, batch_size: int=50):\n",
    "    gpt = GPT_Turbo()\n",
    "    if batch_size > 50:\n",
    "        raise ValueError('Due to OpenAI rate limits, batch_size cannot be greater than 50')\n",
    "        \n",
    "    sample = sample_data(data, num_questions)\n",
    "    batches = ceil(num_questions/batch_size)\n",
    "    all_questions = []\n",
    "    for n in range(batches):\n",
    "        batch = sample[n*batch_size:(n+1)*batch_size]\n",
    "        questions = gpt.batch_generate_question_context_pairs(batch, filepath='./data/100_questions.txt')\n",
    "        all_questions.append(questions)\n",
    "        if n < batches - 1:\n",
    "            print('Pausing for 60 seconds due to OpenAI rate limits...')\n",
    "            time.sleep(60)\n",
    "    all_questions = [tup for batch in all_questions for tup in batch]\n",
    "    processed_questions = process_questions(all_questions)\n",
    "    return processed_questions"
   ]
  },
  {
   "cell_type": "code",
   "execution_count": 113,
   "id": "20b797f1-2642-4285-86d1-cb197a9811c1",
   "metadata": {},
   "outputs": [
    {
     "name": "stderr",
     "output_type": "stream",
     "text": [
      "100%|██████████████████████████████████████████████████████████████████████████████████████████████████████████████████████████████████████████████████████| 50/50 [00:05<00:00,  9.13Generated Questions/s]\n"
     ]
    },
    {
     "name": "stdout",
     "output_type": "stream",
     "text": [
      "Pausing for 60 seconds due to OpenAI rate limits...\n"
     ]
    },
    {
     "name": "stderr",
     "output_type": "stream",
     "text": [
      "100%|██████████████████████████████████████████████████████████████████████████████████████████████████████████████████████████████████████████████████████| 50/50 [00:05<00:00,  9.53Generated Questions/s]\n"
     ]
    },
    {
     "name": "stdout",
     "output_type": "stream",
     "text": [
      "Pausing for 60 seconds due to OpenAI rate limits...\n"
     ]
    }
   ],
   "source": [
    "dataset = generate_dataset(data)"
   ]
  },
  {
   "cell_type": "code",
   "execution_count": 129,
   "id": "a440bd3e-1223-41c4-ad1a-0120273d9b1f",
   "metadata": {},
   "outputs": [],
   "source": [
    "osclient = OpenSearchClient(model_name_or_path='/home/elastic/notebooks/vector_search_applications/models/gte-base/')\n",
    "reranker = ReRanker()"
   ]
  },
  {
   "cell_type": "code",
   "execution_count": 117,
   "id": "8fd43eef-e71d-4713-8664-6ebd14f076f0",
   "metadata": {},
   "outputs": [],
   "source": [
    "query = 'how to define success'\n",
    "kw_index = 'kw-impact-theory-196'\n",
    "vec_index = 'semantic-impact-theory-196'"
   ]
  },
  {
   "cell_type": "code",
   "execution_count": 118,
   "id": "025daba0-a2f7-4772-85dc-8663a6c4eef4",
   "metadata": {},
   "outputs": [
    {
     "name": "stderr",
     "output_type": "stream",
     "text": [
      "\u001b[32m2023-10-13 18:33:49.922\u001b[0m | \u001b[1mINFO    \u001b[0m | \u001b[36mopensearch_interface\u001b[0m:\u001b[36m_deduplicate_results\u001b[0m:\u001b[36m319\u001b[0m - \u001b[1mDuplicate Hit: y8bwEgCcOXs_50 on index semantic-impact-theory-196\u001b[0m\n",
      "\u001b[32m2023-10-13 18:33:49.923\u001b[0m | \u001b[1mINFO    \u001b[0m | \u001b[36mopensearch_interface\u001b[0m:\u001b[36m_deduplicate_results\u001b[0m:\u001b[36m319\u001b[0m - \u001b[1mDuplicate Hit: 5m81Qsw0gLw_4 on index semantic-impact-theory-196\u001b[0m\n",
      "\u001b[32m2023-10-13 18:33:49.923\u001b[0m | \u001b[1mINFO    \u001b[0m | \u001b[36mopensearch_interface\u001b[0m:\u001b[36m_deduplicate_results\u001b[0m:\u001b[36m319\u001b[0m - \u001b[1mDuplicate Hit: govmnjHxMUc_13 on index semantic-impact-theory-196\u001b[0m\n",
      "\u001b[32m2023-10-13 18:33:49.924\u001b[0m | \u001b[1mINFO    \u001b[0m | \u001b[36mopensearch_interface\u001b[0m:\u001b[36m_deduplicate_results\u001b[0m:\u001b[36m319\u001b[0m - \u001b[1mDuplicate Hit: JNbUb6FOEKw_0 on index semantic-impact-theory-196\u001b[0m\n",
      "\u001b[32m2023-10-13 18:33:49.924\u001b[0m | \u001b[1mINFO    \u001b[0m | \u001b[36mopensearch_interface\u001b[0m:\u001b[36m_deduplicate_results\u001b[0m:\u001b[36m319\u001b[0m - \u001b[1mDuplicate Hit: Vs7KtoS0eKI_90 on index semantic-impact-theory-196\u001b[0m\n",
      "\u001b[32m2023-10-13 18:33:49.925\u001b[0m | \u001b[1mINFO    \u001b[0m | \u001b[36mopensearch_interface\u001b[0m:\u001b[36m_deduplicate_results\u001b[0m:\u001b[36m319\u001b[0m - \u001b[1mDuplicate Hit: 5m81Qsw0gLw_22 on index semantic-impact-theory-196\u001b[0m\n"
     ]
    },
    {
     "data": {
      "text/plain": [
       "44"
      ]
     },
     "execution_count": 118,
     "metadata": {},
     "output_type": "execute_result"
    }
   ],
   "source": [
    "kw = osclient.keyword_search(query, kw_index, 25)\n",
    "vec = osclient.vector_search(query, vec_index, 25)\n",
    "hybrid = osclient.hybrid_search(query, kw_index, vec_index)\n",
    "len(hybrid)"
   ]
  },
  {
   "cell_type": "code",
   "execution_count": 119,
   "id": "d4d24e14-e0a4-44c1-92f4-aa99b3b49000",
   "metadata": {},
   "outputs": [
    {
     "data": {
      "text/plain": [
       "29"
      ]
     },
     "execution_count": 119,
     "metadata": {},
     "output_type": "execute_result"
    }
   ],
   "source": [
    "ranked_results = reranker.rerank(hybrid, query, top_k=5, threshold=0)\n",
    "len(ranked_results)"
   ]
  },
  {
   "cell_type": "code",
   "execution_count": 161,
   "id": "255bdabd-770e-4b12-8bd8-54e5cdc64f77",
   "metadata": {},
   "outputs": [],
   "source": [
    "def get_results(dataset: Dict[str, List[str]], \n",
    "                kw_index_name: str, \n",
    "                vector_index_name: str, \n",
    "                response_size: int, \n",
    "                top_k: int=None,\n",
    "                record_result: bool=True\n",
    "               ) -> Tuple[int, int, int, int, int]:\n",
    "    \n",
    "    #set recall counters for hit counts\n",
    "    top_k = top_k if top_k else response_size + 1\n",
    "    kw_recall = 0\n",
    "    vector_recall = 0\n",
    "    hybrid_recall = 0\n",
    "    ranked_recall = 0\n",
    "    total_questions = 0\n",
    "    \n",
    "    for doc_id, questions in tqdm(dataset.items(), 'Questions'):\n",
    "        for q in questions:\n",
    "            total_questions += 1\n",
    "            \n",
    "            #make calls to OpenSearch host of: Keyword, Vector, and Hybrid\n",
    "            kw_response = osclient.keyword_search(query=q, index=kw_index_name, size=response_size)\n",
    "            vector_response = osclient.vector_search(query=q, index=vector_index_name, size=response_size)\n",
    "            hybrid_response = osclient.hybrid_search(q, kw_index_name, vector_index_name, kw_size=response_size, vec_size=response_size)\n",
    "\n",
    "            #collect doc_ids to check for document matches (include only top_k if top_k > 0)\n",
    "            kw_doc_ids = [res['_source']['doc_id'] for res in kw_response][:top_k]\n",
    "            vector_doc_ids = [res['_source']['doc_id'] for res in vector_response][:top_k]\n",
    "            hybrid_doc_ids = [res['_source']['doc_id'] for res in hybrid_response]\n",
    "            \n",
    "            #rerank hybrid results for improved recall\n",
    "            ranked_results = reranker.rerank(hybrid_response, q, top_k=top_k)\n",
    "            ranked_doc_ids = [res['_source']['doc_id'] for res in ranked_results]\n",
    "            \n",
    "            #increment recall counters as appropriate\n",
    "            if doc_id in kw_doc_ids:\n",
    "                kw_recall += 1\n",
    "            if doc_id in vector_doc_ids:\n",
    "                vector_recall += 1\n",
    "            if doc_id in hybrid_doc_ids:\n",
    "                hybrid_recall += 1\n",
    "            if doc_id in ranked_doc_ids:\n",
    "                ranked_recall += 1\n",
    "                \n",
    "    #write results to output file\n",
    "    if record_result:\n",
    "        with open('./data/retrieval_evalution_196.txt', 'a') as f:\n",
    "            statement = f'n={response_size} -->\\\n",
    "            \\tKeyword: {kw_recall}/{total_questions} = {round(kw_recall/total_questions,2)}\\\n",
    "            \\t\\tVector: {vector_recall}/{total_questions} = {round(vector_recall/total_questions,2)}\\\n",
    "            \\t\\tHybrid: {hybrid_recall}/{total_questions} = {round(hybrid_recall/total_questions,2)}\\\n",
    "            \\t\\tRanked: {ranked_recall}/{total_questions} = {round(ranked_recall/total_questions,2)}'\n",
    "            f.write(statement)\n",
    "            f.write('\\n')\n",
    "            print(statement)\n",
    "    return kw_recall, vector_recall, hybrid_recall, ranked_recall, total_questions\n",
    "        "
   ]
  },
  {
   "cell_type": "code",
   "execution_count": 164,
   "id": "864cb7bc-6c60-4f0b-a15a-37c440f3fdca",
   "metadata": {},
   "outputs": [
    {
     "name": "stderr",
     "output_type": "stream",
     "text": [
      "Questions: 100%|██████████████████████████████████████████████████████████████████████████████████████████████████████████████████████████████████████████████████████████| 100/100 [00:29<00:00,  3.34it/s]\n"
     ]
    },
    {
     "name": "stdout",
     "output_type": "stream",
     "text": [
      "n=60 -->            \tKeyword: 139/200 = 0.69            \t\tVector: 132/200 = 0.66            \t\tHybrid: 174/200 = 0.87            \t\tRanked: 167/200 = 0.83\n"
     ]
    },
    {
     "name": "stderr",
     "output_type": "stream",
     "text": [
      "Questions: 100%|██████████████████████████████████████████████████████████████████████████████████████████████████████████████████████████████████████████████████████████| 100/100 [00:31<00:00,  3.19it/s]\n"
     ]
    },
    {
     "name": "stdout",
     "output_type": "stream",
     "text": [
      "n=70 -->            \tKeyword: 139/200 = 0.69            \t\tVector: 132/200 = 0.66            \t\tHybrid: 175/200 = 0.88            \t\tRanked: 168/200 = 0.84\n"
     ]
    },
    {
     "name": "stderr",
     "output_type": "stream",
     "text": [
      "Questions: 100%|██████████████████████████████████████████████████████████████████████████████████████████████████████████████████████████████████████████████████████████| 100/100 [00:32<00:00,  3.04it/s]\n"
     ]
    },
    {
     "name": "stdout",
     "output_type": "stream",
     "text": [
      "n=80 -->            \tKeyword: 139/200 = 0.69            \t\tVector: 132/200 = 0.66            \t\tHybrid: 176/200 = 0.88            \t\tRanked: 168/200 = 0.84\n"
     ]
    },
    {
     "name": "stderr",
     "output_type": "stream",
     "text": [
      "Questions: 100%|██████████████████████████████████████████████████████████████████████████████████████████████████████████████████████████████████████████████████████████| 100/100 [00:34<00:00,  2.93it/s]\n"
     ]
    },
    {
     "name": "stdout",
     "output_type": "stream",
     "text": [
      "n=90 -->            \tKeyword: 139/200 = 0.69            \t\tVector: 132/200 = 0.66            \t\tHybrid: 176/200 = 0.88            \t\tRanked: 168/200 = 0.84\n"
     ]
    },
    {
     "name": "stderr",
     "output_type": "stream",
     "text": [
      "Questions: 100%|██████████████████████████████████████████████████████████████████████████████████████████████████████████████████████████████████████████████████████████| 100/100 [00:35<00:00,  2.78it/s]"
     ]
    },
    {
     "name": "stdout",
     "output_type": "stream",
     "text": [
      "n=100 -->            \tKeyword: 139/200 = 0.69            \t\tVector: 132/200 = 0.66            \t\tHybrid: 176/200 = 0.88            \t\tRanked: 167/200 = 0.83\n"
     ]
    },
    {
     "name": "stderr",
     "output_type": "stream",
     "text": [
      "\n"
     ]
    }
   ],
   "source": [
    "kw_index = 'kw-impact-theory-196'\n",
    "sem_index = 'semantic-impact-theory-196'\n",
    "chunk_size = 196\n",
    "\n",
    "for x in range(60,110,10):\n",
    "    results = get_results(dataset, kw_index, sem_index, x, top_k=10)\n",
    "    "
   ]
  },
  {
   "cell_type": "code",
   "execution_count": 171,
   "id": "662029e2-d7b0-431c-b674-8ca4f9e8bd2a",
   "metadata": {},
   "outputs": [],
   "source": [
    "queries = ['What is the importance of having clarity in life?','How specific should one be when setting goals?']"
   ]
  },
  {
   "cell_type": "code",
   "execution_count": 174,
   "id": "2dce43cc-9dc2-4b37-a37f-3a54b210f8fa",
   "metadata": {},
   "outputs": [],
   "source": [
    "# get_sample(doc_id='9aRy7DZ0Ek4_1', corpus=data, full_dict=True)"
   ]
  },
  {
   "cell_type": "code",
   "execution_count": 175,
   "id": "0a1dc605-0862-4115-9bb5-48dcdd75233a",
   "metadata": {},
   "outputs": [
    {
     "data": {
      "text/plain": [
       "[{'_index': 'kw-impact-theory-196',\n",
       "  '_id': '_8CUJIsBbbW07Kw5qBDk',\n",
       "  '_score': 14.765857,\n",
       "  '_source': {'length': 12406,\n",
       "   'episode_num': 372,\n",
       "   'title': 'Turning Boys Into Men: How To Stop Being WEAK & Become A 1% Man  | Tom Bilyeu',\n",
       "   'thumbnail_url': 'https://i.ytimg.com/vi/WhLdpjZjUrw/hq720.jpg',\n",
       "   'doc_id': 'WhLdpjZjUrw_70',\n",
       "   'publish_date': '06-29-2023',\n",
       "   'content': \"Everything will relent to your superior will. Everything will relent to your superior will. Never forget that. The reason most people fail to achieve their goals is twofold. Number one, they don't have a sufficient level of clarity. And number two, they don't want it badly enough. The statistic is that 92% of all people that set a New Year's resolution fail to stick with it. The way that you go from being in the 92% to being in the 8% is by having a freakish level of clarity and building so much desire in your life that nothing could stop you even if it tried. This is what you need to do. The clarity piece is really the most important thing that you can have in your life. And most people have a really vague sense of clarity, but because they can say in a sentence, something like, I'm gonna win a gold medal.\",\n",
       "   'views': 89827,\n",
       "   'video_id': 'WhLdpjZjUrw'}},\n",
       " {'_index': 'kw-impact-theory-196',\n",
       "  '_id': 'asCUJIsBbbW07Kw5rXg8',\n",
       "  '_score': 13.266251,\n",
       "  '_source': {'length': 2418,\n",
       "   'episode_num': 110,\n",
       "   'title': 'How to Start Over When You Don’t Know What to Do | Allison Maslan on Impact Theory',\n",
       "   'thumbnail_url': 'https://i.ytimg.com/vi/Xhw6loEFvk4/hq720.jpg',\n",
       "   'doc_id': 'Xhw6loEFvk4_26',\n",
       "   'publish_date': '02-19-2019',\n",
       "   'content': \"That feels good. Yeah, getting in that alignment is really important. I know that you walk people through how to create that clarity in their life. How do you help people with that? And what can somebody watching now, what kind of process can they go through to get the level of clarity that they're going to need? Yeah, so it obviously depends on what type of clarity they're looking for. But I really like to give people the space to do that. I think that if we're pushing it and pushing it and searching, it doesn't always come. So when you can get yourself into a creative space, like when you're a kid and you're just playing and having fun, you are who you are. You are in alignment. You're not doing it because you have responsibilities or you have demands or you're going to feel guilty if you don't do it.\",\n",
       "   'views': 222936,\n",
       "   'video_id': 'Xhw6loEFvk4'}},\n",
       " {'_index': 'kw-impact-theory-196',\n",
       "  '_id': 'ZcCUJIsBbbW07Kw5r4bY',\n",
       "  '_score': 13.2406,\n",
       "  '_source': {'length': 3082,\n",
       "   'episode_num': 55,\n",
       "   'title': 'The Keys to a Good Life | Ryan Holiday on Impact Theory',\n",
       "   'thumbnail_url': 'https://i.ytimg.com/vi/QqaU5TQw_i4/hq720.jpg',\n",
       "   'doc_id': 'QqaU5TQw_i4_20',\n",
       "   'publish_date': '01-16-2018',\n",
       "   'content': \"I love that notion of asking yourself what success looks like for you and having that clarity. And how important is that clarity, do you think, for people that want to be successful? Like how much of this is you start with a goal that is abundantly clear and then you create a path? I think one of the things that has really helped me make some of the decisions we were talking about earlier is, what is like an ideal day of your life look like? Like maybe not right now, but like what do you want a day in your life to look like? And so if that day is like, look, I'm the kind of person, I love going to an office, I love lots of responsibility, I love lots of pressure, I thrive in that environment. Well, then great, you know that that's where you want it.\",\n",
       "   'views': 303854,\n",
       "   'video_id': 'QqaU5TQw_i4'}},\n",
       " {'_index': 'kw-impact-theory-196',\n",
       "  '_id': 'qMCUJIsBbbW07Kw5r4TY',\n",
       "  '_score': 13.106515,\n",
       "  '_source': {'length': 3107,\n",
       "   'episode_num': 56,\n",
       "   'title': 'How to Get Clarity in Your Life | Rob Dyrdek on Impact Theory',\n",
       "   'thumbnail_url': 'https://i.ytimg.com/vi/z1fXr4ORF54/hq720.jpg',\n",
       "   'doc_id': 'z1fXr4ORF54_55',\n",
       "   'publish_date': '01-23-2018',\n",
       "   'content': \"I was like, there's no universe in which I don't walk across these fucking coals My thing is what it gave me was a sense of importance there were stakes And so now I could say like with certainty I would walk across fire for my wife because I actually did it and the only reason that I didn't stop myself saying this doesn't Make any sense. Like why am I doing this was because I said that I would do it for is there anything more beautiful than Love, you know, I mean because I think at the core of Even my clarity is that I have a great love, you know,\",\n",
       "   'views': 459330,\n",
       "   'video_id': 'z1fXr4ORF54'}},\n",
       " {'_index': 'kw-impact-theory-196',\n",
       "  '_id': 'yMCUJIsBbbW07Kw5q1Lr',\n",
       "  '_score': 13.011366,\n",
       "  '_source': {'length': 2931,\n",
       "   'episode_num': 259,\n",
       "   'title': 'The STOIC SECRETS That Will Change Your Life FOR GOOD (Nobody Shares This!) | Ryan Holiday',\n",
       "   'thumbnail_url': 'https://i.ytimg.com/vi/ysvw7DiC0dQ/hq720.jpg',\n",
       "   'doc_id': 'ysvw7DiC0dQ_18',\n",
       "   'publish_date': '05-26-2022',\n",
       "   'content': \"And oftentimes, where ego comes in is we've got the things that impress other people and then the real meaningful impact that we're trying to have. And oftentimes, not saying that the status things aren't nice and they're not impressive and they're not cool, but we've got to make sure that they're not coming at the expense of those other things. I love that notion of asking yourself what success looks like for you and having that clarity. And how important is that clarity, do you think, for people that want to be successful? How much of this is you start with a goal that is abundantly clear and then you create a path? I think one of the things that has really helped me make some of the decisions we were talking about earlier is, what does an ideal day of your life look like? Maybe not right now, but what do you want a day in your life to look like?\",\n",
       "   'views': 76222,\n",
       "   'video_id': 'ysvw7DiC0dQ'}},\n",
       " {'_index': 'kw-impact-theory-196',\n",
       "  '_id': 'csCUJIsBbbW07Kw5qjhs',\n",
       "  '_score': 12.943599,\n",
       "  '_source': {'length': 5258,\n",
       "   'episode_num': 311,\n",
       "   'title': 'How To COMPLETELY CHANGE Your Life In 2023 (My Process For Achieving Goals) | Tom Bilyeu',\n",
       "   'thumbnail_url': 'https://i.ytimg.com/vi/9aRy7DZ0Ek4/hq720.jpg',\n",
       "   'doc_id': '9aRy7DZ0Ek4_0',\n",
       "   'publish_date': '01-14-2023',\n",
       "   'content': \"It's become so bizarre in society where we are celebrating people that are not pushing their physical limits. And I'm just telling you right now, I don't pass any moral judgment on anybody that decides that they don't want to do that. But I will tell you 1000% you are holding your life back. The reason most people fail to achieve their goals is twofold. Number one, they don't have a sufficient level of clarity. And number two, they don't want it badly enough. The statistic is that 92% of all people that set a New Year's resolution fail to stick with it. The way that you go from being in the 92% to being in the 8% is by having a freakish level of clarity and building so much desire in your life that nothing could stop you even if it tried. This is what you need to do.\",\n",
       "   'views': 223785,\n",
       "   'video_id': '9aRy7DZ0Ek4'}},\n",
       " {'_index': 'kw-impact-theory-196',\n",
       "  '_id': 'rsCUJIsBbbW07Kw5r4TY',\n",
       "  '_score': 12.80514,\n",
       "  '_source': {'length': 3107,\n",
       "   'episode_num': 56,\n",
       "   'title': 'How to Get Clarity in Your Life | Rob Dyrdek on Impact Theory',\n",
       "   'thumbnail_url': 'https://i.ytimg.com/vi/z1fXr4ORF54/hq720.jpg',\n",
       "   'doc_id': 'z1fXr4ORF54_61',\n",
       "   'publish_date': '01-23-2018',\n",
       "   'content': \"It literally is staggering But if you listen to what he's talking about and especially Listen to that part that he was just saying about what he would teach his kids how to set those micro goals So that it's burning into them the sense of I know what I want I have clarity around that and I know what I need to do I have clarity around that and then it's just about executing to get to that point That is to me exactly what it takes to get the things that you want in life You've got to have that clarity and so that is to sum him up to sum this episode up Everything just revolves around that level of clarity knowing exactly what you want how to get it and then making sure you go after It and do it All right If you guys haven't already Be sure to get clarity in your own life if that is gonna say subscribe but get clarity in your own life motherfuckers So you can go out and crush it and if you haven't already be\",\n",
       "   'views': 459330,\n",
       "   'video_id': 'z1fXr4ORF54'}},\n",
       " {'_index': 'kw-impact-theory-196',\n",
       "  '_id': 'pMCUJIsBbbW07Kw5rXt6',\n",
       "  '_score': 12.752286,\n",
       "  '_source': {'length': 2322,\n",
       "   'episode_num': 96,\n",
       "   'title': 'How to Transform Your Brain | Vishen Lakhiani on Impact Theory',\n",
       "   'thumbnail_url': 'https://i.ytimg.com/vi/Mer5BJzYVG0/hq720.jpg',\n",
       "   'doc_id': 'Mer5BJzYVG0_50',\n",
       "   'publish_date': '10-30-2018',\n",
       "   'content': \"It's ultimately getting clarity on what it is that you want in life, want from life, and then the action plan that you're going to need to take to get there. Is that pretty good? Vikram Patel Perfect. That's amazing. Tom Bilyeu Literally just from knowing him, I'm telling you this is the way his mind works. Dive in. This is what you're going to get from him is an understanding of how much you have to think about your own life. The level of clarity that you have to have just being around him is going to give you that kind of clarity. You're going to start asking the right questions.\",\n",
       "   'views': 566307,\n",
       "   'video_id': 'Mer5BJzYVG0'}},\n",
       " {'_index': 'kw-impact-theory-196',\n",
       "  '_id': '1cCUJIsBbbW07Kw5q1Hr',\n",
       "  '_score': 12.701516,\n",
       "  '_source': {'length': 7056,\n",
       "   'episode_num': 264,\n",
       "   'title': 'The 5 Things BROKE People Do That The Rich DON’T DO | Tom Bilyeu',\n",
       "   'thumbnail_url': 'https://i.ytimg.com/vi/OoGghm0_Q8I/hq720.jpg',\n",
       "   'doc_id': 'OoGghm0_Q8I_63',\n",
       "   'publish_date': '08-11-2022',\n",
       "   'content': \"Right? Yeah. Talk to me about the power of clarity. You're one of the few people that I hear talk about this and I think it's so fucking important. Yeah. Where to start with the power of clarity? We talk about a number of things, right? The power of decision, the power of clarity, the power of gratitude, the power of questions. Most people know what they don't want, but they don't know what they do want. If you say to somebody, what do you want? They'll spend maybe 10 seconds sifting around and then start telling you exactly all the stuff that they don't. It's important to have clarity on what you want to create, to have clarity on the type of partner you want to have in your life, to have clarity on the things that you want to learn. Because I believe that clarity is intimately connected to imagination.\",\n",
       "   'views': 189016,\n",
       "   'video_id': 'OoGghm0_Q8I'}},\n",
       " {'_index': 'kw-impact-theory-196',\n",
       "  '_id': 'hsCUJIsBbbW07Kw5q0yj',\n",
       "  '_score': 12.360634,\n",
       "  '_source': {'length': 7623,\n",
       "   'episode_num': 272,\n",
       "   'title': 'BE UNSHAKABLE: 5 Stoic Habits That Will IMMEDIATELY CHANGE Your Life! | Ryan Holiday',\n",
       "   'thumbnail_url': 'https://i.ytimg.com/vi/XA_vVXGg2h0/hq720.jpg',\n",
       "   'doc_id': 'XA_vVXGg2h0_67',\n",
       "   'publish_date': '09-14-2022',\n",
       "   'content': \"Why don't people pursue things right? And I think fear is obviously a sort of a through line In a lot of people's lives, but I think the idea of the virtues is they're all related to each other But there's not a single situation Of any significance or importance in life that does not call upon At least one of those virtues from us and so to me, it's sort of like uh the lodestar of like What direction you're going in life? Okay, have you thought at all about why having because I think everybody should live by a code Obviously the stokes do you everything that you put out in your book certainly intimates that there's meaning behind that Do you have a sense of what that foundational sort of axiomatic reason to have a code is?\",\n",
       "   'views': 70029,\n",
       "   'video_id': 'XA_vVXGg2h0'}}]"
      ]
     },
     "execution_count": 175,
     "metadata": {},
     "output_type": "execute_result"
    },
    {
     "name": "stderr",
     "output_type": "stream",
     "text": [
      "Bad pipe message: %s [b'.(W\\x11>lW\\xf8\\xc0\\xfd6\\xf7\\xd9\\x1az\\xccP\\x0e \\xf95\\xe0\\xd6uX6\\xb7\\x98\\x12I\\x08&\\xf0\\x15\\xc8\\xd4!\\x1ao\\x0e\\x93/\\xea\\xb3\\xfa\\x94Y\\xed\\x97\\xe1\\xf7\\x00\\x08\\x13\\x02\\x13\\x03\\x13\\x01\\x00\\xff\\x01\\x00\\x00\\x8f\\x00\\x00\\x00\\x0e\\x00\\x0c\\x00\\x00\\t127.0.0.1\\x00\\x0b\\x00\\x04\\x03\\x00\\x01\\x02\\x00\\n\\x00\\x0c\\x00\\n\\x00\\x1d\\x00\\x17\\x00\\x1e\\x00\\x19\\x00\\x18\\x00#\\x00\\x00\\x00\\x16\\x00\\x00\\x00\\x17\\x00\\x00\\x00\\r\\x00\\x1e\\x00\\x1c\\x04\\x03\\x05\\x03\\x06\\x03\\x08\\x07\\x08\\x08\\x08\\t\\x08\\n\\x08\\x0b\\x08\\x04\\x08\\x05\\x08\\x06\\x04\\x01\\x05\\x01\\x06\\x01\\x00+\\x00\\x03\\x02\\x03\\x04\\x00-\\x00\\x02\\x01\\x01\\x003\\x00&\\x00$\\x00\\x1d\\x00 \\xbd\\x14,\\xed\\xdb\\xe9;<\\x10\\x13\\xb54W!t\\xff\\x85\\xff\\x11.\\xe1\\x83\\xa3O.']\n",
      "Bad pipe message: %s [b\"\\x0c\\x0f\\xb8}\\xf9\\xbe\\xb2d\\xad\\xd2\\x06\\xb6\\xb66q\\x9d\\x19\\xd8\\x00\\x00|\\xc0,\\xc00\\x00\\xa3\\x00\\x9f\\xcc\\xa9\\xcc\\xa8\\xcc\\xaa\\xc0\\xaf\\xc0\\xad\\xc0\\xa3\\xc0\\x9f\\xc0]\\xc0a\\xc0W\\xc0S\\xc0+\\xc0/\\x00\\xa2\\x00\\x9e\\xc0\\xae\\xc0\\xac\\xc0\\xa2\\xc0\\x9e\\xc0\\\\\\xc0`\\xc0V\\xc0R\\xc0$\\xc0(\\x00k\\x00j\\xc0#\\xc0'\\x00g\\x00@\\xc0\\n\\xc0\\x14\\x009\\x008\\xc0\\t\\xc0\\x13\\x003\\x002\\x00\\x9d\\xc0\\xa1\\xc0\\x9d\\xc0Q\\x00\\x9c\\xc0\\xa0\\xc0\\x9c\\xc0P\\x00=\\x00<\\x005\\x00/\\x00\\x9a\\x00\\x99\\xc0\\x07\"]\n",
      "Bad pipe message: %s [b'\\xec\\x1a\\xca\\x85fK\\xf2=\\xf7\\x88(=`\\x91.\\x01\\xf2\\xb7\\x00\\x00\\xa6\\xc0,\\xc00\\x00\\xa3\\x00\\x9f\\xcc\\xa9\\xcc\\xa8\\xcc\\xaa\\xc0', b\"\\xad\\xc0\\xa3\\xc0\\x9f\\xc0]\\xc0a\\xc0W\\xc0S\\xc0+\\xc0/\\x00\\xa2\\x00\\x9e\\xc0\\xae\\xc0\\xac\\xc0\\xa2\\xc0\\x9e\\xc0\\\\\\xc0`\\xc0V\\xc0R\\xc0$\\xc0(\\x00k\\x00j\\xc0s\\xc0w\\x00\\xc4\\x00\\xc3\\xc0#\\xc0'\\x00g\\x00@\\xc0r\\xc0v\\x00\\xbe\\x00\\xbd\\xc0\\n\\xc0\\x14\\x009\\x008\\x00\\x88\\x00\\x87\\xc0\\t\\xc0\\x13\\x003\\x002\\x00\\x9a\\x00\\x99\\x00E\\x00D\\xc0\\x07\\xc0\\x11\\xc0\\x08\\xc0\\x12\\x00\\x16\\x00\\x13\\x00\\x9d\\xc0\\xa1\\xc0\\x9d\\xc0Q\\x00\\x9c\\xc0\\xa0\\xc0\\x9c\\xc0P\\x00=\\x00\\xc0\\x00<\\x00\\xba\\x005\\x00\\x84\\x00/\\x00\\x96\\x00A\\x00\\x05\\x00\\n\\x00\\xff\\x01\\x00\\x00j\\x00\\x00\\x00\\x0e\\x00\\x0c\\x00\\x00\\t127.0.0.1\\x00\\x0b\\x00\"]\n",
      "Bad pipe message: %s [b'\\xb5\\xc75C\\xd0\\x84\\xb2\\x83J\\xb5\\xe1\\x94)\\x03\\\\\\xc19c\\x00\\x00>\\xc0\\x14\\xc0\\n\\x009\\x008\\x007\\x006\\xc0\\x0f\\xc0\\x05\\x005\\xc0\\x13\\xc0\\t\\x003\\x002\\x001\\x00']\n",
      "Bad pipe message: %s [b'\\x0e\\xc0\\x04\\x00/\\x00\\x9a\\x00\\x99\\x00\\x98\\x00\\x97\\x00\\x96\\x00\\x07\\xc0\\x11\\xc0\\x07\\xc0\\x0c\\xc0\\x02\\x00\\x05\\x00\\x04\\x00\\xff\\x02\\x01\\x00\\x00C\\x00\\x00\\x00\\x0e\\x00\\x0c\\x00\\x00\\t12']\n",
      "Bad pipe message: %s [b'0.0.1\\x00\\x0b\\x00\\x04\\x03\\x00\\x01\\x02\\x00\\n\\x00\\x1c\\x00\\x1a\\x00\\x17\\x00\\x19\\x00\\x1c\\x00\\x1b\\x00\\x18\\x00\\x1a\\x00\\x16\\x00\\x0e\\x00\\r\\x00\\x0b\\x00\\x0c\\x00\\t\\x00\\n\\x00#\\x00\\x00\\x00\\x0f\\x00\\x01\\x01']\n",
      "Bad pipe message: %s [b'\\xdf\\xc6\\x96\\x86{\\xf2\\x80a@g$\\xba\\xa2e\\xb6Y\\x91\\xb1\\x00\\x00\\xa2\\xc0\\x14\\xc0\\n\\x009\\x008\\x007\\x006\\x00\\x88\\x00\\x87\\x00\\x86\\x00\\x85\\xc0\\x19\\x00:\\x00\\x89\\xc0\\x0f\\xc0\\x05\\x00']\n",
      "Bad pipe message: %s [b'\\x84\\xc0\\x13\\xc0\\t\\x003\\x002\\x001\\x000\\x00\\x9a\\x00\\x99\\x00\\x98\\x00\\x97\\x00E\\x00D\\x00C\\x00B\\xc0\\x18\\x004\\x00\\x9b\\x00F\\xc0\\x0e\\xc0\\x04\\x00/\\x00\\x96\\x00A\\x00\\x07\\xc0\\x11\\xc0']\n",
      "Bad pipe message: %s [b'\\x16\\x00\\x18\\xc0\\x0c\\xc0']\n",
      "Bad pipe message: %s [b'\\x05']\n",
      "Bad pipe message: %s [b'\\x141\\x99Zr5I\\xba?\\x9aZfZ\\xc0\\xdc\\xd6T$\\x00\\x00\\xa2\\xc0\\x14\\xc0\\n\\x009\\x008\\x007']\n",
      "Bad pipe message: %s [b\"\\x9di\\x038/\\xb7\\xa4\\xbe\\xf3g\\xd5\\xaa[q\\xc3\\x81 U\\x00\\x00\\x86\\xc00\\xc0,\\xc0(\\xc0$\\xc0\\x14\\xc0\\n\\x00\\xa5\\x00\\xa3\\x00\\xa1\\x00\\x9f\\x00k\\x00j\\x00i\\x00h\\x009\\x008\\x007\\x006\\xc02\\xc0.\\xc0*\\xc0&\\xc0\\x0f\\xc0\\x05\\x00\\x9d\\x00=\\x005\\xc0/\\xc0+\\xc0'\\xc0#\\xc0\\x13\\xc0\\t\\x00\\xa4\\x00\\xa2\\x00\\xa0\\x00\\x9e\\x00g\\x00@\\x00?\\x00>\\x003\\x002\\x001\\x000\\xc01\\xc0-\\xc0)\\xc0%\\xc0\\x0e\\xc0\\x04\\x00\\x9c\\x00<\\x00/\\x00\\x9a\\x00\\x99\\x00\\x98\\x00\\x97\\x00\\x96\\x00\\x07\\xc0\\x11\\xc0\\x07\\xc0\\x0c\\xc0\\x02\\x00\\x05\\x00\\x04\\x00\\xff\\x02\\x01\\x00\\x00g\\x00\\x00\\x00\\x0e\\x00\\x0c\\x00\\x00\\t127.0.0.1\\x00\\x0b\\x00\\x04\\x03\\x00\\x01\\x02\\x00\\n\\x00\\x1c\\x00\\x1a\\x00\\x17\\x00\\x19\\x00\\x1c\\x00\\x1b\\x00\", b'\\x1a\\x00\\x16\\x00\\x0e\\x00\\r\\x00\\x0b\\x00\\x0c\\x00\\t\\x00\\n\\x00#\\x00\\x00\\x00\\r\\x00 ']\n",
      "Bad pipe message: %s [b'\\xa60=\\x10\\xa1|\\x88\\x93\\xd011\\x10}L\\x10\\xb4\\xc0\\xb0\\x00\\x00\\xf4\\xc00\\xc0,\\xc0', b'$\\xc0\\x14\\xc0\\n\\x00\\xa5\\x00\\xa3\\x00\\xa1\\x00\\x9f\\x00k\\x00j\\x00i\\x00h\\x009\\x008\\x007\\x006\\x00\\x88\\x00\\x87\\x00\\x86\\x00\\x85\\xc0\\x19']\n"
     ]
    }
   ],
   "source": [
    "osclient.keyword_search(queries[0], kw_index)"
   ]
  },
  {
   "cell_type": "code",
   "execution_count": null,
   "id": "7434a73d-33e2-40f6-8d84-d14172082198",
   "metadata": {},
   "outputs": [],
   "source": []
  }
 ],
 "metadata": {
  "kernelspec": {
   "display_name": "openai",
   "language": "python",
   "name": "openai"
  },
  "language_info": {
   "codemirror_mode": {
    "name": "ipython",
    "version": 3
   },
   "file_extension": ".py",
   "mimetype": "text/x-python",
   "name": "python",
   "nbconvert_exporter": "python",
   "pygments_lexer": "ipython3",
   "version": "3.9.17"
  }
 },
 "nbformat": 4,
 "nbformat_minor": 5
}
