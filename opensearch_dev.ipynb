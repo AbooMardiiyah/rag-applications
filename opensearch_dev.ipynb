{
 "cells": [
  {
   "cell_type": "code",
   "execution_count": 34,
   "id": "70785ec1-67c6-4b39-b927-0bf4ac33233f",
   "metadata": {},
   "outputs": [
    {
     "name": "stdout",
     "output_type": "stream",
     "text": [
      "The autoreload extension is already loaded. To reload it, use:\n",
      "  %reload_ext autoreload\n"
     ]
    }
   ],
   "source": [
    "%load_ext autoreload \n",
    "%autoreload 2\n",
    "\n",
    "from youtube_interface import PyTubeClient\n",
    "from reranker import ReRanker\n",
    "from preprocessing import Utilities\n",
    "from opensearch_interface import OpenSearchClient\n",
    "from sentence_transformers import SentenceTransformer\n",
    "from index_templates import youtube_body\n",
    "from typing import List, Union, Dict\n",
    "from reranker import ReRanker\n",
    "import json\n",
    "import os"
   ]
  },
  {
   "cell_type": "code",
   "execution_count": 35,
   "id": "0182fddc-091f-4d2d-bb42-17790cad938e",
   "metadata": {},
   "outputs": [],
   "source": [
    "pytube_client = PyTubeClient('fake')"
   ]
  },
  {
   "cell_type": "code",
   "execution_count": 2,
   "id": "04bf3235-e034-45e8-a933-c8ed4e69ccad",
   "metadata": {},
   "outputs": [],
   "source": [
    "osclient = OpenSearchClient()"
   ]
  },
  {
   "cell_type": "code",
   "execution_count": 3,
   "id": "f508fa91-1588-48e2-8c42-b25178b3ccb8",
   "metadata": {},
   "outputs": [
    {
     "data": {
      "text/plain": [
       "{'name': '7d5740afb0b1',\n",
       " 'cluster_name': 'docker-cluster',\n",
       " 'cluster_uuid': 'u62AiiEFR4yWUStAhyFveg',\n",
       " 'version': {'distribution': 'opensearch',\n",
       "  'number': '2.9.0',\n",
       "  'build_type': 'tar',\n",
       "  'build_hash': '1164221ee2b8ba3560f0ff492309867beea28433',\n",
       "  'build_date': '2023-07-18T21:23:29.367080729Z',\n",
       "  'build_snapshot': False,\n",
       "  'lucene_version': '9.7.0',\n",
       "  'minimum_wire_compatibility_version': '7.10.0',\n",
       "  'minimum_index_compatibility_version': '7.0.0'},\n",
       " 'tagline': 'The OpenSearch Project: https://opensearch.org/'}"
      ]
     },
     "execution_count": 3,
     "metadata": {},
     "output_type": "execute_result"
    }
   ],
   "source": [
    "osclient.info()"
   ]
  },
  {
   "cell_type": "code",
   "execution_count": 4,
   "id": "e8501756-453e-4ff9-8051-b3840a9c1590",
   "metadata": {},
   "outputs": [
    {
     "name": "stdout",
     "output_type": "stream",
     "text": [
      "health status index                        uuid                   pri rep docs.count docs.deleted store.size pri.store.size\n",
      "yellow open   semantic-538-testrun         DjBPg6CdQwKbOGhJrI4YIQ   3   1        284            0      2.9mb          2.9mb\n",
      "yellow open   security-auditlog-2023.09.10 q2UCytHxQXOdDxdpwOeqpA   1   1       1704            0      1.5mb          1.5mb\n",
      "yellow open   test-kw-index                6EF4Q2xDT9Gz1wua5a2IpQ   3   1        158            0      5.6mb          5.6mb\n",
      "yellow open   security-auditlog-2023.09.11 u3bVAn9lRReojRlF0t3sYw   1   1       1704            0      3.3mb          3.3mb\n",
      "yellow open   kw-full                      uNhdaqbnRVuyJci_L1Om8Q   3   1       6678            0     12.1mb         12.1mb\n",
      "yellow open   security-auditlog-2023.09.12 wJoWS1RfSBynSDjh3tV7Mw   1   1       1706            0      3.2mb          3.2mb\n",
      "yellow open   security-auditlog-2023.09.13 RZG3AOK3QkKFGWBgOpzoiQ   1   1        855            0      1.7mb          1.7mb\n",
      "yellow open   semantic-full                ydvbifM0Rcu0DBz-rjCHzQ   3   1       6678            0     74.2mb         74.2mb\n",
      "green  open   .opendistro_security         _QeSqO4CQN2IU8VpE9hnPw   1   0         10            0     75.6kb         75.6kb\n",
      "yellow open   kw-538-testrun               Wam6NsdMR7K5lE8N8ZBTRQ   3   1        284            0    351.4kb        351.4kb\n",
      "yellow open   .plugins-ml-config           IEeXrm-DRiOMm2qzo7PbqA   1   1          1            0      3.9kb          3.9kb\n",
      "green  open   .opensearch-observability    nN299E0QS9OvsRh_UcbJVQ   1   0          0            0       208b           208b\n",
      "yellow open   security-auditlog-2023.09.04 ApPSasK0S7CadlbWroBRYA   1   1        908            0      1.7mb          1.7mb\n",
      "yellow open   security-auditlog-2023.09.05 W9W4NIEZSkGYgLOkM5l_5g   1   1        865            0      1.8mb          1.8mb\n",
      "yellow open   security-auditlog-2023.09.06 EdqJ2NoXS-GBQl-p4UxtkA   1   1       1704            0      3.4mb          3.4mb\n",
      "yellow open   security-auditlog-2023.09.07 xNCCGTZMTzCrRbmRwsrz0g   1   1       1729            0      3.4mb          3.4mb\n",
      "yellow open   security-auditlog-2023.09.08 JG1-ovFFTAiE5n3k40QVYw   1   1       1704            0      3.3mb          3.3mb\n",
      "yellow open   security-auditlog-2023.09.09 2ADFnY0WSs-V3sv17r_Eyg   1   1       1704            0      1.5mb          1.5mb\n",
      "\n"
     ]
    }
   ],
   "source": [
    "osclient.show_indexes()"
   ]
  },
  {
   "cell_type": "code",
   "execution_count": 5,
   "id": "1fd4a934-5473-4c23-93c8-e467353f66bc",
   "metadata": {},
   "outputs": [],
   "source": [
    "data_path = '/home/elastic/notebooks/vector_search_applications/data/impact_theory_with_vectors.json'"
   ]
  },
  {
   "cell_type": "code",
   "execution_count": 6,
   "id": "15b39793-9000-46a8-8288-97643efec4ee",
   "metadata": {},
   "outputs": [],
   "source": [
    "def json_data_loader(file_path: str):\n",
    "    with open(file_path) as f:\n",
    "        data = json.loads(f.read())\n",
    "    return data"
   ]
  },
  {
   "cell_type": "code",
   "execution_count": 7,
   "id": "c827caf0-1961-4ea5-8a79-07e77a193314",
   "metadata": {},
   "outputs": [],
   "source": [
    "data = json_data_loader(data_path)\n",
    "len(data)\n",
    "for d in data:\n",
    "    d['content_embedding'] = d['vector']\n",
    "    del d['vector']"
   ]
  },
  {
   "cell_type": "code",
   "execution_count": 30,
   "id": "aa025d98-9ee3-4fd6-addd-8d17a55df51e",
   "metadata": {},
   "outputs": [
    {
     "data": {
      "text/plain": [
       "['age_restricted',\n",
       " 'author',\n",
       " 'channel_id',\n",
       " 'content',\n",
       " 'content_embedding',\n",
       " 'description',\n",
       " 'episode_num',\n",
       " 'group_id',\n",
       " 'keywords',\n",
       " 'length',\n",
       " 'playlist_id',\n",
       " 'publish_date',\n",
       " 'thumbnail_url',\n",
       " 'title',\n",
       " 'unique_id',\n",
       " 'video_id',\n",
       " 'views']"
      ]
     },
     "execution_count": 30,
     "metadata": {},
     "output_type": "execute_result"
    }
   ],
   "source": [
    "sorted(list(data[0].keys()))"
   ]
  },
  {
   "cell_type": "code",
   "execution_count": 32,
   "id": "6740d481-337c-40fc-a419-93c9082a26a4",
   "metadata": {},
   "outputs": [],
   "source": [
    "def create_video_url(video_id: str, playlist_id: str):\n",
    "    return f'https://www.youtube.com/watch?v={video_id}&list={playlist_id}'"
   ]
  },
  {
   "cell_type": "code",
   "execution_count": 33,
   "id": "95cbdc05-485d-4f0c-b06f-f9ee99205172",
   "metadata": {},
   "outputs": [],
   "source": [
    "for d in data:\n",
    "    videoid = d['video_id']\n",
    "    playlistid = d['playlist_id']\n",
    "    episode_url = create_video_url(videoid, playlistid)\n",
    "    d.update(episode_url=episode_url)"
   ]
  },
  {
   "cell_type": "code",
   "execution_count": 37,
   "id": "6511ef27-6854-4e1e-a7c7-31f1a58dc6f3",
   "metadata": {},
   "outputs": [
    {
     "name": "stderr",
     "output_type": "stream",
     "text": [
      "\u001b[32m2023-09-13 20:37:45.686\u001b[0m | \u001b[1mINFO    \u001b[0m | \u001b[36myoutube_interface\u001b[0m:\u001b[36msave_meta_toJSON\u001b[0m:\u001b[36m195\u001b[0m - \u001b[1mMetadata saved as: /home/elastic/notebooks/vector_search_applications/data/impact_theory_with_vectors.json.\u001b[0m\n"
     ]
    }
   ],
   "source": [
    "pytube_client.save_meta_toJSON(data, out_path='/home/elastic/notebooks/vector_search_applications/data/impact_theory_with_vectors.json')"
   ]
  },
  {
   "cell_type": "markdown",
   "id": "302db923-940b-4ebc-b6c3-7ecc0b68af6e",
   "metadata": {},
   "source": [
    "### KW Indexing"
   ]
  },
  {
   "cell_type": "code",
   "execution_count": 38,
   "id": "e21c8df4-3f07-48c9-b0bb-8d9296b6625e",
   "metadata": {},
   "outputs": [
    {
     "data": {
      "text/plain": [
       "{'settings': {'number_of_shards': 3,\n",
       "  'refresh_interval': '30s',\n",
       "  'index': {'knn': True}},\n",
       " 'mappings': {'properties': {'title': {'type': 'text', 'index': 'true'},\n",
       "   'unique_id': {'type': 'keyword', 'index': 'false'},\n",
       "   'group_id': {'type': 'short', 'index': 'false'},\n",
       "   'video_id': {'type': 'keyword', 'index': 'false'},\n",
       "   'playlist_id': {'type': 'keyword', 'index': 'false'},\n",
       "   'episode_url': {'type': 'keyword', 'index': 'false'},\n",
       "   'episode_num': {'type': 'short', 'index': 'false'},\n",
       "   'description': {'type': 'text', 'index': 'true'},\n",
       "   'length': {'type': 'long', 'index': 'false'},\n",
       "   'publish_date': {'type': 'keyword', 'index': 'false'},\n",
       "   'views': {'type': 'long', 'index': 'false'},\n",
       "   'thumbnail_url': {'type': 'keyword', 'index': 'false'},\n",
       "   'content': {'type': 'text', 'index': 'true'},\n",
       "   'content_embedding': {'type': 'knn_vector', 'dimension': 384}}}}"
      ]
     },
     "execution_count": 38,
     "metadata": {},
     "output_type": "execute_result"
    }
   ],
   "source": [
    "index_name = \"kw-impact-theory\"\n",
    "youtube_body"
   ]
  },
  {
   "cell_type": "code",
   "execution_count": 40,
   "id": "8d25730b-e6bb-4709-a79c-c2f7c55b592a",
   "metadata": {},
   "outputs": [
    {
     "name": "stderr",
     "output_type": "stream",
     "text": [
      "\u001b[32m2023-09-13 20:38:10.661\u001b[0m | \u001b[1mINFO    \u001b[0m | \u001b[36mopensearch_interface\u001b[0m:\u001b[36mdocument_indexer\u001b[0m:\u001b[36m207\u001b[0m - \u001b[1mThe ** kw-impact-theory ** index was created\u001b[0m\n",
      "\u001b[32m2023-09-13 20:38:10.662\u001b[0m | \u001b[1mINFO    \u001b[0m | \u001b[36mopensearch_interface\u001b[0m:\u001b[36mdocument_indexer\u001b[0m:\u001b[36m218\u001b[0m - \u001b[1mThe # of documents to be indexed = 33164\u001b[0m\n"
     ]
    }
   ],
   "source": [
    "osclient.document_indexer(index_name=index_name, data=data, body_template=youtube_body)"
   ]
  },
  {
   "cell_type": "code",
   "execution_count": 44,
   "id": "49eabfba-b5c0-47a2-bed8-36f57cc251b1",
   "metadata": {},
   "outputs": [
    {
     "data": {
      "text/plain": [
       "{'acknowledged': True}"
      ]
     },
     "execution_count": 44,
     "metadata": {},
     "output_type": "execute_result"
    }
   ],
   "source": [
    "osclient.indices.delete(\"security-audit*\")"
   ]
  },
  {
   "cell_type": "code",
   "execution_count": 41,
   "id": "26411860-fcc0-421e-b9da-80a79315aa45",
   "metadata": {},
   "outputs": [
    {
     "data": {
      "text/plain": [
       "{'_shards': {'total': 6, 'successful': 3, 'failed': 0}}"
      ]
     },
     "execution_count": 41,
     "metadata": {},
     "output_type": "execute_result"
    }
   ],
   "source": [
    "osclient.indices.refresh(index=index_name)"
   ]
  },
  {
   "cell_type": "code",
   "execution_count": 48,
   "id": "19268f03-f5f6-45cd-83f6-156e75b2bd4e",
   "metadata": {},
   "outputs": [
    {
     "name": "stdout",
     "output_type": "stream",
     "text": [
      "health status index                        uuid                   pri rep docs.count docs.deleted store.size pri.store.size\n",
      "yellow open   kw-538-testrun               Wam6NsdMR7K5lE8N8ZBTRQ   3   1        284            0    351.4kb        351.4kb\n",
      "green  open   .opensearch-observability    nN299E0QS9OvsRh_UcbJVQ   1   0          0            0       208b           208b\n",
      "yellow open   .plugins-ml-config           IEeXrm-DRiOMm2qzo7PbqA   1   1          1            0      3.9kb          3.9kb\n",
      "yellow open   semantic-538-testrun         DjBPg6CdQwKbOGhJrI4YIQ   3   1        284            0      2.9mb          2.9mb\n",
      "yellow open   kw-impact-theory             2MjMun4bQYOoeUpv5UsJxg   3   1      33164            0     29.4mb         29.4mb\n",
      "yellow open   test-kw-index                6EF4Q2xDT9Gz1wua5a2IpQ   3   1        158            0      5.6mb          5.6mb\n",
      "yellow open   kw-full                      uNhdaqbnRVuyJci_L1Om8Q   3   1       6678            0     12.1mb         12.1mb\n",
      "yellow open   security-auditlog-2023.09.13 nL3pRS4ATEqIiNOxME2lyw   1   1          1            0     15.6kb         15.6kb\n",
      "yellow open   semantic-full                ydvbifM0Rcu0DBz-rjCHzQ   3   1       6678            0     74.2mb         74.2mb\n",
      "green  open   .opendistro_security         _QeSqO4CQN2IU8VpE9hnPw   1   0         10            0     75.6kb         75.6kb\n",
      "\n"
     ]
    }
   ],
   "source": [
    "osclient.show_indexes()"
   ]
  },
  {
   "cell_type": "code",
   "execution_count": 18,
   "id": "db94e029-f0e2-448a-9a09-b92bffc7fa50",
   "metadata": {},
   "outputs": [
    {
     "data": {
      "text/plain": [
       "[{'epoch': '1694636432', 'timestamp': '20:20:32', 'count': '33164'}]"
      ]
     },
     "execution_count": 18,
     "metadata": {},
     "output_type": "execute_result"
    }
   ],
   "source": [
    "osclient.cat.count(index=index_name, format=\"json\")"
   ]
  },
  {
   "cell_type": "code",
   "execution_count": 19,
   "id": "604f7ea4-5468-4d29-8082-f9b70220bd81",
   "metadata": {},
   "outputs": [],
   "source": [
    "def keyword_search(query: str, index: str, size: int=10, return_raw: bool=False):\n",
    "    body = {\n",
    "            \"_source\": ['content','group_id','show_link','video_id','length','publish_date','thumbnail_url','title','views'], \n",
    "            \"size\": size,\n",
    "            \"query\": {\n",
    "                \"bool\": {\n",
    "                    \"must\": {\n",
    "                        \"match\": {\"content\": query,}\n",
    "                            },\n",
    "                        \"filter\": {\"bool\": {\"must_not\": {\"match_phrase\": {\"content\": \"Vishal\"}}}},\n",
    "                    },\n",
    "                },            \n",
    "            }\n",
    "    response = osclient.search(body=body, index=index)\n",
    "    if return_raw: \n",
    "        return response \n",
    "    else: return response['hits']['hits']"
   ]
  },
  {
   "cell_type": "code",
   "execution_count": 21,
   "id": "e9fcc682-43e7-45a5-9d16-0b4c415d4432",
   "metadata": {},
   "outputs": [],
   "source": [
    "query = \"Does trump have support in iowa\""
   ]
  },
  {
   "cell_type": "code",
   "execution_count": 23,
   "id": "2041a312-8ce7-408e-9e3c-682acbdbfd0a",
   "metadata": {},
   "outputs": [],
   "source": [
    "# osclient.keyword_search(query, index=index_name)"
   ]
  },
  {
   "cell_type": "code",
   "execution_count": 29,
   "id": "e7ba2ee9-6483-46e2-bd60-4a803cf31ebe",
   "metadata": {},
   "outputs": [
    {
     "data": {
      "text/plain": [
       "{'kw-impact-theory': {'mappings': {'properties': {'age_restricted': {'type': 'boolean'},\n",
       "    'author': {'type': 'text',\n",
       "     'fields': {'keyword': {'type': 'keyword', 'ignore_above': 256}}},\n",
       "    'channel_id': {'type': 'text',\n",
       "     'fields': {'keyword': {'type': 'keyword', 'ignore_above': 256}}},\n",
       "    'content': {'type': 'text'},\n",
       "    'description': {'type': 'text'},\n",
       "    'episode_num': {'type': 'short', 'index': False},\n",
       "    'episode_url': {'type': 'keyword', 'index': False},\n",
       "    'group_id': {'type': 'short', 'index': False},\n",
       "    'length': {'type': 'long', 'index': False},\n",
       "    'playlist_id': {'type': 'keyword', 'index': False},\n",
       "    'publish_date': {'type': 'keyword', 'index': False},\n",
       "    'thumbnail_url': {'type': 'keyword', 'index': False},\n",
       "    'title': {'type': 'text'},\n",
       "    'unique_id': {'type': 'keyword', 'index': False},\n",
       "    'video_id': {'type': 'keyword', 'index': False},\n",
       "    'views': {'type': 'long', 'index': False}}}}}"
      ]
     },
     "execution_count": 29,
     "metadata": {},
     "output_type": "execute_result"
    }
   ],
   "source": [
    "osclient.indices.get_mapping(index=index_name)"
   ]
  },
  {
   "cell_type": "markdown",
   "id": "41749354-0003-41ce-8476-b904ed073c75",
   "metadata": {},
   "source": [
    "### Semantic Indexing"
   ]
  },
  {
   "cell_type": "code",
   "execution_count": 26,
   "id": "a7b435c9-2204-4bfc-9a24-d2c96d4cc727",
   "metadata": {},
   "outputs": [],
   "source": [
    "#upload data\n",
    "utils = Utilities()"
   ]
  },
  {
   "cell_type": "code",
   "execution_count": 62,
   "id": "bca84c43-201c-48ba-832e-bac9fe6854a3",
   "metadata": {},
   "outputs": [],
   "source": [
    "path = '/home/elastic/notebooks/vector_search_applications/data/podcast_transcripts/fivethirtyeight/'"
   ]
  },
  {
   "cell_type": "code",
   "execution_count": 74,
   "id": "6494e574-b192-41e7-a77a-45c6eedf97b4",
   "metadata": {},
   "outputs": [],
   "source": [
    "# data = utils.json_data_loader(path)\n",
    "# #be sure to change vector field name to \"content_embedding\"\n",
    "# # [d.update(content_embedding=d['vector']) for d in data]\n",
    "# # for d in data:\n",
    "# #     del d['vector']"
   ]
  },
  {
   "cell_type": "code",
   "execution_count": 46,
   "id": "0c4fec33-67e1-4860-9182-e78deacfc293",
   "metadata": {},
   "outputs": [],
   "source": [
    "sem_index = 'semantic-impact-theory'\n",
    "model = SentenceTransformer('all-minilm-l6-v2')\n",
    "# osclient.indices.delete(sem_index)"
   ]
  },
  {
   "cell_type": "code",
   "execution_count": 47,
   "id": "064e31f9-5525-4539-94ae-d83fd8430e32",
   "metadata": {},
   "outputs": [
    {
     "data": {
      "text/plain": [
       "{'acknowledged': True}"
      ]
     },
     "execution_count": 47,
     "metadata": {},
     "output_type": "execute_result"
    }
   ],
   "source": [
    "osclient.indices.delete(sem_index)"
   ]
  },
  {
   "cell_type": "code",
   "execution_count": 50,
   "id": "896f357e-bc68-4443-9781-51bbd51cc3da",
   "metadata": {},
   "outputs": [
    {
     "name": "stderr",
     "output_type": "stream",
     "text": [
      "Bad pipe message: %s [b'\\xee\\xf5\\x96\\xc1\\n\\xe3XE:L\\xf8yQ\\x14A\\xad\\xb0\\x0f \\x07W\\x13\\x11\\x81\\xc9\\x8co0O\\x99.4\\x08\\xf0\\x10x\\x9dH\\x02\\xcaK\\x17D_<\\x83[\\x02\\x8d(\\x97\\x00\\x08\\x13\\x02\\x13\\x03\\x13\\x01\\x00\\xff\\x01\\x00\\x00\\x8f\\x00\\x00\\x00\\x0e\\x00\\x0c\\x00\\x00\\t127.0.0.1\\x00\\x0b\\x00\\x04\\x03\\x00\\x01\\x02\\x00\\n\\x00\\x0c\\x00\\n\\x00\\x1d\\x00\\x17\\x00\\x1e\\x00\\x19\\x00\\x18\\x00#\\x00\\x00\\x00\\x16\\x00\\x00\\x00\\x17\\x00\\x00\\x00\\r\\x00\\x1e\\x00\\x1c\\x04\\x03\\x05\\x03\\x06']\n",
      "Bad pipe message: %s [b'\\x07\\x08']\n",
      "Bad pipe message: %s [b'\\t\\x08\\n\\x08\\x0b\\x08\\x04']\n",
      "Bad pipe message: %s [b\";\\xee\\xdc\\xb6#\\xe8p\\x10\\x0c\\xf4Y\\x9e\\x07\\xe2\\x08\\x8b\\xca\\xa4\\x00\\x00|\\xc0,\\xc00\\x00\\xa3\\x00\\x9f\\xcc\\xa9\\xcc\\xa8\\xcc\\xaa\\xc0\\xaf\\xc0\\xad\\xc0\\xa3\\xc0\\x9f\\xc0]\\xc0a\\xc0W\\xc0S\\xc0+\\xc0/\\x00\\xa2\\x00\\x9e\\xc0\\xae\\xc0\\xac\\xc0\\xa2\\xc0\\x9e\\xc0\\\\\\xc0`\\xc0V\\xc0R\\xc0$\\xc0(\\x00k\\x00j\\xc0#\\xc0'\\x00g\\x00@\\xc0\\n\\xc0\\x14\\x009\\x008\\xc0\\t\\xc0\\x13\\x003\\x002\\x00\\x9d\\xc0\\xa1\\xc0\\x9d\\xc0Q\\x00\\x9c\\xc0\\xa0\\xc0\\x9c\\xc0P\\x00=\\x00<\\x005\\x00/\\x00\\x9a\\x00\\x99\\xc0\\x07\\xc0\\x11\\x00\\x96\\x00\\x05\\x00\\xff\\x01\\x00\\x00j\\x00\\x00\\x00\\x0e\\x00\\x0c\\x00\\x00\\t127.0.0.1\\x00\\x0b\\x00\\x04\\x03\\x00\\x01\\x02\\x00\\n\\x00\\x0c\\x00\\n\\x00\\x1d\\x00\\x17\\x00\\x1e\\x00\\x19\\x00\\x18\\x00#\\x00\\x00\\x00\\x16\\x00\\x00\\x00\\x17\\x00\\x00\\x00\\r\\x000\\x00.\\x04\\x03\\x05\\x03\\x06\\x03\\x08\\x07\\x08\\x08\\x08\\t\\x08\\n\\x08\\x0b\\x08\\x04\\x08\\x05\\x08\\x06\\x04\\x01\\x05\\x01\\x06\\x01\\x03\\x03\\x02\\x03\\x03\\x01\\x02\\x01\\x03\\x02\\x02\\x02\", b'\\x05\\x02\\x06']\n",
      "Bad pipe message: %s [b'\\x08\\x06\\x04\\x01\\x05\\x01\\x06', b'']\n",
      "Bad pipe message: %s [b'\\x03\\x02\\x03\\x04\\x00-\\x00\\x02\\x01\\x01\\x003\\x00&\\x00$\\x00\\x1d\\x00 \\x86\\xb8ed\\xc7\\xbf\\xea\\xb7e\\x7f\\xe4\\x93\\xf7\\xa6f?\\x8f\\x04\\xbe\\x8cA*']\n",
      "Bad pipe message: %s [b'&65;\\x15\\x01\\x90+=/]c\\x10\\xca8!\\xac\\x0f\\x00\\x00\\xa2\\xc0\\x14\\xc0\\n\\x009\\x008\\x007\\x006\\x00\\x88\\x00\\x87\\x00\\x86\\x00\\x85\\xc0\\x19\\x00:\\x00\\x89\\xc0\\x0f\\xc0\\x05\\x005']\n",
      "Bad pipe message: %s [b\"\\xa6\\xd5\\x9b)\\x11\\x9e\\xb4_\\x92\\x84\\x07\\x06\\xe4\\x92\\xd3'5}\\x00\\x00\\xa2\\xc0\\x14\\xc0\\n\\x009\\x008\\x007\\x006\\x00\\x88\\x00\\x87\\x00\\x86\\x00\\x85\\xc0\\x19\\x00:\\x00\\x89\\xc0\\x0f\\xc0\\x05\\x005\\x00\\x84\\xc0\\x13\\xc0\\t\\x003\\x002\\x001\\x000\\x00\\x9a\\x00\\x99\\x00\\x98\\x00\\x97\\x00E\\x00D\\x00C\\x00B\\xc0\\x18\\x004\\x00\\x9b\\x00F\\xc0\\x0e\\xc0\\x04\"]\n",
      "Bad pipe message: %s [b',\\xef\\xa0\\xa5 \\xcf\\xb6\\xf2\\xf2\\xd1\\x97\\xe6>\\xbb\\xdc\\xd5\\xa3\\xbb\\x00\\x00\\x86\\xc00\\xc0', b'(\\xc0$\\xc0\\x14\\xc0\\n\\x00\\xa5\\x00\\xa3\\x00\\xa1\\x00\\x9f\\x00k\\x00j\\x00i\\x00h\\x009\\x008\\x007\\x006\\xc02\\xc0.\\xc0*\\xc0&\\xc0\\x0f\\xc0\\x05']\n"
     ]
    }
   ],
   "source": [
    "# osclient.document_indexer(index_name=sem_index, data=data, body_template=youtube_body, semantic_index=True)"
   ]
  },
  {
   "cell_type": "code",
   "execution_count": 159,
   "id": "25ad550c-5562-42c7-9d11-01176d1c959a",
   "metadata": {},
   "outputs": [],
   "source": [
    "def vector_search(query: str, \n",
    "                  index: str, \n",
    "                  model: Union[str, SentenceTransformer], \n",
    "                  size: int=10,\n",
    "                  k: int=10,\n",
    "                  return_raw: bool=False\n",
    "                  ) -> Dict[str,str]:\n",
    "    if isinstance(model, SentenceTransformer):\n",
    "        query_embedding = model.encode(query).tolist()\n",
    "\n",
    "    body={  \"_source\": ['title', 'episode_id', 'group_id', 'episode_num', 'episode_url', 'mp3_url', 'content'],\n",
    "            \"size\": size,\n",
    "            \"query\": \n",
    "               {\"knn\": {\"content_embedding\": {\"vector\": query_embedding, \"k\": k}}},\n",
    "         }\n",
    "    response = osclient.search(body=body, index=index)\n",
    "    if return_raw: \n",
    "        return response \n",
    "    else: return response['hits']['hits']"
   ]
  },
  {
   "cell_type": "code",
   "execution_count": 21,
   "id": "b65b6f16-d5cf-4f00-ae77-ec9ab64ad86a",
   "metadata": {},
   "outputs": [],
   "source": [
    "query = 'who is more powerful, Musk or Bezos?'"
   ]
  },
  {
   "cell_type": "code",
   "execution_count": 23,
   "id": "afc4fe5a-8e27-4c4f-8a03-999b091f79b2",
   "metadata": {},
   "outputs": [],
   "source": [
    "response = osclient.vector_search(query, sem_index, model)"
   ]
  },
  {
   "cell_type": "markdown",
   "id": "9ce3f197-3d29-41a7-af09-52cfb51eed70",
   "metadata": {},
   "source": [
    "### Reranking + Hybrid Search"
   ]
  },
  {
   "cell_type": "code",
   "execution_count": 24,
   "id": "869c539f-3eae-4f33-a89b-6d1f0feabdca",
   "metadata": {},
   "outputs": [],
   "source": [
    "reranker = ReRanker()"
   ]
  },
  {
   "cell_type": "code",
   "execution_count": 25,
   "id": "6362334a-bb79-46c3-8be8-c5361faa842d",
   "metadata": {},
   "outputs": [
    {
     "name": "stderr",
     "output_type": "stream",
     "text": [
      "\u001b[32m2023-09-13 20:22:28.903\u001b[0m | \u001b[1mINFO    \u001b[0m | \u001b[36mopensearch_interface\u001b[0m:\u001b[36m_deduplicate_results\u001b[0m:\u001b[36m327\u001b[0m - \u001b[1mDuplicate Hit: zm0QVutAkYg-112 on index semantic-impact-theory\u001b[0m\n",
      "\u001b[32m2023-09-13 20:22:28.904\u001b[0m | \u001b[1mINFO    \u001b[0m | \u001b[36mopensearch_interface\u001b[0m:\u001b[36m_deduplicate_results\u001b[0m:\u001b[36m327\u001b[0m - \u001b[1mDuplicate Hit: SaIkelDUDic-15 on index semantic-impact-theory\u001b[0m\n",
      "\u001b[32m2023-09-13 20:22:28.905\u001b[0m | \u001b[1mINFO    \u001b[0m | \u001b[36mopensearch_interface\u001b[0m:\u001b[36m_deduplicate_results\u001b[0m:\u001b[36m327\u001b[0m - \u001b[1mDuplicate Hit: sl3XhHs6ggs-8 on index semantic-impact-theory\u001b[0m\n",
      "\u001b[32m2023-09-13 20:22:28.906\u001b[0m | \u001b[1mINFO    \u001b[0m | \u001b[36mopensearch_interface\u001b[0m:\u001b[36m_deduplicate_results\u001b[0m:\u001b[36m327\u001b[0m - \u001b[1mDuplicate Hit: OoGghm0_Q8I-30 on index semantic-impact-theory\u001b[0m\n",
      "\u001b[32m2023-09-13 20:22:28.907\u001b[0m | \u001b[1mINFO    \u001b[0m | \u001b[36mopensearch_interface\u001b[0m:\u001b[36m_deduplicate_results\u001b[0m:\u001b[36m327\u001b[0m - \u001b[1mDuplicate Hit: rKByaM5asU8-124 on index semantic-impact-theory\u001b[0m\n",
      "\u001b[32m2023-09-13 20:22:28.908\u001b[0m | \u001b[1mINFO    \u001b[0m | \u001b[36mopensearch_interface\u001b[0m:\u001b[36m_deduplicate_results\u001b[0m:\u001b[36m327\u001b[0m - \u001b[1mDuplicate Hit: kLIE93v2X-E-21 on index semantic-impact-theory\u001b[0m\n",
      "\u001b[32m2023-09-13 20:22:28.909\u001b[0m | \u001b[1mINFO    \u001b[0m | \u001b[36mopensearch_interface\u001b[0m:\u001b[36m_deduplicate_results\u001b[0m:\u001b[36m327\u001b[0m - \u001b[1mDuplicate Hit: L7EbDo7h_To-116 on index semantic-impact-theory\u001b[0m\n",
      "\u001b[32m2023-09-13 20:22:28.910\u001b[0m | \u001b[1mINFO    \u001b[0m | \u001b[36mopensearch_interface\u001b[0m:\u001b[36m_deduplicate_results\u001b[0m:\u001b[36m327\u001b[0m - \u001b[1mDuplicate Hit: _I8lzTePXQw-88 on index semantic-impact-theory\u001b[0m\n"
     ]
    }
   ],
   "source": [
    "hybrid = osclient.hybrid_search(query, kw_index=index_name, vec_index=sem_index, model=model)\n",
    "final = reranker.rerank(hybrid, query, top_k=20)"
   ]
  },
  {
   "cell_type": "code",
   "execution_count": 71,
   "id": "4026e40a-f37f-4fdb-ae93-7e6fe2f2c74d",
   "metadata": {},
   "outputs": [],
   "source": [
    "def cleanup(results: List[dict]) -> List[dict]:\n",
    "    final_results = []\n",
    "    unique_ids = set()\n",
    "    for res in results:\n",
    "        unique_id = f\"{res['_source']['group_id']}-{res['_source']['video_id']}\"\n",
    "        if unique_id in unique_ids:\n",
    "            continue\n",
    "        else: \n",
    "            unique_ids.add(unique_id)\n",
    "            final_results.append(res)\n",
    "    return final_results"
   ]
  },
  {
   "cell_type": "code",
   "execution_count": 79,
   "id": "6c274a90-fdb1-4ed0-a2c0-fe7604ed19a5",
   "metadata": {},
   "outputs": [],
   "source": [
    "final = cleanup(final)"
   ]
  },
  {
   "cell_type": "code",
   "execution_count": 27,
   "id": "8bb3ef0a-d75b-4e6f-ba19-8a5b4c8d146d",
   "metadata": {},
   "outputs": [],
   "source": [
    "def display_results(results: List[dict], threshhold: float=0.0, include_indexes: bool=False):\n",
    "    filtered = [r for r in results if r['cross_score'] > threshhold]\n",
    "    if include_indexes:\n",
    "        indices = [d['_index'] for d in filtered]\n",
    "        return filtered, indices\n",
    "    else: return filtered"
   ]
  },
  {
   "cell_type": "code",
   "execution_count": 28,
   "id": "c8a531e0-76d2-4b64-a689-2b2393c69dda",
   "metadata": {},
   "outputs": [
    {
     "data": {
      "text/plain": [
       "([{'_index': 'kw-impact-theory',\n",
       "   '_id': 'UNgzkIoBPTzzIQZAms8O',\n",
       "   '_score': 14.798523,\n",
       "   '_source': {'group_id': 12,\n",
       "    'length': 5884,\n",
       "    'title': 'WHY YOUR LIFE IS SO BORING... (Fix This To Find Fulfillment) | Tom Bilyeu',\n",
       "    'thumbnail_url': 'https://i.ytimg.com/vi/NoSkC1hn23Q/hq720.jpg',\n",
       "    'publish_date': '01-28-2023',\n",
       "    'content': \"Really is awesome, by the way. Even though it's black and white and it's all the shit for the TikTok generation, they're never going to go for it. But it's a really fantastic film and Orson Welles made it when he was 24 and he made it when arguably the most powerful man in the world. So imagine somebody like Bill Gates coming after you and oh God, even better, one of the guys that owns like a media conglomerate, Jeff Bezos owns Washington Post. So the guy, Rudolph Hearst, owned what at the time was the media publication. Citizen Kane is about that guy. So it would be like somebody making a movie about Jeff Bezos and that he's corrupt and lonely and Jeff Bezos is like, oh, you think you're going to actually tell that story? Nah, I'm clamping down. I'm going to get your funding revoked. I'm going to make sure that nobody screens the film, all that.\",\n",
       "    'views': 97125,\n",
       "    'video_id': 'NoSkC1hn23Q'},\n",
       "   'cross_score': -1.0019598},\n",
       "  {'_index': 'kw-impact-theory',\n",
       "   '_id': 'YNgzkIoBPTzzIQZAlLOp',\n",
       "   '_score': 14.632922,\n",
       "   '_source': {'group_id': 176,\n",
       "    'length': 12406,\n",
       "    'title': 'Turning Boys Into Men: How To Stop Being WEAK & Become A 1% Man  | Tom Bilyeu',\n",
       "    'thumbnail_url': 'https://i.ytimg.com/vi/WhLdpjZjUrw/hq720.jpg',\n",
       "    'publish_date': '06-29-2023',\n",
       "    'content': \"Even though it's black and white and it's old as shit for the TikTok generation, they're never gonna go for it, but it's a really fantastic film. And Orson Welles made it when he was 24. And he made it when arguably the most powerful man in the world, so imagine somebody like Bill Gates coming after you. And oh God, even better, one of the guys that owns a media conglomerate, Jeff Bezos, owns the Washington Post. So the guy, Rudolph Hearst, owned what at the time was the media publication, and Citizen Kane is about that guy. So it would be like somebody making a movie about Jeff Bezos and that he's corrupt and lonely, and Jeff Bezos is like, oh, you think you're gonna actually tell that story? Nah, I'm clamping down. I'm gonna get your funding revoked. I'm gonna make sure that nobody screens the film, all that. So this guy, at 24, gets this movie made when everybody thinks, oh, this guy's literally gonna kill him, have him killed, or he's gonna stop his movie from being funded.\",\n",
       "    'views': 89827,\n",
       "    'video_id': 'WhLdpjZjUrw'},\n",
       "   'cross_score': -1.352912},\n",
       "  {'_index': 'kw-impact-theory',\n",
       "   '_id': 'ltgzkIoBPTzzIQZAnN9M',\n",
       "   '_score': 10.421311,\n",
       "   '_source': {'group_id': 137,\n",
       "    'length': 10592,\n",
       "    'title': '\"PREPARE NOW!\" - This Is Your LAST CHANCE To Become A MILLIONAIRE In 2023 | Michael Saylor',\n",
       "    'thumbnail_url': 'https://i.ytimg.com/vi/Ll5EDt13GcQ/hq720.jpg',\n",
       "    'publish_date': '11-10-2022',\n",
       "    'content': \"So I think that anybody you know that's a billionaire, right? All of these names, the Sergey Brins, the Mark Zuckerbergs, the Jeff Bezos, the Elon Musks of the world, they didn't get there without holding an asset that had technical potential for a decade or longer. There's no get rich quick scheme. So I think that people want an easy route. If you're trying to get a quick win with no volatility, with no risk, it doesn't make sense. And if you're actually trying to be successful in a hurry with volatility, that probably still won't work either. I mean, ultimately, success comes from taking a decade-long view, right? Andrew Mellon, John D. Rockefeller, Jeff Bezos, right? We forget Tesla was founded 20 years ago. People think it's an overnight success, but it's not an overnight success.\",\n",
       "    'views': 457293,\n",
       "    'video_id': 'Ll5EDt13GcQ'},\n",
       "   'cross_score': -1.426316},\n",
       "  {'_index': 'kw-impact-theory',\n",
       "   '_id': 'etgzkIoBPTzzIQZAlbd0',\n",
       "   '_score': 9.552418,\n",
       "   '_source': {'group_id': 118,\n",
       "    'length': 7330,\n",
       "    'title': \"WATCH OUT! The Food Industry's LIES and HOW they are Slowly POISONING US... | Calley Means\",\n",
       "    'thumbnail_url': 'https://i.ytimg.com/vi/sTS2fd3kE9I/hq720.jpg',\n",
       "    'publish_date': '05-30-2023',\n",
       "    'content': \"How do I play this hand? And so I am just besieging people. It's like it, you can change. You can make any change you want. None of us get to be as cool as we want to be. I want to be more, I want to be a more talented entrepreneur than Elon Musk. The odds are stacked against me. He is very far ahead of me and pulling farther ahead by the day. But I can 100X my abilities is how I look at it. And so I don't want people to, to, I don't want people to beat themselves up.\",\n",
       "    'views': 1078559,\n",
       "    'video_id': 'sTS2fd3kE9I'},\n",
       "   'cross_score': -1.6228101},\n",
       "  {'_index': 'kw-impact-theory',\n",
       "   '_id': 'b9gzkIoBPTzzIQZAkKML',\n",
       "   '_score': 14.579955,\n",
       "   '_source': {'group_id': 8,\n",
       "    'length': 1214,\n",
       "    'title': 'Why Elon Musk & Jeff Bezos Are The MOST SUCCESSFUL People On The Planet | Peter Diamandis',\n",
       "    'thumbnail_url': 'https://i.ytimg.com/vi/sl3XhHs6ggs/hq720.jpg',\n",
       "    'publish_date': '07-13-2023',\n",
       "    'content': \"I'll phrase it like this for everybody listening. If you look at the most extraordinary leaders on the planet, Mahatma Gandhi, Martin Luther King, Elon Musk, Steve Jobs, Jeff Bezos, I don't care who's on your list, and you asked, what made them successful? Was it the cash they had, the friends they had, the technology they had, or was it their mindset? I think almost everybody would say it was their mindset. Your mindset is how you deal with challenges and opportunities. It's your reaction. It's how your neural net is wired. The question is, if you agree that mindset's the most important thing a leader can have, an entrepreneur can have, what mindset do you have first and foremost? Where did you get it? Then ask yourself the question, what mindset do you need for the world ahead?\",\n",
       "    'views': 33012,\n",
       "    'video_id': 'sl3XhHs6ggs'},\n",
       "   'cross_score': -1.7014984},\n",
       "  {'_index': 'kw-impact-theory',\n",
       "   '_id': 'EdgzkIoBPTzzIQZAlbh0',\n",
       "   '_score': 14.262074,\n",
       "   '_source': {'group_id': 112,\n",
       "    'length': 8396,\n",
       "    'title': 'THE BIG RESET: Use AI To Build Wealth & GET AHEAD Of 99% Of People | Peter Diamandis & Salim Ismail',\n",
       "    'thumbnail_url': 'https://i.ytimg.com/vi/zm0QVutAkYg/hq720.jpg',\n",
       "    'publish_date': '06-01-2023',\n",
       "    'content': \"So we close out the book with mindset and it's the area I'm spending most of my time. And I'll phrase it like this for everybody listening. If you look at the most extraordinary leaders on the planet, Mahatma Gandhi, Martin Luther King, Elon Musk, Steve Jobs, Jeff Bezos, I don't care who's on your list. And you asked, what made them successful? Was it the cash they had, the friends they had, the technology they had, or was it their mindset, right? I think almost everybody would say it was their mindset. Your mindset is how you deal with challenges and opportunities. It's your reaction. It's how your neural net is wired. So the question is, if your mindset, if you agree that mindset's the most important thing a leader can have, an entrepreneur can have, what mindset do you have first and foremost?\",\n",
       "    'views': 1418250,\n",
       "    'video_id': 'zm0QVutAkYg'},\n",
       "   'cross_score': -1.9641345},\n",
       "  {'_index': 'kw-impact-theory',\n",
       "   '_id': 'v9gzkIoBPTzzIQZAm9rI',\n",
       "   '_score': 12.817473,\n",
       "   '_source': {'group_id': 81,\n",
       "    'length': 6345,\n",
       "    'title': \"The COLLAPSE Of Crypto & FTX! - DO THIS NOW Before It's TOO LATE... | Raoul Pal\",\n",
       "    'thumbnail_url': 'https://i.ytimg.com/vi/0wJA_KHfZ6g/hq720.jpg',\n",
       "    'publish_date': '11-22-2022',\n",
       "    'content': \"That's what you do. Yeah, but if it's being done by robots, that helps Jeff Bezos and Elon Musk, but it doesn't help my mom. And this is why we need a distribution of capital. Now there are ways, and I think crypto is one of them, which means that we can participate in these communities and get paid in a reward system for being a community-driven person that's good for the community. So that is where we're seeing it in Reddit, where we start seeing this nexus between social tokens and NFTs creates an economy in your cultural community. And so I can be a good actor and I can get paid in an asset that has value and a system of money that has value to me that may be fungible with the outside world. You don't think that becomes a Black Mirror episode real fast? Everything does, my friend. We haven't even got to the end of this story, but that is, Yatsui calls it universal basic equity. And I think that's right.\",\n",
       "    'views': 352662,\n",
       "    'video_id': '0wJA_KHfZ6g'},\n",
       "   'cross_score': -2.5107396},\n",
       "  {'_index': 'kw-impact-theory',\n",
       "   '_id': 'NtgzkIoBPTzzIQZAneQW',\n",
       "   '_score': 14.153796,\n",
       "   '_source': {'group_id': 116,\n",
       "    'length': 5523,\n",
       "    'title': 'The #1 Habit All Successful People RUN DAILY! (You Need To DO THIS Everyday) | Vishen Lakhiani',\n",
       "    'thumbnail_url': 'https://i.ytimg.com/vi/L7EbDo7h_To/hq720.jpg',\n",
       "    'publish_date': '10-11-2022',\n",
       "    'content': \"Nature's sort of in-baked thing. But going back to overpopulation, what do you think about people like Elon Musk who are more worried about the flip side? So I love Elon. Elon's mom, Mae Musk, is one of our teachers on Mindvalley. She teaches a program for women over 40 on going out there and conquering the world. So I'm a big, big, big fan of the Musk family. Absolutely huge fans of the Musk family. But I don't know if I agree with Elon that our biggest crisis right now is that humanity might be wiped out by an asteroid. I believe our biggest crisis could well be climate change. And I appreciate Elon for what he's doing with Tesla because he's tackling two very different things.\",\n",
       "    'views': 168090,\n",
       "    'video_id': 'L7EbDo7h_To'},\n",
       "   'cross_score': -2.607603},\n",
       "  {'_index': 'semantic-impact-theory',\n",
       "   '_id': 'gtk0kIoBPTzzIQZAWTjZ',\n",
       "   '_score': 0.49056682,\n",
       "   '_source': {'group_id': 320,\n",
       "    'length': 16255,\n",
       "    'title': 'EMERGENCY EPISODE: Why This Financial Crisis Is WORSE Than 2008 | Balaji Srinivasan',\n",
       "    'thumbnail_url': 'https://i.ytimg.com/vi/l4fLax7S2Q0/hq720.jpg',\n",
       "    'publish_date': '06-15-2023',\n",
       "    'content': \"If Zuck wanted to buy a lot, right? And if you think about it today, Elon Musk's endorsement, by simply appearing alongside somebody is quite important for a DeSantis or a RFK, Jr, or what have you. Elon runs, he's the Lord of the cloud as opposed to Lord of the land, right? And it's clearly very politically important. That's a very important constituency. Twitter may be the most important battlefield in politics right now, right? So, and that is run by entrepreneurs, right? So in many ways, like the state has already given up a lot of power to the network. Arguably, you can say, I mean, there's different moments you could put it at, but in, you know, people you stay or still say the most powerful man in the world, like about the US President, you know, they say that, right? After, you know, Trump was de-platformed in early 2021 from Twitter, Trump wasn't even the most powerful man in his own country.\",\n",
       "    'views': 528422,\n",
       "    'video_id': 'l4fLax7S2Q0'},\n",
       "   'cross_score': -3.0833445},\n",
       "  {'_index': 'kw-impact-theory',\n",
       "   '_id': 'o9gzkIoBPTzzIQZAnu12',\n",
       "   '_score': 11.937797,\n",
       "   '_source': {'group_id': 30,\n",
       "    'length': 7056,\n",
       "    'title': 'The 5 Things BROKE People Do That The Rich DON’T DO | Tom Bilyeu',\n",
       "    'thumbnail_url': 'https://i.ytimg.com/vi/OoGghm0_Q8I/hq720.jpg',\n",
       "    'publish_date': '08-11-2022',\n",
       "    'content': \"You're going to get hate. It's interesting. This fascinates me. The more successful beyond my wildest dreams of my success, the more they ask me questions. Last time I saw Elon Musk, I've had some very interesting conversations with this guy. He's one of the smartest guys I've ever met. Elon Musk, we've talked. I'm not a close friend of his by any means. But we've talked. He goes the same things.\",\n",
       "    'views': 189016,\n",
       "    'video_id': 'OoGghm0_Q8I'},\n",
       "   'cross_score': -3.2058585},\n",
       "  {'_index': 'kw-impact-theory',\n",
       "   '_id': 'JNgzkIoBPTzzIQZAkadC',\n",
       "   '_score': 11.973826,\n",
       "   '_source': {'group_id': 136,\n",
       "    'length': 10158,\n",
       "    'title': 'The Stoic Advice Every Man Learns Too Late In Life | Ryan Holiday',\n",
       "    'thumbnail_url': 'https://i.ytimg.com/vi/gzNLzqI5oTE/hq720.jpg',\n",
       "    'publish_date': '08-15-2023',\n",
       "    'content': \"I don't see them bragging about how many people they're sleeping with. Um, I don't see them anywhere actually, right? Like most of the powerful, the truly powerful people in the world want to keep as low profile as possible. Right. Your boy, Elon Musk homeboy is like out there. I, I would, uh, argue that something broke in that guy's brain and that I wouldn't, I wouldn't want to trade places with that guy for all the money in the world. Um, you would get all the money in the world if you trade a place with him. So it's true. Uh, I don't want to lose sight of the barometer. What's the barometer?\",\n",
       "    'views': 120714,\n",
       "    'video_id': 'gzNLzqI5oTE'},\n",
       "   'cross_score': -3.2569242},\n",
       "  {'_index': 'kw-impact-theory',\n",
       "   '_id': '5dkzkIoBPTzzIQZApByv',\n",
       "   '_score': 13.427952,\n",
       "   '_source': {'group_id': 13,\n",
       "    'length': 3025,\n",
       "    'title': 'Naveen Jain on Why Curiosity Will Save the World | Impact Theory',\n",
       "    'thumbnail_url': 'https://i.ytimg.com/vi/Y_itHlMwrFA/hq720.jpg',\n",
       "    'publish_date': '07-11-2017',\n",
       "    'content': \"Tom Bilyeu All right. Now you have to tell us what the three or four reasons are. Dr. Zainab salam Yeah. If you think about it, the number one reason is entrepreneurs now are solving the problems that used to be the domain of nation-states. What were those? Financial security, healthcare, education, and all of these problems are now being solved by great entrepreneurs, so whether you look at the space, it's Elon Musk and Jeff Bezos and Richard Branson, or even our Moon Express that's completely changing the way people look at the space. Healthcare is completely being redone as opposed to really looking at the symptom of the problem and solving the symptom is completely preventing from disease from happening, and that's my new venture called Viome, where we are actually believe that disease can actually be just a choice, not a matter of bad luck. It could be just a matter of choice, and we are going to make that happen. Second reason what's happening is the entrepreneurs can be held responsible every single day, not every election cycle. In an election cycle, you elect an idiot, you're stuck with that idiot, right?\",\n",
       "    'views': 104639,\n",
       "    'video_id': 'Y_itHlMwrFA'},\n",
       "   'cross_score': -3.5157611},\n",
       "  {'_index': 'kw-impact-theory',\n",
       "   '_id': '3dgzkIoBPTzzIQZAnee0',\n",
       "   '_score': 10.806106,\n",
       "   '_source': {'group_id': 24,\n",
       "    'length': 7502,\n",
       "    'title': '\"Crypto Is CRASHING!\" - Once In A Lifetime Opportunity To BUILD WEALTH Is Here | Michael Saylor',\n",
       "    'thumbnail_url': 'https://i.ytimg.com/vi/d2pFo5C5KwE/hq720.jpg',\n",
       "    'publish_date': '09-27-2022',\n",
       "    'content': \"If you're not willing to hold Microsoft stock for a decade, you probably didn't get to the point where they came, probably. So a decade's a short period of time for someone who's an industrialist or an investor. I mean, Warren Buffett still owns Coca-Cola stock, and he must have bought it 50 years ago, right? So I think that anybody you know that's a billionaire, all of these names, the Sergey Brins, the Mark Zuckerbergs, the Jeff Bezos, the Elon Musks of the world, they didn't get there without holding an asset that had technical potential for a decade or longer. There's no get-rich-quick scheme. So I think that people want an easy route. If you're trying to get a quick win with no volatility, with no risk, doesn't make sense. And if you're actually trying to be successful in a hurry with volatility, that probably still won't work either. I mean, ultimately, success comes from taking a decade-long view, right? Andrew Mellon, John D. Rockefeller, Jeff Bezos, right?\",\n",
       "    'views': 558764,\n",
       "    'video_id': 'd2pFo5C5KwE'},\n",
       "   'cross_score': -4.233174},\n",
       "  {'_index': 'semantic-impact-theory',\n",
       "   '_id': 'Ddk0kIoBPTzzIQZATSWR',\n",
       "   '_score': 0.4766465,\n",
       "   '_source': {'group_id': 18,\n",
       "    'length': 1214,\n",
       "    'title': 'Why Elon Musk & Jeff Bezos Are The MOST SUCCESSFUL People On The Planet | Peter Diamandis',\n",
       "    'thumbnail_url': 'https://i.ytimg.com/vi/sl3XhHs6ggs/hq720.jpg',\n",
       "    'publish_date': '07-13-2023',\n",
       "    'content': \"And now it's one of the most successful products of all time, delivering I think 75% of their global profits. Because nobody could figure out how to say no to it, right? So we found a collection of little hacks and cultural transformations and companies that allow you to basically operate in this new modality, being very curious, purpose driven, constantly testing assumptions, using small agile teams, operating at the edges as autonomously as possible, and then getting the business of the organization done. Wow. I love that so much. I've taken a lot from Bezos over the years, like he's got some really amazing ideas. I do have to chuckle a little bit that this business genius still got taken down by dick pics, but just the human mind is absolutely hilarious. You're all frail. But yeah, none of that, look, I don't even throw shade at the guy, get it, live your best life. But that's really brilliant.\",\n",
       "    'views': 33012,\n",
       "    'video_id': 'sl3XhHs6ggs'},\n",
       "   'cross_score': -4.5174503},\n",
       "  {'_index': 'kw-impact-theory',\n",
       "   '_id': 'sNgzkIoBPTzzIQZAner7',\n",
       "   '_score': 11.12738,\n",
       "   '_source': {'group_id': 45,\n",
       "    'length': 3650,\n",
       "    'title': 'WATCH THIS To Get 1% BETTER Every Day! (Try It & See Incredible Results) | Ed Mylett',\n",
       "    'thumbnail_url': 'https://i.ytimg.com/vi/eSco0Xn_X6c/hq720.jpg',\n",
       "    'publish_date': '05-31-2022',\n",
       "    'content': \"But the question in life becomes, listen, I believe you're one decision, one relationship, one meeting, one show, one thought, one new emotion, potentially away from changing your entire life. I've proven this in my life, so have you. And the question then becomes, how do you find them? And this RAS is super powerful in our brains because it's the mechanism that filters the entire world to us. It literally reveals to us our reality, just like you just said. It reveals our reality. I just bought a Tesla. I drove it here today. I like what Musk is doing. I'm like, I'm gonna get one of these Teslas.\",\n",
       "    'views': 244874,\n",
       "    'video_id': 'eSco0Xn_X6c'},\n",
       "   'cross_score': -4.55975},\n",
       "  {'_index': 'semantic-impact-theory',\n",
       "   '_id': 'sdk0kIoBPTzzIQZAWjni',\n",
       "   '_score': 0.46761623,\n",
       "   '_source': {'group_id': 124,\n",
       "    'length': 8396,\n",
       "    'title': 'THE BIG RESET: Use AI To Build Wealth & GET AHEAD Of 99% Of People | Peter Diamandis & Salim Ismail',\n",
       "    'thumbnail_url': 'https://i.ytimg.com/vi/zm0QVutAkYg/hq720.jpg',\n",
       "    'publish_date': '06-01-2023',\n",
       "    'content': \"I love that so much. I've taken a lot from Bezos over the years. Like he's got some really amazing ideas. I do have to chuckle a little bit that this business genius still got taken down by dick pics, but just the human mind is absolutely hilarious. You're all frail. But yeah, look, I don't even throw shade at the guy. I get it. Live your best life. But that's really brilliant. And I will implement that immediately.\",\n",
       "    'views': 1418250,\n",
       "    'video_id': 'zm0QVutAkYg'},\n",
       "   'cross_score': -5.239929},\n",
       "  {'_index': 'semantic-impact-theory',\n",
       "   '_id': 'pNk0kIoBPTzzIQZAWjni',\n",
       "   '_score': 0.4754856,\n",
       "   '_source': {'group_id': 111,\n",
       "    'length': 8396,\n",
       "    'title': 'THE BIG RESET: Use AI To Build Wealth & GET AHEAD Of 99% Of People | Peter Diamandis & Salim Ismail',\n",
       "    'thumbnail_url': 'https://i.ytimg.com/vi/zm0QVutAkYg/hq720.jpg',\n",
       "    'publish_date': '06-01-2023',\n",
       "    'content': \"If you don't agree with me, leave. Do we have a good example of that? Well, Elon and Bezos as well. Steve Jobs, for sure. It's like, you know, it's the founder leader. It's very hard to do it in an older legacy company that's, you know, hired a CEO. But it's people, when you have a strong enough MTP and the visionary has a strong enough MTP and they come to work for you, when they come to work for this vision, then they will have faith in you to make those right turns. All right, going back to mindset, how does somebody cultivate that in themselves? Like, if you want to become that guy or gal, like, what do you do? What is it that an Elon has or a Steve Jobs has that other people can replicate?\",\n",
       "    'views': 1418250,\n",
       "    'video_id': 'zm0QVutAkYg'},\n",
       "   'cross_score': -5.51503},\n",
       "  {'_index': 'semantic-impact-theory',\n",
       "   '_id': 'Pdk0kIoBPTzzIQZAY0hd',\n",
       "   '_score': 0.47292033,\n",
       "   '_source': {'group_id': 84,\n",
       "    'length': 6133,\n",
       "    'title': 'From BROKE Selling Flowers To $150 MILLION Net Worth | Matt Higgins',\n",
       "    'thumbnail_url': 'https://i.ytimg.com/vi/U9XOi8clxIk/hq720.jpg',\n",
       "    'publish_date': '03-28-2023',\n",
       "    'content': \"And dude, it's hard and it really sucks that it's going to be harder for some people than others a hundred percent. And trust me, when I look at Elon Musk, I am angry that I'm not that smart. And so he's just always in forever. It feels like. He's always going to be able to out execute me just because he can process data faster than I can. It's really, he's a superhero living among us. You can hate him. That's fine. Yeah, no, I'm with you. We're living with Thomas Edison.\",\n",
       "    'views': 92750,\n",
       "    'video_id': 'U9XOi8clxIk'},\n",
       "   'cross_score': -5.518294},\n",
       "  {'_index': 'semantic-impact-theory',\n",
       "   '_id': 'Atk0kIoBPTzzIQZATSWR',\n",
       "   '_score': 0.4875853,\n",
       "   '_source': {'group_id': 7,\n",
       "    'length': 1214,\n",
       "    'title': 'Why Elon Musk & Jeff Bezos Are The MOST SUCCESSFUL People On The Planet | Peter Diamandis',\n",
       "    'thumbnail_url': 'https://i.ytimg.com/vi/sl3XhHs6ggs/hq720.jpg',\n",
       "    'publish_date': '07-13-2023',\n",
       "    'content': \"If you don't agree with me, leave. Do we have a good example of that? Well, Elon and Bezos as well, Steve Jobs, for sure. It's the founder leader. It's very hard to do it in an older legacy company that's hired a CEO. But people, when you have a strong enough MTP and the visionary has a strong enough MTP and they come to work for you, when they come to work for this vision, then they will have faith in you to make those right turns. All right, going back to mindset, how does somebody cultivate that in themselves? If you want to become that guy or gal, what do you do? What is it that an Elon has or a Steve Jobs has that other people can replicate? We close out the book with mindset, and it's the area I'm spending most of my time.\",\n",
       "    'views': 33012,\n",
       "    'video_id': 'sl3XhHs6ggs'},\n",
       "   'cross_score': -5.7394524},\n",
       "  {'_index': 'kw-impact-theory',\n",
       "   '_id': '4tgzkIoBPTzzIQZAn_aQ',\n",
       "   '_score': 10.206697,\n",
       "   '_source': {'group_id': 15,\n",
       "    'length': 3293,\n",
       "    'title': 'The 2 Things You Need for Success | Jay Samit on Impact Theory',\n",
       "    'thumbnail_url': 'https://i.ytimg.com/vi/SaIkelDUDic/hq720.jpg',\n",
       "    'publish_date': '03-30-2021',\n",
       "    'content': \"He didn't take money. He created money. Elon Musk, it's funny. Last time we sat down together, I was updating my first book. Elon Musk was worth $7 billion. Very impressive. He's an impressive guy. I love Elon. He's not worth $200 billion. What did he do in five years that the rest of us were asleep?\",\n",
       "    'views': 75284,\n",
       "    'video_id': 'SaIkelDUDic'},\n",
       "   'cross_score': -5.9775496}],\n",
       " ['kw-impact-theory',\n",
       "  'kw-impact-theory',\n",
       "  'kw-impact-theory',\n",
       "  'kw-impact-theory',\n",
       "  'kw-impact-theory',\n",
       "  'kw-impact-theory',\n",
       "  'kw-impact-theory',\n",
       "  'kw-impact-theory',\n",
       "  'semantic-impact-theory',\n",
       "  'kw-impact-theory',\n",
       "  'kw-impact-theory',\n",
       "  'kw-impact-theory',\n",
       "  'kw-impact-theory',\n",
       "  'semantic-impact-theory',\n",
       "  'kw-impact-theory',\n",
       "  'semantic-impact-theory',\n",
       "  'semantic-impact-theory',\n",
       "  'semantic-impact-theory',\n",
       "  'semantic-impact-theory',\n",
       "  'kw-impact-theory'])"
      ]
     },
     "execution_count": 28,
     "metadata": {},
     "output_type": "execute_result"
    }
   ],
   "source": [
    "display_results(final, threshhold=-10, include_indexes=True)"
   ]
  },
  {
   "cell_type": "code",
   "execution_count": 5,
   "id": "e3903cdc-ab85-44a2-8691-ce5170cf4c42",
   "metadata": {},
   "outputs": [
    {
     "data": {
      "text/plain": [
       "{'kw-full': {'mappings': {'properties': {'content': {'type': 'text'},\n",
       "    'episode_id': {'type': 'text',\n",
       "     'fields': {'keyword': {'type': 'keyword', 'ignore_above': 256}}},\n",
       "    'episode_num': {'type': 'short', 'index': False},\n",
       "    'episode_url': {'type': 'keyword', 'index': False},\n",
       "    'group_id': {'type': 'long'},\n",
       "    'id': {'type': 'keyword', 'index': False},\n",
       "    'mp3_url': {'type': 'keyword', 'index': False},\n",
       "    'summary': {'type': 'text'},\n",
       "    'title': {'type': 'text'}}}}}"
      ]
     },
     "execution_count": 5,
     "metadata": {},
     "output_type": "execute_result"
    }
   ],
   "source": [
    "osclient.indices.get_mapping(index='kw-full')"
   ]
  },
  {
   "cell_type": "code",
   "execution_count": 14,
   "id": "656aaa5e-f43b-4a4c-8333-2b229da5dec9",
   "metadata": {},
   "outputs": [
    {
     "data": {
      "text/plain": [
       "{'kw-538-testrun': {'mappings': {'properties': {'channel_id': {'type': 'text',\n",
       "     'fields': {'keyword': {'type': 'keyword', 'ignore_above': 256}}},\n",
       "    'content': {'type': 'text'},\n",
       "    'description': {'type': 'text'},\n",
       "    'episode_url': {'type': 'keyword', 'index': False},\n",
       "    'group_id': {'type': 'short', 'index': False},\n",
       "    'length': {'type': 'long', 'index': False},\n",
       "    'playlist_id': {'type': 'keyword', 'index': False},\n",
       "    'publish_date': {'type': 'keyword', 'index': False},\n",
       "    'show_link': {'type': 'text',\n",
       "     'fields': {'keyword': {'type': 'keyword', 'ignore_above': 256}}},\n",
       "    'thumbnail_url': {'type': 'keyword', 'index': False},\n",
       "    'title': {'type': 'text'},\n",
       "    'video_id': {'type': 'keyword', 'index': False},\n",
       "    'views': {'type': 'long', 'index': False}}}}}"
      ]
     },
     "execution_count": 14,
     "metadata": {},
     "output_type": "execute_result"
    }
   ],
   "source": [
    "osclient.indices.get_mapping(index='kw-538-testrun')"
   ]
  },
  {
   "cell_type": "code",
   "execution_count": 10,
   "id": "2ed7dc07-10b5-44b8-a6be-493d6430d0e4",
   "metadata": {},
   "outputs": [],
   "source": [
    "this = hash(\"This is some text\")"
   ]
  },
  {
   "cell_type": "code",
   "execution_count": 8,
   "id": "2eff08eb-73c2-4916-92fa-404e5a17d457",
   "metadata": {},
   "outputs": [
    {
     "data": {
      "text/plain": [
       "872434049414064053"
      ]
     },
     "execution_count": 8,
     "metadata": {},
     "output_type": "execute_result"
    }
   ],
   "source": [
    "hash(\"And this is some text as well?\")"
   ]
  },
  {
   "cell_type": "code",
   "execution_count": 13,
   "id": "c882502b-e838-4a30-855e-b69dff4bf010",
   "metadata": {},
   "outputs": [
    {
     "data": {
      "text/plain": [
       "True"
      ]
     },
     "execution_count": 13,
     "metadata": {},
     "output_type": "execute_result"
    }
   ],
   "source": [
    "this == hash(\"This is some text\")"
   ]
  },
  {
   "cell_type": "code",
   "execution_count": null,
   "id": "67e28de1-e9c3-4690-a925-b3748a4dda1d",
   "metadata": {},
   "outputs": [],
   "source": []
  }
 ],
 "metadata": {
  "kernelspec": {
   "display_name": "openai",
   "language": "python",
   "name": "openai"
  },
  "language_info": {
   "codemirror_mode": {
    "name": "ipython",
    "version": 3
   },
   "file_extension": ".py",
   "mimetype": "text/x-python",
   "name": "python",
   "nbconvert_exporter": "python",
   "pygments_lexer": "ipython3",
   "version": "3.9.17"
  }
 },
 "nbformat": 4,
 "nbformat_minor": 5
}
