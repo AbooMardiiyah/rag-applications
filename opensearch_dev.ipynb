{
 "cells": [
  {
   "cell_type": "code",
   "execution_count": 48,
   "id": "70785ec1-67c6-4b39-b927-0bf4ac33233f",
   "metadata": {},
   "outputs": [
    {
     "name": "stdout",
     "output_type": "stream",
     "text": [
      "The autoreload extension is already loaded. To reload it, use:\n",
      "  %reload_ext autoreload\n"
     ]
    }
   ],
   "source": [
    "%load_ext autoreload \n",
    "%autoreload 2\n",
    "\n",
    "from reranker import ReRanker\n",
    "from preprocessing import Utilities\n",
    "from opensearch_interface import OpenSearchClient\n",
    "from sentence_transformers import SentenceTransformer\n",
    "from index_templates import youtube_body\n",
    "from typing import List, Union, Dict\n",
    "from reranker import ReRanker\n",
    "import json\n",
    "import os"
   ]
  },
  {
   "cell_type": "code",
   "execution_count": 2,
   "id": "04bf3235-e034-45e8-a933-c8ed4e69ccad",
   "metadata": {},
   "outputs": [],
   "source": [
    "osclient = OpenSearchClient()"
   ]
  },
  {
   "cell_type": "code",
   "execution_count": 3,
   "id": "f508fa91-1588-48e2-8c42-b25178b3ccb8",
   "metadata": {},
   "outputs": [
    {
     "data": {
      "text/plain": [
       "{'name': '7d5740afb0b1',\n",
       " 'cluster_name': 'docker-cluster',\n",
       " 'cluster_uuid': 'u62AiiEFR4yWUStAhyFveg',\n",
       " 'version': {'distribution': 'opensearch',\n",
       "  'number': '2.9.0',\n",
       "  'build_type': 'tar',\n",
       "  'build_hash': '1164221ee2b8ba3560f0ff492309867beea28433',\n",
       "  'build_date': '2023-07-18T21:23:29.367080729Z',\n",
       "  'build_snapshot': False,\n",
       "  'lucene_version': '9.7.0',\n",
       "  'minimum_wire_compatibility_version': '7.10.0',\n",
       "  'minimum_index_compatibility_version': '7.0.0'},\n",
       " 'tagline': 'The OpenSearch Project: https://opensearch.org/'}"
      ]
     },
     "execution_count": 3,
     "metadata": {},
     "output_type": "execute_result"
    }
   ],
   "source": [
    "osclient.info()"
   ]
  },
  {
   "cell_type": "code",
   "execution_count": 4,
   "id": "e8501756-453e-4ff9-8051-b3840a9c1590",
   "metadata": {},
   "outputs": [
    {
     "name": "stdout",
     "output_type": "stream",
     "text": [
      "health status index                        uuid                   pri rep docs.count docs.deleted store.size pri.store.size\n",
      "yellow open   kw-538-testrun               hZARxQqgStO4-dexNIsR8A   1   1        284            0    307.6kb        307.6kb\n",
      "green  open   .opensearch-observability    nN299E0QS9OvsRh_UcbJVQ   1   0          0            0       208b           208b\n",
      "yellow open   .plugins-ml-config           IEeXrm-DRiOMm2qzo7PbqA   1   1          1            0      3.9kb          3.9kb\n",
      "yellow open   test-kw-index                6EF4Q2xDT9Gz1wua5a2IpQ   3   1        158            0      5.6mb          5.6mb\n",
      "yellow open   kw-full                      uNhdaqbnRVuyJci_L1Om8Q   3   1       6678            0     12.1mb         12.1mb\n",
      "yellow open   semantic-full                ydvbifM0Rcu0DBz-rjCHzQ   3   1       6678            0     74.2mb         74.2mb\n",
      "yellow open   security-auditlog-2023.09.04 ApPSasK0S7CadlbWroBRYA   1   1        908            0      1.7mb          1.7mb\n",
      "yellow open   security-auditlog-2023.09.05 W9W4NIEZSkGYgLOkM5l_5g   1   1        865            0      1.8mb          1.8mb\n",
      "yellow open   security-auditlog-2023.09.06 EdqJ2NoXS-GBQl-p4UxtkA   1   1       1704            0      3.4mb          3.4mb\n",
      "yellow open   security-auditlog-2023.09.07 xNCCGTZMTzCrRbmRwsrz0g   1   1       1711            0      3.4mb          3.4mb\n",
      "green  open   .opendistro_security         _QeSqO4CQN2IU8VpE9hnPw   1   0         10            0     75.6kb         75.6kb\n",
      "\n"
     ]
    }
   ],
   "source": [
    "osclient.show_indexes()"
   ]
  },
  {
   "cell_type": "code",
   "execution_count": 5,
   "id": "1fd4a934-5473-4c23-93c8-e467353f66bc",
   "metadata": {},
   "outputs": [],
   "source": [
    "data_path = '/home/elastic/notebooks/vector_search_applications/data/podcast_transcripts/fivethirtyeight/five_with_vectors.json'"
   ]
  },
  {
   "cell_type": "code",
   "execution_count": 6,
   "id": "15b39793-9000-46a8-8288-97643efec4ee",
   "metadata": {},
   "outputs": [],
   "source": [
    "def json_data_loader(file_path: str):\n",
    "    with open(file_path) as f:\n",
    "        data = json.loads(f.read())\n",
    "    return data"
   ]
  },
  {
   "cell_type": "code",
   "execution_count": 7,
   "id": "c827caf0-1961-4ea5-8a79-07e77a193314",
   "metadata": {},
   "outputs": [],
   "source": [
    "data = json_data_loader(data_path)\n",
    "len(data)\n",
    "for d in data:\n",
    "    d['content_embedding'] = d['vector']\n",
    "    del d['vector']"
   ]
  },
  {
   "cell_type": "code",
   "execution_count": 18,
   "id": "aa025d98-9ee3-4fd6-addd-8d17a55df51e",
   "metadata": {},
   "outputs": [
    {
     "data": {
      "text/plain": [
       "['content',\n",
       " 'group_id',\n",
       " 'show_link',\n",
       " 'video_id',\n",
       " 'playlist_id',\n",
       " 'channel_id',\n",
       " 'description',\n",
       " 'keywords',\n",
       " 'length',\n",
       " 'publish_date',\n",
       " 'thumbnail_url',\n",
       " 'title',\n",
       " 'views',\n",
       " 'content_embedding']"
      ]
     },
     "execution_count": 18,
     "metadata": {},
     "output_type": "execute_result"
    }
   ],
   "source": [
    "list(data[0].keys())"
   ]
  },
  {
   "cell_type": "markdown",
   "id": "302db923-940b-4ebc-b6c3-7ecc0b68af6e",
   "metadata": {},
   "source": [
    "### KW Indexing"
   ]
  },
  {
   "cell_type": "code",
   "execution_count": 8,
   "id": "e21c8df4-3f07-48c9-b0bb-8d9296b6625e",
   "metadata": {},
   "outputs": [
    {
     "data": {
      "text/plain": [
       "{'settings': {'number_of_shards': 3,\n",
       "  'refresh_interval': '30s',\n",
       "  'index': {'knn': False}},\n",
       " 'mappings': {'properties': {'title': {'type': 'text', 'index': 'true'},\n",
       "   'group_id': {'type': 'short', 'index': 'false'},\n",
       "   'video_id': {'type': 'keyword', 'index': 'false'},\n",
       "   'playlist_id': {'type': 'keyword', 'index': 'false'},\n",
       "   'episode_url': {'type': 'keyword', 'index': 'false'},\n",
       "   'description': {'type': 'text', 'index': 'true'},\n",
       "   'length': {'type': 'long', 'index': 'false'},\n",
       "   'publish_date': {'type': 'keyword', 'index': 'false'},\n",
       "   'views': {'type': 'long', 'index': 'false'},\n",
       "   'thumbnail_url': {'type': 'keyword', 'index': 'false'},\n",
       "   'content': {'type': 'text', 'index': 'true'}}}}"
      ]
     },
     "execution_count": 8,
     "metadata": {},
     "output_type": "execute_result"
    }
   ],
   "source": [
    "index_name = \"kw-538-testrun\"\n",
    "youtube_body"
   ]
  },
  {
   "cell_type": "code",
   "execution_count": 10,
   "id": "8d25730b-e6bb-4709-a79c-c2f7c55b592a",
   "metadata": {},
   "outputs": [
    {
     "name": "stderr",
     "output_type": "stream",
     "text": [
      "\u001b[32m2023-09-07 23:21:13.770\u001b[0m | \u001b[1mINFO    \u001b[0m | \u001b[36mopensearch_interface\u001b[0m:\u001b[36mdocument_indexer\u001b[0m:\u001b[36m206\u001b[0m - \u001b[1mThe ** kw-538-testrun ** index was created\u001b[0m\n",
      "\u001b[32m2023-09-07 23:21:13.771\u001b[0m | \u001b[1mINFO    \u001b[0m | \u001b[36mopensearch_interface\u001b[0m:\u001b[36mdocument_indexer\u001b[0m:\u001b[36m217\u001b[0m - \u001b[1mThe # of documents to be indexed = 284\u001b[0m\n"
     ]
    }
   ],
   "source": [
    "osclient.document_indexer(index_name=index_name, data=data, body_template=youtube_body)"
   ]
  },
  {
   "cell_type": "code",
   "execution_count": 9,
   "id": "49eabfba-b5c0-47a2-bed8-36f57cc251b1",
   "metadata": {},
   "outputs": [
    {
     "data": {
      "text/plain": [
       "{'acknowledged': True}"
      ]
     },
     "execution_count": 9,
     "metadata": {},
     "output_type": "execute_result"
    }
   ],
   "source": [
    "osclient.indices.delete(index_name)"
   ]
  },
  {
   "cell_type": "code",
   "execution_count": 11,
   "id": "26411860-fcc0-421e-b9da-80a79315aa45",
   "metadata": {},
   "outputs": [
    {
     "data": {
      "text/plain": [
       "{'_shards': {'total': 6, 'successful': 3, 'failed': 0}}"
      ]
     },
     "execution_count": 11,
     "metadata": {},
     "output_type": "execute_result"
    }
   ],
   "source": [
    "osclient.indices.refresh(index=index_name)"
   ]
  },
  {
   "cell_type": "code",
   "execution_count": 12,
   "id": "19268f03-f5f6-45cd-83f6-156e75b2bd4e",
   "metadata": {},
   "outputs": [
    {
     "name": "stdout",
     "output_type": "stream",
     "text": [
      "health status index                        uuid                   pri rep docs.count docs.deleted store.size pri.store.size\n",
      "yellow open   kw-538-testrun               Wam6NsdMR7K5lE8N8ZBTRQ   3   1        284            0    351.1kb        351.1kb\n",
      "green  open   .opensearch-observability    nN299E0QS9OvsRh_UcbJVQ   1   0          0            0       208b           208b\n",
      "yellow open   .plugins-ml-config           IEeXrm-DRiOMm2qzo7PbqA   1   1          1            0      3.9kb          3.9kb\n",
      "yellow open   test-kw-index                6EF4Q2xDT9Gz1wua5a2IpQ   3   1        158            0      5.6mb          5.6mb\n",
      "yellow open   kw-full                      uNhdaqbnRVuyJci_L1Om8Q   3   1       6678            0     12.1mb         12.1mb\n",
      "yellow open   semantic-full                ydvbifM0Rcu0DBz-rjCHzQ   3   1       6678            0     74.2mb         74.2mb\n",
      "yellow open   security-auditlog-2023.09.04 ApPSasK0S7CadlbWroBRYA   1   1        908            0      1.7mb          1.7mb\n",
      "yellow open   security-auditlog-2023.09.05 W9W4NIEZSkGYgLOkM5l_5g   1   1        865            0      1.8mb          1.8mb\n",
      "yellow open   security-auditlog-2023.09.06 EdqJ2NoXS-GBQl-p4UxtkA   1   1       1704            0      3.4mb          3.4mb\n",
      "yellow open   security-auditlog-2023.09.07 xNCCGTZMTzCrRbmRwsrz0g   1   1       1720            0      3.5mb          3.5mb\n",
      "green  open   .opendistro_security         _QeSqO4CQN2IU8VpE9hnPw   1   0         10            0     75.6kb         75.6kb\n",
      "\n"
     ]
    }
   ],
   "source": [
    "osclient.show_indexes()"
   ]
  },
  {
   "cell_type": "code",
   "execution_count": 13,
   "id": "db94e029-f0e2-448a-9a09-b92bffc7fa50",
   "metadata": {},
   "outputs": [
    {
     "data": {
      "text/plain": [
       "[{'epoch': '1694128901', 'timestamp': '23:21:41', 'count': '284'}]"
      ]
     },
     "execution_count": 13,
     "metadata": {},
     "output_type": "execute_result"
    }
   ],
   "source": [
    "osclient.cat.count(index=index_name, format=\"json\")"
   ]
  },
  {
   "cell_type": "code",
   "execution_count": 19,
   "id": "604f7ea4-5468-4d29-8082-f9b70220bd81",
   "metadata": {},
   "outputs": [],
   "source": [
    "def keyword_search(query: str, index: str, size: int=10, return_raw: bool=False):\n",
    "    body = {\n",
    "            \"_source\": ['content','group_id','show_link','video_id','length','publish_date','thumbnail_url','title','views'], \n",
    "            \"size\": size,\n",
    "            \"query\": {\n",
    "                \"bool\": {\n",
    "                    \"must\": {\n",
    "                        \"match\": {\"content\": query,}\n",
    "                            },\n",
    "                        \"filter\": {\"bool\": {\"must_not\": {\"match_phrase\": {\"content\": \"Vishal\"}}}},\n",
    "                    },\n",
    "                },            \n",
    "            }\n",
    "    response = osclient.search(body=body, index=index)\n",
    "    if return_raw: \n",
    "        return response \n",
    "    else: return response['hits']['hits']"
   ]
  },
  {
   "cell_type": "code",
   "execution_count": 21,
   "id": "e9fcc682-43e7-45a5-9d16-0b4c415d4432",
   "metadata": {},
   "outputs": [],
   "source": [
    "query = \"Does trump have support in iowa\""
   ]
  },
  {
   "cell_type": "code",
   "execution_count": 23,
   "id": "2041a312-8ce7-408e-9e3c-682acbdbfd0a",
   "metadata": {},
   "outputs": [],
   "source": [
    "# osclient.keyword_search(query, index=index_name)"
   ]
  },
  {
   "cell_type": "code",
   "execution_count": 25,
   "id": "e7ba2ee9-6483-46e2-bd60-4a803cf31ebe",
   "metadata": {},
   "outputs": [
    {
     "data": {
      "text/plain": [
       "{'kw-538-testrun': {'mappings': {'properties': {'channel_id': {'type': 'text',\n",
       "     'fields': {'keyword': {'type': 'keyword', 'ignore_above': 256}}},\n",
       "    'content': {'type': 'text'},\n",
       "    'description': {'type': 'text'},\n",
       "    'episode_url': {'type': 'keyword', 'index': False},\n",
       "    'group_id': {'type': 'short', 'index': False},\n",
       "    'length': {'type': 'long', 'index': False},\n",
       "    'playlist_id': {'type': 'keyword', 'index': False},\n",
       "    'publish_date': {'type': 'keyword', 'index': False},\n",
       "    'show_link': {'type': 'text',\n",
       "     'fields': {'keyword': {'type': 'keyword', 'ignore_above': 256}}},\n",
       "    'thumbnail_url': {'type': 'keyword', 'index': False},\n",
       "    'title': {'type': 'text'},\n",
       "    'video_id': {'type': 'keyword', 'index': False},\n",
       "    'views': {'type': 'long', 'index': False}}}}}"
      ]
     },
     "execution_count": 25,
     "metadata": {},
     "output_type": "execute_result"
    }
   ],
   "source": [
    "osclient.indices.get_mapping(index=index_name)"
   ]
  },
  {
   "cell_type": "markdown",
   "id": "41749354-0003-41ce-8476-b904ed073c75",
   "metadata": {},
   "source": [
    "### Semantic Indexing"
   ]
  },
  {
   "cell_type": "code",
   "execution_count": 26,
   "id": "a7b435c9-2204-4bfc-9a24-d2c96d4cc727",
   "metadata": {},
   "outputs": [],
   "source": [
    "#upload data\n",
    "utils = Utilities()"
   ]
  },
  {
   "cell_type": "code",
   "execution_count": 62,
   "id": "bca84c43-201c-48ba-832e-bac9fe6854a3",
   "metadata": {},
   "outputs": [],
   "source": [
    "path = '/home/elastic/notebooks/vector_search_applications/data/podcast_transcripts/fivethirtyeight/'"
   ]
  },
  {
   "cell_type": "code",
   "execution_count": 74,
   "id": "6494e574-b192-41e7-a77a-45c6eedf97b4",
   "metadata": {},
   "outputs": [],
   "source": [
    "# data = utils.json_data_loader(path)\n",
    "# #be sure to change vector field name to \"content_embedding\"\n",
    "# # [d.update(content_embedding=d['vector']) for d in data]\n",
    "# # for d in data:\n",
    "# #     del d['vector']"
   ]
  },
  {
   "cell_type": "code",
   "execution_count": 27,
   "id": "0c4fec33-67e1-4860-9182-e78deacfc293",
   "metadata": {},
   "outputs": [],
   "source": [
    "sem_index = 'semantic-538-testrun'\n",
    "model = SentenceTransformer('all-minilm-l6-v2')\n",
    "# osclient.indices.delete(sem_index)"
   ]
  },
  {
   "cell_type": "code",
   "execution_count": 29,
   "id": "064e31f9-5525-4539-94ae-d83fd8430e32",
   "metadata": {},
   "outputs": [
    {
     "data": {
      "text/plain": [
       "{'acknowledged': True}"
      ]
     },
     "execution_count": 29,
     "metadata": {},
     "output_type": "execute_result"
    }
   ],
   "source": [
    "osclient.indices.delete(sem_index)"
   ]
  },
  {
   "cell_type": "code",
   "execution_count": 30,
   "id": "896f357e-bc68-4443-9781-51bbd51cc3da",
   "metadata": {},
   "outputs": [
    {
     "name": "stderr",
     "output_type": "stream",
     "text": [
      "\u001b[32m2023-09-07 23:33:02.450\u001b[0m | \u001b[1mINFO    \u001b[0m | \u001b[36mopensearch_interface\u001b[0m:\u001b[36mdocument_indexer\u001b[0m:\u001b[36m206\u001b[0m - \u001b[1mThe ** semantic-538-testrun ** index was created\u001b[0m\n",
      "\u001b[32m2023-09-07 23:33:02.451\u001b[0m | \u001b[1mINFO    \u001b[0m | \u001b[36mopensearch_interface\u001b[0m:\u001b[36mdocument_indexer\u001b[0m:\u001b[36m217\u001b[0m - \u001b[1mThe # of documents to be indexed = 284\u001b[0m\n"
     ]
    }
   ],
   "source": [
    "osclient.document_indexer(index_name=sem_index, data=data, body_template=youtube_body, semantic_index=True)"
   ]
  },
  {
   "cell_type": "code",
   "execution_count": 159,
   "id": "25ad550c-5562-42c7-9d11-01176d1c959a",
   "metadata": {},
   "outputs": [],
   "source": [
    "def vector_search(query: str, \n",
    "                  index: str, \n",
    "                  model: Union[str, SentenceTransformer], \n",
    "                  size: int=10,\n",
    "                  k: int=10,\n",
    "                  return_raw: bool=False\n",
    "                  ) -> Dict[str,str]:\n",
    "    if isinstance(model, SentenceTransformer):\n",
    "        query_embedding = model.encode(query).tolist()\n",
    "\n",
    "    body={  \"_source\": ['title', 'episode_id', 'group_id', 'episode_num', 'episode_url', 'mp3_url', 'content'],\n",
    "            \"size\": size,\n",
    "            \"query\": \n",
    "               {\"knn\": {\"content_embedding\": {\"vector\": query_embedding, \"k\": k}}},\n",
    "         }\n",
    "    response = osclient.search(body=body, index=index)\n",
    "    if return_raw: \n",
    "        return response \n",
    "    else: return response['hits']['hits']"
   ]
  },
  {
   "cell_type": "code",
   "execution_count": 73,
   "id": "b65b6f16-d5cf-4f00-ae77-ec9ab64ad86a",
   "metadata": {},
   "outputs": [],
   "source": [
    "query = 'which color to assign the state of ohio'"
   ]
  },
  {
   "cell_type": "code",
   "execution_count": 68,
   "id": "afc4fe5a-8e27-4c4f-8a03-999b091f79b2",
   "metadata": {},
   "outputs": [],
   "source": [
    "response = osclient.vector_search(query, sem_index, model)"
   ]
  },
  {
   "cell_type": "markdown",
   "id": "9ce3f197-3d29-41a7-af09-52cfb51eed70",
   "metadata": {},
   "source": [
    "### Reranking + Hybrid Search"
   ]
  },
  {
   "cell_type": "code",
   "execution_count": 50,
   "id": "869c539f-3eae-4f33-a89b-6d1f0feabdca",
   "metadata": {},
   "outputs": [],
   "source": [
    "reranker = ReRanker()"
   ]
  },
  {
   "cell_type": "code",
   "execution_count": 74,
   "id": "6362334a-bb79-46c3-8be8-c5361faa842d",
   "metadata": {},
   "outputs": [],
   "source": [
    "hybrid = osclient.hybrid_search(query, kw_index='kw-538-testrun', vec_index=sem_index, model=model)\n",
    "final = reranker.rerank(hybrid, query, top_k=20)"
   ]
  },
  {
   "cell_type": "code",
   "execution_count": 71,
   "id": "4026e40a-f37f-4fdb-ae93-7e6fe2f2c74d",
   "metadata": {},
   "outputs": [],
   "source": [
    "def cleanup(results: List[dict]) -> List[dict]:\n",
    "    final_results = []\n",
    "    unique_ids = set()\n",
    "    for res in results:\n",
    "        unique_id = f\"{res['_source']['group_id']}-{res['_source']['video_id']}\"\n",
    "        if unique_id in unique_ids:\n",
    "            continue\n",
    "        else: \n",
    "            unique_ids.add(unique_id)\n",
    "            final_results.append(res)\n",
    "    return final_results"
   ]
  },
  {
   "cell_type": "code",
   "execution_count": 79,
   "id": "6c274a90-fdb1-4ed0-a2c0-fe7604ed19a5",
   "metadata": {},
   "outputs": [],
   "source": [
    "final = cleanup(final)"
   ]
  },
  {
   "cell_type": "code",
   "execution_count": 80,
   "id": "8bb3ef0a-d75b-4e6f-ba19-8a5b4c8d146d",
   "metadata": {},
   "outputs": [],
   "source": [
    "def display_results(results: List[dict], threshhold: float=0.0, include_indexes: bool=False):\n",
    "    filtered = [r for r in results if r['cross_score'] > threshhold]\n",
    "    if include_indexes:\n",
    "        indices = [d['_index'] for d in filtered]\n",
    "        return filtered, indices\n",
    "    else: return filtered"
   ]
  },
  {
   "cell_type": "code",
   "execution_count": 84,
   "id": "c8a531e0-76d2-4b64-a689-2b2393c69dda",
   "metadata": {},
   "outputs": [
    {
     "data": {
      "text/plain": [
       "([{'_index': 'kw-538-testrun',\n",
       "   '_id': 'd4nzcYoB1G4yg5ZoISM4',\n",
       "   '_score': 6.8077273,\n",
       "   '_source': {'group_id': 2,\n",
       "    'show_link': 'https://www.youtube.com/watch?v=0H9CfT351U0&list=PLAiITlQWhsRTcIw_C4SHr0y_WqogzR8lR',\n",
       "    'length': 3849,\n",
       "    'thumbnail_url': 'https://i.ytimg.com/vi/0H9CfT351U0/hq720.jpg',\n",
       "    'title': 'Who Is The Likeliest GOP VP Candidate?',\n",
       "    'publish_date': '08/14/2023',\n",
       "    'content': \"I think we can probably call Ohio a red state at this point, although I got a Politico alert earlier today saying that the Biden campaign suggested that both North Carolina and Ohio were in play for them in 2024. They can say what they want. We will find out. Either way, abortion rights advocates notched a win in Ohio. Last Tuesday, Ohioans voted by a 14-point margin not to raise the threshold to amend the Constitution to a 60% supermajority. Instead, it will remain a simple majority, making it likelier that Ohioans will pass an amendment to codify abortion rights into the state constitution this November. Most of the post-election analysis concluded that abortion is a major driver of turnout in elections now. And it's hard to deny that in some of these otherwise low-turnout environments, like an issue election in early August, that's the case. But should we apply these lessons to high-turnout elections as well? Like, say, the 2024 presidential election?\",\n",
       "    'views': 42965,\n",
       "    'video_id': '0H9CfT351U0'},\n",
       "   'cross_score': -3.1458778},\n",
       "  {'_index': 'kw-538-testrun',\n",
       "   '_id': 'e4nzcYoB1G4yg5ZoISM4',\n",
       "   '_score': 5.9212255,\n",
       "   '_source': {'group_id': 6,\n",
       "    'show_link': 'https://www.youtube.com/watch?v=0H9CfT351U0&list=PLAiITlQWhsRTcIw_C4SHr0y_WqogzR8lR',\n",
       "    'length': 3849,\n",
       "    'thumbnail_url': 'https://i.ytimg.com/vi/0H9CfT351U0/hq720.jpg',\n",
       "    'title': 'Who Is The Likeliest GOP VP Candidate?',\n",
       "    'publish_date': '08/14/2023',\n",
       "    'content': \"Politico, abortion still a serious turnout driver. Tuesday's election proved that the state-by-state battle over abortion rights is still a serious motivator to get voters to the polls, even when abortion isn't directly on the ballot. CNN, the results underscore the new political reality, one that's been repeatedly demonstrated in both blue and red states. Since the Supreme Court's reversal of Roe v. Wade last year, abortion rights are a major driving force. Okay, you get the point. At this point, I'm sure there are other outlets that wrote the same story as well. So, first and foremost, Amelia, you know, is this a good or bad use of polling? And by polling, I mean the results at the polls in Ohio. Can I be a real pedant? Because it's Friday.\",\n",
       "    'views': 42965,\n",
       "    'video_id': '0H9CfT351U0'},\n",
       "   'cross_score': -6.261993},\n",
       "  {'_index': 'kw-538-testrun',\n",
       "   '_id': '0YnzcYoB1G4yg5ZoISM4',\n",
       "   '_score': 6.608055,\n",
       "   '_source': {'group_id': 11,\n",
       "    'show_link': 'https://www.youtube.com/watch?v=ShEK9YEZ45Y&list=PLAiITlQWhsRTcIw_C4SHr0y_WqogzR8lR',\n",
       "    'length': 3551,\n",
       "    'thumbnail_url': 'https://i.ytimg.com/vi/ShEK9YEZ45Y/hq720.jpg',\n",
       "    'title': \"The 2024 Election According To The Country's Best Pollster\",\n",
       "    'publish_date': '08/07/2023',\n",
       "    'content': \"Is that fair to say, based on what you've looked at? Yeah, I think so. So, you know, we have talked, you know, Amelia's talked on the podcast, for example, like, you know, about public opinion after the Dobbs decision and stuff. And, you know, in most states, there are really only a few, like, really hardcore conservative states where a majority of voters want abortion to be illegal most of the time. So in general, right, abortion rights, at least up to a point, is popular and, you know, I think would pass by popular referendum. Just look at like Michigan, for example, or even in Kansas, obviously a redder state than Ohio. We had that ballot measure basically, I think it's like a month after the Dobbs decision, where that ballot measure was the opposite of what Ohio's and Michigan's are, which is that that abortion or that measure would have basically banned abortion in Kansas. The status quo was that it was allowed in Ohio and that the status quo is that it is severely restricted. And this amendment would would expand the rights. But, yeah, obviously, you know, I quoted that polling average a couple of minutes ago.\",\n",
       "    'views': 75175,\n",
       "    'video_id': 'ShEK9YEZ45Y'},\n",
       "   'cross_score': -9.583239},\n",
       "  {'_index': 'semantic-538-testrun',\n",
       "   '_id': '8Yn9cYoB1G4yg5Zo8SXR',\n",
       "   '_score': 0.40990278,\n",
       "   '_source': {'group_id': 55,\n",
       "    'show_link': 'https://www.youtube.com/watch?v=0H9CfT351U0&list=PLAiITlQWhsRTcIw_C4SHr0y_WqogzR8lR',\n",
       "    'length': 3849,\n",
       "    'thumbnail_url': 'https://i.ytimg.com/vi/0H9CfT351U0/hq720.jpg',\n",
       "    'title': 'Who Is The Likeliest GOP VP Candidate?',\n",
       "    'publish_date': '08/14/2023',\n",
       "    'content': \"Look, there's still people confusing Ohio and Iowa as swing states. So it's going to have more swing state sort of credibility maybe than we think. Oh, the other pick. Yeah, so Reynolds clearly would not be someone who is sort of a loyalist type, which is also maybe another benefit with picking her. So what if I go with somebody who's a little out there but is a woman in high up in Republican leadership in Washington, Elise Stefanik? Yes, that's who I'm going to pick. Yeah, this one is so hard. I saw her when we were prepping. When I was prepping, I saw her on some lists. Man, I don't know.\",\n",
       "    'views': 42965,\n",
       "    'video_id': '0H9CfT351U0'},\n",
       "   'cross_score': -9.668108},\n",
       "  {'_index': 'semantic-538-testrun',\n",
       "   '_id': 'DYn9cYoB1G4yg5Zo8SbR',\n",
       "   '_score': 0.44413227,\n",
       "   '_source': {'group_id': 2,\n",
       "    'show_link': 'https://www.youtube.com/watch?v=ShEK9YEZ45Y&list=PLAiITlQWhsRTcIw_C4SHr0y_WqogzR8lR',\n",
       "    'length': 3551,\n",
       "    'thumbnail_url': 'https://i.ytimg.com/vi/ShEK9YEZ45Y/hq720.jpg',\n",
       "    'title': \"The 2024 Election According To The Country's Best Pollster\",\n",
       "    'publish_date': '08/07/2023',\n",
       "    'content': \"The initiative would also expand the signature requirements for getting an amendment on the ballot in the first place. It's a technical question, but it's attracted tens of millions in spending. And if you watched the ads on both sides, you'd think it was really about culture war issues. And that's because by proxy it is. In November, Ohioans will vote on whether to codify abortion rights into the state constitution. But if Tuesday's ballot measure passes, it would in turn make that amendment less likely to pass. So we're going to take a look at where the race stands and the broader trends of ballot measures like this. Also today, we're going to dig into The New York Times first polling of the 2024 primary and general election. Their surveys with Siena College during the 2022 midterms earned them the distinction of the best pollster in the country in our ratings. At this point, their early data suggests that Trump is far outpacing his rivals in the primary and is tied with President Biden in general election polling.\",\n",
       "    'views': 75175,\n",
       "    'video_id': 'ShEK9YEZ45Y'},\n",
       "   'cross_score': -9.8006315},\n",
       "  {'_index': 'kw-538-testrun',\n",
       "   '_id': 'fYnzcYoB1G4yg5ZoISM4',\n",
       "   '_score': 7.212794,\n",
       "   '_source': {'group_id': 8,\n",
       "    'show_link': 'https://www.youtube.com/watch?v=0H9CfT351U0&list=PLAiITlQWhsRTcIw_C4SHr0y_WqogzR8lR',\n",
       "    'length': 3849,\n",
       "    'thumbnail_url': 'https://i.ytimg.com/vi/0H9CfT351U0/hq720.jpg',\n",
       "    'title': 'Who Is The Likeliest GOP VP Candidate?',\n",
       "    'publish_date': '08/14/2023',\n",
       "    'content': \"There was some stuff on the left about democracy as well and how the GOP was trying to make it harder for citizens to pass ballot information. It was hard for citizens to pass ballot initiatives. But this was driven by abortion. And one of the big lessons that we saw out of the 2022 midterms that I don't, I haven't seen evidence to think has changed is that when people are voting directly on abortion's legality in their state, that makes a big difference. So, you know, I think this will be a really big issue in Ohio for the next few months as we move toward the ballot measure. I think we can expect abortion to be a motivating issue for Ohio voters in 2023. But then there's a question of like, is abortion going to be a motivating issue in 2024 when there's a competitive Senate race in Ohio? And I'm not so sure because people already will have turned out to vote on abortion in their state and abortion may be protected under the state constitution as a result, making them feel less urgency around the issue. So that's my very pedantic, both good and bad response. No, I think that was just a solid response.\",\n",
       "    'views': 42965,\n",
       "    'video_id': '0H9CfT351U0'},\n",
       "   'cross_score': -9.959446}],\n",
       " ['kw-538-testrun',\n",
       "  'kw-538-testrun',\n",
       "  'kw-538-testrun',\n",
       "  'semantic-538-testrun',\n",
       "  'semantic-538-testrun',\n",
       "  'kw-538-testrun'])"
      ]
     },
     "execution_count": 84,
     "metadata": {},
     "output_type": "execute_result"
    }
   ],
   "source": [
    "display_results(final, threshhold=-10, include_indexes=True)"
   ]
  },
  {
   "cell_type": "code",
   "execution_count": null,
   "id": "e3903cdc-ab85-44a2-8691-ce5170cf4c42",
   "metadata": {},
   "outputs": [],
   "source": []
  }
 ],
 "metadata": {
  "kernelspec": {
   "display_name": "openai",
   "language": "python",
   "name": "openai"
  },
  "language_info": {
   "codemirror_mode": {
    "name": "ipython",
    "version": 3
   },
   "file_extension": ".py",
   "mimetype": "text/x-python",
   "name": "python",
   "nbconvert_exporter": "python",
   "pygments_lexer": "ipython3",
   "version": "3.9.17"
  }
 },
 "nbformat": 4,
 "nbformat_minor": 5
}
