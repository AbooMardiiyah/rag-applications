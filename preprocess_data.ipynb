{
 "cells": [
  {
   "cell_type": "code",
   "execution_count": 4,
   "id": "55fee1de-8ee9-4572-95de-18bcc4205fe9",
   "metadata": {},
   "outputs": [
    {
     "name": "stdout",
     "output_type": "stream",
     "text": [
      "The autoreload extension is already loaded. To reload it, use:\n",
      "  %reload_ext autoreload\n"
     ]
    }
   ],
   "source": [
    "%load_ext autoreload \n",
    "%autoreload 2\n",
    "\n",
    "from preprocessing import Utilities, Vectorizor\n",
    "utils = Utilities()\n",
    "from concurrent.futures import ProcessPoolExecutor, as_completed\n",
    "from typing import List\n",
    "from math import ceil\n",
    "from tqdm import tqdm\n",
    "import pandas as pd\n",
    "import openai\n",
    "from tiktoken_functions import Tokenizer\n",
    "import json\n",
    "import os"
   ]
  },
  {
   "cell_type": "code",
   "execution_count": 3,
   "id": "430caa9e-5b69-422b-915f-3fa5107a1709",
   "metadata": {},
   "outputs": [],
   "source": [
    "# path1 = '/home/elastic/notebooks/vector_search_applications/data/podcast_transcripts/SiliconValleyInsider/chunk-docs-1_79.json'\n",
    "# path2 = '/home/elastic/notebooks/vector_search_applications/data/podcast_transcripts/SiliconValleyInsider/chunk-docs-80_158.json'\n",
    "path = '/home/elastic/notebooks/vector_search_applications/data/podcast_transcripts/fivethirtyeight/combined.json'"
   ]
  },
  {
   "cell_type": "code",
   "execution_count": 5,
   "id": "92123c90-a222-4d2c-8777-0c393e0a9ae3",
   "metadata": {},
   "outputs": [
    {
     "data": {
      "text/plain": [
       "5"
      ]
     },
     "execution_count": 5,
     "metadata": {},
     "output_type": "execute_result"
    }
   ],
   "source": [
    "combined = utils.json_data_loader(path)# data1 = json_data_loader(file_path=path1)\n",
    "# data2 = json_data_loader(file_path=path2)\n",
    "# combined = data1 + data2\n",
    "len(combined)"
   ]
  },
  {
   "cell_type": "code",
   "execution_count": 10,
   "id": "35258b23-75c8-4bfa-8540-9f15185389e5",
   "metadata": {},
   "outputs": [],
   "source": [
    "def sentence_grouper(sentences: List[str], group_length: int, add_group_id: bool=True) -> List[dict]:\n",
    "    sentence_groups = []\n",
    "    groups = ceil(len(sentences)/group_length)\n",
    "    for i in range(0,groups):\n",
    "        start = i*group_length\n",
    "        end = start + group_length\n",
    "        group = ' '.join(sentences[start:end])\n",
    "        group_dict = {'content': group}\n",
    "        if add_group_id:\n",
    "            group_dict['group_id'] = i + 1\n",
    "        sentence_groups.append(group_dict)\n",
    "    return sentence_groups"
   ]
  },
  {
   "cell_type": "code",
   "execution_count": 18,
   "id": "0179c092-50cd-401d-9e83-261faa77f1a3",
   "metadata": {},
   "outputs": [],
   "source": [
    "def extract_group_load(data: dict, \n",
    "                       group_length: int, \n",
    "                       add_group_id: bool=True,\n",
    "                       capture_fields: List[str]=None\n",
    "                      ) -> List[dict]:\n",
    "    content = data['content']\n",
    "    sentences = utils.sentence_splitter(content)\n",
    "    groups = sentence_grouper(sentences, group_length=group_length, add_group_id=add_group_id)\n",
    "    for group in groups:\n",
    "        if capture_fields:\n",
    "            for k in capture_fields:\n",
    "                group[k] = data[k]\n",
    "        else: \n",
    "            for k in data:\n",
    "                if k != 'content':\n",
    "                    group[k] = data[k]\n",
    "    return groups"
   ]
  },
  {
   "cell_type": "code",
   "execution_count": 19,
   "id": "0e3954d7-2273-4c42-a75e-42cf400de89f",
   "metadata": {},
   "outputs": [],
   "source": [
    "def mp_sentence_grouper(data: List[dict],\n",
    "                        group_length: int,\n",
    "                        add_group_id: bool=True\n",
    "                        ) -> List[dict]:\n",
    "    progress = tqdm(unit=\": Text Chunks\", total=len(data))\n",
    "    count = 0\n",
    "    results = []\n",
    "    with ProcessPoolExecutor(max_workers=os.cpu_count()) as executor:\n",
    "        futures = [executor.submit(extract_group_load, d, group_length, add_group_id) for d in data]\n",
    "        for future in as_completed(futures):\n",
    "            results.append(future.result())\n",
    "            progress.update(1)        \n",
    "    flattened_results = [d for alist in results for d in alist]\n",
    "    return flattened_results"
   ]
  },
  {
   "cell_type": "code",
   "execution_count": 20,
   "id": "0d354722-6b6a-4e28-8d35-dd8c5ae2cafb",
   "metadata": {},
   "outputs": [
    {
     "name": "stderr",
     "output_type": "stream",
     "text": [
      "\n",
      "100%|█████████████████████████████████████████████████████████████████████████████████████████████████████| 5/5 [00:00<00:00, 51.49: Text Chunks/s]\u001b[A"
     ]
    },
    {
     "name": "stdout",
     "output_type": "stream",
     "text": [
      "CPU times: user 13.1 ms, sys: 52.7 ms, total: 65.8 ms\n",
      "Wall time: 102 ms\n"
     ]
    },
    {
     "name": "stderr",
     "output_type": "stream",
     "text": [
      "\n"
     ]
    }
   ],
   "source": [
    "%%time\n",
    "results = mp_sentence_grouper(combined, group_length=10)"
   ]
  },
  {
   "cell_type": "code",
   "execution_count": 37,
   "id": "fa141f80-633d-47fa-84f3-cee7494f3ec2",
   "metadata": {},
   "outputs": [
    {
     "data": {
      "text/plain": [
       "[{'content': \"Hello, and welcome to the FiveThirtyEight Politics Podcast. I'm Galen Druk. Game time for the Republican presidential primary begins in earnest this week. The first debate is being held in Milwaukee on Wednesday, and it marks the beginning of a five-month countdown to the Iowa caucuses, during which there will be monthly debates, nonstop campaigning, and a likely winnowing of the field. As summer winds down and voters train more of their attention on the primary, we'll also see whether any of the candidates are able to take former President Trump down a peg. He currently leads our national polling average with 54% support, and at the time of this recording, reporting has just come out suggesting that Trump is going to skip the debate in favor of an interview with Tucker Carlson. As an aside, we're recording this on Friday because I'm going to be running around Milwaukee on Monday. But in any case, while this may be when the nation begins to tune in, folks in the early states have been tuning in, either by choice or because of multi-million dollar ad spending, for months. And so today, in preparation for the months ahead, we're going to take in the view from the early states. And to do that, I've asked a few local reporters to join me.\",\n",
       "  'group_id': 1,\n",
       "  'show_link': 'https://www.youtube.com/watch?v=Kqnnvpfqxt0&list=PLAiITlQWhsRTcIw_C4SHr0y_WqogzR8lR',\n",
       "  'video_id': 'Kqnnvpfqxt0',\n",
       "  'playlist_id': 'PLAiITlQWhsRTcIw_C4SHr0y_WqogzR8lR',\n",
       "  'channel_id': 'UCXKjhxsfFQUqlNVQzLVnpEA',\n",
       "  'description': 'No description provided',\n",
       "  'keywords': [],\n",
       "  'length': 1715,\n",
       "  'publish_date': '08/21/2023',\n",
       "  'thumbnail_url': 'https://i.ytimg.com/vi/Kqnnvpfqxt0/hq720.jpg',\n",
       "  'title': 'What The GOP Primary Looks Like In The Early States',\n",
       "  'views': 21352},\n",
       " {'content': 'Going in primary state order is Katie Aiken, political reporter at the Des Moines Register. Welcome to the podcast. Hey, happy to be here. Next is Josh Rogers, senior political reporter at New Hampshire Public Radio. Likewise, welcome, Josh. Thank you. And Joseph Bustos, politics reporter at The State in Columbia, South Carolina. Welcome. Thanks for having me. So in addition to taking in the view from the early states, we are also going to later on in the podcast play our second ever installment of guess which candidate said this.',\n",
       "  'group_id': 2,\n",
       "  'show_link': 'https://www.youtube.com/watch?v=Kqnnvpfqxt0&list=PLAiITlQWhsRTcIw_C4SHr0y_WqogzR8lR',\n",
       "  'video_id': 'Kqnnvpfqxt0',\n",
       "  'playlist_id': 'PLAiITlQWhsRTcIw_C4SHr0y_WqogzR8lR',\n",
       "  'channel_id': 'UCXKjhxsfFQUqlNVQzLVnpEA',\n",
       "  'description': 'No description provided',\n",
       "  'keywords': [],\n",
       "  'length': 1715,\n",
       "  'publish_date': '08/21/2023',\n",
       "  'thumbnail_url': 'https://i.ytimg.com/vi/Kqnnvpfqxt0/hq720.jpg',\n",
       "  'title': 'What The GOP Primary Looks Like In The Early States',\n",
       "  'views': 21352},\n",
       " {'content': \"So folks get excited. But let's begin here. As I mentioned, the national polling picture has Trump leading with 54%. After that, DeSantis has 16% support, then Ramaswamy with 8%, Pence with 5%, Haley with 4%, Christie and Scott with 3% each, and then on down from there, descending to zero support for some of the candidates. But the lineups in the early states can look quite a bit different based on who's managing to connect with voters there. So Katie, let's start in Iowa. How is the picture different on the ground there? So the big thing about Iowa is that since we are the first state to caucus, you know, a lot of these candidates, especially some of the lesser known candidates, spend an incredible amount of time and money here. So I believe if this is coming out on Monday, we'll have a new Iowa poll out. So go look at that.\",\n",
       "  'group_id': 3,\n",
       "  'show_link': 'https://www.youtube.com/watch?v=Kqnnvpfqxt0&list=PLAiITlQWhsRTcIw_C4SHr0y_WqogzR8lR',\n",
       "  'video_id': 'Kqnnvpfqxt0',\n",
       "  'playlist_id': 'PLAiITlQWhsRTcIw_C4SHr0y_WqogzR8lR',\n",
       "  'channel_id': 'UCXKjhxsfFQUqlNVQzLVnpEA',\n",
       "  'description': 'No description provided',\n",
       "  'keywords': [],\n",
       "  'length': 1715,\n",
       "  'publish_date': '08/21/2023',\n",
       "  'thumbnail_url': 'https://i.ytimg.com/vi/Kqnnvpfqxt0/hq720.jpg',\n",
       "  'title': 'What The GOP Primary Looks Like In The Early States',\n",
       "  'views': 21352},\n",
       " {'content': \"I can't talk about it right now. Oh, no. Oh, no. I know. No, your timing's horrible. No, I guess I would just say that, you know, at this point, we are on alert for things to be shaken up here a little bit, just because people in Iowa have a lot more time to, you know, go out, see the candidates, get to know them. And, you know, some of the lesser known candidates have been spending a lot of time here. And honestly, some of the better known candidates have also been spending a lot of time here. I mean, DeSantis has been doing a bus tour the last couple weeks, he's had many stops in the state, and Trump just swung by the state fair. So it'll be interesting to see how Iowans respond to that attention.\",\n",
       "  'group_id': 4,\n",
       "  'show_link': 'https://www.youtube.com/watch?v=Kqnnvpfqxt0&list=PLAiITlQWhsRTcIw_C4SHr0y_WqogzR8lR',\n",
       "  'video_id': 'Kqnnvpfqxt0',\n",
       "  'playlist_id': 'PLAiITlQWhsRTcIw_C4SHr0y_WqogzR8lR',\n",
       "  'channel_id': 'UCXKjhxsfFQUqlNVQzLVnpEA',\n",
       "  'description': 'No description provided',\n",
       "  'keywords': [],\n",
       "  'length': 1715,\n",
       "  'publish_date': '08/21/2023',\n",
       "  'thumbnail_url': 'https://i.ytimg.com/vi/Kqnnvpfqxt0/hq720.jpg',\n",
       "  'title': 'What The GOP Primary Looks Like In The Early States',\n",
       "  'views': 21352},\n",
       " {'content': \"Yeah, I'm gonna put some numbers to that because we've been tracking visits to each state. So Vivek Ramaswamy is leading with Iowa visits at 26 visits, followed by Asa Hutchinson at 22 Iowa visits. Then we have Nikki Haley at 20 DeSantis at 13. Mike Pence at 12. Bergamot nine, Donald Trump at seven, and then it goes on down from there. So some folks have been spending a lot of time in Iowa. And while I know you cannot share the Des Moines Register poll with us right now, which by the way, is conducted by 538 acclaimed like best pollster in America and Seltzer queen of our hearts, champion and sells. The New York Times did do some polling there. And what it suggested was that Trump is still leading at 44%. DeSantis is doing a bit better there at 20%.\",\n",
       "  'group_id': 5,\n",
       "  'show_link': 'https://www.youtube.com/watch?v=Kqnnvpfqxt0&list=PLAiITlQWhsRTcIw_C4SHr0y_WqogzR8lR',\n",
       "  'video_id': 'Kqnnvpfqxt0',\n",
       "  'playlist_id': 'PLAiITlQWhsRTcIw_C4SHr0y_WqogzR8lR',\n",
       "  'channel_id': 'UCXKjhxsfFQUqlNVQzLVnpEA',\n",
       "  'description': 'No description provided',\n",
       "  'keywords': [],\n",
       "  'length': 1715,\n",
       "  'publish_date': '08/21/2023',\n",
       "  'thumbnail_url': 'https://i.ytimg.com/vi/Kqnnvpfqxt0/hq720.jpg',\n",
       "  'title': 'What The GOP Primary Looks Like In The Early States',\n",
       "  'views': 21352}]"
      ]
     },
     "execution_count": 37,
     "metadata": {},
     "output_type": "execute_result"
    }
   ],
   "source": [
    "results[:5]"
   ]
  },
  {
   "cell_type": "code",
   "execution_count": 26,
   "id": "a8a6fa3d-4d62-489c-8fb7-97fc3bfe4639",
   "metadata": {},
   "outputs": [],
   "source": [
    "df = pd.DataFrame.from_records(results)"
   ]
  },
  {
   "cell_type": "code",
   "execution_count": 31,
   "id": "04121933-bb4c-4afb-b8d9-4137b22dffd6",
   "metadata": {},
   "outputs": [],
   "source": [
    "def get_context(df: pd.DataFrame, \n",
    "                video_id: int, \n",
    "                group_id: int, \n",
    "                window_increment: int=1\n",
    "               ) -> str:\n",
    "    hit_index = df[(df.video_id == video_id) & (df.group_id == group_id)].index[0]\n",
    "    start = hit_index - window_increment\n",
    "    end = hit_index + window_increment\n",
    "    return ' '.join(df.loc[start:end, 'content'].values.tolist())"
   ]
  },
  {
   "cell_type": "code",
   "execution_count": 35,
   "id": "1d2f0ffc-acc4-49d4-acdf-c7fdcc25256f",
   "metadata": {},
   "outputs": [],
   "source": [
    "# get_context(df, 'R6M9djUFJ60', group_id=26, window_increment=5)"
   ]
  },
  {
   "cell_type": "markdown",
   "id": "7dd1aa8a-be90-429e-9d56-b527f9302654",
   "metadata": {},
   "source": [
    "### Vectorizing"
   ]
  },
  {
   "cell_type": "code",
   "execution_count": 38,
   "id": "6edd92f4-c23b-41c2-b687-0fce296e1c4c",
   "metadata": {},
   "outputs": [],
   "source": [
    "vectorizer = Vectorizor()"
   ]
  },
  {
   "cell_type": "code",
   "execution_count": 39,
   "id": "afd9d48c-d338-443c-b18d-0c0452d1593a",
   "metadata": {},
   "outputs": [
    {
     "name": "stderr",
     "output_type": "stream",
     "text": [
      "\n",
      "Batches:   0%|                                                                                                               | 0/9 [00:00<?, ?it/s]\u001b[A\n",
      "Batches:  11%|███████████▍                                                                                           | 1/9 [00:00<00:04,  1.92it/s]\u001b[A\n",
      "Batches:  44%|█████████████████████████████████████████████▊                                                         | 4/9 [00:00<00:00,  7.81it/s]\u001b[A\n",
      "Batches: 100%|███████████████████████████████████████████████████████████████████████████████████████████████████████| 9/9 [00:00<00:00, 12.05it/s]\u001b[A\n"
     ]
    }
   ],
   "source": [
    "docs = vectorizer.add_vector_batch(results)"
   ]
  },
  {
   "cell_type": "code",
   "execution_count": 47,
   "id": "0a14c49e-3e9b-4866-b2df-30efd0b973aa",
   "metadata": {},
   "outputs": [],
   "source": [
    "outpath = '/home/elastic/notebooks/vector_search_applications/data/podcast_transcripts/fivethirtyeight/five_with_vectors.json'"
   ]
  },
  {
   "cell_type": "code",
   "execution_count": 43,
   "id": "cc102f55-b0f6-40d2-a5ce-207f7571ff9a",
   "metadata": {},
   "outputs": [],
   "source": [
    "for d in results:\n",
    "    assert len(d['vector']) == 384"
   ]
  },
  {
   "cell_type": "code",
   "execution_count": 48,
   "id": "d5401873-2710-4f08-990d-8d27e18a9a5a",
   "metadata": {},
   "outputs": [],
   "source": [
    "with open(outpath, 'w') as json_file:\n",
    "     json.dump(docs, json_file, indent=4)"
   ]
  },
  {
   "cell_type": "code",
   "execution_count": 174,
   "id": "deb0ad07-588a-484d-845b-e8ab4d716e63",
   "metadata": {},
   "outputs": [],
   "source": [
    "texts = [d['content'] for d in docs]"
   ]
  }
 ],
 "metadata": {
  "kernelspec": {
   "display_name": "openai",
   "language": "python",
   "name": "openai"
  },
  "language_info": {
   "codemirror_mode": {
    "name": "ipython",
    "version": 3
   },
   "file_extension": ".py",
   "mimetype": "text/x-python",
   "name": "python",
   "nbconvert_exporter": "python",
   "pygments_lexer": "ipython3",
   "version": "3.9.17"
  }
 },
 "nbformat": 4,
 "nbformat_minor": 5
}
